{
 "cells": [
  {
   "cell_type": "markdown",
   "id": "1ea3ea2a",
   "metadata": {},
   "source": [
    "你可以從\n",
    "[Bookshop.org](https://bookshop.org/a/98697/9781098155438) 和\n",
    "[Amazon](https://www.amazon.com/_/dp/1098155432?smid=ATVPDKIKX0DER&_encoding=UTF8&tag=oreilly20-20&_encoding=UTF8&tag=greenteapre01-20&linkCode=ur2&linkId=e2a529f94920295d27ec8a06e757dc7c&camp=1789&creative=9325)\n",
    "訂購《Think Python 3e》的實體書和電子書版本。"
   ]
  },
  {
   "cell_type": "code",
   "execution_count": 1,
   "id": "94846363",
   "metadata": {
    "lines_to_next_cell": 1
   },
   "outputs": [],
   "source": [
    "from os.path import basename, exists"
   ]
  },
  {
   "cell_type": "code",
   "execution_count": 2,
   "id": "74027ae3",
   "metadata": {
    "lines_to_next_cell": 1
   },
   "outputs": [],
   "source": [
    "def download(url):\n",
    "    filename = basename(url)\n",
    "    if not exists(filename):\n",
    "        from urllib.request import urlretrieve\n",
    "\n",
    "        local, _ = urlretrieve(url, filename)\n",
    "        print(\"已下載 \" + str(local)) # 譯註：這裡顯示下載完成的檔案路徑\n",
    "    return filename"
   ]
  },
  {
   "cell_type": "code",
   "execution_count": 3,
   "id": "3b7fabbf",
   "metadata": {},
   "outputs": [],
   "source": [
    "download('https://github.com/AllenDowney/ThinkPython/raw/v3/thinkpython.py');\n",
    "download('https://github.com/AllenDowney/ThinkPython/raw/v3/diagram.py');\n",
    "download('https://github.com/ramalho/jupyturtle/releases/download/2024-03/jupyturtle.py');"
   ]
  },
  {
   "cell_type": "code",
   "execution_count": 4,
   "id": "b3650b7d",
   "metadata": {
    "lines_to_next_cell": 2
   },
   "outputs": [],
   "source": [
    "import thinkpython"
   ]
  },
  {
   "cell_type": "markdown",
   "id": "d0af948c",
   "metadata": {},
   "source": [
    "# 條件判斷與遞迴\n",
    "\n",
    "這一章的主要內容是 `if` 陳述句，它會根據程式的狀態來執行不同的程式碼。\n",
    "透過 `if` 陳述句，我們將能探索運算中最强大的概念之一：**遞迴** (recursion)。\n",
    "\n",
    "但我們會先從三個新功能開始：模數運算子、布林運算式和邏輯運算子。"
   ]
  },
  {
   "cell_type": "markdown",
   "id": "46b7ef1a",
   "metadata": {},
   "source": [
    "## 整數除法與模數\n",
    "\n",
    "回想一下，整數除法運算子 `//` 會將兩個數字相除並向下取整到整數。\n",
    "例如，假設一部電影的播放時間是 105 分鐘。\n",
    "你可能會想知道那是幾個小時。\n",
    "傳統的除法會回傳一個浮點數："
   ]
  },
  {
   "cell_type": "code",
   "execution_count": 5,
   "id": "7e24f811",
   "metadata": {
    "lines_to_next_cell": 2
   },
   "outputs": [
    {
     "data": {
      "text/plain": [
       "1.75"
      ]
     },
     "execution_count": 5,
     "metadata": {},
     "output_type": "execute_result"
    }
   ],
   "source": [
    "minutes = 105\n",
    "minutes / 60"
   ]
  },
  {
   "cell_type": "markdown",
   "id": "174b4b5d",
   "metadata": {},
   "source": [
    "但我們通常不會用小數點來表示小時。\n",
    "整數除法會回傳小時的整數部分，並向下取整："
   ]
  },
  {
   "cell_type": "code",
   "execution_count": 6,
   "id": "89322e9e",
   "metadata": {
    "lines_to_next_cell": 2
   },
   "outputs": [
    {
     "data": {
      "text/plain": [
       "1"
      ]
     },
     "execution_count": 6,
     "metadata": {},
     "output_type": "execute_result"
    }
   ],
   "source": [
    "minutes = 105\n",
    "hours = minutes // 60\n",
    "hours"
   ]
  },
  {
   "cell_type": "markdown",
   "id": "5096594d",
   "metadata": {},
   "source": [
    "要得到餘數，你可以減去以分鐘為單位的一小時："
   ]
  },
  {
   "cell_type": "code",
   "execution_count": 7,
   "id": "c752f7c5",
   "metadata": {
    "lines_to_next_cell": 2
   },
   "outputs": [
    {
     "data": {
      "text/plain": [
       "45"
      ]
     },
     "execution_count": 7,
     "metadata": {},
     "output_type": "execute_result"
    }
   ],
   "source": [
    "remainder = minutes - hours * 60\n",
    "remainder"
   ]
  },
  {
   "cell_type": "markdown",
   "id": "2fe7b87a",
   "metadata": {},
   "source": [
    "或者你可以使用 **模數運算子** (modulus operator) `%`，它會將兩個數字相除並回傳餘數。"
   ]
  },
  {
   "cell_type": "code",
   "execution_count": 8,
   "id": "40d2b240",
   "metadata": {
    "lines_to_next_cell": 2
   },
   "outputs": [
    {
     "data": {
      "text/plain": [
       "45"
      ]
     },
     "execution_count": 8,
     "metadata": {},
     "output_type": "execute_result"
    }
   ],
   "source": [
    "remainder = minutes % 60\n",
    "remainder"
   ]
  },
  {
   "cell_type": "markdown",
   "id": "d20ac50a",
   "metadata": {},
   "source": [
    "模數運算子比看起來更有用。\n",
    "例如，它可以檢查一個數字是否能被另一個數字整除——如果 `x % y` 是零，那麼 `x` 就可以被 `y` 整除。\n",
    "\n",
    "此外，它可以從一個數字中提取最右邊的數字或數字們。\n",
    "例如，`x % 10` 會得到 `x` 的最右邊一位數字（以十進位來說）。\n",
    "同樣地，`x % 100` 會得到最後兩位數字。"
   ]
  },
  {
   "cell_type": "markdown",
   "id": "17e503b9",
   "metadata": {
    "lines_to_next_cell": 2
   },
   "source": [
    "譯註：Jupyter Notebook 中的 In[X] 編號可能與原文不同，不影響程式碼"
   ]
  },
  {
   "cell_type": "code",
   "execution_count": 9,
   "id": "cb153827",
   "metadata": {
    "lines_to_next_cell": 2
   },
   "outputs": [
    {
     "data": {
      "text/plain": [
       "3"
      ]
     },
     "execution_count": 9,
     "metadata": {},
     "output_type": "execute_result"
    }
   ],
   "source": [
    "x = 123\n",
    "x % 10"
   ]
  },
  {
   "cell_type": "markdown",
   "id": "ac445323",
   "metadata": {
    "lines_to_next_cell": 2
   },
   "source": [
    "譯註：Jupyter Notebook 中的 In[X] 編號可能與原文不同，不影響程式碼"
   ]
  },
  {
   "cell_type": "code",
   "execution_count": 10,
   "id": "42445e5a",
   "metadata": {
    "lines_to_next_cell": 2
   },
   "outputs": [
    {
     "data": {
      "text/plain": [
       "23"
      ]
     },
     "execution_count": 10,
     "metadata": {},
     "output_type": "execute_result"
    }
   ],
   "source": [
    "x % 100"
   ]
  },
  {
   "cell_type": "markdown",
   "id": "86456d13",
   "metadata": {},
   "source": [
    "最後，模數運算子可以做「時鐘算術」。\n",
    "例如，如果一個活動從早上 11 點開始，持續三個小時，我們可以用模數運算子來算出它什麼時候結束。"
   ]
  },
  {
   "cell_type": "markdown",
   "id": "2387fdd1",
   "metadata": {
    "lines_to_next_cell": 2
   },
   "source": [
    "譯註：Jupyter Notebook 中的 In[X] 編號可能與原文不同，不影響程式碼"
   ]
  },
  {
   "cell_type": "code",
   "execution_count": 12,
   "id": "5720df59",
   "metadata": {
    "lines_to_next_cell": 2
   },
   "outputs": [
    {
     "data": {
      "text/plain": [
       "8"
      ]
     },
     "execution_count": 12,
     "metadata": {},
     "output_type": "execute_result"
    }
   ],
   "source": [
    "start = 11\n",
    "duration = 33\n",
    "end = (start + duration) % 12 # 譯註：12 小時制，所以對 12 取餘數\n",
    "end"
   ]
  },
  {
   "cell_type": "markdown",
   "id": "45317350",
   "metadata": {},
   "source": [
    "這個活動會在下午 2 點結束。"
   ]
  },
  {
   "cell_type": "markdown",
   "id": "1459c667",
   "metadata": {},
   "source": [
    "## 布林運算式 (Boolean Expressions)\n",
    "\n",
    "**布林運算式** (boolean expression) 是一種結果不是 `True` (真) 就是 `False` (假) 的運算式。\n",
    "例如，下面的運算式使用等號運算子 `==`，它比較兩個值，如果它們相等就產生 `True`，否則產生 `False`："
   ]
  },
  {
   "cell_type": "code",
   "execution_count": 13,
   "id": "9d1b9328",
   "metadata": {
    "lines_to_next_cell": 2
   },
   "outputs": [
    {
     "data": {
      "text/plain": [
       "True"
      ]
     },
     "execution_count": 13,
     "metadata": {},
     "output_type": "execute_result"
    }
   ],
   "source": [
    "5 == 5"
   ]
  },
  {
   "cell_type": "code",
   "execution_count": 14,
   "id": "3024a1e1",
   "metadata": {
    "lines_to_next_cell": 2
   },
   "outputs": [
    {
     "data": {
      "text/plain": [
       "False"
      ]
     },
     "execution_count": 14,
     "metadata": {},
     "output_type": "execute_result"
    }
   ],
   "source": [
    "5 == 7"
   ]
  },
  {
   "cell_type": "markdown",
   "id": "8a717558",
   "metadata": {},
   "source": [
    "一個常見的錯誤是使用單一個等號 (`=`) 而不是雙等號 (`==`)。\n",
    "記住，`=` 是將值賦予給變數，而 `==` 是比較兩個值。"
   ]
  },
  {
   "cell_type": "code",
   "execution_count": 15,
   "id": "a593049b",
   "metadata": {
    "lines_to_next_cell": 2
   },
   "outputs": [],
   "source": [
    "x = 5\n",
    "y = 7"
   ]
  },
  {
   "cell_type": "code",
   "execution_count": 16,
   "id": "27b5344b",
   "metadata": {
    "lines_to_next_cell": 2
   },
   "outputs": [
    {
     "data": {
      "text/plain": [
       "False"
      ]
     },
     "execution_count": 16,
     "metadata": {},
     "output_type": "execute_result"
    }
   ],
   "source": [
    "x == y"
   ]
  },
  {
   "cell_type": "markdown",
   "id": "d6944e2f",
   "metadata": {},
   "source": [
    "`True` 和 `False` 是屬於 `bool` 型別的特殊值；\n",
    "它們不是字串："
   ]
  },
  {
   "cell_type": "code",
   "execution_count": 17,
   "id": "5391d102",
   "metadata": {
    "lines_to_next_cell": 2
   },
   "outputs": [
    {
     "data": {
      "text/plain": [
       "bool"
      ]
     },
     "execution_count": 17,
     "metadata": {},
     "output_type": "execute_result"
    }
   ],
   "source": [
    "type(True)"
   ]
  },
  {
   "cell_type": "code",
   "execution_count": 18,
   "id": "9df8d1ee",
   "metadata": {
    "lines_to_next_cell": 2
   },
   "outputs": [
    {
     "data": {
      "text/plain": [
       "bool"
      ]
     },
     "execution_count": 18,
     "metadata": {},
     "output_type": "execute_result"
    }
   ],
   "source": [
    "type(False)"
   ]
  },
  {
   "cell_type": "markdown",
   "id": "d96c8237",
   "metadata": {},
   "source": [
    "`==` 運算子是 **關係運算子** (relational operators) 之一；其他的還有："
   ]
  },
  {
   "cell_type": "code",
   "execution_count": 19,
   "id": "b9a2f07e",
   "metadata": {
    "lines_to_next_cell": 2
   },
   "outputs": [
    {
     "data": {
      "text/plain": [
       "True"
      ]
     },
     "execution_count": 19,
     "metadata": {},
     "output_type": "execute_result"
    }
   ],
   "source": [
    "x != y               # x 不等於 y"
   ]
  },
  {
   "cell_type": "code",
   "execution_count": 20,
   "id": "100c04ef",
   "metadata": {
    "lines_to_next_cell": 2
   },
   "outputs": [
    {
     "data": {
      "text/plain": [
       "False"
      ]
     },
     "execution_count": 20,
     "metadata": {},
     "output_type": "execute_result"
    }
   ],
   "source": [
    "x > y                # x 大於 y"
   ]
  },
  {
   "cell_type": "code",
   "execution_count": 21,
   "id": "4f35ba0f",
   "metadata": {
    "lines_to_next_cell": 2
   },
   "outputs": [
    {
     "data": {
      "text/plain": [
       "True"
      ]
     },
     "execution_count": 21,
     "metadata": {},
     "output_type": "execute_result"
    }
   ],
   "source": [
    "x < y               # x 小於 y"
   ]
  },
  {
   "cell_type": "code",
   "execution_count": 22,
   "id": "0bc89b77",
   "metadata": {
    "lines_to_next_cell": 2
   },
   "outputs": [
    {
     "data": {
      "text/plain": [
       "False"
      ]
     },
     "execution_count": 22,
     "metadata": {},
     "output_type": "execute_result"
    }
   ],
   "source": [
    "x >= y               # x 大於或等於 y"
   ]
  },
  {
   "cell_type": "code",
   "execution_count": 23,
   "id": "5ebbb878",
   "metadata": {
    "lines_to_next_cell": 2
   },
   "outputs": [
    {
     "data": {
      "text/plain": [
       "True"
      ]
     },
     "execution_count": 23,
     "metadata": {},
     "output_type": "execute_result"
    }
   ],
   "source": [
    "x <= y               # x 小於或等於 y"
   ]
  },
  {
   "cell_type": "markdown",
   "id": "f72fee2c",
   "metadata": {},
   "source": [
    "## 邏輯運算子 (Logical operators)\n",
    "\n",
    "為了將布林值組合成運算式，我們可以使用 **邏輯運算子** (logical operators)。\n",
    "最常見的是 `and`、`or` 和 `not`。\n",
    "這些運算子的意義和它們在英文中的意義相似。\n",
    "例如，下面這個運算式的值只有在 `x` 大於 `0` *且* 小於 `10` 時才會是 `True`。"
   ]
  },
  {
   "cell_type": "code",
   "execution_count": 24,
   "id": "1273ce32",
   "metadata": {},
   "outputs": [
    {
     "name": "stdout",
     "output_type": "stream",
     "text": [
      "5\n"
     ]
    }
   ],
   "source": [
    "print(x)"
   ]
  },
  {
   "cell_type": "code",
   "execution_count": 25,
   "id": "bcd3a9e6",
   "metadata": {
    "lines_to_next_cell": 2
   },
   "outputs": [
    {
     "data": {
      "text/plain": [
       "True"
      ]
     },
     "execution_count": 25,
     "metadata": {},
     "output_type": "execute_result"
    }
   ],
   "source": [
    "x > 0 and x < 10"
   ]
  },
  {
   "cell_type": "markdown",
   "id": "0eddccf4",
   "metadata": {},
   "source": [
    "下面這個運算式在 *任一條件或兩個條件都* 成立時為 `True`，也就是說，如果數字可以被 2 *或* 3 整除："
   ]
  },
  {
   "cell_type": "code",
   "execution_count": 26,
   "id": "264103a1",
   "metadata": {
    "lines_to_next_cell": 2
   },
   "outputs": [
    {
     "data": {
      "text/plain": [
       "False"
      ]
     },
     "execution_count": 26,
     "metadata": {},
     "output_type": "execute_result"
    }
   ],
   "source": [
    "x % 2 == 0 or x % 3 == 0"
   ]
  },
  {
   "cell_type": "markdown",
   "id": "bd5eed0d",
   "metadata": {},
   "source": [
    "最後，`not` 運算子會否定一個布林運算式，所以如果 `x > y` 是 `False`，下面這個運算式就是 `True`。"
   ]
  },
  {
   "cell_type": "code",
   "execution_count": 27,
   "id": "13dc9284",
   "metadata": {
    "lines_to_next_cell": 2
   },
   "outputs": [
    {
     "data": {
      "text/plain": [
       "True"
      ]
     },
     "execution_count": 27,
     "metadata": {},
     "output_type": "execute_result"
    }
   ],
   "source": [
    "not x > y"
   ]
  },
  {
   "cell_type": "markdown",
   "id": "13f8e1b7",
   "metadata": {},
   "source": [
    "嚴格來說，邏輯運算子的運算元應該是布林運算式，但 Python 並不是很嚴格。\n",
    "任何非零的數字都會被解釋為 `True`："
   ]
  },
  {
   "cell_type": "code",
   "execution_count": 28,
   "id": "05f5a61f",
   "metadata": {
    "lines_to_next_cell": 2
   },
   "outputs": [
    {
     "data": {
      "text/plain": [
       "True"
      ]
     },
     "execution_count": 28,
     "metadata": {},
     "output_type": "execute_result"
    }
   ],
   "source": [
    "42 and True"
   ]
  },
  {
   "cell_type": "markdown",
   "id": "5e2e791f",
   "metadata": {},
   "source": [
    "這種彈性可能很有用，但它有一些細微之處可能會讓人困惑。\n",
    "你可能想要避免這樣使用。"
   ]
  },
  {
   "cell_type": "markdown",
   "id": "01a2dd35",
   "metadata": {},
   "source": [
    "## if 陳述句\n",
    "\n",
    "為了寫出有用的程式，我們幾乎總是需要有能力\n",
    "檢查條件並相應地改變程式的行為。\n",
    "**條件陳述句** (Conditional statements) 賦予我們這種能力。最簡單的形式是\n",
    "`if` 陳述句："
   ]
  },
  {
   "cell_type": "code",
   "execution_count": 29,
   "id": "dea9b5b2",
   "metadata": {
    "lines_to_next_cell": 2
   },
   "outputs": [
    {
     "name": "stdout",
     "output_type": "stream",
     "text": [
      "x 是正數\n"
     ]
    }
   ],
   "source": [
    "if x > 0:\n",
    "    print('x 是正數') # 譯註：將英文改為中文"
   ]
  },
  {
   "cell_type": "markdown",
   "id": "9948015e",
   "metadata": {},
   "source": [
    "`if` 是 Python 的一個關鍵字。\n",
    "`if` 陳述句和函式定義有相同的結構：一個\n",
    "標頭後面跟著一個縮排的陳述句或陳述句序列，稱為一個 **區塊** (block)。\n",
    "\n",
    "`if` 後面的布林運算式稱為 **條件** (condition)。\n",
    "如果條件為真，縮排區塊中的陳述句就會執行。如果不是，它們就不會執行。\n",
    "\n",
    "區塊中可以出現的陳述句數量沒有限制，但至少要有一個。\n",
    "有時候，有一個什麼都不做的區塊會很有用——通常是作為你還沒寫好的程式碼的佔位符。\n",
    "在那種情況下，你可以使用 `pass` 陳述句，它什麼也不做。"
   ]
  },
  {
   "cell_type": "code",
   "execution_count": 30,
   "id": "db51704e",
   "metadata": {
    "lines_to_next_cell": 2
   },
   "outputs": [],
   "source": [
    "if x < 0:\n",
    "    pass          # TODO: 需要處理負數的情況！"
   ]
  },
  {
   "cell_type": "markdown",
   "id": "773e12bf",
   "metadata": {},
   "source": [
    "註解中的 `TODO` 這個詞是一個慣例，提醒你之後還有事情要做。"
   ]
  },
  {
   "cell_type": "markdown",
   "id": "05e36177",
   "metadata": {},
   "source": [
    "## `else` 子句\n",
    "\n",
    "`if` 陳述句可以有第二個部分，稱為 `else` 子句。\n",
    "語法看起來像這樣："
   ]
  },
  {
   "cell_type": "code",
   "execution_count": 31,
   "id": "2272e24d",
   "metadata": {
    "lines_to_next_cell": 2
   },
   "outputs": [
    {
     "name": "stdout",
     "output_type": "stream",
     "text": [
      "x 是奇數\n"
     ]
    }
   ],
   "source": [
    "if x % 2 == 0:\n",
    "    print('x 是偶數') # 譯註：將英文改為中文\n",
    "else:\n",
    "    print('x 是奇數')"
   ]
  },
  {
   "cell_type": "markdown",
   "id": "e9d6fcfe",
   "metadata": {},
   "source": [
    "如果條件為真，第一個縮排的陳述句會執行；否則，第二個縮排的陳述句會執行。\n",
    "\n",
    "在這個例子中，如果 `x` 是偶數，`x` 除以 `2` 的餘數是 `0`，所以條件為真，程式會顯示 `x 是偶數`。\n",
    "如果 `x` 是奇數，餘數是 `1`，所以條件\n",
    "為假，程式會顯示 `x 是奇數`。\n",
    "\n",
    "由於條件必須為真或假，所以兩個分支中一定會有一個執行。\n",
    "這些分支稱為 **分支** (branches)。"
   ]
  },
  {
   "cell_type": "markdown",
   "id": "a1f8d880",
   "metadata": {},
   "source": [
    "## 連鎖條件判斷 (Chained conditionals)\n",
    "\n",
    "有時候會有超過兩種可能性，我們需要超過兩個分支。\n",
    "表達這種計算的一種方法是 **連鎖條件判斷** (chained conditional)，它包含一個 `elif` 子句。"
   ]
  },
  {
   "cell_type": "code",
   "execution_count": null,
   "id": "e87f90f1",
   "metadata": {
    "lines_to_next_cell": 2
   },
   "outputs": [],
   "source": [
    "if x < y:\n",
    "    print('x 小於 y') # 譯註：將英文改為中文\n",
    "elif x > y:\n",
    "    print('x 大於 y')\n",
    "else:\n",
    "    print('x 和 y 相等')"
   ]
  },
  {
   "cell_type": "markdown",
   "id": "3dc3c9f8",
   "metadata": {},
   "source": [
    "`elif` 是 \"else if\" 的縮寫。\n",
    "`elif` 子句的數量沒有限制。\n",
    "如果有 `else` 子句，它必須在最後面，但並非一定要有\n",
    "`else` 子句。\n",
    "\n",
    "每個條件會依序檢查。\n",
    "如果第一個是假的，就檢查下一個，依此类推。\n",
    "如果其中一個是真的，相應的分支就會執行，然後 `if` 陳述句結束。\n",
    "即使有多個條件為真，也只有第一個為真的分支會執行。"
   ]
  },
  {
   "cell_type": "markdown",
   "id": "cb31d4a4",
   "metadata": {},
   "source": [
    "## 巢狀條件判斷 (Nested Conditionals)\n",
    "\n",
    "一個條件判斷也可以嵌套在另一個條件判斷中。\n",
    "我們可以像這樣寫上一節的例子："
   ]
  },
  {
   "cell_type": "code",
   "execution_count": null,
   "id": "7ed2ca23",
   "metadata": {
    "lines_to_next_cell": 2
   },
   "outputs": [],
   "source": [
    "if x == y:\n",
    "    print('x 和 y 相等') # 譯註：將英文改為中文\n",
    "else:\n",
    "    if x < y:\n",
    "        print('x 小於 y')\n",
    "    else:\n",
    "        print('x 大於 y')"
   ]
  },
  {
   "cell_type": "markdown",
   "id": "f3ee9b00",
   "metadata": {},
   "source": [
    "外層的 `if` 陳述句包含兩個分支。\n",
    "第一個分支包含一個簡單的陳述句。第二個分支包含另一個 `if` 陳述句，它本身有兩個分支。\n",
    "這兩個分支都是簡單的陳述句，儘管它們也可以是條件陳述句。\n",
    "\n",
    "雖然陳述句的縮排使得結構很明顯，但 **巢狀條件判斷** (nested conditionals) 可能難以閱讀。\n",
    "我建議你盡可能避免使用它們。\n",
    "\n",
    "邏輯運算子通常提供一種簡化巢狀條件陳述句的方法。\n",
    "這裡有一個帶有巢狀條件判斷的例子。"
   ]
  },
  {
   "cell_type": "code",
   "execution_count": 32,
   "id": "e7cf7d7e",
   "metadata": {
    "lines_to_next_cell": 2
   },
   "outputs": [
    {
     "name": "stdout",
     "output_type": "stream",
     "text": [
      "x 是一個正的個位數。\n"
     ]
    }
   ],
   "source": [
    "if 0 < x:\n",
    "    if x < 10:\n",
    "        print('x 是一個正的個位數。') # 譯註：將英文改為中文"
   ]
  },
  {
   "cell_type": "markdown",
   "id": "3f031fa4",
   "metadata": {},
   "source": [
    "只有當我們通過了兩個條件判斷，`print` 陳述句才會執行，所以我們用 `and` 運算子可以得到相同的效果。"
   ]
  },
  {
   "cell_type": "code",
   "execution_count": 34,
   "id": "5fbfab3f",
   "metadata": {
    "lines_to_next_cell": 2
   },
   "outputs": [
    {
     "name": "stdout",
     "output_type": "stream",
     "text": [
      "x 是一個正的個位數。\n"
     ]
    }
   ],
   "source": [
    "if 0 < x and x < 10:\n",
    "    print('x 是一個正的個位數。') # 譯註：將英文改為中文"
   ]
  },
  {
   "cell_type": "markdown",
   "id": "ffc79b47",
   "metadata": {},
   "source": [
    "對於這種條件，Python 提供了一個更簡潔的選項："
   ]
  },
  {
   "cell_type": "code",
   "execution_count": 33,
   "id": "15a5a6c8",
   "metadata": {},
   "outputs": [
    {
     "name": "stdout",
     "output_type": "stream",
     "text": [
      "x 是一個正的個位數。\n"
     ]
    }
   ],
   "source": [
    "if 0 < x < 10: # 譯註：Python 允許這種鏈式比較\n",
    "    print('x 是一個正的個位數。')"
   ]
  },
  {
   "cell_type": "markdown",
   "id": "ec816f3f",
   "metadata": {},
   "source": [
    "## 遞迴 (Recursion)\n",
    "\n",
    "函式呼叫自己是合法的。\n",
    "這為什麼是件好事可能不是很明顯，但事實證明這是程式可以做的最神奇的事情之一。\n",
    "這裡有一個例子。"
   ]
  },
  {
   "cell_type": "code",
   "execution_count": null,
   "id": "2378bc90",
   "metadata": {},
   "outputs": [],
   "source": [
    "def countdown(n):\n",
    "    if n <= 0:\n",
    "        print('發射！') # 譯註：將英文改為中文\n",
    "    else:\n",
    "        print(n)\n",
    "        countdown(n-1) # 譯註：函式呼叫自己\n"
   ]
  },
  {
   "cell_type": "markdown",
   "id": "ea81d72c",
   "metadata": {},
   "source": [
    "如果 `n` 是 0 或負數，`countdown` 會輸出 \"發射！\"。否則，它會\n",
    "輸出 `n`，然後呼叫自己，並傳入 `n-1` 作為引數。\n",
    "\n",
    "當我們用引數 `3` 呼叫這個函式時，會發生以下情況。"
   ]
  },
  {
   "cell_type": "code",
   "execution_count": 38,
   "id": "62db29d9",
   "metadata": {},
   "outputs": [
    {
     "name": "stdout",
     "output_type": "stream",
     "text": [
      "5\n",
      "4\n",
      "3\n",
      "2\n",
      "1\n",
      "發射！\n"
     ]
    }
   ],
   "source": [
    "countdown(5)"
   ]
  },
  {
   "cell_type": "markdown",
   "id": "232ba298",
   "metadata": {},
   "source": [
    "`countdown` 的執行從 `n=3` 開始，由於 `n` 大於\n",
    "`0`，它顯示 `3`，然後呼叫自己…\n",
    "\n",
    "> `countdown` 的執行從 `n=2` 開始，由於 `n` 大於\n",
    "> `0`，它顯示 `2`，然後呼叫自己…\n",
    ">\n",
    "> > `countdown` 的執行從 `n=1` 開始，由於 `n` 大於\n",
    "> > `0`，它顯示 `1`，然後呼叫自己…\n",
    "> >\n",
    "> > > `countdown` 的執行從 `n=0` 開始，由於 `n`\n",
    "> > > 不大於 `0`，它顯示 \"發射！\" 並返回。\n",
    "> >\n",
    "> > 得到 `n=1` 的 `countdown` 返回。\n",
    ">\n",
    "> 得到 `n=2` 的 `countdown` 返回。\n",
    "\n",
    "得到 `n=3` 的 `countdown` 返回。"
   ]
  },
  {
   "cell_type": "markdown",
   "id": "e3344270",
   "metadata": {},
   "source": [
    "呼叫自己的函式稱為 **遞迴的** (recursive)。\n",
    "作為另一個例子，我們可以寫一個函式，將一個字串印出 `n` 次。"
   ]
  },
  {
   "cell_type": "code",
   "execution_count": 40,
   "id": "152b7a88",
   "metadata": {},
   "outputs": [],
   "source": [
    "def print_n_times(string, n):\n",
    "    if n > 0:\n",
    "        print(string)\n",
    "        print_n_times(string, n-1)"
   ]
  },
  {
   "cell_type": "markdown",
   "id": "6586f90a",
   "metadata": {},
   "source": [
    "如果 `n` 是正數，`print_n_times` 會顯示 `string` 的值，然後呼叫自己，並傳入 `string` 和 `n-1` 作為引數。\n",
    "\n",
    "如果 `n` 是 `0` 或負數，條件為假，`print_n_times` 什麼也不做。\n",
    "\n",
    "它是這樣運作的。"
   ]
  },
  {
   "cell_type": "code",
   "execution_count": 41,
   "id": "8bad818e",
   "metadata": {
    "lines_to_next_cell": 2
   },
   "outputs": [
    {
     "name": "stdout",
     "output_type": "stream",
     "text": [
      "午餐肉 \n",
      "午餐肉 \n",
      "午餐肉 \n",
      "午餐肉 \n"
     ]
    }
   ],
   "source": [
    "print_n_times('午餐肉 ', 4) # 譯註：將英文改為中文"
   ]
  },
  {
   "cell_type": "markdown",
   "id": "fc180125",
   "metadata": {},
   "source": [
    "對於像這樣的簡單例子，使用 `for`\n",
    "迴圈可能更容易。但我們稍後會看到一些很難用 `for`\n",
    "迴圈編寫，但用遞迴卻很容易編寫的例子，所以早點開始是好的。"
   ]
  },
  {
   "cell_type": "markdown",
   "id": "116e08a4",
   "metadata": {},
   "source": [
    "## 遞迴函式的堆疊圖\n",
    "\n",
    "這裡有一個堆疊圖，顯示了當我們用 `n = 3` 呼叫 `countdown` 時創建的框架。"
   ]
  },
  {
   "cell_type": "code",
   "execution_count": 42,
   "id": "8e06ae2b",
   "metadata": {},
   "outputs": [],
   "source": [
    "from diagram import make_frame, Stack # 譯註：這是書中用來畫圖的工具"
   ]
  },
  {
   "cell_type": "code",
   "execution_count": 43,
   "id": "b7f4b5aa",
   "metadata": {},
   "outputs": [],
   "source": [
    "frames = []\n",
    "for n_val in [3,2,1,0]: # 譯註：變數名改為 n_val 避免與外層 n 衝突 (雖然此處無外層 n)\n",
    "    d = dict(n=n_val)\n",
    "    frame = make_frame(d, name='countdown', dy=-0.3, loc='left')\n",
    "    frames.append(frame)"
   ]
  },
  {
   "cell_type": "code",
   "execution_count": 44,
   "id": "5559963b",
   "metadata": {
    "lines_to_next_cell": 2
   },
   "outputs": [],
   "source": [
    "stack = Stack(frames, dy=-0.5)"
   ]
  },
  {
   "cell_type": "code",
   "execution_count": 45,
   "id": "26dd9e5d",
   "metadata": {
    "lines_to_next_cell": 2
   },
   "outputs": [],
   "source": [
    "from diagram import diagram, adjust # 譯註：這是書中用來畫圖的工具"
   ]
  },
  {
   "cell_type": "code",
   "execution_count": 46,
   "id": "ccd7cb7d",
   "metadata": {
    "lines_to_next_cell": 2
   },
   "outputs": [
    {
     "data": {
      "image/png": "[encoded data removed]",
      "text/plain": [
       "<Figure size 174x204 with 1 Axes>"
      ]
     },
     "metadata": {},
     "output_type": "display_data"
    }
   ],
   "source": [
    "width, height, x_pos, y_pos = [1.74, 2.04, 1.05, 1.77] # 譯註：變數名 x, y 改為 x_pos, y_pos\n",
    "ax = diagram(width, height)\n",
    "bbox = stack.draw(ax, x_pos, y_pos)\n",
    "# adjust(x_pos, y_pos, bbox) # 譯註：調整圖表位置的函式，這裡被註解掉了"
   ]
  },
  {
   "cell_type": "markdown",
   "id": "ed29b712",
   "metadata": {},
   "source": [
    "四個 `countdown` 框架的參數 `n` 的值不同。\n",
    "堆疊的底部，`n=0` 的地方，稱為 **基礎案例** (base case) 或 **基本情況**。\n",
    "它不會進行遞迴呼叫，所以不會再有更多的框架。"
   ]
  },
  {
   "cell_type": "code",
   "execution_count": null,
   "id": "bad4f95c",
   "metadata": {},
   "outputs": [],
   "source": [
    "from diagram import make_frame, Stack # 譯註：這是書中用來畫圖的工具\n",
    "from diagram import diagram, adjust"
   ]
  },
  {
   "cell_type": "code",
   "execution_count": 47,
   "id": "7f674ab6",
   "metadata": {},
   "outputs": [],
   "source": [
    "frames = []\n",
    "for n_val in [2,1,0]: # 譯註：變數名改為 n_val\n",
    "    d = dict(string='哈囉', n=n_val) # 譯註：將英文改為中文\n",
    "    frame = make_frame(d, name='print_n_times', dx=1.3, loc='left')\n",
    "    frames.append(frame)"
   ]
  },
  {
   "cell_type": "code",
   "execution_count": 48,
   "id": "4c207db3",
   "metadata": {},
   "outputs": [],
   "source": [
    "stack = Stack(frames, dy=-0.5)"
   ]
  },
  {
   "cell_type": "code",
   "execution_count": 49,
   "id": "354cab78",
   "metadata": {
    "lines_to_next_cell": 2
   },
   "outputs": [
    {
     "name": "stderr",
     "output_type": "stream",
     "text": [
      "d:\\project\\ThinkPythonSolutions\\soln_translated_ipynb\\diagram.py:84: UserWarning: Glyph 21704 (\\N{CJK UNIFIED IDEOGRAPH-54C8}) missing from font(s) DejaVu Sans.\n",
      "  bbox = handle.get_window_extent()\n",
      "d:\\project\\ThinkPythonSolutions\\soln_translated_ipynb\\diagram.py:84: UserWarning: Glyph 22217 (\\N{CJK UNIFIED IDEOGRAPH-56C9}) missing from font(s) DejaVu Sans.\n",
      "  bbox = handle.get_window_extent()\n",
      "d:\\project\\ThinkPythonSolutions\\.venv\\Lib\\site-packages\\IPython\\core\\events.py:82: UserWarning: Glyph 21704 (\\N{CJK UNIFIED IDEOGRAPH-54C8}) missing from font(s) DejaVu Sans.\n",
      "  func(*args, **kwargs)\n",
      "d:\\project\\ThinkPythonSolutions\\.venv\\Lib\\site-packages\\IPython\\core\\events.py:82: UserWarning: Glyph 22217 (\\N{CJK UNIFIED IDEOGRAPH-56C9}) missing from font(s) DejaVu Sans.\n",
      "  func(*args, **kwargs)\n",
      "d:\\project\\ThinkPythonSolutions\\.venv\\Lib\\site-packages\\IPython\\core\\pylabtools.py:170: UserWarning: Glyph 21704 (\\N{CJK UNIFIED IDEOGRAPH-54C8}) missing from font(s) DejaVu Sans.\n",
      "  fig.canvas.print_figure(bytes_io, **kw)\n",
      "d:\\project\\ThinkPythonSolutions\\.venv\\Lib\\site-packages\\IPython\\core\\pylabtools.py:170: UserWarning: Glyph 22217 (\\N{CJK UNIFIED IDEOGRAPH-56C9}) missing from font(s) DejaVu Sans.\n",
      "  fig.canvas.print_figure(bytes_io, **kw)\n"
     ]
    },
    {
     "data": {
      "image/png": "[encoded data removed]",
      "text/plain": [
       "<Figure size 353x154 with 1 Axes>"
      ]
     },
     "metadata": {},
     "output_type": "display_data"
    }
   ],
   "source": [
    "width, height, x_pos, y_pos = [3.53, 1.54, 1.54, 1.27] # 譯註：變數名 x, y 改為 x_pos, y_pos\n",
    "ax = diagram(width, height)\n",
    "bbox = stack.draw(ax, x_pos, y_pos)\n",
    "# adjust(x_pos, y_pos, bbox)"
   ]
  },
  {
   "cell_type": "markdown",
   "id": "8c7da171",
   "metadata": {},
   "source": [
    "## 無窮遞迴 (Infinite recursion)\n",
    "\n",
    "如果一個遞迴永遠達不到基礎案例，它就會一直進行遞迴\n",
    "呼叫，程式永遠不會終止。這被稱為\n",
    "**無窮遞迴** (infinite recursion)，通常不是一件好事。\n",
    "這裡有一個帶有無窮遞迴的最小函式。"
   ]
  },
  {
   "cell_type": "code",
   "execution_count": null,
   "id": "2daf9ca0",
   "metadata": {},
   "outputs": [],
   "source": [
    "def recurse():\n",
    "    recurse() # 譯註：函式呼叫自己，沒有結束條件"
   ]
  },
  {
   "cell_type": "markdown",
   "id": "991cbda5",
   "metadata": {},
   "source": [
    "每次 `recurse` 被呼叫時，它都會呼叫自己，這會創建另一個框架。\n",
    "在 Python 中，堆疊上同時可以存在的框架數量是有限制的。\n",
    "如果程式超過了這個限制，就會導致執行期錯誤。"
   ]
  },
  {
   "cell_type": "code",
   "execution_count": null,
   "id": "42c5e9c4",
   "metadata": {
    "lines_to_next_cell": 2
   },
   "outputs": [],
   "source": [
    "get_ipython().run_line_magic('xmode', 'Context') # 譯註：設定錯誤回報模式為 Context (上下文)"
   ]
  },
  {
   "cell_type": "code",
   "execution_count": null,
   "id": "8a5cdd57",
   "metadata": {},
   "outputs": [],
   "source": [
    "get_ipython().run_cell_magic('expect', 'RecursionError', '\\nrecurse()\\n') # 譯註：預期 RecursionError (遞迴錯誤)"
   ]
  },
  {
   "cell_type": "markdown",
   "id": "78a7b3a3",
   "metadata": {},
   "source": [
    "回溯追蹤顯示，錯誤發生時堆疊上大約有 3000 個框架。\n",
    "\n",
    "如果你不小心遇到了無窮遞迴，檢查你的函式以確認\n",
    "有一個不會進行遞迴呼叫的基礎案例。如果有基礎案例，\n",
    "檢查你是否保證能達到它。"
   ]
  },
  {
   "cell_type": "markdown",
   "id": "cd1d1ab3",
   "metadata": {},
   "source": [
    "## 鍵盤輸入 (Keyboard input)\n",
    "\n",
    "到目前為止，我們寫的程式不接受使用者的任何輸入。它們\n",
    "每次都做同樣的事情。\n",
    "\n",
    "Python 提供了一個名為 `input` 的內建函式，它會停止\n",
    "程式並等待使用者輸入一些東西。當使用者按下\n",
    "*Return* 或 *Enter* 鍵時，程式會繼續執行，而 `input` 會將使用者\n",
    "輸入的內容作為字串回傳。"
   ]
  },
  {
   "cell_type": "markdown",
   "id": "88cce1b0",
   "metadata": {},
   "source": [
    "解答 (譯註：原文此處為 Solution，是為了讓 Notebook 能自動執行而替換 input 函式)"
   ]
  },
  {
   "cell_type": "code",
   "execution_count": 50,
   "id": "f8a7d59a",
   "metadata": {
    "lines_to_next_cell": 2
   },
   "outputs": [],
   "source": [
    "# 這個儲存格替換了 input 函式，這樣筆記本就可以在不暫停的情況下執行\n",
    "def input_mock(): # 譯註：為了不覆蓋內建 input，這裡改名為 input_mock\n",
    "     return"
   ]
  },
  {
   "cell_type": "markdown",
   "id": "60f9db5e",
   "metadata": {
    "lines_to_next_cell": 2
   },
   "source": [
    "text = input() # 譯註：如果實際執行，會等待使用者輸入"
   ]
  },
  {
   "cell_type": "markdown",
   "id": "4ff6f7d5",
   "metadata": {},
   "source": [
    "在從使用者那裡獲取輸入之前，你可能想顯示一個提示\n",
    "告訴使用者要輸入什麼。`input` 可以接受一個提示作為引數："
   ]
  },
  {
   "cell_type": "markdown",
   "id": "5201e9de",
   "metadata": {},
   "source": [
    "解答 (譯註：原文此處為 Solution)"
   ]
  },
  {
   "cell_type": "code",
   "execution_count": 51,
   "id": "896fc498",
   "metadata": {
    "lines_to_next_cell": 2
   },
   "outputs": [],
   "source": [
    "# 這個儲存格替換了 input 函式，這樣筆記本就可以在不暫停的情況下執行\n",
    "def input_mock_prompt(prompt): # 譯註：改名為 input_mock_prompt\n",
    "    print(prompt, end='')\n",
    "    reply = '我是亞瑟，不列顛之王' # 譯註：將英文改為中文\n",
    "    print(reply)\n",
    "    return reply"
   ]
  },
  {
   "cell_type": "markdown",
   "id": "08545a48",
   "metadata": {
    "lines_to_next_cell": 2
   },
   "source": [
    "name = input_mock_prompt('你...叫什麼名字？\\n') # 譯註：使用模擬的 input，並將英文改為中文\n",
    "name"
   ]
  },
  {
   "cell_type": "markdown",
   "id": "e59bc79f",
   "metadata": {},
   "source": [
    "提示結尾的序列 `\\n` 代表一個 **換行符** (newline)，它是一個特殊字元，會導致換行——這樣使用者的輸入就會出現在提示下方。\n",
    "\n",
    "如果你期望使用者輸入一個整數，你可以使用 `int` 函式將回傳值轉換為 `int`。"
   ]
  },
  {
   "cell_type": "markdown",
   "id": "d40c2455",
   "metadata": {},
   "source": [
    "解答 (譯註：原文此處為 Solution)"
   ]
  },
  {
   "cell_type": "code",
   "execution_count": 52,
   "id": "f5806a48",
   "metadata": {
    "lines_to_next_cell": 2
   },
   "outputs": [],
   "source": [
    "# 這個儲存格替換了 input 函式，這樣筆記本就可以在不暫停的情況下執行\n",
    "def input_mock_airspeed(prompt): # 譯註：改名為 input_mock_airspeed\n",
    "    print(prompt, end='')\n",
    "    reply = '你說的是：非洲還是歐洲的燕子？' # 譯註：將英文改為中文\n",
    "    print(reply)\n",
    "    return reply"
   ]
  },
  {
   "cell_type": "markdown",
   "id": "a346a967",
   "metadata": {
    "lines_to_next_cell": 2
   },
   "source": [
    "prompt = '請問...一隻未負重的燕子的空速是多少？\\n' # 譯註：將英文改為中文\n",
    "speed = input_mock_airspeed(prompt)\n",
    "speed"
   ]
  },
  {
   "cell_type": "markdown",
   "id": "97c85022",
   "metadata": {},
   "source": [
    "但是如果他們輸入了不是整數的東西，你會得到一個執行期錯誤。"
   ]
  },
  {
   "cell_type": "code",
   "execution_count": null,
   "id": "481fa934",
   "metadata": {
    "lines_to_next_cell": 2
   },
   "outputs": [],
   "source": [
    "get_ipython().run_line_magic('xmode', 'Minimal') # 譯註：設定錯誤回報模式為 Minimal (最簡)"
   ]
  },
  {
   "cell_type": "markdown",
   "id": "21fe0227",
   "metadata": {
    "lines_to_next_cell": 2
   },
   "source": [
    "speed_value = \"這不是數字\" # 譯註：假設使用者輸入非數字\n",
    "get_ipython().run_cell_magic('expect', 'ValueError', '\\nint(speed_value)\\n') # 譯註：預期 ValueError"
   ]
  },
  {
   "cell_type": "markdown",
   "id": "29b98d98",
   "metadata": {},
   "source": [
    "我們稍後會看到如何處理這種錯誤。"
   ]
  },
  {
   "cell_type": "markdown",
   "id": "bb30f480",
   "metadata": {},
   "source": [
    "## 除錯 (Debugging)\n",
    "\n",
    "當語法或執行期錯誤發生時，錯誤訊息包含很多\n",
    "資訊，但可能會讓人不知所措。最有用的部分\n",
    "通常是：\n",
    "\n",
    "-   它是什麼類型的錯誤，以及\n",
    "\n",
    "-   它發生在哪裡。\n",
    "\n",
    "語法錯誤通常很容易找到，但有一些陷阱。\n",
    "與空格和定位字元相關的錯誤可能很棘手，因為它們是不可見的\n",
    "而且我們習慣忽略它們。"
   ]
  },
  {
   "cell_type": "markdown",
   "id": "798e2861",
   "metadata": {
    "lines_to_next_cell": 2
   },
   "source": [
    "get_ipython().run_cell_magic('expect', 'IndentationError', 'x_val = 5\\n y_val = 6\\n')\n",
    "譯註：原文的 'x = 5\\n y = 6\\n' 會產生 IndentationError，因為第二行多了一個空格。\n",
    "為了避免與其他 x, y 變數混淆，這裡改名為 x_val, y_val。\n",
    "實際執行時，如果 y_val 前面多一個空格，就會報錯。"
   ]
  },
  {
   "cell_type": "markdown",
   "id": "4c0687d0",
   "metadata": {},
   "source": [
    "在這個例子中，問題是第二行縮排了一個空格。\n",
    "但是錯誤訊息指向 `y`，這具有誤導性。\n",
    "錯誤訊息指出問題被發現的地方，但實際的錯誤可能在程式碼的更早部分。\n",
    "\n",
    "執行期錯誤也是如此。\n",
    "例如，假設你試圖將一個比率轉換為分貝，像這樣："
   ]
  },
  {
   "cell_type": "code",
   "execution_count": null,
   "id": "a5114d80",
   "metadata": {
    "lines_to_next_cell": 2
   },
   "outputs": [],
   "source": [
    "get_ipython().run_line_magic('xmode', 'Context') # 譯註：設定錯誤回報模式為 Context"
   ]
  },
  {
   "cell_type": "markdown",
   "id": "e1c9e8b9",
   "metadata": {
    "lines_to_next_cell": 2
   },
   "source": [
    "import math\n",
    "numerator = 9\n",
    "denominator = 10\n",
    "ratio = numerator // denominator # 譯註：這裡因為整數除法，ratio 會變成 0\n",
    "get_ipython().run_cell_magic('expect', 'ValueError', 'decibels = 10 * math.log10(ratio)\\n') # 譯註：log10(0) 會導致 ValueError"
   ]
  },
  {
   "cell_type": "markdown",
   "id": "f37bbc46",
   "metadata": {},
   "source": [
    "錯誤訊息指示第 5 行（`decibels = ...`），但那一行並沒有問題。\n",
    "問題在第 4 行（`ratio = ...`），它使用了整數除法而不是浮點數除法——結果，`ratio` 的值是 `0`。\n",
    "當我們呼叫 `math.log10` 時，我們會得到一個 `ValueError`，訊息是 `math domain error`（數學定義域錯誤），因為 `0` 不在 `math.log10` 的有效引數「定義域」內，因為 `0` 的對數是未定義的。\n",
    "\n",
    "一般來說，你應該花時間仔細閱讀錯誤訊息，但不要假設它們說的一切都是正確的。"
   ]
  },
  {
   "cell_type": "markdown",
   "id": "cd28cf50",
   "metadata": {},
   "source": [
    "## 詞彙表\n",
    "\n",
    "**遞迴 (recursion):**\n",
    "呼叫目前正在執行的函式的過程。\n",
    "\n",
    "**模數運算子 (modulus operator):**\n",
    "一個運算子 `%`，作用於整數並回傳一個數字除以另一個數字的餘數。\n",
    "\n",
    "**布林運算式 (boolean expression):**\n",
    "其值為 `True` 或 `False` 的運算式。\n",
    "\n",
    "**關係運算子 (relational operator):**\n",
    "比較其運算元的運算子之一：`==`、`!=`、`>`、`<`、`>=` 和 `<=`。\n",
    "\n",
    "**邏輯運算子 (logical operator):**\n",
    "組合布林運算式的運算子之一，包括 `and`、`or` 和 `not`。\n",
    "\n",
    "**條件陳述句 (conditional statement):**\n",
    "根據某些條件控制執行流程的陳述句。\n",
    "\n",
    "**條件 (condition):**\n",
    "條件陳述句中決定哪個分支執行的布林運算式。\n",
    "\n",
    "**區塊 (block):**\n",
    "一個或多個縮排的陳述句，表示它們是另一個陳述句的一部分。\n",
    "\n",
    "**分支 (branch):**\n",
    "條件陳述句中可供選擇的陳述句序列之一。\n",
    "\n",
    "**連鎖條件判斷 (chained conditional):**\n",
    "具有一系列替代分支的條件陳述句。\n",
    "\n",
    "**巢狀條件判斷 (nested conditional):**\n",
    "出現在另一個條件陳述句的某個分支中的條件陳述句。\n",
    "\n",
    "**遞迴的 (recursive):**\n",
    "呼叫自己的函式是遞迴的。\n",
    "\n",
    "**基礎案例 (base case) / 基本情況:**\n",
    "遞迴函式中不進行遞迴呼叫的條件分支。\n",
    "\n",
    "**無窮遞迴 (infinite recursion):**\n",
    "沒有基礎案例，或永遠達不到基礎案例的遞迴。\n",
    "最終，無窮遞迴會導致執行期錯誤。\n",
    "\n",
    "**換行符 (newline):**\n",
    "在字串的兩個部分之間建立換行的字元。"
   ]
  },
  {
   "cell_type": "markdown",
   "id": "9a6e940d",
   "metadata": {},
   "source": [
    "## 練習"
   ]
  },
  {
   "cell_type": "markdown",
   "id": "8df93931",
   "metadata": {},
   "source": [
    "這個儲存格告訴 Jupyter 在發生執行期錯誤時提供詳細的除錯資訊。\n",
    "在做練習之前先執行它。"
   ]
  },
  {
   "cell_type": "code",
   "execution_count": null,
   "id": "d087e206",
   "metadata": {
    "lines_to_next_cell": 2
   },
   "outputs": [],
   "source": [
    "get_ipython().run_line_magic('xmode', 'Verbose')"
   ]
  },
  {
   "cell_type": "markdown",
   "id": "cc6c813f",
   "metadata": {},
   "source": [
    "### 問問虛擬助理\n",
    "\n",
    "*   問虛擬助理：「模數運算子有哪些用途？」\n",
    "\n",
    "*   Python 提供了計算邏輯運算 `and`、`or` 和 `not` 的運算子，但它沒有計算互斥或 (exclusive `or`) 運算的運算子，通常寫作 `xor`。問助理：「什麼是邏輯 xor 運算，以及如何在 Python 中計算它？」\n",
    "\n",
    "在本章中，我們看到了兩種編寫具有三個分支的 `if` 陳述句的方法，使用連鎖條件判斷或巢狀條件判斷。\n",
    "你可以使用虛擬助理在兩者之間進行轉換。\n",
    "例如，問虛擬助理：「將此陳述句轉換為連鎖條件判斷。」"
   ]
  },
  {
   "cell_type": "code",
   "execution_count": 53,
   "id": "6e36991f",
   "metadata": {
    "lines_to_next_cell": 2
   },
   "outputs": [],
   "source": [
    "x = 5 # 譯註：為方便後續執行，這裡重新賦值\n",
    "y = 7"
   ]
  },
  {
   "cell_type": "code",
   "execution_count": 54,
   "id": "9f989220",
   "metadata": {
    "lines_to_next_cell": 2
   },
   "outputs": [
    {
     "name": "stdout",
     "output_type": "stream",
     "text": [
      "x 小於 y\n"
     ]
    }
   ],
   "source": [
    "if x == y:\n",
    "    print('x 和 y 相等') # 譯註：將英文改為中文\n",
    "else:\n",
    "    if x < y:\n",
    "        print('x 小於 y')\n",
    "    else:\n",
    "        print('x 大於 y')"
   ]
  },
  {
   "cell_type": "markdown",
   "id": "46c41f24",
   "metadata": {},
   "source": [
    "問虛擬助理：「用單一條件判斷重寫此陳述句。」"
   ]
  },
  {
   "cell_type": "code",
   "execution_count": 55,
   "id": "2c98f1fe",
   "metadata": {
    "lines_to_next_cell": 2
   },
   "outputs": [
    {
     "name": "stdout",
     "output_type": "stream",
     "text": [
      "x 是一個正的個位數。\n"
     ]
    }
   ],
   "source": [
    "if 0 < x:\n",
    "    if x < 10:\n",
    "        print('x 是一個正的個位數。') # 譯註：將英文改為中文"
   ]
  },
  {
   "cell_type": "markdown",
   "id": "76ec598e",
   "metadata": {},
   "source": [
    "看看虛擬助理是否能簡化這個不必要的複雜寫法。"
   ]
  },
  {
   "cell_type": "code",
   "execution_count": null,
   "id": "a979808e",
   "metadata": {},
   "outputs": [],
   "source": [
    "if not x <= 0 and not x >= 10:\n",
    "    print('x 是一個正的個位數。') # 譯註：將英文改為中文"
   ]
  },
  {
   "cell_type": "markdown",
   "id": "f16a2970",
   "metadata": {},
   "source": [
    "這是一個嘗試遞迴倒數兩個數字的函式。"
   ]
  },
  {
   "cell_type": "code",
   "execution_count": 56,
   "id": "079c3078",
   "metadata": {},
   "outputs": [],
   "source": [
    "def countdown_by_two(n):\n",
    "    if n == 0:\n",
    "        print('發射！') # 譯註：將英文改為中文\n",
    "    else:\n",
    "        print(n)\n",
    "        countdown_by_two(n-2)"
   ]
  },
  {
   "cell_type": "markdown",
   "id": "ade9f18d",
   "metadata": {},
   "source": [
    "看起來運作正常。"
   ]
  },
  {
   "cell_type": "code",
   "execution_count": 57,
   "id": "1bc18e44",
   "metadata": {
    "lines_to_next_cell": 2
   },
   "outputs": [
    {
     "name": "stdout",
     "output_type": "stream",
     "text": [
      "6\n",
      "4\n",
      "2\n",
      "發射！\n"
     ]
    }
   ],
   "source": [
    "countdown_by_two(6)"
   ]
  },
  {
   "cell_type": "markdown",
   "id": "cc985ee0",
   "metadata": {},
   "source": [
    "但它有一個錯誤。問虛擬助理哪裡錯了以及如何修正。\n",
    "將它提供的解決方案貼回到這裡並進行測試。\n",
    "(譯註：提示，如果 n 是奇數會發生什麼事？)"
   ]
  },
  {
   "cell_type": "markdown",
   "id": "bc2693a1",
   "metadata": {},
   "source": [
    "### 練習\n",
    "\n",
    "`time` 模組提供了一個也叫做 `time` 的函式，它回傳\n",
    "自「Unix 紀元」(Unix epoch) 以來的秒數，也就是 1970 年 1 月 1 日 00:00:00 UTC (協調世界時)。"
   ]
  },
  {
   "cell_type": "code",
   "execution_count": 58,
   "id": "901fbde6",
   "metadata": {},
   "outputs": [],
   "source": [
    "from time import time"
   ]
  },
  {
   "cell_type": "code",
   "execution_count": 71,
   "id": "d06c09ad",
   "metadata": {
    "lines_to_next_cell": 2
   },
   "outputs": [
    {
     "data": {
      "text/plain": [
       "1750674423.0452828"
      ]
     },
     "execution_count": 71,
     "metadata": {},
     "output_type": "execute_result"
    }
   ],
   "source": [
    "now = time()\n",
    "now"
   ]
  },
  {
   "cell_type": "markdown",
   "id": "f535d4cb",
   "metadata": {},
   "source": [
    "使用整數除法和模數運算子計算自 1970 年 1 月 1 日以來的天數，以及目前時間的小時、分鐘和秒。"
   ]
  },
  {
   "cell_type": "markdown",
   "id": "22c0ef35",
   "metadata": {},
   "source": [
    "你可以在 <https://docs.python.org/3/library/time.html> 閱讀更多關於 `time` 模組的資訊。"
   ]
  },
  {
   "cell_type": "markdown",
   "id": "fc4140e6",
   "metadata": {},
   "source": [
    "解答"
   ]
  },
  {
   "cell_type": "code",
   "execution_count": 72,
   "id": "6d7e7b59",
   "metadata": {
    "lines_to_next_cell": 2
   },
   "outputs": [
    {
     "data": {
      "text/plain": [
       "20262.0"
      ]
     },
     "execution_count": 72,
     "metadata": {},
     "output_type": "execute_result"
    }
   ],
   "source": [
    "seconds_per_day = 24 * 60 * 60\n",
    "days = now // seconds_per_day\n",
    "days"
   ]
  },
  {
   "cell_type": "markdown",
   "id": "eee17f2c",
   "metadata": {},
   "source": [
    "解答"
   ]
  },
  {
   "cell_type": "code",
   "execution_count": 77,
   "id": "77bb73a2",
   "metadata": {},
   "outputs": [
    {
     "data": {
      "text/plain": [
       "86400"
      ]
     },
     "execution_count": 77,
     "metadata": {},
     "output_type": "execute_result"
    }
   ],
   "source": [
    "seconds_per_day = 24 * 60 * 60\n",
    "seconds_per_day"
   ]
  },
  {
   "cell_type": "code",
   "execution_count": 83,
   "id": "dff6d262",
   "metadata": {},
   "outputs": [
    {
     "data": {
      "text/plain": [
       "37623.04528284073"
      ]
     },
     "execution_count": 83,
     "metadata": {},
     "output_type": "execute_result"
    }
   ],
   "source": [
    "remainder_after_days = now % seconds_per_day # 譯註：變數名修改，更清晰\n",
    "remainder_after_days"
   ]
  },
  {
   "cell_type": "code",
   "execution_count": null,
   "id": "d9499f99",
   "metadata": {
    "lines_to_next_cell": 2
   },
   "outputs": [
    {
     "data": {
      "text/plain": [
       "10.0"
      ]
     },
     "execution_count": 75,
     "metadata": {},
     "output_type": "execute_result"
    }
   ],
   "source": [
    "hours = remainder_after_days // 3600\n",
    "hours"
   ]
  },
  {
   "cell_type": "markdown",
   "id": "3aa80853",
   "metadata": {},
   "source": [
    "解答"
   ]
  },
  {
   "cell_type": "code",
   "execution_count": 85,
   "id": "b29a097b",
   "metadata": {},
   "outputs": [],
   "source": [
    "remainder_after_hours = remainder_after_days % 3600 # 譯註：變數名修改"
   ]
  },
  {
   "cell_type": "code",
   "execution_count": 86,
   "id": "fc0b365d",
   "metadata": {
    "lines_to_next_cell": 2
   },
   "outputs": [
    {
     "data": {
      "text/plain": [
       "27.0"
      ]
     },
     "execution_count": 86,
     "metadata": {},
     "output_type": "execute_result"
    }
   ],
   "source": [
    "minutes = remainder_after_hours // 60\n",
    "minutes"
   ]
  },
  {
   "cell_type": "markdown",
   "id": "258b619c",
   "metadata": {},
   "source": [
    "解答"
   ]
  },
  {
   "cell_type": "code",
   "execution_count": 87,
   "id": "798e99b9",
   "metadata": {},
   "outputs": [
    {
     "data": {
      "text/plain": [
       "3.0452828407287598"
      ]
     },
     "execution_count": 87,
     "metadata": {},
     "output_type": "execute_result"
    }
   ],
   "source": [
    "seconds = remainder_after_hours % 60\n",
    "seconds"
   ]
  },
  {
   "cell_type": "markdown",
   "id": "0f700e2d",
   "metadata": {},
   "source": [
    "### 練習\n",
    "\n",
    "如果給你三根棍子，你可能可以或不一定可以把它們\n",
    "排列成一個三角形。例如，如果其中一根棍子長 12 英寸，\n",
    "另外兩根各長一英寸，你就無法讓\n",
    "短棍子在中間相遇。對於任何三個長度，都有一個\n",
    "測試方法來判斷是否可能形成三角形：\n",
    "\n",
    "> 如果三個長度中的任何一個大於其他兩個長度的總和，\n",
    "> 那麼你就無法形成三角形。否則，你可以。（如果\n",
    "> 兩個長度的總和等於第三個長度，它們會形成所謂的「退化」\n",
    "> 三角形。）\n",
    "\n",
    "寫一個名為 `is_triangle` 的函式，它接受三個整數作為\n",
    "引數，並根據你是否可以\n",
    "用給定長度的棍子形成三角形，印出 \"可以\" 或 \"不可以\"。\n",
    "提示：使用連鎖條件判斷。\n"
   ]
  },
  {
   "cell_type": "markdown",
   "id": "a3089f0b",
   "metadata": {},
   "source": [
    "解答"
   ]
  },
  {
   "cell_type": "code",
   "execution_count": 88,
   "id": "9ad2c86b",
   "metadata": {},
   "outputs": [],
   "source": [
    "def is_triangle(a, b, c):\n",
    "    if a > b + c:\n",
    "        print('不可以') # 譯註：將英文改為中文\n",
    "    elif b > a + c:\n",
    "        print('不可以')\n",
    "    elif c > a + b:\n",
    "        print('不可以')\n",
    "    else:\n",
    "        print('可以')"
   ]
  },
  {
   "cell_type": "markdown",
   "id": "14c388cc",
   "metadata": {},
   "source": [
    "用以下案例測試你的函式。"
   ]
  },
  {
   "cell_type": "code",
   "execution_count": 89,
   "id": "de3fe13a",
   "metadata": {
    "lines_to_next_cell": 2
   },
   "outputs": [
    {
     "name": "stdout",
     "output_type": "stream",
     "text": [
      "可以\n"
     ]
    }
   ],
   "source": [
    "is_triangle(4, 5, 6)   # 應該是 可以"
   ]
  },
  {
   "cell_type": "code",
   "execution_count": 90,
   "id": "89b88959",
   "metadata": {
    "lines_to_next_cell": 2
   },
   "outputs": [
    {
     "name": "stdout",
     "output_type": "stream",
     "text": [
      "可以\n"
     ]
    }
   ],
   "source": [
    "is_triangle(1, 2, 3)   # 應該是 可以 (退化三角形)"
   ]
  },
  {
   "cell_type": "code",
   "execution_count": 91,
   "id": "c2df370c",
   "metadata": {
    "lines_to_next_cell": 2
   },
   "outputs": [
    {
     "name": "stdout",
     "output_type": "stream",
     "text": [
      "不可以\n"
     ]
    }
   ],
   "source": [
    "is_triangle(6, 2, 3)   # 應該是 不可以"
   ]
  },
  {
   "cell_type": "code",
   "execution_count": 92,
   "id": "daf9eda5",
   "metadata": {},
   "outputs": [
    {
     "name": "stdout",
     "output_type": "stream",
     "text": [
      "不可以\n"
     ]
    }
   ],
   "source": [
    "is_triangle(1, 1, 12)  # 應該是 不可以"
   ]
  },
  {
   "cell_type": "markdown",
   "id": "34561ef7",
   "metadata": {},
   "source": [
    "### 練習\n",
    "\n",
    "下列程式的輸出是什麼？畫一個堆疊圖，\n",
    "顯示程式印出結果時的狀態。"
   ]
  },
  {
   "cell_type": "code",
   "execution_count": 93,
   "id": "05725b1e",
   "metadata": {
    "lines_to_next_cell": 1
   },
   "outputs": [],
   "source": [
    "def recurse_sum(n_val, s_val): # 譯註：變數名修改以避免與其他n,s衝突\n",
    "    if n_val == 0:\n",
    "        print(s_val)\n",
    "    else:\n",
    "        recurse_sum(n_val-1, n_val+s_val)"
   ]
  },
  {
   "cell_type": "code",
   "execution_count": 94,
   "id": "746175d4",
   "metadata": {
    "lines_to_next_cell": 2
   },
   "outputs": [
    {
     "name": "stdout",
     "output_type": "stream",
     "text": [
      "6\n"
     ]
    }
   ],
   "source": [
    "recurse_sum(3, 0)"
   ]
  },
  {
   "cell_type": "markdown",
   "id": "bc7db948",
   "metadata": {},
   "source": [
    "解答"
   ]
  },
  {
   "cell_type": "code",
   "execution_count": null,
   "id": "47a35895",
   "metadata": {
    "lines_to_next_cell": 2
   },
   "outputs": [],
   "source": [
    "\"\"\"計算从 1 到 `n_val` 的數字總和\n",
    "\n",
    "n_val: 整數\n",
    "s_val: 到目前為止數字的總和\n",
    "\"\"\"\n",
    "# 譯註：當 recurse_sum(3, 0) 被呼叫時：\n",
    "# recurse_sum(3, 0) -> recurse_sum(2, 3+0=3)\n",
    "# recurse_sum(2, 3) -> recurse_sum(1, 2+3=5)\n",
    "# recurse_sum(1, 5) -> recurse_sum(0, 1+5=6)\n",
    "# recurse_sum(0, 6) -> print(6)\n",
    "# 所以輸出是 6"
   ]
  },
  {
   "cell_type": "markdown",
   "id": "84a48e79",
   "metadata": {},
   "source": [
    "解答 (堆疊圖的程式碼)"
   ]
  },
  {
   "cell_type": "code",
   "execution_count": null,
   "id": "5d3a0616",
   "metadata": {},
   "outputs": [],
   "source": [
    "from diagram import make_frame, Stack # 譯註：這是書中用來畫圖的工具\n",
    "from diagram import diagram, adjust"
   ]
  },
  {
   "cell_type": "code",
   "execution_count": null,
   "id": "cfc3f24b",
   "metadata": {},
   "outputs": [],
   "source": [
    "frames = []\n",
    "# 譯註：原始的 s 計算 (6-sum(range(n+1))) 是為了讓最後 s 為 6。\n",
    "# 這裡我們模擬實際呼叫時 s 的變化\n",
    "s_values_in_call = [0, 3, 5, 6] # s 在每次呼叫 recurse_sum 時的值 (對應 n = 3, 2, 1, 0)\n",
    "n_values_in_call = [3, 2, 1, 0]"
   ]
  },
  {
   "cell_type": "code",
   "execution_count": null,
   "id": "450bdeb5",
   "metadata": {},
   "outputs": [],
   "source": [
    "for i in range(len(n_values_in_call)):\n",
    "    n_current = n_values_in_call[i]\n",
    "    s_current = s_values_in_call[i]\n",
    "    d = dict(n_val=n_current, s_val=s_current)\n",
    "    frame = make_frame(d, name='recurse_sum', dx=1.0, loc='left')\n",
    "    frames.append(frame)"
   ]
  },
  {
   "cell_type": "code",
   "execution_count": null,
   "id": "e5ac83bb",
   "metadata": {},
   "outputs": [],
   "source": [
    "# 堆疊圖的順序是從最先呼叫到最後呼叫 (底部到頂部)，或者反過來。\n",
    "# 這裡的 frames 順序是呼叫順序，Stack 會將其畫成堆疊。\n",
    "stack = Stack(frames, dy=-0.5)"
   ]
  },
  {
   "cell_type": "code",
   "execution_count": null,
   "id": "6b0934c2",
   "metadata": {
    "lines_to_next_cell": 2
   },
   "outputs": [],
   "source": [
    "width, height, x_pos, y_pos = [2.49, 2.04, 0.81, 1.77] # 譯註：變數名 x, y 改為 x_pos, y_pos\n",
    "ax = diagram(width, height)\n",
    "bbox = stack.draw(ax, x_pos, y_pos)\n",
    "# adjust(x_pos, y_pos, bbox)"
   ]
  },
  {
   "cell_type": "markdown",
   "id": "16c4e76b",
   "metadata": {},
   "source": [
    "### 練習\n",
    "\n",
    "下面的練習使用第 4 章描述的 `jupyturtle` 模組。\n",
    "\n",
    "閱讀下面的函式，看看你是否能弄清楚它做了什麼。\n",
    "然後執行它，看看你是否猜對了。\n",
    "調整 `length`、`angle` 和 `factor` 的值，看看它們對結果有什麼影響。\n",
    "如果你不確定它是如何運作的，可以試著問虛擬助理。"
   ]
  },
  {
   "cell_type": "code",
   "execution_count": 95,
   "id": "59acf3f7",
   "metadata": {
    "lines_to_next_cell": 1
   },
   "outputs": [],
   "source": [
    "from jupyturtle import forward, left, right, back, make_turtle # 譯註：補上 make_turtle"
   ]
  },
  {
   "cell_type": "code",
   "execution_count": 124,
   "id": "0cfd9cbc",
   "metadata": {},
   "outputs": [],
   "source": [
    "def draw_fractal_tree(length_val): # 譯註：函式名和參數名修改\n",
    "    angle_val = 40 # 譯註：變數名修改\n",
    "    factor_val = 0.6 # 譯註：變數名修改\n",
    "\n",
    "    if length_val > 5:\n",
    "        forward(length_val)\n",
    "        left(angle_val)\n",
    "        draw_fractal_tree(factor_val * length_val) # 遞迴呼叫\n",
    "        right(2 * angle_val)\n",
    "        draw_fractal_tree(factor_val * length_val) # 遞迴呼叫  \n",
    "        left(angle_val)\n",
    "\n",
    "        right(3 * angle_val)\n",
    "        draw_fractal_tree(factor_val * length_val) # 遞迴呼叫\n",
    "        left( angle_val)\n",
    "        back(length_val)"
   ]
  },
  {
   "cell_type": "markdown",
   "id": "09d8bf14",
   "metadata": {},
   "source": [
    "解答"
   ]
  },
  {
   "cell_type": "markdown",
   "id": "f1c6a76e",
   "metadata": {},
   "source": [
    "from jupyturtle import make_turtle # 譯註：已在上方 import"
   ]
  },
  {
   "cell_type": "code",
   "execution_count": 125,
   "id": "10761d93",
   "metadata": {},
   "outputs": [
    {
     "data": {
      "text/html": [
       "<svg width=\"300\" height=\"150\">\n",
       "    <rect width=\"100%\" height=\"100%\" fill=\"#F3F3F7\" />\n",
       "\n",
       "<line x1=\"150\" y1=\"75\" x2=\"210.0\" y2=\"75.0\"\n",
       "    stroke=\"#663399\" stroke-width=\"2\" />\n",
       "<line x1=\"210.0\" y1=\"75.0\" x2=\"237.6\" y2=\"51.9\"\n",
       "    stroke=\"#663399\" stroke-width=\"2\" />\n",
       "<line x1=\"237.6\" y1=\"51.9\" x2=\"241.3\" y2=\"30.6\"\n",
       "    stroke=\"#663399\" stroke-width=\"2\" />\n",
       "<line x1=\"241.3\" y1=\"30.6\" x2=\"234.8\" y2=\"19.4\"\n",
       "    stroke=\"#663399\" stroke-width=\"2\" />\n",
       "<line x1=\"234.8\" y1=\"19.4\" x2=\"227.5\" y2=\"16.7\"\n",
       "    stroke=\"#663399\" stroke-width=\"2\" />\n",
       "<line x1=\"227.5\" y1=\"16.7\" x2=\"226.2\" y2=\"24.4\"\n",
       "    stroke=\"#663399\" stroke-width=\"2\" />\n",
       "<line x1=\"226.2\" y1=\"24.4\" x2=\"234.0\" y2=\"24.4\"\n",
       "    stroke=\"#663399\" stroke-width=\"2\" />\n",
       "<line x1=\"234.0\" y1=\"24.4\" x2=\"232.6\" y2=\"16.7\"\n",
       "    stroke=\"#663399\" stroke-width=\"2\" />\n",
       "<line x1=\"232.6\" y1=\"16.7\" x2=\"225.3\" y2=\"19.4\"\n",
       "    stroke=\"#663399\" stroke-width=\"2\" />\n",
       "<line x1=\"225.3\" y1=\"19.4\" x2=\"229.2\" y2=\"26.1\"\n",
       "    stroke=\"#663399\" stroke-width=\"2\" />\n",
       "<line x1=\"229.2\" y1=\"26.1\" x2=\"241.4\" y2=\"30.5\"\n",
       "    stroke=\"#663399\" stroke-width=\"2\" />\n",
       "<line x1=\"241.4\" y1=\"30.5\" x2=\"243.6\" y2=\"17.8\"\n",
       "    stroke=\"#663399\" stroke-width=\"2\" />\n",
       "<line x1=\"243.6\" y1=\"17.8\" x2=\"239.7\" y2=\"11.0\"\n",
       "    stroke=\"#663399\" stroke-width=\"2\" />\n",
       "<line x1=\"239.7\" y1=\"11.0\" x2=\"233.8\" y2=\"16.0\"\n",
       "    stroke=\"#663399\" stroke-width=\"2\" />\n",
       "<line x1=\"233.8\" y1=\"16.0\" x2=\"239.7\" y2=\"21.0\"\n",
       "    stroke=\"#663399\" stroke-width=\"2\" />\n",
       "<line x1=\"239.7\" y1=\"21.0\" x2=\"243.6\" y2=\"14.3\"\n",
       "    stroke=\"#663399\" stroke-width=\"2\" />\n",
       "<line x1=\"243.6\" y1=\"14.3\" x2=\"236.3\" y2=\"11.6\"\n",
       "    stroke=\"#663399\" stroke-width=\"2\" />\n",
       "<line x1=\"236.3\" y1=\"11.6\" x2=\"235.0\" y2=\"19.3\"\n",
       "    stroke=\"#663399\" stroke-width=\"2\" />\n",
       "<line x1=\"235.0\" y1=\"19.3\" x2=\"241.4\" y2=\"30.5\"\n",
       "    stroke=\"#663399\" stroke-width=\"2\" />\n",
       "<line x1=\"241.4\" y1=\"30.5\" x2=\"251.4\" y2=\"22.2\"\n",
       "    stroke=\"#663399\" stroke-width=\"2\" />\n",
       "<line x1=\"251.4\" y1=\"22.2\" x2=\"252.7\" y2=\"14.5\"\n",
       "    stroke=\"#663399\" stroke-width=\"2\" />\n",
       "<line x1=\"252.7\" y1=\"14.5\" x2=\"245.0\" y2=\"14.5\"\n",
       "    stroke=\"#663399\" stroke-width=\"2\" />\n",
       "<line x1=\"245.0\" y1=\"14.5\" x2=\"246.3\" y2=\"22.2\"\n",
       "    stroke=\"#663399\" stroke-width=\"2\" />\n",
       "<line x1=\"246.3\" y1=\"22.2\" x2=\"253.6\" y2=\"19.5\"\n",
       "    stroke=\"#663399\" stroke-width=\"2\" />\n",
       "<line x1=\"253.6\" y1=\"19.5\" x2=\"249.7\" y2=\"12.8\"\n",
       "    stroke=\"#663399\" stroke-width=\"2\" />\n",
       "<line x1=\"249.7\" y1=\"12.8\" x2=\"243.8\" y2=\"17.8\"\n",
       "    stroke=\"#663399\" stroke-width=\"2\" />\n",
       "<line x1=\"243.8\" y1=\"17.8\" x2=\"241.5\" y2=\"30.6\"\n",
       "    stroke=\"#663399\" stroke-width=\"2\" />\n",
       "<line x1=\"241.5\" y1=\"30.6\" x2=\"252.3\" y2=\"49.3\"\n",
       "    stroke=\"#663399\" stroke-width=\"2\" />\n",
       "<line x1=\"252.3\" y1=\"49.3\" x2=\"268.9\" y2=\"35.4\"\n",
       "    stroke=\"#663399\" stroke-width=\"2\" />\n",
       "<line x1=\"268.9\" y1=\"35.4\" x2=\"271.1\" y2=\"22.6\"\n",
       "    stroke=\"#663399\" stroke-width=\"2\" />\n",
       "<line x1=\"271.1\" y1=\"22.6\" x2=\"267.2\" y2=\"15.9\"\n",
       "    stroke=\"#663399\" stroke-width=\"2\" />\n",
       "<line x1=\"267.2\" y1=\"15.9\" x2=\"261.3\" y2=\"20.9\"\n",
       "    stroke=\"#663399\" stroke-width=\"2\" />\n",
       "<line x1=\"261.3\" y1=\"20.9\" x2=\"267.2\" y2=\"25.9\"\n",
       "    stroke=\"#663399\" stroke-width=\"2\" />\n",
       "<line x1=\"267.2\" y1=\"25.9\" x2=\"271.1\" y2=\"19.1\"\n",
       "    stroke=\"#663399\" stroke-width=\"2\" />\n",
       "<line x1=\"271.1\" y1=\"19.1\" x2=\"263.8\" y2=\"16.5\"\n",
       "    stroke=\"#663399\" stroke-width=\"2\" />\n",
       "<line x1=\"263.8\" y1=\"16.5\" x2=\"262.5\" y2=\"24.1\"\n",
       "    stroke=\"#663399\" stroke-width=\"2\" />\n",
       "<line x1=\"262.5\" y1=\"24.1\" x2=\"268.9\" y2=\"35.4\"\n",
       "    stroke=\"#663399\" stroke-width=\"2\" />\n",
       "<line x1=\"268.9\" y1=\"35.4\" x2=\"278.9\" y2=\"27.0\"\n",
       "    stroke=\"#663399\" stroke-width=\"2\" />\n",
       "<line x1=\"278.9\" y1=\"27.0\" x2=\"280.2\" y2=\"19.4\"\n",
       "    stroke=\"#663399\" stroke-width=\"2\" />\n",
       "<line x1=\"280.2\" y1=\"19.4\" x2=\"272.4\" y2=\"19.4\"\n",
       "    stroke=\"#663399\" stroke-width=\"2\" />\n",
       "<line x1=\"272.4\" y1=\"19.4\" x2=\"273.8\" y2=\"27.0\"\n",
       "    stroke=\"#663399\" stroke-width=\"2\" />\n",
       "<line x1=\"273.8\" y1=\"27.0\" x2=\"281.1\" y2=\"24.4\"\n",
       "    stroke=\"#663399\" stroke-width=\"2\" />\n",
       "<line x1=\"281.1\" y1=\"24.4\" x2=\"277.2\" y2=\"17.6\"\n",
       "    stroke=\"#663399\" stroke-width=\"2\" />\n",
       "<line x1=\"277.2\" y1=\"17.6\" x2=\"271.2\" y2=\"22.6\"\n",
       "    stroke=\"#663399\" stroke-width=\"2\" />\n",
       "<line x1=\"271.2\" y1=\"22.6\" x2=\"269.0\" y2=\"35.4\"\n",
       "    stroke=\"#663399\" stroke-width=\"2\" />\n",
       "<line x1=\"269.0\" y1=\"35.4\" x2=\"282.0\" y2=\"35.4\"\n",
       "    stroke=\"#663399\" stroke-width=\"2\" />\n",
       "<line x1=\"282.0\" y1=\"35.4\" x2=\"287.9\" y2=\"30.4\"\n",
       "    stroke=\"#663399\" stroke-width=\"2\" />\n",
       "<line x1=\"287.9\" y1=\"30.4\" x2=\"282.0\" y2=\"25.4\"\n",
       "    stroke=\"#663399\" stroke-width=\"2\" />\n",
       "<line x1=\"282.0\" y1=\"25.4\" x2=\"278.1\" y2=\"32.1\"\n",
       "    stroke=\"#663399\" stroke-width=\"2\" />\n",
       "<line x1=\"278.1\" y1=\"32.1\" x2=\"285.4\" y2=\"34.8\"\n",
       "    stroke=\"#663399\" stroke-width=\"2\" />\n",
       "<line x1=\"285.4\" y1=\"34.8\" x2=\"286.7\" y2=\"27.1\"\n",
       "    stroke=\"#663399\" stroke-width=\"2\" />\n",
       "<line x1=\"286.7\" y1=\"27.1\" x2=\"279.0\" y2=\"27.1\"\n",
       "    stroke=\"#663399\" stroke-width=\"2\" />\n",
       "<line x1=\"279.0\" y1=\"27.1\" x2=\"269.0\" y2=\"35.5\"\n",
       "    stroke=\"#663399\" stroke-width=\"2\" />\n",
       "<line x1=\"269.0\" y1=\"35.5\" x2=\"265.3\" y2=\"56.7\"\n",
       "    stroke=\"#663399\" stroke-width=\"2\" />\n",
       "<line x1=\"265.3\" y1=\"56.7\" x2=\"286.9\" y2=\"56.7\"\n",
       "    stroke=\"#663399\" stroke-width=\"2\" />\n",
       "<line x1=\"286.9\" y1=\"56.7\" x2=\"296.8\" y2=\"48.4\"\n",
       "    stroke=\"#663399\" stroke-width=\"2\" />\n",
       "<line x1=\"296.8\" y1=\"48.4\" x2=\"298.2\" y2=\"40.8\"\n",
       "    stroke=\"#663399\" stroke-width=\"2\" />\n",
       "<line x1=\"298.2\" y1=\"40.8\" x2=\"290.4\" y2=\"40.8\"\n",
       "    stroke=\"#663399\" stroke-width=\"2\" />\n",
       "<line x1=\"290.4\" y1=\"40.8\" x2=\"291.7\" y2=\"48.4\"\n",
       "    stroke=\"#663399\" stroke-width=\"2\" />\n",
       "<line x1=\"291.7\" y1=\"48.4\" x2=\"299.0\" y2=\"45.8\"\n",
       "    stroke=\"#663399\" stroke-width=\"2\" />\n",
       "<line x1=\"299.0\" y1=\"45.8\" x2=\"295.1\" y2=\"39.0\"\n",
       "    stroke=\"#663399\" stroke-width=\"2\" />\n",
       "<line x1=\"295.1\" y1=\"39.0\" x2=\"289.2\" y2=\"44.0\"\n",
       "    stroke=\"#663399\" stroke-width=\"2\" />\n",
       "<line x1=\"289.2\" y1=\"44.0\" x2=\"286.9\" y2=\"56.8\"\n",
       "    stroke=\"#663399\" stroke-width=\"2\" />\n",
       "<line x1=\"286.9\" y1=\"56.8\" x2=\"299.9\" y2=\"56.8\"\n",
       "    stroke=\"#663399\" stroke-width=\"2\" />\n",
       "<line x1=\"299.9\" y1=\"56.8\" x2=\"305.9\" y2=\"51.8\"\n",
       "    stroke=\"#663399\" stroke-width=\"2\" />\n",
       "<line x1=\"305.9\" y1=\"51.8\" x2=\"299.9\" y2=\"46.8\"\n",
       "    stroke=\"#663399\" stroke-width=\"2\" />\n",
       "<line x1=\"299.9\" y1=\"46.8\" x2=\"296.0\" y2=\"53.5\"\n",
       "    stroke=\"#663399\" stroke-width=\"2\" />\n",
       "<line x1=\"296.0\" y1=\"53.5\" x2=\"303.3\" y2=\"56.2\"\n",
       "    stroke=\"#663399\" stroke-width=\"2\" />\n",
       "<line x1=\"303.3\" y1=\"56.2\" x2=\"304.7\" y2=\"48.5\"\n",
       "    stroke=\"#663399\" stroke-width=\"2\" />\n",
       "<line x1=\"304.7\" y1=\"48.5\" x2=\"296.9\" y2=\"48.5\"\n",
       "    stroke=\"#663399\" stroke-width=\"2\" />\n",
       "<line x1=\"296.9\" y1=\"48.5\" x2=\"287.0\" y2=\"56.8\"\n",
       "    stroke=\"#663399\" stroke-width=\"2\" />\n",
       "<line x1=\"287.0\" y1=\"56.8\" x2=\"296.9\" y2=\"65.2\"\n",
       "    stroke=\"#663399\" stroke-width=\"2\" />\n",
       "<line x1=\"296.9\" y1=\"65.2\" x2=\"304.7\" y2=\"65.2\"\n",
       "    stroke=\"#663399\" stroke-width=\"2\" />\n",
       "<line x1=\"304.7\" y1=\"65.2\" x2=\"303.3\" y2=\"57.5\"\n",
       "    stroke=\"#663399\" stroke-width=\"2\" />\n",
       "<line x1=\"303.3\" y1=\"57.5\" x2=\"296.0\" y2=\"60.2\"\n",
       "    stroke=\"#663399\" stroke-width=\"2\" />\n",
       "<line x1=\"296.0\" y1=\"60.2\" x2=\"299.9\" y2=\"66.9\"\n",
       "    stroke=\"#663399\" stroke-width=\"2\" />\n",
       "<line x1=\"299.9\" y1=\"66.9\" x2=\"305.9\" y2=\"61.9\"\n",
       "    stroke=\"#663399\" stroke-width=\"2\" />\n",
       "<line x1=\"305.9\" y1=\"61.9\" x2=\"299.9\" y2=\"56.9\"\n",
       "    stroke=\"#663399\" stroke-width=\"2\" />\n",
       "<line x1=\"299.9\" y1=\"56.9\" x2=\"286.9\" y2=\"56.9\"\n",
       "    stroke=\"#663399\" stroke-width=\"2\" />\n",
       "<line x1=\"286.9\" y1=\"56.9\" x2=\"270.4\" y2=\"70.8\"\n",
       "    stroke=\"#663399\" stroke-width=\"2\" />\n",
       "<line x1=\"270.4\" y1=\"70.8\" x2=\"264.1\" y2=\"106.3\"\n",
       "    stroke=\"#663399\" stroke-width=\"2\" />\n",
       "<line x1=\"264.1\" y1=\"106.3\" x2=\"300.1\" y2=\"106.3\"\n",
       "    stroke=\"#663399\" stroke-width=\"2\" />\n",
       "<line x1=\"300.1\" y1=\"106.3\" x2=\"316.7\" y2=\"92.4\"\n",
       "    stroke=\"#663399\" stroke-width=\"2\" />\n",
       "<line x1=\"316.7\" y1=\"92.4\" x2=\"318.9\" y2=\"79.6\"\n",
       "    stroke=\"#663399\" stroke-width=\"2\" />\n",
       "<line x1=\"318.9\" y1=\"79.6\" x2=\"315.0\" y2=\"72.9\"\n",
       "    stroke=\"#663399\" stroke-width=\"2\" />\n",
       "<line x1=\"315.0\" y1=\"72.9\" x2=\"309.1\" y2=\"77.9\"\n",
       "    stroke=\"#663399\" stroke-width=\"2\" />\n",
       "<line x1=\"309.1\" y1=\"77.9\" x2=\"315.0\" y2=\"82.9\"\n",
       "    stroke=\"#663399\" stroke-width=\"2\" />\n",
       "<line x1=\"315.0\" y1=\"82.9\" x2=\"318.9\" y2=\"76.1\"\n",
       "    stroke=\"#663399\" stroke-width=\"2\" />\n",
       "<line x1=\"318.9\" y1=\"76.1\" x2=\"311.6\" y2=\"73.5\"\n",
       "    stroke=\"#663399\" stroke-width=\"2\" />\n",
       "<line x1=\"311.6\" y1=\"73.5\" x2=\"310.3\" y2=\"81.1\"\n",
       "    stroke=\"#663399\" stroke-width=\"2\" />\n",
       "<line x1=\"310.3\" y1=\"81.1\" x2=\"316.8\" y2=\"92.4\"\n",
       "    stroke=\"#663399\" stroke-width=\"2\" />\n",
       "<line x1=\"316.8\" y1=\"92.4\" x2=\"326.7\" y2=\"84.0\"\n",
       "    stroke=\"#663399\" stroke-width=\"2\" />\n",
       "<line x1=\"326.7\" y1=\"84.0\" x2=\"328.0\" y2=\"76.4\"\n",
       "    stroke=\"#663399\" stroke-width=\"2\" />\n",
       "<line x1=\"328.0\" y1=\"76.4\" x2=\"320.3\" y2=\"76.4\"\n",
       "    stroke=\"#663399\" stroke-width=\"2\" />\n",
       "<line x1=\"320.3\" y1=\"76.4\" x2=\"321.6\" y2=\"84.0\"\n",
       "    stroke=\"#663399\" stroke-width=\"2\" />\n",
       "<line x1=\"321.6\" y1=\"84.0\" x2=\"328.9\" y2=\"81.4\"\n",
       "    stroke=\"#663399\" stroke-width=\"2\" />\n",
       "<line x1=\"328.9\" y1=\"81.4\" x2=\"325.0\" y2=\"74.6\"\n",
       "    stroke=\"#663399\" stroke-width=\"2\" />\n",
       "<line x1=\"325.0\" y1=\"74.6\" x2=\"319.1\" y2=\"79.6\"\n",
       "    stroke=\"#663399\" stroke-width=\"2\" />\n",
       "<line x1=\"319.1\" y1=\"79.6\" x2=\"316.8\" y2=\"92.4\"\n",
       "    stroke=\"#663399\" stroke-width=\"2\" />\n",
       "<line x1=\"316.8\" y1=\"92.4\" x2=\"329.8\" y2=\"92.4\"\n",
       "    stroke=\"#663399\" stroke-width=\"2\" />\n",
       "<line x1=\"329.8\" y1=\"92.4\" x2=\"335.7\" y2=\"87.4\"\n",
       "    stroke=\"#663399\" stroke-width=\"2\" />\n",
       "<line x1=\"335.7\" y1=\"87.4\" x2=\"329.8\" y2=\"82.4\"\n",
       "    stroke=\"#663399\" stroke-width=\"2\" />\n",
       "<line x1=\"329.8\" y1=\"82.4\" x2=\"325.9\" y2=\"89.1\"\n",
       "    stroke=\"#663399\" stroke-width=\"2\" />\n",
       "<line x1=\"325.9\" y1=\"89.1\" x2=\"333.2\" y2=\"91.8\"\n",
       "    stroke=\"#663399\" stroke-width=\"2\" />\n",
       "<line x1=\"333.2\" y1=\"91.8\" x2=\"334.6\" y2=\"84.1\"\n",
       "    stroke=\"#663399\" stroke-width=\"2\" />\n",
       "<line x1=\"334.6\" y1=\"84.1\" x2=\"326.8\" y2=\"84.1\"\n",
       "    stroke=\"#663399\" stroke-width=\"2\" />\n",
       "<line x1=\"326.8\" y1=\"84.1\" x2=\"316.8\" y2=\"92.5\"\n",
       "    stroke=\"#663399\" stroke-width=\"2\" />\n",
       "<line x1=\"316.8\" y1=\"92.5\" x2=\"313.1\" y2=\"113.7\"\n",
       "    stroke=\"#663399\" stroke-width=\"2\" />\n",
       "<line x1=\"313.1\" y1=\"113.7\" x2=\"334.7\" y2=\"113.7\"\n",
       "    stroke=\"#663399\" stroke-width=\"2\" />\n",
       "<line x1=\"334.7\" y1=\"113.7\" x2=\"344.6\" y2=\"105.4\"\n",
       "    stroke=\"#663399\" stroke-width=\"2\" />\n",
       "<line x1=\"344.6\" y1=\"105.4\" x2=\"346.0\" y2=\"97.8\"\n",
       "    stroke=\"#663399\" stroke-width=\"2\" />\n",
       "<line x1=\"346.0\" y1=\"97.8\" x2=\"338.2\" y2=\"97.8\"\n",
       "    stroke=\"#663399\" stroke-width=\"2\" />\n",
       "<line x1=\"338.2\" y1=\"97.8\" x2=\"339.5\" y2=\"105.4\"\n",
       "    stroke=\"#663399\" stroke-width=\"2\" />\n",
       "<line x1=\"339.5\" y1=\"105.4\" x2=\"346.9\" y2=\"102.7\"\n",
       "    stroke=\"#663399\" stroke-width=\"2\" />\n",
       "<line x1=\"346.9\" y1=\"102.7\" x2=\"343.0\" y2=\"96.0\"\n",
       "    stroke=\"#663399\" stroke-width=\"2\" />\n",
       "<line x1=\"343.0\" y1=\"96.0\" x2=\"337.0\" y2=\"101.0\"\n",
       "    stroke=\"#663399\" stroke-width=\"2\" />\n",
       "<line x1=\"337.0\" y1=\"101.0\" x2=\"334.8\" y2=\"113.8\"\n",
       "    stroke=\"#663399\" stroke-width=\"2\" />\n",
       "<line x1=\"334.8\" y1=\"113.8\" x2=\"347.7\" y2=\"113.8\"\n",
       "    stroke=\"#663399\" stroke-width=\"2\" />\n",
       "<line x1=\"347.7\" y1=\"113.8\" x2=\"353.7\" y2=\"108.8\"\n",
       "    stroke=\"#663399\" stroke-width=\"2\" />\n",
       "<line x1=\"353.7\" y1=\"108.8\" x2=\"347.7\" y2=\"103.8\"\n",
       "    stroke=\"#663399\" stroke-width=\"2\" />\n",
       "<line x1=\"347.7\" y1=\"103.8\" x2=\"343.8\" y2=\"110.5\"\n",
       "    stroke=\"#663399\" stroke-width=\"2\" />\n",
       "<line x1=\"343.8\" y1=\"110.5\" x2=\"351.1\" y2=\"113.2\"\n",
       "    stroke=\"#663399\" stroke-width=\"2\" />\n",
       "<line x1=\"351.1\" y1=\"113.2\" x2=\"352.5\" y2=\"105.5\"\n",
       "    stroke=\"#663399\" stroke-width=\"2\" />\n",
       "<line x1=\"352.5\" y1=\"105.5\" x2=\"344.7\" y2=\"105.5\"\n",
       "    stroke=\"#663399\" stroke-width=\"2\" />\n",
       "<line x1=\"344.7\" y1=\"105.5\" x2=\"334.8\" y2=\"113.8\"\n",
       "    stroke=\"#663399\" stroke-width=\"2\" />\n",
       "<line x1=\"334.8\" y1=\"113.8\" x2=\"344.7\" y2=\"122.2\"\n",
       "    stroke=\"#663399\" stroke-width=\"2\" />\n",
       "<line x1=\"344.7\" y1=\"122.2\" x2=\"352.5\" y2=\"122.2\"\n",
       "    stroke=\"#663399\" stroke-width=\"2\" />\n",
       "<line x1=\"352.5\" y1=\"122.2\" x2=\"351.1\" y2=\"114.5\"\n",
       "    stroke=\"#663399\" stroke-width=\"2\" />\n",
       "<line x1=\"351.1\" y1=\"114.5\" x2=\"343.8\" y2=\"117.2\"\n",
       "    stroke=\"#663399\" stroke-width=\"2\" />\n",
       "<line x1=\"343.8\" y1=\"117.2\" x2=\"347.7\" y2=\"123.9\"\n",
       "    stroke=\"#663399\" stroke-width=\"2\" />\n",
       "<line x1=\"347.7\" y1=\"123.9\" x2=\"353.7\" y2=\"118.9\"\n",
       "    stroke=\"#663399\" stroke-width=\"2\" />\n",
       "<line x1=\"353.7\" y1=\"118.9\" x2=\"347.7\" y2=\"113.9\"\n",
       "    stroke=\"#663399\" stroke-width=\"2\" />\n",
       "<line x1=\"347.7\" y1=\"113.9\" x2=\"334.8\" y2=\"113.9\"\n",
       "    stroke=\"#663399\" stroke-width=\"2\" />\n",
       "<line x1=\"334.8\" y1=\"113.9\" x2=\"318.2\" y2=\"127.8\"\n",
       "    stroke=\"#663399\" stroke-width=\"2\" />\n",
       "<line x1=\"318.2\" y1=\"127.8\" x2=\"334.8\" y2=\"141.7\"\n",
       "    stroke=\"#663399\" stroke-width=\"2\" />\n",
       "<line x1=\"334.8\" y1=\"141.7\" x2=\"347.7\" y2=\"141.7\"\n",
       "    stroke=\"#663399\" stroke-width=\"2\" />\n",
       "<line x1=\"347.7\" y1=\"141.7\" x2=\"353.7\" y2=\"136.7\"\n",
       "    stroke=\"#663399\" stroke-width=\"2\" />\n",
       "<line x1=\"353.7\" y1=\"136.7\" x2=\"347.7\" y2=\"131.7\"\n",
       "    stroke=\"#663399\" stroke-width=\"2\" />\n",
       "<line x1=\"347.7\" y1=\"131.7\" x2=\"343.8\" y2=\"138.4\"\n",
       "    stroke=\"#663399\" stroke-width=\"2\" />\n",
       "<line x1=\"343.8\" y1=\"138.4\" x2=\"351.1\" y2=\"141.1\"\n",
       "    stroke=\"#663399\" stroke-width=\"2\" />\n",
       "<line x1=\"351.1\" y1=\"141.1\" x2=\"352.5\" y2=\"133.4\"\n",
       "    stroke=\"#663399\" stroke-width=\"2\" />\n",
       "<line x1=\"352.5\" y1=\"133.4\" x2=\"344.7\" y2=\"133.4\"\n",
       "    stroke=\"#663399\" stroke-width=\"2\" />\n",
       "<line x1=\"344.7\" y1=\"133.4\" x2=\"334.8\" y2=\"141.8\"\n",
       "    stroke=\"#663399\" stroke-width=\"2\" />\n",
       "<line x1=\"334.8\" y1=\"141.8\" x2=\"344.7\" y2=\"150.1\"\n",
       "    stroke=\"#663399\" stroke-width=\"2\" />\n",
       "<line x1=\"344.7\" y1=\"150.1\" x2=\"352.5\" y2=\"150.1\"\n",
       "    stroke=\"#663399\" stroke-width=\"2\" />\n",
       "<line x1=\"352.5\" y1=\"150.1\" x2=\"351.1\" y2=\"142.4\"\n",
       "    stroke=\"#663399\" stroke-width=\"2\" />\n",
       "<line x1=\"351.1\" y1=\"142.4\" x2=\"343.8\" y2=\"145.1\"\n",
       "    stroke=\"#663399\" stroke-width=\"2\" />\n",
       "<line x1=\"343.8\" y1=\"145.1\" x2=\"347.7\" y2=\"151.8\"\n",
       "    stroke=\"#663399\" stroke-width=\"2\" />\n",
       "<line x1=\"347.7\" y1=\"151.8\" x2=\"353.7\" y2=\"146.8\"\n",
       "    stroke=\"#663399\" stroke-width=\"2\" />\n",
       "<line x1=\"353.7\" y1=\"146.8\" x2=\"347.7\" y2=\"141.8\"\n",
       "    stroke=\"#663399\" stroke-width=\"2\" />\n",
       "<line x1=\"347.7\" y1=\"141.8\" x2=\"334.8\" y2=\"141.8\"\n",
       "    stroke=\"#663399\" stroke-width=\"2\" />\n",
       "<line x1=\"334.8\" y1=\"141.8\" x2=\"337.0\" y2=\"154.6\"\n",
       "    stroke=\"#663399\" stroke-width=\"2\" />\n",
       "<line x1=\"337.0\" y1=\"154.6\" x2=\"343.0\" y2=\"159.6\"\n",
       "    stroke=\"#663399\" stroke-width=\"2\" />\n",
       "<line x1=\"343.0\" y1=\"159.6\" x2=\"346.9\" y2=\"152.9\"\n",
       "    stroke=\"#663399\" stroke-width=\"2\" />\n",
       "<line x1=\"346.9\" y1=\"152.9\" x2=\"339.5\" y2=\"150.2\"\n",
       "    stroke=\"#663399\" stroke-width=\"2\" />\n",
       "<line x1=\"339.5\" y1=\"150.2\" x2=\"338.2\" y2=\"157.8\"\n",
       "    stroke=\"#663399\" stroke-width=\"2\" />\n",
       "<line x1=\"338.2\" y1=\"157.8\" x2=\"346.0\" y2=\"157.8\"\n",
       "    stroke=\"#663399\" stroke-width=\"2\" />\n",
       "<line x1=\"346.0\" y1=\"157.8\" x2=\"344.6\" y2=\"150.2\"\n",
       "    stroke=\"#663399\" stroke-width=\"2\" />\n",
       "<line x1=\"344.6\" y1=\"150.2\" x2=\"334.7\" y2=\"141.9\"\n",
       "    stroke=\"#663399\" stroke-width=\"2\" />\n",
       "<line x1=\"334.7\" y1=\"141.9\" x2=\"313.1\" y2=\"141.9\"\n",
       "    stroke=\"#663399\" stroke-width=\"2\" />\n",
       "<line x1=\"313.1\" y1=\"141.9\" x2=\"285.5\" y2=\"165.0\"\n",
       "    stroke=\"#663399\" stroke-width=\"2\" />\n",
       "<line x1=\"285.5\" y1=\"165.0\" x2=\"313.1\" y2=\"188.1\"\n",
       "    stroke=\"#663399\" stroke-width=\"2\" />\n",
       "<line x1=\"313.1\" y1=\"188.1\" x2=\"334.7\" y2=\"188.1\"\n",
       "    stroke=\"#663399\" stroke-width=\"2\" />\n",
       "<line x1=\"334.7\" y1=\"188.1\" x2=\"344.6\" y2=\"179.8\"\n",
       "    stroke=\"#663399\" stroke-width=\"2\" />\n",
       "<line x1=\"344.6\" y1=\"179.8\" x2=\"346.0\" y2=\"172.2\"\n",
       "    stroke=\"#663399\" stroke-width=\"2\" />\n",
       "<line x1=\"346.0\" y1=\"172.2\" x2=\"338.2\" y2=\"172.2\"\n",
       "    stroke=\"#663399\" stroke-width=\"2\" />\n",
       "<line x1=\"338.2\" y1=\"172.2\" x2=\"339.5\" y2=\"179.8\"\n",
       "    stroke=\"#663399\" stroke-width=\"2\" />\n",
       "<line x1=\"339.5\" y1=\"179.8\" x2=\"346.9\" y2=\"177.2\"\n",
       "    stroke=\"#663399\" stroke-width=\"2\" />\n",
       "<line x1=\"346.9\" y1=\"177.2\" x2=\"343.0\" y2=\"170.4\"\n",
       "    stroke=\"#663399\" stroke-width=\"2\" />\n",
       "<line x1=\"343.0\" y1=\"170.4\" x2=\"337.0\" y2=\"175.4\"\n",
       "    stroke=\"#663399\" stroke-width=\"2\" />\n",
       "<line x1=\"337.0\" y1=\"175.4\" x2=\"334.8\" y2=\"188.2\"\n",
       "    stroke=\"#663399\" stroke-width=\"2\" />\n",
       "<line x1=\"334.8\" y1=\"188.2\" x2=\"347.7\" y2=\"188.2\"\n",
       "    stroke=\"#663399\" stroke-width=\"2\" />\n",
       "<line x1=\"347.7\" y1=\"188.2\" x2=\"353.7\" y2=\"183.2\"\n",
       "    stroke=\"#663399\" stroke-width=\"2\" />\n",
       "<line x1=\"353.7\" y1=\"183.2\" x2=\"347.7\" y2=\"178.2\"\n",
       "    stroke=\"#663399\" stroke-width=\"2\" />\n",
       "<line x1=\"347.7\" y1=\"178.2\" x2=\"343.8\" y2=\"184.9\"\n",
       "    stroke=\"#663399\" stroke-width=\"2\" />\n",
       "<line x1=\"343.8\" y1=\"184.9\" x2=\"351.1\" y2=\"187.6\"\n",
       "    stroke=\"#663399\" stroke-width=\"2\" />\n",
       "<line x1=\"351.1\" y1=\"187.6\" x2=\"352.5\" y2=\"179.9\"\n",
       "    stroke=\"#663399\" stroke-width=\"2\" />\n",
       "<line x1=\"352.5\" y1=\"179.9\" x2=\"344.7\" y2=\"179.9\"\n",
       "    stroke=\"#663399\" stroke-width=\"2\" />\n",
       "<line x1=\"344.7\" y1=\"179.9\" x2=\"334.8\" y2=\"188.2\"\n",
       "    stroke=\"#663399\" stroke-width=\"2\" />\n",
       "<line x1=\"334.8\" y1=\"188.2\" x2=\"344.7\" y2=\"196.6\"\n",
       "    stroke=\"#663399\" stroke-width=\"2\" />\n",
       "<line x1=\"344.7\" y1=\"196.6\" x2=\"352.5\" y2=\"196.6\"\n",
       "    stroke=\"#663399\" stroke-width=\"2\" />\n",
       "<line x1=\"352.5\" y1=\"196.6\" x2=\"351.1\" y2=\"188.9\"\n",
       "    stroke=\"#663399\" stroke-width=\"2\" />\n",
       "<line x1=\"351.1\" y1=\"188.9\" x2=\"343.8\" y2=\"191.6\"\n",
       "    stroke=\"#663399\" stroke-width=\"2\" />\n",
       "<line x1=\"343.8\" y1=\"191.6\" x2=\"347.7\" y2=\"198.3\"\n",
       "    stroke=\"#663399\" stroke-width=\"2\" />\n",
       "<line x1=\"347.7\" y1=\"198.3\" x2=\"353.7\" y2=\"193.3\"\n",
       "    stroke=\"#663399\" stroke-width=\"2\" />\n",
       "<line x1=\"353.7\" y1=\"193.3\" x2=\"347.7\" y2=\"188.3\"\n",
       "    stroke=\"#663399\" stroke-width=\"2\" />\n",
       "<line x1=\"347.7\" y1=\"188.3\" x2=\"334.8\" y2=\"188.3\"\n",
       "    stroke=\"#663399\" stroke-width=\"2\" />\n",
       "<line x1=\"334.8\" y1=\"188.3\" x2=\"318.2\" y2=\"202.2\"\n",
       "    stroke=\"#663399\" stroke-width=\"2\" />\n",
       "<line x1=\"318.2\" y1=\"202.2\" x2=\"334.8\" y2=\"216.1\"\n",
       "    stroke=\"#663399\" stroke-width=\"2\" />\n",
       "<line x1=\"334.8\" y1=\"216.1\" x2=\"347.7\" y2=\"216.1\"\n",
       "    stroke=\"#663399\" stroke-width=\"2\" />\n",
       "<line x1=\"347.7\" y1=\"216.1\" x2=\"353.7\" y2=\"211.1\"\n",
       "    stroke=\"#663399\" stroke-width=\"2\" />\n",
       "<line x1=\"353.7\" y1=\"211.1\" x2=\"347.7\" y2=\"206.1\"\n",
       "    stroke=\"#663399\" stroke-width=\"2\" />\n",
       "<line x1=\"347.7\" y1=\"206.1\" x2=\"343.8\" y2=\"212.8\"\n",
       "    stroke=\"#663399\" stroke-width=\"2\" />\n",
       "<line x1=\"343.8\" y1=\"212.8\" x2=\"351.1\" y2=\"215.5\"\n",
       "    stroke=\"#663399\" stroke-width=\"2\" />\n",
       "<line x1=\"351.1\" y1=\"215.5\" x2=\"352.5\" y2=\"207.8\"\n",
       "    stroke=\"#663399\" stroke-width=\"2\" />\n",
       "<line x1=\"352.5\" y1=\"207.8\" x2=\"344.7\" y2=\"207.8\"\n",
       "    stroke=\"#663399\" stroke-width=\"2\" />\n",
       "<line x1=\"344.7\" y1=\"207.8\" x2=\"334.8\" y2=\"216.2\"\n",
       "    stroke=\"#663399\" stroke-width=\"2\" />\n",
       "<line x1=\"334.8\" y1=\"216.2\" x2=\"344.7\" y2=\"224.5\"\n",
       "    stroke=\"#663399\" stroke-width=\"2\" />\n",
       "<line x1=\"344.7\" y1=\"224.5\" x2=\"352.5\" y2=\"224.5\"\n",
       "    stroke=\"#663399\" stroke-width=\"2\" />\n",
       "<line x1=\"352.5\" y1=\"224.5\" x2=\"351.1\" y2=\"216.8\"\n",
       "    stroke=\"#663399\" stroke-width=\"2\" />\n",
       "<line x1=\"351.1\" y1=\"216.8\" x2=\"343.8\" y2=\"219.5\"\n",
       "    stroke=\"#663399\" stroke-width=\"2\" />\n",
       "<line x1=\"343.8\" y1=\"219.5\" x2=\"347.7\" y2=\"226.2\"\n",
       "    stroke=\"#663399\" stroke-width=\"2\" />\n",
       "<line x1=\"347.7\" y1=\"226.2\" x2=\"353.7\" y2=\"221.2\"\n",
       "    stroke=\"#663399\" stroke-width=\"2\" />\n",
       "<line x1=\"353.7\" y1=\"221.2\" x2=\"347.7\" y2=\"216.2\"\n",
       "    stroke=\"#663399\" stroke-width=\"2\" />\n",
       "<line x1=\"347.7\" y1=\"216.2\" x2=\"334.8\" y2=\"216.2\"\n",
       "    stroke=\"#663399\" stroke-width=\"2\" />\n",
       "<line x1=\"334.8\" y1=\"216.2\" x2=\"337.0\" y2=\"229.0\"\n",
       "    stroke=\"#663399\" stroke-width=\"2\" />\n",
       "<line x1=\"337.0\" y1=\"229.0\" x2=\"343.0\" y2=\"234.0\"\n",
       "    stroke=\"#663399\" stroke-width=\"2\" />\n",
       "<line x1=\"343.0\" y1=\"234.0\" x2=\"346.9\" y2=\"227.3\"\n",
       "    stroke=\"#663399\" stroke-width=\"2\" />\n",
       "<line x1=\"346.9\" y1=\"227.3\" x2=\"339.5\" y2=\"224.6\"\n",
       "    stroke=\"#663399\" stroke-width=\"2\" />\n",
       "<line x1=\"339.5\" y1=\"224.6\" x2=\"338.2\" y2=\"232.3\"\n",
       "    stroke=\"#663399\" stroke-width=\"2\" />\n",
       "<line x1=\"338.2\" y1=\"232.3\" x2=\"346.0\" y2=\"232.3\"\n",
       "    stroke=\"#663399\" stroke-width=\"2\" />\n",
       "<line x1=\"346.0\" y1=\"232.3\" x2=\"344.6\" y2=\"224.6\"\n",
       "    stroke=\"#663399\" stroke-width=\"2\" />\n",
       "<line x1=\"344.6\" y1=\"224.6\" x2=\"334.7\" y2=\"216.3\"\n",
       "    stroke=\"#663399\" stroke-width=\"2\" />\n",
       "<line x1=\"334.7\" y1=\"216.3\" x2=\"313.1\" y2=\"216.3\"\n",
       "    stroke=\"#663399\" stroke-width=\"2\" />\n",
       "<line x1=\"313.1\" y1=\"216.3\" x2=\"316.8\" y2=\"237.5\"\n",
       "    stroke=\"#663399\" stroke-width=\"2\" />\n",
       "<line x1=\"316.8\" y1=\"237.5\" x2=\"326.8\" y2=\"245.9\"\n",
       "    stroke=\"#663399\" stroke-width=\"2\" />\n",
       "<line x1=\"326.8\" y1=\"245.9\" x2=\"334.6\" y2=\"245.9\"\n",
       "    stroke=\"#663399\" stroke-width=\"2\" />\n",
       "<line x1=\"334.6\" y1=\"245.9\" x2=\"333.2\" y2=\"238.2\"\n",
       "    stroke=\"#663399\" stroke-width=\"2\" />\n",
       "<line x1=\"333.2\" y1=\"238.2\" x2=\"325.9\" y2=\"240.9\"\n",
       "    stroke=\"#663399\" stroke-width=\"2\" />\n",
       "<line x1=\"325.9\" y1=\"240.9\" x2=\"329.8\" y2=\"247.6\"\n",
       "    stroke=\"#663399\" stroke-width=\"2\" />\n",
       "<line x1=\"329.8\" y1=\"247.6\" x2=\"335.7\" y2=\"242.6\"\n",
       "    stroke=\"#663399\" stroke-width=\"2\" />\n",
       "<line x1=\"335.7\" y1=\"242.6\" x2=\"329.8\" y2=\"237.6\"\n",
       "    stroke=\"#663399\" stroke-width=\"2\" />\n",
       "<line x1=\"329.8\" y1=\"237.6\" x2=\"316.8\" y2=\"237.6\"\n",
       "    stroke=\"#663399\" stroke-width=\"2\" />\n",
       "<line x1=\"316.8\" y1=\"237.6\" x2=\"319.1\" y2=\"250.4\"\n",
       "    stroke=\"#663399\" stroke-width=\"2\" />\n",
       "<line x1=\"319.1\" y1=\"250.4\" x2=\"325.0\" y2=\"255.4\"\n",
       "    stroke=\"#663399\" stroke-width=\"2\" />\n",
       "<line x1=\"325.0\" y1=\"255.4\" x2=\"328.9\" y2=\"248.6\"\n",
       "    stroke=\"#663399\" stroke-width=\"2\" />\n",
       "<line x1=\"328.9\" y1=\"248.6\" x2=\"321.6\" y2=\"246.0\"\n",
       "    stroke=\"#663399\" stroke-width=\"2\" />\n",
       "<line x1=\"321.6\" y1=\"246.0\" x2=\"320.3\" y2=\"253.6\"\n",
       "    stroke=\"#663399\" stroke-width=\"2\" />\n",
       "<line x1=\"320.3\" y1=\"253.6\" x2=\"328.0\" y2=\"253.6\"\n",
       "    stroke=\"#663399\" stroke-width=\"2\" />\n",
       "<line x1=\"328.0\" y1=\"253.6\" x2=\"326.7\" y2=\"246.0\"\n",
       "    stroke=\"#663399\" stroke-width=\"2\" />\n",
       "<line x1=\"326.7\" y1=\"246.0\" x2=\"316.8\" y2=\"237.6\"\n",
       "    stroke=\"#663399\" stroke-width=\"2\" />\n",
       "<line x1=\"316.8\" y1=\"237.6\" x2=\"310.3\" y2=\"248.9\"\n",
       "    stroke=\"#663399\" stroke-width=\"2\" />\n",
       "<line x1=\"310.3\" y1=\"248.9\" x2=\"311.6\" y2=\"256.5\"\n",
       "    stroke=\"#663399\" stroke-width=\"2\" />\n",
       "<line x1=\"311.6\" y1=\"256.5\" x2=\"318.9\" y2=\"253.9\"\n",
       "    stroke=\"#663399\" stroke-width=\"2\" />\n",
       "<line x1=\"318.9\" y1=\"253.9\" x2=\"315.0\" y2=\"247.1\"\n",
       "    stroke=\"#663399\" stroke-width=\"2\" />\n",
       "<line x1=\"315.0\" y1=\"247.1\" x2=\"309.1\" y2=\"252.1\"\n",
       "    stroke=\"#663399\" stroke-width=\"2\" />\n",
       "<line x1=\"309.1\" y1=\"252.1\" x2=\"315.0\" y2=\"257.1\"\n",
       "    stroke=\"#663399\" stroke-width=\"2\" />\n",
       "<line x1=\"315.0\" y1=\"257.1\" x2=\"318.9\" y2=\"250.4\"\n",
       "    stroke=\"#663399\" stroke-width=\"2\" />\n",
       "<line x1=\"318.9\" y1=\"250.4\" x2=\"316.7\" y2=\"237.6\"\n",
       "    stroke=\"#663399\" stroke-width=\"2\" />\n",
       "<line x1=\"316.7\" y1=\"237.6\" x2=\"300.1\" y2=\"223.7\"\n",
       "    stroke=\"#663399\" stroke-width=\"2\" />\n",
       "<line x1=\"300.1\" y1=\"223.7\" x2=\"264.1\" y2=\"223.7\"\n",
       "    stroke=\"#663399\" stroke-width=\"2\" />\n",
       "<line x1=\"264.1\" y1=\"223.7\" x2=\"218.2\" y2=\"262.3\"\n",
       "    stroke=\"#663399\" stroke-width=\"2\" />\n",
       "\n",
       "<g transform=\"rotate(230.0,218.2,262.3) translate(218.2, 262.3)\">\n",
       "    <circle stroke=\"#63A375\" stroke-width=\"2\" fill=\"transparent\" r=\"5.5\" cx=\"0\" cy=\"0\"/>\n",
       "    <polygon points=\"0,12 2,9 -2,9\" style=\"fill:#63A375;stroke:#63A375;stroke-width:2\"/>\n",
       "</g>\n",
       "\n",
       "</svg>"
      ],
      "text/plain": [
       "<IPython.core.display.HTML object>"
      ]
     },
     "metadata": {},
     "output_type": "display_data"
    }
   ],
   "source": [
    "make_turtle(delay=0)\n",
    "draw_fractal_tree(60) # 譯註：呼叫修改後的函式名"
   ]
  },
  {
   "cell_type": "markdown",
   "id": "3cce55ab",
   "metadata": {},
   "source": [
    "### 練習\n",
    "\n",
    "問虛擬助理：「什麼是科赫曲線 (Koch curve)？」\n",
    "\n",
    "要畫一條長度為 `x` 的科赫曲線，你只需要\n",
    "做：\n",
    "\n",
    "1.  畫一條長度為 `x/3` 的科赫曲線。\n",
    "\n",
    "2.  向左轉 60 度。\n",
    "\n",
    "3.  畫一條長度為 `x/3` 的科赫曲線。\n",
    "\n",
    "4.  向右轉 120 度。\n",
    "\n",
    "5.  畫一條長度為 `x/3` 的科赫曲線。\n",
    "\n",
    "6.  向左轉 60 度。\n",
    "\n",
    "7.  畫一條長度為 `x/3` 的科赫曲線。\n",
    "\n",
    "例外情況是如果 `x` 小於 `5`——在這種情況下，你只需要畫一條長度為 `x` 的直線。\n",
    "\n",
    "寫一個名為 `koch` 的函式，它接受 `x` 作為引數，並畫出給定長度的科赫曲線。\n"
   ]
  },
  {
   "cell_type": "markdown",
   "id": "0d447d82",
   "metadata": {},
   "source": [
    "解答"
   ]
  },
  {
   "cell_type": "code",
   "execution_count": 126,
   "id": "cf5e2e69",
   "metadata": {},
   "outputs": [],
   "source": [
    "def koch(length_val): # 譯註：參數名修改\n",
    "    \"\"\"畫一條長度為 length_val 的科赫曲線。\"\"\"\n",
    "    if length_val < 5:\n",
    "        forward(length_val)\n",
    "    else:\n",
    "        koch(length_val / 3)\n",
    "        left(60)\n",
    "        koch(length_val / 3)\n",
    "        right(120)\n",
    "        koch(length_val / 3)\n",
    "        left(60)\n",
    "        koch(length_val / 3)"
   ]
  },
  {
   "cell_type": "markdown",
   "id": "cde0c6d2",
   "metadata": {},
   "source": [
    "結果應該像這樣：\n",
    "(譯註：執行後會出現一個類似雪花邊緣的圖形)"
   ]
  },
  {
   "cell_type": "code",
   "execution_count": 128,
   "id": "04ef00a3",
   "metadata": {
    "lines_to_next_cell": 2
   },
   "outputs": [
    {
     "data": {
      "text/html": [
       "<svg width=\"300\" height=\"150\">\n",
       "    <rect width=\"100%\" height=\"100%\" fill=\"#F3F3F7\" />\n",
       "\n",
       "<line x1=\"150\" y1=\"75\" x2=\"152.7\" y2=\"75.0\"\n",
       "    stroke=\"#663399\" stroke-width=\"2\" />\n",
       "<line x1=\"152.7\" y1=\"75.0\" x2=\"154.1\" y2=\"72.6\"\n",
       "    stroke=\"#663399\" stroke-width=\"2\" />\n",
       "<line x1=\"154.1\" y1=\"72.6\" x2=\"155.4\" y2=\"75.0\"\n",
       "    stroke=\"#663399\" stroke-width=\"2\" />\n",
       "<line x1=\"155.4\" y1=\"75.0\" x2=\"158.1\" y2=\"75.0\"\n",
       "    stroke=\"#663399\" stroke-width=\"2\" />\n",
       "<line x1=\"158.1\" y1=\"75.0\" x2=\"159.5\" y2=\"72.6\"\n",
       "    stroke=\"#663399\" stroke-width=\"2\" />\n",
       "<line x1=\"159.5\" y1=\"72.6\" x2=\"158.1\" y2=\"70.3\"\n",
       "    stroke=\"#663399\" stroke-width=\"2\" />\n",
       "<line x1=\"158.1\" y1=\"70.3\" x2=\"160.9\" y2=\"70.3\"\n",
       "    stroke=\"#663399\" stroke-width=\"2\" />\n",
       "<line x1=\"160.9\" y1=\"70.3\" x2=\"162.2\" y2=\"67.9\"\n",
       "    stroke=\"#663399\" stroke-width=\"2\" />\n",
       "<line x1=\"162.2\" y1=\"67.9\" x2=\"163.6\" y2=\"70.3\"\n",
       "    stroke=\"#663399\" stroke-width=\"2\" />\n",
       "<line x1=\"163.6\" y1=\"70.3\" x2=\"166.3\" y2=\"70.3\"\n",
       "    stroke=\"#663399\" stroke-width=\"2\" />\n",
       "<line x1=\"166.3\" y1=\"70.3\" x2=\"164.9\" y2=\"72.6\"\n",
       "    stroke=\"#663399\" stroke-width=\"2\" />\n",
       "<line x1=\"164.9\" y1=\"72.6\" x2=\"166.3\" y2=\"75.0\"\n",
       "    stroke=\"#663399\" stroke-width=\"2\" />\n",
       "<line x1=\"166.3\" y1=\"75.0\" x2=\"169.0\" y2=\"75.0\"\n",
       "    stroke=\"#663399\" stroke-width=\"2\" />\n",
       "<line x1=\"169.0\" y1=\"75.0\" x2=\"170.4\" y2=\"72.6\"\n",
       "    stroke=\"#663399\" stroke-width=\"2\" />\n",
       "<line x1=\"170.4\" y1=\"72.6\" x2=\"171.7\" y2=\"75.0\"\n",
       "    stroke=\"#663399\" stroke-width=\"2\" />\n",
       "<line x1=\"171.7\" y1=\"75.0\" x2=\"174.4\" y2=\"75.0\"\n",
       "    stroke=\"#663399\" stroke-width=\"2\" />\n",
       "<line x1=\"174.4\" y1=\"75.0\" x2=\"175.8\" y2=\"72.6\"\n",
       "    stroke=\"#663399\" stroke-width=\"2\" />\n",
       "<line x1=\"175.8\" y1=\"72.6\" x2=\"174.4\" y2=\"70.3\"\n",
       "    stroke=\"#663399\" stroke-width=\"2\" />\n",
       "<line x1=\"174.4\" y1=\"70.3\" x2=\"177.2\" y2=\"70.3\"\n",
       "    stroke=\"#663399\" stroke-width=\"2\" />\n",
       "<line x1=\"177.2\" y1=\"70.3\" x2=\"178.5\" y2=\"67.9\"\n",
       "    stroke=\"#663399\" stroke-width=\"2\" />\n",
       "<line x1=\"178.5\" y1=\"67.9\" x2=\"177.2\" y2=\"65.6\"\n",
       "    stroke=\"#663399\" stroke-width=\"2\" />\n",
       "<line x1=\"177.2\" y1=\"65.6\" x2=\"174.4\" y2=\"65.6\"\n",
       "    stroke=\"#663399\" stroke-width=\"2\" />\n",
       "<line x1=\"174.4\" y1=\"65.6\" x2=\"175.8\" y2=\"63.2\"\n",
       "    stroke=\"#663399\" stroke-width=\"2\" />\n",
       "<line x1=\"175.8\" y1=\"63.2\" x2=\"174.4\" y2=\"60.9\"\n",
       "    stroke=\"#663399\" stroke-width=\"2\" />\n",
       "<line x1=\"174.4\" y1=\"60.9\" x2=\"177.2\" y2=\"60.9\"\n",
       "    stroke=\"#663399\" stroke-width=\"2\" />\n",
       "<line x1=\"177.2\" y1=\"60.9\" x2=\"178.5\" y2=\"58.5\"\n",
       "    stroke=\"#663399\" stroke-width=\"2\" />\n",
       "<line x1=\"178.5\" y1=\"58.5\" x2=\"179.9\" y2=\"60.9\"\n",
       "    stroke=\"#663399\" stroke-width=\"2\" />\n",
       "<line x1=\"179.9\" y1=\"60.9\" x2=\"182.6\" y2=\"60.9\"\n",
       "    stroke=\"#663399\" stroke-width=\"2\" />\n",
       "<line x1=\"182.6\" y1=\"60.9\" x2=\"184.0\" y2=\"58.5\"\n",
       "    stroke=\"#663399\" stroke-width=\"2\" />\n",
       "<line x1=\"184.0\" y1=\"58.5\" x2=\"182.6\" y2=\"56.2\"\n",
       "    stroke=\"#663399\" stroke-width=\"2\" />\n",
       "<line x1=\"182.6\" y1=\"56.2\" x2=\"185.3\" y2=\"56.2\"\n",
       "    stroke=\"#663399\" stroke-width=\"2\" />\n",
       "<line x1=\"185.3\" y1=\"56.2\" x2=\"186.7\" y2=\"53.8\"\n",
       "    stroke=\"#663399\" stroke-width=\"2\" />\n",
       "<line x1=\"186.7\" y1=\"53.8\" x2=\"188.0\" y2=\"56.2\"\n",
       "    stroke=\"#663399\" stroke-width=\"2\" />\n",
       "<line x1=\"188.0\" y1=\"56.2\" x2=\"190.7\" y2=\"56.2\"\n",
       "    stroke=\"#663399\" stroke-width=\"2\" />\n",
       "<line x1=\"190.7\" y1=\"56.2\" x2=\"189.4\" y2=\"58.5\"\n",
       "    stroke=\"#663399\" stroke-width=\"2\" />\n",
       "<line x1=\"189.4\" y1=\"58.5\" x2=\"190.7\" y2=\"60.9\"\n",
       "    stroke=\"#663399\" stroke-width=\"2\" />\n",
       "<line x1=\"190.7\" y1=\"60.9\" x2=\"193.5\" y2=\"60.9\"\n",
       "    stroke=\"#663399\" stroke-width=\"2\" />\n",
       "<line x1=\"193.5\" y1=\"60.9\" x2=\"194.8\" y2=\"58.5\"\n",
       "    stroke=\"#663399\" stroke-width=\"2\" />\n",
       "<line x1=\"194.8\" y1=\"58.5\" x2=\"196.2\" y2=\"60.9\"\n",
       "    stroke=\"#663399\" stroke-width=\"2\" />\n",
       "<line x1=\"196.2\" y1=\"60.9\" x2=\"198.9\" y2=\"60.9\"\n",
       "    stroke=\"#663399\" stroke-width=\"2\" />\n",
       "<line x1=\"198.9\" y1=\"60.9\" x2=\"197.5\" y2=\"63.2\"\n",
       "    stroke=\"#663399\" stroke-width=\"2\" />\n",
       "<line x1=\"197.5\" y1=\"63.2\" x2=\"198.9\" y2=\"65.6\"\n",
       "    stroke=\"#663399\" stroke-width=\"2\" />\n",
       "<line x1=\"198.9\" y1=\"65.6\" x2=\"196.2\" y2=\"65.6\"\n",
       "    stroke=\"#663399\" stroke-width=\"2\" />\n",
       "<line x1=\"196.2\" y1=\"65.6\" x2=\"194.8\" y2=\"67.9\"\n",
       "    stroke=\"#663399\" stroke-width=\"2\" />\n",
       "<line x1=\"194.8\" y1=\"67.9\" x2=\"196.2\" y2=\"70.3\"\n",
       "    stroke=\"#663399\" stroke-width=\"2\" />\n",
       "<line x1=\"196.2\" y1=\"70.3\" x2=\"198.9\" y2=\"70.3\"\n",
       "    stroke=\"#663399\" stroke-width=\"2\" />\n",
       "<line x1=\"198.9\" y1=\"70.3\" x2=\"197.5\" y2=\"72.6\"\n",
       "    stroke=\"#663399\" stroke-width=\"2\" />\n",
       "<line x1=\"197.5\" y1=\"72.6\" x2=\"198.9\" y2=\"75.0\"\n",
       "    stroke=\"#663399\" stroke-width=\"2\" />\n",
       "<line x1=\"198.9\" y1=\"75.0\" x2=\"201.6\" y2=\"75.0\"\n",
       "    stroke=\"#663399\" stroke-width=\"2\" />\n",
       "<line x1=\"201.6\" y1=\"75.0\" x2=\"203.0\" y2=\"72.6\"\n",
       "    stroke=\"#663399\" stroke-width=\"2\" />\n",
       "<line x1=\"203.0\" y1=\"72.6\" x2=\"204.3\" y2=\"75.0\"\n",
       "    stroke=\"#663399\" stroke-width=\"2\" />\n",
       "<line x1=\"204.3\" y1=\"75.0\" x2=\"207.0\" y2=\"75.0\"\n",
       "    stroke=\"#663399\" stroke-width=\"2\" />\n",
       "<line x1=\"207.0\" y1=\"75.0\" x2=\"208.4\" y2=\"72.6\"\n",
       "    stroke=\"#663399\" stroke-width=\"2\" />\n",
       "<line x1=\"208.4\" y1=\"72.6\" x2=\"207.0\" y2=\"70.3\"\n",
       "    stroke=\"#663399\" stroke-width=\"2\" />\n",
       "<line x1=\"207.0\" y1=\"70.3\" x2=\"209.8\" y2=\"70.3\"\n",
       "    stroke=\"#663399\" stroke-width=\"2\" />\n",
       "<line x1=\"209.8\" y1=\"70.3\" x2=\"211.1\" y2=\"67.9\"\n",
       "    stroke=\"#663399\" stroke-width=\"2\" />\n",
       "<line x1=\"211.1\" y1=\"67.9\" x2=\"212.5\" y2=\"70.3\"\n",
       "    stroke=\"#663399\" stroke-width=\"2\" />\n",
       "<line x1=\"212.5\" y1=\"70.3\" x2=\"215.2\" y2=\"70.3\"\n",
       "    stroke=\"#663399\" stroke-width=\"2\" />\n",
       "<line x1=\"215.2\" y1=\"70.3\" x2=\"213.8\" y2=\"72.6\"\n",
       "    stroke=\"#663399\" stroke-width=\"2\" />\n",
       "<line x1=\"213.8\" y1=\"72.6\" x2=\"215.2\" y2=\"75.0\"\n",
       "    stroke=\"#663399\" stroke-width=\"2\" />\n",
       "<line x1=\"215.2\" y1=\"75.0\" x2=\"217.9\" y2=\"75.0\"\n",
       "    stroke=\"#663399\" stroke-width=\"2\" />\n",
       "<line x1=\"217.9\" y1=\"75.0\" x2=\"219.3\" y2=\"72.6\"\n",
       "    stroke=\"#663399\" stroke-width=\"2\" />\n",
       "<line x1=\"219.3\" y1=\"72.6\" x2=\"220.6\" y2=\"75.0\"\n",
       "    stroke=\"#663399\" stroke-width=\"2\" />\n",
       "<line x1=\"220.6\" y1=\"75.0\" x2=\"223.3\" y2=\"75.0\"\n",
       "    stroke=\"#663399\" stroke-width=\"2\" />\n",
       "<line x1=\"223.3\" y1=\"75.0\" x2=\"224.7\" y2=\"72.6\"\n",
       "    stroke=\"#663399\" stroke-width=\"2\" />\n",
       "<line x1=\"224.7\" y1=\"72.6\" x2=\"223.3\" y2=\"70.3\"\n",
       "    stroke=\"#663399\" stroke-width=\"2\" />\n",
       "<line x1=\"223.3\" y1=\"70.3\" x2=\"226.0\" y2=\"70.3\"\n",
       "    stroke=\"#663399\" stroke-width=\"2\" />\n",
       "<line x1=\"226.0\" y1=\"70.3\" x2=\"227.4\" y2=\"67.9\"\n",
       "    stroke=\"#663399\" stroke-width=\"2\" />\n",
       "<line x1=\"227.4\" y1=\"67.9\" x2=\"226.0\" y2=\"65.6\"\n",
       "    stroke=\"#663399\" stroke-width=\"2\" />\n",
       "<line x1=\"226.0\" y1=\"65.6\" x2=\"223.3\" y2=\"65.6\"\n",
       "    stroke=\"#663399\" stroke-width=\"2\" />\n",
       "<line x1=\"223.3\" y1=\"65.6\" x2=\"224.7\" y2=\"63.2\"\n",
       "    stroke=\"#663399\" stroke-width=\"2\" />\n",
       "<line x1=\"224.7\" y1=\"63.2\" x2=\"223.3\" y2=\"60.9\"\n",
       "    stroke=\"#663399\" stroke-width=\"2\" />\n",
       "<line x1=\"223.3\" y1=\"60.9\" x2=\"226.0\" y2=\"60.9\"\n",
       "    stroke=\"#663399\" stroke-width=\"2\" />\n",
       "<line x1=\"226.0\" y1=\"60.9\" x2=\"227.4\" y2=\"58.5\"\n",
       "    stroke=\"#663399\" stroke-width=\"2\" />\n",
       "<line x1=\"227.4\" y1=\"58.5\" x2=\"228.8\" y2=\"60.9\"\n",
       "    stroke=\"#663399\" stroke-width=\"2\" />\n",
       "<line x1=\"228.8\" y1=\"60.9\" x2=\"231.5\" y2=\"60.9\"\n",
       "    stroke=\"#663399\" stroke-width=\"2\" />\n",
       "<line x1=\"231.5\" y1=\"60.9\" x2=\"232.8\" y2=\"58.5\"\n",
       "    stroke=\"#663399\" stroke-width=\"2\" />\n",
       "<line x1=\"232.8\" y1=\"58.5\" x2=\"231.5\" y2=\"56.2\"\n",
       "    stroke=\"#663399\" stroke-width=\"2\" />\n",
       "<line x1=\"231.5\" y1=\"56.2\" x2=\"234.2\" y2=\"56.2\"\n",
       "    stroke=\"#663399\" stroke-width=\"2\" />\n",
       "<line x1=\"234.2\" y1=\"56.2\" x2=\"235.6\" y2=\"53.8\"\n",
       "    stroke=\"#663399\" stroke-width=\"2\" />\n",
       "<line x1=\"235.6\" y1=\"53.8\" x2=\"234.2\" y2=\"51.5\"\n",
       "    stroke=\"#663399\" stroke-width=\"2\" />\n",
       "<line x1=\"234.2\" y1=\"51.5\" x2=\"231.5\" y2=\"51.5\"\n",
       "    stroke=\"#663399\" stroke-width=\"2\" />\n",
       "<line x1=\"231.5\" y1=\"51.5\" x2=\"232.8\" y2=\"49.1\"\n",
       "    stroke=\"#663399\" stroke-width=\"2\" />\n",
       "<line x1=\"232.8\" y1=\"49.1\" x2=\"231.5\" y2=\"46.8\"\n",
       "    stroke=\"#663399\" stroke-width=\"2\" />\n",
       "<line x1=\"231.5\" y1=\"46.8\" x2=\"228.8\" y2=\"46.8\"\n",
       "    stroke=\"#663399\" stroke-width=\"2\" />\n",
       "<line x1=\"228.8\" y1=\"46.8\" x2=\"227.4\" y2=\"49.1\"\n",
       "    stroke=\"#663399\" stroke-width=\"2\" />\n",
       "<line x1=\"227.4\" y1=\"49.1\" x2=\"226.0\" y2=\"46.8\"\n",
       "    stroke=\"#663399\" stroke-width=\"2\" />\n",
       "<line x1=\"226.0\" y1=\"46.8\" x2=\"223.3\" y2=\"46.8\"\n",
       "    stroke=\"#663399\" stroke-width=\"2\" />\n",
       "<line x1=\"223.3\" y1=\"46.8\" x2=\"224.7\" y2=\"44.4\"\n",
       "    stroke=\"#663399\" stroke-width=\"2\" />\n",
       "<line x1=\"224.7\" y1=\"44.4\" x2=\"223.3\" y2=\"42.1\"\n",
       "    stroke=\"#663399\" stroke-width=\"2\" />\n",
       "<line x1=\"223.3\" y1=\"42.1\" x2=\"226.0\" y2=\"42.1\"\n",
       "    stroke=\"#663399\" stroke-width=\"2\" />\n",
       "<line x1=\"226.0\" y1=\"42.1\" x2=\"227.4\" y2=\"39.7\"\n",
       "    stroke=\"#663399\" stroke-width=\"2\" />\n",
       "<line x1=\"227.4\" y1=\"39.7\" x2=\"226.0\" y2=\"37.4\"\n",
       "    stroke=\"#663399\" stroke-width=\"2\" />\n",
       "<line x1=\"226.0\" y1=\"37.4\" x2=\"223.3\" y2=\"37.4\"\n",
       "    stroke=\"#663399\" stroke-width=\"2\" />\n",
       "<line x1=\"223.3\" y1=\"37.4\" x2=\"224.7\" y2=\"35.0\"\n",
       "    stroke=\"#663399\" stroke-width=\"2\" />\n",
       "<line x1=\"224.7\" y1=\"35.0\" x2=\"223.3\" y2=\"32.7\"\n",
       "    stroke=\"#663399\" stroke-width=\"2\" />\n",
       "<line x1=\"223.3\" y1=\"32.7\" x2=\"226.0\" y2=\"32.7\"\n",
       "    stroke=\"#663399\" stroke-width=\"2\" />\n",
       "<line x1=\"226.0\" y1=\"32.7\" x2=\"227.4\" y2=\"30.3\"\n",
       "    stroke=\"#663399\" stroke-width=\"2\" />\n",
       "<line x1=\"227.4\" y1=\"30.3\" x2=\"228.8\" y2=\"32.7\"\n",
       "    stroke=\"#663399\" stroke-width=\"2\" />\n",
       "<line x1=\"228.8\" y1=\"32.7\" x2=\"231.5\" y2=\"32.7\"\n",
       "    stroke=\"#663399\" stroke-width=\"2\" />\n",
       "<line x1=\"231.5\" y1=\"32.7\" x2=\"232.8\" y2=\"30.3\"\n",
       "    stroke=\"#663399\" stroke-width=\"2\" />\n",
       "<line x1=\"232.8\" y1=\"30.3\" x2=\"231.5\" y2=\"28.0\"\n",
       "    stroke=\"#663399\" stroke-width=\"2\" />\n",
       "<line x1=\"231.5\" y1=\"28.0\" x2=\"234.2\" y2=\"28.0\"\n",
       "    stroke=\"#663399\" stroke-width=\"2\" />\n",
       "<line x1=\"234.2\" y1=\"28.0\" x2=\"235.6\" y2=\"25.6\"\n",
       "    stroke=\"#663399\" stroke-width=\"2\" />\n",
       "<line x1=\"235.6\" y1=\"25.6\" x2=\"236.9\" y2=\"28.0\"\n",
       "    stroke=\"#663399\" stroke-width=\"2\" />\n",
       "<line x1=\"236.9\" y1=\"28.0\" x2=\"239.6\" y2=\"28.0\"\n",
       "    stroke=\"#663399\" stroke-width=\"2\" />\n",
       "<line x1=\"239.6\" y1=\"28.0\" x2=\"238.3\" y2=\"30.3\"\n",
       "    stroke=\"#663399\" stroke-width=\"2\" />\n",
       "<line x1=\"238.3\" y1=\"30.3\" x2=\"239.6\" y2=\"32.7\"\n",
       "    stroke=\"#663399\" stroke-width=\"2\" />\n",
       "<line x1=\"239.6\" y1=\"32.7\" x2=\"242.3\" y2=\"32.7\"\n",
       "    stroke=\"#663399\" stroke-width=\"2\" />\n",
       "<line x1=\"242.3\" y1=\"32.7\" x2=\"243.7\" y2=\"30.3\"\n",
       "    stroke=\"#663399\" stroke-width=\"2\" />\n",
       "<line x1=\"243.7\" y1=\"30.3\" x2=\"245.1\" y2=\"32.7\"\n",
       "    stroke=\"#663399\" stroke-width=\"2\" />\n",
       "<line x1=\"245.1\" y1=\"32.7\" x2=\"247.8\" y2=\"32.7\"\n",
       "    stroke=\"#663399\" stroke-width=\"2\" />\n",
       "<line x1=\"247.8\" y1=\"32.7\" x2=\"249.1\" y2=\"30.3\"\n",
       "    stroke=\"#663399\" stroke-width=\"2\" />\n",
       "<line x1=\"249.1\" y1=\"30.3\" x2=\"247.8\" y2=\"28.0\"\n",
       "    stroke=\"#663399\" stroke-width=\"2\" />\n",
       "<line x1=\"247.8\" y1=\"28.0\" x2=\"250.5\" y2=\"28.0\"\n",
       "    stroke=\"#663399\" stroke-width=\"2\" />\n",
       "<line x1=\"250.5\" y1=\"28.0\" x2=\"251.9\" y2=\"25.6\"\n",
       "    stroke=\"#663399\" stroke-width=\"2\" />\n",
       "<line x1=\"251.9\" y1=\"25.6\" x2=\"250.5\" y2=\"23.3\"\n",
       "    stroke=\"#663399\" stroke-width=\"2\" />\n",
       "<line x1=\"250.5\" y1=\"23.3\" x2=\"247.8\" y2=\"23.3\"\n",
       "    stroke=\"#663399\" stroke-width=\"2\" />\n",
       "<line x1=\"247.8\" y1=\"23.3\" x2=\"249.1\" y2=\"20.9\"\n",
       "    stroke=\"#663399\" stroke-width=\"2\" />\n",
       "<line x1=\"249.1\" y1=\"20.9\" x2=\"247.8\" y2=\"18.5\"\n",
       "    stroke=\"#663399\" stroke-width=\"2\" />\n",
       "<line x1=\"247.8\" y1=\"18.5\" x2=\"250.5\" y2=\"18.5\"\n",
       "    stroke=\"#663399\" stroke-width=\"2\" />\n",
       "<line x1=\"250.5\" y1=\"18.5\" x2=\"251.9\" y2=\"16.2\"\n",
       "    stroke=\"#663399\" stroke-width=\"2\" />\n",
       "<line x1=\"251.9\" y1=\"16.2\" x2=\"253.2\" y2=\"18.5\"\n",
       "    stroke=\"#663399\" stroke-width=\"2\" />\n",
       "<line x1=\"253.2\" y1=\"18.5\" x2=\"255.9\" y2=\"18.5\"\n",
       "    stroke=\"#663399\" stroke-width=\"2\" />\n",
       "<line x1=\"255.9\" y1=\"18.5\" x2=\"257.3\" y2=\"16.2\"\n",
       "    stroke=\"#663399\" stroke-width=\"2\" />\n",
       "<line x1=\"257.3\" y1=\"16.2\" x2=\"255.9\" y2=\"13.8\"\n",
       "    stroke=\"#663399\" stroke-width=\"2\" />\n",
       "<line x1=\"255.9\" y1=\"13.8\" x2=\"258.6\" y2=\"13.8\"\n",
       "    stroke=\"#663399\" stroke-width=\"2\" />\n",
       "<line x1=\"258.6\" y1=\"13.8\" x2=\"260.0\" y2=\"11.5\"\n",
       "    stroke=\"#663399\" stroke-width=\"2\" />\n",
       "<line x1=\"260.0\" y1=\"11.5\" x2=\"261.4\" y2=\"13.8\"\n",
       "    stroke=\"#663399\" stroke-width=\"2\" />\n",
       "<line x1=\"261.4\" y1=\"13.8\" x2=\"264.1\" y2=\"13.8\"\n",
       "    stroke=\"#663399\" stroke-width=\"2\" />\n",
       "<line x1=\"264.1\" y1=\"13.8\" x2=\"262.7\" y2=\"16.2\"\n",
       "    stroke=\"#663399\" stroke-width=\"2\" />\n",
       "<line x1=\"262.7\" y1=\"16.2\" x2=\"264.1\" y2=\"18.5\"\n",
       "    stroke=\"#663399\" stroke-width=\"2\" />\n",
       "<line x1=\"264.1\" y1=\"18.5\" x2=\"266.8\" y2=\"18.5\"\n",
       "    stroke=\"#663399\" stroke-width=\"2\" />\n",
       "<line x1=\"266.8\" y1=\"18.5\" x2=\"268.1\" y2=\"16.2\"\n",
       "    stroke=\"#663399\" stroke-width=\"2\" />\n",
       "<line x1=\"268.1\" y1=\"16.2\" x2=\"269.5\" y2=\"18.5\"\n",
       "    stroke=\"#663399\" stroke-width=\"2\" />\n",
       "<line x1=\"269.5\" y1=\"18.5\" x2=\"272.2\" y2=\"18.5\"\n",
       "    stroke=\"#663399\" stroke-width=\"2\" />\n",
       "<line x1=\"272.2\" y1=\"18.5\" x2=\"270.9\" y2=\"20.9\"\n",
       "    stroke=\"#663399\" stroke-width=\"2\" />\n",
       "<line x1=\"270.9\" y1=\"20.9\" x2=\"272.2\" y2=\"23.3\"\n",
       "    stroke=\"#663399\" stroke-width=\"2\" />\n",
       "<line x1=\"272.2\" y1=\"23.3\" x2=\"269.5\" y2=\"23.3\"\n",
       "    stroke=\"#663399\" stroke-width=\"2\" />\n",
       "<line x1=\"269.5\" y1=\"23.3\" x2=\"268.1\" y2=\"25.6\"\n",
       "    stroke=\"#663399\" stroke-width=\"2\" />\n",
       "<line x1=\"268.1\" y1=\"25.6\" x2=\"269.5\" y2=\"28.0\"\n",
       "    stroke=\"#663399\" stroke-width=\"2\" />\n",
       "<line x1=\"269.5\" y1=\"28.0\" x2=\"272.2\" y2=\"28.0\"\n",
       "    stroke=\"#663399\" stroke-width=\"2\" />\n",
       "<line x1=\"272.2\" y1=\"28.0\" x2=\"270.9\" y2=\"30.3\"\n",
       "    stroke=\"#663399\" stroke-width=\"2\" />\n",
       "<line x1=\"270.9\" y1=\"30.3\" x2=\"272.2\" y2=\"32.7\"\n",
       "    stroke=\"#663399\" stroke-width=\"2\" />\n",
       "<line x1=\"272.2\" y1=\"32.7\" x2=\"274.9\" y2=\"32.7\"\n",
       "    stroke=\"#663399\" stroke-width=\"2\" />\n",
       "<line x1=\"274.9\" y1=\"32.7\" x2=\"276.3\" y2=\"30.3\"\n",
       "    stroke=\"#663399\" stroke-width=\"2\" />\n",
       "<line x1=\"276.3\" y1=\"30.3\" x2=\"277.7\" y2=\"32.7\"\n",
       "    stroke=\"#663399\" stroke-width=\"2\" />\n",
       "<line x1=\"277.7\" y1=\"32.7\" x2=\"280.4\" y2=\"32.7\"\n",
       "    stroke=\"#663399\" stroke-width=\"2\" />\n",
       "<line x1=\"280.4\" y1=\"32.7\" x2=\"281.7\" y2=\"30.3\"\n",
       "    stroke=\"#663399\" stroke-width=\"2\" />\n",
       "<line x1=\"281.7\" y1=\"30.3\" x2=\"280.4\" y2=\"28.0\"\n",
       "    stroke=\"#663399\" stroke-width=\"2\" />\n",
       "<line x1=\"280.4\" y1=\"28.0\" x2=\"283.1\" y2=\"28.0\"\n",
       "    stroke=\"#663399\" stroke-width=\"2\" />\n",
       "<line x1=\"283.1\" y1=\"28.0\" x2=\"284.4\" y2=\"25.6\"\n",
       "    stroke=\"#663399\" stroke-width=\"2\" />\n",
       "<line x1=\"284.4\" y1=\"25.6\" x2=\"285.8\" y2=\"28.0\"\n",
       "    stroke=\"#663399\" stroke-width=\"2\" />\n",
       "<line x1=\"285.8\" y1=\"28.0\" x2=\"288.5\" y2=\"28.0\"\n",
       "    stroke=\"#663399\" stroke-width=\"2\" />\n",
       "<line x1=\"288.5\" y1=\"28.0\" x2=\"287.2\" y2=\"30.3\"\n",
       "    stroke=\"#663399\" stroke-width=\"2\" />\n",
       "<line x1=\"287.2\" y1=\"30.3\" x2=\"288.5\" y2=\"32.7\"\n",
       "    stroke=\"#663399\" stroke-width=\"2\" />\n",
       "<line x1=\"288.5\" y1=\"32.7\" x2=\"291.2\" y2=\"32.7\"\n",
       "    stroke=\"#663399\" stroke-width=\"2\" />\n",
       "<line x1=\"291.2\" y1=\"32.7\" x2=\"292.6\" y2=\"30.3\"\n",
       "    stroke=\"#663399\" stroke-width=\"2\" />\n",
       "<line x1=\"292.6\" y1=\"30.3\" x2=\"294.0\" y2=\"32.7\"\n",
       "    stroke=\"#663399\" stroke-width=\"2\" />\n",
       "<line x1=\"294.0\" y1=\"32.7\" x2=\"296.7\" y2=\"32.7\"\n",
       "    stroke=\"#663399\" stroke-width=\"2\" />\n",
       "<line x1=\"296.7\" y1=\"32.7\" x2=\"295.3\" y2=\"35.0\"\n",
       "    stroke=\"#663399\" stroke-width=\"2\" />\n",
       "<line x1=\"295.3\" y1=\"35.0\" x2=\"296.7\" y2=\"37.4\"\n",
       "    stroke=\"#663399\" stroke-width=\"2\" />\n",
       "<line x1=\"296.7\" y1=\"37.4\" x2=\"294.0\" y2=\"37.4\"\n",
       "    stroke=\"#663399\" stroke-width=\"2\" />\n",
       "<line x1=\"294.0\" y1=\"37.4\" x2=\"292.6\" y2=\"39.7\"\n",
       "    stroke=\"#663399\" stroke-width=\"2\" />\n",
       "<line x1=\"292.6\" y1=\"39.7\" x2=\"294.0\" y2=\"42.1\"\n",
       "    stroke=\"#663399\" stroke-width=\"2\" />\n",
       "<line x1=\"294.0\" y1=\"42.1\" x2=\"296.7\" y2=\"42.1\"\n",
       "    stroke=\"#663399\" stroke-width=\"2\" />\n",
       "<line x1=\"296.7\" y1=\"42.1\" x2=\"295.3\" y2=\"44.4\"\n",
       "    stroke=\"#663399\" stroke-width=\"2\" />\n",
       "<line x1=\"295.3\" y1=\"44.4\" x2=\"296.7\" y2=\"46.8\"\n",
       "    stroke=\"#663399\" stroke-width=\"2\" />\n",
       "<line x1=\"296.7\" y1=\"46.8\" x2=\"294.0\" y2=\"46.8\"\n",
       "    stroke=\"#663399\" stroke-width=\"2\" />\n",
       "<line x1=\"294.0\" y1=\"46.8\" x2=\"292.6\" y2=\"49.1\"\n",
       "    stroke=\"#663399\" stroke-width=\"2\" />\n",
       "<line x1=\"292.6\" y1=\"49.1\" x2=\"291.2\" y2=\"46.8\"\n",
       "    stroke=\"#663399\" stroke-width=\"2\" />\n",
       "<line x1=\"291.2\" y1=\"46.8\" x2=\"288.5\" y2=\"46.8\"\n",
       "    stroke=\"#663399\" stroke-width=\"2\" />\n",
       "<line x1=\"288.5\" y1=\"46.8\" x2=\"287.2\" y2=\"49.1\"\n",
       "    stroke=\"#663399\" stroke-width=\"2\" />\n",
       "<line x1=\"287.2\" y1=\"49.1\" x2=\"288.5\" y2=\"51.5\"\n",
       "    stroke=\"#663399\" stroke-width=\"2\" />\n",
       "<line x1=\"288.5\" y1=\"51.5\" x2=\"285.8\" y2=\"51.5\"\n",
       "    stroke=\"#663399\" stroke-width=\"2\" />\n",
       "<line x1=\"285.8\" y1=\"51.5\" x2=\"284.4\" y2=\"53.8\"\n",
       "    stroke=\"#663399\" stroke-width=\"2\" />\n",
       "<line x1=\"284.4\" y1=\"53.8\" x2=\"285.8\" y2=\"56.2\"\n",
       "    stroke=\"#663399\" stroke-width=\"2\" />\n",
       "<line x1=\"285.8\" y1=\"56.2\" x2=\"288.5\" y2=\"56.2\"\n",
       "    stroke=\"#663399\" stroke-width=\"2\" />\n",
       "<line x1=\"288.5\" y1=\"56.2\" x2=\"287.2\" y2=\"58.5\"\n",
       "    stroke=\"#663399\" stroke-width=\"2\" />\n",
       "<line x1=\"287.2\" y1=\"58.5\" x2=\"288.5\" y2=\"60.9\"\n",
       "    stroke=\"#663399\" stroke-width=\"2\" />\n",
       "<line x1=\"288.5\" y1=\"60.9\" x2=\"291.2\" y2=\"60.9\"\n",
       "    stroke=\"#663399\" stroke-width=\"2\" />\n",
       "<line x1=\"291.2\" y1=\"60.9\" x2=\"292.6\" y2=\"58.5\"\n",
       "    stroke=\"#663399\" stroke-width=\"2\" />\n",
       "<line x1=\"292.6\" y1=\"58.5\" x2=\"294.0\" y2=\"60.9\"\n",
       "    stroke=\"#663399\" stroke-width=\"2\" />\n",
       "<line x1=\"294.0\" y1=\"60.9\" x2=\"296.7\" y2=\"60.9\"\n",
       "    stroke=\"#663399\" stroke-width=\"2\" />\n",
       "<line x1=\"296.7\" y1=\"60.9\" x2=\"295.3\" y2=\"63.2\"\n",
       "    stroke=\"#663399\" stroke-width=\"2\" />\n",
       "<line x1=\"295.3\" y1=\"63.2\" x2=\"296.7\" y2=\"65.6\"\n",
       "    stroke=\"#663399\" stroke-width=\"2\" />\n",
       "<line x1=\"296.7\" y1=\"65.6\" x2=\"294.0\" y2=\"65.6\"\n",
       "    stroke=\"#663399\" stroke-width=\"2\" />\n",
       "<line x1=\"294.0\" y1=\"65.6\" x2=\"292.6\" y2=\"67.9\"\n",
       "    stroke=\"#663399\" stroke-width=\"2\" />\n",
       "<line x1=\"292.6\" y1=\"67.9\" x2=\"294.0\" y2=\"70.3\"\n",
       "    stroke=\"#663399\" stroke-width=\"2\" />\n",
       "<line x1=\"294.0\" y1=\"70.3\" x2=\"296.7\" y2=\"70.3\"\n",
       "    stroke=\"#663399\" stroke-width=\"2\" />\n",
       "<line x1=\"296.7\" y1=\"70.3\" x2=\"295.3\" y2=\"72.6\"\n",
       "    stroke=\"#663399\" stroke-width=\"2\" />\n",
       "<line x1=\"295.3\" y1=\"72.6\" x2=\"296.7\" y2=\"75.0\"\n",
       "    stroke=\"#663399\" stroke-width=\"2\" />\n",
       "<line x1=\"296.7\" y1=\"75.0\" x2=\"299.4\" y2=\"75.0\"\n",
       "    stroke=\"#663399\" stroke-width=\"2\" />\n",
       "<line x1=\"299.4\" y1=\"75.0\" x2=\"300.7\" y2=\"72.6\"\n",
       "    stroke=\"#663399\" stroke-width=\"2\" />\n",
       "<line x1=\"300.7\" y1=\"72.6\" x2=\"302.1\" y2=\"75.0\"\n",
       "    stroke=\"#663399\" stroke-width=\"2\" />\n",
       "<line x1=\"302.1\" y1=\"75.0\" x2=\"304.8\" y2=\"75.0\"\n",
       "    stroke=\"#663399\" stroke-width=\"2\" />\n",
       "<line x1=\"304.8\" y1=\"75.0\" x2=\"306.2\" y2=\"72.6\"\n",
       "    stroke=\"#663399\" stroke-width=\"2\" />\n",
       "<line x1=\"306.2\" y1=\"72.6\" x2=\"304.8\" y2=\"70.3\"\n",
       "    stroke=\"#663399\" stroke-width=\"2\" />\n",
       "<line x1=\"304.8\" y1=\"70.3\" x2=\"307.5\" y2=\"70.3\"\n",
       "    stroke=\"#663399\" stroke-width=\"2\" />\n",
       "<line x1=\"307.5\" y1=\"70.3\" x2=\"308.9\" y2=\"67.9\"\n",
       "    stroke=\"#663399\" stroke-width=\"2\" />\n",
       "<line x1=\"308.9\" y1=\"67.9\" x2=\"310.2\" y2=\"70.3\"\n",
       "    stroke=\"#663399\" stroke-width=\"2\" />\n",
       "<line x1=\"310.2\" y1=\"70.3\" x2=\"313.0\" y2=\"70.3\"\n",
       "    stroke=\"#663399\" stroke-width=\"2\" />\n",
       "<line x1=\"313.0\" y1=\"70.3\" x2=\"311.6\" y2=\"72.6\"\n",
       "    stroke=\"#663399\" stroke-width=\"2\" />\n",
       "<line x1=\"311.6\" y1=\"72.6\" x2=\"313.0\" y2=\"75.0\"\n",
       "    stroke=\"#663399\" stroke-width=\"2\" />\n",
       "<line x1=\"313.0\" y1=\"75.0\" x2=\"315.7\" y2=\"75.0\"\n",
       "    stroke=\"#663399\" stroke-width=\"2\" />\n",
       "<line x1=\"315.7\" y1=\"75.0\" x2=\"317.0\" y2=\"72.6\"\n",
       "    stroke=\"#663399\" stroke-width=\"2\" />\n",
       "<line x1=\"317.0\" y1=\"72.6\" x2=\"318.4\" y2=\"75.0\"\n",
       "    stroke=\"#663399\" stroke-width=\"2\" />\n",
       "<line x1=\"318.4\" y1=\"75.0\" x2=\"321.1\" y2=\"75.0\"\n",
       "    stroke=\"#663399\" stroke-width=\"2\" />\n",
       "<line x1=\"321.1\" y1=\"75.0\" x2=\"322.5\" y2=\"72.6\"\n",
       "    stroke=\"#663399\" stroke-width=\"2\" />\n",
       "<line x1=\"322.5\" y1=\"72.6\" x2=\"321.1\" y2=\"70.3\"\n",
       "    stroke=\"#663399\" stroke-width=\"2\" />\n",
       "<line x1=\"321.1\" y1=\"70.3\" x2=\"323.8\" y2=\"70.3\"\n",
       "    stroke=\"#663399\" stroke-width=\"2\" />\n",
       "<line x1=\"323.8\" y1=\"70.3\" x2=\"325.2\" y2=\"67.9\"\n",
       "    stroke=\"#663399\" stroke-width=\"2\" />\n",
       "<line x1=\"325.2\" y1=\"67.9\" x2=\"323.8\" y2=\"65.6\"\n",
       "    stroke=\"#663399\" stroke-width=\"2\" />\n",
       "<line x1=\"323.8\" y1=\"65.6\" x2=\"321.1\" y2=\"65.6\"\n",
       "    stroke=\"#663399\" stroke-width=\"2\" />\n",
       "<line x1=\"321.1\" y1=\"65.6\" x2=\"322.5\" y2=\"63.2\"\n",
       "    stroke=\"#663399\" stroke-width=\"2\" />\n",
       "<line x1=\"322.5\" y1=\"63.2\" x2=\"321.1\" y2=\"60.9\"\n",
       "    stroke=\"#663399\" stroke-width=\"2\" />\n",
       "<line x1=\"321.1\" y1=\"60.9\" x2=\"323.8\" y2=\"60.9\"\n",
       "    stroke=\"#663399\" stroke-width=\"2\" />\n",
       "<line x1=\"323.8\" y1=\"60.9\" x2=\"325.2\" y2=\"58.5\"\n",
       "    stroke=\"#663399\" stroke-width=\"2\" />\n",
       "<line x1=\"325.2\" y1=\"58.5\" x2=\"326.5\" y2=\"60.9\"\n",
       "    stroke=\"#663399\" stroke-width=\"2\" />\n",
       "<line x1=\"326.5\" y1=\"60.9\" x2=\"329.3\" y2=\"60.9\"\n",
       "    stroke=\"#663399\" stroke-width=\"2\" />\n",
       "<line x1=\"329.3\" y1=\"60.9\" x2=\"330.6\" y2=\"58.5\"\n",
       "    stroke=\"#663399\" stroke-width=\"2\" />\n",
       "<line x1=\"330.6\" y1=\"58.5\" x2=\"329.3\" y2=\"56.2\"\n",
       "    stroke=\"#663399\" stroke-width=\"2\" />\n",
       "<line x1=\"329.3\" y1=\"56.2\" x2=\"332.0\" y2=\"56.2\"\n",
       "    stroke=\"#663399\" stroke-width=\"2\" />\n",
       "<line x1=\"332.0\" y1=\"56.2\" x2=\"333.3\" y2=\"53.8\"\n",
       "    stroke=\"#663399\" stroke-width=\"2\" />\n",
       "<line x1=\"333.3\" y1=\"53.8\" x2=\"334.7\" y2=\"56.2\"\n",
       "    stroke=\"#663399\" stroke-width=\"2\" />\n",
       "<line x1=\"334.7\" y1=\"56.2\" x2=\"337.4\" y2=\"56.2\"\n",
       "    stroke=\"#663399\" stroke-width=\"2\" />\n",
       "<line x1=\"337.4\" y1=\"56.2\" x2=\"336.0\" y2=\"58.5\"\n",
       "    stroke=\"#663399\" stroke-width=\"2\" />\n",
       "<line x1=\"336.0\" y1=\"58.5\" x2=\"337.4\" y2=\"60.9\"\n",
       "    stroke=\"#663399\" stroke-width=\"2\" />\n",
       "<line x1=\"337.4\" y1=\"60.9\" x2=\"340.1\" y2=\"60.9\"\n",
       "    stroke=\"#663399\" stroke-width=\"2\" />\n",
       "<line x1=\"340.1\" y1=\"60.9\" x2=\"341.5\" y2=\"58.5\"\n",
       "    stroke=\"#663399\" stroke-width=\"2\" />\n",
       "<line x1=\"341.5\" y1=\"58.5\" x2=\"342.8\" y2=\"60.9\"\n",
       "    stroke=\"#663399\" stroke-width=\"2\" />\n",
       "<line x1=\"342.8\" y1=\"60.9\" x2=\"345.6\" y2=\"60.9\"\n",
       "    stroke=\"#663399\" stroke-width=\"2\" />\n",
       "<line x1=\"345.6\" y1=\"60.9\" x2=\"344.2\" y2=\"63.2\"\n",
       "    stroke=\"#663399\" stroke-width=\"2\" />\n",
       "<line x1=\"344.2\" y1=\"63.2\" x2=\"345.6\" y2=\"65.6\"\n",
       "    stroke=\"#663399\" stroke-width=\"2\" />\n",
       "<line x1=\"345.6\" y1=\"65.6\" x2=\"342.8\" y2=\"65.6\"\n",
       "    stroke=\"#663399\" stroke-width=\"2\" />\n",
       "<line x1=\"342.8\" y1=\"65.6\" x2=\"341.5\" y2=\"67.9\"\n",
       "    stroke=\"#663399\" stroke-width=\"2\" />\n",
       "<line x1=\"341.5\" y1=\"67.9\" x2=\"342.8\" y2=\"70.3\"\n",
       "    stroke=\"#663399\" stroke-width=\"2\" />\n",
       "<line x1=\"342.8\" y1=\"70.3\" x2=\"345.6\" y2=\"70.3\"\n",
       "    stroke=\"#663399\" stroke-width=\"2\" />\n",
       "<line x1=\"345.6\" y1=\"70.3\" x2=\"344.2\" y2=\"72.6\"\n",
       "    stroke=\"#663399\" stroke-width=\"2\" />\n",
       "<line x1=\"344.2\" y1=\"72.6\" x2=\"345.6\" y2=\"75.0\"\n",
       "    stroke=\"#663399\" stroke-width=\"2\" />\n",
       "<line x1=\"345.6\" y1=\"75.0\" x2=\"348.3\" y2=\"75.0\"\n",
       "    stroke=\"#663399\" stroke-width=\"2\" />\n",
       "<line x1=\"348.3\" y1=\"75.0\" x2=\"349.6\" y2=\"72.6\"\n",
       "    stroke=\"#663399\" stroke-width=\"2\" />\n",
       "<line x1=\"349.6\" y1=\"72.6\" x2=\"351.0\" y2=\"75.0\"\n",
       "    stroke=\"#663399\" stroke-width=\"2\" />\n",
       "<line x1=\"351.0\" y1=\"75.0\" x2=\"353.7\" y2=\"75.0\"\n",
       "    stroke=\"#663399\" stroke-width=\"2\" />\n",
       "<line x1=\"353.7\" y1=\"75.0\" x2=\"355.1\" y2=\"72.6\"\n",
       "    stroke=\"#663399\" stroke-width=\"2\" />\n",
       "<line x1=\"355.1\" y1=\"72.6\" x2=\"353.7\" y2=\"70.3\"\n",
       "    stroke=\"#663399\" stroke-width=\"2\" />\n",
       "<line x1=\"353.7\" y1=\"70.3\" x2=\"356.4\" y2=\"70.3\"\n",
       "    stroke=\"#663399\" stroke-width=\"2\" />\n",
       "<line x1=\"356.4\" y1=\"70.3\" x2=\"357.8\" y2=\"67.9\"\n",
       "    stroke=\"#663399\" stroke-width=\"2\" />\n",
       "<line x1=\"357.8\" y1=\"67.9\" x2=\"359.1\" y2=\"70.3\"\n",
       "    stroke=\"#663399\" stroke-width=\"2\" />\n",
       "<line x1=\"359.1\" y1=\"70.3\" x2=\"361.9\" y2=\"70.3\"\n",
       "    stroke=\"#663399\" stroke-width=\"2\" />\n",
       "<line x1=\"361.9\" y1=\"70.3\" x2=\"360.5\" y2=\"72.6\"\n",
       "    stroke=\"#663399\" stroke-width=\"2\" />\n",
       "<line x1=\"360.5\" y1=\"72.6\" x2=\"361.9\" y2=\"75.0\"\n",
       "    stroke=\"#663399\" stroke-width=\"2\" />\n",
       "<line x1=\"361.9\" y1=\"75.0\" x2=\"364.6\" y2=\"75.0\"\n",
       "    stroke=\"#663399\" stroke-width=\"2\" />\n",
       "<line x1=\"364.6\" y1=\"75.0\" x2=\"365.9\" y2=\"72.6\"\n",
       "    stroke=\"#663399\" stroke-width=\"2\" />\n",
       "<line x1=\"365.9\" y1=\"72.6\" x2=\"367.3\" y2=\"75.0\"\n",
       "    stroke=\"#663399\" stroke-width=\"2\" />\n",
       "<line x1=\"367.3\" y1=\"75.0\" x2=\"370.0\" y2=\"75.0\"\n",
       "    stroke=\"#663399\" stroke-width=\"2\" />\n",
       "\n",
       "<g transform=\"rotate(-90.0,370.0,75.0) translate(370.0, 75.0)\">\n",
       "    <circle stroke=\"#63A375\" stroke-width=\"2\" fill=\"transparent\" r=\"5.5\" cx=\"0\" cy=\"0\"/>\n",
       "    <polygon points=\"0,12 2,9 -2,9\" style=\"fill:#63A375;stroke:#63A375;stroke-width:2\"/>\n",
       "</g>\n",
       "\n",
       "</svg>"
      ],
      "text/plain": [
       "<IPython.core.display.HTML object>"
      ]
     },
     "metadata": {},
     "output_type": "display_data"
    }
   ],
   "source": [
    "make_turtle(delay=0)\n",
    "koch(220)"
   ]
  },
  {
   "cell_type": "markdown",
   "id": "0a724a44",
   "metadata": {},
   "source": [
    "一旦你的 `koch` 函式可以運作，你就可以使用這個迴圈來畫出三個科赫曲線，形成雪花的形狀。"
   ]
  },
  {
   "cell_type": "code",
   "execution_count": 129,
   "id": "e722a600",
   "metadata": {},
   "outputs": [
    {
     "data": {
      "text/html": [
       "<svg width=\"300\" height=\"300\">\n",
       "    <rect width=\"100%\" height=\"100%\" fill=\"#F3F3F7\" />\n",
       "\n",
       "<line x1=\"150\" y1=\"150\" x2=\"154.4\" y2=\"150.0\"\n",
       "    stroke=\"#663399\" stroke-width=\"2\" />\n",
       "<line x1=\"154.4\" y1=\"150.0\" x2=\"156.7\" y2=\"146.2\"\n",
       "    stroke=\"#663399\" stroke-width=\"2\" />\n",
       "<line x1=\"156.7\" y1=\"146.2\" x2=\"158.9\" y2=\"150.0\"\n",
       "    stroke=\"#663399\" stroke-width=\"2\" />\n",
       "<line x1=\"158.9\" y1=\"150.0\" x2=\"163.3\" y2=\"150.0\"\n",
       "    stroke=\"#663399\" stroke-width=\"2\" />\n",
       "<line x1=\"163.3\" y1=\"150.0\" x2=\"165.6\" y2=\"146.2\"\n",
       "    stroke=\"#663399\" stroke-width=\"2\" />\n",
       "<line x1=\"165.6\" y1=\"146.2\" x2=\"163.3\" y2=\"142.3\"\n",
       "    stroke=\"#663399\" stroke-width=\"2\" />\n",
       "<line x1=\"163.3\" y1=\"142.3\" x2=\"167.8\" y2=\"142.3\"\n",
       "    stroke=\"#663399\" stroke-width=\"2\" />\n",
       "<line x1=\"167.8\" y1=\"142.3\" x2=\"170.0\" y2=\"138.5\"\n",
       "    stroke=\"#663399\" stroke-width=\"2\" />\n",
       "<line x1=\"170.0\" y1=\"138.5\" x2=\"172.2\" y2=\"142.3\"\n",
       "    stroke=\"#663399\" stroke-width=\"2\" />\n",
       "<line x1=\"172.2\" y1=\"142.3\" x2=\"176.7\" y2=\"142.3\"\n",
       "    stroke=\"#663399\" stroke-width=\"2\" />\n",
       "<line x1=\"176.7\" y1=\"142.3\" x2=\"174.4\" y2=\"146.2\"\n",
       "    stroke=\"#663399\" stroke-width=\"2\" />\n",
       "<line x1=\"174.4\" y1=\"146.2\" x2=\"176.7\" y2=\"150.0\"\n",
       "    stroke=\"#663399\" stroke-width=\"2\" />\n",
       "<line x1=\"176.7\" y1=\"150.0\" x2=\"181.1\" y2=\"150.0\"\n",
       "    stroke=\"#663399\" stroke-width=\"2\" />\n",
       "<line x1=\"181.1\" y1=\"150.0\" x2=\"183.3\" y2=\"146.2\"\n",
       "    stroke=\"#663399\" stroke-width=\"2\" />\n",
       "<line x1=\"183.3\" y1=\"146.2\" x2=\"185.6\" y2=\"150.0\"\n",
       "    stroke=\"#663399\" stroke-width=\"2\" />\n",
       "<line x1=\"185.6\" y1=\"150.0\" x2=\"190.0\" y2=\"150.0\"\n",
       "    stroke=\"#663399\" stroke-width=\"2\" />\n",
       "<line x1=\"190.0\" y1=\"150.0\" x2=\"192.2\" y2=\"146.2\"\n",
       "    stroke=\"#663399\" stroke-width=\"2\" />\n",
       "<line x1=\"192.2\" y1=\"146.2\" x2=\"190.0\" y2=\"142.3\"\n",
       "    stroke=\"#663399\" stroke-width=\"2\" />\n",
       "<line x1=\"190.0\" y1=\"142.3\" x2=\"194.4\" y2=\"142.3\"\n",
       "    stroke=\"#663399\" stroke-width=\"2\" />\n",
       "<line x1=\"194.4\" y1=\"142.3\" x2=\"196.7\" y2=\"138.5\"\n",
       "    stroke=\"#663399\" stroke-width=\"2\" />\n",
       "<line x1=\"196.7\" y1=\"138.5\" x2=\"194.4\" y2=\"134.6\"\n",
       "    stroke=\"#663399\" stroke-width=\"2\" />\n",
       "<line x1=\"194.4\" y1=\"134.6\" x2=\"190.0\" y2=\"134.6\"\n",
       "    stroke=\"#663399\" stroke-width=\"2\" />\n",
       "<line x1=\"190.0\" y1=\"134.6\" x2=\"192.2\" y2=\"130.8\"\n",
       "    stroke=\"#663399\" stroke-width=\"2\" />\n",
       "<line x1=\"192.2\" y1=\"130.8\" x2=\"190.0\" y2=\"126.9\"\n",
       "    stroke=\"#663399\" stroke-width=\"2\" />\n",
       "<line x1=\"190.0\" y1=\"126.9\" x2=\"194.4\" y2=\"126.9\"\n",
       "    stroke=\"#663399\" stroke-width=\"2\" />\n",
       "<line x1=\"194.4\" y1=\"126.9\" x2=\"196.7\" y2=\"123.1\"\n",
       "    stroke=\"#663399\" stroke-width=\"2\" />\n",
       "<line x1=\"196.7\" y1=\"123.1\" x2=\"198.9\" y2=\"126.9\"\n",
       "    stroke=\"#663399\" stroke-width=\"2\" />\n",
       "<line x1=\"198.9\" y1=\"126.9\" x2=\"203.3\" y2=\"126.9\"\n",
       "    stroke=\"#663399\" stroke-width=\"2\" />\n",
       "<line x1=\"203.3\" y1=\"126.9\" x2=\"205.6\" y2=\"123.1\"\n",
       "    stroke=\"#663399\" stroke-width=\"2\" />\n",
       "<line x1=\"205.6\" y1=\"123.1\" x2=\"203.3\" y2=\"119.2\"\n",
       "    stroke=\"#663399\" stroke-width=\"2\" />\n",
       "<line x1=\"203.3\" y1=\"119.2\" x2=\"207.8\" y2=\"119.2\"\n",
       "    stroke=\"#663399\" stroke-width=\"2\" />\n",
       "<line x1=\"207.8\" y1=\"119.2\" x2=\"210.0\" y2=\"115.4\"\n",
       "    stroke=\"#663399\" stroke-width=\"2\" />\n",
       "<line x1=\"210.0\" y1=\"115.4\" x2=\"212.2\" y2=\"119.2\"\n",
       "    stroke=\"#663399\" stroke-width=\"2\" />\n",
       "<line x1=\"212.2\" y1=\"119.2\" x2=\"216.7\" y2=\"119.2\"\n",
       "    stroke=\"#663399\" stroke-width=\"2\" />\n",
       "<line x1=\"216.7\" y1=\"119.2\" x2=\"214.4\" y2=\"123.1\"\n",
       "    stroke=\"#663399\" stroke-width=\"2\" />\n",
       "<line x1=\"214.4\" y1=\"123.1\" x2=\"216.7\" y2=\"126.9\"\n",
       "    stroke=\"#663399\" stroke-width=\"2\" />\n",
       "<line x1=\"216.7\" y1=\"126.9\" x2=\"221.1\" y2=\"126.9\"\n",
       "    stroke=\"#663399\" stroke-width=\"2\" />\n",
       "<line x1=\"221.1\" y1=\"126.9\" x2=\"223.3\" y2=\"123.1\"\n",
       "    stroke=\"#663399\" stroke-width=\"2\" />\n",
       "<line x1=\"223.3\" y1=\"123.1\" x2=\"225.6\" y2=\"126.9\"\n",
       "    stroke=\"#663399\" stroke-width=\"2\" />\n",
       "<line x1=\"225.6\" y1=\"126.9\" x2=\"230.0\" y2=\"126.9\"\n",
       "    stroke=\"#663399\" stroke-width=\"2\" />\n",
       "<line x1=\"230.0\" y1=\"126.9\" x2=\"227.8\" y2=\"130.8\"\n",
       "    stroke=\"#663399\" stroke-width=\"2\" />\n",
       "<line x1=\"227.8\" y1=\"130.8\" x2=\"230.0\" y2=\"134.6\"\n",
       "    stroke=\"#663399\" stroke-width=\"2\" />\n",
       "<line x1=\"230.0\" y1=\"134.6\" x2=\"225.6\" y2=\"134.6\"\n",
       "    stroke=\"#663399\" stroke-width=\"2\" />\n",
       "<line x1=\"225.6\" y1=\"134.6\" x2=\"223.3\" y2=\"138.5\"\n",
       "    stroke=\"#663399\" stroke-width=\"2\" />\n",
       "<line x1=\"223.3\" y1=\"138.5\" x2=\"225.6\" y2=\"142.3\"\n",
       "    stroke=\"#663399\" stroke-width=\"2\" />\n",
       "<line x1=\"225.6\" y1=\"142.3\" x2=\"230.0\" y2=\"142.3\"\n",
       "    stroke=\"#663399\" stroke-width=\"2\" />\n",
       "<line x1=\"230.0\" y1=\"142.3\" x2=\"227.8\" y2=\"146.2\"\n",
       "    stroke=\"#663399\" stroke-width=\"2\" />\n",
       "<line x1=\"227.8\" y1=\"146.2\" x2=\"230.0\" y2=\"150.0\"\n",
       "    stroke=\"#663399\" stroke-width=\"2\" />\n",
       "<line x1=\"230.0\" y1=\"150.0\" x2=\"234.4\" y2=\"150.0\"\n",
       "    stroke=\"#663399\" stroke-width=\"2\" />\n",
       "<line x1=\"234.4\" y1=\"150.0\" x2=\"236.7\" y2=\"146.2\"\n",
       "    stroke=\"#663399\" stroke-width=\"2\" />\n",
       "<line x1=\"236.7\" y1=\"146.2\" x2=\"238.9\" y2=\"150.0\"\n",
       "    stroke=\"#663399\" stroke-width=\"2\" />\n",
       "<line x1=\"238.9\" y1=\"150.0\" x2=\"243.3\" y2=\"150.0\"\n",
       "    stroke=\"#663399\" stroke-width=\"2\" />\n",
       "<line x1=\"243.3\" y1=\"150.0\" x2=\"245.6\" y2=\"146.2\"\n",
       "    stroke=\"#663399\" stroke-width=\"2\" />\n",
       "<line x1=\"245.6\" y1=\"146.2\" x2=\"243.3\" y2=\"142.3\"\n",
       "    stroke=\"#663399\" stroke-width=\"2\" />\n",
       "<line x1=\"243.3\" y1=\"142.3\" x2=\"247.8\" y2=\"142.3\"\n",
       "    stroke=\"#663399\" stroke-width=\"2\" />\n",
       "<line x1=\"247.8\" y1=\"142.3\" x2=\"250.0\" y2=\"138.5\"\n",
       "    stroke=\"#663399\" stroke-width=\"2\" />\n",
       "<line x1=\"250.0\" y1=\"138.5\" x2=\"252.2\" y2=\"142.3\"\n",
       "    stroke=\"#663399\" stroke-width=\"2\" />\n",
       "<line x1=\"252.2\" y1=\"142.3\" x2=\"256.7\" y2=\"142.3\"\n",
       "    stroke=\"#663399\" stroke-width=\"2\" />\n",
       "<line x1=\"256.7\" y1=\"142.3\" x2=\"254.4\" y2=\"146.2\"\n",
       "    stroke=\"#663399\" stroke-width=\"2\" />\n",
       "<line x1=\"254.4\" y1=\"146.2\" x2=\"256.7\" y2=\"150.0\"\n",
       "    stroke=\"#663399\" stroke-width=\"2\" />\n",
       "<line x1=\"256.7\" y1=\"150.0\" x2=\"261.1\" y2=\"150.0\"\n",
       "    stroke=\"#663399\" stroke-width=\"2\" />\n",
       "<line x1=\"261.1\" y1=\"150.0\" x2=\"263.3\" y2=\"146.2\"\n",
       "    stroke=\"#663399\" stroke-width=\"2\" />\n",
       "<line x1=\"263.3\" y1=\"146.2\" x2=\"265.6\" y2=\"150.0\"\n",
       "    stroke=\"#663399\" stroke-width=\"2\" />\n",
       "<line x1=\"265.6\" y1=\"150.0\" x2=\"270.0\" y2=\"150.0\"\n",
       "    stroke=\"#663399\" stroke-width=\"2\" />\n",
       "<line x1=\"270.0\" y1=\"150.0\" x2=\"267.8\" y2=\"153.8\"\n",
       "    stroke=\"#663399\" stroke-width=\"2\" />\n",
       "<line x1=\"267.8\" y1=\"153.8\" x2=\"270.0\" y2=\"157.7\"\n",
       "    stroke=\"#663399\" stroke-width=\"2\" />\n",
       "<line x1=\"270.0\" y1=\"157.7\" x2=\"265.6\" y2=\"157.7\"\n",
       "    stroke=\"#663399\" stroke-width=\"2\" />\n",
       "<line x1=\"265.6\" y1=\"157.7\" x2=\"263.3\" y2=\"161.5\"\n",
       "    stroke=\"#663399\" stroke-width=\"2\" />\n",
       "<line x1=\"263.3\" y1=\"161.5\" x2=\"265.6\" y2=\"165.4\"\n",
       "    stroke=\"#663399\" stroke-width=\"2\" />\n",
       "<line x1=\"265.6\" y1=\"165.4\" x2=\"270.0\" y2=\"165.4\"\n",
       "    stroke=\"#663399\" stroke-width=\"2\" />\n",
       "<line x1=\"270.0\" y1=\"165.4\" x2=\"267.8\" y2=\"169.2\"\n",
       "    stroke=\"#663399\" stroke-width=\"2\" />\n",
       "<line x1=\"267.8\" y1=\"169.2\" x2=\"270.0\" y2=\"173.1\"\n",
       "    stroke=\"#663399\" stroke-width=\"2\" />\n",
       "<line x1=\"270.0\" y1=\"173.1\" x2=\"265.6\" y2=\"173.1\"\n",
       "    stroke=\"#663399\" stroke-width=\"2\" />\n",
       "<line x1=\"265.6\" y1=\"173.1\" x2=\"263.3\" y2=\"176.9\"\n",
       "    stroke=\"#663399\" stroke-width=\"2\" />\n",
       "<line x1=\"263.3\" y1=\"176.9\" x2=\"261.1\" y2=\"173.1\"\n",
       "    stroke=\"#663399\" stroke-width=\"2\" />\n",
       "<line x1=\"261.1\" y1=\"173.1\" x2=\"256.7\" y2=\"173.1\"\n",
       "    stroke=\"#663399\" stroke-width=\"2\" />\n",
       "<line x1=\"256.7\" y1=\"173.1\" x2=\"254.4\" y2=\"176.9\"\n",
       "    stroke=\"#663399\" stroke-width=\"2\" />\n",
       "<line x1=\"254.4\" y1=\"176.9\" x2=\"256.7\" y2=\"180.8\"\n",
       "    stroke=\"#663399\" stroke-width=\"2\" />\n",
       "<line x1=\"256.7\" y1=\"180.8\" x2=\"252.2\" y2=\"180.8\"\n",
       "    stroke=\"#663399\" stroke-width=\"2\" />\n",
       "<line x1=\"252.2\" y1=\"180.8\" x2=\"250.0\" y2=\"184.6\"\n",
       "    stroke=\"#663399\" stroke-width=\"2\" />\n",
       "<line x1=\"250.0\" y1=\"184.6\" x2=\"252.2\" y2=\"188.5\"\n",
       "    stroke=\"#663399\" stroke-width=\"2\" />\n",
       "<line x1=\"252.2\" y1=\"188.5\" x2=\"256.7\" y2=\"188.5\"\n",
       "    stroke=\"#663399\" stroke-width=\"2\" />\n",
       "<line x1=\"256.7\" y1=\"188.5\" x2=\"254.4\" y2=\"192.3\"\n",
       "    stroke=\"#663399\" stroke-width=\"2\" />\n",
       "<line x1=\"254.4\" y1=\"192.3\" x2=\"256.7\" y2=\"196.2\"\n",
       "    stroke=\"#663399\" stroke-width=\"2\" />\n",
       "<line x1=\"256.7\" y1=\"196.2\" x2=\"261.1\" y2=\"196.2\"\n",
       "    stroke=\"#663399\" stroke-width=\"2\" />\n",
       "<line x1=\"261.1\" y1=\"196.2\" x2=\"263.3\" y2=\"192.3\"\n",
       "    stroke=\"#663399\" stroke-width=\"2\" />\n",
       "<line x1=\"263.3\" y1=\"192.3\" x2=\"265.6\" y2=\"196.2\"\n",
       "    stroke=\"#663399\" stroke-width=\"2\" />\n",
       "<line x1=\"265.6\" y1=\"196.2\" x2=\"270.0\" y2=\"196.2\"\n",
       "    stroke=\"#663399\" stroke-width=\"2\" />\n",
       "<line x1=\"270.0\" y1=\"196.2\" x2=\"267.8\" y2=\"200.0\"\n",
       "    stroke=\"#663399\" stroke-width=\"2\" />\n",
       "<line x1=\"267.8\" y1=\"200.0\" x2=\"270.0\" y2=\"203.9\"\n",
       "    stroke=\"#663399\" stroke-width=\"2\" />\n",
       "<line x1=\"270.0\" y1=\"203.9\" x2=\"265.6\" y2=\"203.9\"\n",
       "    stroke=\"#663399\" stroke-width=\"2\" />\n",
       "<line x1=\"265.6\" y1=\"203.9\" x2=\"263.3\" y2=\"207.7\"\n",
       "    stroke=\"#663399\" stroke-width=\"2\" />\n",
       "<line x1=\"263.3\" y1=\"207.7\" x2=\"265.6\" y2=\"211.6\"\n",
       "    stroke=\"#663399\" stroke-width=\"2\" />\n",
       "<line x1=\"265.6\" y1=\"211.6\" x2=\"270.0\" y2=\"211.6\"\n",
       "    stroke=\"#663399\" stroke-width=\"2\" />\n",
       "<line x1=\"270.0\" y1=\"211.6\" x2=\"267.8\" y2=\"215.4\"\n",
       "    stroke=\"#663399\" stroke-width=\"2\" />\n",
       "<line x1=\"267.8\" y1=\"215.4\" x2=\"270.0\" y2=\"219.3\"\n",
       "    stroke=\"#663399\" stroke-width=\"2\" />\n",
       "<line x1=\"270.0\" y1=\"219.3\" x2=\"265.6\" y2=\"219.3\"\n",
       "    stroke=\"#663399\" stroke-width=\"2\" />\n",
       "<line x1=\"265.6\" y1=\"219.3\" x2=\"263.3\" y2=\"223.1\"\n",
       "    stroke=\"#663399\" stroke-width=\"2\" />\n",
       "<line x1=\"263.3\" y1=\"223.1\" x2=\"261.1\" y2=\"219.3\"\n",
       "    stroke=\"#663399\" stroke-width=\"2\" />\n",
       "<line x1=\"261.1\" y1=\"219.3\" x2=\"256.7\" y2=\"219.3\"\n",
       "    stroke=\"#663399\" stroke-width=\"2\" />\n",
       "<line x1=\"256.7\" y1=\"219.3\" x2=\"254.4\" y2=\"223.1\"\n",
       "    stroke=\"#663399\" stroke-width=\"2\" />\n",
       "<line x1=\"254.4\" y1=\"223.1\" x2=\"256.7\" y2=\"227.0\"\n",
       "    stroke=\"#663399\" stroke-width=\"2\" />\n",
       "<line x1=\"256.7\" y1=\"227.0\" x2=\"252.2\" y2=\"227.0\"\n",
       "    stroke=\"#663399\" stroke-width=\"2\" />\n",
       "<line x1=\"252.2\" y1=\"227.0\" x2=\"250.0\" y2=\"230.8\"\n",
       "    stroke=\"#663399\" stroke-width=\"2\" />\n",
       "<line x1=\"250.0\" y1=\"230.8\" x2=\"247.8\" y2=\"227.0\"\n",
       "    stroke=\"#663399\" stroke-width=\"2\" />\n",
       "<line x1=\"247.8\" y1=\"227.0\" x2=\"243.3\" y2=\"227.0\"\n",
       "    stroke=\"#663399\" stroke-width=\"2\" />\n",
       "<line x1=\"243.3\" y1=\"227.0\" x2=\"245.6\" y2=\"223.1\"\n",
       "    stroke=\"#663399\" stroke-width=\"2\" />\n",
       "<line x1=\"245.6\" y1=\"223.1\" x2=\"243.3\" y2=\"219.3\"\n",
       "    stroke=\"#663399\" stroke-width=\"2\" />\n",
       "<line x1=\"243.3\" y1=\"219.3\" x2=\"238.9\" y2=\"219.3\"\n",
       "    stroke=\"#663399\" stroke-width=\"2\" />\n",
       "<line x1=\"238.9\" y1=\"219.3\" x2=\"236.7\" y2=\"223.1\"\n",
       "    stroke=\"#663399\" stroke-width=\"2\" />\n",
       "<line x1=\"236.7\" y1=\"223.1\" x2=\"234.4\" y2=\"219.3\"\n",
       "    stroke=\"#663399\" stroke-width=\"2\" />\n",
       "<line x1=\"234.4\" y1=\"219.3\" x2=\"230.0\" y2=\"219.3\"\n",
       "    stroke=\"#663399\" stroke-width=\"2\" />\n",
       "<line x1=\"230.0\" y1=\"219.3\" x2=\"227.8\" y2=\"223.1\"\n",
       "    stroke=\"#663399\" stroke-width=\"2\" />\n",
       "<line x1=\"227.8\" y1=\"223.1\" x2=\"230.0\" y2=\"227.0\"\n",
       "    stroke=\"#663399\" stroke-width=\"2\" />\n",
       "<line x1=\"230.0\" y1=\"227.0\" x2=\"225.6\" y2=\"227.0\"\n",
       "    stroke=\"#663399\" stroke-width=\"2\" />\n",
       "<line x1=\"225.6\" y1=\"227.0\" x2=\"223.3\" y2=\"230.8\"\n",
       "    stroke=\"#663399\" stroke-width=\"2\" />\n",
       "<line x1=\"223.3\" y1=\"230.8\" x2=\"225.6\" y2=\"234.7\"\n",
       "    stroke=\"#663399\" stroke-width=\"2\" />\n",
       "<line x1=\"225.6\" y1=\"234.7\" x2=\"230.0\" y2=\"234.7\"\n",
       "    stroke=\"#663399\" stroke-width=\"2\" />\n",
       "<line x1=\"230.0\" y1=\"234.7\" x2=\"227.8\" y2=\"238.5\"\n",
       "    stroke=\"#663399\" stroke-width=\"2\" />\n",
       "<line x1=\"227.8\" y1=\"238.5\" x2=\"230.0\" y2=\"242.4\"\n",
       "    stroke=\"#663399\" stroke-width=\"2\" />\n",
       "<line x1=\"230.0\" y1=\"242.4\" x2=\"225.6\" y2=\"242.4\"\n",
       "    stroke=\"#663399\" stroke-width=\"2\" />\n",
       "<line x1=\"225.6\" y1=\"242.4\" x2=\"223.3\" y2=\"246.2\"\n",
       "    stroke=\"#663399\" stroke-width=\"2\" />\n",
       "<line x1=\"223.3\" y1=\"246.2\" x2=\"221.1\" y2=\"242.4\"\n",
       "    stroke=\"#663399\" stroke-width=\"2\" />\n",
       "<line x1=\"221.1\" y1=\"242.4\" x2=\"216.7\" y2=\"242.4\"\n",
       "    stroke=\"#663399\" stroke-width=\"2\" />\n",
       "<line x1=\"216.7\" y1=\"242.4\" x2=\"214.4\" y2=\"246.2\"\n",
       "    stroke=\"#663399\" stroke-width=\"2\" />\n",
       "<line x1=\"214.4\" y1=\"246.2\" x2=\"216.7\" y2=\"250.1\"\n",
       "    stroke=\"#663399\" stroke-width=\"2\" />\n",
       "<line x1=\"216.7\" y1=\"250.1\" x2=\"212.2\" y2=\"250.1\"\n",
       "    stroke=\"#663399\" stroke-width=\"2\" />\n",
       "<line x1=\"212.2\" y1=\"250.1\" x2=\"210.0\" y2=\"253.9\"\n",
       "    stroke=\"#663399\" stroke-width=\"2\" />\n",
       "<line x1=\"210.0\" y1=\"253.9\" x2=\"207.8\" y2=\"250.1\"\n",
       "    stroke=\"#663399\" stroke-width=\"2\" />\n",
       "<line x1=\"207.8\" y1=\"250.1\" x2=\"203.3\" y2=\"250.1\"\n",
       "    stroke=\"#663399\" stroke-width=\"2\" />\n",
       "<line x1=\"203.3\" y1=\"250.1\" x2=\"205.6\" y2=\"246.2\"\n",
       "    stroke=\"#663399\" stroke-width=\"2\" />\n",
       "<line x1=\"205.6\" y1=\"246.2\" x2=\"203.3\" y2=\"242.4\"\n",
       "    stroke=\"#663399\" stroke-width=\"2\" />\n",
       "<line x1=\"203.3\" y1=\"242.4\" x2=\"198.9\" y2=\"242.4\"\n",
       "    stroke=\"#663399\" stroke-width=\"2\" />\n",
       "<line x1=\"198.9\" y1=\"242.4\" x2=\"196.7\" y2=\"246.2\"\n",
       "    stroke=\"#663399\" stroke-width=\"2\" />\n",
       "<line x1=\"196.7\" y1=\"246.2\" x2=\"194.4\" y2=\"242.4\"\n",
       "    stroke=\"#663399\" stroke-width=\"2\" />\n",
       "<line x1=\"194.4\" y1=\"242.4\" x2=\"190.0\" y2=\"242.4\"\n",
       "    stroke=\"#663399\" stroke-width=\"2\" />\n",
       "<line x1=\"190.0\" y1=\"242.4\" x2=\"192.2\" y2=\"238.5\"\n",
       "    stroke=\"#663399\" stroke-width=\"2\" />\n",
       "<line x1=\"192.2\" y1=\"238.5\" x2=\"190.0\" y2=\"234.7\"\n",
       "    stroke=\"#663399\" stroke-width=\"2\" />\n",
       "<line x1=\"190.0\" y1=\"234.7\" x2=\"194.4\" y2=\"234.7\"\n",
       "    stroke=\"#663399\" stroke-width=\"2\" />\n",
       "<line x1=\"194.4\" y1=\"234.7\" x2=\"196.7\" y2=\"230.8\"\n",
       "    stroke=\"#663399\" stroke-width=\"2\" />\n",
       "<line x1=\"196.7\" y1=\"230.8\" x2=\"194.4\" y2=\"227.0\"\n",
       "    stroke=\"#663399\" stroke-width=\"2\" />\n",
       "<line x1=\"194.4\" y1=\"227.0\" x2=\"190.0\" y2=\"227.0\"\n",
       "    stroke=\"#663399\" stroke-width=\"2\" />\n",
       "<line x1=\"190.0\" y1=\"227.0\" x2=\"192.2\" y2=\"223.1\"\n",
       "    stroke=\"#663399\" stroke-width=\"2\" />\n",
       "<line x1=\"192.2\" y1=\"223.1\" x2=\"190.0\" y2=\"219.3\"\n",
       "    stroke=\"#663399\" stroke-width=\"2\" />\n",
       "<line x1=\"190.0\" y1=\"219.3\" x2=\"185.6\" y2=\"219.3\"\n",
       "    stroke=\"#663399\" stroke-width=\"2\" />\n",
       "<line x1=\"185.6\" y1=\"219.3\" x2=\"183.3\" y2=\"223.1\"\n",
       "    stroke=\"#663399\" stroke-width=\"2\" />\n",
       "<line x1=\"183.3\" y1=\"223.1\" x2=\"181.1\" y2=\"219.3\"\n",
       "    stroke=\"#663399\" stroke-width=\"2\" />\n",
       "<line x1=\"181.1\" y1=\"219.3\" x2=\"176.7\" y2=\"219.3\"\n",
       "    stroke=\"#663399\" stroke-width=\"2\" />\n",
       "<line x1=\"176.7\" y1=\"219.3\" x2=\"174.4\" y2=\"223.1\"\n",
       "    stroke=\"#663399\" stroke-width=\"2\" />\n",
       "<line x1=\"174.4\" y1=\"223.1\" x2=\"176.7\" y2=\"227.0\"\n",
       "    stroke=\"#663399\" stroke-width=\"2\" />\n",
       "<line x1=\"176.7\" y1=\"227.0\" x2=\"172.2\" y2=\"227.0\"\n",
       "    stroke=\"#663399\" stroke-width=\"2\" />\n",
       "<line x1=\"172.2\" y1=\"227.0\" x2=\"170.0\" y2=\"230.8\"\n",
       "    stroke=\"#663399\" stroke-width=\"2\" />\n",
       "<line x1=\"170.0\" y1=\"230.8\" x2=\"167.8\" y2=\"227.0\"\n",
       "    stroke=\"#663399\" stroke-width=\"2\" />\n",
       "<line x1=\"167.8\" y1=\"227.0\" x2=\"163.3\" y2=\"227.0\"\n",
       "    stroke=\"#663399\" stroke-width=\"2\" />\n",
       "<line x1=\"163.3\" y1=\"227.0\" x2=\"165.6\" y2=\"223.1\"\n",
       "    stroke=\"#663399\" stroke-width=\"2\" />\n",
       "<line x1=\"165.6\" y1=\"223.1\" x2=\"163.3\" y2=\"219.3\"\n",
       "    stroke=\"#663399\" stroke-width=\"2\" />\n",
       "<line x1=\"163.3\" y1=\"219.3\" x2=\"158.9\" y2=\"219.3\"\n",
       "    stroke=\"#663399\" stroke-width=\"2\" />\n",
       "<line x1=\"158.9\" y1=\"219.3\" x2=\"156.7\" y2=\"223.1\"\n",
       "    stroke=\"#663399\" stroke-width=\"2\" />\n",
       "<line x1=\"156.7\" y1=\"223.1\" x2=\"154.4\" y2=\"219.3\"\n",
       "    stroke=\"#663399\" stroke-width=\"2\" />\n",
       "<line x1=\"154.4\" y1=\"219.3\" x2=\"150.0\" y2=\"219.3\"\n",
       "    stroke=\"#663399\" stroke-width=\"2\" />\n",
       "<line x1=\"150.0\" y1=\"219.3\" x2=\"152.2\" y2=\"215.4\"\n",
       "    stroke=\"#663399\" stroke-width=\"2\" />\n",
       "<line x1=\"152.2\" y1=\"215.4\" x2=\"150.0\" y2=\"211.6\"\n",
       "    stroke=\"#663399\" stroke-width=\"2\" />\n",
       "<line x1=\"150.0\" y1=\"211.6\" x2=\"154.4\" y2=\"211.6\"\n",
       "    stroke=\"#663399\" stroke-width=\"2\" />\n",
       "<line x1=\"154.4\" y1=\"211.6\" x2=\"156.7\" y2=\"207.7\"\n",
       "    stroke=\"#663399\" stroke-width=\"2\" />\n",
       "<line x1=\"156.7\" y1=\"207.7\" x2=\"154.4\" y2=\"203.9\"\n",
       "    stroke=\"#663399\" stroke-width=\"2\" />\n",
       "<line x1=\"154.4\" y1=\"203.9\" x2=\"150.0\" y2=\"203.9\"\n",
       "    stroke=\"#663399\" stroke-width=\"2\" />\n",
       "<line x1=\"150.0\" y1=\"203.9\" x2=\"152.2\" y2=\"200.0\"\n",
       "    stroke=\"#663399\" stroke-width=\"2\" />\n",
       "<line x1=\"152.2\" y1=\"200.0\" x2=\"150.0\" y2=\"196.2\"\n",
       "    stroke=\"#663399\" stroke-width=\"2\" />\n",
       "<line x1=\"150.0\" y1=\"196.2\" x2=\"154.4\" y2=\"196.2\"\n",
       "    stroke=\"#663399\" stroke-width=\"2\" />\n",
       "<line x1=\"154.4\" y1=\"196.2\" x2=\"156.7\" y2=\"192.3\"\n",
       "    stroke=\"#663399\" stroke-width=\"2\" />\n",
       "<line x1=\"156.7\" y1=\"192.3\" x2=\"158.9\" y2=\"196.2\"\n",
       "    stroke=\"#663399\" stroke-width=\"2\" />\n",
       "<line x1=\"158.9\" y1=\"196.2\" x2=\"163.3\" y2=\"196.2\"\n",
       "    stroke=\"#663399\" stroke-width=\"2\" />\n",
       "<line x1=\"163.3\" y1=\"196.2\" x2=\"165.6\" y2=\"192.3\"\n",
       "    stroke=\"#663399\" stroke-width=\"2\" />\n",
       "<line x1=\"165.6\" y1=\"192.3\" x2=\"163.3\" y2=\"188.5\"\n",
       "    stroke=\"#663399\" stroke-width=\"2\" />\n",
       "<line x1=\"163.3\" y1=\"188.5\" x2=\"167.8\" y2=\"188.5\"\n",
       "    stroke=\"#663399\" stroke-width=\"2\" />\n",
       "<line x1=\"167.8\" y1=\"188.5\" x2=\"170.0\" y2=\"184.6\"\n",
       "    stroke=\"#663399\" stroke-width=\"2\" />\n",
       "<line x1=\"170.0\" y1=\"184.6\" x2=\"167.8\" y2=\"180.8\"\n",
       "    stroke=\"#663399\" stroke-width=\"2\" />\n",
       "<line x1=\"167.8\" y1=\"180.8\" x2=\"163.3\" y2=\"180.8\"\n",
       "    stroke=\"#663399\" stroke-width=\"2\" />\n",
       "<line x1=\"163.3\" y1=\"180.8\" x2=\"165.6\" y2=\"176.9\"\n",
       "    stroke=\"#663399\" stroke-width=\"2\" />\n",
       "<line x1=\"165.6\" y1=\"176.9\" x2=\"163.3\" y2=\"173.1\"\n",
       "    stroke=\"#663399\" stroke-width=\"2\" />\n",
       "<line x1=\"163.3\" y1=\"173.1\" x2=\"158.9\" y2=\"173.1\"\n",
       "    stroke=\"#663399\" stroke-width=\"2\" />\n",
       "<line x1=\"158.9\" y1=\"173.1\" x2=\"156.7\" y2=\"176.9\"\n",
       "    stroke=\"#663399\" stroke-width=\"2\" />\n",
       "<line x1=\"156.7\" y1=\"176.9\" x2=\"154.4\" y2=\"173.1\"\n",
       "    stroke=\"#663399\" stroke-width=\"2\" />\n",
       "<line x1=\"154.4\" y1=\"173.1\" x2=\"150.0\" y2=\"173.1\"\n",
       "    stroke=\"#663399\" stroke-width=\"2\" />\n",
       "<line x1=\"150.0\" y1=\"173.1\" x2=\"152.2\" y2=\"169.2\"\n",
       "    stroke=\"#663399\" stroke-width=\"2\" />\n",
       "<line x1=\"152.2\" y1=\"169.2\" x2=\"150.0\" y2=\"165.4\"\n",
       "    stroke=\"#663399\" stroke-width=\"2\" />\n",
       "<line x1=\"150.0\" y1=\"165.4\" x2=\"154.4\" y2=\"165.4\"\n",
       "    stroke=\"#663399\" stroke-width=\"2\" />\n",
       "<line x1=\"154.4\" y1=\"165.4\" x2=\"156.7\" y2=\"161.5\"\n",
       "    stroke=\"#663399\" stroke-width=\"2\" />\n",
       "<line x1=\"156.7\" y1=\"161.5\" x2=\"154.4\" y2=\"157.7\"\n",
       "    stroke=\"#663399\" stroke-width=\"2\" />\n",
       "<line x1=\"154.4\" y1=\"157.7\" x2=\"150.0\" y2=\"157.7\"\n",
       "    stroke=\"#663399\" stroke-width=\"2\" />\n",
       "<line x1=\"150.0\" y1=\"157.7\" x2=\"152.2\" y2=\"153.8\"\n",
       "    stroke=\"#663399\" stroke-width=\"2\" />\n",
       "<line x1=\"152.2\" y1=\"153.8\" x2=\"150.0\" y2=\"150.0\"\n",
       "    stroke=\"#663399\" stroke-width=\"2\" />\n",
       "\n",
       "<g transform=\"rotate(-90.0,150.0,150.0) translate(150.0, 150.0)\">\n",
       "    <circle stroke=\"#63A375\" stroke-width=\"2\" fill=\"transparent\" r=\"5.5\" cx=\"0\" cy=\"0\"/>\n",
       "    <polygon points=\"0,12 2,9 -2,9\" style=\"fill:#63A375;stroke:#63A375;stroke-width:2\"/>\n",
       "</g>\n",
       "\n",
       "</svg>"
      ],
      "text/plain": [
       "<IPython.core.display.HTML object>"
      ]
     },
     "metadata": {},
     "output_type": "display_data"
    }
   ],
   "source": [
    "make_turtle(delay=0, height=300)\n",
    "for i in range(3):\n",
    "    koch(120)\n",
    "    right(120)"
   ]
  },
  {
   "cell_type": "markdown",
   "id": "95fe0157",
   "metadata": {},
   "source": [
    "### 練習\n",
    "\n",
    "虛擬助理知道 `jupyturtle` 模組中的函式，但是這些函式有很多版本，名稱也不同，所以虛擬助理可能不知道你在說哪一個。\n",
    "\n",
    "為了解決這個問題，你可以在提問之前提供額外的資訊。\n",
    "例如，你可以用「這是一個使用 `jupyturtle` 模組的程式：」作為提示的開頭，然後貼上本章中的一個範例。\n",
    "之後，虛擬助理應該就能夠產生使用這個模組的程式碼了。\n",
    "\n",
    "作為範例，請虛擬助理提供一個畫謝爾賓斯基三角形 (Sierpiński triangle) 的程式。\n",
    "你得到的程式碼應該是一個不錯的起點，但你可能需要進行一些除錯。\n",
    "如果第一次嘗試不成功，你可以告訴虛擬助理發生了什麼事並請求協助——或者你可以自己除錯。"
   ]
  },
  {
   "cell_type": "markdown",
   "id": "a1f49b02",
   "metadata": {},
   "source": [
    "解答"
   ]
  },
  {
   "cell_type": "markdown",
   "id": "455918ae",
   "metadata": {},
   "source": [
    "這是作者在 2023 年 6 月從 ChatGPT 得到的程式碼，只有少數修正"
   ]
  },
  {
   "cell_type": "code",
   "execution_count": 130,
   "id": "4f9fb34f",
   "metadata": {},
   "outputs": [],
   "source": [
    "def draw_sierpinski(length_val, depth_val): # 譯註：參數名修改\n",
    "    if depth_val == 0:\n",
    "        for _ in range(3):\n",
    "            forward(length_val)\n",
    "            left(120)\n",
    "    else:\n",
    "        # 畫左下角的小三角形\n",
    "        draw_sierpinski(length_val / 2, depth_val - 1)\n",
    "        # 移動到右上角小三角形的起點\n",
    "        forward(length_val / 2)\n",
    "        # 畫右上角的小三角形\n",
    "        draw_sierpinski(length_val / 2, depth_val - 1)\n",
    "        # 移動到頂部小三角形的起點\n",
    "        back(length_val / 2) # 退回到大三角形的頂點\n",
    "        left(60)\n",
    "        forward(length_val / 2)\n",
    "        right(60)\n",
    "        # 畫頂部的小三角形\n",
    "        draw_sierpinski(length_val / 2, depth_val - 1)\n",
    "        # 回到大三角形的初始方向和位置 (相對而言)\n",
    "        left(60)\n",
    "        back(length_val / 2)\n",
    "        right(60)"
   ]
  },
  {
   "cell_type": "markdown",
   "id": "8225b842",
   "metadata": {},
   "source": [
    "結果可能像這樣，儘管你得到的版本可能會不同。\n",
    "(譯註：執行後會出現一個由許多小三角形組成的大三角形分形圖案)"
   ]
  },
  {
   "cell_type": "code",
   "execution_count": 140,
   "id": "380fe55f",
   "metadata": {},
   "outputs": [
    {
     "data": {
      "text/html": [
       "<svg width=\"300\" height=\"200\">\n",
       "    <rect width=\"100%\" height=\"100%\" fill=\"#F3F3F7\" />\n",
       "\n",
       "<line x1=\"150\" y1=\"100\" x2=\"161.2\" y2=\"100.0\"\n",
       "    stroke=\"#663399\" stroke-width=\"2\" />\n",
       "<line x1=\"161.2\" y1=\"100.0\" x2=\"155.6\" y2=\"90.3\"\n",
       "    stroke=\"#663399\" stroke-width=\"2\" />\n",
       "<line x1=\"155.6\" y1=\"90.3\" x2=\"150.0\" y2=\"100.0\"\n",
       "    stroke=\"#663399\" stroke-width=\"2\" />\n",
       "<line x1=\"150.0\" y1=\"100.0\" x2=\"161.2\" y2=\"100.0\"\n",
       "    stroke=\"#663399\" stroke-width=\"2\" />\n",
       "<line x1=\"161.2\" y1=\"100.0\" x2=\"172.5\" y2=\"100.0\"\n",
       "    stroke=\"#663399\" stroke-width=\"2\" />\n",
       "<line x1=\"172.5\" y1=\"100.0\" x2=\"166.9\" y2=\"90.3\"\n",
       "    stroke=\"#663399\" stroke-width=\"2\" />\n",
       "<line x1=\"166.9\" y1=\"90.3\" x2=\"161.2\" y2=\"100.0\"\n",
       "    stroke=\"#663399\" stroke-width=\"2\" />\n",
       "<line x1=\"161.2\" y1=\"100.0\" x2=\"150.0\" y2=\"100.0\"\n",
       "    stroke=\"#663399\" stroke-width=\"2\" />\n",
       "<line x1=\"150.0\" y1=\"100.0\" x2=\"155.6\" y2=\"90.3\"\n",
       "    stroke=\"#663399\" stroke-width=\"2\" />\n",
       "<line x1=\"155.6\" y1=\"90.3\" x2=\"166.9\" y2=\"90.3\"\n",
       "    stroke=\"#663399\" stroke-width=\"2\" />\n",
       "<line x1=\"166.9\" y1=\"90.3\" x2=\"161.2\" y2=\"80.5\"\n",
       "    stroke=\"#663399\" stroke-width=\"2\" />\n",
       "<line x1=\"161.2\" y1=\"80.5\" x2=\"155.6\" y2=\"90.3\"\n",
       "    stroke=\"#663399\" stroke-width=\"2\" />\n",
       "<line x1=\"155.6\" y1=\"90.3\" x2=\"150.0\" y2=\"100.0\"\n",
       "    stroke=\"#663399\" stroke-width=\"2\" />\n",
       "<line x1=\"150.0\" y1=\"100.0\" x2=\"172.5\" y2=\"100.0\"\n",
       "    stroke=\"#663399\" stroke-width=\"2\" />\n",
       "<line x1=\"172.5\" y1=\"100.0\" x2=\"183.8\" y2=\"100.0\"\n",
       "    stroke=\"#663399\" stroke-width=\"2\" />\n",
       "<line x1=\"183.8\" y1=\"100.0\" x2=\"178.1\" y2=\"90.3\"\n",
       "    stroke=\"#663399\" stroke-width=\"2\" />\n",
       "<line x1=\"178.1\" y1=\"90.3\" x2=\"172.5\" y2=\"100.0\"\n",
       "    stroke=\"#663399\" stroke-width=\"2\" />\n",
       "<line x1=\"172.5\" y1=\"100.0\" x2=\"183.8\" y2=\"100.0\"\n",
       "    stroke=\"#663399\" stroke-width=\"2\" />\n",
       "<line x1=\"183.8\" y1=\"100.0\" x2=\"195.0\" y2=\"100.0\"\n",
       "    stroke=\"#663399\" stroke-width=\"2\" />\n",
       "<line x1=\"195.0\" y1=\"100.0\" x2=\"189.4\" y2=\"90.3\"\n",
       "    stroke=\"#663399\" stroke-width=\"2\" />\n",
       "<line x1=\"189.4\" y1=\"90.3\" x2=\"183.8\" y2=\"100.0\"\n",
       "    stroke=\"#663399\" stroke-width=\"2\" />\n",
       "<line x1=\"183.8\" y1=\"100.0\" x2=\"172.5\" y2=\"100.0\"\n",
       "    stroke=\"#663399\" stroke-width=\"2\" />\n",
       "<line x1=\"172.5\" y1=\"100.0\" x2=\"178.1\" y2=\"90.3\"\n",
       "    stroke=\"#663399\" stroke-width=\"2\" />\n",
       "<line x1=\"178.1\" y1=\"90.3\" x2=\"189.4\" y2=\"90.3\"\n",
       "    stroke=\"#663399\" stroke-width=\"2\" />\n",
       "<line x1=\"189.4\" y1=\"90.3\" x2=\"183.8\" y2=\"80.5\"\n",
       "    stroke=\"#663399\" stroke-width=\"2\" />\n",
       "<line x1=\"183.8\" y1=\"80.5\" x2=\"178.1\" y2=\"90.3\"\n",
       "    stroke=\"#663399\" stroke-width=\"2\" />\n",
       "<line x1=\"178.1\" y1=\"90.3\" x2=\"172.5\" y2=\"100.0\"\n",
       "    stroke=\"#663399\" stroke-width=\"2\" />\n",
       "<line x1=\"172.5\" y1=\"100.0\" x2=\"150.0\" y2=\"100.0\"\n",
       "    stroke=\"#663399\" stroke-width=\"2\" />\n",
       "<line x1=\"150.0\" y1=\"100.0\" x2=\"161.2\" y2=\"80.5\"\n",
       "    stroke=\"#663399\" stroke-width=\"2\" />\n",
       "<line x1=\"161.2\" y1=\"80.5\" x2=\"172.5\" y2=\"80.5\"\n",
       "    stroke=\"#663399\" stroke-width=\"2\" />\n",
       "<line x1=\"172.5\" y1=\"80.5\" x2=\"166.9\" y2=\"70.8\"\n",
       "    stroke=\"#663399\" stroke-width=\"2\" />\n",
       "<line x1=\"166.9\" y1=\"70.8\" x2=\"161.2\" y2=\"80.5\"\n",
       "    stroke=\"#663399\" stroke-width=\"2\" />\n",
       "<line x1=\"161.2\" y1=\"80.5\" x2=\"172.5\" y2=\"80.5\"\n",
       "    stroke=\"#663399\" stroke-width=\"2\" />\n",
       "<line x1=\"172.5\" y1=\"80.5\" x2=\"183.8\" y2=\"80.5\"\n",
       "    stroke=\"#663399\" stroke-width=\"2\" />\n",
       "<line x1=\"183.8\" y1=\"80.5\" x2=\"178.1\" y2=\"70.8\"\n",
       "    stroke=\"#663399\" stroke-width=\"2\" />\n",
       "<line x1=\"178.1\" y1=\"70.8\" x2=\"172.5\" y2=\"80.5\"\n",
       "    stroke=\"#663399\" stroke-width=\"2\" />\n",
       "<line x1=\"172.5\" y1=\"80.5\" x2=\"161.2\" y2=\"80.5\"\n",
       "    stroke=\"#663399\" stroke-width=\"2\" />\n",
       "<line x1=\"161.2\" y1=\"80.5\" x2=\"166.9\" y2=\"70.8\"\n",
       "    stroke=\"#663399\" stroke-width=\"2\" />\n",
       "<line x1=\"166.9\" y1=\"70.8\" x2=\"178.1\" y2=\"70.8\"\n",
       "    stroke=\"#663399\" stroke-width=\"2\" />\n",
       "<line x1=\"178.1\" y1=\"70.8\" x2=\"172.5\" y2=\"61.0\"\n",
       "    stroke=\"#663399\" stroke-width=\"2\" />\n",
       "<line x1=\"172.5\" y1=\"61.0\" x2=\"166.9\" y2=\"70.8\"\n",
       "    stroke=\"#663399\" stroke-width=\"2\" />\n",
       "<line x1=\"166.9\" y1=\"70.8\" x2=\"161.2\" y2=\"80.5\"\n",
       "    stroke=\"#663399\" stroke-width=\"2\" />\n",
       "<line x1=\"161.2\" y1=\"80.5\" x2=\"150.0\" y2=\"100.0\"\n",
       "    stroke=\"#663399\" stroke-width=\"2\" />\n",
       "<line x1=\"150.0\" y1=\"100.0\" x2=\"195.0\" y2=\"100.0\"\n",
       "    stroke=\"#663399\" stroke-width=\"2\" />\n",
       "<line x1=\"195.0\" y1=\"100.0\" x2=\"206.2\" y2=\"100.0\"\n",
       "    stroke=\"#663399\" stroke-width=\"2\" />\n",
       "<line x1=\"206.2\" y1=\"100.0\" x2=\"200.6\" y2=\"90.3\"\n",
       "    stroke=\"#663399\" stroke-width=\"2\" />\n",
       "<line x1=\"200.6\" y1=\"90.3\" x2=\"195.0\" y2=\"100.0\"\n",
       "    stroke=\"#663399\" stroke-width=\"2\" />\n",
       "<line x1=\"195.0\" y1=\"100.0\" x2=\"206.2\" y2=\"100.0\"\n",
       "    stroke=\"#663399\" stroke-width=\"2\" />\n",
       "<line x1=\"206.2\" y1=\"100.0\" x2=\"217.5\" y2=\"100.0\"\n",
       "    stroke=\"#663399\" stroke-width=\"2\" />\n",
       "<line x1=\"217.5\" y1=\"100.0\" x2=\"211.9\" y2=\"90.3\"\n",
       "    stroke=\"#663399\" stroke-width=\"2\" />\n",
       "<line x1=\"211.9\" y1=\"90.3\" x2=\"206.2\" y2=\"100.0\"\n",
       "    stroke=\"#663399\" stroke-width=\"2\" />\n",
       "<line x1=\"206.2\" y1=\"100.0\" x2=\"195.0\" y2=\"100.0\"\n",
       "    stroke=\"#663399\" stroke-width=\"2\" />\n",
       "<line x1=\"195.0\" y1=\"100.0\" x2=\"200.6\" y2=\"90.3\"\n",
       "    stroke=\"#663399\" stroke-width=\"2\" />\n",
       "<line x1=\"200.6\" y1=\"90.3\" x2=\"211.9\" y2=\"90.3\"\n",
       "    stroke=\"#663399\" stroke-width=\"2\" />\n",
       "<line x1=\"211.9\" y1=\"90.3\" x2=\"206.2\" y2=\"80.5\"\n",
       "    stroke=\"#663399\" stroke-width=\"2\" />\n",
       "<line x1=\"206.2\" y1=\"80.5\" x2=\"200.6\" y2=\"90.3\"\n",
       "    stroke=\"#663399\" stroke-width=\"2\" />\n",
       "<line x1=\"200.6\" y1=\"90.3\" x2=\"195.0\" y2=\"100.0\"\n",
       "    stroke=\"#663399\" stroke-width=\"2\" />\n",
       "<line x1=\"195.0\" y1=\"100.0\" x2=\"217.5\" y2=\"100.0\"\n",
       "    stroke=\"#663399\" stroke-width=\"2\" />\n",
       "<line x1=\"217.5\" y1=\"100.0\" x2=\"228.8\" y2=\"100.0\"\n",
       "    stroke=\"#663399\" stroke-width=\"2\" />\n",
       "<line x1=\"228.8\" y1=\"100.0\" x2=\"223.1\" y2=\"90.3\"\n",
       "    stroke=\"#663399\" stroke-width=\"2\" />\n",
       "<line x1=\"223.1\" y1=\"90.3\" x2=\"217.5\" y2=\"100.0\"\n",
       "    stroke=\"#663399\" stroke-width=\"2\" />\n",
       "<line x1=\"217.5\" y1=\"100.0\" x2=\"228.8\" y2=\"100.0\"\n",
       "    stroke=\"#663399\" stroke-width=\"2\" />\n",
       "<line x1=\"228.8\" y1=\"100.0\" x2=\"240.0\" y2=\"100.0\"\n",
       "    stroke=\"#663399\" stroke-width=\"2\" />\n",
       "<line x1=\"240.0\" y1=\"100.0\" x2=\"234.4\" y2=\"90.3\"\n",
       "    stroke=\"#663399\" stroke-width=\"2\" />\n",
       "<line x1=\"234.4\" y1=\"90.3\" x2=\"228.8\" y2=\"100.0\"\n",
       "    stroke=\"#663399\" stroke-width=\"2\" />\n",
       "<line x1=\"228.8\" y1=\"100.0\" x2=\"217.5\" y2=\"100.0\"\n",
       "    stroke=\"#663399\" stroke-width=\"2\" />\n",
       "<line x1=\"217.5\" y1=\"100.0\" x2=\"223.1\" y2=\"90.3\"\n",
       "    stroke=\"#663399\" stroke-width=\"2\" />\n",
       "<line x1=\"223.1\" y1=\"90.3\" x2=\"234.4\" y2=\"90.3\"\n",
       "    stroke=\"#663399\" stroke-width=\"2\" />\n",
       "<line x1=\"234.4\" y1=\"90.3\" x2=\"228.8\" y2=\"80.5\"\n",
       "    stroke=\"#663399\" stroke-width=\"2\" />\n",
       "<line x1=\"228.8\" y1=\"80.5\" x2=\"223.1\" y2=\"90.3\"\n",
       "    stroke=\"#663399\" stroke-width=\"2\" />\n",
       "<line x1=\"223.1\" y1=\"90.3\" x2=\"217.5\" y2=\"100.0\"\n",
       "    stroke=\"#663399\" stroke-width=\"2\" />\n",
       "<line x1=\"217.5\" y1=\"100.0\" x2=\"195.0\" y2=\"100.0\"\n",
       "    stroke=\"#663399\" stroke-width=\"2\" />\n",
       "<line x1=\"195.0\" y1=\"100.0\" x2=\"206.2\" y2=\"80.5\"\n",
       "    stroke=\"#663399\" stroke-width=\"2\" />\n",
       "<line x1=\"206.2\" y1=\"80.5\" x2=\"217.5\" y2=\"80.5\"\n",
       "    stroke=\"#663399\" stroke-width=\"2\" />\n",
       "<line x1=\"217.5\" y1=\"80.5\" x2=\"211.9\" y2=\"70.8\"\n",
       "    stroke=\"#663399\" stroke-width=\"2\" />\n",
       "<line x1=\"211.9\" y1=\"70.8\" x2=\"206.2\" y2=\"80.5\"\n",
       "    stroke=\"#663399\" stroke-width=\"2\" />\n",
       "<line x1=\"206.2\" y1=\"80.5\" x2=\"217.5\" y2=\"80.5\"\n",
       "    stroke=\"#663399\" stroke-width=\"2\" />\n",
       "<line x1=\"217.5\" y1=\"80.5\" x2=\"228.8\" y2=\"80.5\"\n",
       "    stroke=\"#663399\" stroke-width=\"2\" />\n",
       "<line x1=\"228.8\" y1=\"80.5\" x2=\"223.1\" y2=\"70.8\"\n",
       "    stroke=\"#663399\" stroke-width=\"2\" />\n",
       "<line x1=\"223.1\" y1=\"70.8\" x2=\"217.5\" y2=\"80.5\"\n",
       "    stroke=\"#663399\" stroke-width=\"2\" />\n",
       "<line x1=\"217.5\" y1=\"80.5\" x2=\"206.2\" y2=\"80.5\"\n",
       "    stroke=\"#663399\" stroke-width=\"2\" />\n",
       "<line x1=\"206.2\" y1=\"80.5\" x2=\"211.9\" y2=\"70.8\"\n",
       "    stroke=\"#663399\" stroke-width=\"2\" />\n",
       "<line x1=\"211.9\" y1=\"70.8\" x2=\"223.1\" y2=\"70.8\"\n",
       "    stroke=\"#663399\" stroke-width=\"2\" />\n",
       "<line x1=\"223.1\" y1=\"70.8\" x2=\"217.5\" y2=\"61.0\"\n",
       "    stroke=\"#663399\" stroke-width=\"2\" />\n",
       "<line x1=\"217.5\" y1=\"61.0\" x2=\"211.9\" y2=\"70.8\"\n",
       "    stroke=\"#663399\" stroke-width=\"2\" />\n",
       "<line x1=\"211.9\" y1=\"70.8\" x2=\"206.2\" y2=\"80.5\"\n",
       "    stroke=\"#663399\" stroke-width=\"2\" />\n",
       "<line x1=\"206.2\" y1=\"80.5\" x2=\"195.0\" y2=\"100.0\"\n",
       "    stroke=\"#663399\" stroke-width=\"2\" />\n",
       "<line x1=\"195.0\" y1=\"100.0\" x2=\"150.0\" y2=\"100.0\"\n",
       "    stroke=\"#663399\" stroke-width=\"2\" />\n",
       "<line x1=\"150.0\" y1=\"100.0\" x2=\"172.5\" y2=\"61.0\"\n",
       "    stroke=\"#663399\" stroke-width=\"2\" />\n",
       "<line x1=\"172.5\" y1=\"61.0\" x2=\"183.8\" y2=\"61.0\"\n",
       "    stroke=\"#663399\" stroke-width=\"2\" />\n",
       "<line x1=\"183.8\" y1=\"61.0\" x2=\"178.1\" y2=\"51.3\"\n",
       "    stroke=\"#663399\" stroke-width=\"2\" />\n",
       "<line x1=\"178.1\" y1=\"51.3\" x2=\"172.5\" y2=\"61.0\"\n",
       "    stroke=\"#663399\" stroke-width=\"2\" />\n",
       "<line x1=\"172.5\" y1=\"61.0\" x2=\"183.8\" y2=\"61.0\"\n",
       "    stroke=\"#663399\" stroke-width=\"2\" />\n",
       "<line x1=\"183.8\" y1=\"61.0\" x2=\"195.0\" y2=\"61.0\"\n",
       "    stroke=\"#663399\" stroke-width=\"2\" />\n",
       "<line x1=\"195.0\" y1=\"61.0\" x2=\"189.4\" y2=\"51.3\"\n",
       "    stroke=\"#663399\" stroke-width=\"2\" />\n",
       "<line x1=\"189.4\" y1=\"51.3\" x2=\"183.8\" y2=\"61.0\"\n",
       "    stroke=\"#663399\" stroke-width=\"2\" />\n",
       "<line x1=\"183.8\" y1=\"61.0\" x2=\"172.5\" y2=\"61.0\"\n",
       "    stroke=\"#663399\" stroke-width=\"2\" />\n",
       "<line x1=\"172.5\" y1=\"61.0\" x2=\"178.1\" y2=\"51.3\"\n",
       "    stroke=\"#663399\" stroke-width=\"2\" />\n",
       "<line x1=\"178.1\" y1=\"51.3\" x2=\"189.4\" y2=\"51.3\"\n",
       "    stroke=\"#663399\" stroke-width=\"2\" />\n",
       "<line x1=\"189.4\" y1=\"51.3\" x2=\"183.8\" y2=\"41.5\"\n",
       "    stroke=\"#663399\" stroke-width=\"2\" />\n",
       "<line x1=\"183.8\" y1=\"41.5\" x2=\"178.1\" y2=\"51.3\"\n",
       "    stroke=\"#663399\" stroke-width=\"2\" />\n",
       "<line x1=\"178.1\" y1=\"51.3\" x2=\"172.5\" y2=\"61.0\"\n",
       "    stroke=\"#663399\" stroke-width=\"2\" />\n",
       "<line x1=\"172.5\" y1=\"61.0\" x2=\"195.0\" y2=\"61.0\"\n",
       "    stroke=\"#663399\" stroke-width=\"2\" />\n",
       "<line x1=\"195.0\" y1=\"61.0\" x2=\"206.2\" y2=\"61.0\"\n",
       "    stroke=\"#663399\" stroke-width=\"2\" />\n",
       "<line x1=\"206.2\" y1=\"61.0\" x2=\"200.6\" y2=\"51.3\"\n",
       "    stroke=\"#663399\" stroke-width=\"2\" />\n",
       "<line x1=\"200.6\" y1=\"51.3\" x2=\"195.0\" y2=\"61.0\"\n",
       "    stroke=\"#663399\" stroke-width=\"2\" />\n",
       "<line x1=\"195.0\" y1=\"61.0\" x2=\"206.2\" y2=\"61.0\"\n",
       "    stroke=\"#663399\" stroke-width=\"2\" />\n",
       "<line x1=\"206.2\" y1=\"61.0\" x2=\"217.5\" y2=\"61.0\"\n",
       "    stroke=\"#663399\" stroke-width=\"2\" />\n",
       "<line x1=\"217.5\" y1=\"61.0\" x2=\"211.9\" y2=\"51.3\"\n",
       "    stroke=\"#663399\" stroke-width=\"2\" />\n",
       "<line x1=\"211.9\" y1=\"51.3\" x2=\"206.2\" y2=\"61.0\"\n",
       "    stroke=\"#663399\" stroke-width=\"2\" />\n",
       "<line x1=\"206.2\" y1=\"61.0\" x2=\"195.0\" y2=\"61.0\"\n",
       "    stroke=\"#663399\" stroke-width=\"2\" />\n",
       "<line x1=\"195.0\" y1=\"61.0\" x2=\"200.6\" y2=\"51.3\"\n",
       "    stroke=\"#663399\" stroke-width=\"2\" />\n",
       "<line x1=\"200.6\" y1=\"51.3\" x2=\"211.9\" y2=\"51.3\"\n",
       "    stroke=\"#663399\" stroke-width=\"2\" />\n",
       "<line x1=\"211.9\" y1=\"51.3\" x2=\"206.2\" y2=\"41.5\"\n",
       "    stroke=\"#663399\" stroke-width=\"2\" />\n",
       "<line x1=\"206.2\" y1=\"41.5\" x2=\"200.6\" y2=\"51.3\"\n",
       "    stroke=\"#663399\" stroke-width=\"2\" />\n",
       "<line x1=\"200.6\" y1=\"51.3\" x2=\"195.0\" y2=\"61.0\"\n",
       "    stroke=\"#663399\" stroke-width=\"2\" />\n",
       "<line x1=\"195.0\" y1=\"61.0\" x2=\"172.5\" y2=\"61.0\"\n",
       "    stroke=\"#663399\" stroke-width=\"2\" />\n",
       "<line x1=\"172.5\" y1=\"61.0\" x2=\"183.8\" y2=\"41.5\"\n",
       "    stroke=\"#663399\" stroke-width=\"2\" />\n",
       "<line x1=\"183.8\" y1=\"41.5\" x2=\"195.0\" y2=\"41.5\"\n",
       "    stroke=\"#663399\" stroke-width=\"2\" />\n",
       "<line x1=\"195.0\" y1=\"41.5\" x2=\"189.4\" y2=\"31.8\"\n",
       "    stroke=\"#663399\" stroke-width=\"2\" />\n",
       "<line x1=\"189.4\" y1=\"31.8\" x2=\"183.8\" y2=\"41.5\"\n",
       "    stroke=\"#663399\" stroke-width=\"2\" />\n",
       "<line x1=\"183.8\" y1=\"41.5\" x2=\"195.0\" y2=\"41.5\"\n",
       "    stroke=\"#663399\" stroke-width=\"2\" />\n",
       "<line x1=\"195.0\" y1=\"41.5\" x2=\"206.2\" y2=\"41.5\"\n",
       "    stroke=\"#663399\" stroke-width=\"2\" />\n",
       "<line x1=\"206.2\" y1=\"41.5\" x2=\"200.6\" y2=\"31.8\"\n",
       "    stroke=\"#663399\" stroke-width=\"2\" />\n",
       "<line x1=\"200.6\" y1=\"31.8\" x2=\"195.0\" y2=\"41.5\"\n",
       "    stroke=\"#663399\" stroke-width=\"2\" />\n",
       "<line x1=\"195.0\" y1=\"41.5\" x2=\"183.8\" y2=\"41.5\"\n",
       "    stroke=\"#663399\" stroke-width=\"2\" />\n",
       "<line x1=\"183.8\" y1=\"41.5\" x2=\"189.4\" y2=\"31.8\"\n",
       "    stroke=\"#663399\" stroke-width=\"2\" />\n",
       "<line x1=\"189.4\" y1=\"31.8\" x2=\"200.6\" y2=\"31.8\"\n",
       "    stroke=\"#663399\" stroke-width=\"2\" />\n",
       "<line x1=\"200.6\" y1=\"31.8\" x2=\"195.0\" y2=\"22.1\"\n",
       "    stroke=\"#663399\" stroke-width=\"2\" />\n",
       "<line x1=\"195.0\" y1=\"22.1\" x2=\"189.4\" y2=\"31.8\"\n",
       "    stroke=\"#663399\" stroke-width=\"2\" />\n",
       "<line x1=\"189.4\" y1=\"31.8\" x2=\"183.8\" y2=\"41.5\"\n",
       "    stroke=\"#663399\" stroke-width=\"2\" />\n",
       "<line x1=\"183.8\" y1=\"41.5\" x2=\"172.5\" y2=\"61.0\"\n",
       "    stroke=\"#663399\" stroke-width=\"2\" />\n",
       "<line x1=\"172.5\" y1=\"61.0\" x2=\"150.0\" y2=\"100.0\"\n",
       "    stroke=\"#663399\" stroke-width=\"2\" />\n",
       "\n",
       "<g transform=\"rotate(-90.0,150.0,100.0) translate(150.0, 100.0)\">\n",
       "    <circle stroke=\"#63A375\" stroke-width=\"2\" fill=\"transparent\" r=\"5.5\" cx=\"0\" cy=\"0\"/>\n",
       "    <polygon points=\"0,12 2,9 -2,9\" style=\"fill:#63A375;stroke:#63A375;stroke-width:2\"/>\n",
       "</g>\n",
       "\n",
       "</svg>"
      ],
      "text/plain": [
       "<IPython.core.display.HTML object>"
      ]
     },
     "metadata": {},
     "output_type": "display_data"
    }
   ],
   "source": [
    "make_turtle(delay=0, height=200)\n",
    "draw_sierpinski(90, 3) # 畫一個邊長100，深度3的謝爾賓斯基三角形"
   ]
  },
  {
   "cell_type": "markdown",
   "id": "233d2cf7",
   "metadata": {},
   "source": [
    "[Think Python: 3rd Edition](https://allendowney.github.io/ThinkPython/index.html)\n",
    "\n",
    "Copyright 2024 [Allen B. Downey](https://allendowney.com)\n",
    "\n",
    "程式碼授權: [MIT License](https://mit-license.org/)\n",
    "\n",
    "文字授權: [Creative Commons Attribution-NonCommercial-ShareAlike 4.0 International](https://creativecommons.org/licenses/by-nc-sa/4.0/)"
   ]
  }
 ],
 "metadata": {
  "jupytext": {
   "cell_metadata_filter": "-all",
   "encoding": "# coding: utf-8",
   "executable": "/usr/bin/env python",
   "main_language": "python",
   "notebook_metadata_filter": "-all"
  },
  "kernelspec": {
   "display_name": ".venv",
   "language": "python",
   "name": "python3"
  },
  "language_info": {
   "codemirror_mode": {
    "name": "ipython",
    "version": 3
   },
   "file_extension": ".py",
   "mimetype": "text/x-python",
   "name": "python",
   "nbconvert_exporter": "python",
   "pygments_lexer": "ipython3",
   "version": "3.12.2"
  }
 },
 "nbformat": 4,
 "nbformat_minor": 5
}
