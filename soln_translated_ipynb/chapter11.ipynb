{
 "cells": [
  {
   "cell_type": "markdown",
   "id": "9e863167",
   "metadata": {},
   "source": [
    "從 chap11.ipynb 轉換而來\n",
    "使用 ipynb_to_py.py 腳本自動轉換"
   ]
  },
  {
   "cell_type": "markdown",
   "id": "16eeb241",
   "metadata": {},
   "source": [
    "你可以從以下網站訂購《Think Python 3e》的紙本版和電子書：\n",
    "[Bookshop.org](https://bookshop.org/a/98697/9781098155438) 和\n",
    "[Amazon](https://www.amazon.com/_/dp/1098155432?smid=ATVPDKIKX0DER&_encoding=UTF8&tag=oreilly20-20&_encoding=UTF8&tag=greenteapre01-20&linkCode=ur2&linkId=e2a529f94920295d27ec8a06e757dc7c&camp=1789&creative=9325)."
   ]
  },
  {
   "cell_type": "code",
   "execution_count": null,
   "id": "cc2f562a",
   "metadata": {
    "lines_to_next_cell": 1
   },
   "outputs": [],
   "source": [
    "from os.path import basename, exists"
   ]
  },
  {
   "cell_type": "code",
   "execution_count": null,
   "id": "fd761d60",
   "metadata": {
    "lines_to_next_cell": 1
   },
   "outputs": [],
   "source": [
    "def download(url):\n",
    "    filename = basename(url)\n",
    "    if not exists(filename):\n",
    "        from urllib.request import urlretrieve\n",
    "\n",
    "        local, _ = urlretrieve(url, filename)\n",
    "        print(\"已下載 \" + str(local)) # 把下載訊息也中文化\n",
    "    return filename"
   ]
  },
  {
   "cell_type": "code",
   "execution_count": null,
   "id": "c9af0582",
   "metadata": {},
   "outputs": [],
   "source": [
    "download('https://github.com/AllenDowney/ThinkPython/raw/v3/thinkpython.py');\n",
    "download('https://github.com/AllenDowney/ThinkPython/raw/v3/diagram.py');"
   ]
  },
  {
   "cell_type": "code",
   "execution_count": null,
   "id": "25808aeb",
   "metadata": {},
   "outputs": [],
   "source": [
    "import thinkpython"
   ]
  },
  {
   "cell_type": "markdown",
   "id": "0945f2e3",
   "metadata": {},
   "source": [
    "# 元組 (Tuples)\n",
    "\n",
    "這一章要介紹另一種內建型別：元組 (tuple)，然後會展示列表 (list)、字典 (dictionary) 和元組如何協同運作。\n",
    "內容還包括元組賦值 (tuple assignment) 以及一個對應可變長度參數列表函數很有用的功能：打包 (packing) 和解包 (unpacking) 運算子。\n",
    "\n",
    "在練習題中，我們會使用元組，以及列表和字典，來解決更多的文字謎題並實作高效率的演算法。\n",
    "\n",
    "附註： \"tuple\" 有兩種發音方式。\n",
    "有些人唸 \"tuh-ple\"，聽起來像 \"supple\"。\n",
    "但在程式設計的領域，大多數人唸 \"too-ple\"，聽起來像 \"quadruple\"。\n",
    "(中文通常直接唸「元組」ㄩㄢˊ ㄗㄨˇ)"
   ]
  },
  {
   "cell_type": "markdown",
   "id": "176de15a",
   "metadata": {},
   "source": [
    "## 元組就像列表 (Tuples are like lists)\n",
    "\n",
    "元組 (tuple) 是一個值的序列。這些值可以是任何型別，並且由整數索引，所以元組和列表非常相似。\n",
    "重要的差別在於元組是不可變的 (immutable)。\n",
    "\n",
    "要建立一個元組，你可以寫下一串用逗號分隔的值。"
   ]
  },
  {
   "cell_type": "code",
   "execution_count": null,
   "id": "9f15478d",
   "metadata": {},
   "outputs": [],
   "source": [
    "t = 'l', 'u', 'p', 'i', 'n' # Lupin (羽扇豆；羅蘋，一個角色名)\n",
    "type(t) # 檢查 t 的型別"
   ]
  },
  {
   "cell_type": "markdown",
   "id": "733fa243",
   "metadata": {},
   "source": [
    "雖然不是必要的，但通常會用括號把元組包起來。"
   ]
  },
  {
   "cell_type": "code",
   "execution_count": null,
   "id": "c1b7e3c7",
   "metadata": {},
   "outputs": [],
   "source": [
    "t = ('l', 'u', 'p', 'i', 'n')\n",
    "type(t)"
   ]
  },
  {
   "cell_type": "markdown",
   "id": "099f52b5",
   "metadata": {},
   "source": [
    "要建立一個只包含單一元素的元組，你必須在最後加上一個逗號。"
   ]
  },
  {
   "cell_type": "code",
   "execution_count": null,
   "id": "bdcf6597",
   "metadata": {},
   "outputs": [],
   "source": [
    "t1 = 'p', # 注意這個逗號！\n",
    "type(t1)"
   ]
  },
  {
   "cell_type": "markdown",
   "id": "42f38409",
   "metadata": {},
   "source": [
    "括號裡只有一個值並不是元組。(它只是一個被括號包起來的值)"
   ]
  },
  {
   "cell_type": "code",
   "execution_count": null,
   "id": "319d1910",
   "metadata": {},
   "outputs": [],
   "source": [
    "t2 = ('p') # 這只是一個字串 'p'\n",
    "type(t2)"
   ]
  },
  {
   "cell_type": "markdown",
   "id": "95befc8b",
   "metadata": {},
   "source": [
    "另一種建立元組的方法是使用內建函數 `tuple()`。如果不給任何參數，\n",
    "它會建立一個空元組。"
   ]
  },
  {
   "cell_type": "code",
   "execution_count": null,
   "id": "2fdce714",
   "metadata": {},
   "outputs": [],
   "source": [
    "t = tuple()\n",
    "t"
   ]
  },
  {
   "cell_type": "markdown",
   "id": "1903ac82",
   "metadata": {},
   "source": [
    "如果參數是一個序列 (字串、列表或元組)，結果會是一個包含該序列元素的元組。"
   ]
  },
  {
   "cell_type": "code",
   "execution_count": null,
   "id": "127c1e1a",
   "metadata": {},
   "outputs": [],
   "source": [
    "t = tuple('lupin') # 把字串 'lupin' 轉換成元組\n",
    "t"
   ]
  },
  {
   "cell_type": "markdown",
   "id": "c50172cf",
   "metadata": {},
   "source": [
    "因為 `tuple` 是一個內建函數的名稱，所以你應該避免用它來當作變數名稱。\n",
    "(不然你會把內建函數蓋掉！)\n",
    "\n",
    "大多數列表運算子也可以用在元組上。\n",
    "例如，方括號運算子 `[]` 可以索引一個元素。"
   ]
  },
  {
   "cell_type": "code",
   "execution_count": null,
   "id": "8684c428",
   "metadata": {},
   "outputs": [],
   "source": [
    "t[0] # 取得元組 t 的第一個元素"
   ]
  },
  {
   "cell_type": "markdown",
   "id": "e4252d5d",
   "metadata": {},
   "source": [
    "而切片運算子 `[:]` 可以選取一個範圍的元素。"
   ]
  },
  {
   "cell_type": "code",
   "execution_count": null,
   "id": "5169900c",
   "metadata": {},
   "outputs": [],
   "source": [
    "t[1:3] # 選取索引 1 到索引 3 (不包含 3) 的元素"
   ]
  },
  {
   "cell_type": "markdown",
   "id": "67de60f4",
   "metadata": {},
   "source": [
    "`+` 運算子可以串接元組。"
   ]
  },
  {
   "cell_type": "code",
   "execution_count": null,
   "id": "0c128e48",
   "metadata": {},
   "outputs": [],
   "source": [
    "tuple('lup') + ('i', 'n')"
   ]
  },
  {
   "cell_type": "markdown",
   "id": "334c9522",
   "metadata": {},
   "source": [
    "而 `*` 運算子可以將一個元組重複指定的次數。"
   ]
  },
  {
   "cell_type": "code",
   "execution_count": null,
   "id": "0521c2f7",
   "metadata": {},
   "outputs": [],
   "source": [
    "tuple('spam') * 2 # 'spam' 是一個常用的範例字串"
   ]
  },
  {
   "cell_type": "markdown",
   "id": "2e84991c",
   "metadata": {},
   "source": [
    "`sorted()` 函數可以用在元組上 —— 但結果會是一個列表，而不是元組。"
   ]
  },
  {
   "cell_type": "code",
   "execution_count": null,
   "id": "ae0dfca1",
   "metadata": {},
   "outputs": [],
   "source": [
    "sorted_list_from_tuple = sorted(t)\n",
    "print(sorted_list_from_tuple)\n",
    "type(sorted_list_from_tuple)"
   ]
  },
  {
   "cell_type": "markdown",
   "id": "305015bf",
   "metadata": {},
   "source": [
    "`reversed()` 函數也可以用在元組上。"
   ]
  },
  {
   "cell_type": "code",
   "execution_count": null,
   "id": "58d4a11e",
   "metadata": {},
   "outputs": [],
   "source": [
    "reversed_obj_from_tuple = reversed(t)\n",
    "print(reversed_obj_from_tuple) # 這會印出一個 reversed 物件的描述"
   ]
  },
  {
   "cell_type": "markdown",
   "id": "f301d2bf",
   "metadata": {},
   "source": [
    "結果是一個 `reversed` 物件，我們可以把它轉換成列表或元組。"
   ]
  },
  {
   "cell_type": "code",
   "execution_count": null,
   "id": "9bdb0092",
   "metadata": {},
   "outputs": [],
   "source": [
    "tuple(reversed(t))"
   ]
  },
  {
   "cell_type": "markdown",
   "id": "da4a9af2",
   "metadata": {},
   "source": [
    "從目前的例子看來，元組似乎跟列表沒什麼兩樣。"
   ]
  },
  {
   "cell_type": "markdown",
   "id": "09d9ae5a",
   "metadata": {},
   "source": [
    "## 但是元組是不可變的 (But tuples are immutable)\n",
    "\n",
    "如果你試著用方括號運算子修改元組，你會得到一個 `TypeError` (型別錯誤)。"
   ]
  },
  {
   "cell_type": "code",
   "execution_count": null,
   "id": "9143cd61",
   "metadata": {},
   "outputs": [],
   "source": [
    "%%expect TypeError\n",
    "# t[0] = 'L' # 元組是不可變的，不能修改元素"
   ]
  },
  {
   "cell_type": "markdown",
   "id": "d276d8f2",
   "metadata": {},
   "source": [
    "而且元組沒有那些會修改列表的方法，像是 `append` 和 `remove`。"
   ]
  },
  {
   "cell_type": "code",
   "execution_count": null,
   "id": "627d6587",
   "metadata": {},
   "outputs": [],
   "source": [
    "%%expect AttributeError\n",
    "# t.remove('l') # 元組沒有 remove 方法"
   ]
  },
  {
   "cell_type": "markdown",
   "id": "5683ada6",
   "metadata": {},
   "source": [
    "回想一下，「屬性 (attribute)」是與物件相關聯的變數或方法 —— 這個錯誤訊息表示元組沒有叫做 `remove` 的方法。\n",
    "\n",
    "因為元組是不可變的，所以它們是可雜湊的 (hashable)，這表示它們可以被用作字典中的鍵。\n",
    "例如，下面的字典包含兩個元組作為鍵，它們對應到整數。"
   ]
  },
  {
   "cell_type": "code",
   "execution_count": null,
   "id": "ec50e979",
   "metadata": {},
   "outputs": [],
   "source": [
    "d = {}\n",
    "d[1, 2] = 3 # (1, 2) 是一個元組鍵，不需要額外的括號\n",
    "d[3, 4] = 7\n",
    "print(d)"
   ]
  },
  {
   "cell_type": "markdown",
   "id": "e0214caa",
   "metadata": {},
   "source": [
    "我們可以像這樣在字典中查詢一個元組："
   ]
  },
  {
   "cell_type": "code",
   "execution_count": null,
   "id": "491d83c9",
   "metadata": {},
   "outputs": [],
   "source": [
    "d[1, 2]"
   ]
  },
  {
   "cell_type": "markdown",
   "id": "a7a305cb",
   "metadata": {},
   "source": [
    "或者如果我們有一個變數指向一個元組，我們可以用它作為鍵。"
   ]
  },
  {
   "cell_type": "code",
   "execution_count": null,
   "id": "232ddc1a",
   "metadata": {},
   "outputs": [],
   "source": [
    "t_key = (3, 4)\n",
    "d[t_key]"
   ]
  },
  {
   "cell_type": "markdown",
   "id": "22908223",
   "metadata": {},
   "source": [
    "元組也可以作為字典中的值。"
   ]
  },
  {
   "cell_type": "code",
   "execution_count": null,
   "id": "24d1bffa",
   "metadata": {},
   "outputs": [],
   "source": [
    "t_value = tuple('abc')\n",
    "d_with_tuple_value = {'key': t_value}\n",
    "d_with_tuple_value"
   ]
  },
  {
   "cell_type": "markdown",
   "id": "ba9807ee",
   "metadata": {},
   "source": [
    "## 元組賦值 (Tuple assignment)\n",
    "\n",
    "你可以把一個變數元組放在賦值運算子的左邊，一個值元組放在右邊。"
   ]
  },
  {
   "cell_type": "code",
   "execution_count": null,
   "id": "e8f6ce4b",
   "metadata": {},
   "outputs": [],
   "source": [
    "a, b = 1, 2 # 這等同於 (a, b) = (1, 2)"
   ]
  },
  {
   "cell_type": "markdown",
   "id": "6a51355f",
   "metadata": {},
   "source": [
    "值會從左到右依序指派給變數 —— 在這個例子中，`a` 得到值 `1`，`b` 得到值 `2`。\n",
    "我們可以像這樣顯示結果："
   ]
  },
  {
   "cell_type": "code",
   "execution_count": null,
   "id": "bbd71ab3",
   "metadata": {},
   "outputs": [],
   "source": [
    "a, b"
   ]
  },
  {
   "cell_type": "markdown",
   "id": "7371be49",
   "metadata": {},
   "source": [
    "更一般地說，如果賦值運算子的左邊是一個元組，右邊可以是任何種類的序列 —— 字串、列表或元組。\n",
    "例如，要把一個電子郵件地址分割成使用者名稱和網域名稱，你可以這樣寫："
   ]
  },
  {
   "cell_type": "code",
   "execution_count": null,
   "id": "1c7be189",
   "metadata": {},
   "outputs": [],
   "source": [
    "email = 'monty@python.org' # monty python (蒙提·派森，一個英國喜劇團體)\n",
    "username, domain = email.split('@') # split('@') 會回傳一個列表"
   ]
  },
  {
   "cell_type": "markdown",
   "id": "84206c7a",
   "metadata": {},
   "source": [
    "`split` 的回傳值是一個包含兩個元素的列表 —— 第一個元素被指派給 `username`，第二個被指派給 `domain`。"
   ]
  },
  {
   "cell_type": "code",
   "execution_count": null,
   "id": "ed7ba4ad",
   "metadata": {},
   "outputs": [],
   "source": [
    "username, domain"
   ]
  },
  {
   "cell_type": "markdown",
   "id": "2ed7661c",
   "metadata": {},
   "source": [
    "左邊的變數數量和右邊的值的數量必須相同 —— 否則你會得到一個 `ValueError` (值錯誤)。"
   ]
  },
  {
   "cell_type": "code",
   "execution_count": null,
   "id": "e5198552",
   "metadata": {},
   "outputs": [],
   "source": [
    "%%expect ValueError\n",
    "# a, b = 1, 2, 3 # 左邊兩個變數，右邊三個值，數量不符"
   ]
  },
  {
   "cell_type": "markdown",
   "id": "2e93df06",
   "metadata": {},
   "source": [
    "如果你想交換兩個變數的值，元組賦值非常有用。\n",
    "用傳統的賦值方法，你必須使用一個暫存變數，像這樣："
   ]
  },
  {
   "cell_type": "code",
   "execution_count": null,
   "id": "992571e0",
   "metadata": {
    "lines_to_next_cell": 2
   },
   "outputs": [],
   "source": [
    "# 假設 a 和 b 的初始值\n",
    "a_orig = 5\n",
    "b_orig = 10\n",
    "print(f\"交換前: a_orig = {a_orig}, b_orig = {b_orig}\")\n",
    "temp = a_orig\n",
    "a_orig = b_orig\n",
    "b_orig = temp\n",
    "print(f\"傳統交換後: a_orig = {a_orig}, b_orig = {b_orig}\")"
   ]
  },
  {
   "cell_type": "markdown",
   "id": "febefc88",
   "metadata": {},
   "source": [
    "那樣可行，但用元組賦值，我們可以不用暫存變數就做到同樣的事情。"
   ]
  },
  {
   "cell_type": "code",
   "execution_count": null,
   "id": "f7e64f78",
   "metadata": {
    "lines_to_next_cell": 2
   },
   "outputs": [],
   "source": [
    "# 重新設定 a 和 b\n",
    "a_swap = 5\n",
    "b_swap = 10\n",
    "print(f\"交換前: a_swap = {a_swap}, b_swap = {b_swap}\")\n",
    "a_swap, b_swap = b_swap, a_swap # 元組賦值交換\n",
    "print(f\"元組賦值交換後: a_swap = {a_swap}, b_swap = {b_swap}\")"
   ]
  },
  {
   "cell_type": "markdown",
   "id": "ad910c3b",
   "metadata": {},
   "source": [
    "這之所以可行，是因為右邊的所有表達式都會在任何賦值發生之前先被評估。\n",
    "\n",
    "我們也可以在 `for` 陳述式中使用元組賦值。\n",
    "例如，要遍歷字典中的項目 (item)，我們可以用 `items()` 方法。"
   ]
  },
  {
   "cell_type": "code",
   "execution_count": null,
   "id": "55ff2e1e",
   "metadata": {},
   "outputs": [],
   "source": [
    "d_items_example = {'one': 1, 'two': 2}"
   ]
  },
  {
   "cell_type": "code",
   "execution_count": null,
   "id": "e41d0e13",
   "metadata": {},
   "outputs": [],
   "source": [
    "print(\"\\n--- 使用元組賦值遍歷字典項目 (方法一) ---\")\n",
    "for item_tuple in d_items_example.items(): # items() 回傳 (鍵, 值) 元組的序列\n",
    "    key_from_item, value_from_item = item_tuple # 把元組解包到兩個變數\n",
    "    print(key_from_item, '->', value_from_item)"
   ]
  },
  {
   "cell_type": "markdown",
   "id": "960e921b",
   "metadata": {},
   "source": [
    "迴圈每跑一次，`item_tuple` 就會被指派一個包含鍵和對應值的元組。\n",
    "\n",
    "我們可以把這個迴圈寫得更簡潔，像這樣："
   ]
  },
  {
   "cell_type": "code",
   "execution_count": null,
   "id": "1160e6d6",
   "metadata": {},
   "outputs": [],
   "source": [
    "print(\"\\n--- 使用元組賦值遍歷字典項目 (方法二，更簡潔) ---\")\n",
    "for key_direct, value_direct in d_items_example.items(): # 直接在 for 後面解包\n",
    "    print(key_direct, '->', value_direct)"
   ]
  },
  {
   "cell_type": "markdown",
   "id": "4c022fdb",
   "metadata": {},
   "source": [
    "迴圈每跑一次，一個鍵和對應的值就會直接被指派給 `key_direct` 和 `value_direct`。"
   ]
  },
  {
   "cell_type": "markdown",
   "id": "6481d0ba",
   "metadata": {},
   "source": [
    "## 元組作為回傳值 (Tuples as return values)\n",
    "\n",
    "嚴格來說，一個函數只能回傳一個值，但如果那個值是一個元組，\n",
    "效果就跟回傳多個值一樣。\n",
    "例如，如果你想把兩個整數相除並計算商和餘數，\n",
    "分別計算 `x//y` 和 `x%y` 效率不高。最好是一次把它們都算出來。\n",
    "\n",
    "內建函數 `divmod` 接收兩個參數，並回傳一個包含兩個值的元組：商和餘數。"
   ]
  },
  {
   "cell_type": "code",
   "execution_count": null,
   "id": "447a9993",
   "metadata": {},
   "outputs": [],
   "source": [
    "divmod_result = divmod(7, 3)\n",
    "print(divmod_result)"
   ]
  },
  {
   "cell_type": "markdown",
   "id": "e528ce86",
   "metadata": {},
   "source": [
    "我們可以用元組賦值把元組的元素儲存到兩個變數中。"
   ]
  },
  {
   "cell_type": "code",
   "execution_count": null,
   "id": "6f376ccc",
   "metadata": {},
   "outputs": [],
   "source": [
    "quotient, remainder = divmod(7, 3)\n",
    "print(f\"商: {quotient}\")"
   ]
  },
  {
   "cell_type": "code",
   "execution_count": null,
   "id": "ebfacde0",
   "metadata": {
    "lines_to_next_cell": 1
   },
   "outputs": [],
   "source": [
    "print(f\"餘數: {remainder}\")"
   ]
  },
  {
   "cell_type": "markdown",
   "id": "90be0035",
   "metadata": {},
   "source": [
    "這裡有一個回傳元組的函數範例。"
   ]
  },
  {
   "cell_type": "code",
   "execution_count": null,
   "id": "4c59feed",
   "metadata": {
    "lines_to_next_cell": 1
   },
   "outputs": [],
   "source": [
    "def min_max(t_sequence): # 參數改名以避免與之前的變數 t 混淆\n",
    "    return min(t_sequence), max(t_sequence) # 回傳一個包含最小值和最大值的元組"
   ]
  },
  {
   "cell_type": "markdown",
   "id": "9094f434",
   "metadata": {},
   "source": [
    "`max` 和 `min` 是內建函數，它們會找出序列中最大和最小的元素。\n",
    "`min_max` 會同時計算這兩個值，並回傳一個包含兩個值的元組。"
   ]
  },
  {
   "cell_type": "code",
   "execution_count": null,
   "id": "c2c2c8c6",
   "metadata": {},
   "outputs": [],
   "source": [
    "min_max_result = min_max([2, 4, 1, 3])\n",
    "print(min_max_result)"
   ]
  },
  {
   "cell_type": "markdown",
   "id": "a14c7182",
   "metadata": {},
   "source": [
    "我們可以像這樣把結果指派給變數："
   ]
  },
  {
   "cell_type": "code",
   "execution_count": null,
   "id": "1f9a8ac2",
   "metadata": {
    "lines_to_next_cell": 1
   },
   "outputs": [],
   "source": [
    "low, high = min_max([2, 4, 1, 3])\n",
    "print(f\"最小值: {low}, 最大值: {high}\")"
   ]
  },
  {
   "cell_type": "markdown",
   "id": "3f1d63de",
   "metadata": {},
   "source": [
    "## 引數打包 (Argument packing)\n",
    "\n",
    "函數可以接收可變數量的引數 (argument)。\n",
    "一個以 `*` 運算子開頭的參數名稱會把引數 **打包 (packs)** 到一個元組中。\n",
    "例如，下面的函數接收任意數量的引數，並計算它們的算術平均數\n",
    "—— 也就是它們的總和除以引數的數量。"
   ]
  },
  {
   "cell_type": "code",
   "execution_count": null,
   "id": "c2f2386b",
   "metadata": {
    "lines_to_next_cell": 1
   },
   "outputs": [],
   "source": [
    "def mean(*args): # *args 會把所有傳入的引數收集到一個叫做 args 的元組裡\n",
    "    if not args: # 處理沒有引數的情況\n",
    "        return 0.0 # 或者可以引發一個錯誤\n",
    "    return sum(args) / len(args)"
   ]
  },
  {
   "cell_type": "markdown",
   "id": "8d882781",
   "metadata": {},
   "source": [
    "參數名稱可以隨你喜歡，但 `args` 是慣用法。\n",
    "(args 是 arguments 的縮寫)\n",
    "我們可以像這樣呼叫這個函數："
   ]
  },
  {
   "cell_type": "code",
   "execution_count": null,
   "id": "dd0e284e",
   "metadata": {},
   "outputs": [],
   "source": [
    "mean_result1 = mean(1, 2, 3)\n",
    "print(f\"mean(1, 2, 3) = {mean_result1}\")\n",
    "mean_result2 = mean(10, 20, 30, 40, 50)\n",
    "print(f\"mean(10, 20, 30, 40, 50) = {mean_result2}\")"
   ]
  },
  {
   "cell_type": "markdown",
   "id": "9556dfc7",
   "metadata": {},
   "source": [
    "如果你有一個值的序列，並且想把它們作為多個引數傳遞給一個函數，\n",
    "你可以用 `*` 運算子來 **解包 (unpack)** 這個元組 (或列表、字串等序列)。\n",
    "例如，`divmod` 函數剛好需要兩個引數 —— 如果你傳遞一個元組作為參數，你會得到錯誤。"
   ]
  },
  {
   "cell_type": "code",
   "execution_count": null,
   "id": "31a8b59f",
   "metadata": {},
   "outputs": [],
   "source": [
    "%%expect TypeError\n",
    "# t_for_divmod = (7, 3)\n",
    "# divmod(t_for_divmod) # 這樣是把一個元組當作單一引數傳遞"
   ]
  },
  {
   "cell_type": "markdown",
   "id": "a1b3f82d",
   "metadata": {},
   "source": [
    "即使元組包含兩個元素，它仍然只算是一個單一的引數。\n",
    "但是如果你解包這個元組，它就會被視為兩個引數。"
   ]
  },
  {
   "cell_type": "code",
   "execution_count": null,
   "id": "24884c21",
   "metadata": {
    "lines_to_next_cell": 1
   },
   "outputs": [],
   "source": [
    "t_for_divmod = (7, 3)\n",
    "divmod_unpacked_result = divmod(*t_for_divmod) # *t_for_divmod 會把元組解成 divmod(7, 3)\n",
    "print(f\"divmod(*{t_for_divmod}) = {divmod_unpacked_result}\")"
   ]
  },
  {
   "cell_type": "markdown",
   "id": "32f298a2",
   "metadata": {},
   "source": [
    "如果你想調整現有函數的行為，打包和解包功能會很有用。\n",
    "例如，這個函數接收任意數量的引數，移除最小值和最大值，然後計算其餘值的平均數。"
   ]
  },
  {
   "cell_type": "code",
   "execution_count": null,
   "id": "1425bc35",
   "metadata": {
    "lines_to_next_cell": 1
   },
   "outputs": [],
   "source": [
    "def trimmed_mean(*args):\n",
    "    if len(args) < 3: # 如果少於3個數，移除最大最小後就沒了或只剩一個\n",
    "        print(\"警告: trimmed_mean 需要至少3個引數才能有效運作。\")\n",
    "        # 可以選擇回傳 None, 0, 或引發錯誤\n",
    "        if not args: return 0.0\n",
    "        if len(args) == 1: return args[0]\n",
    "        if len(args) == 2: return sum(args)/2 # 或者 undefined\n",
    "        return float('nan') # Not a Number\n",
    "\n",
    "    low_val, high_val = min_max(args) # 找出最小值和最大值\n",
    "    trimmed = list(args) # 把 args 元組轉成列表才能用 remove\n",
    "    trimmed.remove(low_val) # 移除最小值\n",
    "    trimmed.remove(high_val) # 移除最大值\n",
    "    if not trimmed: # 如果移除後變空了 (例如 [1,1,1] 移除後可能空)\n",
    "        # 這種情況應該在前面 len(args) < 3 時處理掉\n",
    "        # 但為了安全起見\n",
    "        return 0.0\n",
    "    return mean(*trimmed) # 解包列表，把元素當作個別引數傳給 mean"
   ]
  },
  {
   "cell_type": "markdown",
   "id": "084d918a",
   "metadata": {},
   "source": [
    "首先它使用 `min_max` 找到最小和最大的元素。\n",
    "然後它把 `args` 轉換成列表，這樣才能使用 `remove` 方法。\n",
    "(注意：如果最小值或最大值有多個，`remove` 只會移除第一個遇到的)\n",
    "最後它解包這個列表，這樣元素就會作為獨立的引數傳遞給 `mean`，而不是作為單一的列表。\n",
    "\n",
    "這裡有一個例子顯示效果。"
   ]
  },
  {
   "cell_type": "code",
   "execution_count": null,
   "id": "846dad48",
   "metadata": {},
   "outputs": [],
   "source": [
    "print(f\"mean(1, 2, 3, 10) = {mean(1, 2, 3, 10)}\") # (1+2+3+10)/4 = 16/4 = 4.0"
   ]
  },
  {
   "cell_type": "code",
   "execution_count": null,
   "id": "4bb6064f",
   "metadata": {},
   "outputs": [],
   "source": [
    "print(f\"trimmed_mean(1, 2, 3, 10) = {trimmed_mean(1, 2, 3, 10)}\") # 移除 1 和 10，剩下 (2+3)/2 = 2.5"
   ]
  },
  {
   "cell_type": "markdown",
   "id": "dc2c9ce3",
   "metadata": {},
   "source": [
    "這種「修剪後 (trimmed)」的平均值被用於一些有主觀評分的運動項目中 —— 像是跳水和體操 ——\n",
    "以減少某位評審分數與其他人差異過大的影響。"
   ]
  },
  {
   "cell_type": "markdown",
   "id": "eaaaaf85",
   "metadata": {},
   "source": [
    "## Zip\n",
    "\n",
    "元組對於遍歷兩個序列的元素並對相應元素執行操作非常有用。\n",
    "例如，假設兩隊進行了七場系列賽，我們把他們的得分記錄在兩個列表中，每隊一個。"
   ]
  },
  {
   "cell_type": "code",
   "execution_count": null,
   "id": "e5d5ec34",
   "metadata": {},
   "outputs": [],
   "source": [
    "scores1 = [1, 2, 4, 5, 1, 5, 2]\n",
    "scores2 = [5, 5, 2, 2, 5, 2, 3]"
   ]
  },
  {
   "cell_type": "markdown",
   "id": "a23967d9",
   "metadata": {},
   "source": [
    "讓我們看看每隊贏了幾場比賽。\n",
    "我們會使用 `zip`，它是一個內建函數，接收兩個或多個序列，\n",
    "並回傳一個 **zip 物件 (zip object)**，之所以這麼稱呼是因為它會像拉鍊的齒一樣把序列的元素配對起來。"
   ]
  },
  {
   "cell_type": "code",
   "execution_count": null,
   "id": "fadf3ed5",
   "metadata": {},
   "outputs": [],
   "source": [
    "zip_object = zip(scores1, scores2)\n",
    "print(zip_object) # 這會印出一個 zip 物件的描述"
   ]
  },
  {
   "cell_type": "markdown",
   "id": "575967ec",
   "metadata": {},
   "source": [
    "我們可以用 zip 物件來成對地遍歷序列中的值。"
   ]
  },
  {
   "cell_type": "code",
   "execution_count": null,
   "id": "d35369bf",
   "metadata": {},
   "outputs": [],
   "source": [
    "print(\"\\n--- zip 物件遍歷 ---\")\n",
    "for pair in zip(scores1, scores2): # zip 會在最短的序列結束時停止\n",
    "     print(pair)"
   ]
  },
  {
   "cell_type": "markdown",
   "id": "5f0bea8f",
   "metadata": {},
   "source": [
    "迴圈每跑一次，`pair` 就會被指派一個包含得分的元組。\n",
    "所以我們可以把得分指派給變數，並計算第一隊的勝場數，像這樣："
   ]
  },
  {
   "cell_type": "code",
   "execution_count": null,
   "id": "2829ca89",
   "metadata": {},
   "outputs": [],
   "source": [
    "wins_team1 = 0\n",
    "for team1_score, team2_score in zip(scores1, scores2):\n",
    "    if team1_score > team2_score:\n",
    "        wins_team1 += 1"
   ]
  },
  {
   "cell_type": "code",
   "execution_count": null,
   "id": "87b48c23",
   "metadata": {},
   "outputs": [],
   "source": [
    "print(f\"第一隊贏了 {wins_team1} 場比賽。\")"
   ]
  },
  {
   "cell_type": "markdown",
   "id": "422bcba8",
   "metadata": {},
   "source": [
    "可惜的是，第一隊只贏了三場比賽，輸掉了系列賽。\n",
    "\n",
    "如果你有兩個列表，並且想要一個包含配對的列表，你可以使用 `zip` 和 `list`。"
   ]
  },
  {
   "cell_type": "code",
   "execution_count": null,
   "id": "9707199e",
   "metadata": {},
   "outputs": [],
   "source": [
    "list_of_pairs = list(zip(scores1, scores2))\n",
    "print(f\"得分配對列表: {list_of_pairs}\")"
   ]
  },
  {
   "cell_type": "markdown",
   "id": "21f7684d",
   "metadata": {},
   "source": [
    "結果是一個元組的列表，所以我們可以像這樣取得最後一場比賽的結果："
   ]
  },
  {
   "cell_type": "code",
   "execution_count": null,
   "id": "203e45b0",
   "metadata": {},
   "outputs": [],
   "source": [
    "last_game_scores = list_of_pairs[-1]\n",
    "print(f\"最後一場比賽的得分: {last_game_scores}\")"
   ]
  },
  {
   "cell_type": "markdown",
   "id": "40d7f61e",
   "metadata": {},
   "source": [
    "如果你有一個鍵的列表和一個值的列表，你可以用 `zip` 和 `dict` 來建立一個字典。\n",
    "例如，這裡展示了如何建立一個把每個字母對應到它在字母表中位置的字典。"
   ]
  },
  {
   "cell_type": "code",
   "execution_count": null,
   "id": "7f6084c1",
   "metadata": {},
   "outputs": [],
   "source": [
    "letters_alphabet = 'abcdefghijklmnopqrstuvwxyz'\n",
    "numbers_indices = range(len(letters_alphabet)) # 0 到 25 的數字序列\n",
    "letter_map_alphabet = dict(zip(letters_alphabet, numbers_indices))\n",
    "# print(letter_map_alphabet) # 印出來會很長，這裡只印部分"
   ]
  },
  {
   "cell_type": "markdown",
   "id": "d0d2a1b6",
   "metadata": {},
   "source": [
    "現在我們可以查詢一個字母並得到它在字母表中的索引。"
   ]
  },
  {
   "cell_type": "code",
   "execution_count": null,
   "id": "20efe687",
   "metadata": {},
   "outputs": [],
   "source": [
    "print(f\"字母 'a' 的索引: {letter_map_alphabet['a']}\")\n",
    "print(f\"字母 'z' 的索引: {letter_map_alphabet['z']}\")"
   ]
  },
  {
   "cell_type": "markdown",
   "id": "34fa1ee3",
   "metadata": {},
   "source": [
    "在這個對應中，`'a'` 的索引是 `0`，`'z'` 的索引是 `25`。\n",
    "\n",
    "如果你需要同時遍歷序列的元素和它們的索引，你可以使用內建函數 `enumerate`。"
   ]
  },
  {
   "cell_type": "code",
   "execution_count": null,
   "id": "bfe64967",
   "metadata": {},
   "outputs": [],
   "source": [
    "enumerate_obj = enumerate('abc')\n",
    "print(enumerate_obj) # 這會印出一個 enumerate 物件的描述"
   ]
  },
  {
   "cell_type": "markdown",
   "id": "6aa11543",
   "metadata": {},
   "source": [
    "結果是一個 **enumerate 物件 (enumerate object)**，它可以遍歷一個成對的序列，\n",
    "其中每一對包含一個索引 (從 0 開始) 和來自給定序列的一個元素。"
   ]
  },
  {
   "cell_type": "code",
   "execution_count": null,
   "id": "541c68df",
   "metadata": {},
   "outputs": [],
   "source": [
    "print(\"\\n--- enumerate 物件遍歷 ---\")\n",
    "for index, element in enumerate('abc'):\n",
    "    print(index, element)"
   ]
  },
  {
   "cell_type": "markdown",
   "id": "2ec093c3",
   "metadata": {},
   "source": [
    "## 比較和排序 (Comparing and Sorting)\n",
    "\n",
    "關係運算子 (像是 `<`、`>`、`==` 等) 可以用在元組和其他序列上。\n",
    "例如，如果你對元組使用 `<` 運算子，它會從每個序列的第一個元素開始比較。\n",
    "如果它們相等，它會繼續比較下一對元素，依此類推，直到找到一對不相同的元素。"
   ]
  },
  {
   "cell_type": "code",
   "execution_count": null,
   "id": "59e40852",
   "metadata": {},
   "outputs": [],
   "source": [
    "print( (0, 1, 2) < (0, 3, 4) ) # True，因為 1 < 3"
   ]
  },
  {
   "cell_type": "markdown",
   "id": "6734526b",
   "metadata": {},
   "source": [
    "後續的元素不會被考慮 —— 即使它們非常大。"
   ]
  },
  {
   "cell_type": "code",
   "execution_count": null,
   "id": "65ed629c",
   "metadata": {
    "lines_to_next_cell": 1
   },
   "outputs": [],
   "source": [
    "print( (0, 1, 2000000) < (0, 3, 4) ) # 仍然是 True，因為比較在第二個元素就決定了 (1 < 3)"
   ]
  },
  {
   "cell_type": "markdown",
   "id": "bee30ec5",
   "metadata": {},
   "source": [
    "這種比較元組的方式對於排序元組列表，或者找出最小值或最大值非常有用。\n",
    "作為例子，讓我們找出一個單字中出現最多次的字母。\n",
    "在上一章，我們寫了 `value_counts`，它接收一個字串並回傳一個字典，\n",
    "該字典把每個字母對應到它出現的次數。"
   ]
  },
  {
   "cell_type": "code",
   "execution_count": null,
   "id": "b9bf447f",
   "metadata": {
    "lines_to_next_cell": 1
   },
   "outputs": [],
   "source": [
    "# 重新定義 value_counts 以確保在本章節可用\n",
    "def value_counts(string):\n",
    "    counter = {}\n",
    "    for letter in string:\n",
    "        if letter not in counter:\n",
    "            counter[letter] = 1\n",
    "        else:\n",
    "            counter[letter] += 1\n",
    "    return counter"
   ]
  },
  {
   "cell_type": "markdown",
   "id": "599be2c2",
   "metadata": {},
   "source": [
    "這是字串 `'banana'` 的結果。"
   ]
  },
  {
   "cell_type": "code",
   "execution_count": null,
   "id": "b0a720c4",
   "metadata": {},
   "outputs": [],
   "source": [
    "counter_banana_sort = value_counts('banana')\n",
    "print(f\"value_counts('banana'): {counter_banana_sort}\")"
   ]
  },
  {
   "cell_type": "markdown",
   "id": "68b1895e",
   "metadata": {},
   "source": [
    "只有三個項目，我們可以輕易看出出現最多次的字母是 `'a'`，它出現了三次。\n",
    "但如果項目更多，自動排序它們會很有用。\n",
    "\n",
    "我們可以像這樣從 `counter_banana_sort` 中取得項目 (items)。"
   ]
  },
  {
   "cell_type": "code",
   "execution_count": null,
   "id": "c7889b04",
   "metadata": {},
   "outputs": [],
   "source": [
    "items_from_counter = counter_banana_sort.items() # .items() 回傳一個 dict_items 物件\n",
    "print(f\"counter.items(): {items_from_counter}\")"
   ]
  },
  {
   "cell_type": "markdown",
   "id": "312eb15c",
   "metadata": {},
   "source": [
    "結果是一個 `dict_items` 物件，它的行為類似一個元組的列表，所以我們可以像這樣排序它。"
   ]
  },
  {
   "cell_type": "code",
   "execution_count": null,
   "id": "79b4eab5",
   "metadata": {
    "lines_to_next_cell": 1
   },
   "outputs": [],
   "source": [
    "sorted_items_default = sorted(items_from_counter) # 預設按鍵 (元組的第一個元素) 排序\n",
    "print(f\"sorted(items) (預設): {sorted_items_default}\")"
   ]
  },
  {
   "cell_type": "markdown",
   "id": "61f5a11a",
   "metadata": {},
   "source": [
    "預設行為是使用每個元組的第一個元素來排序列表，並使用第二個元素來打破平手 (break ties)。\n",
    "(更準確地說，如果第一個元素相同，則比較第二個元素，依此類推)\n",
    "\n",
    "然而，要找出計數最高的項目，我們希望使用第二個元素 (計數值) 來排序列表。\n",
    "我們可以寫一個函數，它接收一個元組並回傳第二個元素。"
   ]
  },
  {
   "cell_type": "code",
   "execution_count": null,
   "id": "5ef1088c",
   "metadata": {
    "lines_to_next_cell": 1
   },
   "outputs": [],
   "source": [
    "def second_element(t_tuple): # 參數改名\n",
    "    return t_tuple[1] # 回傳元組的第二個元素 (索引為1)"
   ]
  },
  {
   "cell_type": "markdown",
   "id": "870f3c8b",
   "metadata": {},
   "source": [
    "然後我們可以把這個函數作為一個叫做 `key` 的選擇性參數傳遞給 `sorted`，\n",
    "這表示應該使用這個函數來計算每個項目的 **排序鍵 (sort key)**。"
   ]
  },
  {
   "cell_type": "code",
   "execution_count": null,
   "id": "47f33a18",
   "metadata": {},
   "outputs": [],
   "source": [
    "sorted_items_by_value = sorted(items_from_counter, key=second_element)\n",
    "print(f\"sorted(items, key=second_element): {sorted_items_by_value}\")"
   ]
  },
  {
   "cell_type": "markdown",
   "id": "2104a501",
   "metadata": {},
   "source": [
    "排序鍵決定了列表中項目的順序。\n",
    "計數最低的字母會先出現，計數最高的字母最後出現。\n",
    "所以我們可以像這樣找到出現最多次的字母。"
   ]
  },
  {
   "cell_type": "code",
   "execution_count": null,
   "id": "bce80915",
   "metadata": {},
   "outputs": [],
   "source": [
    "most_common_item = sorted_items_by_value[-1] # 取排序後列表的最後一個元素\n",
    "print(f\"出現最多次的項目 (字母, 次數): {most_common_item}\")"
   ]
  },
  {
   "cell_type": "markdown",
   "id": "bbcf4f3d",
   "metadata": {},
   "source": [
    "如果我們只想找到最大值，就不需要排序整個列表。\n",
    "我們可以用 `max` 函數，它也接受 `key` 作為選擇性參數。"
   ]
  },
  {
   "cell_type": "code",
   "execution_count": null,
   "id": "f7fa553e",
   "metadata": {},
   "outputs": [],
   "source": [
    "max_item_by_value = max(items_from_counter, key=second_element)\n",
    "print(f\"max(items, key=second_element): {max_item_by_value}\")"
   ]
  },
  {
   "cell_type": "code",
   "execution_count": null,
   "id": "f6b6e3ff",
   "metadata": {
    "lines_to_next_cell": 2
   },
   "outputs": [],
   "source": [
    "# 要找到計數最低的字母，我們可以用 `min` 函數以同樣的方式處理。\n",
    "min_item_by_value = min(items_from_counter, key=second_element)\n",
    "print(f\"min(items, key=second_element): {min_item_by_value}\")"
   ]
  },
  {
   "cell_type": "markdown",
   "id": "25465120",
   "metadata": {},
   "source": [
    "## 反轉字典 (Inverting a dictionary)\n",
    "\n",
    "假設你想反轉一個字典，以便你可以查詢一個值並得到對應的鍵。\n",
    "例如，如果你有一個單字計數器，它把每個單字對應到它出現的次數，\n",
    "你可以建立一個字典，它把整數 (次數) 對應到出現該次數的單字列表。\n",
    "\n",
    "但有一個問題 —— 字典中的鍵必須是唯一的，但值不必。\n",
    "例如，在單字計數器中，可能有很多單字具有相同的計數。\n",
    "\n",
    "所以，反轉字典的一種方法是建立一個新的字典，其中值是來自原始字典的鍵的列表。\n",
    "作為例子，讓我們計算 `'parrot'` (鸚鵡) 中的字母。"
   ]
  },
  {
   "cell_type": "code",
   "execution_count": null,
   "id": "5b56fe2b",
   "metadata": {
    "lines_to_next_cell": 1
   },
   "outputs": [],
   "source": [
    "d_parrot_counts =  value_counts('parrot')\n",
    "print(f\"value_counts('parrot'): {d_parrot_counts}\")"
   ]
  },
  {
   "cell_type": "markdown",
   "id": "8f8bef0b",
   "metadata": {},
   "source": [
    "如果我們反轉這個字典，結果應該是 `{1: ['p', 'a', 'o', 't'], 2: ['r']}` (列表內元素順序可能不同)，\n",
    "這表示出現一次的字母是 `'p'`、`'a'`、`'o'` 和 `'t'`，出現兩次的字母是 `'r'`。\n",
    "\n",
    "下面的函數接收一個字典並回傳其反轉版本作為一個新的字典。"
   ]
  },
  {
   "cell_type": "code",
   "execution_count": null,
   "id": "7fd795e0",
   "metadata": {
    "lines_to_next_cell": 1
   },
   "outputs": [],
   "source": [
    "def invert_dict(d_to_invert): # 參數改名\n",
    "    new_inverted_dict = {}\n",
    "    for key_orig, value_orig in d_to_invert.items():\n",
    "        if value_orig not in new_inverted_dict: # 如果這個值還沒成為新字典的鍵\n",
    "            new_inverted_dict[value_orig] = [key_orig] # 就用這個值當鍵，並建立一個只包含目前鍵的列表\n",
    "        else: # 如果這個值已經是新字典的鍵了\n",
    "            new_inverted_dict[value_orig].append(key_orig) # 就把目前的鍵加到對應的列表中\n",
    "    return new_inverted_dict"
   ]
  },
  {
   "cell_type": "markdown",
   "id": "6f271d01",
   "metadata": {},
   "source": [
    "`for` 陳述式遍歷 `d_to_invert` 中的鍵和值。\n",
    "如果值還沒在新字典中，它就會被加入，並與一個只包含單一元素的列表相關聯。\n",
    "否則，它會被附加到現有的列表中。\n",
    "\n",
    "我們可以像這樣測試它："
   ]
  },
  {
   "cell_type": "code",
   "execution_count": null,
   "id": "07de41da",
   "metadata": {
    "lines_to_next_cell": 2
   },
   "outputs": [],
   "source": [
    "inverted_parrot_dict = invert_dict(d_parrot_counts)\n",
    "# 為了讓比較結果一致，我們可以對列表內的值排序\n",
    "for key_inv in inverted_parrot_dict:\n",
    "    inverted_parrot_dict[key_inv].sort()\n",
    "print(f\"invert_dict(d_parrot_counts): {inverted_parrot_dict}\")"
   ]
  },
  {
   "cell_type": "markdown",
   "id": "d1cd7407",
   "metadata": {},
   "source": [
    "我們得到了預期的結果。\n",
    "\n",
    "這是我們看到的第一個字典中的值是列表的例子。\n",
    "我們將會看到更多！"
   ]
  },
  {
   "cell_type": "markdown",
   "id": "469dff72",
   "metadata": {},
   "source": [
    "## 除錯 (Debugging)\n",
    "\n",
    "列表、字典和元組都是 **資料結構 (data structures)**。\n",
    "在這一章，我們開始看到複合資料結構，像是元組的列表，\n",
    "或者是包含元組作為鍵、列表作為值的字典。\n",
    "複合資料結構很有用，但也容易因為資料結構的型別、大小或結構錯誤而導致錯誤。\n",
    "例如，如果一個函數期望得到一個整數列表，而你給了它一個普通的整數\n",
    "(不在列表中)，它可能無法運作。\n",
    "\n",
    "為了幫助除錯這類錯誤，我寫了一個叫做 `structshape` 的模組，\n",
    "它提供了一個也叫做 `structshape` 的函數，該函數接收任何種類的資料結構作為參數，\n",
    "並回傳一個總結其結構的字串。\n",
    "你可以從以下網址下載它：\n",
    "<https://raw.githubusercontent.com/AllenDowney/ThinkPython/v3/structshape.py>。"
   ]
  },
  {
   "cell_type": "code",
   "execution_count": null,
   "id": "49a63c75",
   "metadata": {},
   "outputs": [],
   "source": [
    "download('https://raw.githubusercontent.com/AllenDowney/ThinkPython/v3/structshape.py');"
   ]
  },
  {
   "cell_type": "markdown",
   "id": "eb7a6b9c",
   "metadata": {},
   "source": [
    "我們可以像這樣匯入它。"
   ]
  },
  {
   "cell_type": "code",
   "execution_count": null,
   "id": "a1edcb1c",
   "metadata": {
    "lines_to_next_cell": 2
   },
   "outputs": [],
   "source": [
    "try:\n",
    "    from structshape import structshape\n",
    "except ImportError:\n",
    "    print(\"錯誤: structshape.py 未找到或無法匯入。請確保已下載並在 Python 路徑中。\")\n",
    "    # 定義一個假的 structshape 以免後續程式碼出錯\n",
    "    def structshape(data):\n",
    "        return f\"structshape無法使用，傳入的資料型別為: {type(data)}\""
   ]
  },
  {
   "cell_type": "markdown",
   "id": "84b45e4f",
   "metadata": {},
   "source": [
    "這裡有一個簡單列表的例子。"
   ]
  },
  {
   "cell_type": "code",
   "execution_count": null,
   "id": "e7c2c5aa",
   "metadata": {},
   "outputs": [],
   "source": [
    "t_struct_list = [1, 2, 3]\n",
    "print(structshape(t_struct_list))"
   ]
  },
  {
   "cell_type": "markdown",
   "id": "5d57500f",
   "metadata": {},
   "source": [
    "這裡是一個列表的列表。"
   ]
  },
  {
   "cell_type": "code",
   "execution_count": null,
   "id": "a8be9179",
   "metadata": {},
   "outputs": [],
   "source": [
    "t2_list_of_lists = [[1,2], [3,4], [5,6]]\n",
    "print(structshape(t2_list_of_lists))"
   ]
  },
  {
   "cell_type": "markdown",
   "id": "b410470a",
   "metadata": {},
   "source": [
    "如果列表的元素型別不同，`structshape` 會按型別將它們分組。"
   ]
  },
  {
   "cell_type": "code",
   "execution_count": null,
   "id": "456096cf",
   "metadata": {},
   "outputs": [],
   "source": [
    "t3_mixed_types = [1, 2, 3, 4.0, '5', '6', [7], [8], 9]\n",
    "print(structshape(t3_mixed_types))"
   ]
  },
  {
   "cell_type": "markdown",
   "id": "c4b194d9",
   "metadata": {},
   "source": [
    "這裡是一個元組的列表。"
   ]
  },
  {
   "cell_type": "code",
   "execution_count": null,
   "id": "a3c994ef",
   "metadata": {},
   "outputs": [],
   "source": [
    "s_for_zip = 'abc'\n",
    "t_for_zip_struct = [1,2,3] # 確保 t_for_zip_struct 與 s_for_zip 長度一致或更長\n",
    "lt_list_of_tuples = list(zip(t_for_zip_struct, s_for_zip))\n",
    "print(structshape(lt_list_of_tuples))"
   ]
  },
  {
   "cell_type": "markdown",
   "id": "36fa9622",
   "metadata": {},
   "source": [
    "這裡是一個包含三個項目的字典，它們把整數對應到字串。"
   ]
  },
  {
   "cell_type": "code",
   "execution_count": null,
   "id": "df80cdf8",
   "metadata": {},
   "outputs": [],
   "source": [
    "d_struct_example = dict(lt_list_of_tuples)\n",
    "print(structshape(d_struct_example))"
   ]
  },
  {
   "cell_type": "markdown",
   "id": "b8fdb013",
   "metadata": {},
   "source": [
    "如果你難以追蹤你的資料結構，`structshape` 可以幫上忙。"
   ]
  },
  {
   "cell_type": "markdown",
   "id": "a1811e5c",
   "metadata": {},
   "source": [
    "## 詞彙表 (Glossary)\n",
    "\n",
    "**打包 (pack):**\n",
    " 將多個引數收集到一個元組中。\n",
    "\n",
    "**解包 (unpack):**\n",
    " 將元組 (或其他序列) 視為多個引數。\n",
    "\n",
    "**zip 物件 (zip object):**\n",
    " 呼叫內建函數 `zip` 的結果，可以用來遍歷一個元組序列。\n",
    "\n",
    "**enumerate 物件 (enumerate object):**\n",
    " 呼叫內建函數 `enumerate` 的結果，可以用來遍歷一個元組序列 (包含索引和元素)。\n",
    "\n",
    "**排序鍵 (sort key):**\n",
    " 一個值，或是一個計算出值的函數，用來排序一個集合中的元素。\n",
    "\n",
    "**資料結構 (data structure):**\n",
    " 值的集合，以某種方式組織起來以便有效地執行某些操作。"
   ]
  },
  {
   "cell_type": "markdown",
   "id": "a05e5f8a",
   "metadata": {},
   "source": [
    "## 練習 (Exercises)"
   ]
  },
  {
   "cell_type": "markdown",
   "id": "21e7cc8a",
   "metadata": {},
   "source": [
    "這個儲存格告訴 Jupyter 在發生執行期錯誤時提供詳細的除錯資訊。\n",
    "在開始做練習之前先執行它。"
   ]
  },
  {
   "cell_type": "code",
   "execution_count": null,
   "id": "e8038b15",
   "metadata": {},
   "outputs": [],
   "source": [
    "%xmode Verbose"
   ]
  },
  {
   "cell_type": "markdown",
   "id": "f99c7dc2",
   "metadata": {},
   "source": [
    "### 問問虛擬助理 (Ask a virtual assistant)\n",
    "\n",
    "本章的練習可能比前幾章的練習更難，所以我鼓勵你向虛擬助理尋求幫助。\n",
    "當你提出更困難的問題時，你可能會發現答案在第一次嘗試時並不正確，\n",
    "所以這是一個練習撰寫好的提示 (prompt) 並接著提出好的修正意見的機會。\n",
    "\n",
    "你可以考慮的一個策略是，把大問題分解成可以用簡單函數解決的小塊。\n",
    "請虛擬助理編寫這些函數並測試它們。\n",
    "然後，一旦它們可以運作了，再請求解決原始問題的方案。\n",
    "\n",
    "對於下面的一些練習，我會提出關於使用哪些資料結構和演算法的建議。\n",
    "你在解決問題時可能會覺得這些建議很有用，但它們也是很好的提示，可以傳達給虛擬助理。"
   ]
  },
  {
   "cell_type": "markdown",
   "id": "313b7937",
   "metadata": {},
   "source": [
    "### 練習\n",
    "\n",
    "在本章我說過，元組可以用作字典中的鍵，因為它們是可雜湊的，\n",
    "而它們之所以可雜湊，是因為它們是不可變的。\n",
    "但這並不總是對的。\n",
    "\n",
    "如果一個元組包含一個可變的值，像是列表或字典，\n",
    "那麼這個元組就不再是可雜湊的，因為它包含了不可雜湊的元素。\n",
    "作為例子，這裡有一個包含兩個整數列表的元組。"
   ]
  },
  {
   "cell_type": "code",
   "execution_count": null,
   "id": "5055ffa7",
   "metadata": {},
   "outputs": [],
   "source": [
    "list0_ex = [1, 2, 3]\n",
    "list1_ex = [4, 5]"
   ]
  },
  {
   "cell_type": "code",
   "execution_count": null,
   "id": "ebe9db75",
   "metadata": {},
   "outputs": [],
   "source": [
    "t_mutable_content = (list0_ex, list1_ex)\n",
    "print(f\"原始元組 t_mutable_content: {t_mutable_content}\")"
   ]
  },
  {
   "cell_type": "markdown",
   "id": "61faafaf",
   "metadata": {},
   "source": [
    "寫一行程式碼，將值 `6` 附加到 `t_mutable_content` 中第二個列表的末尾。\n",
    "如果你顯示 `t_mutable_content`，結果應該是 `([1, 2, 3], [4, 5, 6])`。"
   ]
  },
  {
   "cell_type": "code",
   "execution_count": null,
   "id": "1ea79e76",
   "metadata": {},
   "outputs": [],
   "source": [
    "# 解答:\n",
    "t_mutable_content[1].append(6) # 元組本身不可變，但它包含的列表是可變的\n",
    "print(f\"修改後元組 t_mutable_content: {t_mutable_content}\")"
   ]
  },
  {
   "cell_type": "markdown",
   "id": "67679477",
   "metadata": {},
   "source": [
    "試著建立一個把 `t_mutable_content` 對應到一個字串的字典，並確認你會得到一個 `TypeError`。"
   ]
  },
  {
   "cell_type": "code",
   "execution_count": null,
   "id": "f22773f6",
   "metadata": {},
   "outputs": [],
   "source": [
    "%%expect TypeError\n",
    "# d_error_test = {t_mutable_content: '這個元組包含兩個列表'}\n",
    "# (因為 t_mutable_content 包含可變的列表，所以 t_mutable_content 不可雜湊)"
   ]
  },
  {
   "cell_type": "markdown",
   "id": "4e033429",
   "metadata": {},
   "source": [
    "想了解更多關於這個主題的資訊，可以問問虛擬助理：「Python 的元組總是可雜湊的嗎？」"
   ]
  },
  {
   "cell_type": "markdown",
   "id": "934ad928",
   "metadata": {},
   "source": [
    "### 練習\n",
    "\n",
    "在本章中，我們建立了一個把每個字母對應到它在字母表中索引的字典。"
   ]
  },
  {
   "cell_type": "code",
   "execution_count": null,
   "id": "faeb8967",
   "metadata": {},
   "outputs": [],
   "source": [
    "letters_alpha = 'abcdefghijklmnopqrstuvwxyz'\n",
    "numbers_alpha_indices = range(len(letters_alpha))\n",
    "letter_map_alpha_ex = dict(zip(letters_alpha, numbers_alpha_indices))"
   ]
  },
  {
   "cell_type": "markdown",
   "id": "5a6210b7",
   "metadata": {},
   "source": [
    "例如，`'a'` 的索引是 `0`。"
   ]
  },
  {
   "cell_type": "code",
   "execution_count": null,
   "id": "4de18889",
   "metadata": {},
   "outputs": [],
   "source": [
    "print(f\"\\n--- 凱撒密碼練習 ---\")\n",
    "print(f\"letter_map_alpha_ex['a']: {letter_map_alpha_ex['a']}\")"
   ]
  },
  {
   "cell_type": "markdown",
   "id": "73c0a9fe",
   "metadata": {},
   "source": [
    "要反過來做，我們可以用列表索引 (這裡 `letters_alpha` 是字串，行為類似列表)。\n",
    "例如，索引 `1` 的字母是 `'b'`。"
   ]
  },
  {
   "cell_type": "code",
   "execution_count": null,
   "id": "a19d8acc",
   "metadata": {
    "lines_to_next_cell": 1
   },
   "outputs": [],
   "source": [
    "print(f\"letters_alpha[1]: {letters_alpha[1]}\")"
   ]
  },
  {
   "cell_type": "markdown",
   "id": "ebc5ebdd",
   "metadata": {},
   "source": [
    "我們可以用 `letter_map_alpha_ex` 和 `letters_alpha` 來使用凱撒密碼 (Caesar cipher) 編碼和解碼單字。\n",
    "\n",
    "凱撒密碼是一種弱加密形式，它將每個字母在字母表中移動固定的位置數，\n",
    "如有必要則從頭開始循環。例如，`'a'` 移動 2 位是 `'c'`，`'z'` 移動 1 位是 `'a'`。\n",
    "\n",
    "寫一個叫做 `shift_word` 的函數，它接收一個字串和一個整數作為參數，\n",
    "並回傳一個新的字串，其中包含來自原字串的字母被移動了指定位置數。\n",
    "\n",
    "為了測試你的函數，請確認 \"cheer\" 移動 7 位是 \"jolly\"，\"melon\" 移動 16 位是 \"cubed\"。\n",
    "\n",
    "提示：使用模數運算子 `%` 來從 `'z'` 循環回 `'a'`。\n",
    "遍歷單字的字母，移動每一個字母，然後把結果附加到一個字母列表中。\n",
    "然後使用 `join` 把字母串接成一個字串。"
   ]
  },
  {
   "cell_type": "markdown",
   "id": "70a4333e",
   "metadata": {},
   "source": [
    "你可以用這個大綱開始。"
   ]
  },
  {
   "cell_type": "code",
   "execution_count": null,
   "id": "07007d5c",
   "metadata": {
    "lines_to_next_cell": 1
   },
   "outputs": [],
   "source": [
    "def shift_word_starter(word, n): # 改名避免與解答衝突\n",
    "    \"\"\"將 `word` 的字母移動 `n` 個位置。\n",
    "\n",
    "    >>> shift_word_starter('cheer', 7)\n",
    "    'jolly'\n",
    "    >>> shift_word_starter('melon', 16)\n",
    "    'cubed'\n",
    "    \"\"\"\n",
    "    return None # 你的程式碼會取代這裡"
   ]
  },
  {
   "cell_type": "markdown",
   "id": "68d72e1f",
   "metadata": {},
   "source": [
    "解答"
   ]
  },
  {
   "cell_type": "code",
   "execution_count": null,
   "id": "2d1d3e22",
   "metadata": {
    "lines_to_next_cell": 1
   },
   "outputs": [],
   "source": [
    "def shift_word(word, n_shift): # 參數改名\n",
    "    \"\"\"將 `word` 的字母移動 `n_shift` 個位置。\n",
    "\n",
    "    >>> shift_word('cheer', 7)\n",
    "    'jolly'\n",
    "    >>> shift_word('melon', 16)\n",
    "    'cubed'\n",
    "    >>> shift_word('zebra', 1) # 測試循環\n",
    "    'afcsb'\n",
    "    >>> shift_word('apple', -1) # 測試負數移動\n",
    "    'zooqd'\n",
    "    \"\"\"\n",
    "    shifted_letters_list = []\n",
    "    num_letters = 26 # 字母表中的字母數量\n",
    "    for letter_char in word:\n",
    "        if letter_char in letter_map_alpha_ex: # 只處理字母表中的字母\n",
    "            original_index = letter_map_alpha_ex[letter_char]\n",
    "            new_index = (original_index + n_shift) % num_letters\n",
    "            # 處理負數 n_shift 後的 new_index 可能仍為負的情況 (如果 Python 的 % 結果是負的)\n",
    "            # 在 Python 中, a % n 的結果符號與 n 相同，所以如果 n_shift 是大的負數，\n",
    "            # (original_index + n_shift) 可能是負的，\n",
    "            # (original_index + n_shift) % num_letters 的結果可能是 -num_letters 到 -1 之間。\n",
    "            # 例如 (-1) % 26 在 Python 中是 25。所以通常是正確的。\n",
    "            # 但為了更明確，可以寫成 (original_index + n_shift % num_letters + num_letters) % num_letters\n",
    "            # 或者直接用 (original_index + n_shift) % num_letters 就好，因為 Python 的 % 行為通常符合需求。\n",
    "            shifted_letters_list.append(letters_alpha[new_index])\n",
    "        else:\n",
    "            shifted_letters_list.append(letter_char) # 非字母字元保持不變\n",
    "    return ''.join(shifted_letters_list)"
   ]
  },
  {
   "cell_type": "code",
   "execution_count": null,
   "id": "c1a30e67",
   "metadata": {},
   "outputs": [],
   "source": [
    "print(f\"shift_word('cheer', 7): {shift_word('cheer', 7)}\")"
   ]
  },
  {
   "cell_type": "code",
   "execution_count": null,
   "id": "33de6356",
   "metadata": {},
   "outputs": [],
   "source": [
    "print(f\"shift_word('melon', 16): {shift_word('melon', 16)}\")"
   ]
  },
  {
   "cell_type": "markdown",
   "id": "2fc6efaf",
   "metadata": {},
   "source": [
    "你可以用 `doctest` 來測試你的函數。"
   ]
  },
  {
   "cell_type": "code",
   "execution_count": null,
   "id": "9aa532aa",
   "metadata": {
    "lines_to_next_cell": 1
   },
   "outputs": [],
   "source": [
    "from doctest import run_docstring_examples"
   ]
  },
  {
   "cell_type": "code",
   "execution_count": null,
   "id": "af365881",
   "metadata": {
    "lines_to_next_cell": 1
   },
   "outputs": [],
   "source": [
    "def run_doctests(func):\n",
    "    print(f\"--- 執行 {func.__name__} 的 doctests ---\")\n",
    "    run_docstring_examples(func, globals(), name=func.__name__)"
   ]
  },
  {
   "cell_type": "code",
   "execution_count": null,
   "id": "af397885",
   "metadata": {
    "lines_to_next_cell": 1
   },
   "outputs": [],
   "source": [
    "run_doctests(shift_word)"
   ]
  },
  {
   "cell_type": "markdown",
   "id": "37614f0d",
   "metadata": {},
   "source": [
    "### 練習\n",
    "\n",
    "寫一個叫做 `most_frequent_letters` 的函數，它接收一個字串，\n",
    "並按頻率遞減的順序列印字母。\n",
    "\n",
    "要按遞減順序獲取項目，你可以使用 `reversed` 搭配 `sorted`，\n",
    "或者你可以將 `reverse=True` 作為關鍵字參數傳遞給 `sorted`。"
   ]
  },
  {
   "cell_type": "markdown",
   "id": "f1634730",
   "metadata": {},
   "source": [
    "你可以用這個函數大綱開始。"
   ]
  },
  {
   "cell_type": "code",
   "execution_count": null,
   "id": "3aee088d",
   "metadata": {
    "lines_to_next_cell": 1
   },
   "outputs": [],
   "source": [
    "def most_frequent_letters_starter(string_input): # 改名避免與解答衝突\n",
    "    return None # 你的程式碼會取代這裡"
   ]
  },
  {
   "cell_type": "markdown",
   "id": "7ed9c48d",
   "metadata": {},
   "source": [
    "解答"
   ]
  },
  {
   "cell_type": "code",
   "execution_count": null,
   "id": "5bd4c573",
   "metadata": {
    "lines_to_next_cell": 1
   },
   "outputs": [],
   "source": [
    "def most_frequent_letters(string_input):\n",
    "    # 確保 value_counts 和 second_element 在此作用域可用\n",
    "    # value_counts 之前已定義，second_element 也在前面定義過\n",
    "    letter_counts = value_counts(string_input)\n",
    "    # items() 取得 (鍵, 值) 對\n",
    "    # key=second_element 表示按值 (元組的第二個元素，即計數) 排序\n",
    "    # reverse=True 表示遞減排序\n",
    "    sorted_letter_pairs = sorted(letter_counts.items(), key=second_element, reverse=True)\n",
    "    print(f\"字串 '{string_input[:20]}{'...' if len(string_input)>20 else ''}' 中字母按頻率遞減排序:\")\n",
    "    for letter_item, count_item in sorted_letter_pairs:\n",
    "        print(f\"{letter_item}: {count_item}\")"
   ]
  },
  {
   "cell_type": "markdown",
   "id": "057505ba",
   "metadata": {},
   "source": [
    "用這個例子來測試你的函數。"
   ]
  },
  {
   "cell_type": "code",
   "execution_count": null,
   "id": "cad0a0a5",
   "metadata": {},
   "outputs": [],
   "source": [
    "print(\"\\n--- 測試 most_frequent_letters ---\")\n",
    "most_frequent_letters('brontosaurus')"
   ]
  },
  {
   "cell_type": "markdown",
   "id": "aade14c4",
   "metadata": {},
   "source": [
    "一旦你的函數可以運作，你可以用下面的程式碼來印出《德古拉》(Dracula) 中最常見的字母，\n",
    "我們可以從古騰堡計畫下載它。"
   ]
  },
  {
   "cell_type": "code",
   "execution_count": null,
   "id": "878e55e7",
   "metadata": {},
   "outputs": [],
   "source": [
    "download('https://www.gutenberg.org/cache/epub/345/pg345.txt');"
   ]
  },
  {
   "cell_type": "code",
   "execution_count": null,
   "id": "a074c1aa",
   "metadata": {},
   "outputs": [],
   "source": [
    "dracula_string = \"\"\n",
    "if exists('pg345.txt'):\n",
    "    dracula_string = open('pg345.txt', encoding='utf-8').read().lower() # 轉小寫以統一計數\n",
    "    # 也可以只計算字母\n",
    "    # import string as py_string\n",
    "    # dracula_string_letters_only = ''.join(filter(str.isalpha, dracula_string))\n",
    "    # most_frequent_letters(dracula_string_letters_only)\n",
    "    most_frequent_letters(dracula_string)"
   ]
  },
  {
   "cell_type": "code",
   "execution_count": null,
   "id": "03d39a90",
   "metadata": {
    "lines_to_next_cell": 2
   },
   "outputs": [],
   "source": [
    "else:\n",
    "    print(\"錯誤: pg345.txt 未找到，無法分析。\")"
   ]
  },
  {
   "cell_type": "markdown",
   "id": "cb319930",
   "metadata": {},
   "source": [
    "根據 Zim 的《密碼與秘密寫作》(Codes and Secret Writing)，\n",
    "英文中按頻率遞減排序的字母序列以 \"ETAONRISH\" 開始。\n",
    "這個序列與《德古拉》的結果相比如何？\n",
    "(觀察上面印出的結果來比較)"
   ]
  },
  {
   "cell_type": "markdown",
   "id": "4b884e8b",
   "metadata": {},
   "source": [
    "### 練習\n",
    "\n",
    "在之前的練習中，我們透過排序兩個字串中的字母並檢查排序後的字母是否相同，\n",
    "來測試兩個字串是否為相同字母異序詞 (anagram)。\n",
    "現在讓我們把問題弄得更有挑戰性一點。\n",
    "\n",
    "我們要寫一個程式，它接收一個單字列表，並印出所有互為相同字母異序詞的單字集合。\n",
    "輸出可能看起來像這樣 (只是範例，實際輸出會依 word_list 而定)：\n",
    "\n",
    "    ['deltas', 'desalt', 'lasted', 'salted', 'slated', 'staled']\n",
    "    ['retainers', 'ternaries']\n",
    "    ['generating', 'greatening']\n",
    "    ['resmelts', 'smelters', 'termless']\n",
    "\n",
    "提示：對於單字列表中的每個單字，將其字母排序並重新組合成一個字串。\n",
    "建立一個字典，將這個排序後的字串對應到一個包含其所有相同字母異序詞的單字列表。"
   ]
  },
  {
   "cell_type": "markdown",
   "id": "047b2b0f",
   "metadata": {},
   "source": [
    "下面的儲存格會下載 `words.txt` 並將單字讀入一個列表。"
   ]
  },
  {
   "cell_type": "code",
   "execution_count": null,
   "id": "d24f1a20",
   "metadata": {},
   "outputs": [],
   "source": [
    "download('https://raw.githubusercontent.com/AllenDowney/ThinkPython/v3/words.txt');"
   ]
  },
  {
   "cell_type": "code",
   "execution_count": null,
   "id": "e974b928",
   "metadata": {},
   "outputs": [],
   "source": [
    "word_list_anagram = []\n",
    "if exists('words.txt'):\n",
    "    word_list_anagram = open('words.txt', encoding='utf-8').read().split()\n",
    "else:\n",
    "    print(\"錯誤: words.txt 未找到，無法進行相同字母異序詞分析。\")"
   ]
  },
  {
   "cell_type": "markdown",
   "id": "b9838e16",
   "metadata": {},
   "source": [
    "這是我們之前用過的 `sort_word` 函數。"
   ]
  },
  {
   "cell_type": "code",
   "execution_count": null,
   "id": "59c353c5",
   "metadata": {
    "lines_to_next_cell": 1
   },
   "outputs": [],
   "source": [
    "def sort_word(word_input): # 參數改名\n",
    "    return ''.join(sorted(word_input))"
   ]
  },
  {
   "cell_type": "code",
   "execution_count": null,
   "id": "38e288ad",
   "metadata": {},
   "outputs": [],
   "source": [
    "# 解答\n",
    "print(\"\\n--- 找出所有相同字母異序詞的集合 ---\")\n",
    "anagram_dict = {}\n",
    "if word_list_anagram:\n",
    "    for current_word in word_list_anagram:\n",
    "        sorted_key = sort_word(current_word) # 用排序後的字串當作鍵\n",
    "        if sorted_key not in anagram_dict:\n",
    "            anagram_dict[sorted_key] = [current_word] # 如果鍵不存在，建立新列表\n",
    "        else:\n",
    "            anagram_dict[sorted_key].append(current_word) # 如果鍵已存在，將單字加入列表\n",
    "else:\n",
    "    print(\"單字列表是空的。\")"
   ]
  },
  {
   "cell_type": "code",
   "execution_count": null,
   "id": "a5caf6df",
   "metadata": {},
   "outputs": [],
   "source": [
    "# 印出所有包含多於一個單字 (即有相同字母異序詞) 的集合\n",
    "anagram_sets_count = 0\n",
    "for sorted_signature, anagram_group in anagram_dict.items():\n",
    "    if len(anagram_group) > 1:\n",
    "        print(anagram_group)\n",
    "        anagram_sets_count +=1\n",
    "        if anagram_sets_count > 10 and len(word_list_anagram) > 1000 : # 避免印太多，只印前幾組\n",
    "            print(\"... (還有更多)\")\n",
    "            break\n",
    "if anagram_sets_count == 0 and word_list_anagram:\n",
    "    print(\"沒有找到任何相同字母異序詞的集合。\")"
   ]
  },
  {
   "cell_type": "markdown",
   "id": "2c501bb1",
   "metadata": {},
   "source": [
    "要找到最長的相同字母異序詞列表，你可以使用下面的函數，\n",
    "它接收一個鍵值對，其中鍵是一個字串，值是一個單字列表。\n",
    "它回傳列表的長度。"
   ]
  },
  {
   "cell_type": "code",
   "execution_count": null,
   "id": "5f685b80",
   "metadata": {
    "lines_to_next_cell": 1
   },
   "outputs": [],
   "source": [
    "def value_length(pair_input): # 參數改名\n",
    "    key_item, value_list = pair_input\n",
    "    return len(value_list)"
   ]
  },
  {
   "cell_type": "markdown",
   "id": "c2c303a3",
   "metadata": {},
   "source": [
    "我們可以用這個函數作為排序鍵來找到最長的相同字母異序詞列表。"
   ]
  },
  {
   "cell_type": "code",
   "execution_count": null,
   "id": "72ecff24",
   "metadata": {
    "lines_to_next_cell": 2
   },
   "outputs": [],
   "source": [
    "print(\"\\n--- 最長的 10 組相同字母異序詞 (按組內單字數量排序) ---\")\n",
    "if anagram_dict:\n",
    "    # .items() 將字典轉成 (鍵, 值) 元組的列表\n",
    "    # key=value_length 表示按每個元組的值 (即相同字母異序詞列表的長度) 來排序\n",
    "    anagram_items_sorted_by_length = sorted(anagram_dict.items(), key=value_length)\n",
    "    # 印出最長的 10 組 (如果有的話)\n",
    "    for key_s, value_s_list in anagram_items_sorted_by_length[-10:]: # 取最後10個 (最長的)\n",
    "        if len(value_s_list) > 1: # 確保是真的異序詞組\n",
    "            print(value_s_list)\n",
    "else:\n",
    "    print(\"相同字母異序詞字典是空的。\")"
   ]
  },
  {
   "cell_type": "markdown",
   "id": "392e98b7",
   "metadata": {},
   "source": [
    "如果你想知道哪些是最長的、且具有相同字母異序詞的單字，\n",
    "你可以用下面的迴圈來印出其中一些。"
   ]
  },
  {
   "cell_type": "code",
   "execution_count": null,
   "id": "3dd1921a",
   "metadata": {},
   "outputs": [],
   "source": [
    "print(\"\\n--- 最長的且有相同字母異序詞的單字 (按單字本身長度) ---\")\n",
    "longest_word_len_with_anagrams = 0 # 初始化為一個合理的小值，或第一個找到的長度"
   ]
  },
  {
   "cell_type": "code",
   "execution_count": null,
   "id": "87c0c88d",
   "metadata": {},
   "outputs": [],
   "source": [
    "# 先找出所有有異序詞的組，並記錄它們原始單字的長度\n",
    "anagram_groups_with_word_len = []\n",
    "if anagram_dict:\n",
    "    for key_al, value_al_list in anagram_dict.items():\n",
    "        if len(value_al_list) > 1: # 確保是異序詞組\n",
    "            # 假設組內單字長度都一樣 (因為它們是異序詞)\n",
    "            word_len_in_group = len(value_al_list[0])\n",
    "            anagram_groups_with_word_len.append((word_len_in_group, value_al_list))\n",
    "\n",
    "    # 按單字長度排序 (降序)\n",
    "    anagram_groups_with_word_len.sort(key=lambda x: x[0], reverse=True)\n",
    "\n",
    "    # 印出前幾個最長單字的異序詞組\n",
    "    printed_longest_count = 0\n",
    "    for length, group in anagram_groups_with_word_len:\n",
    "        if printed_longest_count < 5: # 印出前 5 組最長的\n",
    "            print(f\"長度 {length}: {group}\")\n",
    "            printed_longest_count += 1\n",
    "        else:\n",
    "            break\n",
    "    if not anagram_groups_with_word_len:\n",
    "        print(\"沒有找到任何有相同字母異序詞的單字組。\")\n",
    "else:\n",
    "    print(\"相同字母異序詞字典是空的。\")"
   ]
  },
  {
   "cell_type": "markdown",
   "id": "ad18b10c",
   "metadata": {},
   "source": [
    "### 練習\n",
    "\n",
    "寫一個叫做 `word_distance` 的函數，它接收兩個相同長度的單字，\n",
    "並回傳這兩個單字在多少個位置上的字母不同。\n",
    "\n",
    "提示：使用 `zip` 來遍歷單字的相應字母。"
   ]
  },
  {
   "cell_type": "markdown",
   "id": "b5b20a2d",
   "metadata": {},
   "source": [
    "這裡有一個包含 doctests 的函數大綱，你可以用來檢查你的函數。"
   ]
  },
  {
   "cell_type": "code",
   "execution_count": null,
   "id": "c00062d5",
   "metadata": {
    "lines_to_next_cell": 1
   },
   "outputs": [],
   "source": [
    "def word_distance_starter(word1, word2): # 改名避免與解答衝突\n",
    "    \"\"\"計算兩個單字在多少個位置上不同。\n",
    "\n",
    "    >>> word_distance_starter(\"hello\", \"hxllo\")\n",
    "    1\n",
    "    >>> word_distance_starter(\"ample\", \"apply\")\n",
    "    2\n",
    "    >>> word_distance_starter(\"kitten\", \"mutton\") # k!=m, i!=u, e!=o -> 3\n",
    "    3\n",
    "    \"\"\"\n",
    "    return None # 你的程式碼會取代這裡"
   ]
  },
  {
   "cell_type": "markdown",
   "id": "811f574d",
   "metadata": {},
   "source": [
    "解答"
   ]
  },
  {
   "cell_type": "code",
   "execution_count": null,
   "id": "d493ae6d",
   "metadata": {
    "lines_to_next_cell": 1
   },
   "outputs": [],
   "source": [
    "def word_distance(word1, word2):\n",
    "    \"\"\"計算兩個單字在多少個位置上不同。\n",
    "\n",
    "    >>> word_distance(\"hello\", \"hxllo\")\n",
    "    1\n",
    "    >>> word_distance(\"ample\", \"apply\")\n",
    "    2\n",
    "    >>> word_distance(\"kitten\", \"mutton\")\n",
    "    3\n",
    "    >>> word_distance(\"same\", \"same\")\n",
    "    0\n",
    "    \"\"\"\n",
    "    # 斷言 (assert) 確保兩個單字長度相同，如果不符合條件程式會終止並報錯\n",
    "    assert len(word1) == len(word2), \"輸入的兩個單字長度必須相同\"\n",
    "\n",
    "    difference_count = 0\n",
    "    for char1, char2 in zip(word1, word2): # zip 會成對遍歷\n",
    "        if char1 != char2:\n",
    "            difference_count += 1\n",
    "\n",
    "    return difference_count"
   ]
  },
  {
   "cell_type": "markdown",
   "id": "780fe08a",
   "metadata": {},
   "source": [
    "from doctest import run_docstring_examples # 已在前面匯入過"
   ]
  },
  {
   "cell_type": "markdown",
   "id": "0d0b1451",
   "metadata": {},
   "source": [
    "def run_doctests(func): # 已在前面定義過\n",
    "    run_docstring_examples(func, globals(), name=func.__name__)"
   ]
  },
  {
   "cell_type": "code",
   "execution_count": null,
   "id": "947e65b3",
   "metadata": {},
   "outputs": [],
   "source": [
    "print(\"\\n--- 測試 word_distance ---\")\n",
    "run_doctests(word_distance)"
   ]
  },
  {
   "cell_type": "markdown",
   "id": "704c80a2",
   "metadata": {},
   "source": [
    "### 練習\n",
    "\n",
    "「換位 (Metathesis)」是指單字中字母的調換。\n",
    "如果你可以透過交換兩個字母將一個單字轉換成另一個單字，\n",
    "那麼這兩個單字就構成一個「換位對 (metathesis pair)」，例如 `converse` 和 `conserve`。\n",
    "(c-o-n-v-e-r-s-e, c-o-n-s-e-r-v-e，v/s 和 r/e 的位置不同，但這裡的例子是交換 v 和 s)\n",
    "(更準確的例子: `observe` 和 `obverse` 交換 s, v)\n",
    "(再一個例子: `teacher` 和 `cheater`，交換 t 和 c)\n",
    "\n",
    "寫一個程式，找出單字列表中的所有換位對。\n",
    "\n",
    "提示：換位對中的單字必須互為相同字母異序詞。\n",
    "\n",
    "來源：這個練習的靈感來自 <http://puzzlers.org> 的一個例子。"
   ]
  },
  {
   "cell_type": "code",
   "execution_count": null,
   "id": "2a5020e2",
   "metadata": {
    "lines_to_next_cell": 2
   },
   "outputs": [],
   "source": [
    "# 解答\n",
    "print(\"\\n--- 找出換位對 (長度 >= 10，且差異為 2) ---\")\n",
    "metathesis_pair_count = 0\n",
    "if anagram_dict: # 確保 anagram_dict 已建立\n",
    "    for anagram_key, anagrams_list in anagram_dict.items():\n",
    "        # 我們只需要檢查同一個相同字母異序詞組內的單字\n",
    "        if len(anagrams_list) > 1: # 必須至少有兩個單字才可能形成配對\n",
    "            # 為了避免重複配對 (word1, word2) 和 (word2, word1)\n",
    "            # 以及一個字和自己比較，我們可以用索引來遍歷\n",
    "            for i in range(len(anagrams_list)):\n",
    "                for j in range(i + 1, len(anagrams_list)): # j 從 i+1 開始\n",
    "                    word1_meta = anagrams_list[i]\n",
    "                    word2_meta = anagrams_list[j]\n",
    "\n",
    "                    # 題目要求「交換兩個字母」，所以 word_distance 應該是 2\n",
    "                    # 並且，為了讓例子更有趣，我們可以加上長度限制\n",
    "                    if len(word1_meta) >= 10 and word_distance(word1_meta, word2_meta) == 2:\n",
    "                        print(word1_meta, word2_meta)\n",
    "                        metathesis_pair_count += 1\n",
    "                        if metathesis_pair_count > 10 and len(word_list_anagram) > 1000: # 避免印太多\n",
    "                            print(\"... (還有更多)\")\n",
    "                            # 用 break 只能跳出一層迴圈，若要完全停止可以設 flag\n",
    "                            break\n",
    "                if metathesis_pair_count > 10 and len(word_list_anagram) > 1000:\n",
    "                    break\n",
    "        if metathesis_pair_count > 10 and len(word_list_anagram) > 1000:\n",
    "            break\n",
    "    if metathesis_pair_count == 0:\n",
    "        print(\"沒有找到符合條件的換位對。\")\n",
    "else:\n",
    "    print(\"相同字母異序詞字典是空的，無法尋找換位對。\")"
   ]
  },
  {
   "cell_type": "markdown",
   "id": "5ce27dc5",
   "metadata": {},
   "source": [
    "### 練習\n",
    "\n",
    "這是一個書中沒有的額外練習。\n",
    "它比本章的其他練習更具挑戰性，所以你可能需要向虛擬助理尋求幫助，\n",
    "或者在閱讀更多章節後再回來做。\n",
    "\n",
    "這裡有另一個 Car Talk Puzzler (汽車談話謎題)\n",
    "(<http://www.cartalk.com/content/puzzlers>):\n",
    "\n",
    "> 哪個是最長的英文單字，當你逐一移除它的字母時，它仍然是一個有效的英文單字？\n",
    ">\n",
    "> 現在，字母可以從兩端或中間移除，但你不能重新排列任何字母。\n",
    "> 每次你去掉一個字母，你都會得到另一個英文單字。如果你這樣做，\n",
    "> 你最終會得到一個字母，而那個字母本身也是一個英文單字——在字典中可以找到的。\n",
    "> 我想知道最長的單字是什麼，它有多少個字母？\n",
    ">\n",
    "> 我給你一個簡單的例子：Sprite (雪碧；小精靈)。好嗎？你從 sprite 開始，\n",
    "> 去掉一個字母，從單字內部去掉一個，把 r 去掉，剩下 spite (怨恨)，\n",
    "> 然後我們把尾巴的 e 去掉，剩下 spit (吐痰)，我們把 s 去掉，\n",
    "> 剩下 pit (坑)，然後是 it (它)，最後是 I (我)。\n",
    "\n",
    "寫一個程式來找出所有可以這樣被縮減的單字，然後找出最長的那一個。\n",
    "\n",
    "這個練習比大多數練習都難一點，所以這裡有一些建議：\n",
    "\n",
    "1.  你可能需要寫一個函數，它接收一個單字並計算出一個列表，\n",
    "    其中包含所有可以透過移除一個字母形成的單字。這些是該單字的「子字 (children)」。\n",
    "\n",
    "2.  遞迴地說，如果一個單字的任何子字是可縮減的，那麼該單字就是可縮減的。\n",
    "    作為基礎情況 (base case)，你可以認為空字串是可縮減的。\n",
    "\n",
    "3.  我們一直使用的單字列表不包含單字母單字。所以你可能需要加入 \"I\" 和 \"a\"。\n",
    "\n",
    "4.  為了提高程式的效能，你可能需要將已知可縮減的單字備忘錄化 (memoize)。"
   ]
  },
  {
   "cell_type": "code",
   "execution_count": null,
   "id": "272feb6a",
   "metadata": {},
   "outputs": [],
   "source": [
    "# 解答\n",
    "print(\"\\n--- Car Talk Puzzler: 可縮減單字 ---\")"
   ]
  },
  {
   "cell_type": "code",
   "execution_count": null,
   "id": "f8d96528",
   "metadata": {},
   "outputs": [],
   "source": [
    "# 確保 word_list_anagram (或任何你選擇使用的完整單字列表) 已載入\n",
    "# 並且建立一個 word_dict 方便快速查找\n",
    "word_dict_reducible = {}\n",
    "if word_list_anagram:\n",
    "    for w in word_list_anagram:\n",
    "        word_dict_reducible[w] = 1\n",
    "else:\n",
    "    # 如果 word_list_anagram 是空的，嘗試從 words.txt 重新載入\n",
    "    if exists('words.txt'):\n",
    "        temp_list = open('words.txt', encoding='utf-8').read().split()\n",
    "        for w_temp in temp_list:\n",
    "            word_dict_reducible[w_temp] = 1\n",
    "    else:\n",
    "        print(\"錯誤: words.txt 未找到，無法進行可縮減單字分析。\")"
   ]
  },
  {
   "cell_type": "code",
   "execution_count": null,
   "id": "882a6e8d",
   "metadata": {},
   "outputs": [],
   "source": [
    "# 加入單字母單字和空字串\n",
    "for single_char_word in ['a', 'i', '']: # 空字串作為遞迴的基礎\n",
    "    word_dict_reducible[single_char_word] = 1"
   ]
  },
  {
   "cell_type": "code",
   "execution_count": null,
   "id": "76774ca2",
   "metadata": {
    "lines_to_next_cell": 1
   },
   "outputs": [],
   "source": [
    "def children(word_input_child):\n",
    "    \"\"\"回傳所有可以透過移除一個字母形成的有效單字的列表。\n",
    "\n",
    "    word_input_child: 字串\n",
    "\n",
    "    回傳: 字串列表\n",
    "    \"\"\"\n",
    "    res_children = []\n",
    "    for i_child in range(len(word_input_child)):\n",
    "        child_word = word_input_child[:i_child] + word_input_child[i_child+1:]\n",
    "        if child_word in word_dict_reducible: # 檢查是否是有效單字\n",
    "            res_children.append(child_word)\n",
    "    return res_children"
   ]
  },
  {
   "cell_type": "markdown",
   "id": "f5e99ab3",
   "metadata": {},
   "source": [
    "解答"
   ]
  },
  {
   "cell_type": "code",
   "execution_count": null,
   "id": "7aa105f6",
   "metadata": {},
   "outputs": [],
   "source": [
    "\"\"\"memo_reducible 是一個字典，它把每個已知可縮減的單字\n",
    "對應到其可縮減子字的列表。\n",
    "它從空字串開始。\"\"\""
   ]
  },
  {
   "cell_type": "code",
   "execution_count": null,
   "id": "683fe091",
   "metadata": {},
   "outputs": [],
   "source": [
    "memo_reducible = {}\n",
    "memo_reducible[''] = [''] # 基礎情況：空字串是可縮減的，它的子字是它自己 (或一個代表終點的標記)"
   ]
  },
  {
   "cell_type": "code",
   "execution_count": null,
   "id": "7bfc459c",
   "metadata": {
    "lines_to_next_cell": 1
   },
   "outputs": [],
   "source": [
    "def reduce_word(word_input_reduce):\n",
    "    \"\"\"如果 word_input_reduce 是可縮減的，回傳其可縮減子字的列表。\n",
    "\n",
    "    同時在 memo_reducible 字典中新增一個項目。\n",
    "\n",
    "    一個字串是可縮減的，如果它至少有一個子字是可縮減的。\n",
    "    空字串也是可縮減的。\n",
    "\n",
    "    word_input_reduce: 字串\n",
    "    \"\"\"\n",
    "    # 如果已經檢查過這個單字，回傳答案\n",
    "    if word_input_reduce in memo_reducible:\n",
    "        return memo_reducible[word_input_reduce]\n",
    "\n",
    "    # 檢查每個子字，並建立一個可縮減子字的列表\n",
    "    res_reducible_children = []\n",
    "    for child_candidate in children(word_input_reduce): # children() 會回傳有效的子單字\n",
    "        # 遞迴檢查子字是否可縮減\n",
    "        # reduce_word(child_candidate) 回傳的是該子字的可縮減路徑 (的下一個)\n",
    "        # 如果 reduce_word(child_candidate) 回傳非空列表，表示 child_candidate 可縮減\n",
    "        if reduce_word(child_candidate): # 這裡的條件是 reduce_word 回傳的列表不為空\n",
    "            res_reducible_children.append(child_candidate) # 把這個可縮減的子字加入結果\n",
    "\n",
    "    # 備忘錄化並回傳結果\n",
    "    # 如果 res_reducible_children 是空的，表示這個字不可縮減 (到空字串)\n",
    "    # 除非它本身就是 '' (已在 memo_reducible[''] 處理)\n",
    "    memo_reducible[word_input_reduce] = res_reducible_children\n",
    "    return res_reducible_children"
   ]
  },
  {
   "cell_type": "markdown",
   "id": "a21111df",
   "metadata": {},
   "source": [
    "解答"
   ]
  },
  {
   "cell_type": "code",
   "execution_count": null,
   "id": "999d5c64",
   "metadata": {},
   "outputs": [],
   "source": [
    "def print_trail(word_input_trail):\n",
    "    \"\"\"印出將此單字縮減為空字串的單字序列。\n",
    "\n",
    "    如果有多種選擇，它會選擇第一個。\n",
    "\n",
    "    word_input_trail: 字串\n",
    "    \"\"\"\n",
    "    if len(word_input_trail) == 0: # 到達空字串，結束遞迴\n",
    "        print(\"-> ''\") # 標示結束\n",
    "        return\n",
    "    print(word_input_trail, end=' ')\n",
    "    reducible_children_trail = reduce_word(word_input_trail)\n",
    "    if reducible_children_trail: # 如果有可縮減的路徑\n",
    "        print_trail(reducible_children_trail[0]) # 選擇第一條路徑繼續\n",
    "    else: # 理論上，如果 word_input_trail 是從 all_reducible 來的，這裡不該發生\n",
    "        print(\"(無法再縮減)\")"
   ]
  },
  {
   "cell_type": "markdown",
   "id": "3237463d",
   "metadata": {},
   "source": [
    "解答"
   ]
  },
  {
   "cell_type": "code",
   "execution_count": null,
   "id": "db27c83e",
   "metadata": {
    "lines_to_next_cell": 1
   },
   "outputs": [],
   "source": [
    "def all_reducible():\n",
    "    \"\"\"檢查 word_dict_reducible 中的所有單字；回傳一個可縮減單字的列表。\n",
    "    \"\"\"\n",
    "    res_all_reducible = []\n",
    "    if not word_dict_reducible:\n",
    "        print(\"word_dict_reducible 是空的，無法找出可縮減單字。\")\n",
    "        return res_all_reducible\n",
    "\n",
    "    # 為了讓進度可見，可以加個計數器\n",
    "    total_words_to_check = len(word_dict_reducible)\n",
    "    checked_count = 0\n",
    "    print_interval = total_words_to_check // 100 + 1 # 每 1% 印一次\n",
    "\n",
    "    for word_check in word_dict_reducible:\n",
    "        # if checked_count % print_interval == 0:\n",
    "        #     print(f\"正在檢查可縮減單字... 進度: {checked_count}/{total_words_to_check} ({checked_count*100/total_words_to_check:.0f}%)\")\n",
    "        \n",
    "        # 我們只對長度大於1的字有興趣，因為 'a' 和 'i' 已經是單字母了\n",
    "        if len(word_check) <= 1 and word_check != '': # a, i 可以直接縮減到 ''\n",
    "             if reduce_word(word_check): # 確保它們能縮到 ''\n",
    "                res_all_reducible.append(word_check)\n",
    "        elif len(word_check) > 1:\n",
    "            # reduce_word 會回傳一個列表，如果列表不空，表示 word_check 可縮減\n",
    "            if reduce_word(word_check):\n",
    "                res_all_reducible.append(word_check)\n",
    "        checked_count += 1\n",
    "    # print(\"可縮減單字檢查完成。\")\n",
    "    return res_all_reducible"
   ]
  },
  {
   "cell_type": "markdown",
   "id": "1b4bedd0",
   "metadata": {},
   "source": [
    "解答 (執行的主體部分)"
   ]
  },
  {
   "cell_type": "markdown",
   "id": "893cfc40",
   "metadata": {},
   "source": [
    "重新填充 word_dict_reducible，因為之前的 word_dict 可能被其他練習修改\n",
    "(如果是在同一個 notebook session 中，變數會共享)\n",
    "或者確保 word_dict_reducible 在此處被正確初始化\n",
    "(已在 In[205] 的開頭處理)"
   ]
  },
  {
   "cell_type": "code",
   "execution_count": null,
   "id": "bcb6a601",
   "metadata": {
    "lines_to_next_cell": 2
   },
   "outputs": [],
   "source": [
    "if word_dict_reducible:\n",
    "    # 找出可縮減的單字並按長度排序\n",
    "    print(\"開始尋找所有可縮減單字 (這可能需要一些時間)...\")\n",
    "    reducible_words_found = all_reducible()\n",
    "    print(f\"共找到 {len(reducible_words_found)} 個可縮減單字。\")\n",
    "\n",
    "    if reducible_words_found:\n",
    "        sorted_reducible_words = sorted(reducible_words_found, key=len)\n",
    "\n",
    "        # 印出最長的10個 (如果少於10個就全印)\n",
    "        print(\"\\n最長的幾個可縮減單字及其縮減路徑:\")\n",
    "        num_to_print = min(10, len(sorted_reducible_words))\n",
    "        for word_to_print_trail in sorted_reducible_words[-num_to_print:]: # 取最後 num_to_print 個\n",
    "            print_trail(word_to_print_trail)\n",
    "            # print('') # print_trail 裡面會換行\n",
    "    else:\n",
    "        print(\"沒有找到任何可縮減單字。\")\n",
    "else:\n",
    "    print(\"word_dict_reducible 是空的，無法執行主要解答部分。\")"
   ]
  },
  {
   "cell_type": "markdown",
   "id": "98a50879",
   "metadata": {},
   "source": [
    "[Think Python: 3rd Edition](https://allendowney.github.io/ThinkPython/index.html)\n",
    "\n",
    "Copyright 2024 [Allen B. Downey](https://allendowney.com)\n",
    "\n",
    "程式碼授權: [MIT License](https://mit-license.org/)\n",
    "\n",
    "文字內容授權: [Creative Commons Attribution-NonCommercial-ShareAlike 4.0 International](https://creativecommons.org/licenses/by-nc-sa/4.0/)"
   ]
  }
 ],
 "metadata": {
  "jupytext": {
   "cell_metadata_filter": "-all",
   "main_language": "python",
   "notebook_metadata_filter": "-all"
  }
 },
 "nbformat": 4,
 "nbformat_minor": 5
}
