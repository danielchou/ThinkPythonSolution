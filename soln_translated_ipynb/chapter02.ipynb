{
 "cells": [
  {
   "cell_type": "markdown",
   "id": "c1f86c5d",
   "metadata": {},
   "source": [
    "你可以從\n",
    "[Bookshop.org](https://bookshop.org/a/98697/9781098155438) 和\n",
    "[Amazon](https://www.amazon.com/_/dp/1098155432?smid=ATVPDKIKX0DER&_encoding=UTF8&tag=oreilly20-20&_encoding=UTF8&tag=greenteapre01-20&linkCode=ur2&linkId=e2a529f94920295d27ec8a06e757dc7c&camp=1789&creative=9325)\n",
    "訂購《Think Python 3e》的實體書和電子書版本。"
   ]
  },
  {
   "cell_type": "code",
   "execution_count": 1,
   "id": "db1ddf68",
   "metadata": {
    "lines_to_next_cell": 1
   },
   "outputs": [],
   "source": [
    "from os.path import basename, exists"
   ]
  },
  {
   "cell_type": "code",
   "execution_count": 4,
   "id": "f2fef853",
   "metadata": {
    "lines_to_next_cell": 1
   },
   "outputs": [],
   "source": [
    "def download(url):\n",
    "    filename = basename(url)\n",
    "    if not exists(filename):\n",
    "        from urllib.request import urlretrieve\n",
    "\n",
    "        local, _ = urlretrieve(url, filename)\n",
    "        print(\"已下載 \" + str(local)) # 譯註：這裡顯示下載完成的檔案路徑\n",
    "    return filename"
   ]
  },
  {
   "cell_type": "code",
   "execution_count": 5,
   "id": "02d7f445",
   "metadata": {},
   "outputs": [],
   "source": [
    "download('https://github.com/AllenDowney/ThinkPython/raw/v3/thinkpython.py');\n",
    "download('https://github.com/AllenDowney/ThinkPython/raw/v3/diagram.py');"
   ]
  },
  {
   "cell_type": "code",
   "execution_count": 7,
   "id": "fd74f69f",
   "metadata": {
    "lines_to_next_cell": 2
   },
   "outputs": [],
   "source": [
    "import thinkpython"
   ]
  },
  {
   "cell_type": "markdown",
   "id": "8245673c",
   "metadata": {},
   "source": [
    "# 變數與陳述句\n",
    "\n",
    "在上一章，我們用了運算子來寫一些做算術運算的運算式。\n",
    "\n",
    "在這一章，你會學到關於變數和陳述句、`import` 陳述句，還有 `print` 函式。\n",
    "我也會介紹更多我們用來談論程式的詞彙，包括「引數」和「模組」。\n"
   ]
  },
  {
   "cell_type": "markdown",
   "id": "60676cc4",
   "metadata": {},
   "source": [
    "## 變數\n",
    "\n",
    "**變數** 是一個指向某個值的名稱。\n",
    "要建立一個變數，我們可以寫一個像這樣的 **賦值陳述句** (assignment statement)。"
   ]
  },
  {
   "cell_type": "code",
   "execution_count": 9,
   "id": "290820de",
   "metadata": {
    "lines_to_next_cell": 2
   },
   "outputs": [
    {
     "name": "stdout",
     "output_type": "stream",
     "text": [
      "17\n"
     ]
    }
   ],
   "source": [
    "n = 17\n",
    "print(n)"
   ]
  },
  {
   "cell_type": "markdown",
   "id": "26b1533f",
   "metadata": {},
   "source": [
    "賦值陳述句有三個部分：左邊是變數的名稱，中間是等號 `=`，右邊是一個運算式。\n",
    "在這個例子裡，運算式是一個整數。\n",
    "在下面的例子裡，運算式是一個浮點數。"
   ]
  },
  {
   "cell_type": "code",
   "execution_count": 10,
   "id": "54828de9",
   "metadata": {
    "lines_to_next_cell": 2
   },
   "outputs": [],
   "source": [
    "pi = 3.141592653589793"
   ]
  },
  {
   "cell_type": "markdown",
   "id": "4ec995d9",
   "metadata": {},
   "source": [
    "而在下面的例子裡，運算式是一個字串。"
   ]
  },
  {
   "cell_type": "code",
   "execution_count": 11,
   "id": "7437a0d3",
   "metadata": {
    "lines_to_next_cell": 2
   },
   "outputs": [],
   "source": [
    "message = 'And now for something completely different' # 譯註：這是蒙提·派森的經典台詞「現在來看點完全不一樣的」"
   ]
  },
  {
   "cell_type": "markdown",
   "id": "dc99aa14",
   "metadata": {},
   "source": [
    "當你執行一個賦值陳述句時，不會有任何輸出。\n",
    "Python 會建立這個變數並給它一個值，但賦值陳述句本身沒有看得見的效果。\n",
    "不過，建立變數之後，你就可以把它當作一個運算式來使用。\n",
    "所以我們可以像這樣顯示 `message` 的值："
   ]
  },
  {
   "cell_type": "code",
   "execution_count": 12,
   "id": "00f7a460",
   "metadata": {
    "lines_to_next_cell": 2
   },
   "outputs": [
    {
     "data": {
      "text/plain": [
       "'And now for something completely different'"
      ]
     },
     "execution_count": 12,
     "metadata": {},
     "output_type": "execute_result"
    }
   ],
   "source": [
    "message"
   ]
  },
  {
   "cell_type": "code",
   "execution_count": 14,
   "id": "b57c4b9a",
   "metadata": {},
   "outputs": [
    {
     "data": {
      "text/plain": [
       "3.141592653589793"
      ]
     },
     "execution_count": 14,
     "metadata": {},
     "output_type": "execute_result"
    }
   ],
   "source": [
    "pi"
   ]
  },
  {
   "cell_type": "markdown",
   "id": "27311e2e",
   "metadata": {},
   "source": [
    "你也可以把變數當作運算式的一部分，跟算術運算子一起用。"
   ]
  },
  {
   "cell_type": "code",
   "execution_count": 15,
   "id": "5e855593",
   "metadata": {
    "lines_to_next_cell": 2
   },
   "outputs": [
    {
     "data": {
      "text/plain": [
       "42"
      ]
     },
     "execution_count": 15,
     "metadata": {},
     "output_type": "execute_result"
    }
   ],
   "source": [
    "n + 25"
   ]
  },
  {
   "cell_type": "code",
   "execution_count": 16,
   "id": "9b6dfd43",
   "metadata": {
    "lines_to_next_cell": 2
   },
   "outputs": [
    {
     "data": {
      "text/plain": [
       "6.283185307179586"
      ]
     },
     "execution_count": 16,
     "metadata": {},
     "output_type": "execute_result"
    }
   ],
   "source": [
    "2 * pi"
   ]
  },
  {
   "cell_type": "markdown",
   "id": "778a6153",
   "metadata": {},
   "source": [
    "你也可以在呼叫函式的時候使用變數。"
   ]
  },
  {
   "cell_type": "code",
   "execution_count": 17,
   "id": "e85991f1",
   "metadata": {
    "lines_to_next_cell": 2
   },
   "outputs": [
    {
     "data": {
      "text/plain": [
       "3"
      ]
     },
     "execution_count": 17,
     "metadata": {},
     "output_type": "execute_result"
    }
   ],
   "source": [
    "round(pi) # 譯註：round() 函式會將浮點數四捨五入到最接近的整數"
   ]
  },
  {
   "cell_type": "code",
   "execution_count": 18,
   "id": "944a4cb9",
   "metadata": {
    "lines_to_next_cell": 2
   },
   "outputs": [
    {
     "data": {
      "text/plain": [
       "42"
      ]
     },
     "execution_count": 18,
     "metadata": {},
     "output_type": "execute_result"
    }
   ],
   "source": [
    "len(message) # 譯註：len() 函式會回傳字串的長度"
   ]
  },
  {
   "cell_type": "markdown",
   "id": "5f17afa3",
   "metadata": {},
   "source": [
    "## 狀態圖\n",
    "\n",
    "在紙上表示變數的一個常見方法是寫下名稱，然後用箭頭指向它的值。"
   ]
  },
  {
   "cell_type": "code",
   "execution_count": 19,
   "id": "b87a7d73",
   "metadata": {},
   "outputs": [],
   "source": [
    "import math"
   ]
  },
  {
   "cell_type": "code",
   "execution_count": 20,
   "id": "ca24ddfe",
   "metadata": {},
   "outputs": [],
   "source": [
    "from diagram import make_binding, Frame # 譯註：這是書中用來畫圖的工具"
   ]
  },
  {
   "cell_type": "code",
   "execution_count": null,
   "id": "3a3db780",
   "metadata": {},
   "outputs": [],
   "source": [
    "# 譯註：以下程式碼是為了產生一個變數狀態的示意圖\n",
    "binding = make_binding(\"message\", 'And now for something completely different')\n",
    "binding2 = make_binding(\"n\", 17)\n",
    "binding3 = make_binding(\"pi\", 3.141592653589793)"
   ]
  },
  {
   "cell_type": "code",
   "execution_count": null,
   "id": "c11a4fe2",
   "metadata": {
    "lines_to_next_cell": 2
   },
   "outputs": [],
   "source": [
    "frame = Frame([binding2, binding3, binding])"
   ]
  },
  {
   "cell_type": "code",
   "execution_count": null,
   "id": "447aa51d",
   "metadata": {
    "lines_to_next_cell": 2
   },
   "outputs": [],
   "source": [
    "from diagram import diagram, adjust # 譯註：這是書中用來畫圖的工具"
   ]
  },
  {
   "cell_type": "code",
   "execution_count": null,
   "id": "a96184a3",
   "metadata": {
    "lines_to_next_cell": 2
   },
   "outputs": [],
   "source": [
    "width, height, x, y = [3.62, 1.01, 0.6, 0.76] # 譯註：圖表的繪製參數\n",
    "ax = diagram(width, height)\n",
    "bbox = frame.draw(ax, x, y, dy=-0.25)\n",
    "# adjust(x, y, bbox) # 譯註：調整圖表位置的函式，這裡被註解掉了"
   ]
  },
  {
   "cell_type": "markdown",
   "id": "bf1afaf0",
   "metadata": {},
   "source": [
    "這種圖叫做 **狀態圖** (state diagram)，因為它顯示了每個變數處於什麼狀態（把它想成是變數的「心理狀態」）。\n",
    "我們會在整本書中用狀態圖來表示 Python 如何儲存變數和它們的值的模型。"
   ]
  },
  {
   "cell_type": "markdown",
   "id": "a1ac5b17",
   "metadata": {},
   "source": [
    "## 變數名稱\n",
    "\n",
    "變數名稱可以隨你喜歡取多長。它們可以包含字母和數字，但不能以數字開頭。\n",
    "使用大寫字母是合法的，但習慣上變數名稱只用小寫字母。\n",
    "\n",
    "變數名稱中唯一可以出現的標點符號是底線 `_`。它常用在有多個單字的名稱中，例如 `your_name` 或 `airspeed_of_unladen_swallow`（譯註：未負重燕子的空速，另一個蒙提·派森梗）。\n",
    "\n",
    "如果你給變數取了一個不合法的名稱，你會得到一個語法錯誤。\n",
    "名稱 `million!` 不合法，因為它包含標點符號。"
   ]
  },
  {
   "cell_type": "code",
   "execution_count": 22,
   "id": "4a3b4fc5",
   "metadata": {
    "lines_to_next_cell": 2
   },
   "outputs": [],
   "source": [
    "get_ipython().run_cell_magic('expect', 'SyntaxError', '\\nmillion = 1000000\\n') # 譯註：這裡預期會發生語法錯誤 (SyntaxError)"
   ]
  },
  {
   "cell_type": "markdown",
   "id": "47efce0f",
   "metadata": {},
   "source": [
    "`76trombones` 不合法，因為它以數字開頭。"
   ]
  },
  {
   "cell_type": "code",
   "execution_count": 24,
   "id": "4eaca6d8",
   "metadata": {
    "lines_to_next_cell": 2
   },
   "outputs": [],
   "source": [
    "get_ipython().run_cell_magic('expect', 'SyntaxError', \"\\na76trombones = 'big parade'\\n\") # 譯註：這裡預期會發生語法錯誤"
   ]
  },
  {
   "cell_type": "markdown",
   "id": "83a82e4d",
   "metadata": {},
   "source": [
    "`class` 也不合法，但原因可能不太明顯。"
   ]
  },
  {
   "cell_type": "code",
   "execution_count": 25,
   "id": "07daced8",
   "metadata": {
    "lines_to_next_cell": 2
   },
   "outputs": [
    {
     "ename": "SyntaxError",
     "evalue": "invalid syntax (3285659805.py, line 1)",
     "output_type": "error",
     "traceback": [
      "  \u001b[36mCell\u001b[39m\u001b[36m \u001b[39m\u001b[32mIn[25]\u001b[39m\u001b[32m, line 1\u001b[39m\n\u001b[31m    \u001b[39m\u001b[31mclass = 'Self-Defence Against Fresh Fruit'\u001b[39m\n          ^\n\u001b[31mSyntaxError\u001b[39m\u001b[31m:\u001b[39m invalid syntax\n"
     ]
    }
   ],
   "source": [
    "get_ipython().run_cell_magic('expect', 'SyntaxError', \"\\nclass = 'Self-Defence Against Fresh Fruit'\\n\") # 譯註：這裡預期會發生語法錯誤，「對抗新鮮水果的自衛術」，又一個蒙提·派森梗"
   ]
  },
  {
   "cell_type": "markdown",
   "id": "72a9b1a5",
   "metadata": {},
   "source": [
    "原來 `class` 是一個 **關鍵字** (keyword)，它是一個特殊的字，用來指定程式的結構。\n",
    "關鍵字不能當作變數名稱。\n",
    "\n",
    "這裡是 Python 關鍵字的完整列表："
   ]
  },
  {
   "cell_type": "markdown",
   "id": "f0a58653",
   "metadata": {},
   "source": [
    "```\n",
    "False      await      else       import     pass\n",
    "None       break      except     in         raise\n",
    "True       class      finally    is         return\n",
    "and        continue   for        lambda     try\n",
    "as         def        from       nonlocal   while\n",
    "assert     del        global     not        with\n",
    "async      elif       if         or         yield\n",
    "```"
   ]
  },
  {
   "cell_type": "code",
   "execution_count": null,
   "id": "eb83f21e",
   "metadata": {},
   "outputs": [],
   "source": []
  },
  {
   "cell_type": "code",
   "execution_count": 26,
   "id": "78ab5679",
   "metadata": {},
   "outputs": [],
   "source": [
    "from keyword import kwlist # 譯註：kwlist 是一個包含所有 Python 關鍵字的列表"
   ]
  },
  {
   "cell_type": "code",
   "execution_count": 30,
   "id": "93323006",
   "metadata": {
    "lines_to_next_cell": 2
   },
   "outputs": [
    {
     "data": {
      "text/plain": [
       "35"
      ]
     },
     "execution_count": 30,
     "metadata": {},
     "output_type": "execute_result"
    }
   ],
   "source": [
    "len(kwlist) # 譯註：顯示 Python 關鍵字的數量"
   ]
  },
  {
   "cell_type": "markdown",
   "id": "4b0a386c",
   "metadata": {},
   "source": [
    "你不需要記住這個列表。在大多數的開發環境中，關鍵字會用不同的顏色顯示；如果你想用關鍵字當變數名稱，你就會知道了。"
   ]
  },
  {
   "cell_type": "markdown",
   "id": "9393c523",
   "metadata": {},
   "source": [
    "## import 陳述句\n",
    "\n",
    "為了使用某些 Python 功能，你必須 **匯入** (import) 它們。\n",
    "例如，下面的陳述句匯入了 `math` 模組。"
   ]
  },
  {
   "cell_type": "code",
   "execution_count": 31,
   "id": "9178ca29",
   "metadata": {
    "lines_to_next_cell": 2
   },
   "outputs": [],
   "source": [
    "import math"
   ]
  },
  {
   "cell_type": "markdown",
   "id": "0aaa15b9",
   "metadata": {},
   "source": [
    "**模組** (module) 是一堆變數和函式的集合。\n",
    "math 模組提供了一個叫做 `pi` 的變數，它包含了數學常數 $\\pi$ 的值。\n",
    "我們可以像這樣顯示它的值。"
   ]
  },
  {
   "cell_type": "code",
   "execution_count": 32,
   "id": "545cc513",
   "metadata": {
    "lines_to_next_cell": 2
   },
   "outputs": [
    {
     "data": {
      "text/plain": [
       "3.141592653589793"
      ]
     },
     "execution_count": 32,
     "metadata": {},
     "output_type": "execute_result"
    }
   ],
   "source": [
    "math.pi"
   ]
  },
  {
   "cell_type": "markdown",
   "id": "76802531",
   "metadata": {},
   "source": [
    "要使用模組中的變數，你必須在模組名稱和變數名稱之間使用 **點運算子** (`.`)。\n",
    "\n",
    "math 模組也包含函式。\n",
    "例如，`sqrt` 計算平方根。"
   ]
  },
  {
   "cell_type": "code",
   "execution_count": 33,
   "id": "78a8e574",
   "metadata": {
    "lines_to_next_cell": 2
   },
   "outputs": [
    {
     "data": {
      "text/plain": [
       "5.0"
      ]
     },
     "execution_count": 33,
     "metadata": {},
     "output_type": "execute_result"
    }
   ],
   "source": [
    "math.sqrt(25)"
   ]
  },
  {
   "cell_type": "markdown",
   "id": "2b0bbecc",
   "metadata": {},
   "source": [
    "而 `pow` 計算一個數字的次方。"
   ]
  },
  {
   "cell_type": "code",
   "execution_count": 37,
   "id": "ea52ce5d",
   "metadata": {
    "lines_to_next_cell": 2
   },
   "outputs": [
    {
     "data": {
      "text/plain": [
       "625.0"
      ]
     },
     "execution_count": 37,
     "metadata": {},
     "output_type": "execute_result"
    }
   ],
   "source": [
    "math.pow(5, 4) # 譯註：計算 5 的 2 次方"
   ]
  },
  {
   "cell_type": "markdown",
   "id": "76ff8f37",
   "metadata": {},
   "source": [
    "到目前為止，我們看過兩種計算次方的方法：可以用 `math.pow` 函式，也可以用次方運算子 `**`。\n",
    "兩種都可以，但運算子比函式更常用。"
   ]
  },
  {
   "cell_type": "code",
   "execution_count": 38,
   "id": "4218663c",
   "metadata": {},
   "outputs": [
    {
     "data": {
      "text/plain": [
       "25"
      ]
     },
     "execution_count": 38,
     "metadata": {},
     "output_type": "execute_result"
    }
   ],
   "source": [
    "5**2"
   ]
  },
  {
   "cell_type": "markdown",
   "id": "47f3d87b",
   "metadata": {},
   "source": [
    "## 運算式與陳述句\n",
    "\n",
    "到目前為止，我們已經看過幾種運算式。\n",
    "一個運算式可以是一個單獨的值，像是整數、浮點數或字串。\n",
    "它也可以是一堆值和運算子的組合。\n",
    "而且它可以包含變數名稱和函式呼叫。\n",
    "這裡有一個包含好幾個這些元素的運算式。"
   ]
  },
  {
   "cell_type": "code",
   "execution_count": 39,
   "id": "e9c71131",
   "metadata": {
    "lines_to_next_cell": 2
   },
   "outputs": [
    {
     "data": {
      "text/plain": [
       "42"
      ]
     },
     "execution_count": 39,
     "metadata": {},
     "output_type": "execute_result"
    }
   ],
   "source": [
    "19 + n + round(math.pi) * 2"
   ]
  },
  {
   "cell_type": "markdown",
   "id": "cf651999",
   "metadata": {},
   "source": [
    "我們也看過幾種陳述句。\n",
    "**陳述句** (statement) 是一段有效果但沒有值的程式碼。\n",
    "例如，賦值陳述句會建立一個變數並給它一個值，但陳述句本身沒有值。"
   ]
  },
  {
   "cell_type": "code",
   "execution_count": null,
   "id": "2a50ee58",
   "metadata": {
    "lines_to_next_cell": 2
   },
   "outputs": [],
   "source": [
    "n = 17"
   ]
  },
  {
   "cell_type": "markdown",
   "id": "c3602a3c",
   "metadata": {},
   "source": [
    "同樣地，import 陳述句有效果——它匯入一個模組，讓我們可以使用它包含的變數和函式——但它沒有看得見的效果。"
   ]
  },
  {
   "cell_type": "code",
   "execution_count": 41,
   "id": "03df20d7",
   "metadata": {
    "lines_to_next_cell": 2
   },
   "outputs": [],
   "source": [
    "import math"
   ]
  },
  {
   "cell_type": "markdown",
   "id": "8679c29e",
   "metadata": {},
   "source": [
    "計算運算式的值叫做 **求值** (evaluation)。\n",
    "執行一個陳述句叫做 **執行** (execution)。"
   ]
  },
  {
   "cell_type": "markdown",
   "id": "8cdf7a0d",
   "metadata": {},
   "source": [
    "## print 函式\n",
    "\n",
    "當你對一個運算式求值時，結果會被顯示出來。(在 Jupyter Notebook 或 Python 直譯器環境中)"
   ]
  },
  {
   "cell_type": "code",
   "execution_count": 42,
   "id": "6b2dc3e1",
   "metadata": {
    "lines_to_next_cell": 2
   },
   "outputs": [
    {
     "data": {
      "text/plain": [
       "18"
      ]
     },
     "execution_count": 42,
     "metadata": {},
     "output_type": "execute_result"
    }
   ],
   "source": [
    "n + 1"
   ]
  },
  {
   "cell_type": "markdown",
   "id": "fe5a045a",
   "metadata": {},
   "source": [
    "但如果你對多個運算式求值，只有最後一個的值會被顯示出來。(在 Jupyter Notebook 或 Python 直譯器的一個儲存格/輸入行中)"
   ]
  },
  {
   "cell_type": "code",
   "execution_count": 43,
   "id": "eeffae46",
   "metadata": {
    "lines_to_next_cell": 2
   },
   "outputs": [
    {
     "data": {
      "text/plain": [
       "20"
      ]
     },
     "execution_count": 43,
     "metadata": {},
     "output_type": "execute_result"
    }
   ],
   "source": [
    "n + 2\n",
    "n + 3"
   ]
  },
  {
   "cell_type": "markdown",
   "id": "1575ca41",
   "metadata": {},
   "source": [
    "要顯示多個值，你可以使用 `print` 函式。"
   ]
  },
  {
   "cell_type": "code",
   "execution_count": 44,
   "id": "72e086ca",
   "metadata": {
    "lines_to_next_cell": 2
   },
   "outputs": [
    {
     "name": "stdout",
     "output_type": "stream",
     "text": [
      "19\n",
      "20\n"
     ]
    }
   ],
   "source": [
    "print(n+2)\n",
    "print(n+3)"
   ]
  },
  {
   "cell_type": "markdown",
   "id": "5a647b06",
   "metadata": {},
   "source": [
    "它對浮點數和字串也有效。"
   ]
  },
  {
   "cell_type": "code",
   "execution_count": 45,
   "id": "fe2a30d3",
   "metadata": {
    "lines_to_next_cell": 2
   },
   "outputs": [
    {
     "name": "stdout",
     "output_type": "stream",
     "text": [
      "pi 的值大約是\n",
      "3.141592653589793\n"
     ]
    }
   ],
   "source": [
    "print('pi 的值大約是') # 譯註：將英文改為中文\n",
    "print(math.pi)"
   ]
  },
  {
   "cell_type": "markdown",
   "id": "f63cff97",
   "metadata": {},
   "source": [
    "你也可以使用一連串用逗號隔開的運算式。"
   ]
  },
  {
   "cell_type": "code",
   "execution_count": 46,
   "id": "4c2061bf",
   "metadata": {
    "lines_to_next_cell": 2
   },
   "outputs": [
    {
     "name": "stdout",
     "output_type": "stream",
     "text": [
      "pi 的值大約是 3.141592653589793\n"
     ]
    }
   ],
   "source": [
    "print('pi 的值大約是', math.pi) # 譯註：將英文改為中文"
   ]
  },
  {
   "cell_type": "markdown",
   "id": "023ca4b7",
   "metadata": {},
   "source": [
    "注意 `print` 函式會在值之間放一個空格。"
   ]
  },
  {
   "cell_type": "markdown",
   "id": "98c08f5e",
   "metadata": {},
   "source": [
    "## 引數 (Arguments)\n",
    "\n",
    "當你呼叫一個函式時，括號裡的運算式叫做 **引數** (argument)。\n",
    "一般來說我會解釋為什麼，但在這個例子中，這個詞的技術含義和它的一般含義幾乎沒有關係，所以我甚至不打算試著解釋。\n",
    "\n",
    "我們目前看過的一些函式只需要一個引數，像是 `int`。"
   ]
  },
  {
   "cell_type": "code",
   "execution_count": 47,
   "id": "79fc1b36",
   "metadata": {
    "lines_to_next_cell": 2
   },
   "outputs": [
    {
     "data": {
      "text/plain": [
       "101"
      ]
     },
     "execution_count": 47,
     "metadata": {},
     "output_type": "execute_result"
    }
   ],
   "source": [
    "int('101') # 譯註：將字串 '101' 轉換為整數 101"
   ]
  },
  {
   "cell_type": "markdown",
   "id": "52a7c152",
   "metadata": {},
   "source": [
    "有些需要兩個，像是 `math.pow`。"
   ]
  },
  {
   "cell_type": "code",
   "execution_count": 48,
   "id": "ef94c43b",
   "metadata": {
    "lines_to_next_cell": 2
   },
   "outputs": [
    {
     "data": {
      "text/plain": [
       "25.0"
      ]
     },
     "execution_count": 48,
     "metadata": {},
     "output_type": "execute_result"
    }
   ],
   "source": [
    "math.pow(5, 2) # 譯註：5 的 2 次方"
   ]
  },
  {
   "cell_type": "markdown",
   "id": "5161039c",
   "metadata": {},
   "source": [
    "有些函式可以接受額外的、可選的引數。\n",
    "例如，`int` 可以接受第二個引數，用來指定數字的基底（進位制）。"
   ]
  },
  {
   "cell_type": "code",
   "execution_count": 52,
   "id": "eea3d7e6",
   "metadata": {
    "lines_to_next_cell": 2
   },
   "outputs": [
    {
     "data": {
      "text/plain": [
       "5"
      ]
     },
     "execution_count": 52,
     "metadata": {},
     "output_type": "execute_result"
    }
   ],
   "source": [
    "int('101', 2) # 譯註：將二進位的 '101' 轉換為十進位的 5"
   ]
  },
  {
   "cell_type": "markdown",
   "id": "5b1d8380",
   "metadata": {},
   "source": [
    "二進位的數字序列 `101` 代表十進位的數字 5。\n",
    "\n",
    "`round` 也可以接受一個可選的第二個引數，也就是要四捨五入到的小數位數。"
   ]
  },
  {
   "cell_type": "code",
   "execution_count": 53,
   "id": "ebf461c4",
   "metadata": {
    "lines_to_next_cell": 2
   },
   "outputs": [
    {
     "data": {
      "text/plain": [
       "3.142"
      ]
     },
     "execution_count": 53,
     "metadata": {},
     "output_type": "execute_result"
    }
   ],
   "source": [
    "round(math.pi, 3) # 譯註：將 pi 四捨五入到小數點後三位"
   ]
  },
  {
   "cell_type": "markdown",
   "id": "0cc12e3e",
   "metadata": {},
   "source": [
    "有些函式可以接受任意數量的引數，像是 `print`。"
   ]
  },
  {
   "cell_type": "code",
   "execution_count": 54,
   "id": "b54b05bb",
   "metadata": {
    "lines_to_next_cell": 2
   },
   "outputs": [
    {
     "name": "stdout",
     "output_type": "stream",
     "text": [
      "任意 數量 的 引數\n"
     ]
    }
   ],
   "source": [
    "print('任意', '數量', '的', '引數') # 譯註：將英文改為中文"
   ]
  },
  {
   "cell_type": "markdown",
   "id": "76e41c3d",
   "metadata": {},
   "source": [
    "如果你呼叫函式時提供了太多引數，那會是個 `TypeError` (型別錯誤)。"
   ]
  },
  {
   "cell_type": "code",
   "execution_count": 56,
   "id": "5926a772",
   "metadata": {
    "lines_to_next_cell": 2
   },
   "outputs": [
    {
     "data": {
      "text/plain": [
       "123.0"
      ]
     },
     "execution_count": 56,
     "metadata": {},
     "output_type": "execute_result"
    }
   ],
   "source": [
    "get_ipython().run_cell_magic('expect', 'TypeError', \"\\nfloat('123.0')\\n\") # 譯註：這裡預期會發生 TypeError，因為 float() 不接受第二個引數"
   ]
  },
  {
   "cell_type": "markdown",
   "id": "d96b0918",
   "metadata": {},
   "source": [
    "如果你提供的引數太少，那也是個 `TypeError`。"
   ]
  },
  {
   "cell_type": "code",
   "execution_count": 57,
   "id": "f0791ec3",
   "metadata": {
    "lines_to_next_cell": 2
   },
   "outputs": [
    {
     "ename": "TypeError",
     "evalue": "pow expected 2 arguments, got 1",
     "output_type": "error",
     "traceback": [
      "\u001b[31mTypeError\u001b[39m\u001b[31m:\u001b[39m pow expected 2 arguments, got 1\n"
     ]
    }
   ],
   "source": [
    "get_ipython().run_cell_magic('expect', 'TypeError', '\\nmath.pow(2)\\n') # 譯註：這裡預期會發生 TypeError，因為 math.pow() 需要兩個引數"
   ]
  },
  {
   "cell_type": "markdown",
   "id": "178907ff",
   "metadata": {},
   "source": [
    "如果你提供了一個函式無法處理的型別的引數，那也是個 `TypeError`。"
   ]
  },
  {
   "cell_type": "code",
   "execution_count": 58,
   "id": "4fa0b9eb",
   "metadata": {
    "lines_to_next_cell": 2
   },
   "outputs": [
    {
     "ename": "TypeError",
     "evalue": "must be real number, not str",
     "output_type": "error",
     "traceback": [
      "\u001b[31mTypeError\u001b[39m\u001b[31m:\u001b[39m must be real number, not str\n"
     ]
    }
   ],
   "source": [
    "get_ipython().run_cell_magic('expect', 'TypeError', \"\\nmath.sqrt('123')\\n\") # 譯註：這裡預期會發生 TypeError，因為 math.sqrt() 不能處理字串"
   ]
  },
  {
   "cell_type": "markdown",
   "id": "4fa58773",
   "metadata": {},
   "source": [
    "這種檢查在你剛開始學的時候可能會有點煩人，但它能幫助你偵測和修正錯誤。"
   ]
  },
  {
   "cell_type": "markdown",
   "id": "6b00ff63",
   "metadata": {},
   "source": [
    "## 註解 (Comments)\n",
    "\n",
    "隨著程式越來越大、越來越複雜，它們也越來越難閱讀。\n",
    "形式語言很精煉，常常很難看懂一段程式碼在做什麼以及為什麼這麼做。\n",
    "\n",
    "因此，在你的程式中加入筆記，用自然語言解釋程式在做什麼，是個好主意。\n",
    "這些筆記叫做 **註解** (comments)，它們以 `#` 符號開頭。"
   ]
  },
  {
   "cell_type": "code",
   "execution_count": null,
   "id": "261f9128",
   "metadata": {
    "lines_to_next_cell": 2
   },
   "outputs": [],
   "source": [
    "# 42分42秒的總秒數\n",
    "seconds = 42 * 60 + 42"
   ]
  },
  {
   "cell_type": "markdown",
   "id": "d0d9de87",
   "metadata": {},
   "source": [
    "在這個例子中，註解自己佔了一行。你也可以把註解放在一行的結尾："
   ]
  },
  {
   "cell_type": "code",
   "execution_count": 59,
   "id": "bd021254",
   "metadata": {
    "lines_to_next_cell": 2
   },
   "outputs": [],
   "source": [
    "miles = 10 / 1.61     # 10公里換算成英里"
   ]
  },
  {
   "cell_type": "markdown",
   "id": "3d26ad71",
   "metadata": {},
   "source": [
    "從 `#` 到行尾的所有內容都會被忽略——它對程式的執行沒有任何影響。\n",
    "\n",
    "註解在記錄程式碼中不明顯的特性時最有用。\n",
    "我們可以合理地假設讀者能看懂程式碼在 *做什麼*；解釋 *為什麼* 這麼做更有用。\n",
    "\n",
    "這個註解和程式碼重複了，沒什麼用："
   ]
  },
  {
   "cell_type": "code",
   "execution_count": 60,
   "id": "be179694",
   "metadata": {
    "lines_to_next_cell": 2
   },
   "outputs": [],
   "source": [
    "v = 8     # 把 8 賦值給 v"
   ]
  },
  {
   "cell_type": "markdown",
   "id": "250df3f0",
   "metadata": {},
   "source": [
    "這個註解包含了程式碼中沒有的有用資訊："
   ]
  },
  {
   "cell_type": "code",
   "execution_count": 61,
   "id": "d8379910",
   "metadata": {
    "lines_to_next_cell": 2
   },
   "outputs": [],
   "source": [
    "v = 8     # 速度，單位是英里/小時"
   ]
  },
  {
   "cell_type": "markdown",
   "id": "88603b6d",
   "metadata": {},
   "source": [
    "好的變數名稱可以減少對註解的需求，但是長的名稱可能會讓複雜的運算式難以閱讀，所以這是一個取捨。"
   ]
  },
  {
   "cell_type": "markdown",
   "id": "a85b34c8",
   "metadata": {},
   "source": [
    "## 除錯 (Debugging)\n",
    "\n",
    "程式中可能發生三種錯誤：語法錯誤、執行期錯誤和語義錯誤。\n",
    "區分它們有助於更快地找出問題。\n",
    "\n",
    "* **語法錯誤 (Syntax error)**：「語法」指的是程式的結構以及關於該結構的規則。如果你的程式任何地方有語法錯誤，Python 不會執行這個程式。它會立刻顯示錯誤訊息。\n",
    "\n",
    "* **執行期錯誤 (Runtime error)**：如果你的程式沒有語法錯誤，它就可以開始執行。但如果執行過程中出了問題，Python 會顯示錯誤訊息並停止。這種錯誤稱為執行期錯誤。它也被稱為 **例外** (exception)，因為它表示發生了例外情況。\n",
    "\n",
    "* **語義錯誤 (Semantic error)**：第三種錯誤是「語義」錯誤，意思是與「意義」相關。如果你的程式有語義錯誤，它會執行而不會產生錯誤訊息，但它不會做你想要它做的事。找出語義錯誤可能很棘手，因為你需要透過觀察程式的輸出來反向推敲它到底在做什麼。"
   ]
  },
  {
   "cell_type": "markdown",
   "id": "3c8e3fce",
   "metadata": {},
   "source": [
    "如同我們所見，不合法的變數名稱是一個語法錯誤。"
   ]
  },
  {
   "cell_type": "code",
   "execution_count": 62,
   "id": "9d816ede",
   "metadata": {
    "lines_to_next_cell": 2
   },
   "outputs": [
    {
     "ename": "SyntaxError",
     "evalue": "invalid syntax (4061783710.py, line 1)",
     "output_type": "error",
     "traceback": [
      "  \u001b[36mCell\u001b[39m\u001b[36m \u001b[39m\u001b[32mIn[62]\u001b[39m\u001b[32m, line 1\u001b[39m\n\u001b[31m    \u001b[39m\u001b[31mmillion! = 1000000\u001b[39m\n           ^\n\u001b[31mSyntaxError\u001b[39m\u001b[31m:\u001b[39m invalid syntax\n"
     ]
    }
   ],
   "source": [
    "get_ipython().run_cell_magic('expect', 'SyntaxError', '\\nmillion! = 1000000\\n') # 譯註：預期語法錯誤"
   ]
  },
  {
   "cell_type": "markdown",
   "id": "d0dbcf3a",
   "metadata": {},
   "source": [
    "如果你對一個運算子使用了它不支援的型別，那是一個執行期錯誤。"
   ]
  },
  {
   "cell_type": "code",
   "execution_count": 63,
   "id": "9838ffa2",
   "metadata": {
    "lines_to_next_cell": 2
   },
   "outputs": [
    {
     "ename": "TypeError",
     "evalue": "unsupported operand type(s) for /: 'str' and 'int'",
     "output_type": "error",
     "traceback": [
      "\u001b[31mTypeError\u001b[39m\u001b[31m:\u001b[39m unsupported operand type(s) for /: 'str' and 'int'\n"
     ]
    }
   ],
   "source": [
    "get_ipython().run_cell_magic('expect', 'TypeError', \"\\n'126' / 3\\n\") # 譯註：預期 TypeError，字串不能除以數字"
   ]
  },
  {
   "cell_type": "markdown",
   "id": "8a71eac6",
   "metadata": {},
   "source": [
    "最後，這裡有一個語義錯誤的例子。\n",
    "假設我們想計算 `1` 和 `3` 的平均值，但我們忘了運算順序，寫成這樣："
   ]
  },
  {
   "cell_type": "code",
   "execution_count": 65,
   "id": "5e40c8fd",
   "metadata": {
    "lines_to_next_cell": 2
   },
   "outputs": [
    {
     "data": {
      "text/plain": [
       "2.0"
      ]
     },
     "execution_count": 65,
     "metadata": {},
     "output_type": "execute_result"
    }
   ],
   "source": [
    "(1 + 3) / 2"
   ]
  },
  {
   "cell_type": "markdown",
   "id": "b6582618",
   "metadata": {},
   "source": [
    "當這個運算式被求值時，它不會產生錯誤訊息，所以沒有語法錯誤或執行期錯誤。\n",
    "但結果不是 `1` 和 `3` 的平均值，所以程式不正確。\n",
    "這是一個語義錯誤，因為程式執行了，但沒有做預期的事情。 (譯註：正確的平均值是 (1+3)/2 = 2，而 1 + 3/2 = 1 + 1.5 = 2.5)"
   ]
  },
  {
   "cell_type": "markdown",
   "id": "b047e5f5",
   "metadata": {},
   "source": [
    "## 詞彙表\n",
    "\n",
    "**變數 (variable):**\n",
    "一個指向值的名稱。\n",
    "\n",
    "**賦值陳述句 (assignment statement):**\n",
    "一個將值賦予變數的陳述句。\n",
    "\n",
    "**狀態圖 (state diagram):**\n",
    "一種圖形表示法，用來呈現一組變數以及它們所指向的值。\n",
    "\n",
    "**關鍵字 (keyword):**\n",
    "一個特殊的字，用來指定程式的結構。\n",
    "\n",
    "**import 陳述句 (import statement):**\n",
    "一個讀取模組檔案的陳述句，這樣我們就可以使用它包含的變數和函式。\n",
    "\n",
    "**模組 (module):**\n",
    "一個包含 Python 程式碼的檔案，包括函式定義，有時也包含其他陳述句。\n",
    "\n",
    "**點運算子 (dot operator):**\n",
    "運算子 `.`，用來存取另一個模組中的函式或變數，方法是指定模組名稱，後面跟著一個點和函式/變數名稱。\n",
    "\n",
    "**求值 (evaluate):**\n",
    "執行運算式中的運算以計算出一個值。\n",
    "\n",
    "**陳述句 (statement):**\n",
    "一行或多行程式碼，代表一個命令或動作。\n",
    "\n",
    "**執行 (execute):**\n",
    "執行一個陳述句並完成它所說的事情。\n",
    "\n",
    "**引數 (argument):**\n",
    "呼叫函式時提供給函式的值。\n",
    "\n",
    "**註解 (comment):**\n",
    "包含在程式中，提供關於程式的資訊，但對其執行沒有影響的文字。\n",
    "\n",
    "**執行期錯誤 (runtime error):**\n",
    "導致程式顯示錯誤訊息並退出的錯誤。\n",
    "\n",
    "**例外 (exception):**\n",
    "程式執行期間偵測到的錯誤。\n",
    "\n",
    "**語義錯誤 (semantic error):**\n",
    "導致程式做錯事，但不會顯示錯誤訊息的錯誤。"
   ]
  },
  {
   "cell_type": "markdown",
   "id": "c2c94881",
   "metadata": {},
   "source": [
    "## 練習"
   ]
  },
  {
   "cell_type": "markdown",
   "id": "f54f28b8",
   "metadata": {},
   "source": [
    "這個儲存格告訴 Jupyter 在發生執行期錯誤時提供詳細的除錯資訊。\n",
    "在做練習之前先執行它。"
   ]
  },
  {
   "cell_type": "code",
   "execution_count": 66,
   "id": "3165d9db",
   "metadata": {
    "lines_to_next_cell": 2
   },
   "outputs": [
    {
     "name": "stdout",
     "output_type": "stream",
     "text": [
      "Exception reporting mode: Verbose\n"
     ]
    }
   ],
   "source": [
    "get_ipython().run_line_magic('xmode', 'Verbose')"
   ]
  },
  {
   "cell_type": "markdown",
   "id": "cc765760",
   "metadata": {},
   "source": [
    "### 問問虛擬助理\n",
    "\n",
    "再次，我鼓勵你使用虛擬助理來學習更多關於本章任何主題的知識。\n",
    "\n",
    "如果你對我列出的任何關鍵字感到好奇，你可以問「為什麼 class 是個關鍵字？」或「為什麼變數名稱不能是關鍵字？」\n",
    "\n",
    "你可能已經注意到 `int`、`float` 和 `str` 不是 Python 關鍵字。\n",
    "它們是代表型別的變數，並且可以作為函式使用。\n",
    "所以，用這些名稱作為變數或函式名稱是 *合法的*，但強烈不建議這樣做。問問助理「為什麼用 int、float 和 str 作為變數名稱是不好的？」\n",
    "\n",
    "另外也問問，「Python 中有哪些內建函式？」\n",
    "如果你對其中任何一個感到好奇，可以要求更多資訊。\n",
    "\n",
    "在本章中，我們匯入了 `math` 模組並使用它提供的一些變數和函式。問問助理，「math 模組中有哪些變數和函式？」以及「除了 math 之外，還有哪些模組被認為是 Python 的核心模組？」"
   ]
  },
  {
   "cell_type": "markdown",
   "id": "a652b527",
   "metadata": {},
   "source": [
    "### 練習\n",
    "\n",
    "重複我上一章的建議，每當你學習一個新功能時，你應該故意犯錯，看看會發生什麼問題。\n",
    "\n",
    "-   我們已經看到 `n = 17` 是合法的。那麼 `17 = n` 呢？ (譯註：試試看會發生什麼錯誤！)\n",
    "\n",
    "-   `x = y = 1` 怎麼樣？ (譯註：這合法嗎？x 和 y 的值會是什麼？)\n",
    "\n",
    "-   在某些語言中，每個陳述句都以分號 (`;`) 結尾。如果你在 Python 陳述句的結尾加上分號會發生什麼事？ (譯註：Python 通常不需要分號，但加了會怎樣？)\n",
    "\n",
    "-   如果你在陳述句的結尾加上句點 (`.`) 呢？ (譯註：這會是合法的 Python 語法嗎？)\n",
    "\n",
    "-   如果你拼錯了模組的名稱，試圖匯入 `maath` 會發生什麼事？ (譯註：例如打成 `import maath` 而不是 `import math`)"
   ]
  },
  {
   "cell_type": "code",
   "execution_count": 73,
   "id": "5c7c6f73",
   "metadata": {},
   "outputs": [],
   "source": [
    "import math"
   ]
  },
  {
   "cell_type": "markdown",
   "id": "b0b31599",
   "metadata": {},
   "source": [
    "### 練習\n",
    "練習使用 Python 直譯器當作計算機：\n",
    "\n",
    "**第 1 部分：** 半徑為 $r$ 的球體體積是 $\\frac{4}{3} \\pi r^3$。\n",
    "半徑為 5 的球體體積是多少？從一個名為 `radius` 的變數開始，然後將結果賦值給一個名為 `volume` 的變數。顯示結果。加上註解說明 `radius` 的單位是公分，`volume` 的單位是立方公分。"
   ]
  },
  {
   "cell_type": "code",
   "execution_count": 74,
   "id": "94bff137",
   "metadata": {},
   "outputs": [
    {
     "name": "stdout",
     "output_type": "stream",
     "text": [
      "The volume of the sphere is 523.5987755982989\n"
     ]
    }
   ],
   "source": [
    "radius  = 5 #單位：公分\n",
    "volume = 4/3 * math.pi * radius ** 3\n",
    "print('The volume of the sphere is', volume)"
   ]
  },
  {
   "cell_type": "markdown",
   "id": "d9c0495e",
   "metadata": {},
   "source": [
    "解答"
   ]
  },
  {
   "cell_type": "code",
   "execution_count": 75,
   "id": "3654a4bc",
   "metadata": {
    "lines_to_next_cell": 2
   },
   "outputs": [
    {
     "data": {
      "text/plain": [
       "523.5987755982989"
      ]
     },
     "execution_count": 75,
     "metadata": {},
     "output_type": "execute_result"
    }
   ],
   "source": [
    "radius = 5                            # 單位：公分\n",
    "volume = 4 / 3 * math.pi * radius**3  # 單位：立方公分\n",
    "volume"
   ]
  },
  {
   "cell_type": "markdown",
   "id": "1889ae0b",
   "metadata": {},
   "source": [
    "**第 2 部分：** 三角學的一個法則是，對於任何 $x$ 值，$(\\cos x)^2 + (\\sin x)^2 = 1$。讓我們看看對於特定的 $x$ 值，例如 42，這是否成立。\n",
    "\n",
    "建立一個名為 `x` 並賦予這個值的變數。\n",
    "然後使用 `math.cos` 和 `math.sin` 計算 $x$ 的餘弦和正弦，以及它們平方的總和。\n",
    "\n",
    "結果應該接近 1。它可能不完全是 1，因為浮點數運算不是精確的——它只是近似正確。"
   ]
  },
  {
   "cell_type": "markdown",
   "id": "4380a6ce",
   "metadata": {
    "lines_to_next_cell": 2
   },
   "source": [
    "In[52]: # 譯註：原 In[45] 在我的環境變成 In[52]，不影響程式碼"
   ]
  },
  {
   "cell_type": "markdown",
   "id": "394b0dd5",
   "metadata": {},
   "source": [
    "解答"
   ]
  },
  {
   "cell_type": "code",
   "execution_count": 76,
   "id": "4d88f9c5",
   "metadata": {
    "lines_to_next_cell": 2
   },
   "outputs": [
    {
     "data": {
      "text/plain": [
       "1.0"
      ]
     },
     "execution_count": 76,
     "metadata": {},
     "output_type": "execute_result"
    }
   ],
   "source": [
    "x = 42\n",
    "math.cos(x)**2 + math.sin(x)**2"
   ]
  },
  {
   "cell_type": "markdown",
   "id": "dc9a547f",
   "metadata": {},
   "source": [
    "**第 3 部分：** 除了 `pi` 之外，`math` 模組中定義的另一個變數是 `e`，它代表自然對數的底，數學符號寫作 $e$。如果你不熟悉這個值，可以問虛擬助理「什麼是 `math.e`？」現在讓我們用三種方法計算 $e^2$：\n",
    "\n",
    "* 使用 `math.e` 和次方運算子 (`**`)。\n",
    "\n",
    "* 使用 `math.pow` 將 `math.e` 提高到 `2` 次方。\n",
    "\n",
    "* 使用 `math.exp`，它接受一個引數值 $x$，並計算 $e^x$。\n",
    "\n",
    "你可能會注意到最後一個結果與前兩個略有不同。\n",
    "試著找出哪一個是正確的。(提示：可以查閱 `math.exp` 的文件或比較它們的精確度)"
   ]
  },
  {
   "cell_type": "markdown",
   "id": "e705a571",
   "metadata": {},
   "source": [
    "解答"
   ]
  },
  {
   "cell_type": "code",
   "execution_count": 79,
   "id": "4f7fa4ed",
   "metadata": {
    "lines_to_next_cell": 2
   },
   "outputs": [
    {
     "data": {
      "text/plain": [
       "7.3890560989306495"
      ]
     },
     "execution_count": 79,
     "metadata": {},
     "output_type": "execute_result"
    }
   ],
   "source": [
    "math.e ** 2"
   ]
  },
  {
   "cell_type": "markdown",
   "id": "84dc3d4f",
   "metadata": {},
   "source": [
    "解答"
   ]
  },
  {
   "cell_type": "code",
   "execution_count": 80,
   "id": "542dcf74",
   "metadata": {
    "lines_to_next_cell": 2
   },
   "outputs": [
    {
     "data": {
      "text/plain": [
       "7.3890560989306495"
      ]
     },
     "execution_count": 80,
     "metadata": {},
     "output_type": "execute_result"
    }
   ],
   "source": [
    "math.pow(math.e, 2)"
   ]
  },
  {
   "cell_type": "markdown",
   "id": "0a528c87",
   "metadata": {},
   "source": [
    "解答"
   ]
  },
  {
   "cell_type": "code",
   "execution_count": 82,
   "id": "930d2f41",
   "metadata": {
    "lines_to_next_cell": 2
   },
   "outputs": [
    {
     "data": {
      "text/plain": [
       "7.38905609893065"
      ]
     },
     "execution_count": 82,
     "metadata": {},
     "output_type": "execute_result"
    }
   ],
   "source": [
    "math.exp(2)"
   ]
  },
  {
   "cell_type": "markdown",
   "id": "05dac65e",
   "metadata": {},
   "source": [
    "In[ ]:"
   ]
  },
  {
   "cell_type": "markdown",
   "id": "b48f1fba",
   "metadata": {},
   "source": [
    "[Think Python: 3rd Edition](https://allendowney.github.io/ThinkPython/index.html)\n",
    "\n",
    "Copyright 2024 [Allen B. Downey](https://allendowney.com)\n",
    "\n",
    "程式碼授權: [MIT License](https://mit-license.org/)\n",
    "\n",
    "文字授權: [Creative Commons Attribution-NonCommercial-ShareAlike 4.0 International](https://creativecommons.org/licenses/by-nc-sa/4.0/)"
   ]
  }
 ],
 "metadata": {
  "jupytext": {
   "cell_metadata_filter": "-all",
   "encoding": "# coding: utf-8",
   "executable": "/usr/bin/env python",
   "main_language": "python",
   "notebook_metadata_filter": "-all"
  },
  "kernelspec": {
   "display_name": ".venv",
   "language": "python",
   "name": "python3"
  },
  "language_info": {
   "codemirror_mode": {
    "name": "ipython",
    "version": 3
   },
   "file_extension": ".py",
   "mimetype": "text/x-python",
   "name": "python",
   "nbconvert_exporter": "python",
   "pygments_lexer": "ipython3",
   "version": "3.12.2"
  }
 },
 "nbformat": 4,
 "nbformat_minor": 5
}
