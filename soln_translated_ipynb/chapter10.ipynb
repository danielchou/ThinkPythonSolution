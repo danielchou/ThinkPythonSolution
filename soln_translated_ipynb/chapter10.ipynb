{
 "cells": [
  {
   "cell_type": "markdown",
   "id": "79ef3891",
   "metadata": {},
   "source": [
    "從 chap10.ipynb 轉換而來\n",
    "使用 ipynb_to_py.py 腳本自動轉換"
   ]
  },
  {
   "cell_type": "markdown",
   "id": "f6faf33e",
   "metadata": {},
   "source": [
    "你可以從以下網站訂購《Think Python 3e》的紙本版和電子書：\n",
    "[Bookshop.org](https://bookshop.org/a/98697/9781098155438) 和\n",
    "[Amazon](https://www.amazon.com/_/dp/1098155432?smid=ATVPDKIKX0DER&_encoding=UTF8&tag=oreilly20-20&_encoding=UTF8&tag=greenteapre01-20&linkCode=ur2&linkId=e2a529f94920295d27ec8a06e757dc7c&camp=1789&creative=9325)."
   ]
  },
  {
   "cell_type": "code",
   "execution_count": null,
   "id": "8aa9e372",
   "metadata": {
    "lines_to_next_cell": 1
   },
   "outputs": [],
   "source": [
    "from os.path import basename, exists"
   ]
  },
  {
   "cell_type": "code",
   "execution_count": null,
   "id": "dffa0b64",
   "metadata": {
    "lines_to_next_cell": 1
   },
   "outputs": [],
   "source": [
    "def download(url):\n",
    "    filename = basename(url)\n",
    "    if not exists(filename):\n",
    "        from urllib.request import urlretrieve\n",
    "\n",
    "        local, _ = urlretrieve(url, filename)\n",
    "        print(\"已下載 \" + str(local)) # 把下載訊息也中文化\n",
    "    return filename"
   ]
  },
  {
   "cell_type": "code",
   "execution_count": null,
   "id": "a16696a6",
   "metadata": {},
   "outputs": [],
   "source": [
    "download('https://github.com/AllenDowney/ThinkPython/raw/v3/thinkpython.py');\n",
    "download('https://github.com/AllenDowney/ThinkPython/raw/v3/diagram.py');"
   ]
  },
  {
   "cell_type": "code",
   "execution_count": null,
   "id": "8b157758",
   "metadata": {},
   "outputs": [],
   "source": [
    "import thinkpython"
   ]
  },
  {
   "cell_type": "markdown",
   "id": "db8e37e7",
   "metadata": {},
   "source": [
    "# 字典 (Dictionaries)\n",
    "\n",
    "這一章要介紹一個叫做字典 (dictionary) 的內建型別。\n",
    "它是 Python 最棒的功能之一 —— 也是許多高效率且優雅演算法的基石。\n",
    "\n",
    "我們會用字典來計算一本書中有多少個不重複的單字，以及每個單字出現的次數。\n",
    "在練習題中，我們還會用字典來解決一些文字謎題。"
   ]
  },
  {
   "cell_type": "markdown",
   "id": "29dc79fd",
   "metadata": {},
   "source": [
    "## 字典是一種對應 (A dictionary is a mapping)\n",
    "\n",
    "**字典 (dictionary)** 有點像列表 (list)，但功能更廣泛。\n",
    "在列表中，索引必須是整數；但在字典中，索引幾乎可以是任何型別。\n",
    "舉例來說，假設我們建立一個數字單字的列表，像這樣："
   ]
  },
  {
   "cell_type": "code",
   "execution_count": null,
   "id": "9aed67a4",
   "metadata": {},
   "outputs": [],
   "source": [
    "lst = ['zero', 'one', 'two'] # 零、一、二"
   ]
  },
  {
   "cell_type": "markdown",
   "id": "a3d20355",
   "metadata": {},
   "source": [
    "我們可以用整數當作索引來取得對應的單字。"
   ]
  },
  {
   "cell_type": "code",
   "execution_count": null,
   "id": "ecd289f2",
   "metadata": {},
   "outputs": [],
   "source": [
    "lst[1] # 取得索引為 1 的元素，也就是 'one'"
   ]
  },
  {
   "cell_type": "markdown",
   "id": "fd9063d0",
   "metadata": {},
   "source": [
    "但假設我們想反過來，查一個單字來得到對應的整數。\n",
    "用列表做不到這件事，但用字典就可以了。\n",
    "我們先建立一個空字典，然後把它指派給變數 `numbers`。"
   ]
  },
  {
   "cell_type": "code",
   "execution_count": null,
   "id": "3c23ad48",
   "metadata": {},
   "outputs": [],
   "source": [
    "numbers = {} # 大括號 {} 代表空字典\n",
    "numbers"
   ]
  },
  {
   "cell_type": "markdown",
   "id": "2381488a",
   "metadata": {},
   "source": [
    "大括號 `{}` 代表一個空字典。\n",
    "要把項目 (item) 加到字典裡，我們會用方括號 `[]`。"
   ]
  },
  {
   "cell_type": "code",
   "execution_count": null,
   "id": "2f55b63c",
   "metadata": {},
   "outputs": [],
   "source": [
    "numbers['zero'] = 0 # 把 'zero' 這個鍵 (key) 對應到 0 這個值 (value)"
   ]
  },
  {
   "cell_type": "markdown",
   "id": "e77a30e2",
   "metadata": {},
   "source": [
    "這個賦值運算會在字典中加入一個 **項目 (item)**，它代表一個 **鍵 (key)** 和一個 **值 (value)** 之間的關聯。\n",
    "在這個例子中，鍵是字串 `'zero'`，而值是整數 `0`。\n",
    "如果我們顯示這個字典，會看到它包含一個項目，其中鍵和值用冒號 `:` 分隔。"
   ]
  },
  {
   "cell_type": "code",
   "execution_count": null,
   "id": "f6f22918",
   "metadata": {},
   "outputs": [],
   "source": [
    "numbers"
   ]
  },
  {
   "cell_type": "markdown",
   "id": "43b9a92e",
   "metadata": {},
   "source": [
    "我們可以像這樣加入更多項目。"
   ]
  },
  {
   "cell_type": "code",
   "execution_count": null,
   "id": "88df98dc",
   "metadata": {},
   "outputs": [],
   "source": [
    "numbers['one'] = 1\n",
    "numbers['two'] = 2\n",
    "numbers"
   ]
  },
  {
   "cell_type": "markdown",
   "id": "80a662b7",
   "metadata": {},
   "source": [
    "現在這個字典包含三個項目了。\n",
    "\n",
    "要查詢一個鍵並取得對應的值，我們還是用方括號運算子 `[]`。"
   ]
  },
  {
   "cell_type": "code",
   "execution_count": null,
   "id": "c9f88686",
   "metadata": {},
   "outputs": [],
   "source": [
    "numbers['two'] # 查詢鍵 'two' 對應的值"
   ]
  },
  {
   "cell_type": "markdown",
   "id": "4ee32a71",
   "metadata": {},
   "source": [
    "如果鍵不在字典裡，我們會得到一個 `KeyError` (鍵錯誤)。"
   ]
  },
  {
   "cell_type": "code",
   "execution_count": null,
   "id": "3160f42f",
   "metadata": {},
   "outputs": [],
   "source": [
    "%%expect KeyError\n",
    "# numbers['three'] # 'three' 這個鍵不在字典裡"
   ]
  },
  {
   "cell_type": "markdown",
   "id": "2112d743",
   "metadata": {},
   "source": [
    "`len()` 函數可以用在字典上；它會回傳項目的數量。"
   ]
  },
  {
   "cell_type": "code",
   "execution_count": null,
   "id": "5ff4f94c",
   "metadata": {},
   "outputs": [],
   "source": [
    "len(numbers)"
   ]
  },
  {
   "cell_type": "markdown",
   "id": "e0236871",
   "metadata": {},
   "source": [
    "用數學的語言來說，字典代表了一種從鍵到值的 **對應 (mapping)**，所以你也可以說每個鍵 \"對應到 (maps to)\" 一個值。\n",
    "在這個例子中，每個數字單字都對應到相應的整數。\n",
    "\n",
    "下圖顯示了 `numbers` 的狀態圖。\n",
    "(狀態圖顯示變數 `numbers` 指向一個字典物件，裡面有 'zero'->0, 'one'->1, 'two'->2 的對應關係)"
   ]
  },
  {
   "cell_type": "code",
   "execution_count": null,
   "id": "a3ed61b8",
   "metadata": {},
   "outputs": [],
   "source": [
    "from diagram import make_dict, Binding, Value"
   ]
  },
  {
   "cell_type": "code",
   "execution_count": null,
   "id": "585e1fc9",
   "metadata": {},
   "outputs": [],
   "source": [
    "d1 = make_dict(numbers, dy=-0.3, offsetx=0.37)\n",
    "binding1 = Binding(Value('numbers'), d1)"
   ]
  },
  {
   "cell_type": "code",
   "execution_count": null,
   "id": "c48f27ca",
   "metadata": {},
   "outputs": [],
   "source": [
    "from diagram import diagram, adjust, Bbox"
   ]
  },
  {
   "cell_type": "code",
   "execution_count": null,
   "id": "243609e5",
   "metadata": {},
   "outputs": [],
   "source": [
    "width, height, x, y = [1.83, 1.24, 0.49, 0.85]\n",
    "ax = diagram(width, height)\n",
    "bbox = binding1.draw(ax, x, y)\n",
    "# adjust(x, y, bbox)"
   ]
  },
  {
   "cell_type": "markdown",
   "id": "5f6ecd7a",
   "metadata": {},
   "source": [
    "字典用一個方框表示，方框外面寫著 \"dict\"，裡面則是項目。\n",
    "每個項目都用一個鍵和一個指向值的箭頭來表示。\n",
    "引號表示這裡的鍵是字串，而不是變數名稱。"
   ]
  },
  {
   "cell_type": "markdown",
   "id": "e7c99ca1",
   "metadata": {},
   "source": [
    "## 建立字典 (Creating dictionaries)\n",
    "\n",
    "在上一節，我們建立了一個空字典，然後用方括號運算子一個一個地加入項目。\n",
    "其實，我們也可以像這樣一次就把字典建立好。"
   ]
  },
  {
   "cell_type": "code",
   "execution_count": null,
   "id": "841d1214",
   "metadata": {},
   "outputs": [],
   "source": [
    "numbers = {'zero': 0, 'one': 1, 'two': 2}"
   ]
  },
  {
   "cell_type": "markdown",
   "id": "49fe1b5f",
   "metadata": {},
   "source": [
    "每個項目都包含一個鍵和一個值，用冒號隔開。\n",
    "項目之間用逗號隔開，並且整個字典用大括號包起來。\n",
    "\n",
    "建立字典的另一種方法是使用 `dict()` 函數。\n",
    "我們可以像這樣建立一個空字典。"
   ]
  },
  {
   "cell_type": "code",
   "execution_count": null,
   "id": "7e797b48",
   "metadata": {},
   "outputs": [],
   "source": [
    "empty = dict()\n",
    "empty"
   ]
  },
  {
   "cell_type": "markdown",
   "id": "1b305b64",
   "metadata": {},
   "source": [
    "我們也可以像這樣複製一個字典。"
   ]
  },
  {
   "cell_type": "code",
   "execution_count": null,
   "id": "c827971e",
   "metadata": {},
   "outputs": [],
   "source": [
    "numbers_copy = dict(numbers) # 建立 numbers 字典的一個副本\n",
    "numbers_copy"
   ]
  },
  {
   "cell_type": "markdown",
   "id": "9e29ca72",
   "metadata": {},
   "source": [
    "在執行會修改字典的操作之前，先建立一個副本通常是很有用的。\n",
    "(這樣才不會不小心改到原始的字典)"
   ]
  },
  {
   "cell_type": "markdown",
   "id": "0952f264",
   "metadata": {},
   "source": [
    "## in 運算子 (The in operator)\n",
    "\n",
    "`in` 運算子也可以用在字典上；它會告訴你某個東西是否作為字典中的一個 *鍵* 出現。"
   ]
  },
  {
   "cell_type": "code",
   "execution_count": null,
   "id": "7c50a039",
   "metadata": {},
   "outputs": [],
   "source": [
    "'one' in numbers # 檢查 'one' 是否是 numbers 字典中的一個鍵"
   ]
  },
  {
   "cell_type": "markdown",
   "id": "2a6240f3",
   "metadata": {},
   "source": [
    "`in` 運算子 *不會* 檢查某個東西是否作為值出現。"
   ]
  },
  {
   "cell_type": "code",
   "execution_count": null,
   "id": "605bff4f",
   "metadata": {},
   "outputs": [],
   "source": [
    "1 in numbers # 檢查 1 是否是 numbers 字典中的一個鍵 (答案是不，1 是值)"
   ]
  },
  {
   "cell_type": "markdown",
   "id": "5110dbf8",
   "metadata": {},
   "source": [
    "要查看某個東西是否作為值出現在字典中，你可以使用 `values()` 方法，\n",
    "它會回傳一個包含所有值的序列，然後再使用 `in` 運算子。"
   ]
  },
  {
   "cell_type": "code",
   "execution_count": null,
   "id": "2fb1a1c7",
   "metadata": {},
   "outputs": [],
   "source": [
    "1 in numbers.values() # 檢查 1 是否在 numbers 字典的所有值中出現"
   ]
  },
  {
   "cell_type": "markdown",
   "id": "17af26f2",
   "metadata": {},
   "source": [
    "Python 字典中的項目儲存在一個 **雜湊表 (hash table)** 中，這是一種組織資料的方式，\n",
    "它有一個很棒的特性：不管字典裡有多少個項目，`in` 運算子所花費的時間都差不多。\n",
    "這使得我們可以寫出一些效率非常高的演算法。"
   ]
  },
  {
   "cell_type": "code",
   "execution_count": null,
   "id": "2e32f7d9",
   "metadata": {},
   "outputs": [],
   "source": [
    "download('https://raw.githubusercontent.com/AllenDowney/ThinkPython/v3/words.txt');"
   ]
  },
  {
   "cell_type": "markdown",
   "id": "d6a2d7a8",
   "metadata": {},
   "source": [
    "為了示範，我們會比較兩種演算法來找出單字配對，其中一個單字是另一個的反轉 —— 像是 `stressed` 和 `desserts`。\n",
    "我們先從讀取單字列表開始。"
   ]
  },
  {
   "cell_type": "code",
   "execution_count": null,
   "id": "39e54944",
   "metadata": {},
   "outputs": [],
   "source": [
    "# 確保檔案存在才開啟\n",
    "word_list_content = \"\"\n",
    "if exists('words.txt'):\n",
    "    word_list_content = open('words.txt', encoding='utf-8').read()\n",
    "else:\n",
    "    print(\"錯誤: words.txt 檔案未找到。請先下載。\")"
   ]
  },
  {
   "cell_type": "code",
   "execution_count": null,
   "id": "ba7a1bd5",
   "metadata": {
    "lines_to_next_cell": 1
   },
   "outputs": [],
   "source": [
    "word_list = word_list_content.split() # 分割成單字列表\n",
    "print(f\"單字列表中的單字數量: {len(word_list)}\")"
   ]
  },
  {
   "cell_type": "markdown",
   "id": "fcb14567",
   "metadata": {},
   "source": [
    "這是上一章的 `reverse_word` 函數。"
   ]
  },
  {
   "cell_type": "code",
   "execution_count": null,
   "id": "c198b4cb",
   "metadata": {
    "lines_to_next_cell": 1
   },
   "outputs": [],
   "source": [
    "def reverse_word(word):\n",
    "    return ''.join(reversed(word))"
   ]
  },
  {
   "cell_type": "markdown",
   "id": "89fe788c",
   "metadata": {},
   "source": [
    "下面的函數會遍歷列表中的所有單字。\n",
    "對於每個單字，它會反轉字母，然後檢查反轉後的單字是否在單字列表中。"
   ]
  },
  {
   "cell_type": "code",
   "execution_count": null,
   "id": "c74a70b4",
   "metadata": {
    "lines_to_next_cell": 1
   },
   "outputs": [],
   "source": [
    "def too_slow():\n",
    "    count = 0\n",
    "    if not word_list: # 如果 word_list 是空的，就不用跑了\n",
    "        print(\"單字列表是空的，無法執行 too_slow。\")\n",
    "        return 0\n",
    "    for word in word_list:\n",
    "        if reverse_word(word) in word_list: # 檢查反轉字是否在列表中\n",
    "            count += 1\n",
    "    return count"
   ]
  },
  {
   "cell_type": "markdown",
   "id": "44f90526",
   "metadata": {},
   "source": [
    "這個函數執行起來要花超過一分鐘。 (在作者的電腦上)\n",
    "問題在於 `in` 運算子會一個一個地檢查列表中的單字，從頭開始。\n",
    "如果它找不到要找的東西 —— 大部分情況都是這樣 —— 它就必須搜尋到列表的最後。"
   ]
  },
  {
   "cell_type": "markdown",
   "id": "85be960b",
   "metadata": {},
   "source": [
    "要測量一個函數執行多久，我們可以用 `%time`，這是 Jupyter 的「內建魔法指令」之一。\n",
    "這些指令不是 Python 語言的一部分，所以在其他開發環境中可能無法運作。"
   ]
  },
  {
   "cell_type": "code",
   "execution_count": null,
   "id": "23125d4c",
   "metadata": {},
   "outputs": [],
   "source": [
    "%time result_slow = too_slow() # 加上 result_slow 以便查看結果\n",
    "# print(f\"too_slow 找到的相反詞配對數量 (近似值，因為一個詞可能有多個相反詞都在列表裡): {result_slow}\")\n",
    "# (注意：這裡的 count 是指有多少個單字的反轉詞也在列表中，不是指不重複的相反詞配對數)\n",
    "# (例如 stressed 和 desserts 會讓 count 加 2)"
   ]
  },
  {
   "cell_type": "markdown",
   "id": "d91643ab",
   "metadata": {},
   "source": [
    "而且 `in` 運算子是在迴圈裡面，所以每個單字都會執行一次。\n",
    "因為列表裡有超過 10 萬個單字，而對每個單字我們都要檢查超過 10 萬個單字，\n",
    "所以總比較次數大約是單字數量的平方 —— 差不多是 130 億次。"
   ]
  },
  {
   "cell_type": "code",
   "execution_count": null,
   "id": "ac154636",
   "metadata": {},
   "outputs": [],
   "source": [
    "if word_list: # 避免 word_list 為空時出錯\n",
    "    print(f\"單字數量平方約為: {len(word_list)**2:,}\") # 加上千分位分隔符"
   ]
  },
  {
   "cell_type": "markdown",
   "id": "090d5c05",
   "metadata": {},
   "source": [
    "用字典可以讓這個函數快很多。\n",
    "下面的迴圈會建立一個字典，其中包含單字作為鍵。"
   ]
  },
  {
   "cell_type": "code",
   "execution_count": null,
   "id": "f1f42dc7",
   "metadata": {
    "lines_to_next_cell": 1
   },
   "outputs": [],
   "source": [
    "word_dict = {}\n",
    "if word_list:\n",
    "    for word in word_list:\n",
    "        word_dict[word] = 1 # 值是什麼不重要，這裡用 1 當作佔位符\n",
    "else:\n",
    "    print(\"單字列表是空的，無法建立 word_dict。\")"
   ]
  },
  {
   "cell_type": "markdown",
   "id": "28b7cc5f",
   "metadata": {},
   "source": [
    "`word_dict` 中的值都是 `1`，但它們可以是任何東西，因為我們永遠不會去查詢它們\n",
    "—— 我們只會用這個字典來檢查一個鍵是否存在。\n",
    "\n",
    "現在這是上一個函數的字典版本，它用 `word_dict` 取代了 `word_list`。"
   ]
  },
  {
   "cell_type": "code",
   "execution_count": null,
   "id": "e8a454ca",
   "metadata": {
    "lines_to_next_cell": 1
   },
   "outputs": [],
   "source": [
    "def much_faster():\n",
    "    count = 0\n",
    "    if not word_dict: # 如果 word_dict 是空的\n",
    "        print(\"單字字典是空的，無法執行 much_faster。\")\n",
    "        return 0\n",
    "    for word in word_dict: # 遍歷字典的鍵 (也就是單字)\n",
    "        if reverse_word(word) in word_dict: # 檢查反轉字是否是字典的一個鍵\n",
    "            count += 1\n",
    "    return count"
   ]
  },
  {
   "cell_type": "markdown",
   "id": "d8739119",
   "metadata": {},
   "source": [
    "這個函數執行起來不到百分之一秒，所以比上一個版本快了大約 10,000 倍。\n",
    "(速度提升的倍數會依電腦效能和資料量而有所不同)"
   ]
  },
  {
   "cell_type": "markdown",
   "id": "d31a1a39",
   "metadata": {},
   "source": [
    "一般來說，在列表中尋找一個元素所需的時間與列表的長度成正比。\n",
    "而在字典中尋找一個鍵所需的時間幾乎是固定的 —— 不管有多少個項目。"
   ]
  },
  {
   "cell_type": "code",
   "execution_count": null,
   "id": "842e7057",
   "metadata": {},
   "outputs": [],
   "source": [
    "%time result_fast = much_faster()\n",
    "# print(f\"much_faster 找到的相反詞配對數量 (近似值): {result_fast}\")"
   ]
  },
  {
   "cell_type": "markdown",
   "id": "fee8f547",
   "metadata": {},
   "source": [
    "## 計數器集合 (A collection of counters)\n",
    "\n",
    "假設給你一個字串，你想要計算每個字母出現的次數。\n",
    "字典是完成這項工作的好工具。\n",
    "我們先從一個空字典開始。"
   ]
  },
  {
   "cell_type": "code",
   "execution_count": null,
   "id": "fa388e45",
   "metadata": {},
   "outputs": [],
   "source": [
    "counter = {}"
   ]
  },
  {
   "cell_type": "markdown",
   "id": "4292056e",
   "metadata": {},
   "source": [
    "當我們遍歷字串中的字母時，假設我們第一次看到字母 `'a'`。\n",
    "我們可以像這樣把它加到字典裡。"
   ]
  },
  {
   "cell_type": "code",
   "execution_count": null,
   "id": "a2bbe195",
   "metadata": {},
   "outputs": [],
   "source": [
    "counter['a'] = 1"
   ]
  },
  {
   "cell_type": "markdown",
   "id": "01408617",
   "metadata": {},
   "source": [
    "值 `1` 表示我們看到這個字母一次。\n",
    "之後，如果我們又看到同一個字母，我們可以像這樣把計數器加一。"
   ]
  },
  {
   "cell_type": "code",
   "execution_count": null,
   "id": "b8e9a911",
   "metadata": {},
   "outputs": [],
   "source": [
    "counter['a'] += 1 # 等同於 counter['a'] = counter['a'] + 1"
   ]
  },
  {
   "cell_type": "markdown",
   "id": "4ab57d62",
   "metadata": {},
   "source": [
    "現在 `'a'` 對應的值是 `2`，因為我們看到這個字母兩次了。"
   ]
  },
  {
   "cell_type": "code",
   "execution_count": null,
   "id": "8401e06a",
   "metadata": {
    "lines_to_next_cell": 1
   },
   "outputs": [],
   "source": [
    "counter"
   ]
  },
  {
   "cell_type": "markdown",
   "id": "c52c3c58",
   "metadata": {},
   "source": [
    "下面的函數使用這些功能來計算一個字串中每個字母出現的次數。"
   ]
  },
  {
   "cell_type": "code",
   "execution_count": null,
   "id": "0207b84a",
   "metadata": {
    "lines_to_next_cell": 1
   },
   "outputs": [],
   "source": [
    "def value_counts(string):\n",
    "    counter = {}\n",
    "    for letter in string:\n",
    "        if letter not in counter: # 如果字母還沒在計數器裡\n",
    "            counter[letter] = 1   # 就把它加進去，計數為 1\n",
    "        else:                     # 如果字母已經在裡面了\n",
    "            counter[letter] += 1  # 就把它的計數加 1\n",
    "    return counter"
   ]
  },
  {
   "cell_type": "markdown",
   "id": "bd2c3d41",
   "metadata": {},
   "source": [
    "迴圈每跑一次，如果 `letter` 不在字典中，我們就建立一個新的項目，鍵是 `letter`，值是 `1`。\n",
    "如果 `letter` 已經在字典中了，我們就把 `letter` 對應的值加一。\n",
    "\n",
    "這裡有一個例子。"
   ]
  },
  {
   "cell_type": "code",
   "execution_count": null,
   "id": "dae46fcd",
   "metadata": {},
   "outputs": [],
   "source": [
    "counter_bronto = value_counts('brontosaurus') # brontosaurus (雷龍)\n",
    "counter_bronto"
   ]
  },
  {
   "cell_type": "markdown",
   "id": "1ecfd330",
   "metadata": {},
   "source": [
    "`counter_bronto` 中的項目顯示字母 `'b'` 出現一次，`'r'` 出現兩次，依此類推。"
   ]
  },
  {
   "cell_type": "markdown",
   "id": "199990fc",
   "metadata": {},
   "source": [
    "## 迴圈和字典 (Looping and dictionaries)\n",
    "\n",
    "如果你在 `for` 陳述式中使用一個字典，它會遍歷字典的鍵。\n",
    "為了示範，我們來建立一個計算 `'banana'` 中字母出現次數的字典。"
   ]
  },
  {
   "cell_type": "code",
   "execution_count": null,
   "id": "b205ec68",
   "metadata": {},
   "outputs": [],
   "source": [
    "counter_banana = value_counts('banana')\n",
    "counter_banana"
   ]
  },
  {
   "cell_type": "markdown",
   "id": "044b1fc8",
   "metadata": {},
   "source": [
    "下面的迴圈會印出鍵，也就是字母。"
   ]
  },
  {
   "cell_type": "code",
   "execution_count": null,
   "id": "524329c4",
   "metadata": {},
   "outputs": [],
   "source": [
    "for key in counter_banana:\n",
    "    print(key)"
   ]
  },
  {
   "cell_type": "markdown",
   "id": "14af2954",
   "metadata": {},
   "source": [
    "要印出值，我們可以用 `values()` 方法。"
   ]
  },
  {
   "cell_type": "code",
   "execution_count": null,
   "id": "cbfecb75",
   "metadata": {},
   "outputs": [],
   "source": [
    "for value in counter_banana.values():\n",
    "    print(value)"
   ]
  },
  {
   "cell_type": "markdown",
   "id": "3bf2ab2e",
   "metadata": {},
   "source": [
    "要同時印出鍵和值，我們可以遍歷鍵，然後查詢對應的值。"
   ]
  },
  {
   "cell_type": "code",
   "execution_count": null,
   "id": "97c0f3de",
   "metadata": {},
   "outputs": [],
   "source": [
    "for key in counter_banana:\n",
    "    value = counter_banana[key]\n",
    "    print(key, value)"
   ]
  },
  {
   "cell_type": "markdown",
   "id": "539f2a14",
   "metadata": {},
   "source": [
    "在下一章，我們會看到一個更簡潔的方法來做同樣的事情。\n",
    "(提示：`items()` 方法)"
   ]
  },
  {
   "cell_type": "markdown",
   "id": "5f260635",
   "metadata": {},
   "source": [
    "## 列表和字典 (Lists and dictionaries)\n",
    "\n",
    "你可以把列表當作字典中的值。\n",
    "例如，這裡有一個字典，它把數字 `4` 對應到一個包含四個字母的列表。"
   ]
  },
  {
   "cell_type": "code",
   "execution_count": null,
   "id": "c02ca562",
   "metadata": {},
   "outputs": [],
   "source": [
    "d = {4: ['r', 'o', 'u', 's']}\n",
    "d"
   ]
  },
  {
   "cell_type": "markdown",
   "id": "397ae6da",
   "metadata": {},
   "source": [
    "但是你不能把列表當作字典中的鍵。\n",
    "如果我們試著這樣做，會發生以下情況。"
   ]
  },
  {
   "cell_type": "code",
   "execution_count": null,
   "id": "e2dc10f3",
   "metadata": {},
   "outputs": [],
   "source": [
    "%%expect TypeError\n",
    "# letters_as_key = list('abcd')\n",
    "# d[letters_as_key] = 4 # 列表是可變的，不能當作鍵"
   ]
  },
  {
   "cell_type": "markdown",
   "id": "77f75482",
   "metadata": {},
   "source": [
    "我之前提到字典使用雜湊表，這表示鍵必須是 **可雜湊的 (hashable)**。\n",
    "\n",
    "**雜湊 (hash)** 是一個函數，它接收一個值 (任何種類的)，然後回傳一個整數。\n",
    "字典使用這些整數，也就是雜湊值，來儲存和查詢鍵。\n",
    "\n",
    "這個系統只有在鍵是不可變的 (immutable)，所以它的雜湊值永遠相同的情況下才能運作。\n",
    "但是如果一個鍵是可變的，它的雜湊值可能會改變，字典就無法正常運作了。\n",
    "這就是為什麼鍵必須是可雜湊的，以及為什麼像列表這樣的可變型別不能當作鍵。\n",
    "\n",
    "因為字典本身也是可變的，所以它們也不能被用作鍵。\n",
    "但是它們 *可以* 被用作值。"
   ]
  },
  {
   "cell_type": "markdown",
   "id": "6f42f4f7",
   "metadata": {},
   "source": [
    "## 累加列表 (Accumulating a list)\n",
    "\n",
    "對於許多程式設計任務來說，在建立另一個列表或字典的同時遍歷一個列表或字典是很有用的。\n",
    "作為例子，我們會遍歷 `word_dict` 中的單字，並建立一個回文 (palindromes) 列表\n",
    "—— 也就是正讀和反讀都一樣的字，像是 \"noon\" 和 \"rotator\"。\n",
    "\n",
    "在上一章，其中一個練習要求你寫一個檢查單字是否為回文的函數。\n",
    "這裡有一個使用 `reverse_word` 的解答。"
   ]
  },
  {
   "cell_type": "code",
   "execution_count": null,
   "id": "14eac934",
   "metadata": {
    "lines_to_next_cell": 1
   },
   "outputs": [],
   "source": [
    "def is_palindrome(word):\n",
    "    \"\"\"檢查一個字是否為回文。\"\"\"\n",
    "    return reverse_word(word) == word"
   ]
  },
  {
   "cell_type": "markdown",
   "id": "1b6dfe06",
   "metadata": {},
   "source": [
    "如果我們遍歷 `word_dict` 中的單字，我們可以像這樣計算回文的數量。"
   ]
  },
  {
   "cell_type": "code",
   "execution_count": null,
   "id": "f60cc510",
   "metadata": {},
   "outputs": [],
   "source": [
    "count_pal = 0"
   ]
  },
  {
   "cell_type": "code",
   "execution_count": null,
   "id": "4589f3e3",
   "metadata": {},
   "outputs": [],
   "source": [
    "if word_dict: # 確保 word_dict 不是空的\n",
    "    for word_in_dict in word_dict: # 遍歷字典的鍵 (單字)\n",
    "        if is_palindrome(word_in_dict):\n",
    "            count_pal +=1\n",
    "else:\n",
    "    print(\"單字字典是空的，無法計算回文。\")"
   ]
  },
  {
   "cell_type": "code",
   "execution_count": null,
   "id": "563cf387",
   "metadata": {},
   "outputs": [],
   "source": [
    "print(f\"回文的數量: {count_pal}\")"
   ]
  },
  {
   "cell_type": "markdown",
   "id": "a50ae6cd",
   "metadata": {},
   "source": [
    "到目前為止，這個模式我們已經很熟悉了。\n",
    "\n",
    "* 迴圈開始前，`count_pal` 初始化為 `0`。\n",
    "\n",
    "* 迴圈內部，如果 `word_in_dict` 是回文，我們就把 `count_pal` 加一。\n",
    "\n",
    "* 當迴圈結束時，`count_pal` 就包含了回文的總數。\n",
    "\n",
    "我們可以用類似的模式來建立一個回文列表。"
   ]
  },
  {
   "cell_type": "code",
   "execution_count": null,
   "id": "2fcc0f04",
   "metadata": {},
   "outputs": [],
   "source": [
    "palindromes = [] # 初始化一個空列表來存放回文"
   ]
  },
  {
   "cell_type": "code",
   "execution_count": null,
   "id": "b4d47fb7",
   "metadata": {},
   "outputs": [],
   "source": [
    "if word_dict:\n",
    "    for word_in_dict in word_dict:\n",
    "        if is_palindrome(word_in_dict):\n",
    "            palindromes.append(word_in_dict) # 如果是回文，就加到列表中\n",
    "else:\n",
    "    print(\"單字字典是空的，無法建立回文列表。\")"
   ]
  },
  {
   "cell_type": "code",
   "execution_count": null,
   "id": "9861e07d",
   "metadata": {},
   "outputs": [],
   "source": [
    "print(f\"找到的前 10 個回文: {palindromes[:10]}\") # 印出前 10 個"
   ]
  },
  {
   "cell_type": "markdown",
   "id": "0ff11c76",
   "metadata": {},
   "source": [
    "它是這樣運作的：\n",
    "\n",
    "* 迴圈開始前，`palindromes` 初始化為一個空列表。\n",
    "\n",
    "* 迴圈內部，如果 `word_in_dict` 是回文，我們就把它附加到 `palindromes` 的尾巴。\n",
    "\n",
    "* 當迴圈結束時，`palindromes` 就是一個包含所有回文的列表。\n",
    "\n",
    "在這個迴圈中，`palindromes` 被用作一個 **累加器 (accumulator)**，這是一個在計算過程中收集或累加資料的變數。\n",
    "\n",
    "現在假設我們只想選出包含七個或更多字母的回文。\n",
    "我們可以遍歷 `palindromes` 列表，並建立一個只包含長回文的新列表。"
   ]
  },
  {
   "cell_type": "code",
   "execution_count": null,
   "id": "bf5bae81",
   "metadata": {},
   "outputs": [],
   "source": [
    "long_palindromes = []"
   ]
  },
  {
   "cell_type": "code",
   "execution_count": null,
   "id": "1a22e1d3",
   "metadata": {},
   "outputs": [],
   "source": [
    "if palindromes: # 確保 palindromes 列表不是空的\n",
    "    for word_pal in palindromes:\n",
    "        if len(word_pal) >= 7:\n",
    "            long_palindromes.append(word_pal)\n",
    "else:\n",
    "    print(\"回文列表是空的，無法篩選長回文。\")"
   ]
  },
  {
   "cell_type": "code",
   "execution_count": null,
   "id": "9c31e403",
   "metadata": {
    "lines_to_next_cell": 1
   },
   "outputs": [],
   "source": [
    "print(f\"長度大於等於 7 的回文: {long_palindromes}\")"
   ]
  },
  {
   "cell_type": "markdown",
   "id": "ebe0346d",
   "metadata": {},
   "source": [
    "像這樣遍歷一個列表，選取某些元素並忽略其他元素，稱為 **篩選 (filtering)**。"
   ]
  },
  {
   "cell_type": "markdown",
   "id": "ea2f0fba",
   "metadata": {},
   "source": [
    "## 備忘錄 (Memos)\n",
    "\n",
    "如果你執行過[第六章](section_fibonacci)的 `fibonacci` 函數，你可能注意到你提供的參數越大，函數執行的時間就越長。\n",
    "(譯註：section_fibonacci 指的是書中對應章節的連結，這裡無法直接點擊)"
   ]
  },
  {
   "cell_type": "code",
   "execution_count": null,
   "id": "85890a25",
   "metadata": {
    "lines_to_next_cell": 1
   },
   "outputs": [],
   "source": [
    "def fibonacci(n): # 原始的遞迴費氏數列函數\n",
    "    if n == 0:\n",
    "        return 0\n",
    "    \n",
    "    if n == 1:\n",
    "        return 1\n",
    "\n",
    "    return fibonacci(n-1) + fibonacci(n-2)"
   ]
  },
  {
   "cell_type": "markdown",
   "id": "809f488b",
   "metadata": {},
   "source": [
    "而且，執行時間增加得非常快。\n",
    "要了解原因，請看下圖，它顯示了 `fibonacci` 函數在 `n=4` 時的 **呼叫圖 (call graph)**：\n",
    "(呼叫圖顯示了函數如何互相呼叫，以及重複的計算)"
   ]
  },
  {
   "cell_type": "code",
   "execution_count": null,
   "id": "cf65922a",
   "metadata": {},
   "outputs": [],
   "source": [
    "from diagram import make_binding, Frame, Arrow"
   ]
  },
  {
   "cell_type": "code",
   "execution_count": null,
   "id": "2b498053",
   "metadata": {},
   "outputs": [],
   "source": [
    "bindings_fib = [make_binding('n', i) for i in range(5)]\n",
    "frames_fib = [Frame([binding]) for binding in bindings_fib]"
   ]
  },
  {
   "cell_type": "code",
   "execution_count": null,
   "id": "d9e449d5",
   "metadata": {
    "lines_to_next_cell": 1
   },
   "outputs": [],
   "source": [
    "arrowprops = dict(arrowstyle=\"-\", color='gray', alpha=0.5, ls='-', lw=0.5)"
   ]
  },
  {
   "cell_type": "code",
   "execution_count": null,
   "id": "50578518",
   "metadata": {
    "lines_to_next_cell": 1
   },
   "outputs": [],
   "source": [
    "def left_arrow(ax, bbox1, bbox2):\n",
    "    x = bbox1.xmin + 0.1\n",
    "    y = bbox1.ymin\n",
    "    dx = bbox2.xmax - x - 0.1\n",
    "    dy = bbox2.ymax - y\n",
    "    arrow = Arrow(dx=dx, dy=dy, arrowprops=arrowprops)\n",
    "    return arrow.draw(ax, x, y)"
   ]
  },
  {
   "cell_type": "code",
   "execution_count": null,
   "id": "bf204c01",
   "metadata": {
    "lines_to_next_cell": 1
   },
   "outputs": [],
   "source": [
    "def right_arrow(ax, bbox1, bbox2):\n",
    "    x = bbox1.xmax - 0.1\n",
    "    y = bbox1.ymin\n",
    "    dx = bbox2.xmin - x + 0.1\n",
    "    dy = bbox2.ymax - y\n",
    "    arrow = Arrow(dx=dx, dy=dy, arrowprops=arrowprops)\n",
    "    return arrow.draw(ax, x, y)"
   ]
  },
  {
   "cell_type": "code",
   "execution_count": null,
   "id": "4a0a2760",
   "metadata": {},
   "outputs": [],
   "source": [
    "from diagram import diagram, adjust, Bbox"
   ]
  },
  {
   "cell_type": "code",
   "execution_count": null,
   "id": "37036009",
   "metadata": {},
   "outputs": [],
   "source": [
    "width_fib, height_fib, x_fib, y_fib = [4.94, 2.16, -1.03, 1.91]\n",
    "ax_fib = diagram(width_fib, height_fib)"
   ]
  },
  {
   "cell_type": "code",
   "execution_count": null,
   "id": "05989a79",
   "metadata": {},
   "outputs": [],
   "source": [
    "dx_fib = 0.6\n",
    "dy_fib = 0.55"
   ]
  },
  {
   "cell_type": "code",
   "execution_count": null,
   "id": "90e4dfa0",
   "metadata": {},
   "outputs": [],
   "source": [
    "bboxes_fib = []\n",
    "bboxes_fib.append(frames_fib[4].draw(ax_fib, x_fib+6*dx_fib, y_fib)) # fib(4)"
   ]
  },
  {
   "cell_type": "code",
   "execution_count": null,
   "id": "8100f198",
   "metadata": {},
   "outputs": [],
   "source": [
    "bboxes_fib.append(frames_fib[3].draw(ax_fib, x_fib+4*dx_fib, y_fib-dy_fib)) # fib(3)\n",
    "bboxes_fib.append(frames_fib[2].draw(ax_fib, x_fib+8*dx_fib, y_fib-dy_fib)) # fib(2)"
   ]
  },
  {
   "cell_type": "code",
   "execution_count": null,
   "id": "b4247731",
   "metadata": {},
   "outputs": [],
   "source": [
    "bboxes_fib.append(frames_fib[2].draw(ax_fib, x_fib+3*dx_fib, y_fib-2*dy_fib)) # fib(2) from fib(3)\n",
    "bboxes_fib.append(frames_fib[1].draw(ax_fib, x_fib+5*dx_fib, y_fib-2*dy_fib)) # fib(1) from fib(3)\n",
    "bboxes_fib.append(frames_fib[1].draw(ax_fib, x_fib+7*dx_fib, y_fib-2*dy_fib)) # fib(1) from fib(2)\n",
    "bboxes_fib.append(frames_fib[0].draw(ax_fib, x_fib+9*dx_fib, y_fib-2*dy_fib)) # fib(0) from fib(2)"
   ]
  },
  {
   "cell_type": "code",
   "execution_count": null,
   "id": "ac359c1f",
   "metadata": {},
   "outputs": [],
   "source": [
    "bboxes_fib.append(frames_fib[1].draw(ax_fib, x_fib+2*dx_fib, y_fib-3*dy_fib)) # fib(1) from fib(2)\n",
    "bboxes_fib.append(frames_fib[0].draw(ax_fib, x_fib+4*dx_fib, y_fib-3*dy_fib)) # fib(0) from fib(2)"
   ]
  },
  {
   "cell_type": "code",
   "execution_count": null,
   "id": "1f408f51",
   "metadata": {},
   "outputs": [],
   "source": [
    "left_arrow(ax_fib, bboxes_fib[0], bboxes_fib[1]) # 4 -> 3\n",
    "left_arrow(ax_fib, bboxes_fib[1], bboxes_fib[3]) # 3 -> 2\n",
    "left_arrow(ax_fib, bboxes_fib[3], bboxes_fib[7]) # 2 -> 1\n",
    "left_arrow(ax_fib, bboxes_fib[2], bboxes_fib[5]) # 2 (right branch) -> 1"
   ]
  },
  {
   "cell_type": "code",
   "execution_count": null,
   "id": "2629b025",
   "metadata": {},
   "outputs": [],
   "source": [
    "right_arrow(ax_fib, bboxes_fib[0], bboxes_fib[2]) # 4 -> 2\n",
    "right_arrow(ax_fib, bboxes_fib[1], bboxes_fib[4]) # 3 -> 1\n",
    "right_arrow(ax_fib, bboxes_fib[2], bboxes_fib[6]) # 2 (right branch) -> 0\n",
    "right_arrow(ax_fib, bboxes_fib[3], bboxes_fib[8]) # 2 (left branch) -> 0"
   ]
  },
  {
   "cell_type": "code",
   "execution_count": null,
   "id": "6a8dc768",
   "metadata": {},
   "outputs": [],
   "source": [
    "bbox_fib_union = Bbox.union(bboxes_fib)\n",
    "# adjust(x_fib, y_fib, bbox_fib_union)"
   ]
  },
  {
   "cell_type": "markdown",
   "id": "ffbefcee",
   "metadata": {},
   "source": [
    "呼叫圖顯示了一組函數框架 (function frame)，以及連接每個框架到它所呼叫函數框架的線條。\n",
    "在圖的頂部，`fibonacci(4)` 呼叫了 `fibonacci(3)` 和 `fibonacci(2)`。\n",
    "接著，`fibonacci(3)` 呼叫了 `fibonacci(2)` 和 `fibonacci(1)`。依此類推。\n",
    "\n",
    "數數看 `fibonacci(0)` 和 `fibonacci(1)` 被呼叫了多少次。\n",
    "這是一個解決問題的低效率方法，而且隨著參數變大，情況會變得更糟。\n",
    "\n",
    "一個解決方法是把已經計算過的值記錄下來，儲存在一個字典裡。\n",
    "一個先前計算過並儲存起來供以後使用的值，稱為 **備忘錄 (memo)**。\n",
    "這裡是一個「備忘錄化」的 `fibonacci` 版本："
   ]
  },
  {
   "cell_type": "code",
   "execution_count": null,
   "id": "3dc54535",
   "metadata": {
    "lines_to_next_cell": 1
   },
   "outputs": [],
   "source": [
    "known = {0:0, 1:1} # 用一個字典來儲存已知的費氏數"
   ]
  },
  {
   "cell_type": "code",
   "execution_count": null,
   "id": "65087b9a",
   "metadata": {
    "lines_to_next_cell": 1
   },
   "outputs": [],
   "source": [
    "def fibonacci_memo(n):\n",
    "    if n in known: # 如果 n 已經在備忘錄裡了\n",
    "        return known[n] # 直接回傳儲存的值\n",
    "\n",
    "    # 如果 n 不在備忘錄裡，就計算它\n",
    "    res = fibonacci_memo(n-1) + fibonacci_memo(n-2)\n",
    "    known[n] = res # 把新算出來的值存到備忘錄裡\n",
    "    return res"
   ]
  },
  {
   "cell_type": "markdown",
   "id": "98d57ce4",
   "metadata": {},
   "source": [
    "`known` 是一個字典，用來記錄我們已經知道的費氏數。\n",
    "它一開始有兩個項目：`0` 對應到 `0`，`1` 對應到 `1`。\n",
    "\n",
    "每當 `fibonacci_memo` 被呼叫時，它會檢查 `known`。\n",
    "如果結果已經在那裡了，它就可以立刻回傳。\n",
    "否則，它就必須計算新的值，把它加到字典裡，然後回傳它。\n",
    "\n",
    "比較這兩個函數，`fibonacci(40)` 大約需要 30 秒才能執行完畢。 (在作者的電腦上)\n",
    "`fibonacci_memo(40)` 大約只需要 30 微秒 (microsecond)，所以快了一百萬倍。\n",
    "在本章的 notebook 檔案中，你會看到這些測量數據是怎麼來的。"
   ]
  },
  {
   "cell_type": "code",
   "execution_count": null,
   "id": "726263bf",
   "metadata": {},
   "outputs": [],
   "source": [
    "# print(\"計算 fibonacci(40)...\")\n",
    "%time result_fib_40 = fibonacci(40)\n",
    "# print(f\"fibonacci(40) = {result_fib_40}\")"
   ]
  },
  {
   "cell_type": "code",
   "execution_count": null,
   "id": "1f8b16be",
   "metadata": {},
   "outputs": [],
   "source": [
    "print(\"計算 fibonacci_memo(40)...\")\n",
    "%time result_fib_memo_40 = fibonacci_memo(40)\n",
    "print(f\"fibonacci_memo(40) = {result_fib_memo_40}\")"
   ]
  },
  {
   "cell_type": "markdown",
   "id": "aac70ca4",
   "metadata": {},
   "source": [
    "## 除錯 (Debugging)\n",
    "\n",
    "當你處理越來越大的資料集時，用印出訊息然後手動檢查輸出的方式來除錯可能會變得很麻煩。\n",
    "以下是一些針對大型資料集除錯的建議：\n",
    "\n",
    "1.  縮小輸入規模：如果可能的話，減少資料集的規模。例如，如果程式讀取一個文字檔，\n",
    "    可以先從前 10 行開始，或者用你能找到的最小範例開始。你可以直接編輯檔案本身，\n",
    "    或者 (更好的方法是) 修改程式，讓它只讀取前 `n` 行。\n",
    "\n",
    "    如果發生錯誤，你可以把 `n` 減少到發生錯誤的最小值。\n",
    "    當你找到並修正錯誤後，可以逐漸增加 `n` 的值。"
   ]
  },
  {
   "cell_type": "markdown",
   "id": "3a491104",
   "metadata": {},
   "source": [
    "2. 檢查摘要和型別：與其印出並檢查整個資料集，不如考慮印出資料的摘要 —— 例如，\n",
    "    字典中的項目數量，或數字列表的總和。\n",
    "\n",
    "    執行期錯誤的一個常見原因是值的型別不正確。要除錯這類錯誤，\n",
    "    通常只需要印出值的型別就夠了。"
   ]
  },
  {
   "cell_type": "markdown",
   "id": "4ee8f0c6",
   "metadata": {},
   "source": [
    "3. 編寫自我檢查程式碼：有時候你可以寫程式碼來自動檢查錯誤。例如，\n",
    "    如果你在計算一個數字列表的平均值，你可以檢查結果是否\n",
    "    大於列表中的最大元素或小於最小元素。這叫做「合理性檢查 (sanity check)」，\n",
    "    因為它可以偵測到「不合理 (insane)」的結果。\n",
    "\n",
    "    另一種檢查是比較兩種不同計算方式的結果，看看它們是否一致。\n",
    "    這叫做「一致性檢查 (consistency check)」。"
   ]
  },
  {
   "cell_type": "markdown",
   "id": "7a3e19c2",
   "metadata": {},
   "source": [
    "4. 格式化輸出：格式化除錯輸出可以讓你更容易發現錯誤。我們在[第六章](section_debugging_factorial)\n",
    "    看過一個例子。另一個你可能會覺得有用的工具是 `pprint` 模組，它提供了一個\n",
    "    `pprint` 函數，可以用更易讀的方式顯示內建型別 (`pprint` 是 \"pretty print\" 的縮寫，意思是很漂亮的印出)。\n",
    "\n",
    "    再次強調，你花在建立輔助工具 (scaffolding) 上的時間，可以減少你花在除錯上的時間。"
   ]
  },
  {
   "cell_type": "markdown",
   "id": "aa862d14",
   "metadata": {},
   "source": [
    "## 詞彙表 (Glossary)\n",
    "\n",
    "**字典 (dictionary):**\n",
    " 一個包含鍵值對 (key-value pair)，也稱為項目 (item) 的物件。\n",
    "\n",
    "**項目 (item):**\n",
    " 在字典中，鍵值對的另一個名稱。\n",
    "\n",
    "**鍵 (key):**\n",
    " 在字典中作為鍵值對第一部分出現的物件。\n",
    "\n",
    "**值 (value):**\n",
    " 在字典中作為鍵值對第二部分出現的物件。這比我們之前使用「值」這個詞的意義更具體。\n",
    "\n",
    "**對應 (mapping):**\n",
    "  一種關係，其中一個集合的每個元素都對應到另一個集合的一個元素。\n",
    "\n",
    "**雜湊表 (hash table):**\n",
    " 一種鍵值對的集合，其組織方式讓我們可以有效地查詢一個鍵並找到它的值。\n",
    "\n",
    "**可雜湊的 (hashable):**\n",
    " 像整數、浮點數和字串這樣的不可變型別是可雜湊的。\n",
    " 像列表和字典這樣的可變型別則不是。\n",
    "\n",
    "**雜湊函數 (hash function):**\n",
    " 一個接收物件並計算出一個整數的函數，這個整數被用來在雜湊表中定位一個鍵。\n",
    "\n",
    "**累加器 (accumulator):**\n",
    " 在迴圈中用來加總或累加結果的變數。\n",
    "\n",
    "**篩選 (filtering):**\n",
    " 遍歷一個序列並選取或忽略某些元素的過程。\n",
    "\n",
    "**呼叫圖 (call graph):**\n",
    " 一個圖表，顯示程式執行期間建立的每個框架，以及從每個呼叫者到每個被呼叫者的箭頭。\n",
    "\n",
    "**備忘錄 (memo):**\n",
    " 一個儲存起來的計算結果，用來避免未來不必要的重複計算。"
   ]
  },
  {
   "cell_type": "markdown",
   "id": "a7d02924",
   "metadata": {},
   "source": [
    "## 練習 (Exercises)"
   ]
  },
  {
   "cell_type": "markdown",
   "id": "64cd39a3",
   "metadata": {},
   "source": [
    "這個儲存格告訴 Jupyter 在發生執行期錯誤時提供詳細的除錯資訊。\n",
    "在開始做練習之前先執行它。"
   ]
  },
  {
   "cell_type": "code",
   "execution_count": null,
   "id": "4e2e9bd3",
   "metadata": {},
   "outputs": [],
   "source": [
    "%xmode Verbose"
   ]
  },
  {
   "cell_type": "markdown",
   "id": "9c85d0e1",
   "metadata": {},
   "source": [
    "### 問問助理 (Ask an assistant)\n",
    "\n",
    "在這一章，我說過字典中的鍵必須是可雜湊的，並且簡短解釋了原因。如果你想知道更多細節，可以問問虛擬助理：「為什麼 Python 字典中的鍵必須是可雜湊的？」\n",
    "\n",
    "在[前面的一個小節](section_dictionary_in_operator)中，我們把一個單字列表儲存為字典的鍵，這樣我們就可以使用 `in` 運算子的有效率版本。\n",
    "我們也可以用 `set` (集合) 來做同樣的事情，它是另一種內建的資料型別。\n",
    "問問虛擬助理：「我要如何從一個字串列表建立 Python 集合，並檢查一個字串是否是集合的元素？」\n",
    "(譯註：section_dictionary_in_operator 指的是書中對應章節的連結)"
   ]
  },
  {
   "cell_type": "markdown",
   "id": "d7c0e252",
   "metadata": {},
   "source": [
    "### 練習\n",
    "\n",
    "字典有一個叫做 `get` 的方法，它接收一個鍵和一個預設值。\n",
    "如果鍵出現在字典中，`get` 會回傳對應的值；否則它會回傳預設值。\n",
    "例如，這裡有一個字典，它把字串中的字母對應到它們出現的次數。"
   ]
  },
  {
   "cell_type": "code",
   "execution_count": null,
   "id": "8455c174",
   "metadata": {},
   "outputs": [],
   "source": [
    "counter_get_example = value_counts('brontosaurus') # 使用之前定義的 value_counts"
   ]
  },
  {
   "cell_type": "markdown",
   "id": "f35638a8",
   "metadata": {},
   "source": [
    "如果我們查詢一個出現在單字中的字母，`get` 會回傳它出現的次數。"
   ]
  },
  {
   "cell_type": "code",
   "execution_count": null,
   "id": "c9d10855",
   "metadata": {},
   "outputs": [],
   "source": [
    "counter_get_example.get('b', 0) # 查詢 'b'，如果沒有就回傳 0"
   ]
  },
  {
   "cell_type": "markdown",
   "id": "1a773005",
   "metadata": {},
   "source": [
    "如果我們查詢一個沒有出現的字母，我們會得到預設值 `0`。"
   ]
  },
  {
   "cell_type": "code",
   "execution_count": null,
   "id": "93636ccf",
   "metadata": {
    "lines_to_next_cell": 1
   },
   "outputs": [],
   "source": [
    "counter_get_example.get('c', 0) # 查詢 'c'，'c' 不在裡面，所以回傳預設值 0"
   ]
  },
  {
   "cell_type": "markdown",
   "id": "77f2caf6",
   "metadata": {},
   "source": [
    "請使用 `get` 方法來寫一個更簡潔的 `value_counts` 版本。\n",
    "你應該能夠去掉 `if` 陳述式。"
   ]
  },
  {
   "cell_type": "code",
   "execution_count": null,
   "id": "d43ecbed",
   "metadata": {
    "lines_to_next_cell": 1
   },
   "outputs": [],
   "source": [
    "# 解答:\n",
    "def value_counts_concise(string):\n",
    "    counter = {}\n",
    "    for letter in string:\n",
    "        counter[letter] = counter.get(letter, 0) + 1 # 如果 letter 不在，get 回傳 0，所以 0+1=1\n",
    "                                                       # 如果 letter 在，get 回傳目前計數，再加 1\n",
    "    return counter"
   ]
  },
  {
   "cell_type": "code",
   "execution_count": null,
   "id": "af7d8f67",
   "metadata": {},
   "outputs": [],
   "source": [
    "# 測試 concise 版本\n",
    "print(\"\\n--- 測試 value_counts_concise ---\")\n",
    "counter_concise_test = value_counts_concise('banana')\n",
    "print(f\"value_counts_concise('banana'): {counter_concise_test}\")\n",
    "counter_concise_bronto = value_counts_concise('brontosaurus')\n",
    "print(f\"value_counts_concise('brontosaurus'): {counter_concise_bronto}\")"
   ]
  },
  {
   "cell_type": "markdown",
   "id": "b0f069e6",
   "metadata": {},
   "source": [
    "### 練習\n",
    "\n",
    "你能想到最長的、每個字母只出現一次的單字是什麼？\n",
    "讓我們看看能不能找到比 `unpredictably` (無法預測地) 更長的。\n",
    "(unpredictably 長度 14，字母不重複)\n",
    "\n",
    "寫一個叫做 `has_duplicates` 的函數，它接收一個序列 (像是列表或字串) 作為參數，\n",
    "如果序列中有任何元素出現超過一次，就回傳 `True`。"
   ]
  },
  {
   "cell_type": "markdown",
   "id": "43df9bd2",
   "metadata": {},
   "source": [
    "為了讓你開始，這裡有一個包含 doctests 的函數大綱。"
   ]
  },
  {
   "cell_type": "code",
   "execution_count": null,
   "id": "576a3269",
   "metadata": {
    "lines_to_next_cell": 1
   },
   "outputs": [],
   "source": [
    "def has_duplicates_starter(t): # 改名避免與解答衝突\n",
    "    \"\"\"檢查序列中是否有任何元素出現超過一次。\n",
    "\n",
    "    >>> has_duplicates_starter('banana')\n",
    "    True\n",
    "    >>> has_duplicates_starter('ambidextrously') # 左右開弓地 (長度 14，字母不重複)\n",
    "    False\n",
    "    >>> has_duplicates_starter([1, 2, 2])\n",
    "    True\n",
    "    >>> has_duplicates_starter([1, 2, 3])\n",
    "    False\n",
    "    \"\"\"\n",
    "    return None # 你的程式碼會取代這裡"
   ]
  },
  {
   "cell_type": "markdown",
   "id": "62a0c557",
   "metadata": {},
   "source": [
    "解答"
   ]
  },
  {
   "cell_type": "code",
   "execution_count": null,
   "id": "e35fc9a3",
   "metadata": {},
   "outputs": [],
   "source": [
    "def has_duplicates(t):\n",
    "    \"\"\"檢查序列中是否有任何元素出現超過一次。\n",
    "\n",
    "    >>> has_duplicates('banana')\n",
    "    True\n",
    "    >>> has_duplicates('ambidextrously')\n",
    "    False\n",
    "    >>> has_duplicates([1, 2, 2])\n",
    "    True\n",
    "    >>> has_duplicates([1, 2, 3])\n",
    "    False\n",
    "    \"\"\"\n",
    "    # 方法一: 使用字典來計數或標記\n",
    "    # d = {}\n",
    "    # for x in t:\n",
    "    #     if x in d:\n",
    "    #         return True # 發現重複\n",
    "    #     d[x] = True\n",
    "    # return False # 沒有重複\n",
    "\n",
    "    # 方法二: 比較原長度和轉換成 set 後的長度 (set 會自動去重)\n",
    "    return len(t) != len(set(t))\n",
    "\n",
    "    # 書中解答的邏輯是：\n",
    "    # d = {}\n",
    "    # for x in t:\n",
    "    #     d[x] = True # 把元素當鍵存入，值不重要\n",
    "    # # 如果有重複元素，加入字典時鍵會被覆蓋，所以字典長度會小於原序列長度\n",
    "    # return len(d) < len(t)"
   ]
  },
  {
   "cell_type": "markdown",
   "id": "f91ec4c4",
   "metadata": {},
   "source": [
    "你可以用 `doctest` 來測試你的函數。"
   ]
  },
  {
   "cell_type": "code",
   "execution_count": null,
   "id": "88ce9d1b",
   "metadata": {
    "lines_to_next_cell": 1
   },
   "outputs": [],
   "source": [
    "from doctest import run_docstring_examples"
   ]
  },
  {
   "cell_type": "code",
   "execution_count": null,
   "id": "b3177e87",
   "metadata": {
    "lines_to_next_cell": 1
   },
   "outputs": [],
   "source": [
    "def run_doctests(func):\n",
    "    print(f\"--- 執行 {func.__name__} 的 doctests ---\")\n",
    "    run_docstring_examples(func, globals(), name=func.__name__)"
   ]
  },
  {
   "cell_type": "code",
   "execution_count": null,
   "id": "a26b65ac",
   "metadata": {},
   "outputs": [],
   "source": [
    "run_doctests(has_duplicates)"
   ]
  },
  {
   "cell_type": "markdown",
   "id": "c85de316",
   "metadata": {},
   "source": [
    "你可以用這個迴圈來找出沒有重複字母的最長單字。\n",
    "(這裡用的是 word_list，不是 word_dict，因為我們要檢查原始單字)"
   ]
  },
  {
   "cell_type": "code",
   "execution_count": null,
   "id": "c1046868",
   "metadata": {},
   "outputs": [],
   "source": [
    "no_repeats_words = []\n",
    "longest_no_repeat_word = \"\""
   ]
  },
  {
   "cell_type": "code",
   "execution_count": null,
   "id": "126659d4",
   "metadata": {},
   "outputs": [],
   "source": [
    "print(\"\\n--- 找出沒有重複字母的長單字 (長度 > 12) ---\")\n",
    "if word_list: # 確保 word_list 已載入\n",
    "    for word_from_list in word_list:\n",
    "        if not has_duplicates(word_from_list):\n",
    "            if len(word_from_list) > 12: # 先找長度大於12的\n",
    "                no_repeats_words.append(word_from_list)\n",
    "            if len(word_from_list) > len(longest_no_repeat_word):\n",
    "                longest_no_repeat_word = word_from_list\n",
    "\n",
    "    print(f\"長度大於 12 且無重複字母的單字 (部分): {no_repeats_words[:10]}\") # 印出前10個\n",
    "    print(f\"找到的最長無重複字母單字是: '{longest_no_repeat_word}' (長度: {len(longest_no_repeat_word)})\")\n",
    "    # 書中找到的是 'uncopyrightable' 和 'ambidextrously' (長度15)\n",
    "    # 'dermatoglyphics' (指紋學，長度15)\n",
    "    # 'misunderstandingly' (誤解地，長度18，但有重複s,n,d,i,y)\n",
    "    # 'globefish-sucker' (16, 但有 hyphen)\n",
    "else:\n",
    "    print(\"單字列表是空的，無法搜尋。\")"
   ]
  },
  {
   "cell_type": "markdown",
   "id": "878179c8",
   "metadata": {},
   "source": [
    "### 練習\n",
    "\n",
    "寫一個叫做 `find_repeats` 的函數，它接收一個字典作為參數，\n",
    "這個字典把每個鍵對應到一個計數器，就像 `value_counts` 的結果一樣。\n",
    "它應該遍歷這個字典，並回傳一個包含計數大於 `1` 的所有鍵的列表。\n",
    "你可以用下面的大綱開始。"
   ]
  },
  {
   "cell_type": "code",
   "execution_count": null,
   "id": "6b43f36a",
   "metadata": {
    "lines_to_next_cell": 1
   },
   "outputs": [],
   "source": [
    "def find_repeats_starter(counter): # 改名避免與解答衝突\n",
    "    \"\"\"建立一個值大於 1 的所有鍵的列表。\n",
    "\n",
    "    counter: 一個把鍵對應到計數的字典\n",
    "\n",
    "    回傳: 鍵的列表\n",
    "    \"\"\"\n",
    "    return [] # 你的程式碼會取代這裡"
   ]
  },
  {
   "cell_type": "markdown",
   "id": "13029e50",
   "metadata": {},
   "source": [
    "解答"
   ]
  },
  {
   "cell_type": "code",
   "execution_count": null,
   "id": "4cd847b7",
   "metadata": {
    "lines_to_next_cell": 1
   },
   "outputs": [],
   "source": [
    "def find_repeats(counter_dict): # 參數名改為 counter_dict 以示區別\n",
    "    \"\"\"建立一個值大於 1 的所有鍵的列表。\n",
    "\n",
    "    counter_dict: 一個把鍵對應到計數的字典\n",
    "\n",
    "    回傳: 鍵的列表\n",
    "    \"\"\"\n",
    "    repeats_list = []\n",
    "    # 遍歷字典的鍵值對 (items)\n",
    "    for key, count_val in counter_dict.items():\n",
    "        if count_val > 1:\n",
    "            repeats_list.append(key)\n",
    "    return repeats_list"
   ]
  },
  {
   "cell_type": "markdown",
   "id": "dfd7c804",
   "metadata": {},
   "source": [
    "你可以用下面的例子來測試你的程式碼。\n",
    "首先，我們建立一個把字母對應到計數的字典。"
   ]
  },
  {
   "cell_type": "code",
   "execution_count": null,
   "id": "38777ab6",
   "metadata": {},
   "outputs": [],
   "source": [
    "counter1_repeats_test = value_counts('banana')\n",
    "print(f\"\\n--- 測試 find_repeats ---\")\n",
    "print(f\"counter1_repeats_test ('banana'): {counter1_repeats_test}\")"
   ]
  },
  {
   "cell_type": "markdown",
   "id": "8dd68c03",
   "metadata": {},
   "source": [
    "`find_repeats` 的結果應該是 `['a', 'n']` (順序可能不同，因為字典無序)。"
   ]
  },
  {
   "cell_type": "code",
   "execution_count": null,
   "id": "9f7a0495",
   "metadata": {},
   "outputs": [],
   "source": [
    "repeats_result1 = find_repeats(counter1_repeats_test)\n",
    "print(f\"find_repeats(counter1_repeats_test) 的結果: {sorted(repeats_result1)}\") # 排序以方便比較"
   ]
  },
  {
   "cell_type": "markdown",
   "id": "fa274285",
   "metadata": {},
   "source": [
    "這裡有另一個從數字列表開始的例子。\n",
    "結果應該是 `[1, 2]` (順序可能不同)。"
   ]
  },
  {
   "cell_type": "code",
   "execution_count": null,
   "id": "7e998b5c",
   "metadata": {},
   "outputs": [],
   "source": [
    "counter2_repeats_test = value_counts([1, 2, 3, 2, 1])\n",
    "print(f\"counter2_repeats_test ([1, 2, 3, 2, 1]): {counter2_repeats_test}\")\n",
    "repeats_result2 = find_repeats(counter2_repeats_test)\n",
    "print(f\"find_repeats(counter2_repeats_test) 的結果: {sorted(repeats_result2)}\") # 排序以方便比較"
   ]
  },
  {
   "cell_type": "markdown",
   "id": "5cf9d961",
   "metadata": {},
   "source": [
    "### 練習\n",
    "\n",
    "假設你用兩個不同的單字執行 `value_counts`，並把結果儲存在兩個字典中。"
   ]
  },
  {
   "cell_type": "code",
   "execution_count": null,
   "id": "f4c9127e",
   "metadata": {
    "lines_to_next_cell": 1
   },
   "outputs": [],
   "source": [
    "counter1_add = value_counts('brontosaurus')\n",
    "counter2_add = value_counts('apatosaurus') # apatosaurus (迷惑龍)\n",
    "print(f\"\\n--- 測試 add_counters ---\")\n",
    "print(f\"counter1_add ('brontosaurus'): {counter1_add}\")\n",
    "print(f\"counter2_add ('apatosaurus'): {counter2_add}\")"
   ]
  },
  {
   "cell_type": "markdown",
   "id": "49a7688f",
   "metadata": {},
   "source": [
    "每個字典都把一組字母對應到它們出現的次數。\n",
    "寫一個叫做 `add_counters` 的函數，它接收兩個像這樣的字典，\n",
    "並回傳一個新的字典，其中包含所有字母以及它們在任一個單字中出現的總次數。\n",
    "\n",
    "這個問題有很多種解法。\n",
    "一旦你有了一個可以運作的解法，可以考慮問問虛擬助理不同的解法。"
   ]
  },
  {
   "cell_type": "markdown",
   "id": "99ad2f76",
   "metadata": {},
   "source": [
    "解答"
   ]
  },
  {
   "cell_type": "code",
   "execution_count": null,
   "id": "5262fed8",
   "metadata": {
    "lines_to_next_cell": 1
   },
   "outputs": [],
   "source": [
    "def add_counters(counter_a, counter_b):\n",
    "    # 從 counter_a 建立一個副本開始，這樣才不會修改到原始的 counter_a\n",
    "    result_counter = dict(counter_a)\n",
    "\n",
    "    # 遍歷 counter_b\n",
    "    for letter, count_val_b in counter_b.items():\n",
    "        # 使用 get 來取得 result_counter 中 letter 的現有計數 (如果沒有就是 0)\n",
    "        # 然後加上 counter_b 中 letter 的計數\n",
    "        result_counter[letter] = result_counter.get(letter, 0) + count_val_b\n",
    "    return result_counter"
   ]
  },
  {
   "cell_type": "code",
   "execution_count": null,
   "id": "ad9b9b12",
   "metadata": {},
   "outputs": [],
   "source": [
    "# 解答 (執行)\n",
    "added_result = add_counters(counter1_add, counter2_add)\n",
    "print(f\"add_counters 的結果: {added_result}\")"
   ]
  },
  {
   "cell_type": "markdown",
   "id": "98419120",
   "metadata": {},
   "source": [
    "### 練習\n",
    "\n",
    "如果一個單字可以透過取其交錯字母來分割成兩個單字，那麼它就是一個「交錯 (interlocking)」字。\n",
    "例如，\"schooled\" (受過教育的) 是一個交錯字，因為它可以分割成 \"shoe\" (鞋子) 和 \"cold\" (冷的)。\n",
    "\n",
    "要從一個字串中選取交錯的字母，你可以使用有三個部分 (開始、停止、步長) 的切片運算子。\n",
    "\n",
    "在下面的切片中，第一個部分是 `0`，所以我們從第一個字母開始。\n",
    "第二個部分是 `None`，表示我們應該一直到字串的結尾。\n",
    "第三個部分是 `2`，所以我們選取的字母之間有兩個步長 (即每隔一個取一個)。"
   ]
  },
  {
   "cell_type": "code",
   "execution_count": null,
   "id": "49e18be4",
   "metadata": {},
   "outputs": [],
   "source": [
    "word_interlock_example = 'schooled'\n",
    "first_half = word_interlock_example[0:None:2] # 從索引0開始，每隔2個取一個\n",
    "print(f\"\\n--- 測試交錯字 ---\")\n",
    "print(f\"'{word_interlock_example}' 的第一個交錯部分: {first_half}\")"
   ]
  },
  {
   "cell_type": "markdown",
   "id": "c26ca57a",
   "metadata": {},
   "source": [
    "與其提供 `None` 作為第二個部分，我們也可以完全省略它來達到相同的效果。\n",
    "例如，下面的切片選取交錯的字母，從第二個字母開始。"
   ]
  },
  {
   "cell_type": "code",
   "execution_count": null,
   "id": "ec6bf98c",
   "metadata": {
    "lines_to_next_cell": 1
   },
   "outputs": [],
   "source": [
    "second_half = word_interlock_example[1::2] # 從索引1開始，每隔2個取一個 (到結尾)\n",
    "print(f\"'{word_interlock_example}' 的第二個交錯部分: {second_half}\")"
   ]
  },
  {
   "cell_type": "markdown",
   "id": "a4d84e38",
   "metadata": {},
   "source": [
    "寫一個叫做 `is_interlocking` 的函數，它接收一個單字作為參數，\n",
    "如果它可以分割成兩個交錯的單字 (且這兩個分割出來的字都在 `word_dict` 中)，就回傳 `True`。"
   ]
  },
  {
   "cell_type": "markdown",
   "id": "08a61afd",
   "metadata": {},
   "source": [
    "解答"
   ]
  },
  {
   "cell_type": "code",
   "execution_count": null,
   "id": "60583ab3",
   "metadata": {
    "lines_to_next_cell": 1
   },
   "outputs": [],
   "source": [
    "def is_interlocking(word_to_check):\n",
    "    # 這裡假設 word_dict 已經被建立了\n",
    "    if not word_dict:\n",
    "        # print(\"警告: word_dict 未建立，is_interlocking 可能無法正常運作。\")\n",
    "        # 為了讓 doctest 或獨立測試能跑，如果 word_dict 不存在，可以暫時用一個小的\n",
    "        # 模擬 word_dict，或者讓它在 word_list 上查找，但會比較慢。\n",
    "        # 這裡為了符合題目情境，我們假設 word_dict 存在。\n",
    "        # 如果 word_dict 為空，那麼 in word_dict 永遠是 False。\n",
    "        pass\n",
    "\n",
    "    first = word_to_check[0::2]\n",
    "    second = word_to_check[1::2]\n",
    "    return first in word_dict and second in word_dict"
   ]
  },
  {
   "cell_type": "markdown",
   "id": "aa03eb5a",
   "metadata": {},
   "source": [
    "你可以用下面的迴圈來找出單字列表中的交錯字。\n",
    "(這裡用的是 word_list，因為我們要檢查的 word 是從 word_list 來的原始字串)"
   ]
  },
  {
   "cell_type": "code",
   "execution_count": null,
   "id": "bb6512cc",
   "metadata": {},
   "outputs": [],
   "source": [
    "print(\"\\n--- 找出交錯字 (長度 >= 8) ---\")\n",
    "interlocking_count = 0\n",
    "if word_list and word_dict: # 確保兩者都已載入\n",
    "    for word_from_list_interlock in word_list:\n",
    "        if len(word_from_list_interlock) >= 8 and is_interlocking(word_from_list_interlock):\n",
    "            first_part = word_from_list_interlock[0::2]\n",
    "            second_part = word_from_list_interlock[1::2]\n",
    "            print(word_from_list_interlock, first_part, second_part)\n",
    "            interlocking_count += 1\n",
    "    if interlocking_count == 0:\n",
    "        print(\"沒有找到符合條件的交錯字。\")\n",
    "else:\n",
    "    print(\"單字列表或字典未載入，無法搜尋交錯字。\")"
   ]
  },
  {
   "cell_type": "markdown",
   "id": "53770188",
   "metadata": {},
   "source": [
    "(這個儲存格是空的，保留)"
   ]
  },
  {
   "cell_type": "markdown",
   "id": "22b2c4fc",
   "metadata": {},
   "source": [
    "[Think Python: 3rd Edition](https://allendowney.github.io/ThinkPython/index.html)\n",
    "\n",
    "Copyright 2024 [Allen B. Downey](https://allendowney.com)\n",
    "\n",
    "程式碼授權: [MIT License](https://mit-license.org/)\n",
    "\n",
    "文字內容授權: [Creative Commons Attribution-NonCommercial-ShareAlike 4.0 International](https://creativecommons.org/licenses/by-nc-sa/4.0/)"
   ]
  }
 ],
 "metadata": {
  "jupytext": {
   "cell_metadata_filter": "-all",
   "main_language": "python",
   "notebook_metadata_filter": "-all"
  }
 },
 "nbformat": 4,
 "nbformat_minor": 5
}
