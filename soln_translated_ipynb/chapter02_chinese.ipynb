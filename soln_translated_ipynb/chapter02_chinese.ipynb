{
 "cells": [
  {
   "cell_type": "markdown",
   "id": "c1f86c5d",
   "metadata": {},
   "source": [
    "\u4f60\u53ef\u4ee5\u5f9e\n",
    "[Bookshop.org](https://bookshop.org/a/98697/9781098155438) \u548c\n",
    "[Amazon](https://www.amazon.com/_/dp/1098155432?smid=ATVPDKIKX0DER&_encoding=UTF8&tag=oreilly20-20&_encoding=UTF8&tag=greenteapre01-20&linkCode=ur2&linkId=e2a529f94920295d27ec8a06e757dc7c&camp=1789&creative=9325)\n",
    "\u8a02\u8cfc\u300aThink Python 3e\u300b\u7684\u5be6\u9ad4\u66f8\u548c\u96fb\u5b50\u66f8\u7248\u672c\u3002"
   ]
  },
  {
   "cell_type": "code",
   "execution_count": null,
   "id": "db1ddf68",
   "metadata": {
    "lines_to_next_cell": 1
   },
   "outputs": [],
   "source": [
    "from os.path import basename, exists"
   ]
  },
  {
   "cell_type": "code",
   "execution_count": null,
   "id": "f2fef853",
   "metadata": {
    "lines_to_next_cell": 1
   },
   "outputs": [],
   "source": [
    "def download(url):\n",
    "    filename = basename(url)\n",
    "    if not exists(filename):\n",
    "        from urllib.request import urlretrieve\n",
    "\n",
    "        local, _ = urlretrieve(url, filename)\n",
    "        print(\"\u5df2\u4e0b\u8f09 \" + str(local)) # \u8b6f\u8a3b\uff1a\u9019\u88e1\u986f\u793a\u4e0b\u8f09\u5b8c\u6210\u7684\u6a94\u6848\u8def\u5f91\n",
    "    return filename"
   ]
  },
  {
   "cell_type": "code",
   "execution_count": null,
   "id": "02d7f445",
   "metadata": {},
   "outputs": [],
   "source": [
    "download('https://github.com/AllenDowney/ThinkPython/raw/v3/thinkpython.py');\n",
    "download('https://github.com/AllenDowney/ThinkPython/raw/v3/diagram.py');"
   ]
  },
  {
   "cell_type": "code",
   "execution_count": null,
   "id": "fd74f69f",
   "metadata": {
    "lines_to_next_cell": 2
   },
   "outputs": [],
   "source": [
    "import thinkpython"
   ]
  },
  {
   "cell_type": "markdown",
   "id": "8245673c",
   "metadata": {},
   "source": [
    "# \u8b8a\u6578\u8207\u9673\u8ff0\u53e5\n",
    "\n",
    "\u5728\u4e0a\u4e00\u7ae0\uff0c\u6211\u5011\u7528\u4e86\u904b\u7b97\u5b50\u4f86\u5beb\u4e00\u4e9b\u505a\u7b97\u8853\u904b\u7b97\u7684\u904b\u7b97\u5f0f\u3002\n",
    "\n",
    "\u5728\u9019\u4e00\u7ae0\uff0c\u4f60\u6703\u5b78\u5230\u95dc\u65bc\u8b8a\u6578\u548c\u9673\u8ff0\u53e5\u3001`import` \u9673\u8ff0\u53e5\uff0c\u9084\u6709 `print` \u51fd\u5f0f\u3002\n",
    "\u6211\u4e5f\u6703\u4ecb\u7d39\u66f4\u591a\u6211\u5011\u7528\u4f86\u8ac7\u8ad6\u7a0b\u5f0f\u7684\u8a5e\u5f59\uff0c\u5305\u62ec\u300c\u5f15\u6578\u300d\u548c\u300c\u6a21\u7d44\u300d\u3002\n"
   ]
  },
  {
   "cell_type": "markdown",
   "id": "60676cc4",
   "metadata": {},
   "source": [
    "## \u8b8a\u6578\n",
    "\n",
    "**\u8b8a\u6578** \u662f\u4e00\u500b\u6307\u5411\u67d0\u500b\u503c\u7684\u540d\u7a31\u3002\n",
    "\u8981\u5efa\u7acb\u4e00\u500b\u8b8a\u6578\uff0c\u6211\u5011\u53ef\u4ee5\u5beb\u4e00\u500b\u50cf\u9019\u6a23\u7684 **\u8ce6\u503c\u9673\u8ff0\u53e5** (assignment statement)\u3002"
   ]
  },
  {
   "cell_type": "code",
   "execution_count": null,
   "id": "290820de",
   "metadata": {
    "lines_to_next_cell": 2
   },
   "outputs": [],
   "source": [
    "n = 17"
   ]
  },
  {
   "cell_type": "markdown",
   "id": "26b1533f",
   "metadata": {},
   "source": [
    "\u8ce6\u503c\u9673\u8ff0\u53e5\u6709\u4e09\u500b\u90e8\u5206\uff1a\u5de6\u908a\u662f\u8b8a\u6578\u7684\u540d\u7a31\uff0c\u4e2d\u9593\u662f\u7b49\u865f `=`\uff0c\u53f3\u908a\u662f\u4e00\u500b\u904b\u7b97\u5f0f\u3002\n",
    "\u5728\u9019\u500b\u4f8b\u5b50\u88e1\uff0c\u904b\u7b97\u5f0f\u662f\u4e00\u500b\u6574\u6578\u3002\n",
    "\u5728\u4e0b\u9762\u7684\u4f8b\u5b50\u88e1\uff0c\u904b\u7b97\u5f0f\u662f\u4e00\u500b\u6d6e\u9ede\u6578\u3002"
   ]
  },
  {
   "cell_type": "code",
   "execution_count": null,
   "id": "54828de9",
   "metadata": {
    "lines_to_next_cell": 2
   },
   "outputs": [],
   "source": [
    "pi = 3.141592653589793"
   ]
  },
  {
   "cell_type": "markdown",
   "id": "4ec995d9",
   "metadata": {},
   "source": [
    "\u800c\u5728\u4e0b\u9762\u7684\u4f8b\u5b50\u88e1\uff0c\u904b\u7b97\u5f0f\u662f\u4e00\u500b\u5b57\u4e32\u3002"
   ]
  },
  {
   "cell_type": "code",
   "execution_count": null,
   "id": "7437a0d3",
   "metadata": {
    "lines_to_next_cell": 2
   },
   "outputs": [],
   "source": [
    "message = 'And now for something completely different' # \u8b6f\u8a3b\uff1a\u9019\u662f\u8499\u63d0\u00b7\u6d3e\u68ee\u7684\u7d93\u5178\u53f0\u8a5e\u300c\u73fe\u5728\u4f86\u770b\u9ede\u5b8c\u5168\u4e0d\u4e00\u6a23\u7684\u300d"
   ]
  },
  {
   "cell_type": "markdown",
   "id": "dc99aa14",
   "metadata": {},
   "source": [
    "\u7576\u4f60\u57f7\u884c\u4e00\u500b\u8ce6\u503c\u9673\u8ff0\u53e5\u6642\uff0c\u4e0d\u6703\u6709\u4efb\u4f55\u8f38\u51fa\u3002\n",
    "Python \u6703\u5efa\u7acb\u9019\u500b\u8b8a\u6578\u4e26\u7d66\u5b83\u4e00\u500b\u503c\uff0c\u4f46\u8ce6\u503c\u9673\u8ff0\u53e5\u672c\u8eab\u6c92\u6709\u770b\u5f97\u898b\u7684\u6548\u679c\u3002\n",
    "\u4e0d\u904e\uff0c\u5efa\u7acb\u8b8a\u6578\u4e4b\u5f8c\uff0c\u4f60\u5c31\u53ef\u4ee5\u628a\u5b83\u7576\u4f5c\u4e00\u500b\u904b\u7b97\u5f0f\u4f86\u4f7f\u7528\u3002\n",
    "\u6240\u4ee5\u6211\u5011\u53ef\u4ee5\u50cf\u9019\u6a23\u986f\u793a `message` \u7684\u503c\uff1a"
   ]
  },
  {
   "cell_type": "code",
   "execution_count": null,
   "id": "00f7a460",
   "metadata": {
    "lines_to_next_cell": 2
   },
   "outputs": [],
   "source": [
    "message"
   ]
  },
  {
   "cell_type": "markdown",
   "id": "27311e2e",
   "metadata": {},
   "source": [
    "\u4f60\u4e5f\u53ef\u4ee5\u628a\u8b8a\u6578\u7576\u4f5c\u904b\u7b97\u5f0f\u7684\u4e00\u90e8\u5206\uff0c\u8ddf\u7b97\u8853\u904b\u7b97\u5b50\u4e00\u8d77\u7528\u3002"
   ]
  },
  {
   "cell_type": "code",
   "execution_count": null,
   "id": "5e855593",
   "metadata": {
    "lines_to_next_cell": 2
   },
   "outputs": [],
   "source": [
    "n + 25"
   ]
  },
  {
   "cell_type": "code",
   "execution_count": null,
   "id": "9b6dfd43",
   "metadata": {
    "lines_to_next_cell": 2
   },
   "outputs": [],
   "source": [
    "2 * pi"
   ]
  },
  {
   "cell_type": "markdown",
   "id": "778a6153",
   "metadata": {},
   "source": [
    "\u4f60\u4e5f\u53ef\u4ee5\u5728\u547c\u53eb\u51fd\u5f0f\u7684\u6642\u5019\u4f7f\u7528\u8b8a\u6578\u3002"
   ]
  },
  {
   "cell_type": "code",
   "execution_count": null,
   "id": "e85991f1",
   "metadata": {
    "lines_to_next_cell": 2
   },
   "outputs": [],
   "source": [
    "round(pi) # \u8b6f\u8a3b\uff1around() \u51fd\u5f0f\u6703\u5c07\u6d6e\u9ede\u6578\u56db\u6368\u4e94\u5165\u5230\u6700\u63a5\u8fd1\u7684\u6574\u6578"
   ]
  },
  {
   "cell_type": "code",
   "execution_count": null,
   "id": "944a4cb9",
   "metadata": {
    "lines_to_next_cell": 2
   },
   "outputs": [],
   "source": [
    "len(message) # \u8b6f\u8a3b\uff1alen() \u51fd\u5f0f\u6703\u56de\u50b3\u5b57\u4e32\u7684\u9577\u5ea6"
   ]
  },
  {
   "cell_type": "markdown",
   "id": "5f17afa3",
   "metadata": {},
   "source": [
    "## \u72c0\u614b\u5716\n",
    "\n",
    "\u5728\u7d19\u4e0a\u8868\u793a\u8b8a\u6578\u7684\u4e00\u500b\u5e38\u898b\u65b9\u6cd5\u662f\u5beb\u4e0b\u540d\u7a31\uff0c\u7136\u5f8c\u7528\u7bad\u982d\u6307\u5411\u5b83\u7684\u503c\u3002"
   ]
  },
  {
   "cell_type": "code",
   "execution_count": null,
   "id": "b87a7d73",
   "metadata": {},
   "outputs": [],
   "source": [
    "import math"
   ]
  },
  {
   "cell_type": "code",
   "execution_count": null,
   "id": "ca24ddfe",
   "metadata": {},
   "outputs": [],
   "source": [
    "from diagram import make_binding, Frame # \u8b6f\u8a3b\uff1a\u9019\u662f\u66f8\u4e2d\u7528\u4f86\u756b\u5716\u7684\u5de5\u5177"
   ]
  },
  {
   "cell_type": "code",
   "execution_count": null,
   "id": "3a3db780",
   "metadata": {},
   "outputs": [],
   "source": [
    "# \u8b6f\u8a3b\uff1a\u4ee5\u4e0b\u7a0b\u5f0f\u78bc\u662f\u70ba\u4e86\u7522\u751f\u4e00\u500b\u8b8a\u6578\u72c0\u614b\u7684\u793a\u610f\u5716\n",
    "binding = make_binding(\"message\", 'And now for something completely different')\n",
    "binding2 = make_binding(\"n\", 17)\n",
    "binding3 = make_binding(\"pi\", 3.141592653589793)"
   ]
  },
  {
   "cell_type": "code",
   "execution_count": null,
   "id": "c11a4fe2",
   "metadata": {
    "lines_to_next_cell": 2
   },
   "outputs": [],
   "source": [
    "frame = Frame([binding2, binding3, binding])"
   ]
  },
  {
   "cell_type": "code",
   "execution_count": null,
   "id": "447aa51d",
   "metadata": {
    "lines_to_next_cell": 2
   },
   "outputs": [],
   "source": [
    "from diagram import diagram, adjust # \u8b6f\u8a3b\uff1a\u9019\u662f\u66f8\u4e2d\u7528\u4f86\u756b\u5716\u7684\u5de5\u5177"
   ]
  },
  {
   "cell_type": "code",
   "execution_count": null,
   "id": "a96184a3",
   "metadata": {
    "lines_to_next_cell": 2
   },
   "outputs": [],
   "source": [
    "width, height, x, y = [3.62, 1.01, 0.6, 0.76] # \u8b6f\u8a3b\uff1a\u5716\u8868\u7684\u7e6a\u88fd\u53c3\u6578\n",
    "ax = diagram(width, height)\n",
    "bbox = frame.draw(ax, x, y, dy=-0.25)\n",
    "# adjust(x, y, bbox) # \u8b6f\u8a3b\uff1a\u8abf\u6574\u5716\u8868\u4f4d\u7f6e\u7684\u51fd\u5f0f\uff0c\u9019\u88e1\u88ab\u8a3b\u89e3\u6389\u4e86"
   ]
  },
  {
   "cell_type": "markdown",
   "id": "bf1afaf0",
   "metadata": {},
   "source": [
    "\u9019\u7a2e\u5716\u53eb\u505a **\u72c0\u614b\u5716** (state diagram)\uff0c\u56e0\u70ba\u5b83\u986f\u793a\u4e86\u6bcf\u500b\u8b8a\u6578\u8655\u65bc\u4ec0\u9ebc\u72c0\u614b\uff08\u628a\u5b83\u60f3\u6210\u662f\u8b8a\u6578\u7684\u300c\u5fc3\u7406\u72c0\u614b\u300d\uff09\u3002\n",
    "\u6211\u5011\u6703\u5728\u6574\u672c\u66f8\u4e2d\u7528\u72c0\u614b\u5716\u4f86\u8868\u793a Python \u5982\u4f55\u5132\u5b58\u8b8a\u6578\u548c\u5b83\u5011\u7684\u503c\u7684\u6a21\u578b\u3002"
   ]
  },
  {
   "cell_type": "markdown",
   "id": "a1ac5b17",
   "metadata": {},
   "source": [
    "## \u8b8a\u6578\u540d\u7a31\n",
    "\n",
    "\u8b8a\u6578\u540d\u7a31\u53ef\u4ee5\u96a8\u4f60\u559c\u6b61\u53d6\u591a\u9577\u3002\u5b83\u5011\u53ef\u4ee5\u5305\u542b\u5b57\u6bcd\u548c\u6578\u5b57\uff0c\u4f46\u4e0d\u80fd\u4ee5\u6578\u5b57\u958b\u982d\u3002\n",
    "\u4f7f\u7528\u5927\u5beb\u5b57\u6bcd\u662f\u5408\u6cd5\u7684\uff0c\u4f46\u7fd2\u6163\u4e0a\u8b8a\u6578\u540d\u7a31\u53ea\u7528\u5c0f\u5beb\u5b57\u6bcd\u3002\n",
    "\n",
    "\u8b8a\u6578\u540d\u7a31\u4e2d\u552f\u4e00\u53ef\u4ee5\u51fa\u73fe\u7684\u6a19\u9ede\u7b26\u865f\u662f\u5e95\u7dda `_`\u3002\u5b83\u5e38\u7528\u5728\u6709\u591a\u500b\u55ae\u5b57\u7684\u540d\u7a31\u4e2d\uff0c\u4f8b\u5982 `your_name` \u6216 `airspeed_of_unladen_swallow`\uff08\u8b6f\u8a3b\uff1a\u672a\u8ca0\u91cd\u71d5\u5b50\u7684\u7a7a\u901f\uff0c\u53e6\u4e00\u500b\u8499\u63d0\u00b7\u6d3e\u68ee\u6897\uff09\u3002\n",
    "\n",
    "\u5982\u679c\u4f60\u7d66\u8b8a\u6578\u53d6\u4e86\u4e00\u500b\u4e0d\u5408\u6cd5\u7684\u540d\u7a31\uff0c\u4f60\u6703\u5f97\u5230\u4e00\u500b\u8a9e\u6cd5\u932f\u8aa4\u3002\n",
    "\u540d\u7a31 `million!` \u4e0d\u5408\u6cd5\uff0c\u56e0\u70ba\u5b83\u5305\u542b\u6a19\u9ede\u7b26\u865f\u3002"
   ]
  },
  {
   "cell_type": "code",
   "execution_count": null,
   "id": "4a3b4fc5",
   "metadata": {
    "lines_to_next_cell": 2
   },
   "outputs": [],
   "source": [
    "get_ipython().run_cell_magic('expect', 'SyntaxError', '\\nmillion! = 1000000\\n') # \u8b6f\u8a3b\uff1a\u9019\u88e1\u9810\u671f\u6703\u767c\u751f\u8a9e\u6cd5\u932f\u8aa4 (SyntaxError)"
   ]
  },
  {
   "cell_type": "markdown",
   "id": "47efce0f",
   "metadata": {},
   "source": [
    "`76trombones` \u4e0d\u5408\u6cd5\uff0c\u56e0\u70ba\u5b83\u4ee5\u6578\u5b57\u958b\u982d\u3002"
   ]
  },
  {
   "cell_type": "code",
   "execution_count": null,
   "id": "4eaca6d8",
   "metadata": {
    "lines_to_next_cell": 2
   },
   "outputs": [],
   "source": [
    "get_ipython().run_cell_magic('expect', 'SyntaxError', \"\\n76trombones = 'big parade'\\n\") # \u8b6f\u8a3b\uff1a\u9019\u88e1\u9810\u671f\u6703\u767c\u751f\u8a9e\u6cd5\u932f\u8aa4"
   ]
  },
  {
   "cell_type": "markdown",
   "id": "83a82e4d",
   "metadata": {},
   "source": [
    "`class` \u4e5f\u4e0d\u5408\u6cd5\uff0c\u4f46\u539f\u56e0\u53ef\u80fd\u4e0d\u592a\u660e\u986f\u3002"
   ]
  },
  {
   "cell_type": "code",
   "execution_count": null,
   "id": "07daced8",
   "metadata": {
    "lines_to_next_cell": 2
   },
   "outputs": [],
   "source": [
    "get_ipython().run_cell_magic('expect', 'SyntaxError', \"\\nclass = 'Self-Defence Against Fresh Fruit'\\n\") # \u8b6f\u8a3b\uff1a\u9019\u88e1\u9810\u671f\u6703\u767c\u751f\u8a9e\u6cd5\u932f\u8aa4\uff0c\u300c\u5c0d\u6297\u65b0\u9bae\u6c34\u679c\u7684\u81ea\u885b\u8853\u300d\uff0c\u53c8\u4e00\u500b\u8499\u63d0\u00b7\u6d3e\u68ee\u6897"
   ]
  },
  {
   "cell_type": "markdown",
   "id": "72a9b1a5",
   "metadata": {},
   "source": [
    "\u539f\u4f86 `class` \u662f\u4e00\u500b **\u95dc\u9375\u5b57** (keyword)\uff0c\u5b83\u662f\u4e00\u500b\u7279\u6b8a\u7684\u5b57\uff0c\u7528\u4f86\u6307\u5b9a\u7a0b\u5f0f\u7684\u7d50\u69cb\u3002\n",
    "\u95dc\u9375\u5b57\u4e0d\u80fd\u7576\u4f5c\u8b8a\u6578\u540d\u7a31\u3002\n",
    "\n",
    "\u9019\u88e1\u662f Python \u95dc\u9375\u5b57\u7684\u5b8c\u6574\u5217\u8868\uff1a"
   ]
  },
  {
   "cell_type": "markdown",
   "id": "f0a58653",
   "metadata": {},
   "source": [
    "```\n",
    "False      await      else       import     pass\n",
    "None       break      except     in         raise\n",
    "True       class      finally    is         return\n",
    "and        continue   for        lambda     try\n",
    "as         def        from       nonlocal   while\n",
    "assert     del        global     not        with\n",
    "async      elif       if         or         yield\n",
    "```"
   ]
  },
  {
   "cell_type": "code",
   "execution_count": null,
   "id": "78ab5679",
   "metadata": {},
   "outputs": [],
   "source": [
    "from keyword import kwlist # \u8b6f\u8a3b\uff1akwlist \u662f\u4e00\u500b\u5305\u542b\u6240\u6709 Python \u95dc\u9375\u5b57\u7684\u5217\u8868"
   ]
  },
  {
   "cell_type": "code",
   "execution_count": null,
   "id": "93323006",
   "metadata": {
    "lines_to_next_cell": 2
   },
   "outputs": [],
   "source": [
    "len(kwlist) # \u8b6f\u8a3b\uff1a\u986f\u793a Python \u95dc\u9375\u5b57\u7684\u6578\u91cf"
   ]
  },
  {
   "cell_type": "markdown",
   "id": "4b0a386c",
   "metadata": {},
   "source": [
    "\u4f60\u4e0d\u9700\u8981\u8a18\u4f4f\u9019\u500b\u5217\u8868\u3002\u5728\u5927\u591a\u6578\u7684\u958b\u767c\u74b0\u5883\u4e2d\uff0c\u95dc\u9375\u5b57\u6703\u7528\u4e0d\u540c\u7684\u984f\u8272\u986f\u793a\uff1b\u5982\u679c\u4f60\u60f3\u7528\u95dc\u9375\u5b57\u7576\u8b8a\u6578\u540d\u7a31\uff0c\u4f60\u5c31\u6703\u77e5\u9053\u4e86\u3002"
   ]
  },
  {
   "cell_type": "markdown",
   "id": "9393c523",
   "metadata": {},
   "source": [
    "## import \u9673\u8ff0\u53e5\n",
    "\n",
    "\u70ba\u4e86\u4f7f\u7528\u67d0\u4e9b Python \u529f\u80fd\uff0c\u4f60\u5fc5\u9808 **\u532f\u5165** (import) \u5b83\u5011\u3002\n",
    "\u4f8b\u5982\uff0c\u4e0b\u9762\u7684\u9673\u8ff0\u53e5\u532f\u5165\u4e86 `math` \u6a21\u7d44\u3002"
   ]
  },
  {
   "cell_type": "code",
   "execution_count": null,
   "id": "9178ca29",
   "metadata": {
    "lines_to_next_cell": 2
   },
   "outputs": [],
   "source": [
    "import math"
   ]
  },
  {
   "cell_type": "markdown",
   "id": "0aaa15b9",
   "metadata": {},
   "source": [
    "**\u6a21\u7d44** (module) \u662f\u4e00\u5806\u8b8a\u6578\u548c\u51fd\u5f0f\u7684\u96c6\u5408\u3002\n",
    "math \u6a21\u7d44\u63d0\u4f9b\u4e86\u4e00\u500b\u53eb\u505a `pi` \u7684\u8b8a\u6578\uff0c\u5b83\u5305\u542b\u4e86\u6578\u5b78\u5e38\u6578 $\\pi$ \u7684\u503c\u3002\n",
    "\u6211\u5011\u53ef\u4ee5\u50cf\u9019\u6a23\u986f\u793a\u5b83\u7684\u503c\u3002"
   ]
  },
  {
   "cell_type": "code",
   "execution_count": null,
   "id": "545cc513",
   "metadata": {
    "lines_to_next_cell": 2
   },
   "outputs": [],
   "source": [
    "math.pi"
   ]
  },
  {
   "cell_type": "markdown",
   "id": "76802531",
   "metadata": {},
   "source": [
    "\u8981\u4f7f\u7528\u6a21\u7d44\u4e2d\u7684\u8b8a\u6578\uff0c\u4f60\u5fc5\u9808\u5728\u6a21\u7d44\u540d\u7a31\u548c\u8b8a\u6578\u540d\u7a31\u4e4b\u9593\u4f7f\u7528 **\u9ede\u904b\u7b97\u5b50** (`.`)\u3002\n",
    "\n",
    "math \u6a21\u7d44\u4e5f\u5305\u542b\u51fd\u5f0f\u3002\n",
    "\u4f8b\u5982\uff0c`sqrt` \u8a08\u7b97\u5e73\u65b9\u6839\u3002"
   ]
  },
  {
   "cell_type": "code",
   "execution_count": null,
   "id": "78a8e574",
   "metadata": {
    "lines_to_next_cell": 2
   },
   "outputs": [],
   "source": [
    "math.sqrt(25)"
   ]
  },
  {
   "cell_type": "markdown",
   "id": "2b0bbecc",
   "metadata": {},
   "source": [
    "\u800c `pow` \u8a08\u7b97\u4e00\u500b\u6578\u5b57\u7684\u6b21\u65b9\u3002"
   ]
  },
  {
   "cell_type": "code",
   "execution_count": null,
   "id": "ea52ce5d",
   "metadata": {
    "lines_to_next_cell": 2
   },
   "outputs": [],
   "source": [
    "math.pow(5, 2) # \u8b6f\u8a3b\uff1a\u8a08\u7b97 5 \u7684 2 \u6b21\u65b9"
   ]
  },
  {
   "cell_type": "markdown",
   "id": "76ff8f37",
   "metadata": {},
   "source": [
    "\u5230\u76ee\u524d\u70ba\u6b62\uff0c\u6211\u5011\u770b\u904e\u5169\u7a2e\u8a08\u7b97\u6b21\u65b9\u7684\u65b9\u6cd5\uff1a\u53ef\u4ee5\u7528 `math.pow` \u51fd\u5f0f\uff0c\u4e5f\u53ef\u4ee5\u7528\u6b21\u65b9\u904b\u7b97\u5b50 `**`\u3002\n",
    "\u5169\u7a2e\u90fd\u53ef\u4ee5\uff0c\u4f46\u904b\u7b97\u5b50\u6bd4\u51fd\u5f0f\u66f4\u5e38\u7528\u3002"
   ]
  },
  {
   "cell_type": "markdown",
   "id": "47f3d87b",
   "metadata": {},
   "source": [
    "## \u904b\u7b97\u5f0f\u8207\u9673\u8ff0\u53e5\n",
    "\n",
    "\u5230\u76ee\u524d\u70ba\u6b62\uff0c\u6211\u5011\u5df2\u7d93\u770b\u904e\u5e7e\u7a2e\u904b\u7b97\u5f0f\u3002\n",
    "\u4e00\u500b\u904b\u7b97\u5f0f\u53ef\u4ee5\u662f\u4e00\u500b\u55ae\u7368\u7684\u503c\uff0c\u50cf\u662f\u6574\u6578\u3001\u6d6e\u9ede\u6578\u6216\u5b57\u4e32\u3002\n",
    "\u5b83\u4e5f\u53ef\u4ee5\u662f\u4e00\u5806\u503c\u548c\u904b\u7b97\u5b50\u7684\u7d44\u5408\u3002\n",
    "\u800c\u4e14\u5b83\u53ef\u4ee5\u5305\u542b\u8b8a\u6578\u540d\u7a31\u548c\u51fd\u5f0f\u547c\u53eb\u3002\n",
    "\u9019\u88e1\u6709\u4e00\u500b\u5305\u542b\u597d\u5e7e\u500b\u9019\u4e9b\u5143\u7d20\u7684\u904b\u7b97\u5f0f\u3002"
   ]
  },
  {
   "cell_type": "code",
   "execution_count": null,
   "id": "e9c71131",
   "metadata": {
    "lines_to_next_cell": 2
   },
   "outputs": [],
   "source": [
    "19 + n + round(math.pi) * 2"
   ]
  },
  {
   "cell_type": "markdown",
   "id": "cf651999",
   "metadata": {},
   "source": [
    "\u6211\u5011\u4e5f\u770b\u904e\u5e7e\u7a2e\u9673\u8ff0\u53e5\u3002\n",
    "**\u9673\u8ff0\u53e5** (statement) \u662f\u4e00\u6bb5\u6709\u6548\u679c\u4f46\u6c92\u6709\u503c\u7684\u7a0b\u5f0f\u78bc\u3002\n",
    "\u4f8b\u5982\uff0c\u8ce6\u503c\u9673\u8ff0\u53e5\u6703\u5efa\u7acb\u4e00\u500b\u8b8a\u6578\u4e26\u7d66\u5b83\u4e00\u500b\u503c\uff0c\u4f46\u9673\u8ff0\u53e5\u672c\u8eab\u6c92\u6709\u503c\u3002"
   ]
  },
  {
   "cell_type": "code",
   "execution_count": null,
   "id": "2a50ee58",
   "metadata": {
    "lines_to_next_cell": 2
   },
   "outputs": [],
   "source": [
    "n = 17"
   ]
  },
  {
   "cell_type": "markdown",
   "id": "c3602a3c",
   "metadata": {},
   "source": [
    "\u540c\u6a23\u5730\uff0cimport \u9673\u8ff0\u53e5\u6709\u6548\u679c\u2014\u2014\u5b83\u532f\u5165\u4e00\u500b\u6a21\u7d44\uff0c\u8b93\u6211\u5011\u53ef\u4ee5\u4f7f\u7528\u5b83\u5305\u542b\u7684\u8b8a\u6578\u548c\u51fd\u5f0f\u2014\u2014\u4f46\u5b83\u6c92\u6709\u770b\u5f97\u898b\u7684\u6548\u679c\u3002"
   ]
  },
  {
   "cell_type": "code",
   "execution_count": null,
   "id": "03df20d7",
   "metadata": {
    "lines_to_next_cell": 2
   },
   "outputs": [],
   "source": [
    "import math"
   ]
  },
  {
   "cell_type": "markdown",
   "id": "8679c29e",
   "metadata": {},
   "source": [
    "\u8a08\u7b97\u904b\u7b97\u5f0f\u7684\u503c\u53eb\u505a **\u6c42\u503c** (evaluation)\u3002\n",
    "\u57f7\u884c\u4e00\u500b\u9673\u8ff0\u53e5\u53eb\u505a **\u57f7\u884c** (execution)\u3002"
   ]
  },
  {
   "cell_type": "markdown",
   "id": "8cdf7a0d",
   "metadata": {},
   "source": [
    "## print \u51fd\u5f0f\n",
    "\n",
    "\u7576\u4f60\u5c0d\u4e00\u500b\u904b\u7b97\u5f0f\u6c42\u503c\u6642\uff0c\u7d50\u679c\u6703\u88ab\u986f\u793a\u51fa\u4f86\u3002(\u5728 Jupyter Notebook \u6216 Python \u76f4\u8b6f\u5668\u74b0\u5883\u4e2d)"
   ]
  },
  {
   "cell_type": "code",
   "execution_count": null,
   "id": "6b2dc3e1",
   "metadata": {
    "lines_to_next_cell": 2
   },
   "outputs": [],
   "source": [
    "n + 1"
   ]
  },
  {
   "cell_type": "markdown",
   "id": "fe5a045a",
   "metadata": {},
   "source": [
    "\u4f46\u5982\u679c\u4f60\u5c0d\u591a\u500b\u904b\u7b97\u5f0f\u6c42\u503c\uff0c\u53ea\u6709\u6700\u5f8c\u4e00\u500b\u7684\u503c\u6703\u88ab\u986f\u793a\u51fa\u4f86\u3002(\u5728 Jupyter Notebook \u6216 Python \u76f4\u8b6f\u5668\u7684\u4e00\u500b\u5132\u5b58\u683c/\u8f38\u5165\u884c\u4e2d)"
   ]
  },
  {
   "cell_type": "code",
   "execution_count": null,
   "id": "eeffae46",
   "metadata": {
    "lines_to_next_cell": 2
   },
   "outputs": [],
   "source": [
    "n + 2\n",
    "n + 3"
   ]
  },
  {
   "cell_type": "markdown",
   "id": "1575ca41",
   "metadata": {},
   "source": [
    "\u8981\u986f\u793a\u591a\u500b\u503c\uff0c\u4f60\u53ef\u4ee5\u4f7f\u7528 `print` \u51fd\u5f0f\u3002"
   ]
  },
  {
   "cell_type": "code",
   "execution_count": null,
   "id": "72e086ca",
   "metadata": {
    "lines_to_next_cell": 2
   },
   "outputs": [],
   "source": [
    "print(n+2)\n",
    "print(n+3)"
   ]
  },
  {
   "cell_type": "markdown",
   "id": "5a647b06",
   "metadata": {},
   "source": [
    "\u5b83\u5c0d\u6d6e\u9ede\u6578\u548c\u5b57\u4e32\u4e5f\u6709\u6548\u3002"
   ]
  },
  {
   "cell_type": "code",
   "execution_count": null,
   "id": "fe2a30d3",
   "metadata": {
    "lines_to_next_cell": 2
   },
   "outputs": [],
   "source": [
    "print('pi \u7684\u503c\u5927\u7d04\u662f') # \u8b6f\u8a3b\uff1a\u5c07\u82f1\u6587\u6539\u70ba\u4e2d\u6587\n",
    "print(math.pi)"
   ]
  },
  {
   "cell_type": "markdown",
   "id": "f63cff97",
   "metadata": {},
   "source": [
    "\u4f60\u4e5f\u53ef\u4ee5\u4f7f\u7528\u4e00\u9023\u4e32\u7528\u9017\u865f\u9694\u958b\u7684\u904b\u7b97\u5f0f\u3002"
   ]
  },
  {
   "cell_type": "code",
   "execution_count": null,
   "id": "4c2061bf",
   "metadata": {
    "lines_to_next_cell": 2
   },
   "outputs": [],
   "source": [
    "print('pi \u7684\u503c\u5927\u7d04\u662f', math.pi) # \u8b6f\u8a3b\uff1a\u5c07\u82f1\u6587\u6539\u70ba\u4e2d\u6587"
   ]
  },
  {
   "cell_type": "markdown",
   "id": "023ca4b7",
   "metadata": {},
   "source": [
    "\u6ce8\u610f `print` \u51fd\u5f0f\u6703\u5728\u503c\u4e4b\u9593\u653e\u4e00\u500b\u7a7a\u683c\u3002"
   ]
  },
  {
   "cell_type": "markdown",
   "id": "98c08f5e",
   "metadata": {},
   "source": [
    "## \u5f15\u6578 (Arguments)\n",
    "\n",
    "\u7576\u4f60\u547c\u53eb\u4e00\u500b\u51fd\u5f0f\u6642\uff0c\u62ec\u865f\u88e1\u7684\u904b\u7b97\u5f0f\u53eb\u505a **\u5f15\u6578** (argument)\u3002\n",
    "\u4e00\u822c\u4f86\u8aaa\u6211\u6703\u89e3\u91cb\u70ba\u4ec0\u9ebc\uff0c\u4f46\u5728\u9019\u500b\u4f8b\u5b50\u4e2d\uff0c\u9019\u500b\u8a5e\u7684\u6280\u8853\u542b\u7fa9\u548c\u5b83\u7684\u4e00\u822c\u542b\u7fa9\u5e7e\u4e4e\u6c92\u6709\u95dc\u4fc2\uff0c\u6240\u4ee5\u6211\u751a\u81f3\u4e0d\u6253\u7b97\u8a66\u8457\u89e3\u91cb\u3002\n",
    "\n",
    "\u6211\u5011\u76ee\u524d\u770b\u904e\u7684\u4e00\u4e9b\u51fd\u5f0f\u53ea\u9700\u8981\u4e00\u500b\u5f15\u6578\uff0c\u50cf\u662f `int`\u3002"
   ]
  },
  {
   "cell_type": "code",
   "execution_count": null,
   "id": "79fc1b36",
   "metadata": {
    "lines_to_next_cell": 2
   },
   "outputs": [],
   "source": [
    "int('101') # \u8b6f\u8a3b\uff1a\u5c07\u5b57\u4e32 '101' \u8f49\u63db\u70ba\u6574\u6578 101"
   ]
  },
  {
   "cell_type": "markdown",
   "id": "52a7c152",
   "metadata": {},
   "source": [
    "\u6709\u4e9b\u9700\u8981\u5169\u500b\uff0c\u50cf\u662f `math.pow`\u3002"
   ]
  },
  {
   "cell_type": "code",
   "execution_count": null,
   "id": "ef94c43b",
   "metadata": {
    "lines_to_next_cell": 2
   },
   "outputs": [],
   "source": [
    "math.pow(5, 2) # \u8b6f\u8a3b\uff1a5 \u7684 2 \u6b21\u65b9"
   ]
  },
  {
   "cell_type": "markdown",
   "id": "5161039c",
   "metadata": {},
   "source": [
    "\u6709\u4e9b\u51fd\u5f0f\u53ef\u4ee5\u63a5\u53d7\u984d\u5916\u7684\u3001\u53ef\u9078\u7684\u5f15\u6578\u3002\n",
    "\u4f8b\u5982\uff0c`int` \u53ef\u4ee5\u63a5\u53d7\u7b2c\u4e8c\u500b\u5f15\u6578\uff0c\u7528\u4f86\u6307\u5b9a\u6578\u5b57\u7684\u57fa\u5e95\uff08\u9032\u4f4d\u5236\uff09\u3002"
   ]
  },
  {
   "cell_type": "code",
   "execution_count": null,
   "id": "eea3d7e6",
   "metadata": {
    "lines_to_next_cell": 2
   },
   "outputs": [],
   "source": [
    "int('101', 2) # \u8b6f\u8a3b\uff1a\u5c07\u4e8c\u9032\u4f4d\u7684 '101' \u8f49\u63db\u70ba\u5341\u9032\u4f4d\u7684 5"
   ]
  },
  {
   "cell_type": "markdown",
   "id": "5b1d8380",
   "metadata": {},
   "source": [
    "\u4e8c\u9032\u4f4d\u7684\u6578\u5b57\u5e8f\u5217 `101` \u4ee3\u8868\u5341\u9032\u4f4d\u7684\u6578\u5b57 5\u3002\n",
    "\n",
    "`round` \u4e5f\u53ef\u4ee5\u63a5\u53d7\u4e00\u500b\u53ef\u9078\u7684\u7b2c\u4e8c\u500b\u5f15\u6578\uff0c\u4e5f\u5c31\u662f\u8981\u56db\u6368\u4e94\u5165\u5230\u7684\u5c0f\u6578\u4f4d\u6578\u3002"
   ]
  },
  {
   "cell_type": "code",
   "execution_count": null,
   "id": "ebf461c4",
   "metadata": {
    "lines_to_next_cell": 2
   },
   "outputs": [],
   "source": [
    "round(math.pi, 3) # \u8b6f\u8a3b\uff1a\u5c07 pi \u56db\u6368\u4e94\u5165\u5230\u5c0f\u6578\u9ede\u5f8c\u4e09\u4f4d"
   ]
  },
  {
   "cell_type": "markdown",
   "id": "0cc12e3e",
   "metadata": {},
   "source": [
    "\u6709\u4e9b\u51fd\u5f0f\u53ef\u4ee5\u63a5\u53d7\u4efb\u610f\u6578\u91cf\u7684\u5f15\u6578\uff0c\u50cf\u662f `print`\u3002"
   ]
  },
  {
   "cell_type": "code",
   "execution_count": null,
   "id": "b54b05bb",
   "metadata": {
    "lines_to_next_cell": 2
   },
   "outputs": [],
   "source": [
    "print('\u4efb\u610f', '\u6578\u91cf', '\u7684', '\u5f15\u6578') # \u8b6f\u8a3b\uff1a\u5c07\u82f1\u6587\u6539\u70ba\u4e2d\u6587"
   ]
  },
  {
   "cell_type": "markdown",
   "id": "76e41c3d",
   "metadata": {},
   "source": [
    "\u5982\u679c\u4f60\u547c\u53eb\u51fd\u5f0f\u6642\u63d0\u4f9b\u4e86\u592a\u591a\u5f15\u6578\uff0c\u90a3\u6703\u662f\u500b `TypeError` (\u578b\u5225\u932f\u8aa4)\u3002"
   ]
  },
  {
   "cell_type": "code",
   "execution_count": null,
   "id": "5926a772",
   "metadata": {
    "lines_to_next_cell": 2
   },
   "outputs": [],
   "source": [
    "get_ipython().run_cell_magic('expect', 'TypeError', \"\\nfloat('123.0', 2)\\n\") # \u8b6f\u8a3b\uff1a\u9019\u88e1\u9810\u671f\u6703\u767c\u751f TypeError\uff0c\u56e0\u70ba float() \u4e0d\u63a5\u53d7\u7b2c\u4e8c\u500b\u5f15\u6578"
   ]
  },
  {
   "cell_type": "markdown",
   "id": "d96b0918",
   "metadata": {},
   "source": [
    "\u5982\u679c\u4f60\u63d0\u4f9b\u7684\u5f15\u6578\u592a\u5c11\uff0c\u90a3\u4e5f\u662f\u500b `TypeError`\u3002"
   ]
  },
  {
   "cell_type": "code",
   "execution_count": null,
   "id": "f0791ec3",
   "metadata": {
    "lines_to_next_cell": 2
   },
   "outputs": [],
   "source": [
    "get_ipython().run_cell_magic('expect', 'TypeError', '\\nmath.pow(2)\\n') # \u8b6f\u8a3b\uff1a\u9019\u88e1\u9810\u671f\u6703\u767c\u751f TypeError\uff0c\u56e0\u70ba math.pow() \u9700\u8981\u5169\u500b\u5f15\u6578"
   ]
  },
  {
   "cell_type": "markdown",
   "id": "178907ff",
   "metadata": {},
   "source": [
    "\u5982\u679c\u4f60\u63d0\u4f9b\u4e86\u4e00\u500b\u51fd\u5f0f\u7121\u6cd5\u8655\u7406\u7684\u578b\u5225\u7684\u5f15\u6578\uff0c\u90a3\u4e5f\u662f\u500b `TypeError`\u3002"
   ]
  },
  {
   "cell_type": "code",
   "execution_count": null,
   "id": "4fa0b9eb",
   "metadata": {
    "lines_to_next_cell": 2
   },
   "outputs": [],
   "source": [
    "get_ipython().run_cell_magic('expect', 'TypeError', \"\\nmath.sqrt('123')\\n\") # \u8b6f\u8a3b\uff1a\u9019\u88e1\u9810\u671f\u6703\u767c\u751f TypeError\uff0c\u56e0\u70ba math.sqrt() \u4e0d\u80fd\u8655\u7406\u5b57\u4e32"
   ]
  },
  {
   "cell_type": "markdown",
   "id": "4fa58773",
   "metadata": {},
   "source": [
    "\u9019\u7a2e\u6aa2\u67e5\u5728\u4f60\u525b\u958b\u59cb\u5b78\u7684\u6642\u5019\u53ef\u80fd\u6703\u6709\u9ede\u7169\u4eba\uff0c\u4f46\u5b83\u80fd\u5e6b\u52a9\u4f60\u5075\u6e2c\u548c\u4fee\u6b63\u932f\u8aa4\u3002"
   ]
  },
  {
   "cell_type": "markdown",
   "id": "6b00ff63",
   "metadata": {},
   "source": [
    "## \u8a3b\u89e3 (Comments)\n",
    "\n",
    "\u96a8\u8457\u7a0b\u5f0f\u8d8a\u4f86\u8d8a\u5927\u3001\u8d8a\u4f86\u8d8a\u8907\u96dc\uff0c\u5b83\u5011\u4e5f\u8d8a\u4f86\u8d8a\u96e3\u95b1\u8b80\u3002\n",
    "\u5f62\u5f0f\u8a9e\u8a00\u5f88\u7cbe\u7149\uff0c\u5e38\u5e38\u5f88\u96e3\u770b\u61c2\u4e00\u6bb5\u7a0b\u5f0f\u78bc\u5728\u505a\u4ec0\u9ebc\u4ee5\u53ca\u70ba\u4ec0\u9ebc\u9019\u9ebc\u505a\u3002\n",
    "\n",
    "\u56e0\u6b64\uff0c\u5728\u4f60\u7684\u7a0b\u5f0f\u4e2d\u52a0\u5165\u7b46\u8a18\uff0c\u7528\u81ea\u7136\u8a9e\u8a00\u89e3\u91cb\u7a0b\u5f0f\u5728\u505a\u4ec0\u9ebc\uff0c\u662f\u500b\u597d\u4e3b\u610f\u3002\n",
    "\u9019\u4e9b\u7b46\u8a18\u53eb\u505a **\u8a3b\u89e3** (comments)\uff0c\u5b83\u5011\u4ee5 `#` \u7b26\u865f\u958b\u982d\u3002"
   ]
  },
  {
   "cell_type": "code",
   "execution_count": null,
   "id": "261f9128",
   "metadata": {
    "lines_to_next_cell": 2
   },
   "outputs": [],
   "source": [
    "# 42\u520642\u79d2\u7684\u7e3d\u79d2\u6578\n",
    "seconds = 42 * 60 + 42"
   ]
  },
  {
   "cell_type": "markdown",
   "id": "d0d9de87",
   "metadata": {},
   "source": [
    "\u5728\u9019\u500b\u4f8b\u5b50\u4e2d\uff0c\u8a3b\u89e3\u81ea\u5df1\u4f54\u4e86\u4e00\u884c\u3002\u4f60\u4e5f\u53ef\u4ee5\u628a\u8a3b\u89e3\u653e\u5728\u4e00\u884c\u7684\u7d50\u5c3e\uff1a"
   ]
  },
  {
   "cell_type": "code",
   "execution_count": null,
   "id": "bd021254",
   "metadata": {
    "lines_to_next_cell": 2
   },
   "outputs": [],
   "source": [
    "miles = 10 / 1.61     # 10\u516c\u91cc\u63db\u7b97\u6210\u82f1\u91cc"
   ]
  },
  {
   "cell_type": "markdown",
   "id": "3d26ad71",
   "metadata": {},
   "source": [
    "\u5f9e `#` \u5230\u884c\u5c3e\u7684\u6240\u6709\u5167\u5bb9\u90fd\u6703\u88ab\u5ffd\u7565\u2014\u2014\u5b83\u5c0d\u7a0b\u5f0f\u7684\u57f7\u884c\u6c92\u6709\u4efb\u4f55\u5f71\u97ff\u3002\n",
    "\n",
    "\u8a3b\u89e3\u5728\u8a18\u9304\u7a0b\u5f0f\u78bc\u4e2d\u4e0d\u660e\u986f\u7684\u7279\u6027\u6642\u6700\u6709\u7528\u3002\n",
    "\u6211\u5011\u53ef\u4ee5\u5408\u7406\u5730\u5047\u8a2d\u8b80\u8005\u80fd\u770b\u61c2\u7a0b\u5f0f\u78bc\u5728 *\u505a\u4ec0\u9ebc*\uff1b\u89e3\u91cb *\u70ba\u4ec0\u9ebc* \u9019\u9ebc\u505a\u66f4\u6709\u7528\u3002\n",
    "\n",
    "\u9019\u500b\u8a3b\u89e3\u548c\u7a0b\u5f0f\u78bc\u91cd\u8907\u4e86\uff0c\u6c92\u4ec0\u9ebc\u7528\uff1a"
   ]
  },
  {
   "cell_type": "code",
   "execution_count": null,
   "id": "be179694",
   "metadata": {
    "lines_to_next_cell": 2
   },
   "outputs": [],
   "source": [
    "v = 8     # \u628a 8 \u8ce6\u503c\u7d66 v"
   ]
  },
  {
   "cell_type": "markdown",
   "id": "250df3f0",
   "metadata": {},
   "source": [
    "\u9019\u500b\u8a3b\u89e3\u5305\u542b\u4e86\u7a0b\u5f0f\u78bc\u4e2d\u6c92\u6709\u7684\u6709\u7528\u8cc7\u8a0a\uff1a"
   ]
  },
  {
   "cell_type": "code",
   "execution_count": null,
   "id": "d8379910",
   "metadata": {
    "lines_to_next_cell": 2
   },
   "outputs": [],
   "source": [
    "v = 8     # \u901f\u5ea6\uff0c\u55ae\u4f4d\u662f\u82f1\u91cc/\u5c0f\u6642"
   ]
  },
  {
   "cell_type": "markdown",
   "id": "88603b6d",
   "metadata": {},
   "source": [
    "\u597d\u7684\u8b8a\u6578\u540d\u7a31\u53ef\u4ee5\u6e1b\u5c11\u5c0d\u8a3b\u89e3\u7684\u9700\u6c42\uff0c\u4f46\u662f\u9577\u7684\u540d\u7a31\u53ef\u80fd\u6703\u8b93\u8907\u96dc\u7684\u904b\u7b97\u5f0f\u96e3\u4ee5\u95b1\u8b80\uff0c\u6240\u4ee5\u9019\u662f\u4e00\u500b\u53d6\u6368\u3002"
   ]
  },
  {
   "cell_type": "markdown",
   "id": "a85b34c8",
   "metadata": {},
   "source": [
    "## \u9664\u932f (Debugging)\n",
    "\n",
    "\u7a0b\u5f0f\u4e2d\u53ef\u80fd\u767c\u751f\u4e09\u7a2e\u932f\u8aa4\uff1a\u8a9e\u6cd5\u932f\u8aa4\u3001\u57f7\u884c\u671f\u932f\u8aa4\u548c\u8a9e\u7fa9\u932f\u8aa4\u3002\n",
    "\u5340\u5206\u5b83\u5011\u6709\u52a9\u65bc\u66f4\u5feb\u5730\u627e\u51fa\u554f\u984c\u3002\n",
    "\n",
    "* **\u8a9e\u6cd5\u932f\u8aa4 (Syntax error)**\uff1a\u300c\u8a9e\u6cd5\u300d\u6307\u7684\u662f\u7a0b\u5f0f\u7684\u7d50\u69cb\u4ee5\u53ca\u95dc\u65bc\u8a72\u7d50\u69cb\u7684\u898f\u5247\u3002\u5982\u679c\u4f60\u7684\u7a0b\u5f0f\u4efb\u4f55\u5730\u65b9\u6709\u8a9e\u6cd5\u932f\u8aa4\uff0cPython \u4e0d\u6703\u57f7\u884c\u9019\u500b\u7a0b\u5f0f\u3002\u5b83\u6703\u7acb\u523b\u986f\u793a\u932f\u8aa4\u8a0a\u606f\u3002\n",
    "\n",
    "* **\u57f7\u884c\u671f\u932f\u8aa4 (Runtime error)**\uff1a\u5982\u679c\u4f60\u7684\u7a0b\u5f0f\u6c92\u6709\u8a9e\u6cd5\u932f\u8aa4\uff0c\u5b83\u5c31\u53ef\u4ee5\u958b\u59cb\u57f7\u884c\u3002\u4f46\u5982\u679c\u57f7\u884c\u904e\u7a0b\u4e2d\u51fa\u4e86\u554f\u984c\uff0cPython \u6703\u986f\u793a\u932f\u8aa4\u8a0a\u606f\u4e26\u505c\u6b62\u3002\u9019\u7a2e\u932f\u8aa4\u7a31\u70ba\u57f7\u884c\u671f\u932f\u8aa4\u3002\u5b83\u4e5f\u88ab\u7a31\u70ba **\u4f8b\u5916** (exception)\uff0c\u56e0\u70ba\u5b83\u8868\u793a\u767c\u751f\u4e86\u4f8b\u5916\u60c5\u6cc1\u3002\n",
    "\n",
    "* **\u8a9e\u7fa9\u932f\u8aa4 (Semantic error)**\uff1a\u7b2c\u4e09\u7a2e\u932f\u8aa4\u662f\u300c\u8a9e\u7fa9\u300d\u932f\u8aa4\uff0c\u610f\u601d\u662f\u8207\u300c\u610f\u7fa9\u300d\u76f8\u95dc\u3002\u5982\u679c\u4f60\u7684\u7a0b\u5f0f\u6709\u8a9e\u7fa9\u932f\u8aa4\uff0c\u5b83\u6703\u57f7\u884c\u800c\u4e0d\u6703\u7522\u751f\u932f\u8aa4\u8a0a\u606f\uff0c\u4f46\u5b83\u4e0d\u6703\u505a\u4f60\u60f3\u8981\u5b83\u505a\u7684\u4e8b\u3002\u627e\u51fa\u8a9e\u7fa9\u932f\u8aa4\u53ef\u80fd\u5f88\u68d8\u624b\uff0c\u56e0\u70ba\u4f60\u9700\u8981\u900f\u904e\u89c0\u5bdf\u7a0b\u5f0f\u7684\u8f38\u51fa\u4f86\u53cd\u5411\u63a8\u6572\u5b83\u5230\u5e95\u5728\u505a\u4ec0\u9ebc\u3002"
   ]
  },
  {
   "cell_type": "markdown",
   "id": "3c8e3fce",
   "metadata": {},
   "source": [
    "\u5982\u540c\u6211\u5011\u6240\u898b\uff0c\u4e0d\u5408\u6cd5\u7684\u8b8a\u6578\u540d\u7a31\u662f\u4e00\u500b\u8a9e\u6cd5\u932f\u8aa4\u3002"
   ]
  },
  {
   "cell_type": "code",
   "execution_count": null,
   "id": "9d816ede",
   "metadata": {
    "lines_to_next_cell": 2
   },
   "outputs": [],
   "source": [
    "get_ipython().run_cell_magic('expect', 'SyntaxError', '\\nmillion! = 1000000\\n') # \u8b6f\u8a3b\uff1a\u9810\u671f\u8a9e\u6cd5\u932f\u8aa4"
   ]
  },
  {
   "cell_type": "markdown",
   "id": "d0dbcf3a",
   "metadata": {},
   "source": [
    "\u5982\u679c\u4f60\u5c0d\u4e00\u500b\u904b\u7b97\u5b50\u4f7f\u7528\u4e86\u5b83\u4e0d\u652f\u63f4\u7684\u578b\u5225\uff0c\u90a3\u662f\u4e00\u500b\u57f7\u884c\u671f\u932f\u8aa4\u3002"
   ]
  },
  {
   "cell_type": "code",
   "execution_count": null,
   "id": "9838ffa2",
   "metadata": {
    "lines_to_next_cell": 2
   },
   "outputs": [],
   "source": [
    "get_ipython().run_cell_magic('expect', 'TypeError', \"\\n'126' / 3\\n\") # \u8b6f\u8a3b\uff1a\u9810\u671f TypeError\uff0c\u5b57\u4e32\u4e0d\u80fd\u9664\u4ee5\u6578\u5b57"
   ]
  },
  {
   "cell_type": "markdown",
   "id": "8a71eac6",
   "metadata": {},
   "source": [
    "\u6700\u5f8c\uff0c\u9019\u88e1\u6709\u4e00\u500b\u8a9e\u7fa9\u932f\u8aa4\u7684\u4f8b\u5b50\u3002\n",
    "\u5047\u8a2d\u6211\u5011\u60f3\u8a08\u7b97 `1` \u548c `3` \u7684\u5e73\u5747\u503c\uff0c\u4f46\u6211\u5011\u5fd8\u4e86\u904b\u7b97\u9806\u5e8f\uff0c\u5beb\u6210\u9019\u6a23\uff1a"
   ]
  },
  {
   "cell_type": "code",
   "execution_count": null,
   "id": "5e40c8fd",
   "metadata": {
    "lines_to_next_cell": 2
   },
   "outputs": [],
   "source": [
    "1 + 3 / 2"
   ]
  },
  {
   "cell_type": "markdown",
   "id": "b6582618",
   "metadata": {},
   "source": [
    "\u7576\u9019\u500b\u904b\u7b97\u5f0f\u88ab\u6c42\u503c\u6642\uff0c\u5b83\u4e0d\u6703\u7522\u751f\u932f\u8aa4\u8a0a\u606f\uff0c\u6240\u4ee5\u6c92\u6709\u8a9e\u6cd5\u932f\u8aa4\u6216\u57f7\u884c\u671f\u932f\u8aa4\u3002\n",
    "\u4f46\u7d50\u679c\u4e0d\u662f `1` \u548c `3` \u7684\u5e73\u5747\u503c\uff0c\u6240\u4ee5\u7a0b\u5f0f\u4e0d\u6b63\u78ba\u3002\n",
    "\u9019\u662f\u4e00\u500b\u8a9e\u7fa9\u932f\u8aa4\uff0c\u56e0\u70ba\u7a0b\u5f0f\u57f7\u884c\u4e86\uff0c\u4f46\u6c92\u6709\u505a\u9810\u671f\u7684\u4e8b\u60c5\u3002 (\u8b6f\u8a3b\uff1a\u6b63\u78ba\u7684\u5e73\u5747\u503c\u662f (1+3)/2 = 2\uff0c\u800c 1 + 3/2 = 1 + 1.5 = 2.5)"
   ]
  },
  {
   "cell_type": "markdown",
   "id": "b047e5f5",
   "metadata": {},
   "source": [
    "## \u8a5e\u5f59\u8868\n",
    "\n",
    "**\u8b8a\u6578 (variable):**\n",
    "\u4e00\u500b\u6307\u5411\u503c\u7684\u540d\u7a31\u3002\n",
    "\n",
    "**\u8ce6\u503c\u9673\u8ff0\u53e5 (assignment statement):**\n",
    "\u4e00\u500b\u5c07\u503c\u8ce6\u4e88\u8b8a\u6578\u7684\u9673\u8ff0\u53e5\u3002\n",
    "\n",
    "**\u72c0\u614b\u5716 (state diagram):**\n",
    "\u4e00\u7a2e\u5716\u5f62\u8868\u793a\u6cd5\uff0c\u7528\u4f86\u5448\u73fe\u4e00\u7d44\u8b8a\u6578\u4ee5\u53ca\u5b83\u5011\u6240\u6307\u5411\u7684\u503c\u3002\n",
    "\n",
    "**\u95dc\u9375\u5b57 (keyword):**\n",
    "\u4e00\u500b\u7279\u6b8a\u7684\u5b57\uff0c\u7528\u4f86\u6307\u5b9a\u7a0b\u5f0f\u7684\u7d50\u69cb\u3002\n",
    "\n",
    "**import \u9673\u8ff0\u53e5 (import statement):**\n",
    "\u4e00\u500b\u8b80\u53d6\u6a21\u7d44\u6a94\u6848\u7684\u9673\u8ff0\u53e5\uff0c\u9019\u6a23\u6211\u5011\u5c31\u53ef\u4ee5\u4f7f\u7528\u5b83\u5305\u542b\u7684\u8b8a\u6578\u548c\u51fd\u5f0f\u3002\n",
    "\n",
    "**\u6a21\u7d44 (module):**\n",
    "\u4e00\u500b\u5305\u542b Python \u7a0b\u5f0f\u78bc\u7684\u6a94\u6848\uff0c\u5305\u62ec\u51fd\u5f0f\u5b9a\u7fa9\uff0c\u6709\u6642\u4e5f\u5305\u542b\u5176\u4ed6\u9673\u8ff0\u53e5\u3002\n",
    "\n",
    "**\u9ede\u904b\u7b97\u5b50 (dot operator):**\n",
    "\u904b\u7b97\u5b50 `.`\uff0c\u7528\u4f86\u5b58\u53d6\u53e6\u4e00\u500b\u6a21\u7d44\u4e2d\u7684\u51fd\u5f0f\u6216\u8b8a\u6578\uff0c\u65b9\u6cd5\u662f\u6307\u5b9a\u6a21\u7d44\u540d\u7a31\uff0c\u5f8c\u9762\u8ddf\u8457\u4e00\u500b\u9ede\u548c\u51fd\u5f0f/\u8b8a\u6578\u540d\u7a31\u3002\n",
    "\n",
    "**\u6c42\u503c (evaluate):**\n",
    "\u57f7\u884c\u904b\u7b97\u5f0f\u4e2d\u7684\u904b\u7b97\u4ee5\u8a08\u7b97\u51fa\u4e00\u500b\u503c\u3002\n",
    "\n",
    "**\u9673\u8ff0\u53e5 (statement):**\n",
    "\u4e00\u884c\u6216\u591a\u884c\u7a0b\u5f0f\u78bc\uff0c\u4ee3\u8868\u4e00\u500b\u547d\u4ee4\u6216\u52d5\u4f5c\u3002\n",
    "\n",
    "**\u57f7\u884c (execute):**\n",
    "\u57f7\u884c\u4e00\u500b\u9673\u8ff0\u53e5\u4e26\u5b8c\u6210\u5b83\u6240\u8aaa\u7684\u4e8b\u60c5\u3002\n",
    "\n",
    "**\u5f15\u6578 (argument):**\n",
    "\u547c\u53eb\u51fd\u5f0f\u6642\u63d0\u4f9b\u7d66\u51fd\u5f0f\u7684\u503c\u3002\n",
    "\n",
    "**\u8a3b\u89e3 (comment):**\n",
    "\u5305\u542b\u5728\u7a0b\u5f0f\u4e2d\uff0c\u63d0\u4f9b\u95dc\u65bc\u7a0b\u5f0f\u7684\u8cc7\u8a0a\uff0c\u4f46\u5c0d\u5176\u57f7\u884c\u6c92\u6709\u5f71\u97ff\u7684\u6587\u5b57\u3002\n",
    "\n",
    "**\u57f7\u884c\u671f\u932f\u8aa4 (runtime error):**\n",
    "\u5c0e\u81f4\u7a0b\u5f0f\u986f\u793a\u932f\u8aa4\u8a0a\u606f\u4e26\u9000\u51fa\u7684\u932f\u8aa4\u3002\n",
    "\n",
    "**\u4f8b\u5916 (exception):**\n",
    "\u7a0b\u5f0f\u57f7\u884c\u671f\u9593\u5075\u6e2c\u5230\u7684\u932f\u8aa4\u3002\n",
    "\n",
    "**\u8a9e\u7fa9\u932f\u8aa4 (semantic error):**\n",
    "\u5c0e\u81f4\u7a0b\u5f0f\u505a\u932f\u4e8b\uff0c\u4f46\u4e0d\u6703\u986f\u793a\u932f\u8aa4\u8a0a\u606f\u7684\u932f\u8aa4\u3002"
   ]
  },
  {
   "cell_type": "markdown",
   "id": "c2c94881",
   "metadata": {},
   "source": [
    "## \u7df4\u7fd2"
   ]
  },
  {
   "cell_type": "markdown",
   "id": "f54f28b8",
   "metadata": {},
   "source": [
    "\u9019\u500b\u5132\u5b58\u683c\u544a\u8a34 Jupyter \u5728\u767c\u751f\u57f7\u884c\u671f\u932f\u8aa4\u6642\u63d0\u4f9b\u8a73\u7d30\u7684\u9664\u932f\u8cc7\u8a0a\u3002\n",
    "\u5728\u505a\u7df4\u7fd2\u4e4b\u524d\u5148\u57f7\u884c\u5b83\u3002"
   ]
  },
  {
   "cell_type": "code",
   "execution_count": null,
   "id": "3165d9db",
   "metadata": {
    "lines_to_next_cell": 2
   },
   "outputs": [],
   "source": [
    "get_ipython().run_line_magic('xmode', 'Verbose')"
   ]
  },
  {
   "cell_type": "markdown",
   "id": "cc765760",
   "metadata": {},
   "source": [
    "### \u554f\u554f\u865b\u64ec\u52a9\u7406\n",
    "\n",
    "\u518d\u6b21\uff0c\u6211\u9f13\u52f5\u4f60\u4f7f\u7528\u865b\u64ec\u52a9\u7406\u4f86\u5b78\u7fd2\u66f4\u591a\u95dc\u65bc\u672c\u7ae0\u4efb\u4f55\u4e3b\u984c\u7684\u77e5\u8b58\u3002\n",
    "\n",
    "\u5982\u679c\u4f60\u5c0d\u6211\u5217\u51fa\u7684\u4efb\u4f55\u95dc\u9375\u5b57\u611f\u5230\u597d\u5947\uff0c\u4f60\u53ef\u4ee5\u554f\u300c\u70ba\u4ec0\u9ebc class \u662f\u500b\u95dc\u9375\u5b57\uff1f\u300d\u6216\u300c\u70ba\u4ec0\u9ebc\u8b8a\u6578\u540d\u7a31\u4e0d\u80fd\u662f\u95dc\u9375\u5b57\uff1f\u300d\n",
    "\n",
    "\u4f60\u53ef\u80fd\u5df2\u7d93\u6ce8\u610f\u5230 `int`\u3001`float` \u548c `str` \u4e0d\u662f Python \u95dc\u9375\u5b57\u3002\n",
    "\u5b83\u5011\u662f\u4ee3\u8868\u578b\u5225\u7684\u8b8a\u6578\uff0c\u4e26\u4e14\u53ef\u4ee5\u4f5c\u70ba\u51fd\u5f0f\u4f7f\u7528\u3002\n",
    "\u6240\u4ee5\uff0c\u7528\u9019\u4e9b\u540d\u7a31\u4f5c\u70ba\u8b8a\u6578\u6216\u51fd\u5f0f\u540d\u7a31\u662f *\u5408\u6cd5\u7684*\uff0c\u4f46\u5f37\u70c8\u4e0d\u5efa\u8b70\u9019\u6a23\u505a\u3002\u554f\u554f\u52a9\u7406\u300c\u70ba\u4ec0\u9ebc\u7528 int\u3001float \u548c str \u4f5c\u70ba\u8b8a\u6578\u540d\u7a31\u662f\u4e0d\u597d\u7684\uff1f\u300d\n",
    "\n",
    "\u53e6\u5916\u4e5f\u554f\u554f\uff0c\u300cPython \u4e2d\u6709\u54ea\u4e9b\u5167\u5efa\u51fd\u5f0f\uff1f\u300d\n",
    "\u5982\u679c\u4f60\u5c0d\u5176\u4e2d\u4efb\u4f55\u4e00\u500b\u611f\u5230\u597d\u5947\uff0c\u53ef\u4ee5\u8981\u6c42\u66f4\u591a\u8cc7\u8a0a\u3002\n",
    "\n",
    "\u5728\u672c\u7ae0\u4e2d\uff0c\u6211\u5011\u532f\u5165\u4e86 `math` \u6a21\u7d44\u4e26\u4f7f\u7528\u5b83\u63d0\u4f9b\u7684\u4e00\u4e9b\u8b8a\u6578\u548c\u51fd\u5f0f\u3002\u554f\u554f\u52a9\u7406\uff0c\u300cmath \u6a21\u7d44\u4e2d\u6709\u54ea\u4e9b\u8b8a\u6578\u548c\u51fd\u5f0f\uff1f\u300d\u4ee5\u53ca\u300c\u9664\u4e86 math \u4e4b\u5916\uff0c\u9084\u6709\u54ea\u4e9b\u6a21\u7d44\u88ab\u8a8d\u70ba\u662f Python \u7684\u6838\u5fc3\u6a21\u7d44\uff1f\u300d"
   ]
  },
  {
   "cell_type": "markdown",
   "id": "a652b527",
   "metadata": {},
   "source": [
    "### \u7df4\u7fd2\n",
    "\n",
    "\u91cd\u8907\u6211\u4e0a\u4e00\u7ae0\u7684\u5efa\u8b70\uff0c\u6bcf\u7576\u4f60\u5b78\u7fd2\u4e00\u500b\u65b0\u529f\u80fd\u6642\uff0c\u4f60\u61c9\u8a72\u6545\u610f\u72af\u932f\uff0c\u770b\u770b\u6703\u767c\u751f\u4ec0\u9ebc\u554f\u984c\u3002\n",
    "\n",
    "-   \u6211\u5011\u5df2\u7d93\u770b\u5230 `n = 17` \u662f\u5408\u6cd5\u7684\u3002\u90a3\u9ebc `17 = n` \u5462\uff1f (\u8b6f\u8a3b\uff1a\u8a66\u8a66\u770b\u6703\u767c\u751f\u4ec0\u9ebc\u932f\u8aa4\uff01)\n",
    "\n",
    "-   `x = y = 1` \u600e\u9ebc\u6a23\uff1f (\u8b6f\u8a3b\uff1a\u9019\u5408\u6cd5\u55ce\uff1fx \u548c y \u7684\u503c\u6703\u662f\u4ec0\u9ebc\uff1f)\n",
    "\n",
    "-   \u5728\u67d0\u4e9b\u8a9e\u8a00\u4e2d\uff0c\u6bcf\u500b\u9673\u8ff0\u53e5\u90fd\u4ee5\u5206\u865f (`;`) \u7d50\u5c3e\u3002\u5982\u679c\u4f60\u5728 Python \u9673\u8ff0\u53e5\u7684\u7d50\u5c3e\u52a0\u4e0a\u5206\u865f\u6703\u767c\u751f\u4ec0\u9ebc\u4e8b\uff1f (\u8b6f\u8a3b\uff1aPython \u901a\u5e38\u4e0d\u9700\u8981\u5206\u865f\uff0c\u4f46\u52a0\u4e86\u6703\u600e\u6a23\uff1f)\n",
    "\n",
    "-   \u5982\u679c\u4f60\u5728\u9673\u8ff0\u53e5\u7684\u7d50\u5c3e\u52a0\u4e0a\u53e5\u9ede (`.`) \u5462\uff1f (\u8b6f\u8a3b\uff1a\u9019\u6703\u662f\u5408\u6cd5\u7684 Python \u8a9e\u6cd5\u55ce\uff1f)\n",
    "\n",
    "-   \u5982\u679c\u4f60\u62fc\u932f\u4e86\u6a21\u7d44\u7684\u540d\u7a31\uff0c\u8a66\u5716\u532f\u5165 `maath` \u6703\u767c\u751f\u4ec0\u9ebc\u4e8b\uff1f (\u8b6f\u8a3b\uff1a\u4f8b\u5982\u6253\u6210 `import maath` \u800c\u4e0d\u662f `import math`)"
   ]
  },
  {
   "cell_type": "markdown",
   "id": "b0b31599",
   "metadata": {},
   "source": [
    "### \u7df4\u7fd2\n",
    "\u7df4\u7fd2\u4f7f\u7528 Python \u76f4\u8b6f\u5668\u7576\u4f5c\u8a08\u7b97\u6a5f\uff1a\n",
    "\n",
    "**\u7b2c 1 \u90e8\u5206\uff1a** \u534a\u5f91\u70ba $r$ \u7684\u7403\u9ad4\u9ad4\u7a4d\u662f $\\frac{4}{3} \\pi r^3$\u3002\n",
    "\u534a\u5f91\u70ba 5 \u7684\u7403\u9ad4\u9ad4\u7a4d\u662f\u591a\u5c11\uff1f\u5f9e\u4e00\u500b\u540d\u70ba `radius` \u7684\u8b8a\u6578\u958b\u59cb\uff0c\u7136\u5f8c\u5c07\u7d50\u679c\u8ce6\u503c\u7d66\u4e00\u500b\u540d\u70ba `volume` \u7684\u8b8a\u6578\u3002\u986f\u793a\u7d50\u679c\u3002\u52a0\u4e0a\u8a3b\u89e3\u8aaa\u660e `radius` \u7684\u55ae\u4f4d\u662f\u516c\u5206\uff0c`volume` \u7684\u55ae\u4f4d\u662f\u7acb\u65b9\u516c\u5206\u3002"
   ]
  },
  {
   "cell_type": "markdown",
   "id": "d9c0495e",
   "metadata": {},
   "source": [
    "\u89e3\u7b54"
   ]
  },
  {
   "cell_type": "code",
   "execution_count": null,
   "id": "3654a4bc",
   "metadata": {
    "lines_to_next_cell": 2
   },
   "outputs": [],
   "source": [
    "radius = 5                            # \u55ae\u4f4d\uff1a\u516c\u5206\n",
    "volume = 4 / 3 * math.pi * radius**3  # \u55ae\u4f4d\uff1a\u7acb\u65b9\u516c\u5206\n",
    "volume"
   ]
  },
  {
   "cell_type": "markdown",
   "id": "1889ae0b",
   "metadata": {},
   "source": [
    "**\u7b2c 2 \u90e8\u5206\uff1a** \u4e09\u89d2\u5b78\u7684\u4e00\u500b\u6cd5\u5247\u662f\uff0c\u5c0d\u65bc\u4efb\u4f55 $x$ \u503c\uff0c$(\\cos x)^2 + (\\sin x)^2 = 1$\u3002\u8b93\u6211\u5011\u770b\u770b\u5c0d\u65bc\u7279\u5b9a\u7684 $x$ \u503c\uff0c\u4f8b\u5982 42\uff0c\u9019\u662f\u5426\u6210\u7acb\u3002\n",
    "\n",
    "\u5efa\u7acb\u4e00\u500b\u540d\u70ba `x` \u4e26\u8ce6\u4e88\u9019\u500b\u503c\u7684\u8b8a\u6578\u3002\n",
    "\u7136\u5f8c\u4f7f\u7528 `math.cos` \u548c `math.sin` \u8a08\u7b97 $x$ \u7684\u9918\u5f26\u548c\u6b63\u5f26\uff0c\u4ee5\u53ca\u5b83\u5011\u5e73\u65b9\u7684\u7e3d\u548c\u3002\n",
    "\n",
    "\u7d50\u679c\u61c9\u8a72\u63a5\u8fd1 1\u3002\u5b83\u53ef\u80fd\u4e0d\u5b8c\u5168\u662f 1\uff0c\u56e0\u70ba\u6d6e\u9ede\u6578\u904b\u7b97\u4e0d\u662f\u7cbe\u78ba\u7684\u2014\u2014\u5b83\u53ea\u662f\u8fd1\u4f3c\u6b63\u78ba\u3002"
   ]
  },
  {
   "cell_type": "markdown",
   "id": "4380a6ce",
   "metadata": {
    "lines_to_next_cell": 2
   },
   "source": [
    "In[52]: # \u8b6f\u8a3b\uff1a\u539f In[45] \u5728\u6211\u7684\u74b0\u5883\u8b8a\u6210 In[52]\uff0c\u4e0d\u5f71\u97ff\u7a0b\u5f0f\u78bc"
   ]
  },
  {
   "cell_type": "markdown",
   "id": "394b0dd5",
   "metadata": {},
   "source": [
    "\u89e3\u7b54"
   ]
  },
  {
   "cell_type": "code",
   "execution_count": null,
   "id": "4d88f9c5",
   "metadata": {
    "lines_to_next_cell": 2
   },
   "outputs": [],
   "source": [
    "x = 42\n",
    "math.cos(x)**2 + math.sin(x)**2"
   ]
  },
  {
   "cell_type": "markdown",
   "id": "dc9a547f",
   "metadata": {},
   "source": [
    "**\u7b2c 3 \u90e8\u5206\uff1a** \u9664\u4e86 `pi` \u4e4b\u5916\uff0c`math` \u6a21\u7d44\u4e2d\u5b9a\u7fa9\u7684\u53e6\u4e00\u500b\u8b8a\u6578\u662f `e`\uff0c\u5b83\u4ee3\u8868\u81ea\u7136\u5c0d\u6578\u7684\u5e95\uff0c\u6578\u5b78\u7b26\u865f\u5beb\u4f5c $e$\u3002\u5982\u679c\u4f60\u4e0d\u719f\u6089\u9019\u500b\u503c\uff0c\u53ef\u4ee5\u554f\u865b\u64ec\u52a9\u7406\u300c\u4ec0\u9ebc\u662f `math.e`\uff1f\u300d\u73fe\u5728\u8b93\u6211\u5011\u7528\u4e09\u7a2e\u65b9\u6cd5\u8a08\u7b97 $e^2$\uff1a\n",
    "\n",
    "* \u4f7f\u7528 `math.e` \u548c\u6b21\u65b9\u904b\u7b97\u5b50 (`**`)\u3002\n",
    "\n",
    "* \u4f7f\u7528 `math.pow` \u5c07 `math.e` \u63d0\u9ad8\u5230 `2` \u6b21\u65b9\u3002\n",
    "\n",
    "* \u4f7f\u7528 `math.exp`\uff0c\u5b83\u63a5\u53d7\u4e00\u500b\u5f15\u6578\u503c $x$\uff0c\u4e26\u8a08\u7b97 $e^x$\u3002\n",
    "\n",
    "\u4f60\u53ef\u80fd\u6703\u6ce8\u610f\u5230\u6700\u5f8c\u4e00\u500b\u7d50\u679c\u8207\u524d\u5169\u500b\u7565\u6709\u4e0d\u540c\u3002\n",
    "\u8a66\u8457\u627e\u51fa\u54ea\u4e00\u500b\u662f\u6b63\u78ba\u7684\u3002(\u63d0\u793a\uff1a\u53ef\u4ee5\u67e5\u95b1 `math.exp` \u7684\u6587\u4ef6\u6216\u6bd4\u8f03\u5b83\u5011\u7684\u7cbe\u78ba\u5ea6)"
   ]
  },
  {
   "cell_type": "markdown",
   "id": "e705a571",
   "metadata": {},
   "source": [
    "\u89e3\u7b54"
   ]
  },
  {
   "cell_type": "code",
   "execution_count": null,
   "id": "4f7fa4ed",
   "metadata": {
    "lines_to_next_cell": 2
   },
   "outputs": [],
   "source": [
    "math.e ** 2"
   ]
  },
  {
   "cell_type": "markdown",
   "id": "84dc3d4f",
   "metadata": {},
   "source": [
    "\u89e3\u7b54"
   ]
  },
  {
   "cell_type": "code",
   "execution_count": null,
   "id": "542dcf74",
   "metadata": {
    "lines_to_next_cell": 2
   },
   "outputs": [],
   "source": [
    "math.pow(math.e, 2)"
   ]
  },
  {
   "cell_type": "markdown",
   "id": "0a528c87",
   "metadata": {},
   "source": [
    "\u89e3\u7b54"
   ]
  },
  {
   "cell_type": "code",
   "execution_count": null,
   "id": "930d2f41",
   "metadata": {
    "lines_to_next_cell": 2
   },
   "outputs": [],
   "source": [
    "math.exp(2)"
   ]
  },
  {
   "cell_type": "markdown",
   "id": "05dac65e",
   "metadata": {},
   "source": [
    "In[ ]:"
   ]
  },
  {
   "cell_type": "markdown",
   "id": "b48f1fba",
   "metadata": {},
   "source": [
    "[Think Python: 3rd Edition](https://allendowney.github.io/ThinkPython/index.html)\n",
    "\n",
    "Copyright 2024 [Allen B. Downey](https://allendowney.com)\n",
    "\n",
    "\u7a0b\u5f0f\u78bc\u6388\u6b0a: [MIT License](https://mit-license.org/)\n",
    "\n",
    "\u6587\u5b57\u6388\u6b0a: [Creative Commons Attribution-NonCommercial-ShareAlike 4.0 International](https://creativecommons.org/licenses/by-nc-sa/4.0/)"
   ]
  }
 ],
 "metadata": {
  "jupytext": {
   "cell_metadata_filter": "-all",
   "encoding": "# coding: utf-8",
   "executable": "/usr/bin/env python",
   "main_language": "python",
   "notebook_metadata_filter": "-all"
  }
 },
 "nbformat": 4,
 "nbformat_minor": 5
}