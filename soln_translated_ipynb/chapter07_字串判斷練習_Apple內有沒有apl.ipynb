{
 "cells": [
  {
   "cell_type": "markdown",
   "id": "fb407d03",
   "metadata": {},
   "source": [
    "你可以從\n",
    "[Bookshop.org](https://bookshop.org/a/98697/9781098155438) 和\n",
    "[Amazon](https://www.amazon.com/_/dp/1098155432?smid=ATVPDKIKX0DER&_encoding=UTF8&tag=oreilly20-20&_encoding=UTF8&tag=greenteapre01-20&linkCode=ur2&linkId=e2a529f94920295d27ec8a06e757dc7c&camp=1789&creative=9325)\n",
    "訂購《Think Python 3e》的實體書和電子書版本。"
   ]
  },
  {
   "cell_type": "code",
   "execution_count": 2,
   "id": "6281687a",
   "metadata": {
    "tags": [
     "remove-cell"
    ]
   },
   "outputs": [],
   "source": [
    "from os.path import basename, exists\n",
    "\n",
    "def download(url):\n",
    "    filename = basename(url)\n",
    "    if not exists(filename):\n",
    "        from urllib.request import urlretrieve\n",
    "\n",
    "        local, _ = urlretrieve(url, filename)\n",
    "        print(\"已下載 \" + str(local)) # 譯註：這裡顯示下載完成的檔案路徑\n",
    "    return filename\n",
    "\n",
    "download('https://github.com/AllenDowney/ThinkPython/raw/v3/thinkpython.py');\n",
    "download('https://github.com/AllenDowney/ThinkPython/raw/v3/diagram.py');\n",
    "\n",
    "import thinkpython"
   ]
  },
  {
   "cell_type": "markdown",
   "id": "2c68070e",
   "metadata": {
    "tags": [
     "chapter_search"
    ]
   },
   "source": [
    "# 迭代與搜尋\n",
    "\n",
    "1939 年，歐尼斯特·文森·萊特 (Ernest Vincent Wright) 出版了一本五萬字的小說《蓋茲比》(Gadsby)，這本小說完全沒有使用字母 \"e\"。由於 \"e\" 是英文中最常見的字母，即使只寫幾個字而不使用它都很困難。\n",
    "為了體會這有多困難，在本章中，我們將計算英文單字中至少包含一個 \"e\" 的比例。\n",
    "\n",
    "為此，我們將使用 `for` 陳述句來遍歷字串中的字母和檔案中的單字，並且我們將在迴圈中更新變數來計算包含 \"e\" 的單字數量。\n",
    "我們將使用 `in` 運算子來檢查一個字母是否存在於一個單字中，你也會學到一個稱為「線性搜尋」的程式設計模式。\n",
    "\n",
    "作為練習，你將使用這些工具來解決一個名為「拼字蜜蜂」(Spelling Bee) 的文字謎題。"
   ]
  },
  {
   "cell_type": "markdown",
   "id": "79f1fc70",
   "metadata": {},
   "source": [
    "## 迴圈與字串\n",
    "\n",
    "在第 3 章中，我們看過一個使用 `range` 函式的 `for` 迴圈來顯示一連串數字。"
   ]
  },
  {
   "cell_type": "code",
   "execution_count": 3,
   "id": "d676ad5d",
   "metadata": {},
   "outputs": [
    {
     "name": "stdout",
     "output_type": "stream",
     "text": [
      "0 1 2 "
     ]
    }
   ],
   "source": [
    "for i in range(3):\n",
    "    print(i, end=' ')"
   ]
  },
  {
   "cell_type": "markdown",
   "id": "689653ef",
   "metadata": {},
   "source": [
    "這個版本使用了關鍵字引數 `end`，所以 `print` 函式會在每個數字後面放一個空格，而不是換行符。\n",
    "\n",
    "我們也可以使用 `for` 迴圈來顯示字串中的字母。"
   ]
  },
  {
   "cell_type": "code",
   "execution_count": 6,
   "id": "54876044",
   "metadata": {},
   "outputs": [
    {
     "name": "stdout",
     "output_type": "stream",
     "text": [
      "G a d s b y "
     ]
    }
   ],
   "source": [
    "for letter in 'Gadsby':\n",
    "    print(letter, end=' ')"
   ]
  },
  {
   "cell_type": "markdown",
   "id": "c4eb017f",
   "metadata": {},
   "source": [
    "注意我把變數名稱從 `i` 改成了 `letter`，這樣更能說明它所代表的值。\n",
    "在 `for` 迴圈中定義的變數稱為 **迴圈變數** (loop variable)。\n",
    "\n",
    "現在我們可以遍歷一個單字中的字母了，我們可以檢查它是否包含字母 \"e\"。"
   ]
  },
  {
   "cell_type": "code",
   "execution_count": 7,
   "id": "5b667e11",
   "metadata": {},
   "outputs": [],
   "source": [
    "for letter in \"Gadsby\":\n",
    "    if letter == 'E' or letter == 'e':\n",
    "        print('這個字包含 \"e\"') # 譯註：將英文改為中文"
   ]
  },
  {
   "cell_type": "markdown",
   "id": "6d5e277d",
   "metadata": {},
   "source": [
    "在我們繼續之前，讓我們先把那個迴圈封裝到一個函式裡。"
   ]
  },
  {
   "cell_type": "code",
   "execution_count": 8,
   "id": "e78cd2a4",
   "metadata": {},
   "outputs": [],
   "source": [
    "def has_e():\n",
    "    for letter in \"Gadsby\":\n",
    "        if letter == 'E' or letter == 'e':\n",
    "            print('這個字包含 \"e\"') # 譯註：將英文改為中文"
   ]
  },
  {
   "cell_type": "markdown",
   "id": "6d1deb4b",
   "metadata": {},
   "source": [
    "讓我們把它變成一個純函式，如果單字包含 \"e\" 就回傳 `True`，否則回傳 `False`。"
   ]
  },
  {
   "cell_type": "code",
   "execution_count": 9,
   "id": "66a69951",
   "metadata": {},
   "outputs": [],
   "source": [
    "def has_e():\n",
    "    for letter in \"Gadsby\":\n",
    "        if letter == 'E' or letter == 'e':\n",
    "            return True\n",
    "    return False"
   ]
  },
  {
   "cell_type": "markdown",
   "id": "b28ea2e8",
   "metadata": {},
   "source": [
    "我們可以把它一般化，讓它接受單字作為參數。"
   ]
  },
  {
   "cell_type": "code",
   "execution_count": 10,
   "id": "632cdfe8",
   "metadata": {},
   "outputs": [],
   "source": [
    "def has_e(word):\n",
    "    for letter in word:\n",
    "        if letter == 'E' or letter == 'e':\n",
    "            return True\n",
    "    return False"
   ]
  },
  {
   "cell_type": "markdown",
   "id": "0309ff8f",
   "metadata": {},
   "source": [
    "現在我們可以像這樣測試它："
   ]
  },
  {
   "cell_type": "code",
   "execution_count": 11,
   "id": "2d8846ce",
   "metadata": {},
   "outputs": [
    {
     "data": {
      "text/plain": [
       "False"
      ]
     },
     "execution_count": 11,
     "metadata": {},
     "output_type": "execute_result"
    }
   ],
   "source": [
    "has_e('Gadsby')"
   ]
  },
  {
   "cell_type": "code",
   "execution_count": 12,
   "id": "71ef1a25",
   "metadata": {},
   "outputs": [
    {
     "data": {
      "text/plain": [
       "True"
      ]
     },
     "execution_count": 12,
     "metadata": {},
     "output_type": "execute_result"
    }
   ],
   "source": [
    "has_e('Emma')"
   ]
  },
  {
   "cell_type": "markdown",
   "id": "38af8aa8",
   "metadata": {},
   "source": [
    "## 讀取單字列表\n",
    "\n",
    "為了看看有多少單字包含 \"e\"，我們需要一個單字列表。\n",
    "我們將使用的大約是 114,000 個官方填字遊戲單字的列表；也就是說，這些單字在填字遊戲和其他文字遊戲中被認為是有效的。"
   ]
  },
  {
   "cell_type": "markdown",
   "id": "7d86cd07",
   "metadata": {
    "tags": [
     "remove-cell"
    ]
   },
   "source": [
    "下面的儲存格會下載這個單字列表，它是 Grady Ward 收集並貢獻給公有領域的 Moby 詞彙專案（見 <http://wikipedia.org/wiki/Moby_Project>）列表的修改版本。"
   ]
  },
  {
   "cell_type": "code",
   "execution_count": 13,
   "id": "e0ad4e7b",
   "metadata": {
    "tags": [
     "remove-cell"
    ]
   },
   "outputs": [],
   "source": [
    "download('https://raw.githubusercontent.com/AllenDowney/ThinkPython/v3/words.txt');"
   ]
  },
  {
   "cell_type": "markdown",
   "id": "8f5285ad",
   "metadata": {},
   "source": [
    "單字列表存放在一個名為 `words.txt` 的檔案中，這個檔案會在本章的筆記本中下載。\n",
    "要讀取它，我們將使用內建函式 `open`，它接受檔案名稱作為參數，並回傳一個我們可以用来讀取檔案的 **檔案物件** (file object)。"
   ]
  },
  {
   "cell_type": "code",
   "execution_count": 15,
   "id": "926597ff",
   "metadata": {},
   "outputs": [],
   "source": [
    "file_object = open('words.txt')"
   ]
  },
  {
   "cell_type": "markdown",
   "id": "b227aa8c",
   "metadata": {},
   "source": [
    "檔案物件提供了一個名為 `readline` 的函式，它會從檔案中讀取字元，直到遇到換行符，然後將結果以字串形式回傳："
   ]
  },
  {
   "cell_type": "code",
   "execution_count": 16,
   "id": "691e92b6",
   "metadata": {},
   "outputs": [
    {
     "data": {
      "text/plain": [
       "'aa\\n'"
      ]
     },
     "execution_count": 16,
     "metadata": {},
     "output_type": "execute_result"
    }
   ],
   "source": [
    "file_object.readline()"
   ]
  },
  {
   "cell_type": "markdown",
   "id": "326ca724",
   "metadata": {},
   "source": [
    "注意，呼叫 `readline` 的語法與我們目前為止看到的函式不同。這是因為它是一個 **方法** (method)，也就是與物件相關聯的函式。\n",
    "在這個例子中，`readline` 與檔案物件相關聯，所以我們使用物件的名稱、點運算子和方法的名稱來呼叫它。\n",
    "\n",
    "列表中的第一個單字是 \"aa\"，是一種熔岩。\n",
    "序列 `\\n` 代表換行字元，它將這個單字與下一個單字分隔開。\n",
    "\n",
    "檔案物件會記錄它在檔案中的位置，所以如果你再次呼叫\n",
    "`readline`，你會得到下一個單字："
   ]
  },
  {
   "cell_type": "code",
   "execution_count": 42,
   "id": "542869eb",
   "metadata": {},
   "outputs": [
    {
     "data": {
      "text/plain": [
       "'abacus\\n'"
      ]
     },
     "execution_count": 42,
     "metadata": {},
     "output_type": "execute_result"
    }
   ],
   "source": [
    "line = file_object.readline()\n",
    "line"
   ]
  },
  {
   "cell_type": "markdown",
   "id": "0785307e",
   "metadata": {},
   "source": [
    "要移除單字末尾的換行符，我們可以使用 `strip`，這是一個與字串相關聯的方法，所以我們可以像這樣呼叫它。"
   ]
  },
  {
   "cell_type": "code",
   "execution_count": 43,
   "id": "c4c53e3b",
   "metadata": {},
   "outputs": [
    {
     "data": {
      "text/plain": [
       "'abacus'"
      ]
     },
     "execution_count": 43,
     "metadata": {},
     "output_type": "execute_result"
    }
   ],
   "source": [
    "word = line.strip()\n",
    "word"
   ]
  },
  {
   "cell_type": "markdown",
   "id": "d33cfffe",
   "metadata": {},
   "source": [
    "`strip` 會移除字串開頭和結尾的空白字元——包括空格、定位字元和換行符。\n",
    "\n",
    "你也可以將檔案物件用作 `for` 迴圈的一部分。\n",
    "這個程式會讀取 `words.txt` 並印出每個單字，每行一個："
   ]
  },
  {
   "cell_type": "code",
   "execution_count": 44,
   "id": "912b39ec",
   "metadata": {
    "tags": [
     "remove-output"
    ]
   },
   "outputs": [],
   "source": [
    "for line in open('words.txt'):\n",
    "    word = line.strip()\n",
    "    # print(word) # 譯註：如果執行，會印出很多單字，所以通常會註解掉這行來避免過多輸出"
   ]
  },
  {
   "cell_type": "markdown",
   "id": "d562f772",
   "metadata": {},
   "source": [
    "現在我們可以讀取單字列表了，下一步是計算它們的數量。\n",
    "為此，我們將需要更新變數的能力。"
   ]
  },
  {
   "cell_type": "markdown",
   "id": "e7b4d5c8",
   "metadata": {},
   "source": [
    "## 更新變數\n",
    "\n",
    "你可能已經發現，對同一個變數進行多次賦值是合法的。\n",
    "新的賦值會使現有變數指向一個新的值（並停止指向舊的值）。\n",
    "\n",
    "例如，這是一個建立變數的初始賦值。"
   ]
  },
  {
   "cell_type": "code",
   "execution_count": 45,
   "id": "e6c74066",
   "metadata": {},
   "outputs": [
    {
     "data": {
      "text/plain": [
       "5"
      ]
     },
     "execution_count": 45,
     "metadata": {},
     "output_type": "execute_result"
    }
   ],
   "source": [
    "x = 5\n",
    "x"
   ]
  },
  {
   "cell_type": "markdown",
   "id": "0a9286e4",
   "metadata": {},
   "source": [
    "這是一個改變變數值的賦值。"
   ]
  },
  {
   "cell_type": "code",
   "execution_count": 46,
   "id": "20b32e3c",
   "metadata": {},
   "outputs": [
    {
     "data": {
      "text/plain": [
       "7"
      ]
     },
     "execution_count": 46,
     "metadata": {},
     "output_type": "execute_result"
    }
   ],
   "source": [
    "x = 7\n",
    "x"
   ]
  },
  {
   "cell_type": "markdown",
   "id": "9b434cbe",
   "metadata": {},
   "source": [
    "下圖顯示了這些賦值在狀態圖中的樣子。"
   ]
  },
  {
   "cell_type": "code",
   "execution_count": 47,
   "id": "2b72a2fd",
   "metadata": {
    "tags": [
     "remove-cell"
    ]
   },
   "outputs": [],
   "source": [
    "from diagram import make_rebind, draw_bindings\n",
    "\n",
    "bindings = make_rebind('x', [5, 7])"
   ]
  },
  {
   "cell_type": "code",
   "execution_count": 48,
   "id": "ce96b331",
   "metadata": {
    "tags": [
     "remove-input"
    ]
   },
   "outputs": [
    {
     "data": {
      "image/png": "[encoded data removed]",
      "text/plain": [
       "<Figure size 54x61 with 1 Axes>"
      ]
     },
     "metadata": {},
     "output_type": "display_data"
    }
   ],
   "source": [
    "from diagram import diagram, adjust\n",
    "\n",
    "width, height_val, x_pos, y_pos = [0.54, 0.61, 0.07, 0.45] # 譯註：變數名 height, x, y 修改\n",
    "ax = diagram(width, height_val)\n",
    "bbox = draw_bindings(bindings, ax, x_pos, y_pos)\n",
    "# adjust(x_pos, y_pos, bbox)"
   ]
  },
  {
   "cell_type": "markdown",
   "id": "737c52c6",
   "metadata": {},
   "source": [
    "虛線箭頭表示 `x` 不再指向 `5`。\n",
    "實線箭頭表示它現在指向 `7`。\n",
    "\n",
    "一種常見的賦值類型是 **更新** (update)，其中變數的新值\n",
    "取決於舊值。"
   ]
  },
  {
   "cell_type": "code",
   "execution_count": 49,
   "id": "80c91b89",
   "metadata": {
    "tags": [
     "remove-cell"
    ]
   },
   "outputs": [],
   "source": [
    "x = 7"
   ]
  },
  {
   "cell_type": "code",
   "execution_count": 50,
   "id": "9c84286f",
   "metadata": {},
   "outputs": [
    {
     "data": {
      "text/plain": [
       "8"
      ]
     },
     "execution_count": 50,
     "metadata": {},
     "output_type": "execute_result"
    }
   ],
   "source": [
    "x = x + 1\n",
    "x"
   ]
  },
  {
   "cell_type": "markdown",
   "id": "5dede0de",
   "metadata": {},
   "source": [
    "這個陳述句的意思是「取得 `x` 的目前值，加一，然後將結果重新賦值給 `x`。」\n",
    "\n",
    "如果你試圖更新一個不存在的變數，你會得到一個錯誤，因為 Python 會在將值賦予左邊的變數之前，先評估右邊的運算式。"
   ]
  },
  {
   "cell_type": "code",
   "execution_count": 51,
   "id": "f294744a",
   "metadata": {
    "tags": [
     "raises-exception"
    ]
   },
   "outputs": [],
   "source": [
    "# %%expect NameError\n",
    "\n",
    "# z = z + 1 # 譯註：如果 z 之前沒有被賦值，這行會產生 NameError"
   ]
  },
  {
   "cell_type": "markdown",
   "id": "7d68c461",
   "metadata": {},
   "source": [
    "在更新變數之前，你必須先 **初始化** (initialize) 它，通常\n",
    "用一個簡單的賦值："
   ]
  },
  {
   "cell_type": "code",
   "execution_count": 52,
   "id": "43205000",
   "metadata": {},
   "outputs": [
    {
     "data": {
      "text/plain": [
       "1"
      ]
     },
     "execution_count": 52,
     "metadata": {},
     "output_type": "execute_result"
    }
   ],
   "source": [
    "z = 0\n",
    "z = z + 1\n",
    "z"
   ]
  },
  {
   "cell_type": "markdown",
   "id": "0c0bb696",
   "metadata": {},
   "source": [
    "增加變數的值稱為 **遞增** (increment)；減少變數的值稱為 **遞減** (decrement)。\n",
    "由於這些運算非常常見，Python 提供了 **擴增賦值運算子** (augmented assignment operators)，可以更簡潔地更新變數。\n",
    "例如，`+=` 運算子會將變數增加指定的量。"
   ]
  },
  {
   "cell_type": "code",
   "execution_count": 56,
   "id": "3e9a398b",
   "metadata": {},
   "outputs": [
    {
     "data": {
      "text/plain": [
       "9"
      ]
     },
     "execution_count": 56,
     "metadata": {},
     "output_type": "execute_result"
    }
   ],
   "source": [
    "z += 2\n",
    "z"
   ]
  },
  {
   "cell_type": "markdown",
   "id": "240bae19",
   "metadata": {},
   "source": [
    "其他算術運算子也有擴增賦值運算子，包括 `-=` 和 `*=`。"
   ]
  },
  {
   "cell_type": "markdown",
   "id": "9c1115d3",
   "metadata": {},
   "source": [
    "## 迴圈與計數\n",
    "\n",
    "下面的程式計算單字列表中的單字數量。"
   ]
  },
  {
   "cell_type": "code",
   "execution_count": 57,
   "id": "352dd41f",
   "metadata": {},
   "outputs": [],
   "source": [
    "total = 0\n",
    "\n",
    "for line in open('words.txt'):\n",
    "    word = line.strip()\n",
    "    total += 1"
   ]
  },
  {
   "cell_type": "markdown",
   "id": "c2668d74",
   "metadata": {},
   "source": [
    "它首先將 `total` 初始化為 `0`。\n",
    "每次通過迴圈時，它會將 `total` 增加 `1`。\n",
    "所以當迴圈結束時，`total` 指向單字的總數。"
   ]
  },
  {
   "cell_type": "code",
   "execution_count": 58,
   "id": "9c0982d5",
   "metadata": {},
   "outputs": [
    {
     "data": {
      "text/plain": [
       "113809"
      ]
     },
     "execution_count": 58,
     "metadata": {},
     "output_type": "execute_result"
    }
   ],
   "source": [
    "total"
   ]
  },
  {
   "cell_type": "markdown",
   "id": "7951f5b8",
   "metadata": {},
   "source": [
    "像這樣用來計算某事發生次數的變數，稱為 **計數器** (counter)。\n",
    "\n",
    "我們可以在程式中加入第二個計數器，來記錄包含 \"e\" 的單字數量。"
   ]
  },
  {
   "cell_type": "code",
   "execution_count": 59,
   "id": "cda94b9e",
   "metadata": {},
   "outputs": [],
   "source": [
    "total = 0\n",
    "count = 0\n",
    "\n",
    "for line in open('words.txt'):\n",
    "    word = line.strip()\n",
    "    total = total + 1\n",
    "    if has_e(word): # 譯註：使用之前定義的 has_e 函式\n",
    "        count += 1"
   ]
  },
  {
   "cell_type": "markdown",
   "id": "751ae0dc",
   "metadata": {},
   "source": [
    "讓我們看看有多少單字包含 \"e\"。"
   ]
  },
  {
   "cell_type": "code",
   "execution_count": 60,
   "id": "96b5edd9",
   "metadata": {},
   "outputs": [
    {
     "data": {
      "text/plain": [
       "76168"
      ]
     },
     "execution_count": 60,
     "metadata": {},
     "output_type": "execute_result"
    }
   ],
   "source": [
    "count"
   ]
  },
  {
   "cell_type": "markdown",
   "id": "97c8bce2",
   "metadata": {},
   "source": [
    "以 `total` 的百分比來看，大約三分之二的單字使用了字母 \"e\"。"
   ]
  },
  {
   "cell_type": "code",
   "execution_count": 61,
   "id": "2fccddde",
   "metadata": {},
   "outputs": [
    {
     "data": {
      "text/plain": [
       "66.92616576896378"
      ]
     },
     "execution_count": 61,
     "metadata": {},
     "output_type": "execute_result"
    }
   ],
   "source": [
    "count / total * 100"
   ]
  },
  {
   "cell_type": "markdown",
   "id": "0c4b7270",
   "metadata": {},
   "source": [
    "所以你可以理解為什麼要寫一本不使用任何這類單字的書會這麼困難了。"
   ]
  },
  {
   "cell_type": "markdown",
   "id": "7f576a27",
   "metadata": {},
   "source": [
    "## `in` 運算子\n",
    "\n",
    "我們在本章中編寫的 `has_e` 版本比實際需要的更複雜。\n",
    "Python 提供了一個運算子 `in`，它可以檢查一個字元是否存在於一個字串中。"
   ]
  },
  {
   "cell_type": "code",
   "execution_count": 62,
   "id": "21e13285",
   "metadata": {},
   "outputs": [
    {
     "data": {
      "text/plain": [
       "False"
      ]
     },
     "execution_count": 62,
     "metadata": {},
     "output_type": "execute_result"
    }
   ],
   "source": [
    "word = 'Gadsby'\n",
    "'e' in word"
   ]
  },
  {
   "cell_type": "markdown",
   "id": "c4b98330",
   "metadata": {},
   "source": [
    "所以我們可以像這樣重寫 `has_e`。"
   ]
  },
  {
   "cell_type": "code",
   "execution_count": 63,
   "id": "7e01a8ac",
   "metadata": {},
   "outputs": [],
   "source": [
    "def has_e(word):\n",
    "    if 'E' in word or 'e' in word:\n",
    "        return True\n",
    "    else:\n",
    "        return False"
   ]
  },
  {
   "cell_type": "markdown",
   "id": "befaf652",
   "metadata": {},
   "source": [
    "並且因為 `if` 陳述句的條件本身就是一個布林值，我們可以省略 `if` 陳述句，直接回傳布林值。"
   ]
  },
  {
   "cell_type": "code",
   "execution_count": 64,
   "id": "7fd3f595",
   "metadata": {},
   "outputs": [],
   "source": [
    "def has_e(word):\n",
    "    return 'E' in word or 'e' in word"
   ]
  },
  {
   "cell_type": "markdown",
   "id": "c26222a9",
   "metadata": {},
   "source": [
    "我們可以使用 `lower` 方法進一步簡化這個函式，`lower` 方法會將字串中的字母轉換為小寫。\n",
    "這裡有一個例子。"
   ]
  },
  {
   "cell_type": "code",
   "execution_count": 65,
   "id": "ad786a98",
   "metadata": {},
   "outputs": [
    {
     "data": {
      "text/plain": [
       "'gadsby'"
      ]
     },
     "execution_count": 65,
     "metadata": {},
     "output_type": "execute_result"
    }
   ],
   "source": [
    "word.lower()"
   ]
  },
  {
   "cell_type": "markdown",
   "id": "03b77591",
   "metadata": {},
   "source": [
    "`lower` 會建立一個新的字串——它不會修改現有的字串——所以 `word` 的值保持不變。"
   ]
  },
  {
   "cell_type": "code",
   "execution_count": 66,
   "id": "9959dff5",
   "metadata": {},
   "outputs": [
    {
     "data": {
      "text/plain": [
       "'Gadsby'"
      ]
     },
     "execution_count": 66,
     "metadata": {},
     "output_type": "execute_result"
    }
   ],
   "source": [
    "word"
   ]
  },
  {
   "cell_type": "markdown",
   "id": "55879c8e",
   "metadata": {},
   "source": [
    "這是我們如何在 `has_e` 中使用 `lower`。"
   ]
  },
  {
   "cell_type": "code",
   "execution_count": 67,
   "id": "b3322d18",
   "metadata": {},
   "outputs": [],
   "source": [
    "def has_e(word):\n",
    "    return 'e' in word.lower()"
   ]
  },
  {
   "cell_type": "code",
   "execution_count": 68,
   "id": "f79db9e5",
   "metadata": {},
   "outputs": [
    {
     "data": {
      "text/plain": [
       "False"
      ]
     },
     "execution_count": 68,
     "metadata": {},
     "output_type": "execute_result"
    }
   ],
   "source": [
    "has_e('Gadsby')"
   ]
  },
  {
   "cell_type": "code",
   "execution_count": 69,
   "id": "b80c2c2e",
   "metadata": {},
   "outputs": [
    {
     "data": {
      "text/plain": [
       "True"
      ]
     },
     "execution_count": 69,
     "metadata": {},
     "output_type": "execute_result"
    }
   ],
   "source": [
    "has_e('Emma')"
   ]
  },
  {
   "cell_type": "markdown",
   "id": "da730072",
   "metadata": {},
   "source": [
    "## 搜尋\n",
    "\n",
    "基於這個更簡單的 `has_e` 版本，讓我們編寫一個更通用的函式，名為 `uses_any`，它接受第二個參數，該參數是一個字母字串。\n",
    "如果單字使用了任何這些字母，則回傳 `True`，否則回傳 `False`。"
   ]
  },
  {
   "cell_type": "code",
   "execution_count": 70,
   "id": "becd9680",
   "metadata": {},
   "outputs": [],
   "source": [
    "def uses_any(word_param, letters_param): # 譯註：參數名修改\n",
    "    for letter in word_param.lower():\n",
    "        if letter in letters_param.lower():\n",
    "            return True\n",
    "    return False"
   ]
  },
  {
   "cell_type": "markdown",
   "id": "016ba43e",
   "metadata": {},
   "source": [
    "這裡有一個結果為 `True` 的例子。"
   ]
  },
  {
   "cell_type": "code",
   "execution_count": 71,
   "id": "3971e8cf",
   "metadata": {},
   "outputs": [
    {
     "data": {
      "text/plain": [
       "True"
      ]
     },
     "execution_count": 71,
     "metadata": {},
     "output_type": "execute_result"
    }
   ],
   "source": [
    "uses_any('banana', 'aeiou')"
   ]
  },
  {
   "cell_type": "markdown",
   "id": "212579d8",
   "metadata": {},
   "source": [
    "這是另一個結果為 `False` 的例子。"
   ]
  },
  {
   "cell_type": "code",
   "execution_count": 72,
   "id": "26e16a4c",
   "metadata": {},
   "outputs": [
    {
     "data": {
      "text/plain": [
       "False"
      ]
     },
     "execution_count": 72,
     "metadata": {},
     "output_type": "execute_result"
    }
   ],
   "source": [
    "uses_any('apple', 'xyz')"
   ]
  },
  {
   "cell_type": "markdown",
   "id": "00cce625",
   "metadata": {},
   "source": [
    "`uses_any` 會將 `word_param` 和 `letters_param` 轉換為小寫，所以它適用於任何大小寫的組合。"
   ]
  },
  {
   "cell_type": "code",
   "execution_count": 73,
   "id": "a3bcbdf8",
   "metadata": {},
   "outputs": [
    {
     "data": {
      "text/plain": [
       "True"
      ]
     },
     "execution_count": 73,
     "metadata": {},
     "output_type": "execute_result"
    }
   ],
   "source": [
    "uses_any('Banana', 'AEIOU')"
   ]
  },
  {
   "cell_type": "markdown",
   "id": "a4e715c9",
   "metadata": {},
   "source": [
    "`uses_any` 的結構與 `has_e` 相似。\n",
    "它會遍歷 `word_param` 中的字母，並逐一檢查。\n",
    "如果它找到一個出現在 `letters_param` 中的字母，它會立即回傳 `True`。\n",
    "如果它遍歷完整個迴圈都沒有找到任何字母，它會回傳 `False`。\n",
    "\n",
    "這種模式稱為 **線性搜尋** (linear search)。\n",
    "在本章末尾的練習中，你將編寫更多使用這種模式的函式。"
   ]
  },
  {
   "cell_type": "markdown",
   "id": "c4bdf141",
   "metadata": {},
   "source": [
    "## 文件測試 (Doctest)\n",
    "\n",
    "在[第 4 章](section_docstring)中，我們使用文件字串 (docstring) 來記錄函式——也就是解釋它做什麼。\n",
    "也可以使用文件字串來*測試*函式。\n",
    "這裡是一個包含測試的 `uses_any` 版本。"
   ]
  },
  {
   "cell_type": "code",
   "execution_count": 74,
   "id": "0d89dc0f",
   "metadata": {},
   "outputs": [],
   "source": [
    "def uses_any(word_param, letters_param): # 譯註：參數名修改\n",
    "    \"\"\"檢查一個單字是否使用了字母列表中的任何一個字母。\n",
    "    \n",
    "    >>> uses_any('banana', 'aeiou')\n",
    "    True\n",
    "    >>> uses_any('apple', 'xyz')\n",
    "    False\n",
    "    \"\"\" # 譯註：以上為文件字串，包含說明和測試案例\n",
    "    for letter in word_param.lower():\n",
    "        if letter in letters_param.lower():\n",
    "            return True\n",
    "    return False"
   ]
  },
  {
   "cell_type": "markdown",
   "id": "6b98d5a3",
   "metadata": {},
   "source": [
    "每個測試都以 `>>>` 開頭，這在某些 Python 環境中用作提示符，表示使用者可以在此處輸入程式碼。\n",
    "在文件測試中，提示符後面跟著一個運算式，通常是一個函式呼叫。\n",
    "下一行表示如果函式運作正常，該運算式應該具有的值。\n",
    "\n",
    "在第一個例子中，`'banana'` 使用了 `'a'`，所以結果應該是 `True`。\n",
    "在第二個例子中，`'apple'` 沒有使用任何 `'xyz'` 中的字母，所以結果應該是 `False`。\n",
    "\n",
    "要執行這些測試，我們必須匯入 `doctest` 模組並執行一個名為 `run_docstring_examples` 的函式。\n",
    "為了使這個函式更容易使用，我編寫了以下函式，它接受一個函式物件作為引數。"
   ]
  },
  {
   "cell_type": "code",
   "execution_count": 75,
   "id": "5be7a3a3",
   "metadata": {},
   "outputs": [],
   "source": [
    "from doctest import run_docstring_examples\n",
    "\n",
    "def run_doctests(func):\n",
    "    run_docstring_examples(func, globals(), name=func.__name__)"
   ]
  },
  {
   "cell_type": "markdown",
   "id": "d26563e8",
   "metadata": {},
   "source": [
    "我們還沒有學過 `globals` 和 `__name__`——你可以忽略它們。\n",
    "現在我們可以像這樣測試 `uses_any`。"
   ]
  },
  {
   "cell_type": "code",
   "execution_count": 79,
   "id": "07d537bb",
   "metadata": {},
   "outputs": [],
   "source": [
    "run_doctests(uses_any)"
   ]
  },
  {
   "cell_type": "markdown",
   "id": "1a22406b",
   "metadata": {},
   "source": [
    "`run_doctests` 會找到文件字串中的運算式並評估它們。\n",
    "如果結果是預期的值，則測試 **通過** (passes)。\n",
    "否則測試 **失敗** (fails)。\n",
    "\n",
    "如果所有測試都通過，`run_doctests` 不會顯示任何輸出——在這種情況下，沒有消息就是好消息。\n",
    "為了看看測試失敗時會發生什麼，這裡有一個不正確的 `uses_any` 版本。"
   ]
  },
  {
   "cell_type": "code",
   "execution_count": 90,
   "id": "51b030ae",
   "metadata": {},
   "outputs": [],
   "source": [
    "def uses_any_incorrect(word_param, letters_param): # 譯註：參數名修改\n",
    "    \"\"\"檢查一個單字是否使用了字母列表中的任何一個字母。\n",
    "    >>> uses_any_incorrect('banana', '123')\n",
    "    False\n",
    "    >>> uses_any_incorrect('banana', 'aeiou')\n",
    "    True\n",
    "    >>> uses_any_incorrect('apple', 'xyz')\n",
    "    False\n",
    "    \"\"\"\n",
    "    for letter in word_param.lower():\n",
    "        if letter in letters_param.lower():\n",
    "            return True\n",
    "        else:\n",
    "            return False     # 不正確！ (譯註：這會導致只要第一個字母不匹配就回傳 False)"
   ]
  },
  {
   "cell_type": "markdown",
   "id": "d12aabcb",
   "metadata": {},
   "source": [
    "這是我們測試它時發生的情況。"
   ]
  },
  {
   "cell_type": "code",
   "execution_count": 89,
   "id": "ca9eb0f0",
   "metadata": {},
   "outputs": [],
   "source": [
    "run_doctests(uses_any_incorrect)"
   ]
  },
  {
   "cell_type": "markdown",
   "id": "97a1dc6f",
   "metadata": {},
   "source": [
    "輸出包括失敗的範例、函式預期產生的值，以及函式實際產生的值。\n",
    "\n",
    "如果你不確定為什麼這個測試失敗了，你將有機會在練習中進行除錯。"
   ]
  },
  {
   "cell_type": "markdown",
   "id": "f3c90464",
   "metadata": {},
   "source": [
    "## 詞彙表\n",
    "\n",
    "**迴圈變數 (loop variable):**\n",
    "在 `for` 迴圈標頭中定義的變數。\n",
    "\n",
    "**檔案物件 (file object):**\n",
    "代表一個已開啟檔案的物件，並記錄檔案的哪些部分已被讀取或寫入。\n",
    "\n",
    "**方法 (method):**\n",
    " 與物件相關聯並使用點運算子呼叫的函式。\n",
    "\n",
    "**更新 (update):**\n",
    "一種賦值陳述句，為已存在的變數賦予新值，而不是建立新變數。\n",
    "\n",
    "**初始化 (initialize):**\n",
    "建立一個新變數並賦予它一個值。\n",
    "\n",
    "**遞增 (increment):**\n",
    "增加變數的值。\n",
    "\n",
    "**遞減 (decrement):**\n",
    "減少變數的值。\n",
    "\n",
    "**計數器 (counter):**\n",
    " 一個用來計算某事物發生次數的變數，通常初始化為零然後遞增。\n",
    "\n",
    "**線性搜尋 (linear search):**\n",
    "一種計算模式，它搜尋一個元素序列，並在找到目標時停止。\n",
    "\n",
    "**通過 (pass):**\n",
    "如果一個測試執行並且結果符合預期，則測試通過。\n",
    "\n",
    "**失敗 (fail):**\n",
    "如果一個測試執行但結果不符合預期，則測試失敗。"
   ]
  },
  {
   "cell_type": "markdown",
   "id": "5453d86b",
   "metadata": {},
   "source": [
    "## 練習"
   ]
  },
  {
   "cell_type": "code",
   "execution_count": null,
   "id": "633b2408",
   "metadata": {
    "tags": [
     "remove-print"
    ]
   },
   "outputs": [],
   "source": [
    "# 這個儲存格告訴 Jupyter 在發生執行期錯誤時提供詳細的除錯資訊。\n",
    "# 在做練習之前先執行它。\n",
    "\n",
    "# %xmode Verbose"
   ]
  },
  {
   "cell_type": "markdown",
   "id": "841c0c51",
   "metadata": {},
   "source": [
    "### 問問虛擬助理\n",
    "\n",
    "在 `uses_any` 中，你可能已經注意到第一個 `return` 陳述句在迴圈內部，而第二個在外部。"
   ]
  },
  {
   "cell_type": "code",
   "execution_count": null,
   "id": "ce985c0e",
   "metadata": {},
   "outputs": [],
   "source": [
    "def uses_any(word_param, letters_param): # 譯註：參數名修改\n",
    "    for letter in word_param.lower():\n",
    "        if letter in letters_param.lower():\n",
    "            return True\n",
    "    return False"
   ]
  },
  {
   "cell_type": "markdown",
   "id": "0329a45b",
   "metadata": {},
   "source": [
    "當人們第一次編寫這樣的函式時，一個常見的錯誤是將兩個 `return` 陳述句都放在迴圈內部，像這樣。"
   ]
  },
  {
   "cell_type": "code",
   "execution_count": null,
   "id": "9da9c992",
   "metadata": {},
   "outputs": [],
   "source": [
    "def uses_any_incorrect(word_param, letters_param): # 譯註：參數名修改\n",
    "    for letter in word_param.lower():\n",
    "        if letter in letters_param.lower():\n",
    "            return True\n",
    "        else:\n",
    "            return False     # 不正確！"
   ]
  },
  {
   "cell_type": "markdown",
   "id": "9802caea",
   "metadata": {},
   "source": [
    "問虛擬助理這個版本有什麼問題。"
   ]
  },
  {
   "cell_type": "markdown",
   "id": "22356c7b",
   "metadata": {},
   "source": [
    "### 練習\n",
    "\n",
    "編寫一個名為 `uses_none` 的函式，它接受一個單字和一個禁用字母字串，如果單字沒有使用任何禁用字母，則回傳 `True`。\n",
    "\n",
    "這裡是一個包含兩個文件測試的函式大綱。\n",
    "填寫函式使其通過這些測試，並至少再增加一個文件測試。"
   ]
  },
  {
   "cell_type": "code",
   "execution_count": 92,
   "id": "223abae9",
   "metadata": {},
   "outputs": [],
   "source": [
    "def uses_none(word_param, forbidden_param): # 譯註：參數名修改\n",
    "    \"\"\"檢查一個單字是否避開了禁用的字母。\n",
    "    \n",
    "    >>> uses_none('banana', 'xyz')\n",
    "    True\n",
    "    >>> uses_none('apple', 'efg')\n",
    "    False\n",
    "    \"\"\"\n",
    "    return None # 譯註：這是佔位符，需要你來完成"
   ]
  },
  {
   "cell_type": "code",
   "execution_count": 93,
   "id": "ad585fa6",
   "metadata": {},
   "outputs": [],
   "source": [
    "# 解答\n",
    "\n",
    "def uses_none(word_param, forbidden_param): # 譯註：參數名修改\n",
    "    \"\"\"檢查一個單字是否避開了禁用的字母。\n",
    "    \n",
    "    >>> uses_none('banana', 'xyz')\n",
    "    True\n",
    "    >>> uses_none('apple', 'efg')\n",
    "    False\n",
    "    >>> uses_none('', 'abc') # 譯註：空字串不包含任何禁用字母\n",
    "    True\n",
    "    \"\"\"\n",
    "    for letter in word_param.lower():\n",
    "        if letter in forbidden_param.lower():\n",
    "            return False\n",
    "    return True"
   ]
  },
  {
   "cell_type": "code",
   "execution_count": 94,
   "id": "9d1bfa7d",
   "metadata": {
    "tags": [
     "remove-cell"
    ]
   },
   "outputs": [],
   "source": [
    "run_doctests(uses_none)"
   ]
  },
  {
   "cell_type": "markdown",
   "id": "06fee4f5",
   "metadata": {},
   "source": [
    "### 練習\n",
    "\n",
    "編寫一個名為 `uses_only` 的函式，它接受一個單字和一個字母字串，如果該單字只包含該字串中的字母，則回傳 `True`。\n",
    "\n",
    "這裡是一個包含兩個文件測試的函式大綱。\n",
    "填寫函式使其通過這些測試，並至少再增加一個文件測試。"
   ]
  },
  {
   "cell_type": "code",
   "execution_count": 95,
   "id": "7048d86a",
   "metadata": {},
   "outputs": [],
   "source": [
    "def uses_only(word_param, available_param): # 譯註：參數名修改\n",
    "    \"\"\"檢查一個單字是否只使用了可用的字母。\n",
    "    \n",
    "    >>> uses_only('banana', 'ban')\n",
    "    True\n",
    "    >>> uses_only('apple', 'apl')\n",
    "    False\n",
    "    \"\"\"\n",
    "    return None # 譯註：這是佔位符"
   ]
  },
  {
   "cell_type": "code",
   "execution_count": 96,
   "id": "1edba37f",
   "metadata": {},
   "outputs": [],
   "source": [
    "# 解答\n",
    "\n",
    "def uses_only(word_param, available_param): # 譯註：參數名修改\n",
    "    \"\"\"檢查一個單字是否只使用了可用的字母。\n",
    "    \n",
    "    >>> uses_only('banana', 'ban')\n",
    "    True\n",
    "    >>> uses_only('ratatat', 'rate') # 譯註：'ratatat' 只用了 'r', 'a', 't'，都在 'rate' 裡\n",
    "    True\n",
    "    >>> uses_only('apple', 'apl')\n",
    "    False\n",
    "    \"\"\"\n",
    "    for letter in word_param.lower():\n",
    "        if letter not in available_param.lower():\n",
    "            return False\n",
    "    return True"
   ]
  },
  {
   "cell_type": "code",
   "execution_count": 98,
   "id": "269e3931",
   "metadata": {
    "tags": [
     "remove-cell"
    ]
   },
   "outputs": [],
   "source": [
    "run_doctests(uses_only)"
   ]
  },
  {
   "cell_type": "markdown",
   "id": "bab0b574",
   "metadata": {},
   "source": [
    "### 練習\n",
    "\n",
    "編寫一個名為 `uses_all` 的函式，它接受一個單字和一個字母字串，如果該單字至少包含該字串中的所有字母一次，則回傳 `True`。\n",
    "\n",
    "這裡是一個包含兩個文件測試的函式大綱。\n",
    "填寫函式使其通過這些測試，並至少再增加一個文件測試。"
   ]
  },
  {
   "cell_type": "code",
   "execution_count": 99,
   "id": "72270d8d",
   "metadata": {},
   "outputs": [],
   "source": [
    "def uses_all(word_param, required_param): # 譯註：參數名修改\n",
    "    \"\"\"檢查一個單字是否使用了所有必要的字母。\n",
    "    \n",
    "    >>> uses_all('banana', 'ban')\n",
    "    True\n",
    "    >>> uses_all('apple', 'api')\n",
    "    False\n",
    "    \"\"\"\n",
    "    return None # 譯註：這是佔位符"
   ]
  },
  {
   "cell_type": "code",
   "execution_count": 100,
   "id": "7aa76b24",
   "metadata": {},
   "outputs": [],
   "source": [
    "# 解答\n",
    "\n",
    "def uses_all(word_param, required_param): # 譯註：參數名修改\n",
    "    \"\"\"檢查一個單字是否使用了所有必要的字母。\n",
    "    \n",
    "    >>> uses_all('banana', 'ban')\n",
    "    True\n",
    "    >>> uses_all('ratatat', 'rat')\n",
    "    True\n",
    "    >>> uses_all('apple', 'api') # 譯註：apple 沒有 'i'\n",
    "    False\n",
    "    \"\"\"\n",
    "    for letter in required_param.lower():\n",
    "        if letter not in word_param.lower():\n",
    "            return False\n",
    "    return True"
   ]
  },
  {
   "cell_type": "code",
   "execution_count": 101,
   "id": "5fef247a",
   "metadata": {
    "tags": [
     "remove-cell"
    ]
   },
   "outputs": [],
   "source": [
    "run_doctests(uses_all)"
   ]
  },
  {
   "cell_type": "markdown",
   "id": "b6f7f10e",
   "metadata": {},
   "source": [
    "### 練習\n",
    "\n",
    "《紐約時報》每天都會刊登一個名為「拼字蜜蜂」(Spelling Bee) 的謎題，挑戰讀者使用僅有的七個字母（其中一個字母是必需的）拼出盡可能多的單字。\n",
    "這些單字必須至少有四個字母。\n",
    "\n",
    "例如，在我寫這篇文章的那天，字母是 `ACDLORT`，其中 `R` 是必需字母。\n",
    "所以 \"color\" 是一個可接受的單字，但 \"told\" 不是，因為它沒有使用 `R`，而 \"rat\" 不是，因為它只有三個字母。\n",
    "字母可以重複使用，所以 \"ratatat\" 是可接受的。\n",
    "\n",
    "編寫一個名為 `check_word` 的函式，檢查給定的單字是否可接受。\n",
    "它應該接受要檢查的單字、一個包含七個可用字母的字串，以及一個包含單個必需字母的字串作為參數。\n",
    "你可以使用你在前面練習中編寫的函式。\n",
    "\n",
    "這裡是一個包含文件測試的函式大綱。\n",
    "填寫函式，然後檢查所有測試是否通過。"
   ]
  },
  {
   "cell_type": "code",
   "execution_count": 102,
   "id": "17d7f56d",
   "metadata": {},
   "outputs": [],
   "source": [
    "def check_word(word_param, available_param, required_letter_param): # 譯註：參數名修改\n",
    "    \"\"\"檢查一個單字是否符合要求。\n",
    "    \n",
    "    >>> check_word('color', 'ACDLORT', 'R')\n",
    "    True\n",
    "    >>> check_word('ratatat', 'ACDLORT', 'R')\n",
    "    True\n",
    "    >>> check_word('rat', 'ACDLORT', 'R')\n",
    "    False\n",
    "    >>> check_word('told', 'ACDLORT', 'R')\n",
    "    False\n",
    "    >>> check_word('bee', 'ACDLORT', 'R')\n",
    "    False\n",
    "    \"\"\"\n",
    "    return False # 譯註：這是佔位符"
   ]
  },
  {
   "cell_type": "code",
   "execution_count": null,
   "id": "8cdd9e12",
   "metadata": {},
   "outputs": [],
   "source": [
    "# 解答\n",
    "\n",
    "def check_word(word_param, available_param, required_letter_param): # 譯註：參數名修改\n",
    "    \"\"\"檢查一個單字是否符合要求。\n",
    "    \n",
    "    >>> check_word('color', 'ACDLORT', 'R')\n",
    "    True\n",
    "    >>> check_word('ratatat', 'ACDLORT', 'R')\n",
    "    True\n",
    "    >>> check_word('rat', 'ACDLORT', 'R') # 譯註：長度小於4\n",
    "    False\n",
    "    >>> check_word('told', 'ACDLORT', 'R') # 譯註：沒有必需字母 R\n",
    "    False\n",
    "    >>> check_word('bee', 'ACDLORT', 'R') # 譯註：字母 b, e 不在 available_param 中\n",
    "    False\n",
    "    \"\"\" # 譯註：上面 bee 的 doctest 原本應該是 False，因為 'e' 不在 'ACDLORT' 中。\n",
    "      # 如果 available_param 包含 'e' 且 required_letter_param 是 'e'，則 bee 可能通過。\n",
    "      # 這裡假設 available_param 是固定的 'ACDLORT'。\n",
    "      # 根據 Spelling Bee 規則，單字必須只使用 available_param 中的字母。\n",
    "    if len(word_param) < 4:\n",
    "        return False\n",
    "    \n",
    "    if not uses_all(word_param, required_letter_param): # 檢查是否包含必需字母\n",
    "        return False\n",
    "    \n",
    "    return uses_only(word_param, available_param) # 檢查是否只使用可用字母"
   ]
  },
  {
   "cell_type": "code",
   "execution_count": null,
   "id": "e7148534",
   "metadata": {
    "tags": [
     "remove-cell"
    ]
   },
   "outputs": [],
   "source": [
    "run_doctests(check_word)"
   ]
  },
  {
   "cell_type": "markdown",
   "id": "3ec04d43",
   "metadata": {},
   "source": [
    "根據「拼字蜜蜂」的規則：\n",
    "\n",
    "*   四個字母的單字每個值 1 分。\n",
    "\n",
    "*   更長的單字每個字母值 1 分。\n",
    "\n",
    "*   每個謎題至少包含一個使用了所有字母的「全字母詞」(pangram)。這些詞額外值 7 分！\n",
    "\n",
    "編寫一個名為 `word_score` 的函式，它接受一個單字和一個可用字母字串，並回傳其分數。\n",
    "你可以假設該單字是可接受的。\n",
    "\n",
    "同樣，這裡是一個帶有文件測試的函式大綱。"
   ]
  },
  {
   "cell_type": "code",
   "execution_count": null,
   "id": "ad694dfa",
   "metadata": {},
   "outputs": [],
   "source": [
    "def word_score(word_param, available_param): # 譯註：參數名修改\n",
    "    \"\"\"計算一個符合要求的單字的分數。\n",
    "    \n",
    "    >>> word_score('card', 'ACDLORT')\n",
    "    1\n",
    "    >>> word_score('color', 'ACDLORT')\n",
    "    5\n",
    "    >>> word_score('cartload', 'ACDLORT') # 譯註：cartload (8個字母) 使用了所有 ACDLORT (7個字母)，所以是 8 + 7 = 15\n",
    "    15\n",
    "    \"\"\"\n",
    "    return 0 # 譯註：這是佔位符"
   ]
  },
  {
   "cell_type": "code",
   "execution_count": 103,
   "id": "13e2a653",
   "metadata": {},
   "outputs": [],
   "source": [
    "# 解答\n",
    "\n",
    "def word_score(word_param, available_param): # 譯註：參數名修改\n",
    "    \"\"\"計算一個符合要求的單字的分數。\n",
    "    \n",
    "    >>> word_score('card', 'ACDLORT')\n",
    "    1\n",
    "    >>> word_score('color', 'ACDLORT')\n",
    "    5\n",
    "    >>> word_score('cartload', 'ACDLORT')\n",
    "    15\n",
    "    \"\"\"\n",
    "    n = len(word_param)\n",
    "    if n == 4:\n",
    "        score = 1\n",
    "    else:\n",
    "        score = n\n",
    "    \n",
    "    if uses_all(word_param, available_param): # 檢查是否為全字母詞\n",
    "        score += 7\n",
    "        \n",
    "    return score"
   ]
  },
  {
   "cell_type": "code",
   "execution_count": 104,
   "id": "2906850c",
   "metadata": {
    "tags": [
     "remove-cell"
    ]
   },
   "outputs": [],
   "source": [
    "run_doctests(word_score)"
   ]
  },
  {
   "cell_type": "markdown",
   "id": "aad4e541",
   "metadata": {
    "tags": [
     "remove-cell"
    ]
   },
   "source": [
    "當你所有的函式都通過測試後，使用下面的迴圈來搜尋單字列表，找出可接受的單字並加總它們的分數。"
   ]
  },
  {
   "cell_type": "code",
   "execution_count": 105,
   "id": "bdc314e7",
   "metadata": {
    "tags": [
     "remove-output",
     "remove-cell"
    ]
   },
   "outputs": [
    {
     "name": "stdout",
     "output_type": "stream",
     "text": [
      "總分 0\n"
     ]
    }
   ],
   "source": [
    "available_letters = 'ACDLORT' # 譯註：變數名修改\n",
    "required_letter = 'R' # 譯註：變數名修改\n",
    "\n",
    "total_score = 0 # 譯註：變數名修改\n",
    "\n",
    "file_object = open('words.txt')\n",
    "for line in file_object:\n",
    "    word_from_file = line.strip() # 譯註：變數名修改   \n",
    "    if check_word(word_from_file, available_letters, required_letter):\n",
    "        score_val = word_score(word_from_file, available_letters) # 譯註：變數名修改\n",
    "        total_score = total_score + score_val\n",
    "        # print(word_from_file, score_val) # 譯註：如果執行，會印出很多，通常測試時註解掉\n",
    "        \n",
    "print(\"總分\", total_score) # 譯註：將英文改為中文"
   ]
  },
  {
   "cell_type": "markdown",
   "id": "793b1fc0",
   "metadata": {
    "tags": [
     "remove-cell"
    ]
   },
   "source": [
    "請造訪《紐約時報》的「拼字蜜蜂」頁面 <https://www.nytimes.com/puzzles/spelling-bee>，然後輸入當天的可用字母。中間的字母是必需的。\n",
    "\n",
    "我找到了一組字母，它們拼出的單字總分是 5820。你能超過這個分數嗎？找到最好的字母組合可能太難了——你必須現實一點。"
   ]
  },
  {
   "cell_type": "markdown",
   "id": "71bd612c",
   "metadata": {},
   "source": [
    "### 練習\n",
    "\n",
    "你可能已經注意到，你在前面練習中編寫的函式有很多共同點。\n",
    "事實上，它們非常相似，你通常可以用一個函式來編寫另一個函式。\n",
    "\n",
    "例如，如果一個單字沒有使用一組禁用字母中的任何一個，那意味著它一個都沒有使用。所以我們可以像這樣編寫一個 `uses_none` 的版本。"
   ]
  },
  {
   "cell_type": "code",
   "execution_count": 107,
   "id": "312003a8",
   "metadata": {},
   "outputs": [],
   "source": [
    "def uses_none(word_param, forbidden_param): # 譯註：參數名修改\n",
    "    \"\"\"檢查一個單字是否避開了禁用的字母。\n",
    "    \n",
    "    >>> uses_none('banana', 'xyz')\n",
    "    True\n",
    "    >>> uses_none('apple', 'efg')\n",
    "    False\n",
    "    >>> uses_none('', 'abc')\n",
    "    True\n",
    "    \"\"\"\n",
    "    return not uses_any(word_param, forbidden_param) # 譯註：利用 uses_any"
   ]
  },
  {
   "cell_type": "code",
   "execution_count": null,
   "id": "b63a1b82",
   "metadata": {
    "tags": [
     "remove-cell"
    ]
   },
   "outputs": [],
   "source": [
    "run_doctests(uses_none)"
   ]
  },
  {
   "cell_type": "markdown",
   "id": "ea82dd29",
   "metadata": {},
   "source": [
    "`uses_only` 和 `uses_all` 之間也有一個相似之處，你可以利用它。\n",
    "如果你有一個可運作的 `uses_only` 版本，看看你是否能編寫一個呼叫 `uses_only` 的 `uses_all` 版本。"
   ]
  },
  {
   "cell_type": "markdown",
   "id": "8c0298b4",
   "metadata": {},
   "source": [
    "### 練習\n",
    "\n",
    "如果你被上一個問題卡住了，試著問虛擬助理：「給定一個函式 `uses_only`，它接受兩個字串並檢查第一個字串是否只使用了第二個字串中的字母，請用它來編寫 `uses_all`，它接受兩個字串並檢查第一個字串是否使用了第二個字串中的所有字母，允許重複。」\n",
    "\n",
    "使用 `run_doctests` 來檢查答案。"
   ]
  },
  {
   "cell_type": "code",
   "execution_count": 108,
   "id": "bd2e21f8",
   "metadata": {},
   "outputs": [],
   "source": [
    "# 解答\n",
    "\n",
    "# 如果 A 使用了 B 中的所有字母，那麼 B 只使用了 A 中的字母。\n",
    "# 譯註：這個邏輯是正確的：如果 word (A) 使用了 required (B) 中的所有字母，\n",
    "# 則 required (B) 中的每個字母都必須出現在 word (A) 中，\n",
    "# 換句話說，required (B) 只使用了 word (A) 中的字母。\n",
    "\n",
    "def uses_all(word_param, required_param): # 譯註：參數名修改\n",
    "    \"\"\"檢查一個單字是否使用了所有必要的字母。\n",
    "    \n",
    "    >>> uses_all('banana', 'ban')\n",
    "    True\n",
    "    >>> uses_all('ratatat', 'rat')\n",
    "    True\n",
    "    >>> uses_all('apple', 'api')\n",
    "    False\n",
    "    \"\"\"\n",
    "    return uses_only(required_param, word_param) # 譯註：巧妙的轉換！"
   ]
  },
  {
   "cell_type": "code",
   "execution_count": null,
   "id": "11f9357d",
   "metadata": {
    "tags": [
     "remove-cell"
    ]
   },
   "outputs": [],
   "source": [
    "run_doctests(uses_all)"
   ]
  },
  {
   "cell_type": "markdown",
   "id": "b057e104",
   "metadata": {},
   "source": [
    "### 練習\n",
    "\n",
    "現在讓我們看看是否能根據 `uses_any` 來編寫 `uses_all`。\n",
    "\n",
    "問虛擬助理：「給定一個函式 `uses_any`，它接受兩個字串並檢查第一個字串是否使用了第二個字串中的任何字母，你能用它來編寫 `uses_all`，它接受兩個字串並檢查第一個字串是否使用了第二個字串中的所有字母，允許重複嗎？」\n",
    "\n",
    "如果它說可以，一定要測試結果！"
   ]
  },
  {
   "cell_type": "code",
   "execution_count": null,
   "id": "c6069fc7",
   "metadata": {},
   "outputs": [],
   "source": [
    "# 解答\n",
    "\n",
    "# 這是作者從 ChatGPT 2023年5月24日版本得到的結果\n",
    "# https://help.openai.com/en/articles/6825453-chatgpt-release-notes\n",
    "\n",
    "# 這是不正確的\n",
    "# 譯註：uses_any(letters, word) 檢查 letters 中的任一字母是否在 word 中。\n",
    "# not uses_any(letters, word) 檢查 letters 中的所有字母都不在 word 中。\n",
    "# 這與 uses_all 的定義（word 使用了 letters 中的所有字母）不同。\n",
    "def uses_all_incorrect_from_any(word_param, letters_param): # 譯註：函式名修改以區別，並標示不正確\n",
    "    \"\"\"(不正確的版本) 檢查一個單字是否使用了所有必要的字母。\n",
    "    \n",
    "    >>> uses_all_incorrect_from_any('banana', 'ban') \n",
    "    True \n",
    "    >>> uses_all_incorrect_from_any('ratatat', 'rat')\n",
    "    True\n",
    "    >>> uses_all_incorrect_from_any('apple', 'api') \n",
    "    False\n",
    "    \"\"\" # 譯註：即使 doctest 可能通過，邏輯也是錯誤的\n",
    "    return not uses_any(letters_param, word_param)"
   ]
  },
  {
   "cell_type": "code",
   "execution_count": null,
   "id": "57278c5e",
   "metadata": {},
   "outputs": [],
   "source": [
    "# 這是作者從 ChatGPT 4o 2024年12月26日得到的結果\n",
    "# 這是正確的，但它多次呼叫 uses_any\n",
    "# 譯註：這個邏輯是正確的：遍歷 required_param (s2) 中的每個字元，\n",
    "# 如果 s1 (word_param) 沒有使用 (uses_any 返回 False) 任何一個 char，\n",
    "# 那麼 s1 就沒有使用 s2 中的所有字元，所以返回 False。\n",
    "# 如果迴圈完成，表示 s1 使用了 s2 中的所有字元。\n",
    "def uses_all_correct_from_any(s1, s2): # 譯註：函式名修改，參數名沿用原文\n",
    "    \"\"\"檢查 s2 中的所有字元是否都在 s1 中，允許重複。\"\"\"\n",
    "    for char_val in s2: # 譯註：變數名修改\n",
    "        if not uses_any(s1, char_val):\n",
    "            return False\n",
    "    return True\n",
    "\n"
   ]
  },
  {
   "cell_type": "code",
   "execution_count": null,
   "id": "6a3e573a",
   "metadata": {},
   "outputs": [],
   "source": [
    "# 解答\n",
    "# 譯註：測試的是 uses_all_correct_from_any\n",
    "# 我們需要為 uses_all_correct_from_any 加上 doctests 才能用 run_doctests\n",
    "# 或者直接呼叫測試\n",
    "print(f\"測試 uses_all_correct_from_any('banana', 'ban'): {uses_all_correct_from_any('banana', 'ban')}\") # 預期 True\n",
    "print(f\"測試 uses_all_correct_from_any('ratatat', 'rat'): {uses_all_correct_from_any('ratatat', 'rat')}\") # 預期 True\n",
    "print(f\"測試 uses_all_correct_from_any('apple', 'api'): {uses_all_correct_from_any('apple', 'api')}\")   # 預期 False\n",
    "print(f\"測試 uses_all_correct_from_any('apple', 'aple'): {uses_all_correct_from_any('apple', 'aple')}\") # 預期 True\n",
    "\n",
    "# run_doctests(uses_all_correct_from_any) # 譯註：如果 uses_all_correct_from_any 有 doctests 則可執行"
   ]
  },
  {
   "cell_type": "markdown",
   "id": "351fe647",
   "metadata": {},
   "source": [
    "[Think Python: 3rd Edition](https://allendowney.github.io/ThinkPython/index.html)\n",
    "\n",
    "Copyright 2024 [Allen B. Downey](https://allendowney.com)\n",
    "\n",
    "程式碼授權: [MIT License](https://mit-license.org/)\n",
    "\n",
    "文字授權: [Creative Commons Attribution-NonCommercial-ShareAlike 4.0 International](https://creativecommons.org/licenses/by-nc-sa/4.0/)"
   ]
  }
 ],
 "metadata": {
  "jupytext": {
   "comment_magics": false,
   "formats": "ipynb,py:percent"
  },
  "kernelspec": {
   "display_name": ".venv",
   "language": "python",
   "name": "python3"
  },
  "language_info": {
   "codemirror_mode": {
    "name": "ipython",
    "version": 3
   },
   "file_extension": ".py",
   "mimetype": "text/x-python",
   "name": "python",
   "nbconvert_exporter": "python",
   "pygments_lexer": "ipython3",
   "version": "3.12.2"
  }
 },
 "nbformat": 4,
 "nbformat_minor": 5
}
