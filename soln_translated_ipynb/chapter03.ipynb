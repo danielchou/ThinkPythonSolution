{
 "cells": [
  {
   "cell_type": "markdown",
   "id": "bc94c995",
   "metadata": {},
   "source": [
    "你可以從\n",
    "[Bookshop.org](https://bookshop.org/a/98697/9781098155438) 和\n",
    "[Amazon](https://www.amazon.com/_/dp/1098155432?smid=ATVPDKIKX0DER&_encoding=UTF8&tag=oreilly20-20&_encoding=UTF8&tag=greenteapre01-20&linkCode=ur2&linkId=e2a529f94920295d27ec8a06e757dc7c&camp=1789&creative=9325)\n",
    "訂購《Think Python 3e》的實體書和電子書版本。"
   ]
  },
  {
   "cell_type": "code",
   "execution_count": 29,
   "id": "8917ff26",
   "metadata": {
    "lines_to_next_cell": 1
   },
   "outputs": [],
   "source": [
    "from os.path import basename, exists"
   ]
  },
  {
   "cell_type": "code",
   "execution_count": 30,
   "id": "1734aa85",
   "metadata": {
    "lines_to_next_cell": 1
   },
   "outputs": [],
   "source": [
    "def download(url):\n",
    "    filename = basename(url)\n",
    "    if not exists(filename):\n",
    "        from urllib.request import urlretrieve\n",
    "\n",
    "        local, _ = urlretrieve(url, filename)\n",
    "        print(\"已下載 \" + str(local)) # 譯註：這裡顯示下載完成的檔案路徑\n",
    "    return filename"
   ]
  },
  {
   "cell_type": "code",
   "execution_count": 31,
   "id": "0d92a236",
   "metadata": {},
   "outputs": [],
   "source": [
    "download('https://github.com/AllenDowney/ThinkPython/raw/v3/thinkpython.py');\n",
    "download('https://github.com/AllenDowney/ThinkPython/raw/v3/diagram.py');"
   ]
  },
  {
   "cell_type": "code",
   "execution_count": 32,
   "id": "380dc8e4",
   "metadata": {
    "lines_to_next_cell": 2
   },
   "outputs": [],
   "source": [
    "import thinkpython"
   ]
  },
  {
   "cell_type": "markdown",
   "id": "77cd712f",
   "metadata": {},
   "source": [
    "# 函式 (Functions)\n",
    "\n",
    "在上一章，我們用了一些 Python 提供的函式，像是 `int` 和 `float`，還有一些 `math` 模組提供的函式，像是 `sqrt` 和 `pow`。\n",
    "在這一章，你會學到如何建立自己的函式並執行它們。\n",
    "我們也會看到一個函式如何呼叫另一個函式。\n",
    "作為範例，我們會顯示蒙提·派森 (Monty Python) 歌曲的歌詞。\n",
    "這些看起來傻傻的例子其實展示了一個很重要的特性——能夠寫自己的函式是程式設計的基礎。\n",
    "\n",
    "這一章也會介紹一個新的陳述句，`for` 迴圈，它用來重複執行某個運算。"
   ]
  },
  {
   "cell_type": "markdown",
   "id": "3afde7b6",
   "metadata": {},
   "source": [
    "## 定義新的函式\n",
    "\n",
    "**函式定義** (function definition) 指定了一個新函式的名稱以及當函式被呼叫時要執行的陳述句序列。這裡有個例子："
   ]
  },
  {
   "cell_type": "code",
   "execution_count": 33,
   "id": "601ebf86",
   "metadata": {
    "lines_to_next_cell": 2
   },
   "outputs": [],
   "source": [
    "def print_lyrics(): # 譯註：定義一個叫做 print_lyrics 的函式\n",
    "    print(\"我是一個伐木工，我過得很好。\") # 譯註：歌詞改為中文\n",
    "    print(\"我整夜睡覺，整天工作。\")"
   ]
  },
  {
   "cell_type": "markdown",
   "id": "d42e2bae",
   "metadata": {},
   "source": [
    "`def` 是一個關鍵字，表示這是一個函式定義。\n",
    "函式的名稱是 `print_lyrics`。\n",
    "任何合法的變數名稱也都是合法的函式名稱。\n",
    "\n",
    "名稱後面的空括號表示這個函式不接受任何引數。\n",
    "\n",
    "函式定義的第一行叫做 **標頭** (header)——其餘的部分叫做 **主體** (body)。\n",
    "標頭必須以冒號結尾，而主體必須縮排。依照慣例，縮排通常是四個空格。\n",
    "這個函式的主體是兩個 print 陳述句；一般來說，函式的主體可以包含任意數量、任意種類的陳述句。\n",
    "\n",
    "定義一個函式會建立一個 **函式物件** (function object)，我們可以像這樣顯示它。"
   ]
  },
  {
   "cell_type": "code",
   "execution_count": 34,
   "id": "eee65044",
   "metadata": {
    "lines_to_next_cell": 2
   },
   "outputs": [
    {
     "data": {
      "text/plain": [
       "<function __main__.print_lyrics()>"
      ]
     },
     "execution_count": 34,
     "metadata": {},
     "output_type": "execute_result"
    }
   ],
   "source": [
    "print_lyrics"
   ]
  },
  {
   "cell_type": "markdown",
   "id": "ebabaee3",
   "metadata": {},
   "source": [
    "輸出結果顯示 `print_lyrics` 是一個不接受任何引數的函式。\n",
    "`__main__` 是包含 `print_lyrics` 的模組的名稱。(譯註：在直接執行 .py 檔案或 Jupyter Notebook 中，最外層的程式碼通常屬於 `__main__` 模組)\n",
    "\n",
    "現在我們已經定義了一個函式，我們可以用和呼叫內建函式相同的方式來呼叫它。"
   ]
  },
  {
   "cell_type": "code",
   "execution_count": 35,
   "id": "361b93d3",
   "metadata": {
    "lines_to_next_cell": 2
   },
   "outputs": [
    {
     "name": "stdout",
     "output_type": "stream",
     "text": [
      "我是一個伐木工，我過得很好。\n",
      "我整夜睡覺，整天工作。\n"
     ]
    }
   ],
   "source": [
    "print_lyrics()"
   ]
  },
  {
   "cell_type": "markdown",
   "id": "4e06bc9d",
   "metadata": {},
   "source": [
    "當函式執行時，它會執行主體中的陳述句，也就是顯示「伐木工之歌」的前兩行歌詞。"
   ]
  },
  {
   "cell_type": "markdown",
   "id": "2d323a05",
   "metadata": {},
   "source": [
    "## 參數 (Parameters)\n",
    "\n",
    "我們看過的一些函式需要引數；例如，當你呼叫 `abs` 時，你會傳入一個數字作為引數。\n",
    "有些函式需要多於一個引數；例如，`math.pow` 需要兩個，底數和指數。\n",
    "\n",
    "這裡是一個接受引數的函式定義。"
   ]
  },
  {
   "cell_type": "code",
   "execution_count": 36,
   "id": "a0b3dd92",
   "metadata": {
    "lines_to_next_cell": 2
   },
   "outputs": [],
   "source": [
    "def print_twice(string): # 譯註：string 是一個參數\n",
    "    print(string)\n",
    "    print(string)"
   ]
  },
  {
   "cell_type": "markdown",
   "id": "6ed1f8d6",
   "metadata": {},
   "source": [
    "括號中的變數名稱是一個 **參數** (parameter)。\n",
    "當函式被呼叫時，引數的值會被賦予給參數。\n",
    "例如，我們可以像這樣呼叫 `print_twice`。"
   ]
  },
  {
   "cell_type": "code",
   "execution_count": 37,
   "id": "466f6991",
   "metadata": {
    "lines_to_next_cell": 2
   },
   "outputs": [
    {
     "name": "stdout",
     "output_type": "stream",
     "text": [
      "丹尼斯·摩爾，\n",
      "丹尼斯·摩爾，\n"
     ]
    }
   ],
   "source": [
    "print_twice('丹尼斯·摩爾，') # 譯註：歌詞改為中文"
   ]
  },
  {
   "cell_type": "markdown",
   "id": "997b8784",
   "metadata": {},
   "source": [
    "執行這個函式，效果等同於將引數賦值給參數，然後執行函式的主體，就像這樣："
   ]
  },
  {
   "cell_type": "code",
   "execution_count": 38,
   "id": "514730d6",
   "metadata": {
    "lines_to_next_cell": 2
   },
   "outputs": [
    {
     "name": "stdout",
     "output_type": "stream",
     "text": [
      "丹尼斯·摩爾，\n",
      "丹尼斯·摩爾，\n"
     ]
    }
   ],
   "source": [
    "string = '丹尼斯·摩爾，'\n",
    "print(string)\n",
    "print(string)"
   ]
  },
  {
   "cell_type": "markdown",
   "id": "ece9584e",
   "metadata": {},
   "source": [
    "你也可以使用一個變數作為引數。"
   ]
  },
  {
   "cell_type": "code",
   "execution_count": 39,
   "id": "f4dd617e",
   "metadata": {
    "lines_to_next_cell": 2
   },
   "outputs": [
    {
     "name": "stdout",
     "output_type": "stream",
     "text": [
      "丹尼斯·摩爾，\n",
      "丹尼斯·摩爾，\n"
     ]
    }
   ],
   "source": [
    "line = '丹尼斯·摩爾，'\n",
    "print_twice(line)"
   ]
  },
  {
   "cell_type": "markdown",
   "id": "d36fc5cd",
   "metadata": {},
   "source": [
    "在這個例子中，`line` 的值被賦予給參數 `string`。"
   ]
  },
  {
   "cell_type": "markdown",
   "id": "32397799",
   "metadata": {},
   "source": [
    "## 呼叫函式\n",
    "\n",
    "一旦你定義了一個函式，你就可以在另一個函式內部使用它。\n",
    "為了示範，我們會寫一些函式來印出「午餐肉之歌」(The Spam Song) 的歌詞 (<https://www.songfacts.com/lyrics/monty-python/the-spam-song>)。\n",
    "\n",
    "> Spam, Spam, Spam, Spam,  (午餐肉, 午餐肉, 午餐肉, 午餐肉,)\n",
    "> Spam, Spam, Spam, Spam,  (午餐肉, 午餐肉, 午餐肉, 午餐肉,)\n",
    "> Spam, Spam,              (午餐肉, 午餐肉,)\n",
    "> (Lovely Spam, Wonderful Spam!) (可愛的午餐肉，美妙的午餐肉!)\n",
    "> Spam, Spam,              (午餐肉, 午餐肉,)\n",
    "\n",
    "我們會從下面這個函式開始，它接受兩個參數。\n"
   ]
  },
  {
   "cell_type": "code",
   "execution_count": 40,
   "id": "9baacebe",
   "metadata": {
    "lines_to_next_cell": 2
   },
   "outputs": [],
   "source": [
    "def repeat(word, n): # 譯註：word 是要重複的字，n 是重複次數\n",
    "    print(word * n) # 譯註：字串乘以整數 n，會將字串重複 n 次"
   ]
  },
  {
   "cell_type": "markdown",
   "id": "19df4d8a",
   "metadata": {},
   "source": [
    "我們可以用這個函式來印出歌曲的第一行，像這樣。"
   ]
  },
  {
   "cell_type": "code",
   "execution_count": 41,
   "id": "077ddd11",
   "metadata": {
    "lines_to_next_cell": 2
   },
   "outputs": [
    {
     "name": "stdout",
     "output_type": "stream",
     "text": [
      "午餐肉，午餐肉，午餐肉，午餐肉，午餐肉，午餐肉，午餐肉，午餐肉，午餐肉，午餐肉，午餐肉，午餐肉，午餐肉，午餐肉，\n"
     ]
    }
   ],
   "source": [
    "spam = '午餐肉，' # 譯註：改為中文\n",
    "repeat(spam, 14)"
   ]
  },
  {
   "cell_type": "markdown",
   "id": "daea652e",
   "metadata": {},
   "source": [
    "要顯示前兩行，我們可以定義一個新的函式，它會使用 `repeat`。"
   ]
  },
  {
   "cell_type": "code",
   "execution_count": 42,
   "id": "5d1b4c73",
   "metadata": {
    "lines_to_next_cell": 2
   },
   "outputs": [],
   "source": [
    "def first_two_lines():\n",
    "    repeat(spam, 4)\n",
    "    repeat(spam, 4)"
   ]
  },
  {
   "cell_type": "markdown",
   "id": "8b2fb8f0",
   "metadata": {},
   "source": [
    "然後像這樣呼叫它。"
   ]
  },
  {
   "cell_type": "code",
   "execution_count": 43,
   "id": "520ef907",
   "metadata": {
    "lines_to_next_cell": 2
   },
   "outputs": [
    {
     "name": "stdout",
     "output_type": "stream",
     "text": [
      "午餐肉，午餐肉，午餐肉，午餐肉，\n",
      "午餐肉，午餐肉，午餐肉，午餐肉，\n"
     ]
    }
   ],
   "source": [
    "first_two_lines()"
   ]
  },
  {
   "cell_type": "markdown",
   "id": "1db90ef8",
   "metadata": {},
   "source": [
    "要顯示最後三行，我們可以定義另一個函式，它也會使用 `repeat`。"
   ]
  },
  {
   "cell_type": "code",
   "execution_count": 44,
   "id": "1ec12d6d",
   "metadata": {
    "lines_to_next_cell": 2
   },
   "outputs": [],
   "source": [
    "def last_three_lines():\n",
    "    repeat(spam, 2)\n",
    "    print('(可愛的午餐肉，美妙的午餐肉！)') # 譯註：改為中文\n",
    "    repeat(spam, 2)"
   ]
  },
  {
   "cell_type": "code",
   "execution_count": 45,
   "id": "168e6302",
   "metadata": {
    "lines_to_next_cell": 2
   },
   "outputs": [
    {
     "name": "stdout",
     "output_type": "stream",
     "text": [
      "午餐肉，午餐肉，\n",
      "(可愛的午餐肉，美妙的午餐肉！)\n",
      "午餐肉，午餐肉，\n"
     ]
    }
   ],
   "source": [
    "last_three_lines()"
   ]
  },
  {
   "cell_type": "markdown",
   "id": "a359a0e0",
   "metadata": {},
   "source": [
    "最後，我們可以把它們全部組合起來，用一個函式印出整段歌詞。"
   ]
  },
  {
   "cell_type": "code",
   "execution_count": 46,
   "id": "4474fdb5",
   "metadata": {
    "lines_to_next_cell": 2
   },
   "outputs": [],
   "source": [
    "def print_verse():\n",
    "    first_two_lines()\n",
    "    last_three_lines()"
   ]
  },
  {
   "cell_type": "code",
   "execution_count": 47,
   "id": "fefbf592",
   "metadata": {
    "lines_to_next_cell": 2
   },
   "outputs": [
    {
     "name": "stdout",
     "output_type": "stream",
     "text": [
      "午餐肉，午餐肉，午餐肉，午餐肉，\n",
      "午餐肉，午餐肉，午餐肉，午餐肉，\n",
      "午餐肉，午餐肉，\n",
      "(可愛的午餐肉，美妙的午餐肉！)\n",
      "午餐肉，午餐肉，\n"
     ]
    }
   ],
   "source": [
    "print_verse()"
   ]
  },
  {
   "cell_type": "markdown",
   "id": "4eddd2b7",
   "metadata": {},
   "source": [
    "當我們執行 `print_verse` 時，它會呼叫 `first_two_lines`，而 `first_two_lines` 會呼叫 `repeat`，`repeat` 又會呼叫 `print`。\n",
    "這是一連串的函式呼叫。\n",
    "\n",
    "當然，我們可以用更少的函式來做同樣的事情，但這個例子的重點是展示函式之間如何協同工作。"
   ]
  },
  {
   "cell_type": "markdown",
   "id": "3e2ae906",
   "metadata": {},
   "source": [
    "## 重複 (Repetition)\n",
    "\n",
    "如果我們想顯示不只一段歌詞，我們可以使用 `for` 陳述句。\n",
    "這裡有一個簡單的例子。"
   ]
  },
  {
   "cell_type": "code",
   "execution_count": 48,
   "id": "3e5e6698",
   "metadata": {
    "lines_to_next_cell": 2
   },
   "outputs": [
    {
     "name": "stdout",
     "output_type": "stream",
     "text": [
      "0\n",
      "1\n"
     ]
    }
   ],
   "source": [
    "for i in range(2): # 譯註：range(2) 會產生 0 和 1\n",
    "    print(i)"
   ]
  },
  {
   "cell_type": "markdown",
   "id": "404350cf",
   "metadata": {},
   "source": [
    "第一行是標頭，以冒號結尾。\n",
    "第二行是主體，必須縮排。\n",
    "\n",
    "標頭以關鍵字 `for` 開始，接著是一個新的變數名稱 `i`，然後是另一個關鍵字 `in`。\n",
    "它使用 `range` 函式來建立一個包含兩個值的序列，也就是 `0` 和 `1`。\n",
    "在 Python 中，當我們開始計數時，通常從 `0` 開始。\n",
    "\n",
    "當 `for` 陳述句執行時，它會將 `range` 產生的第一個值賦予給 `i`，然後執行主體中的 `print` 函式，顯示 `0`。\n",
    "\n",
    "當它執行到主體的結尾時，它會回到標頭，這就是為什麼這個陳述句叫做 **迴圈** (loop)。\n",
    "第二次進入迴圈時，它會將 `range` 產生的下一個值賦予給 `i`，並顯示它。\n",
    "然後，因為那是 `range` 產生的最後一個值，迴圈結束。\n",
    "\n",
    "這裡是如何使用 `for` 迴圈來印出歌曲的兩段歌詞。"
   ]
  },
  {
   "cell_type": "code",
   "execution_count": 49,
   "id": "015d52f7",
   "metadata": {
    "lines_to_next_cell": 2
   },
   "outputs": [
    {
     "name": "stdout",
     "output_type": "stream",
     "text": [
      "第 1 段\n",
      "午餐肉，午餐肉，午餐肉，午餐肉，\n",
      "午餐肉，午餐肉，午餐肉，午餐肉，\n",
      "午餐肉，午餐肉，\n",
      "(可愛的午餐肉，美妙的午餐肉！)\n",
      "午餐肉，午餐肉，\n",
      "\n",
      "第 2 段\n",
      "午餐肉，午餐肉，午餐肉，午餐肉，\n",
      "午餐肉，午餐肉，午餐肉，午餐肉，\n",
      "午餐肉，午餐肉，\n",
      "(可愛的午餐肉，美妙的午餐肉！)\n",
      "午餐肉，午餐肉，\n",
      "\n",
      "第 3 段\n",
      "午餐肉，午餐肉，午餐肉，午餐肉，\n",
      "午餐肉，午餐肉，午餐肉，午餐肉，\n",
      "午餐肉，午餐肉，\n",
      "(可愛的午餐肉，美妙的午餐肉！)\n",
      "午餐肉，午餐肉，\n",
      "\n"
     ]
    }
   ],
   "source": [
    "for i in range(3):\n",
    "    print(\"第\", i+1, \"段\") # 譯註：讓段落從 1 開始計數，並改為中文\n",
    "    print_verse()\n",
    "    print() # 譯註：印一個空行，讓段落之間有間隔"
   ]
  },
  {
   "cell_type": "markdown",
   "id": "6a3966e6",
   "metadata": {},
   "source": [
    "你可以把 `for` 迴圈放在函式裡面。\n",
    "例如，`print_n_verses` 接受一個名為 `n` 的參數，它必須是一個整數，然後顯示指定數量的歌詞段落。"
   ]
  },
  {
   "cell_type": "code",
   "execution_count": 50,
   "id": "e4668da0",
   "metadata": {
    "lines_to_next_cell": 2
   },
   "outputs": [],
   "source": [
    "def print_n_verses(n):\n",
    "    for i in range(n):\n",
    "        print_verse()\n",
    "        print()"
   ]
  },
  {
   "cell_type": "code",
   "execution_count": 51,
   "id": "d6bfee00",
   "metadata": {},
   "outputs": [
    {
     "name": "stdout",
     "output_type": "stream",
     "text": [
      "午餐肉，午餐肉，午餐肉，午餐肉，\n",
      "午餐肉，午餐肉，午餐肉，午餐肉，\n",
      "午餐肉，午餐肉，\n",
      "(可愛的午餐肉，美妙的午餐肉！)\n",
      "午餐肉，午餐肉，\n",
      "\n",
      "午餐肉，午餐肉，午餐肉，午餐肉，\n",
      "午餐肉，午餐肉，午餐肉，午餐肉，\n",
      "午餐肉，午餐肉，\n",
      "(可愛的午餐肉，美妙的午餐肉！)\n",
      "午餐肉，午餐肉，\n",
      "\n",
      "午餐肉，午餐肉，午餐肉，午餐肉，\n",
      "午餐肉，午餐肉，午餐肉，午餐肉，\n",
      "午餐肉，午餐肉，\n",
      "(可愛的午餐肉，美妙的午餐肉！)\n",
      "午餐肉，午餐肉，\n",
      "\n",
      "午餐肉，午餐肉，午餐肉，午餐肉，\n",
      "午餐肉，午餐肉，午餐肉，午餐肉，\n",
      "午餐肉，午餐肉，\n",
      "(可愛的午餐肉，美妙的午餐肉！)\n",
      "午餐肉，午餐肉，\n",
      "\n",
      "午餐肉，午餐肉，午餐肉，午餐肉，\n",
      "午餐肉，午餐肉，午餐肉，午餐肉，\n",
      "午餐肉，午餐肉，\n",
      "(可愛的午餐肉，美妙的午餐肉！)\n",
      "午餐肉，午餐肉，\n",
      "\n"
     ]
    }
   ],
   "source": [
    "print_n_verses(5)"
   ]
  },
  {
   "cell_type": "markdown",
   "id": "efa232ff",
   "metadata": {},
   "source": [
    "在這個例子中，我們沒有在迴圈主體中使用 `i`，但標頭中仍然需要一個變數名稱。"
   ]
  },
  {
   "cell_type": "markdown",
   "id": "15fa92a6",
   "metadata": {},
   "source": [
    "## 變數和參數是區域性的 (Local)\n",
    "\n",
    "當你在函式內部建立一個變數時，它是 **區域性的** (local)，這\n",
    "意味著它只存在於該函式內部。\n",
    "例如，下面的函式接受兩個引數，將它們串接起來，然後印出結果兩次。"
   ]
  },
  {
   "cell_type": "code",
   "execution_count": 52,
   "id": "eb748720",
   "metadata": {
    "lines_to_next_cell": 2
   },
   "outputs": [],
   "source": [
    "def cat_twice(part1, part2):\n",
    "    cat = part1 + part2 # 譯註：cat 是在 cat_twice 函式內定義的區域變數\n",
    "    print_twice(cat)"
   ]
  },
  {
   "cell_type": "markdown",
   "id": "e9c42419",
   "metadata": {},
   "source": [
    "這裡有一個使用它的例子："
   ]
  },
  {
   "cell_type": "code",
   "execution_count": 53,
   "id": "c481d1fd",
   "metadata": {
    "lines_to_next_cell": 2
   },
   "outputs": [
    {
     "name": "stdout",
     "output_type": "stream",
     "text": [
      "永遠要看事情的 光明面。\n",
      "永遠要看事情的 光明面。\n"
     ]
    }
   ],
   "source": [
    "line1 = '永遠要看事情的 ' # 譯註：歌詞改為中文\n",
    "line2 = '光明面。'\n",
    "cat_twice(line1, line2)"
   ]
  },
  {
   "cell_type": "markdown",
   "id": "bb577e69",
   "metadata": {},
   "source": [
    "當 `cat_twice` 執行時，它會建立一個名為 `cat` 的區域變數，這個變數在函式結束時會被銷毀。\n",
    "如果我們試圖顯示它，會得到一個 `NameError` (名稱錯誤)："
   ]
  },
  {
   "cell_type": "code",
   "execution_count": 54,
   "id": "c59c284a",
   "metadata": {
    "lines_to_next_cell": 2
   },
   "outputs": [
    {
     "ename": "NameError",
     "evalue": "name 'cat' is not defined",
     "output_type": "error",
     "traceback": [
      "\u001b[31mNameError\u001b[39m\u001b[31m:\u001b[39m name 'cat' is not defined\n"
     ]
    }
   ],
   "source": [
    "get_ipython().run_cell_magic('expect', 'NameError', '\\nprint(cat)\\n') # 譯註：預期 NameError，因為 cat 在函式外部未定義"
   ]
  },
  {
   "cell_type": "code",
   "execution_count": 55,
   "id": "a62eca18",
   "metadata": {},
   "outputs": [
    {
     "ename": "NameError",
     "evalue": "name 'cat' is not defined",
     "output_type": "error",
     "traceback": [
      "\u001b[31mNameError\u001b[39m\u001b[31m:\u001b[39m name 'cat' is not defined\n"
     ]
    }
   ],
   "source": [
    "print(cat)"
   ]
  },
  {
   "cell_type": "markdown",
   "id": "95c9c2cb",
   "metadata": {},
   "source": [
    "在函式外部，`cat` 是未定義的。\n",
    "\n",
    "參數也是區域性的。\n",
    "例如，在 `cat_twice` 函式外部，不存在 `part1` 或 `part2` 這樣的東西。"
   ]
  },
  {
   "cell_type": "markdown",
   "id": "805e8548",
   "metadata": {},
   "source": [
    "## 堆疊圖 (Stack diagrams)\n",
    "\n",
    "為了追蹤哪些變數可以在哪裡使用，有時候畫一個 **堆疊圖** (stack diagram) 會很有用。\n",
    "就像狀態圖一樣，堆疊圖顯示每個變數的值，但它們也顯示每個變數屬於哪個函式。\n",
    "\n",
    "每個函式都由一個 **框架** (frame) 表示。\n",
    "框架是一個盒子，外面有函式的名稱，裡面有函式的參數和區域變數。\n",
    "\n",
    "這是上一個例子的堆疊圖。"
   ]
  },
  {
   "cell_type": "code",
   "execution_count": null,
   "id": "b8f4ac78",
   "metadata": {},
   "outputs": [],
   "source": [
    "from diagram import make_frame, Stack # 譯註：這是書中用來畫圖的工具"
   ]
  },
  {
   "cell_type": "code",
   "execution_count": null,
   "id": "c1ad0b67",
   "metadata": {},
   "outputs": [],
   "source": [
    "# 譯註：以下程式碼是為了產生一個函式呼叫堆疊的示意圖\n",
    "d1 = dict(line1=line1, line2=line2)\n",
    "frame1 = make_frame(d1, name='__main__', dy=-0.3, loc='left') # 最外層的框架"
   ]
  },
  {
   "cell_type": "code",
   "execution_count": null,
   "id": "89726675",
   "metadata": {},
   "outputs": [],
   "source": [
    "d2 = dict(part1=line1, part2=line2, cat=line1+line2)\n",
    "frame2 = make_frame(d2, name='cat_twice', dy=-0.3,\n",
    "                    offsetx=0.03, loc='left') # cat_twice 函式的框架"
   ]
  },
  {
   "cell_type": "code",
   "execution_count": null,
   "id": "39255787",
   "metadata": {},
   "outputs": [],
   "source": [
    "d3 = dict(string=line1+line2)\n",
    "frame3 = make_frame(d3, name='print_twice',\n",
    "                    offsetx=0.04, offsety=-0.3, loc='left') # print_twice 函式的框架"
   ]
  },
  {
   "cell_type": "code",
   "execution_count": null,
   "id": "b24a0aa7",
   "metadata": {},
   "outputs": [],
   "source": [
    "d4 = {\"?\": line1+line2} # 譯註：print 函式的參數名稱未知，用 ? 表示\n",
    "frame4 = make_frame(d4, name='print',\n",
    "                    offsetx=-0.22, offsety=0, loc='left') # print 函式的框架"
   ]
  },
  {
   "cell_type": "code",
   "execution_count": null,
   "id": "bbd0ecb3",
   "metadata": {
    "lines_to_next_cell": 2
   },
   "outputs": [],
   "source": [
    "stack = Stack([frame1, frame2, frame3, frame4], dy=-0.8)"
   ]
  },
  {
   "cell_type": "code",
   "execution_count": null,
   "id": "931ce10a",
   "metadata": {
    "lines_to_next_cell": 2
   },
   "outputs": [],
   "source": [
    "from diagram import diagram, adjust # 譯註：這是書中用來畫圖的工具"
   ]
  },
  {
   "cell_type": "code",
   "execution_count": 57,
   "id": "2f8d3b56",
   "metadata": {},
   "outputs": [
    {
     "ename": "NameError",
     "evalue": "name 'diagram' is not defined",
     "output_type": "error",
     "traceback": [
      "\u001b[31mNameError\u001b[39m\u001b[31m:\u001b[39m name 'diagram' is not defined\n"
     ]
    }
   ],
   "source": [
    "width, height, x, y = [3.77, 2.9, 1.1, 2.65] # 譯註：圖表的繪製參數\n",
    "ax = diagram(width, height)\n",
    "bbox = stack.draw(ax, x, y)\n",
    "# adjust(x, y, bbox) # 譯註：調整圖表位置的函式，這裡被註解掉了\n"
   ]
  },
  {
   "cell_type": "code",
   "execution_count": null,
   "id": "8099609c",
   "metadata": {},
   "outputs": [
    {
     "name": "stdout",
     "output_type": "stream",
     "text": [
      "已設定使用 Microsoft JhengHei 字體\n"
     ]
    },
    {
     "ename": "NameError",
     "evalue": "name 'diagram' is not defined",
     "output_type": "error",
     "traceback": [
      "\u001b[31mNameError\u001b[39m\u001b[31m:\u001b[39m name 'diagram' is not defined\n"
     ]
    }
   ],
   "source": [
    "# 在繪圖代碼之前添加\n",
    "from set_chinese_font import set_chinese_font, list_available_chinese_fonts\n",
    "\n",
    "# 設定中文字體\n",
    "set_chinese_font()\n",
    "\n",
    "# 然後再執行您的繪圖代碼\n",
    "width, height, x, y = [3.77, 2.9, 1.1, 2.65]\n",
    "ax = diagram(width, height)\n",
    "bbox = stack.draw(ax, x, y)"
   ]
  },
  {
   "cell_type": "code",
   "execution_count": null,
   "id": "1c2dba92",
   "metadata": {
    "lines_to_next_cell": 2
   },
   "outputs": [
    {
     "data": {
      "text/plain": [
       "<Figure size 640x480 with 0 Axes>"
      ]
     },
     "metadata": {},
     "output_type": "display_data"
    }
   ],
   "source": [
    "import matplotlib.pyplot as plt\n",
    "plt.savefig('chap03_stack_diagram.png', dpi=300) # 譯註：將圖表儲存為圖片"
   ]
  },
  {
   "cell_type": "markdown",
   "id": "6bc8e215",
   "metadata": {},
   "source": [
    "框架以堆疊方式排列，顯示哪個函式呼叫了哪個函式，依此類推。從底部往上看，`print` 被 `print_twice` 呼叫，`print_twice` 被 `cat_twice` 呼叫，而 `cat_twice` 被 `__main__` 呼叫——`__main__` 是最頂層框架的特殊名稱。\n",
    "當你在任何函式之外建立變數時，它屬於 `__main__`。\n",
    "\n",
    "在 `print` 的框架中，問號表示我們不知道參數的名稱。\n",
    "如果你好奇，可以問虛擬助理：「Python print 函式的參數是什麼？」"
   ]
  },
  {
   "cell_type": "markdown",
   "id": "0cb103b4",
   "metadata": {},
   "source": [
    "## 回溯追蹤 (Tracebacks)\n",
    "\n",
    "當函式中發生執行期錯誤時，Python 會顯示正在執行的函式名稱、呼叫它的函式名稱，依此類推，一直往上追溯堆疊。\n",
    "為了看一個例子，我會定義一個包含錯誤的 `print_twice` 版本——它試圖印出 `cat`，而 `cat` 是另一個函式中的區域變數。"
   ]
  },
  {
   "cell_type": "code",
   "execution_count": null,
   "id": "93b89dcf",
   "metadata": {
    "lines_to_next_cell": 2
   },
   "outputs": [],
   "source": [
    "def print_twice(string): # 譯註：這是故意寫錯的版本\n",
    "    print(cat)            # NameError: cat 在這個函式中未定義\n",
    "    print(cat)"
   ]
  },
  {
   "cell_type": "markdown",
   "id": "5199ca2c",
   "metadata": {},
   "source": [
    "現在看看當我們執行 `cat_twice` 時會發生什麼。"
   ]
  },
  {
   "cell_type": "markdown",
   "id": "8b7129ce",
   "metadata": {},
   "source": [
    "這個儲存格告訴 Jupyter 在發生執行期錯誤時提供詳細的除錯資訊，\n",
    "包括回溯追蹤。"
   ]
  },
  {
   "cell_type": "code",
   "execution_count": null,
   "id": "7b8276ec",
   "metadata": {
    "lines_to_next_cell": 2
   },
   "outputs": [
    {
     "name": "stdout",
     "output_type": "stream",
     "text": [
      "Exception reporting mode: Verbose\n"
     ]
    }
   ],
   "source": [
    "get_ipython().run_line_magic('xmode', 'Verbose') # 譯註：開啟詳細錯誤回報模式"
   ]
  },
  {
   "cell_type": "code",
   "execution_count": null,
   "id": "2b3cc751",
   "metadata": {
    "lines_to_next_cell": 2
   },
   "outputs": [
    {
     "ename": "NameError",
     "evalue": "name 'cat' is not defined",
     "output_type": "error",
     "traceback": [
      "\u001b[31m---------------------------------------------------------------------------\u001b[39m",
      "\u001b[31mNameError\u001b[39m                                 Traceback (most recent call last)",
      "\u001b[36mCell\u001b[39m\u001b[36m \u001b[39m\u001b[32mIn[43]\u001b[39m\u001b[32m, line 1\u001b[39m\n\u001b[32m----> \u001b[39m\u001b[32m1\u001b[39m \u001b[43mcat_twice\u001b[49m\u001b[43m(\u001b[49m\u001b[43mline1\u001b[49m\u001b[43m,\u001b[49m\u001b[43m \u001b[49m\u001b[43mline2\u001b[49m\u001b[43m)\u001b[49m\n        line1 \u001b[34m= \u001b[39m\u001b[34m'永遠要看事情的 '\u001b[39m\n        line2 \u001b[34m= \u001b[39m\u001b[34m'光明面。'\u001b[39m",
      "\u001b[36mCell\u001b[39m\u001b[36m \u001b[39m\u001b[32mIn[29]\u001b[39m\u001b[32m, line 3\u001b[39m, in \u001b[36mcat_twice\u001b[39m\u001b[34m(part1='永遠要看事情的 ', part2='光明面。')\u001b[39m\n\u001b[32m      1\u001b[39m \u001b[38;5;28;01mdef\u001b[39;00m\u001b[38;5;250m \u001b[39m\u001b[34mcat_twice\u001b[39m(part1, part2):\n\u001b[32m      2\u001b[39m     cat = part1 + part2 \u001b[38;5;66;03m# 譯註：cat 是在 cat_twice 函式內定義的區域變數\u001b[39;00m\n\u001b[32m----> \u001b[39m\u001b[32m3\u001b[39m     \u001b[43mprint_twice\u001b[49m\u001b[43m(\u001b[49m\u001b[43mcat\u001b[49m\u001b[43m)\u001b[49m\n        cat \u001b[34m= \u001b[39m\u001b[34m'永遠要看事情的 光明面。'\u001b[39m",
      "\u001b[36mCell\u001b[39m\u001b[36m \u001b[39m\u001b[32mIn[41]\u001b[39m\u001b[32m, line 2\u001b[39m, in \u001b[36mprint_twice\u001b[39m\u001b[34m(string='永遠要看事情的 光明面。')\u001b[39m\n\u001b[32m      1\u001b[39m \u001b[38;5;28;01mdef\u001b[39;00m\u001b[38;5;250m \u001b[39m\u001b[34mprint_twice\u001b[39m(string): \u001b[38;5;66;03m# 譯註：這是故意寫錯的版本\u001b[39;00m\n\u001b[32m----> \u001b[39m\u001b[32m2\u001b[39m     \u001b[38;5;28mprint\u001b[39m(\u001b[43mcat\u001b[49m)            \u001b[38;5;66;03m# NameError: cat 在這個函式中未定義\u001b[39;00m\n\u001b[32m      3\u001b[39m     \u001b[38;5;28mprint\u001b[39m(cat)\n",
      "\u001b[31mNameError\u001b[39m: name 'cat' is not defined"
     ]
    }
   ],
   "source": [
    "get_ipython().run_cell_magic('expect', 'NameError', '\\ncat_twice(line1, line2)\\n') # 譯註：預期 NameError"
   ]
  },
  {
   "cell_type": "markdown",
   "id": "4a611778",
   "metadata": {},
   "source": [
    "錯誤訊息包含一個 **回溯追蹤** (traceback)，它顯示錯誤發生時正在執行的函式、呼叫它的函式，依此類推。\n",
    "在這個例子中，它顯示 `cat_twice` 呼叫了 `print_twice`，而錯誤發生在 `print_twice` 中。\n",
    "\n",
    "回溯追蹤中函式的順序與堆疊圖中框架的順序相同。\n",
    "正在執行的函式在最底部。"
   ]
  },
  {
   "cell_type": "markdown",
   "id": "22a60d9f",
   "metadata": {},
   "source": [
    "## 為什麼要用函式？\n",
    "\n",
    "現在可能還不太清楚為什麼要把程式分成函式這麼麻煩。\n",
    "有幾個原因：\n",
    "\n",
    "-   建立一個新函式讓你有機會為一組陳述句命名，這讓你的程式更容易閱讀和除錯。\n",
    "\n",
    "-   函式可以透過消除重複的程式碼來讓程式更小。\n",
    "    之後，如果你要做修改，你只需要在一個地方修改。\n",
    "\n",
    "-   將一個長程式分成多個函式，可以讓你一次只除錯一部分，然後再把它們組合成一個可運作的整體。\n",
    "\n",
    "-   設計良好的函式通常可以用於許多程式。一旦你編寫並除錯了一個函式，你就可以重複使用它。"
   ]
  },
  {
   "cell_type": "markdown",
   "id": "f952981b",
   "metadata": {},
   "source": [
    "## 除錯 (Debugging)\n",
    "\n",
    "除錯可能令人沮喪，但它也富有挑戰性、有趣，有時甚至好玩。\n",
    "而且它是你能學到的最重要的技能之一。\n",
    "\n",
    "在某些方面，除錯就像偵探工作。\n",
    "你會得到一些線索，然後你必須推斷出導致你看到的結果的事件。\n",
    "\n",
    "除錯也像實驗科學。\n",
    "一旦你對問題出在哪裡有了想法，你就修改你的程式然後再試一次。\n",
    "如果你的假設是正確的，你就能預測修改的結果，你就離一個可運作的程式更近了一步。\n",
    "如果你的假設是錯誤的，你就必須想出一個新的假設。\n",
    "\n",
    "對某些人來說，程式設計和除錯是同一件事；也就是說，程式設計就是逐步除錯一個程式，直到它能做你想做的事。\n",
    "想法是，你應該從一個可運作的程式開始，然後做一些小的修改，邊做邊除錯。\n",
    "\n",
    "如果你發現自己花了很多時間在除錯，那通常表示你在開始測試之前寫了太多程式碼。\n",
    "如果你採取更小的步驟，你可能會發現進度反而更快。"
   ]
  },
  {
   "cell_type": "markdown",
   "id": "87667d8b",
   "metadata": {},
   "source": [
    "## 詞彙表\n",
    "\n",
    "**函式定義 (function definition):**\n",
    "一個建立函式的陳述句。\n",
    "\n",
    "**標頭 (header):**\n",
    " 函式定義的第一行。\n",
    "\n",
    "**主體 (body):**\n",
    " 函式定義內部的陳述句序列。\n",
    "\n",
    "**函式物件 (function object):**\n",
    "由函式定義建立的值。\n",
    "函式的名稱是一個指向函式物件的變數。\n",
    "\n",
    "**參數 (parameter):**\n",
    " 在函式內部用來指向傳入引數值的名稱。\n",
    "\n",
    "**迴圈 (loop):**\n",
    " 一個執行一個或多個陳述句的陳述句，通常會重複執行。\n",
    "\n",
    "**區域變數 (local variable):**\n",
    "在函式內部定義的變數，只能在該函式內部存取。\n",
    "\n",
    "**堆疊圖 (stack diagram):**\n",
    "一種圖形表示法，用來呈現函式呼叫的堆疊、它們的變數以及這些變數所指向的值。\n",
    "\n",
    "**框架 (frame):**\n",
    " 堆疊圖中的一個盒子，代表一次函式呼叫。\n",
    " 它包含函式的區域變數和參數。\n",
    "\n",
    "**回溯追蹤 (traceback):**\n",
    " 當例外發生時，印出正在執行的函式列表。"
   ]
  },
  {
   "cell_type": "markdown",
   "id": "1ca74b2e",
   "metadata": {},
   "source": [
    "## 練習"
   ]
  },
  {
   "cell_type": "markdown",
   "id": "a0fa8951",
   "metadata": {},
   "source": [
    "這個儲存格告訴 Jupyter 在發生執行期錯誤時提供詳細的除錯資訊。\n",
    "在做練習之前先執行它。"
   ]
  },
  {
   "cell_type": "code",
   "execution_count": null,
   "id": "90e2ebd8",
   "metadata": {
    "lines_to_next_cell": 2
   },
   "outputs": [
    {
     "name": "stdout",
     "output_type": "stream",
     "text": [
      "Exception reporting mode: Verbose\n"
     ]
    }
   ],
   "source": [
    "get_ipython().run_line_magic('xmode', 'Verbose')"
   ]
  },
  {
   "cell_type": "markdown",
   "id": "0af60216",
   "metadata": {},
   "source": [
    "### 問問虛擬助理\n",
    "\n",
    "函式或 `for` 迴圈中的陳述句，依照慣例，會縮排四個空格。\n",
    "但並非所有人都同意這個慣例。\n",
    "如果你對這場大辯論的歷史感到好奇，可以問虛擬助理「告訴我關於 Python 中的空格和定位字元（tabs）」。\n",
    "\n",
    "虛擬助理在編寫小型函式方面相當不錯。\n",
    "\n",
    "1. 請你最喜歡的虛擬助理「寫一個叫做 repeat 的函式，它接受一個字串和一個整數，然後將該字串印出指定的次數。」\n",
    "\n",
    "2. 如果結果使用了 `for` 迴圈，你可以問：「你能在不用 `for` 迴圈的情況下做到嗎？」\n",
    "\n",
    "3. 從本章中挑選任何其他函式，請虛擬助理編寫它。挑戰在於要足夠精確地描述函式才能得到你想要的結果。使用你在本書到目前為止學到的詞彙。\n",
    "\n",
    "虛擬助理在除錯函式方面也相當不錯。\n",
    "\n",
    "1. 問虛擬助理這個版本的 `print_twice` 有什麼問題。\n",
    "\n",
    "    ```python\n",
    "    def print_twice(string):\n",
    "        print(cat)\n",
    "        print(cat)\n",
    "    ```\n",
    "\n",
    "如果你在下面的任何練習中遇到困難，可以考慮向虛擬助理尋求協助。"
   ]
  },
  {
   "cell_type": "markdown",
   "id": "01d280ff",
   "metadata": {},
   "source": [
    "### 練習\n",
    "\n",
    "寫一個名為 `print_right` 的函式，它接受一個名為 `text` 的字串作為參數，並印出該字串，使其前面有足夠的空格，讓字串的最後一個字母位於顯示的第 40 欄。"
   ]
  },
  {
   "cell_type": "code",
   "execution_count": null,
   "id": "0067c7e5",
   "metadata": {},
   "outputs": [],
   "source": [
    "def print_right(text):\n",
    "    print(' '*40+text)"
   ]
  },
  {
   "cell_type": "markdown",
   "id": "123db4b4",
   "metadata": {},
   "source": [
    "解答"
   ]
  },
  {
   "cell_type": "code",
   "execution_count": null,
   "id": "89ab64c8",
   "metadata": {
    "lines_to_next_cell": 2
   },
   "outputs": [],
   "source": [
    "def print_right(text):\n",
    "    \"\"\"將文字印出，使其最後一個字母位於第 40 欄。\n",
    "    \n",
    "    text: 字串\n",
    "    \"\"\"\n",
    "    columns = 100 # 譯註：目標欄位寬度\n",
    "    space = '^'\n",
    "    num_spaces = columns - len(text) # 譯註：計算需要多少個前導空格\n",
    "    print(space * num_spaces + text) # 譯註：印出空格加上文字"
   ]
  },
  {
   "cell_type": "code",
   "execution_count": null,
   "id": "fca0f5ce",
   "metadata": {},
   "outputs": [
    {
     "name": "stdout",
     "output_type": "stream",
     "text": [
      "^^^^^^^^^^^^^^^^^^^^^^^^^^^^^^^^^^^^^^^^^^^^^^^^^^^^^^^^^^^^^^^^^^^^^^^^^^^^^Hello I am a programmer\n"
     ]
    }
   ],
   "source": [
    "print_right('Hello I am a programmer') # 譯註：印出對齊的文字\n"
   ]
  },
  {
   "cell_type": "markdown",
   "id": "3c9710df",
   "metadata": {},
   "source": [
    "提示：使用 `len` 函式、字串串接運算子 (`+`) 和字串重複運算子 (`*`)。\n",
    "\n",
    "這裡有一個例子，展示它應該如何運作。"
   ]
  },
  {
   "cell_type": "code",
   "execution_count": null,
   "id": "34e7577e",
   "metadata": {
    "lines_to_next_cell": 2
   },
   "outputs": [
    {
     "name": "stdout",
     "output_type": "stream",
     "text": [
      "^^^^^^^^^^^^^^^^^^^^^^^^^^^^^^^^^^^^^^^^^^^^^^^^^^^^^^^^^^^^^^^^^^^^^^^^^^^^^^^^^^^^^^^^^^^^^^^^^^蒙提\n",
      "^^^^^^^^^^^^^^^^^^^^^^^^^^^^^^^^^^^^^^^^^^^^^^^^^^^^^^^^^^^^^^^^^^^^^^^^^^^^^^^^^^^^^^^^^^^^^^^^^派森的\n",
      "^^^^^^^^^^^^^^^^^^^^^^^^^^^^^^^^^^^^^^^^^^^^^^^^^^^^^^^^^^^^^^^^^^^^^^^^^^^^^^^^^^^^^^^^^^^^^^^飛行馬戲團\n"
     ]
    }
   ],
   "source": [
    "print_right(\"蒙提\") # 譯註：改為中文\n",
    "print_right(\"派森的\")\n",
    "print_right(\"飛行馬戲團\")"
   ]
  },
  {
   "cell_type": "markdown",
   "id": "a03ed6fe",
   "metadata": {},
   "source": [
    "### 練習\n",
    "\n",
    "寫一个叫做 `triangle` 的函式，它接受一个字串和一个整数，并画出一个给定高度的金字塔，该金字塔由字串的副本组成。这是一个高度为 `5` 层的金字塔示例，使用字串 `'L'`。"
   ]
  },
  {
   "cell_type": "code",
   "execution_count": null,
   "id": "d7381c96",
   "metadata": {},
   "outputs": [
    {
     "name": "stdout",
     "output_type": "stream",
     "text": [
      "                  \n",
      "                 L\n",
      "                LL\n",
      "               LLL\n",
      "              LLLL\n",
      "             LLLLL\n",
      "            LLLLLL\n",
      "           LLLLLLL\n",
      "          LLLLLLLL\n",
      "         LLLLLLLLL\n",
      "        LLLLLLLLLL\n",
      "       LLLLLLLLLLL\n",
      "      LLLLLLLLLLLL\n",
      "     LLLLLLLLLLLLL\n",
      "    LLLLLLLLLLLLLL\n",
      "   LLLLLLLLLLLLLLL\n",
      "  LLLLLLLLLLLLLLLL\n",
      " LLLLLLLLLLLLLLLLL\n",
      "LLLLLLLLLLLLLLLLLL\n"
     ]
    }
   ],
   "source": [
    "def triangle(string, height):\n",
    "    \n",
    "    for i in range(height + 1): # 譯註：range(height+1) 會產生 0 到 height 的數字\n",
    "        space = ' ' * (height - i)\n",
    "        print(space + string * i)     # 譯註：第 i 行印出 i 個 string (i 從 0 開始)\n",
    "\n",
    "triangle('L',18)"
   ]
  },
  {
   "cell_type": "markdown",
   "id": "036934a9",
   "metadata": {},
   "source": [
    "解答"
   ]
  },
  {
   "cell_type": "code",
   "execution_count": null,
   "id": "701a6313",
   "metadata": {
    "lines_to_next_cell": 2
   },
   "outputs": [],
   "source": [
    "def triangle(string, height):\n",
    "    \"\"\"透過重複印出字串來製作三角形狀。\n",
    "    \n",
    "    string: 要重複的字元\n",
    "    height: 三角形的行數\n",
    "    \"\"\"\n",
    "    for i in range(height + 1): # 譯註：range(height+1) 會產生 0 到 height 的數字\n",
    "        print(string * i)     # 譯註：第 i 行印出 i 個 string (i 從 0 開始)"
   ]
  },
  {
   "cell_type": "code",
   "execution_count": null,
   "id": "cfeee41c",
   "metadata": {
    "lines_to_next_cell": 2
   },
   "outputs": [
    {
     "name": "stdout",
     "output_type": "stream",
     "text": [
      "\n",
      "L\n",
      "LL\n",
      "LLL\n",
      "LLLL\n",
      "LLLLL\n"
     ]
    }
   ],
   "source": [
    "triangle('L', 5)"
   ]
  },
  {
   "cell_type": "markdown",
   "id": "5582e803",
   "metadata": {},
   "source": [
    "### 練習\n",
    "\n",
    "寫一個叫做 `rectangle` 的函式，它接受一個字串和兩個整數，並畫出一個給定寬度和高度的矩形，該矩形由字串的副本組成。這是一個寬度為 `5`、高度為 `4` 的矩形示例，由字串 `'H'` 組成。"
   ]
  },
  {
   "cell_type": "markdown",
   "id": "689c8b66",
   "metadata": {},
   "source": [
    "解答"
   ]
  },
  {
   "cell_type": "code",
   "execution_count": null,
   "id": "702c2f16",
   "metadata": {
    "lines_to_next_cell": 2
   },
   "outputs": [],
   "source": [
    "def rectangle(string, width, height):\n",
    "    \"\"\"透過重複印出字串來製作矩形。\n",
    "    \n",
    "    string: 要重複的字元\n",
    "    width: 每行重複的次數\n",
    "    height: 行數\n",
    "    \"\"\"\n",
    "    for i in range(height): # 譯註：重複 height 次\n",
    "        print(string * width) # 譯註：每行印出 width 個 string"
   ]
  },
  {
   "cell_type": "code",
   "execution_count": null,
   "id": "277c8de0",
   "metadata": {
    "lines_to_next_cell": 2
   },
   "outputs": [
    {
     "name": "stdout",
     "output_type": "stream",
     "text": [
      "HHHHH\n",
      "HHHHH\n",
      "HHHHH\n",
      "HHHHH\n"
     ]
    }
   ],
   "source": [
    "rectangle('H', 5, 4)"
   ]
  },
  {
   "cell_type": "markdown",
   "id": "3c798f90",
   "metadata": {},
   "source": [
    "### 練習\n",
    "\n",
    "歌曲「99 瓶啤酒」以下列這段歌詞開始：\n",
    "\n",
    "> 牆上有 99 瓶啤酒 (99 bottles of beer on the wall)\n",
    "> 99 瓶啤酒 (99 bottles of beer)\n",
    "> 拿下一瓶，傳下去 (Take one down, pass it around)\n",
    "> 牆上還有 98 瓶啤酒 (98 bottles of beer on the wall)\n",
    "\n",
    "然後第二段歌詞相同，只是它從 98 瓶開始，到 97 瓶結束。這首歌會一直持續——持續非常久——直到牆上沒有啤酒為止。\n",
    "\n",
    "寫一個叫做 `bottle_verse` 的函式，它接受一個數字作為參數，並顯示以該數字瓶數開始的那段歌詞。\n",
    "\n",
    "提示：考慮從一個可以印出歌詞第一行、第二行或最後一行的函式開始，然後用它來寫 `bottle_verse`。"
   ]
  },
  {
   "cell_type": "markdown",
   "id": "7d5c9dc2",
   "metadata": {},
   "source": [
    "解答"
   ]
  },
  {
   "cell_type": "code",
   "execution_count": null,
   "id": "a83ee5bd",
   "metadata": {
    "lines_to_next_cell": 2
   },
   "outputs": [],
   "source": [
    "def bottle_line(n, suffix):\n",
    "    \"\"\"顯示「99 瓶啤酒」中的一行歌詞。\n",
    "    \n",
    "    n: 整數，瓶子數量\n",
    "    suffix: 字串，行尾的補充文字 (例如 \"on the wall\" 或空字串)\n",
    "    \"\"\"\n",
    "    print(n, '瓶啤酒', suffix) # 譯註：改為中文"
   ]
  },
  {
   "cell_type": "code",
   "execution_count": null,
   "id": "5379e69d",
   "metadata": {},
   "outputs": [
    {
     "name": "stdout",
     "output_type": "stream",
     "text": [
      "99 瓶啤酒 在牆上\n"
     ]
    }
   ],
   "source": [
    "bottle_line(99, '在牆上') # 譯註：顯示「99 瓶啤酒在牆上」"
   ]
  },
  {
   "cell_type": "markdown",
   "id": "28e4961b",
   "metadata": {},
   "source": [
    "解答"
   ]
  },
  {
   "cell_type": "code",
   "execution_count": null,
   "id": "41a0abc8",
   "metadata": {
    "lines_to_next_cell": 2
   },
   "outputs": [],
   "source": [
    "def bottle_verse(n):\n",
    "    \"\"\"顯示「99 瓶啤酒」中的一段歌詞。\n",
    "    \n",
    "    n: 整數，這段歌詞開始時的瓶子數量\n",
    "    \"\"\"\n",
    "    bottle_line(n, '在牆上') # 譯註：改為中文\n",
    "    bottle_line(n, '')\n",
    "    print('拿下一瓶，傳下去') # 譯註：改為中文\n",
    "    bottle_line(n-1, '在牆上')\n",
    "    print()"
   ]
  },
  {
   "cell_type": "markdown",
   "id": "ae882c81",
   "metadata": {},
   "source": [
    "使用這個函式呼叫來顯示第一段歌詞。"
   ]
  },
  {
   "cell_type": "code",
   "execution_count": null,
   "id": "a233c860",
   "metadata": {
    "lines_to_next_cell": 2
   },
   "outputs": [
    {
     "name": "stdout",
     "output_type": "stream",
     "text": [
      "99 瓶啤酒 在牆上\n",
      "99 瓶啤酒 \n",
      "拿下一瓶，傳下去\n",
      "98 瓶啤酒 在牆上\n",
      "\n"
     ]
    }
   ],
   "source": [
    "bottle_verse(99)"
   ]
  },
  {
   "cell_type": "markdown",
   "id": "e998eefb",
   "metadata": {},
   "source": [
    "如果你想印出整首歌，你可以使用這個 `for` 迴圈，它會從 `99` 倒數到 `1`。\n",
    "你不需要完全理解這個例子——我們稍後會學到更多關於 `for` 迴圈和 `range` 函式的知識。"
   ]
  },
  {
   "cell_type": "code",
   "execution_count": null,
   "id": "c95c9191",
   "metadata": {
    "lines_to_next_cell": 2
   },
   "outputs": [
    {
     "name": "stdout",
     "output_type": "stream",
     "text": [
      "6 瓶啤酒 在牆上\n",
      "6 瓶啤酒 \n",
      "拿下一瓶，傳下去\n",
      "5 瓶啤酒 在牆上\n",
      "\n",
      "5 瓶啤酒 在牆上\n",
      "5 瓶啤酒 \n",
      "拿下一瓶，傳下去\n",
      "4 瓶啤酒 在牆上\n",
      "\n",
      "4 瓶啤酒 在牆上\n",
      "4 瓶啤酒 \n",
      "拿下一瓶，傳下去\n",
      "3 瓶啤酒 在牆上\n",
      "\n",
      "3 瓶啤酒 在牆上\n",
      "3 瓶啤酒 \n",
      "拿下一瓶，傳下去\n",
      "2 瓶啤酒 在牆上\n",
      "\n",
      "2 瓶啤酒 在牆上\n",
      "2 瓶啤酒 \n",
      "拿下一瓶，傳下去\n",
      "1 瓶啤酒 在牆上\n",
      "\n",
      "1 瓶啤酒 在牆上\n",
      "1 瓶啤酒 \n",
      "拿下一瓶，傳下去\n",
      "0 瓶啤酒 在牆上\n",
      "\n"
     ]
    }
   ],
   "source": [
    "for n in range(6, 0, -1): # 譯註：range(99, 0, -1) 會從 99 倒數到 1 (不包含 0)，每次減 1\n",
    "    bottle_verse(n)"
   ]
  },
  {
   "cell_type": "markdown",
   "id": "e95c12c5",
   "metadata": {},
   "source": [
    "In[ ]:"
   ]
  },
  {
   "cell_type": "markdown",
   "id": "728fbdd9",
   "metadata": {},
   "source": [
    "[Think Python: 3rd Edition](https://allendowney.github.io/ThinkPython/index.html)\n",
    "\n",
    "Copyright 2024 [Allen B. Downey](https://allendowney.com)\n",
    "\n",
    "程式碼授權: [MIT License](https://mit-license.org/)\n",
    "\n",
    "文字授權: [Creative Commons Attribution-NonCommercial-ShareAlike 4.0 International](https://creativecommons.org/licenses/by-nc-sa/4.0/)"
   ]
  }
 ],
 "metadata": {
  "jupytext": {
   "cell_metadata_filter": "-all",
   "encoding": "# coding: utf-8",
   "executable": "/usr/bin/env python",
   "main_language": "python",
   "notebook_metadata_filter": "-all"
  },
  "kernelspec": {
   "display_name": ".venv",
   "language": "python",
   "name": "python3"
  },
  "language_info": {
   "codemirror_mode": {
    "name": "ipython",
    "version": 3
   },
   "file_extension": ".py",
   "mimetype": "text/x-python",
   "name": "python",
   "nbconvert_exporter": "python",
   "pygments_lexer": "ipython3",
   "version": "3.12.2"
  }
 },
 "nbformat": 4,
 "nbformat_minor": 5
}
