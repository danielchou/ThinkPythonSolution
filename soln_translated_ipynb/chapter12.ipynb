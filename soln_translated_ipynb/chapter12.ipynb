{
 "cells": [
  {
   "cell_type": "markdown",
   "id": "c6cb3d6f",
   "metadata": {},
   "source": [
    "從 chap12.ipynb 轉換而來\n",
    "使用 ipynb_to_py.py 腳本自動轉換"
   ]
  },
  {
   "cell_type": "markdown",
   "id": "e18a7d5a",
   "metadata": {},
   "source": [
    "你可以從以下網站訂購《Think Python 3e》的紙本版和電子書：\n",
    "[Bookshop.org](https://bookshop.org/a/98697/9781098155438) 和\n",
    "[Amazon](https://www.amazon.com/_/dp/1098155432?smid=ATVPDKIKX0DER&_encoding=UTF8&tag=oreilly20-20&_encoding=UTF8&tag=greenteapre01-20&linkCode=ur2&linkId=e2a529f94920295d27ec8a06e757dc7c&camp=1789&creative=9325)."
   ]
  },
  {
   "cell_type": "code",
   "execution_count": null,
   "id": "d1ec9eeb",
   "metadata": {
    "lines_to_next_cell": 1
   },
   "outputs": [],
   "source": [
    "from os.path import basename, exists"
   ]
  },
  {
   "cell_type": "code",
   "execution_count": null,
   "id": "90ecfc05",
   "metadata": {
    "lines_to_next_cell": 1
   },
   "outputs": [],
   "source": [
    "def download(url):\n",
    "    filename = basename(url)\n",
    "    if not exists(filename):\n",
    "        from urllib.request import urlretrieve\n",
    "\n",
    "        local, _ = urlretrieve(url, filename)\n",
    "        print(\"已下載 \" + str(local)) # 把下載訊息也中文化\n",
    "    return filename"
   ]
  },
  {
   "cell_type": "code",
   "execution_count": null,
   "id": "af7532ae",
   "metadata": {},
   "outputs": [],
   "source": [
    "download('https://github.com/AllenDowney/ThinkPython/raw/v3/thinkpython.py');\n",
    "download('https://github.com/AllenDowney/ThinkPython/raw/v3/diagram.py');"
   ]
  },
  {
   "cell_type": "code",
   "execution_count": null,
   "id": "bfde5803",
   "metadata": {},
   "outputs": [],
   "source": [
    "import thinkpython"
   ]
  },
  {
   "cell_type": "markdown",
   "id": "847a63d3",
   "metadata": {},
   "source": [
    "# 文本分析與生成 (Text Analysis and Generation)\n",
    "\n",
    "到目前為止，我們已經介紹了 Python 的核心資料結構 —— 列表、字典和元組 —— 以及一些使用它們的演算法。\n",
    "在這一章，我們會用它們來探索文本分析和馬可夫生成 (Markov generation)：\n",
    "\n",
    "* 文本分析是一種描述文件中單字之間統計關係的方法，例如一個單字後面跟著另一個單字的機率，以及\n",
    "\n",
    "* 馬可夫生成是一種產生新文本的方法，新文本中的單字和片語會與原始文本相似。\n",
    "\n",
    "這些演算法與大型語言模型 (Large Language Model, LLM) 的某些部分相似，而 LLM 是聊天機器人的關鍵組成部分。\n",
    "\n",
    "我們會先計算一本書中每個單字出現的次數。\n",
    "然後我們會看看成對的單字，並列出每個單字後面可能跟著的單字。\n",
    "我們會製作一個簡單版本的馬可夫生成器，而在練習中，你將有機會製作一個更通用的版本。"
   ]
  },
  {
   "cell_type": "markdown",
   "id": "a57899ac",
   "metadata": {},
   "source": [
    "## 不重複的單字 (Unique words)\n",
    "\n",
    "作為文本分析的第一步，讓我們讀一本書 —— 羅伯特·路易斯·史蒂文生 (Robert Louis Stevenson) 的《化身博士》(The Strange Case Of Dr. Jekyll And Mr. Hyde) —— 並計算不重複單字的數量。\n",
    "下載這本書的說明在本章的 notebook 檔案中。"
   ]
  },
  {
   "cell_type": "markdown",
   "id": "5cd88c2f",
   "metadata": {},
   "source": [
    "下面的儲存格會從古騰堡計畫 (Project Gutenberg) 下載這本書。"
   ]
  },
  {
   "cell_type": "code",
   "execution_count": null,
   "id": "6dc097b7",
   "metadata": {
    "lines_to_next_cell": 1
   },
   "outputs": [],
   "source": [
    "download('https://www.gutenberg.org/cache/epub/43/pg43.txt');"
   ]
  },
  {
   "cell_type": "markdown",
   "id": "e925d655",
   "metadata": {},
   "source": [
    "從古騰堡計畫取得的版本，在開頭包含了關於書的資訊，在結尾則包含了授權資訊。\n",
    "我們會使用第八章的 `clean_file` 函數來移除這些內容，並寫入一個只包含書本本文的「乾淨」檔案。"
   ]
  },
  {
   "cell_type": "code",
   "execution_count": null,
   "id": "254158d9",
   "metadata": {
    "lines_to_next_cell": 1
   },
   "outputs": [],
   "source": [
    "# 檢查一行是否為特殊行 (例如古騰堡計畫的標頭或註腳標記)\n",
    "def is_special_line(line):\n",
    "    return line.strip().startswith('*** ') # 移除頭尾空白後，檢查是否以 '*** ' 開頭"
   ]
  },
  {
   "cell_type": "code",
   "execution_count": null,
   "id": "e2655c99",
   "metadata": {
    "lines_to_next_cell": 1
   },
   "outputs": [],
   "source": [
    "# 清理檔案，移除古騰堡計畫的額外資訊\n",
    "def clean_file(input_file, output_file):\n",
    "    try:\n",
    "        reader = open(input_file, encoding='utf-8')\n",
    "    except FileNotFoundError:\n",
    "        print(f\"錯誤: 輸入檔案 {input_file} 未找到。\")\n",
    "        return\n",
    "\n",
    "    writer = open(output_file, 'w', encoding='utf-8') # 寫入也用 utf-8\n",
    "\n",
    "    # 跳過開頭的版權宣告等等\n",
    "    for line in reader:\n",
    "        if is_special_line(line):\n",
    "            break # 找到第一個特殊行就跳出\n",
    "\n",
    "    # 寫入書本內容，直到遇到結尾的版權宣告\n",
    "    for line in reader:\n",
    "        if is_special_line(line):\n",
    "            break # 找到第二個特殊行 (結尾標記) 就跳出\n",
    "        writer.write(line)\n",
    "\n",
    "    reader.close()\n",
    "    writer.close()\n",
    "    print(f\"已清理檔案並儲存為: {output_file}\")"
   ]
  },
  {
   "cell_type": "code",
   "execution_count": null,
   "id": "21801074",
   "metadata": {},
   "outputs": [],
   "source": [
    "filename = 'dr_jekyll.txt' # 清理後的檔案名稱"
   ]
  },
  {
   "cell_type": "code",
   "execution_count": null,
   "id": "51a52d6a",
   "metadata": {
    "lines_to_next_cell": 2
   },
   "outputs": [],
   "source": [
    "if exists('pg43.txt'):\n",
    "    clean_file('pg43.txt', filename)\n",
    "else:\n",
    "    print(f\"錯誤: pg43.txt 未下載，無法進行清理。請先執行 download。\")"
   ]
  },
  {
   "cell_type": "markdown",
   "id": "b0fd6333",
   "metadata": {},
   "source": [
    "我們會用 `for` 迴圈來讀取檔案中的每一行，並用 `split` 來把每一行分割成單字。\n",
    "然後，為了記錄不重複的單字，我們會把每個單字當作鍵儲存在一個字典裡。"
   ]
  },
  {
   "cell_type": "code",
   "execution_count": null,
   "id": "10b8021e",
   "metadata": {},
   "outputs": [],
   "source": [
    "unique_words = {}\n",
    "if exists(filename): # 確保清理後的檔案存在\n",
    "    for line in open(filename, encoding='utf-8'):\n",
    "        seq = line.split() # 預設用空白分割\n",
    "        for word in seq:\n",
    "            unique_words[word] = 1 # 值是什麼不重要，用 1 當作佔位符\n",
    "else:\n",
    "    print(f\"錯誤: {filename} 未找到，無法計算不重複單字。\")"
   ]
  },
  {
   "cell_type": "code",
   "execution_count": null,
   "id": "2a43d1bf",
   "metadata": {},
   "outputs": [],
   "source": [
    "print(f\"初步計算的不重複單字數量: {len(unique_words)}\")"
   ]
  },
  {
   "cell_type": "markdown",
   "id": "74bbc719",
   "metadata": {},
   "source": [
    "字典的長度就是不重複單字的數量 —— 用這種計算方式大約是 `6000` 個。\n",
    "但是如果我們仔細檢查它們，會發現有些並不是有效的單字。\n",
    "\n",
    "例如，讓我們看看 `unique_words` 中最長的那些單字。\n",
    "我們可以用 `sorted` 來排序這些單字，並傳遞 `len` 函數作為關鍵字參數，\n",
    "這樣單字就會按長度排序。"
   ]
  },
  {
   "cell_type": "code",
   "execution_count": null,
   "id": "44f6f212",
   "metadata": {
    "lines_to_next_cell": 1
   },
   "outputs": [],
   "source": [
    "if unique_words: # 確保字典不是空的\n",
    "    longest_initial_words = sorted(unique_words, key=len)[-5:] # 取排序後列表的最後 5 個\n",
    "    print(f\"初步計算中最長的 5 個「單字」: {longest_initial_words}\")\n",
    "else:\n",
    "    print(\"unique_words 字典是空的。\")"
   ]
  },
  {
   "cell_type": "markdown",
   "id": "a39b1367",
   "metadata": {},
   "source": [
    "切片索引 `[-5:]` 選取了排序後列表的最後 `5` 個元素，也就是最長的單字。\n",
    "\n",
    "這個列表包含了一些真正很長的單字，像是 \"circumscription\" (限制；範圍)，\n",
    "和一些用連字號連接的單字，像是 \"chocolate-coloured\" (巧克力色的)。\n",
    "但有些最長的「單字」其實是用破折號隔開的兩個字。\n",
    "其他單字則包含了像是句點、驚嘆號和引號之類的標點符號。\n",
    "\n",
    "所以，在繼續之前，我們先來處理破折號和其他標點符號。"
   ]
  },
  {
   "cell_type": "markdown",
   "id": "44b4aba5",
   "metadata": {},
   "source": [
    "## 標點符號 (Punctuation)\n",
    "\n",
    "要識別文本中的單字，我們需要處理兩個問題：\n",
    "\n",
    "* 當一行中出現破折號 (dash) 時，我們應該把它換成空白 —— 這樣當我們用 `split` 時，單字就會被分開。\n",
    "\n",
    "* 分割單字後，我們可以用 `strip` 來移除標點符號。\n",
    "\n",
    "為了處理第一個問題，我們可以用下面的函數，它接收一個字串，\n",
    "把破折號換成空白，分割字串，然後回傳結果列表。"
   ]
  },
  {
   "cell_type": "code",
   "execution_count": null,
   "id": "34969a2b",
   "metadata": {
    "lines_to_next_cell": 1
   },
   "outputs": [],
   "source": [
    "def split_line(line):\n",
    "    # 注意：這裡用的是長破折號 '—' (em dash)，不是一般的連字號 '-' (hyphen)\n",
    "    return line.replace('—', ' ').split()"
   ]
  },
  {
   "cell_type": "markdown",
   "id": "a0df638b",
   "metadata": {},
   "source": [
    "注意 `split_line` 只取代破折號，不取代連字號。\n",
    "這裡有一個例子。"
   ]
  },
  {
   "cell_type": "code",
   "execution_count": null,
   "id": "d11cd8ed",
   "metadata": {},
   "outputs": [],
   "source": [
    "print(f\"split_line('coolness—frightened'): {split_line('coolness—frightened')}\")"
   ]
  },
  {
   "cell_type": "markdown",
   "id": "be7e4eea",
   "metadata": {},
   "source": [
    "現在，要從每個單字的頭尾移除標點符號，我們可以用 `strip`，\n",
    "但我們需要一個被視為標點符號的字元列表。\n",
    "\n",
    "Python 字串中的字元是 Unicode 編碼，這是一個國際標準，\n",
    "用來表示幾乎所有字母系統的字母、數字、符號、標點符號等等。\n",
    "`unicodedata` 模組提供了一個 `category` 函數，可以用來判斷哪些字元是標點符號。\n",
    "給定一個字母，它會回傳一個字串，其中包含該字母所屬類別的資訊。"
   ]
  },
  {
   "cell_type": "code",
   "execution_count": null,
   "id": "53fa29b6",
   "metadata": {},
   "outputs": [],
   "source": [
    "import unicodedata"
   ]
  },
  {
   "cell_type": "code",
   "execution_count": null,
   "id": "b3e093f3",
   "metadata": {},
   "outputs": [],
   "source": [
    "print(f\"unicodedata.category('A'): {unicodedata.category('A')}\")"
   ]
  },
  {
   "cell_type": "markdown",
   "id": "46719d3c",
   "metadata": {},
   "source": [
    "`'A'` 的類別字串是 `'Lu'` —— `'L'` 表示它是字母 (Letter)，`'u'` 表示它是大寫 (uppercase)。\n",
    "\n",
    "`'.'` 的類別字串是 `'Po'` —— `'P'` 表示它是標點符號 (Punctuation)，`'o'` 表示它的子類別是「其他 (other)」。"
   ]
  },
  {
   "cell_type": "code",
   "execution_count": null,
   "id": "d71dcb18",
   "metadata": {},
   "outputs": [],
   "source": [
    "print(f\"unicodedata.category('.'): {unicodedata.category('.')}\")"
   ]
  },
  {
   "cell_type": "markdown",
   "id": "906fbd4b",
   "metadata": {},
   "source": [
    "我們可以透過檢查類別以 `'P'` 開頭的字元，來找出書中的標點符號。\n",
    "下面的迴圈會把不重複的標點符號儲存在一個字典裡。"
   ]
  },
  {
   "cell_type": "code",
   "execution_count": null,
   "id": "e52c1c8b",
   "metadata": {
    "lines_to_next_cell": 2
   },
   "outputs": [],
   "source": [
    "punc_marks = {}\n",
    "if exists(filename):\n",
    "    for line in open(filename, encoding='utf-8'):\n",
    "        for char_in_line in line:\n",
    "            category_of_char = unicodedata.category(char_in_line)\n",
    "            if category_of_char.startswith('P'): # 如果類別是 P 開頭 (標點符號)\n",
    "                punc_marks[char_in_line] = 1\n",
    "else:\n",
    "    print(f\"錯誤: {filename} 未找到，無法收集標點符號。\")"
   ]
  },
  {
   "cell_type": "markdown",
   "id": "5db34e11",
   "metadata": {},
   "source": [
    "要建立一個標點符號列表 (字串形式)，我們可以把字典的鍵串接起來。"
   ]
  },
  {
   "cell_type": "code",
   "execution_count": null,
   "id": "58c3f4f1",
   "metadata": {
    "lines_to_next_cell": 2
   },
   "outputs": [],
   "source": [
    "punctuation = ''.join(punc_marks.keys()) # .keys() 可省略，直接遍歷字典也是遍歷鍵\n",
    "print(f\"書中收集到的標點符號: {punctuation}\")\n",
    "# 為了讓 strip 更有效，我們可能還想手動加入一些常見的標點，以防 unicodedata 沒有完全涵蓋\n",
    "# 或者，使用 string.punctuation 可能是更標準的方法，但書中用了 unicodedata\n",
    "import string as py_string_module\n",
    "standard_punctuation = py_string_module.punctuation\n",
    "print(f\"Python 標準標點符號 (string.punctuation): {standard_punctuation}\")\n",
    "# 這裡我們還是依照書中邏輯，使用從文本收集到的 punctuation"
   ]
  },
  {
   "cell_type": "markdown",
   "id": "40fd9e65",
   "metadata": {},
   "source": [
    "現在我們知道書中有哪些字元是標點符號了，\n",
    "我們可以寫一個函數，它接收一個單字，移除頭尾的標點符號，並轉換成小寫。"
   ]
  },
  {
   "cell_type": "code",
   "execution_count": null,
   "id": "539f8b5c",
   "metadata": {
    "lines_to_next_cell": 1
   },
   "outputs": [],
   "source": [
    "def clean_word(word_to_clean):\n",
    "    # 使用從文本收集到的 punctuation 進行移除\n",
    "    return word_to_clean.strip(punctuation).lower()"
   ]
  },
  {
   "cell_type": "markdown",
   "id": "173c60db",
   "metadata": {},
   "source": [
    "這裡有一個例子。"
   ]
  },
  {
   "cell_type": "code",
   "execution_count": null,
   "id": "9ddf0dcb",
   "metadata": {},
   "outputs": [],
   "source": [
    "print(f\"clean_word('“Behold!”'): {clean_word('“Behold!”')}\") # Behold (看啊！)"
   ]
  },
  {
   "cell_type": "markdown",
   "id": "d9195ebc",
   "metadata": {},
   "source": [
    "因為 `strip` 會移除頭尾的字元，所以它不會動到用連字號連接的單字。"
   ]
  },
  {
   "cell_type": "code",
   "execution_count": null,
   "id": "f9657ed9",
   "metadata": {},
   "outputs": [],
   "source": [
    "print(f\"clean_word('pocket-handkerchief'): {clean_word('pocket-handkerchief')}\") # pocket-handkerchief (口袋手帕)"
   ]
  },
  {
   "cell_type": "markdown",
   "id": "4ae0cd8f",
   "metadata": {},
   "source": [
    "現在這裡有一個迴圈，它使用 `split_line` 和 `clean_word` 來識別書中不重複的單字。"
   ]
  },
  {
   "cell_type": "code",
   "execution_count": null,
   "id": "5caa6105",
   "metadata": {},
   "outputs": [],
   "source": [
    "unique_words2 = {}\n",
    "if exists(filename):\n",
    "    for line in open(filename, encoding='utf-8'):\n",
    "        for word_from_split in split_line(line): # split_line 處理破折號並分割\n",
    "            cleaned_word_item = clean_word(word_from_split) # 清理標點並轉小寫\n",
    "            if cleaned_word_item: # 確保清理後不是空字串\n",
    "                unique_words2[cleaned_word_item] = 1\n",
    "else:\n",
    "    print(f\"錯誤: {filename} 未找到，無法重新計算不重複單字。\")"
   ]
  },
  {
   "cell_type": "code",
   "execution_count": null,
   "id": "7ea0ba85",
   "metadata": {},
   "outputs": [],
   "source": [
    "print(f\"清理後的不重複單字數量: {len(unique_words2)}\")"
   ]
  },
  {
   "cell_type": "markdown",
   "id": "9f600050",
   "metadata": {},
   "source": [
    "用這種更嚴格的單字定義，不重複的單字大約有 4000 個。\n",
    "我們可以確認最長單字的列表已經被清理乾淨了。"
   ]
  },
  {
   "cell_type": "code",
   "execution_count": null,
   "id": "57777bd4",
   "metadata": {
    "lines_to_next_cell": 2
   },
   "outputs": [],
   "source": [
    "if unique_words2:\n",
    "    longest_cleaned_words = sorted(unique_words2, key=len)[-5:]\n",
    "    print(f\"清理後最長的 5 個單字: {longest_cleaned_words}\")\n",
    "else:\n",
    "    print(\"unique_words2 字典是空的。\")"
   ]
  },
  {
   "cell_type": "markdown",
   "id": "27aa1195",
   "metadata": {},
   "source": [
    "現在讓我們看看每個單字被使用了多少次。"
   ]
  },
  {
   "cell_type": "markdown",
   "id": "361b600d",
   "metadata": {},
   "source": [
    "## 單字頻率 (Word frequencies)\n",
    "\n",
    "下面的迴圈會計算每個不重複單字的頻率。"
   ]
  },
  {
   "cell_type": "code",
   "execution_count": null,
   "id": "b94ac4f1",
   "metadata": {
    "lines_to_next_cell": 1
   },
   "outputs": [],
   "source": [
    "word_counter = {}\n",
    "if exists(filename):\n",
    "    for line in open(filename, encoding='utf-8'):\n",
    "        for word_from_split_freq in split_line(line):\n",
    "            cleaned_word_freq = clean_word(word_from_split_freq)\n",
    "            if cleaned_word_freq: # 確保不是空字串\n",
    "                if cleaned_word_freq not in word_counter:\n",
    "                    word_counter[cleaned_word_freq] = 1 # 第一次看到，計數為 1\n",
    "                else:\n",
    "                    word_counter[cleaned_word_freq] += 1 # 之前看過了，計數加 1\n",
    "else:\n",
    "    print(f\"錯誤: {filename} 未找到，無法計算單字頻率。\")"
   ]
  },
  {
   "cell_type": "markdown",
   "id": "6802eb11",
   "metadata": {},
   "source": [
    "我們第一次看到一個單字時，把它的頻率初始化為 `1`。如果之後又看到同一個單字，就把它的頻率加一。\n",
    "\n",
    "要看看哪些單字最常出現，我們可以用 `items()` 從 `word_counter` 中取得鍵值對，\n",
    "然後按鍵值對的第二個元素 (也就是頻率) 來排序。\n",
    "首先我們定義一個選取第二個元素的函數。"
   ]
  },
  {
   "cell_type": "code",
   "execution_count": null,
   "id": "77627dd0",
   "metadata": {
    "lines_to_next_cell": 1
   },
   "outputs": [],
   "source": [
    "def second_element(t_tuple_freq): # 參數改名以避免混淆\n",
    "    return t_tuple_freq[1] # 回傳元組的第二個元素 (頻率)"
   ]
  },
  {
   "cell_type": "markdown",
   "id": "2dbf8d69",
   "metadata": {},
   "source": [
    "現在我們可以用 `sorted` 搭配兩個關鍵字參數：\n",
    "\n",
    "* `key=second_element` 表示項目會根據單字的頻率來排序。\n",
    "\n",
    "* `reverse=True` 表示項目會反向排序，最常出現的單字排在最前面。"
   ]
  },
  {
   "cell_type": "code",
   "execution_count": null,
   "id": "3e18cad0",
   "metadata": {},
   "outputs": [],
   "source": [
    "sorted_word_items = []\n",
    "if word_counter:\n",
    "    sorted_word_items = sorted(word_counter.items(), key=second_element, reverse=True)\n",
    "else:\n",
    "    print(\"word_counter 是空的，無法排序。\")"
   ]
  },
  {
   "cell_type": "markdown",
   "id": "fa7765fd",
   "metadata": {},
   "source": [
    "這裡是最常出現的五個單字。"
   ]
  },
  {
   "cell_type": "code",
   "execution_count": null,
   "id": "c353c065",
   "metadata": {},
   "outputs": [],
   "source": [
    "print(\"\\n--- 最常出現的 5 個單字 ---\")\n",
    "if sorted_word_items:\n",
    "    for word_item_freq, freq_val in sorted_word_items[:5]: # 取前 5 個\n",
    "        print(f\"{freq_val}\\t{word_item_freq}\") # \\t 是定位字元 (tab)\n",
    "else:\n",
    "    print(\"無法顯示最常見單字，因為列表是空的。\")"
   ]
  },
  {
   "cell_type": "markdown",
   "id": "afced8fa",
   "metadata": {},
   "source": [
    "在下一節，我們會把這個迴圈封裝到一個函數裡。\n",
    "我們也會用它來示範一個新功能 —— 選擇性參數 (optional parameters)。"
   ]
  },
  {
   "cell_type": "markdown",
   "id": "073929d2",
   "metadata": {},
   "source": [
    "## 選擇性參數 (Optional parameters)\n",
    "\n",
    "我們用過一些接收選擇性參數的內建函數。\n",
    "例如，`round()` 接收一個叫做 `ndigits` 的選擇性參數，用來指定要保留的小數位數。"
   ]
  },
  {
   "cell_type": "code",
   "execution_count": null,
   "id": "14f77849",
   "metadata": {
    "lines_to_next_cell": 1
   },
   "outputs": [],
   "source": [
    "print(f\"\\nround(3.141592653589793, ndigits=3): {round(3.141592653589793, ndigits=3)}\")"
   ]
  },
  {
   "cell_type": "markdown",
   "id": "1b8d8192",
   "metadata": {},
   "source": [
    "不只是內建函數 —— 我們也可以寫出帶有選擇性參數的函數。\n",
    "例如，下面的函數接收兩個參數，`word_counter_func` 和 `num`。"
   ]
  },
  {
   "cell_type": "code",
   "execution_count": null,
   "id": "92afa1f7",
   "metadata": {
    "lines_to_next_cell": 1
   },
   "outputs": [],
   "source": [
    "def print_most_common(word_counter_func, num=5): # num=5 表示 num 的預設值是 5\n",
    "    if not word_counter_func:\n",
    "        print(\"傳入的 word_counter 是空的。\")\n",
    "        return\n",
    "\n",
    "    items_to_sort = sorted(word_counter_func.items(), key=second_element, reverse=True)\n",
    "    print(f\"\\n--- 最常出現的 {num} 個單字 ---\")\n",
    "    for word_p, freq_p in items_to_sort[:num]:\n",
    "        print(f\"{freq_p}\\t{word_p}\")"
   ]
  },
  {
   "cell_type": "markdown",
   "id": "3873a78e",
   "metadata": {},
   "source": [
    "第二個參數看起來像一個賦值陳述式，但它不是 —— 它是一個選擇性參數。\n",
    "\n",
    "如果你用一個引數呼叫這個函數，`num` 就會得到 **預設值 (default value)**，也就是 `5`。"
   ]
  },
  {
   "cell_type": "code",
   "execution_count": null,
   "id": "274d9341",
   "metadata": {},
   "outputs": [],
   "source": [
    "print_most_common(word_counter) # 呼叫時只給一個引數"
   ]
  },
  {
   "cell_type": "markdown",
   "id": "897d956e",
   "metadata": {},
   "source": [
    "如果你用兩個引數呼叫這個函數，第二個引數就會被指派給 `num`，而不是使用預設值。"
   ]
  },
  {
   "cell_type": "code",
   "execution_count": null,
   "id": "94557bb0",
   "metadata": {},
   "outputs": [],
   "source": [
    "print_most_common(word_counter, 3) # 呼叫時給兩個引數，num 會是 3"
   ]
  },
  {
   "cell_type": "markdown",
   "id": "e45e3a3c",
   "metadata": {},
   "source": [
    "在那種情況下，我們會說選擇性引數 **覆寫 (overrides)** 了預設值。\n",
    "\n",
    "如果一個函數同時有必要參數 (required parameter) 和選擇性參數，\n",
    "所有的必要參數都必須在前面，後面才是選擇性參數。"
   ]
  },
  {
   "cell_type": "code",
   "execution_count": null,
   "id": "63c3fb80",
   "metadata": {},
   "outputs": [],
   "source": [
    "%%expect SyntaxError\n",
    "# def bad_function(n=5, word_counter_req): # 錯誤：選擇性參數不能在必要參數前面\n",
    "#     return None"
   ]
  },
  {
   "cell_type": "markdown",
   "id": "5d568643",
   "metadata": {},
   "source": [
    "## 字典相減 (Dictionary subtraction)\n",
    "\n",
    "假設我們想對一本書進行拼字檢查 —— 也就是找出可能拼錯的單字列表。\n",
    "一種方法是找出書中出現但沒有出現在有效單字列表中的單字。\n",
    "在之前的章節中，我們用過一個被認為在像 Scrabble (拼字遊戲) 這樣的文字遊戲中有效的單字列表。\n",
    "現在我們用這個列表來對羅伯特·路易斯·史蒂文生的作品進行拼字檢查。\n",
    "\n",
    "我們可以把這個問題想成集合的相減 —— 也就是說，我們想找出所有來自一個集合 (書中的單字)\n",
    "但不在另一個集合 (列表中的單字) 的單字。"
   ]
  },
  {
   "cell_type": "markdown",
   "id": "a5491314",
   "metadata": {},
   "source": [
    "下面的儲存格會下載單字列表 (words.txt)。"
   ]
  },
  {
   "cell_type": "code",
   "execution_count": null,
   "id": "a55fc053",
   "metadata": {},
   "outputs": [],
   "source": [
    "download('https://raw.githubusercontent.com/AllenDowney/ThinkPython/v3/words.txt');"
   ]
  },
  {
   "cell_type": "markdown",
   "id": "0c853f0e",
   "metadata": {},
   "source": [
    "如同我們之前做過的，我們可以讀取 `words.txt` 的內容並把它分割成一個字串列表。"
   ]
  },
  {
   "cell_type": "code",
   "execution_count": null,
   "id": "08585992",
   "metadata": {
    "lines_to_next_cell": 2
   },
   "outputs": [],
   "source": [
    "word_list_valid = []\n",
    "if exists('words.txt'):\n",
    "    word_list_valid = open('words.txt', encoding='utf-8').read().split()\n",
    "else:\n",
    "    print(\"錯誤: words.txt 未找到，無法建立有效單字字典。\")"
   ]
  },
  {
   "cell_type": "markdown",
   "id": "db7c6221",
   "metadata": {},
   "source": [
    "然後我們會把這些單字當作鍵儲存在一個字典裡，這樣我們就可以用 `in` 運算子\n",
    "快速檢查一個單字是否有效。"
   ]
  },
  {
   "cell_type": "code",
   "execution_count": null,
   "id": "7c646f59",
   "metadata": {},
   "outputs": [],
   "source": [
    "valid_words = {}\n",
    "if word_list_valid:\n",
    "    for word_v in word_list_valid:\n",
    "        valid_words[word_v] = 1 # 值不重要\n",
    "else:\n",
    "    print(\"word_list_valid 是空的。\")"
   ]
  },
  {
   "cell_type": "markdown",
   "id": "c9e4287b",
   "metadata": {},
   "source": [
    "現在，要識別出現在書中但不在單字列表中的單字，\n",
    "我們會用 `subtract` 函數，它接收兩個字典作為參數，\n",
    "並回傳一個新的字典，其中包含所有來自第一個字典但不在第二個字典中的鍵。"
   ]
  },
  {
   "cell_type": "code",
   "execution_count": null,
   "id": "fbb1e8a7",
   "metadata": {
    "lines_to_next_cell": 1
   },
   "outputs": [],
   "source": [
    "def subtract(d1, d2):\n",
    "    res_diff_dict = {}\n",
    "    for key_d1 in d1:\n",
    "        if key_d1 not in d2: # 如果 d1 的鍵不在 d2 中\n",
    "            res_diff_dict[key_d1] = d1[key_d1] # 就把這個鍵和它在 d1 中的值加入結果字典\n",
    "    return res_diff_dict"
   ]
  },
  {
   "cell_type": "markdown",
   "id": "d784813e",
   "metadata": {},
   "source": [
    "我們這樣使用它："
   ]
  },
  {
   "cell_type": "code",
   "execution_count": null,
   "id": "e5913188",
   "metadata": {
    "lines_to_next_cell": 2
   },
   "outputs": [],
   "source": [
    "diff_book_vs_valid = {}\n",
    "if word_counter and valid_words:\n",
    "    diff_book_vs_valid = subtract(word_counter, valid_words) # 書中單字 - 有效單字列表\n",
    "else:\n",
    "    print(\"word_counter 或 valid_words 是空的，無法執行相減。\")"
   ]
  },
  {
   "cell_type": "markdown",
   "id": "75e7ed72",
   "metadata": {},
   "source": [
    "要取得可能拼錯的單字樣本，我們可以印出 `diff_book_vs_valid` 中最常見的那些字。"
   ]
  },
  {
   "cell_type": "code",
   "execution_count": null,
   "id": "3574b5dd",
   "metadata": {},
   "outputs": [],
   "source": [
    "print_most_common(diff_book_vs_valid)"
   ]
  },
  {
   "cell_type": "markdown",
   "id": "6056c697",
   "metadata": {},
   "source": [
    "最常見的「拼錯」單字大多是名字和一些單字母縮寫\n",
    "(Mr. Utterson 是 Dr. Jekyll 的朋友和律師)。\n",
    "\n",
    "如果我們選出只出現一次的單字，它們更有可能是真正的拼寫錯誤。\n",
    "我們可以透過遍歷項目並建立一個頻率為 `1` 的單字列表來做到這點。"
   ]
  },
  {
   "cell_type": "code",
   "execution_count": null,
   "id": "6118d544",
   "metadata": {
    "lines_to_next_cell": 2
   },
   "outputs": [],
   "source": [
    "singletons = [] # 只出現一次的「拼錯」字\n",
    "if diff_book_vs_valid:\n",
    "    for word_s, freq_s in diff_book_vs_valid.items():\n",
    "        if freq_s == 1:\n",
    "            singletons.append(word_s)\n",
    "else:\n",
    "    print(\"diff_book_vs_valid 是空的。\")"
   ]
  },
  {
   "cell_type": "markdown",
   "id": "a5d09f54",
   "metadata": {},
   "source": [
    "這是列表的最後幾個元素。"
   ]
  },
  {
   "cell_type": "code",
   "execution_count": null,
   "id": "11d55c16",
   "metadata": {},
   "outputs": [],
   "source": [
    "print(f\"只出現一次的「拼錯」字 (最後 5 個): {singletons[-5:]}\")"
   ]
  },
  {
   "cell_type": "markdown",
   "id": "adb68c1b",
   "metadata": {},
   "source": [
    "它們大部分是有效的單字，只是不在我們的單字列表 (words.txt) 中。\n",
    "但是 `'reindue'` 看起來像是 `'reinduce'` (重新引導；使再發生) 的拼寫錯誤，所以至少我們找到了一個真正的錯誤。"
   ]
  },
  {
   "cell_type": "markdown",
   "id": "42ef2f86",
   "metadata": {},
   "source": [
    "## 隨機數 (Random numbers)\n",
    "\n",
    "作為馬可夫文本生成的一步，接下來我們會從 `word_counter` 中選擇一個隨機的單字序列。\n",
    "但首先我們來談談隨機性。\n",
    "\n",
    "給定相同的輸入，大多數電腦程式都是 **決定性的 (deterministic)**，這表示它們每次都會產生相同的輸出。\n",
    "決定性通常是件好事，因為我們期望相同的計算會產生相同的結果。\n",
    "不過，對於某些應用程式，我們希望電腦是不可預測的。\n",
    "遊戲是一個例子，但還有更多。\n",
    "\n",
    "讓程式真正具有非決定性結果是很困難的，但有一些方法可以假裝做到。\n",
    "一種是使用產生 **偽隨機 (pseudorandom)** 數的演算法。\n",
    "偽隨機數並非真正的隨機，因為它們是由決定性的計算產生的，\n",
    "但僅僅看這些數字，幾乎不可能把它們與真正的隨機數區分開來。\n",
    "\n",
    "`random` 模組提供了產生偽隨機數的函數 —— 從現在開始我會簡稱它們為「隨機數」。\n",
    "我們可以像這樣匯入它。"
   ]
  },
  {
   "cell_type": "code",
   "execution_count": null,
   "id": "4a458a55",
   "metadata": {},
   "outputs": [],
   "source": [
    "import random"
   ]
  },
  {
   "cell_type": "code",
   "execution_count": null,
   "id": "cf1c576e",
   "metadata": {},
   "outputs": [],
   "source": [
    "# 這個儲存格會初始化隨機數產生器，\n",
    "# 這樣每次執行 notebook 時它都會產生相同的序列。\n",
    "# (這對於重現結果和除錯很有用)\n",
    "random.seed(4) # 使用一個固定的種子"
   ]
  },
  {
   "cell_type": "markdown",
   "id": "3d282f68",
   "metadata": {},
   "source": [
    "`random` 模組提供了一個叫做 `choice` 的函數，它可以從一個列表中隨機選擇一個元素，\n",
    "每個元素被選擇的機率都相同。"
   ]
  },
  {
   "cell_type": "code",
   "execution_count": null,
   "id": "25700eb5",
   "metadata": {},
   "outputs": [],
   "source": [
    "t_random_list = [1, 2, 3]\n",
    "print(f\"random.choice({t_random_list}): {random.choice(t_random_list)}\")"
   ]
  },
  {
   "cell_type": "markdown",
   "id": "358d3263",
   "metadata": {},
   "source": [
    "如果你再次呼叫這個函數，你可能會再次得到相同的元素，或者得到不同的元素。"
   ]
  },
  {
   "cell_type": "code",
   "execution_count": null,
   "id": "c0565f2a",
   "metadata": {},
   "outputs": [],
   "source": [
    "print(f\"再次 random.choice({t_random_list}): {random.choice(t_random_list)}\")"
   ]
  },
  {
   "cell_type": "markdown",
   "id": "b4272e8e",
   "metadata": {},
   "source": [
    "長期來看，我們期望每個元素被選擇的次數大致相同。\n",
    "\n",
    "如果你對字典使用 `choice`，你會得到一個 `KeyError`。\n",
    "(因為 `choice` 期望的是一個序列，例如列表，而不是映射)"
   ]
  },
  {
   "cell_type": "code",
   "execution_count": null,
   "id": "5149ac30",
   "metadata": {},
   "outputs": [],
   "source": [
    "%%expect KeyError\n",
    "# if word_counter: # 避免 word_counter 為空時出錯\n",
    "#    random.choice(word_counter)"
   ]
  },
  {
   "cell_type": "markdown",
   "id": "aaeac64c",
   "metadata": {},
   "source": [
    "要隨機選擇一個鍵，你必須先把鍵放到一個列表中，然後再呼叫 `choice`。"
   ]
  },
  {
   "cell_type": "code",
   "execution_count": null,
   "id": "e752f898",
   "metadata": {
    "lines_to_next_cell": 2
   },
   "outputs": [],
   "source": [
    "random_key_from_wc = \"\"\n",
    "if word_counter:\n",
    "    words_from_counter_keys = list(word_counter.keys()) # 或者直接 list(word_counter)\n",
    "    if words_from_counter_keys: # 確保列表不是空的\n",
    "        random_key_from_wc = random.choice(words_from_counter_keys)\n",
    "print(f\"從 word_counter 隨機選一個鍵: {random_key_from_wc}\")"
   ]
  },
  {
   "cell_type": "markdown",
   "id": "9668e6ac",
   "metadata": {},
   "source": [
    "如果我們產生一個隨機的單字序列，它看起來沒什麼意義。"
   ]
  },
  {
   "cell_type": "code",
   "execution_count": null,
   "id": "20e705bc",
   "metadata": {},
   "outputs": [],
   "source": [
    "print(\"\\n--- 隨機選擇的 6 個單字 (等機率) ---\")\n",
    "if word_counter:\n",
    "    words_for_random_seq = list(word_counter)\n",
    "    if words_for_random_seq:\n",
    "        for i in range(6):\n",
    "            word_rand_eq = random.choice(words_for_random_seq)\n",
    "            print(word_rand_eq, end=' ')\n",
    "        print() # 換行\n",
    "    else:\n",
    "        print(\"word_counter 的鍵列表是空的。\")\n",
    "else:\n",
    "    print(\"word_counter 是空的。\")"
   ]
  },
  {
   "cell_type": "markdown",
   "id": "8fbed747",
   "metadata": {},
   "source": [
    "部分問題在於我們沒有考慮到有些單字比其他單字更常見。\n",
    "如果我們用不同的「權重 (weights)」來選擇單字，讓某些單字被選擇的頻率更高，結果會更好。\n",
    "\n",
    "如果我們使用 `word_counter` 中的值 (頻率) 作為權重，\n",
    "每個單字被選擇的機率就會取決於它的頻率。"
   ]
  },
  {
   "cell_type": "code",
   "execution_count": null,
   "id": "def99331",
   "metadata": {
    "lines_to_next_cell": 2
   },
   "outputs": [],
   "source": [
    "weights_from_wc_values = []\n",
    "if word_counter:\n",
    "    weights_from_wc_values = list(word_counter.values()) # 取得所有頻率作為權重\n",
    "# print(f\"前 10 個權重: {weights_from_wc_values[:10]}\")"
   ]
  },
  {
   "cell_type": "markdown",
   "id": "85a7893b",
   "metadata": {},
   "source": [
    "`random` 模組提供了另一個叫做 `choices` 的函數 (注意是複數 s)，\n",
    "它可以接收 `weights` 作為選擇性參數。"
   ]
  },
  {
   "cell_type": "code",
   "execution_count": null,
   "id": "a95cd407",
   "metadata": {
    "lines_to_next_cell": 2
   },
   "outputs": [],
   "source": [
    "# 確保 words_from_counter_keys 和 weights_from_wc_values 長度一致且非空\n",
    "random_word_weighted = \"\"\n",
    "if word_counter and words_from_counter_keys and weights_from_wc_values and len(words_from_counter_keys) == len(weights_from_wc_values):\n",
    "    # random.choices 回傳一個列表，即使 k=1\n",
    "    chosen_list = random.choices(words_from_counter_keys, weights=weights_from_wc_values)\n",
    "    if chosen_list:\n",
    "        random_word_weighted = chosen_list[0]\n",
    "print(f\"按權重隨機選擇一個單字: {random_word_weighted}\")"
   ]
  },
  {
   "cell_type": "markdown",
   "id": "df29199b",
   "metadata": {},
   "source": [
    "它還接收另一個選擇性參數 `k`，用來指定要選擇的單字數量。"
   ]
  },
  {
   "cell_type": "code",
   "execution_count": null,
   "id": "7984e337",
   "metadata": {
    "lines_to_next_cell": 2
   },
   "outputs": [],
   "source": [
    "random_words_weighted_k6 = []\n",
    "if word_counter and words_from_counter_keys and weights_from_wc_values and len(words_from_counter_keys) == len(weights_from_wc_values):\n",
    "    random_words_weighted_k6 = random.choices(words_from_counter_keys, weights=weights_from_wc_values, k=6)\n",
    "print(f\"按權重隨機選擇 6 個單字: {random_words_weighted_k6}\")"
   ]
  },
  {
   "cell_type": "markdown",
   "id": "5c896e80",
   "metadata": {},
   "source": [
    "結果是一個字串列表，我們可以把它們串接成看起來更像句子的東西。"
   ]
  },
  {
   "cell_type": "code",
   "execution_count": null,
   "id": "c8365283",
   "metadata": {},
   "outputs": [],
   "source": [
    "if random_words_weighted_k6:\n",
    "    print(f\"串接後的隨機加權單字: {' '.join(random_words_weighted_k6)}\")"
   ]
  },
  {
   "cell_type": "markdown",
   "id": "8814ef0a",
   "metadata": {},
   "source": [
    "如果你從書中隨機選擇單字，你會對詞彙有所了解，\n",
    "但一連串隨機的單字很少能構成有意義的句子，因為連續的單字之間沒有關聯。\n",
    "例如，在一個真實的句子中，你期望像 \"the\" 這樣的冠詞後面會跟著一個形容詞或名詞，\n",
    "而不太可能是一個動詞或副詞。\n",
    "所以下一步是看看這些單字之間的關係。"
   ]
  },
  {
   "cell_type": "markdown",
   "id": "c5a38301",
   "metadata": {},
   "source": [
    "## 二元組 (Bigrams)\n",
    "\n",
    "現在我們不再一次只看一個單字，而是看看兩個單字的序列，這稱為 **二元組 (bigrams)**。\n",
    "三個單字的序列稱為 **三元組 (trigram)**，而某個未指定數量的單字序列稱為 **n-元組 (n-gram)**。\n",
    "\n",
    "讓我們寫一個程式來找出書中所有的二元組以及每個二元組出現的次數。\n",
    "為了儲存結果，我們會使用一個字典，其中：\n",
    "\n",
    "* 鍵是代表二元組的字串元組，而且\n",
    "\n",
    "* 值是代表頻率的整數。\n",
    "\n",
    "我們稱它為 `bigram_counter`。"
   ]
  },
  {
   "cell_type": "code",
   "execution_count": null,
   "id": "7f61b5ec",
   "metadata": {
    "lines_to_next_cell": 1
   },
   "outputs": [],
   "source": [
    "bigram_counter = {}"
   ]
  },
  {
   "cell_type": "markdown",
   "id": "f31e45ca",
   "metadata": {},
   "source": [
    "下面的函數接收一個包含兩個字串的列表作為參數。\n",
    "首先它把這兩個字串做成一個元組，這個元組可以用作字典的鍵。\n",
    "然後它把這個鍵加入到 `bigram_counter` 中 (如果不存在的話)，或者增加其頻率 (如果已存在)。"
   ]
  },
  {
   "cell_type": "code",
   "execution_count": null,
   "id": "0fcb934f",
   "metadata": {
    "lines_to_next_cell": 1
   },
   "outputs": [],
   "source": [
    "def count_bigram(bigram_list_input): # 參數改名\n",
    "    key_tuple_bigram = tuple(bigram_list_input) # 把列表轉成元組作為鍵\n",
    "    if key_tuple_bigram not in bigram_counter:\n",
    "        bigram_counter[key_tuple_bigram] = 1\n",
    "    else:\n",
    "        bigram_counter[key_tuple_bigram] += 1"
   ]
  },
  {
   "cell_type": "markdown",
   "id": "549f905a",
   "metadata": {},
   "source": [
    "當我們遍歷這本書時，我們必須記錄每一對連續的單字。\n",
    "所以如果我們看到序列 \"man is not truly one\" (人並非真正單一)，\n",
    "我們會加入二元組 \"man is\"、\"is not\"、\"not truly\" 等等。\n",
    "\n",
    "為了記錄這些二元組，我們會使用一個叫做 `window` (窗格) 的列表，\n",
    "因為它就像一個滑過書頁的窗格，一次只顯示兩個單字。\n",
    "一開始，`window` 是空的。"
   ]
  },
  {
   "cell_type": "code",
   "execution_count": null,
   "id": "17352f4d",
   "metadata": {
    "lines_to_next_cell": 1
   },
   "outputs": [],
   "source": [
    "window = [] # 用來儲存滑動的二元組窗格"
   ]
  },
  {
   "cell_type": "markdown",
   "id": "c14eef06",
   "metadata": {},
   "source": [
    "我們會用下面的函數來一次處理一個單字。"
   ]
  },
  {
   "cell_type": "code",
   "execution_count": null,
   "id": "bf9f41f1",
   "metadata": {
    "lines_to_next_cell": 1
   },
   "outputs": [],
   "source": [
    "def process_word_for_bigram(word_input_pb): # 參數改名\n",
    "    window.append(word_input_pb) # 把目前的單字加入窗格\n",
    "\n",
    "    if len(window) == 2: # 如果窗格裡有兩個單字了 (形成一個二元組)\n",
    "        count_bigram(window) # 就計算這個二元組的頻率\n",
    "        window.pop(0) # 然後把窗格裡的第一個單字移掉，準備接收下一個字"
   ]
  },
  {
   "cell_type": "markdown",
   "id": "39603115",
   "metadata": {},
   "source": [
    "第一次呼叫這個函數時，它會把給定的單字附加到 `window`。\n",
    "因為窗格裡只有一個單字，所以還沒有二元組，函數就結束了。\n",
    "\n",
    "第二次呼叫時 —— 以及之後的每一次 —— 它會把第二個單字附加到 `window`。\n",
    "因為窗格裡有兩個單字了，它會呼叫 `count_bigram` 來記錄每個二元組出現的次數。\n",
    "然後它用 `pop` 來移除窗格中的第一個單字。\n",
    "\n",
    "下面的程式會遍歷書中的單字並一次處理一個。"
   ]
  },
  {
   "cell_type": "code",
   "execution_count": null,
   "id": "e4d4a638",
   "metadata": {
    "lines_to_next_cell": 2
   },
   "outputs": [],
   "source": [
    "bigram_counter = {} # 重設 bigram_counter\n",
    "window = []         # 重設 window\n",
    "if exists(filename):\n",
    "    for line in open(filename, encoding='utf-8'):\n",
    "        for word_in_line_bg in split_line(line): # split_line 處理破折號並分割\n",
    "            cleaned_word_bg = clean_word(word_in_line_bg) # 清理標點並轉小寫\n",
    "            if cleaned_word_bg: # 確保不是空字串\n",
    "                process_word_for_bigram(cleaned_word_bg)\n",
    "else:\n",
    "    print(f\"錯誤: {filename} 未找到，無法計算二元組頻率。\")"
   ]
  },
  {
   "cell_type": "markdown",
   "id": "4822b93c",
   "metadata": {},
   "source": [
    "結果是一個字典，它把每個二元組對應到它出現的次數。\n",
    "我們可以用 `print_most_common` 來看看最常見的二元組。\n",
    "(需要確保 print_most_common 和 second_element 在此可用)"
   ]
  },
  {
   "cell_type": "code",
   "execution_count": null,
   "id": "b9aa6f65",
   "metadata": {},
   "outputs": [],
   "source": [
    "if bigram_counter:\n",
    "    print_most_common(bigram_counter) # 使用之前定義的 print_most_common\n",
    "else:\n",
    "    print(\"bigram_counter 是空的。\")"
   ]
  },
  {
   "cell_type": "markdown",
   "id": "9043b556",
   "metadata": {},
   "source": [
    "看看這些結果，我們可以大致了解哪些單字對最可能一起出現。\n",
    "我們也可以用這些結果來產生隨機文本，像這樣。"
   ]
  },
  {
   "cell_type": "code",
   "execution_count": null,
   "id": "e090f5c5",
   "metadata": {},
   "outputs": [],
   "source": [
    "random.seed(0) # 重設隨機種子以保持一致性"
   ]
  },
  {
   "cell_type": "code",
   "execution_count": null,
   "id": "b1f76b0d",
   "metadata": {},
   "outputs": [],
   "source": [
    "random_bigrams_generated = []\n",
    "if bigram_counter:\n",
    "    bigrams_list_from_counter = list(bigram_counter.keys()) # 取得所有二元組 (鍵)\n",
    "    weights_for_bigrams = list(bigram_counter.values())   # 取得它們的頻率 (值) 作為權重\n",
    "    if bigrams_list_from_counter and weights_for_bigrams and len(bigrams_list_from_counter) == len(weights_for_bigrams):\n",
    "        random_bigrams_generated = random.choices(bigrams_list_from_counter, weights=weights_for_bigrams, k=6)\n",
    "else:\n",
    "    print(\"bigram_counter 是空的，無法產生隨機二元組。\")"
   ]
  },
  {
   "cell_type": "markdown",
   "id": "893cd092",
   "metadata": {},
   "source": [
    "`bigrams_list_from_counter` 是書中出現的二元組的列表。\n",
    "`weights_for_bigrams` 是它們的頻率列表，所以 `random_bigrams_generated` 是一個樣本，\n",
    "其中一個二元組被選擇的機率與其頻率成正比。\n",
    "\n",
    "這是結果。"
   ]
  },
  {
   "cell_type": "code",
   "execution_count": null,
   "id": "00bd202f",
   "metadata": {
    "lines_to_next_cell": 2
   },
   "outputs": [],
   "source": [
    "print(\"\\n--- 隨機生成的二元組序列 ---\")\n",
    "if random_bigrams_generated:\n",
    "    for pair_bg_gen in random_bigrams_generated:\n",
    "        print(' '.join(pair_bg_gen), end='; ') # 用分號隔開，並在結尾加空白\n",
    "    print() # 換行\n",
    "else:\n",
    "    print(\"未能生成隨機二元組。\")"
   ]
  },
  {
   "cell_type": "markdown",
   "id": "882264db",
   "metadata": {},
   "source": [
    "這種產生文本的方式比隨機選擇單字要好一些，但仍然不太通順。"
   ]
  },
  {
   "cell_type": "markdown",
   "id": "e87c6672",
   "metadata": {},
   "source": [
    "## 馬可夫分析 (Markov analysis)\n",
    "\n",
    "我們可以用馬可夫鏈文本分析 (Markov chain text analysis) 做得更好，\n",
    "這種方法會計算文本中每個單字後面可能跟著的單字列表。\n",
    "作為例子，我們來分析蒙提·派森歌曲《半隻小蜜蜂艾瑞克》(Eric, the Half a Bee) 的歌詞：\n",
    "(Eric, the Half a Bee 是一首荒謬的歌曲，關於一隻只有一半的蜜蜂)"
   ]
  },
  {
   "cell_type": "code",
   "execution_count": null,
   "id": "c387b520",
   "metadata": {},
   "outputs": [],
   "source": [
    "song = \"\"\"\n",
    "Half a bee, philosophically,\n",
    "Must, ipso facto, half not be.\n",
    "But half the bee has got to be\n",
    "Vis a vis, its entity. D'you see?\n",
    "\"\"\"\n",
    "# ipso facto: 拉丁語，意思是「事實本身就證明了」\n",
    "# Vis a vis: 法語，意思是「相對於；關於」\n",
    "# entity: 實體\n",
    "# D'you see?: 你明白嗎？"
   ]
  },
  {
   "cell_type": "markdown",
   "id": "3c612a58",
   "metadata": {},
   "source": [
    "為了儲存結果，我們會使用一個字典，它把每個單字對應到其後繼單字的列表。"
   ]
  },
  {
   "cell_type": "code",
   "execution_count": null,
   "id": "5f37e785",
   "metadata": {},
   "outputs": [],
   "source": [
    "successor_map = {} # 後繼詞對照表"
   ]
  },
  {
   "cell_type": "markdown",
   "id": "5309ce5d",
   "metadata": {},
   "source": [
    "作為例子，我們先從歌曲的前兩個單字開始。"
   ]
  },
  {
   "cell_type": "code",
   "execution_count": null,
   "id": "f71b1893",
   "metadata": {},
   "outputs": [],
   "source": [
    "first_song_word = 'half'\n",
    "second_song_word = 'a'"
   ]
  },
  {
   "cell_type": "markdown",
   "id": "9144732b",
   "metadata": {},
   "source": [
    "如果第一個單字不在 `successor_map` 中，我們必須新增一個項目，\n",
    "把第一個單字對應到一個只包含第二個單字的列表。"
   ]
  },
  {
   "cell_type": "code",
   "execution_count": null,
   "id": "35daa9ab",
   "metadata": {},
   "outputs": [],
   "source": [
    "successor_map[first_song_word] = [second_song_word]\n",
    "print(f\"加入 ('half', 'a') 後的 successor_map: {successor_map}\")"
   ]
  },
  {
   "cell_type": "markdown",
   "id": "d2c4e762",
   "metadata": {},
   "source": [
    "如果第一個單字已經在字典中了，我們可以查詢它以取得目前為止看到的後繼詞列表，\n",
    "然後把新的後繼詞附加到列表中。"
   ]
  },
  {
   "cell_type": "code",
   "execution_count": null,
   "id": "859095db",
   "metadata": {},
   "outputs": [],
   "source": [
    "first_song_word_again = 'half' # 假設又遇到 'half'\n",
    "second_song_word_next = 'not'  # 這次後面是 'not'"
   ]
  },
  {
   "cell_type": "code",
   "execution_count": null,
   "id": "39d09095",
   "metadata": {},
   "outputs": [],
   "source": [
    "if first_song_word_again in successor_map: # 確保鍵存在\n",
    "    successor_map[first_song_word_again].append(second_song_word_next)\n",
    "else:\n",
    "    successor_map[first_song_word_again] = [second_song_word_next]\n",
    "print(f\"再次加入 'half' 的後繼詞後的 successor_map: {successor_map}\")"
   ]
  },
  {
   "cell_type": "markdown",
   "id": "df83e64d",
   "metadata": {},
   "source": [
    "下面的函數封裝了這些步驟。"
   ]
  },
  {
   "cell_type": "code",
   "execution_count": null,
   "id": "b390728a",
   "metadata": {
    "lines_to_next_cell": 1
   },
   "outputs": [],
   "source": [
    "def add_bigram_to_successor_map(bigram_input_smap): # 參數改名\n",
    "    first_word_smap, second_word_smap = bigram_input_smap # 解包二元組\n",
    "\n",
    "    if first_word_smap not in successor_map:\n",
    "        successor_map[first_word_smap] = [second_word_smap] # 第一次遇到 first_word_smap\n",
    "    else:\n",
    "        successor_map[first_word_smap].append(second_word_smap) # first_word_smap 已存在，附加後繼詞"
   ]
  },
  {
   "cell_type": "markdown",
   "id": "3a5412c8",
   "metadata": {},
   "source": [
    "如果同一個二元組出現多次，第二個單字就會被多次加入到列表中。\n",
    "透過這種方式，`successor_map` 記錄了每個後繼詞出現的次數。\n",
    "(這隱含地包含了頻率信息，因為重複的後繼詞會讓它在列表中出現多次，被 random.choice 選中的機率就更高)\n",
    "\n",
    "如同上一節，我們會用一個叫做 `window` 的列表來儲存連續的單字對。\n",
    "我們會用下面的函數來一次處理一個單字。"
   ]
  },
  {
   "cell_type": "code",
   "execution_count": null,
   "id": "8049f2c3",
   "metadata": {
    "lines_to_next_cell": 1
   },
   "outputs": [],
   "source": [
    "# 這個函數名與 In[105] 的 process_word_for_bigram 作用類似，但呼叫的是 add_bigram_to_successor_map\n",
    "def process_word_for_successor_map(word_input_sm): # 參數改名\n",
    "    window.append(word_input_sm)\n",
    "\n",
    "    if len(window) == 2: # 形成二元組\n",
    "        add_bigram_to_successor_map(window) # 加入到後繼詞對照表\n",
    "        window.pop(0) # 滑動窗格"
   ]
  },
  {
   "cell_type": "markdown",
   "id": "39390b54",
   "metadata": {},
   "source": [
    "我們這樣用它來處理歌曲中的單字。"
   ]
  },
  {
   "cell_type": "code",
   "execution_count": null,
   "id": "a0b861bd",
   "metadata": {},
   "outputs": [],
   "source": [
    "successor_map = {} # 重設\n",
    "window = []        # 重設"
   ]
  },
  {
   "cell_type": "code",
   "execution_count": null,
   "id": "4612e7be",
   "metadata": {},
   "outputs": [],
   "source": [
    "# 處理歌曲文本\n",
    "song_words = []\n",
    "# 預處理歌曲文本：移除標點，轉小寫，分割\n",
    "# 這裡用更簡單的方式處理，因為歌詞比較規律\n",
    "import re\n",
    "for line_song in song.splitlines(): # 按行分割\n",
    "    if not line_song.strip(): continue # 跳過空行\n",
    "    # 移除行首尾標點，轉小寫\n",
    "    cleaned_line_song = re.sub(r\"[^\\w\\s']\", '', line_song).lower() # 保留單引號 (像 d'you)\n",
    "    song_words.extend(cleaned_line_song.split())"
   ]
  },
  {
   "cell_type": "code",
   "execution_count": null,
   "id": "ffdcb21d",
   "metadata": {},
   "outputs": [],
   "source": [
    "for word_from_song in song_words:\n",
    "    # clean_word 在這裡是為了處理像 d'you 這樣的詞，但可能 song_words 已經夠乾淨了\n",
    "    # cleaned_song_word = clean_word(word_from_song) # clean_word 可能會移除 '\n",
    "    # 為了保留 d'you, vis-a-vis (雖然前面說不處理連字號，但歌詞中可能有)\n",
    "    # 我們可以假設 song_words 已經是清理過的單字列表\n",
    "    if word_from_song: # 確保不是空字串\n",
    "        process_word_for_successor_map(word_from_song)"
   ]
  },
  {
   "cell_type": "markdown",
   "id": "86c5d2a7",
   "metadata": {},
   "source": [
    "這是結果。"
   ]
  },
  {
   "cell_type": "code",
   "execution_count": null,
   "id": "7d8af398",
   "metadata": {
    "lines_to_next_cell": 2
   },
   "outputs": [],
   "source": [
    "print(f\"\\n歌曲 'Eric, the Half a Bee' 的 successor_map:\")\n",
    "# 為了讓輸出更可讀，可以逐項印出\n",
    "for pred_word, succ_list in successor_map.items():\n",
    "    print(f\"'{pred_word}': {succ_list}\")"
   ]
  },
  {
   "cell_type": "markdown",
   "id": "f6a6bc1b",
   "metadata": {},
   "source": [
    "單字 `'half'` 後面可以跟著 `'a'`、`'not'` 或 `'the'`。\n",
    "單字 `'a'` 後面可以跟著 `'bee'` 或 `'vis'`。\n",
    "大部分其他單字只出現一次，所以它們後面只跟著一個單字。\n",
    "\n",
    "現在我們來分析這本書。"
   ]
  },
  {
   "cell_type": "code",
   "execution_count": null,
   "id": "3ee78f24",
   "metadata": {},
   "outputs": [],
   "source": [
    "successor_map = {} # 重設\n",
    "window = []        # 重設"
   ]
  },
  {
   "cell_type": "code",
   "execution_count": null,
   "id": "a36a6fd0",
   "metadata": {},
   "outputs": [],
   "source": [
    "if exists(filename):\n",
    "    for line in open(filename, encoding='utf-8'):\n",
    "        for word_in_line_sm_book in split_line(line):\n",
    "            cleaned_word_sm_book = clean_word(word_in_line_sm_book)\n",
    "            if cleaned_word_sm_book:\n",
    "                process_word_for_successor_map(cleaned_word_sm_book)\n",
    "else:\n",
    "    print(f\"錯誤: {filename} 未找到，無法建立書籍的 successor_map。\")"
   ]
  },
  {
   "cell_type": "markdown",
   "id": "d8dd2ab9",
   "metadata": {},
   "source": [
    "我們可以查詢任何單字，並找到它後面可能跟著的單字。"
   ]
  },
  {
   "cell_type": "code",
   "execution_count": null,
   "id": "2266c7c8",
   "metadata": {
    "lines_to_next_cell": 1
   },
   "outputs": [],
   "source": [
    "# 我用這個儲存格來找一個有很多可能後繼詞，並且至少有一個重複單字的前導詞。\n",
    "# (這是作者的筆記)\n",
    "def has_duplicates_list(t_list_dup): # 檢查列表是否有重複元素\n",
    "    return len(set(t_list_dup)) < len(t_list_dup)"
   ]
  },
  {
   "cell_type": "code",
   "execution_count": null,
   "id": "ccde9d3b",
   "metadata": {
    "lines_to_next_cell": 2
   },
   "outputs": [],
   "source": [
    "print(\"\\n--- 尋找 successor_map 中有趣的例子 ---\")\n",
    "found_example_key = None\n",
    "if successor_map:\n",
    "    for key_sm_ex, value_sm_list_ex in successor_map.items():\n",
    "        if len(value_sm_list_ex) >= 5 and has_duplicates_list(value_sm_list_ex): # 例如至少5個後繼詞且有重複\n",
    "            print(f\"找到一個例子: 前導詞 '{key_sm_ex}', 後繼詞列表: {value_sm_list_ex}\")\n",
    "            found_example_key = key_sm_ex\n",
    "            break # 找到一個就停\n",
    "    if not found_example_key:\n",
    "        print(\"未找到符合條件的有趣例子，隨便選一個。\")\n",
    "        # 如果找不到，就從 successor_map 中隨便選一個非空的\n",
    "        for key_sm_ex, value_sm_list_ex in successor_map.items():\n",
    "            if value_sm_list_ex:\n",
    "                found_example_key = key_sm_ex\n",
    "                break\n",
    "else:\n",
    "    print(\"successor_map 是空的。\")"
   ]
  },
  {
   "cell_type": "code",
   "execution_count": null,
   "id": "73a3b827",
   "metadata": {
    "lines_to_next_cell": 2
   },
   "outputs": [],
   "source": [
    "if found_example_key and successor_map:\n",
    "    print(f\"單字 '{found_example_key}' 的後繼詞列表: {successor_map.get(found_example_key, [])}\")\n",
    "elif successor_map.get('going'): # 如果上面沒找到，試試書中用的 'going'\n",
    "     print(f\"單字 'going' 的後繼詞列表: {successor_map['going']}\")\n",
    "else:\n",
    "    print(\"找不到 'going' 或其他範例的後繼詞。\")"
   ]
  },
  {
   "cell_type": "markdown",
   "id": "6cd4005f",
   "metadata": {},
   "source": [
    "在這個後繼詞列表中，注意到單字 `'to'` 出現了三次 —— 其他後繼詞只出現一次。\n",
    "(這取決於上面找到的 found_example_key，如果是 'going'，'to' 的確常出現)"
   ]
  },
  {
   "cell_type": "markdown",
   "id": "642a5e4e",
   "metadata": {},
   "source": [
    "## 生成文本 (Generating text)\n",
    "\n",
    "我們可以用上一節的結果來產生新的文本，\n",
    "新文本中連續單字之間的關係會與原始文本相同。\n",
    "它是這樣運作的：\n",
    "\n",
    "* 從文本中出現的任何一個單字開始，我們查詢它可能的後繼詞，並隨機選擇一個。\n",
    "\n",
    "* 然後，使用選擇的單字，我們查詢它可能的後繼詞，並隨機選擇一個。\n",
    "\n",
    "我們可以重複這個過程來產生任意數量的單字。\n",
    "作為例子，讓我們從單字 `'although'` (雖然) 開始。\n",
    "這是它後面可能跟著的單字。"
   ]
  },
  {
   "cell_type": "code",
   "execution_count": null,
   "id": "de8b8cf5",
   "metadata": {},
   "outputs": [],
   "source": [
    "start_word_gen = 'although'\n",
    "successors_for_although = []\n",
    "if successor_map and start_word_gen in successor_map:\n",
    "    successors_for_although = successor_map[start_word_gen]\n",
    "print(f\"單字 '{start_word_gen}' 的後繼詞: {successors_for_although}\")"
   ]
  },
  {
   "cell_type": "code",
   "execution_count": null,
   "id": "01146adf",
   "metadata": {},
   "outputs": [],
   "source": [
    "# 這個儲存格會初始化隨機數產生器，\n",
    "# 這樣每次執行這個 notebook 時，它都會從序列的同一個點開始。\n",
    "random.seed(2)"
   ]
  },
  {
   "cell_type": "markdown",
   "id": "9d8d12dc",
   "metadata": {},
   "source": [
    "我們可以用 `choice` 從列表中等機率地選擇。"
   ]
  },
  {
   "cell_type": "code",
   "execution_count": null,
   "id": "7673cd0c",
   "metadata": {},
   "outputs": [],
   "source": [
    "next_word_gen = \"\"\n",
    "current_word_for_gen = start_word_gen # 假設從 'although' 開始\n",
    "print(\"\\n--- 馬可夫鏈文本生成 (以 bigram 為基礎) ---\")\n",
    "if successor_map and current_word_for_gen in successor_map:\n",
    "    successors_list_gen = successor_map[current_word_for_gen]\n",
    "    if successors_list_gen: # 確保後繼詞列表不是空的\n",
    "        next_word_gen = random.choice(successors_list_gen)\n",
    "print(f\"從 '{current_word_for_gen}' 的後繼詞中隨機選一個: {next_word_gen}\")\n",
    "current_word_for_gen = next_word_gen # 更新目前的單字\n",
    "else:\n",
    "    print(f\"無法從 '{current_word_for_gen}' 開始生成，它不在 successor_map 中或沒有後繼詞。\")\n",
    "    # 如果無法開始，可以嘗試從一個隨機的有效鍵開始\n",
    "    if successor_map:\n",
    "        valid_start_keys = [k for k,v in successor_map.items() if v] # 找有後繼詞的鍵\n",
    "        if valid_start_keys:\n",
    "            current_word_for_gen = random.choice(valid_start_keys)\n",
    "            print(f\"改從隨機選擇的 '{current_word_for_gen}' 開始。\")\n",
    "        else:\n",
    "            current_word_for_gen = None # 標記無法生成\n",
    "            print(\"successor_map 中沒有任何單字有後繼詞，無法生成文本。\")"
   ]
  },
  {
   "cell_type": "code",
   "execution_count": null,
   "id": "91f539d3",
   "metadata": {},
   "outputs": [],
   "source": []
  },
  {
   "cell_type": "markdown",
   "id": "8aa68f7b",
   "metadata": {},
   "source": [
    "如果同一個單字在列表中出現多次，它就更有可能被選中。\n",
    "(因為 `random.choice` 是等機率從列表中選，列表元素多自然機率高)\n",
    "\n",
    "重複這些步驟，我們可以用下面的迴圈來產生一個更長的序列。"
   ]
  },
  {
   "cell_type": "code",
   "execution_count": null,
   "id": "682022d2",
   "metadata": {
    "lines_to_next_cell": 2
   },
   "outputs": [],
   "source": [
    "generated_text_list = []\n",
    "if current_word_for_gen and successor_map : # 確保可以開始生成\n",
    "    generated_text_list.append(current_word_for_gen) # 把第一個選出的字也加進去\n",
    "    for i in range(20): # 生成 20 個字\n",
    "        if current_word_for_gen in successor_map and successor_map[current_word_for_gen]:\n",
    "            successors_loop = successor_map[current_word_for_gen]\n",
    "            current_word_for_gen = random.choice(successors_loop)\n",
    "            generated_text_list.append(current_word_for_gen)\n",
    "        else:\n",
    "            # 如果目前的單字沒有後繼詞 (例如到了文本結尾的字，或者 map 不完整)\n",
    "            # 就可以停止，或者從一個新的隨機字開始\n",
    "            print(f\"\\n(單字 '{current_word_for_gen}' 沒有後繼詞，停止生成。)\")\n",
    "            break\n",
    "    print(\" \".join(generated_text_list))\n",
    "else:\n",
    "    print(\"無法生成文本。\")"
   ]
  },
  {
   "cell_type": "markdown",
   "id": "e4f8fe4c",
   "metadata": {},
   "source": [
    "結果聽起來更像真實的句子，但仍然不太通順。\n",
    "\n",
    "我們可以用 `successor_map` 中使用多於一個單字作為鍵來做得更好。\n",
    "例如，我們可以建立一個字典，它把每個二元組 —— 或三元組 —— 對應到其後繼單字的列表。\n",
    "作為練習，你將有機會實作這種分析，並看看結果如何。"
   ]
  },
  {
   "cell_type": "markdown",
   "id": "0ec009a8",
   "metadata": {},
   "source": [
    "## 除錯 (Debugging)\n",
    "\n",
    "到目前為止，我們寫的程式越來越龐大，你可能會發現花在除錯上的時間越來越多。\n",
    "如果你卡在一個困難的 bug 上，這裡有一些可以嘗試的方法：\n",
    "\n",
    "* 閱讀 (Reading)：仔細檢查你的程式碼，把它唸給自己聽，確認它寫的是你真正想表達的意思。\n",
    "\n",
    "* 執行 (Running)：透過修改和執行不同版本來進行實驗。通常如果在程式的正確位置顯示正確的資訊，問題就會變得很明顯，但有時你必須建立一些輔助性的程式碼 (scaffolding)。\n",
    "\n",
    "* 思考 (Ruminating)：花點時間思考！這是哪種類型的錯誤：語法錯誤、執行期錯誤，還是語義錯誤？你能從錯誤訊息或程式的輸出中得到什麼資訊？什麼樣的錯誤可能會導致你看到的問題？在你發現問題之前，你最後修改了什麼？\n",
    "\n",
    "* 小黃鴨除錯法 (Rubberducking)：如果你向別人解釋問題，有時在問完問題之前你就會找到答案。通常你不需要另一個人；你可以只對著一隻橡皮鴨說話。這就是著名策略「小黃鴨除錯法」的由來。我可不是在開玩笑 —— 請看 <https://en.wikipedia.org/wiki/Rubber_duck_debugging>。\n",
    "\n",
    "* 退回 (Retreating)：有時候，最好的做法是退一步 —— 復原最近的修改 —— 直到你回到一個可以運作的程式版本。然後你可以開始重新建構。\n",
    "\n",
    "* 休息 (Resting)：如果你讓大腦休息一下，有時它會自己幫你找到問題。"
   ]
  },
  {
   "cell_type": "markdown",
   "id": "1b6f5c4e",
   "metadata": {},
   "source": [
    "初學程式設計的人有時會卡在其中一項活動而忘記其他項。每項活動都有其失敗模式。\n",
    "\n",
    "例如，如果問題是打字錯誤，閱讀程式碼是有效的，但如果問題是概念上的誤解，那就不行了。\n",
    "如果你不了解你的程式在做什麼，即使你看 100 次也可能永遠看不到錯誤，因為錯誤在你的腦海裡。\n",
    "\n",
    "進行實驗可能有效，尤其是當你進行小型、簡單的測試時。\n",
    "但是如果你不思考或不閱讀程式碼就進行實驗，可能需要很長時間才能弄清楚發生了什麼事。\n",
    "\n",
    "你必須花時間思考。除錯就像一門實驗科學。你至少應該對問題是什麼有一個假設。\n",
    "如果有兩種或多種可能性，試著想一個可以排除其中一種的測試。"
   ]
  },
  {
   "cell_type": "markdown",
   "id": "64ef67a4",
   "metadata": {},
   "source": [
    "但即使是最好的除錯技巧，如果錯誤太多，或者你試圖修復的程式碼太大太複雜，\n",
    "也可能會失敗。有時最好的選擇是退回，簡化程式，直到你回到可以運作的狀態。\n",
    "\n",
    "初學者通常不願意退回，因為他們無法忍受刪除一行程式碼 (即使它是錯的)。\n",
    "如果這樣能讓你感覺好一點，可以在開始精簡程式碼之前，先把你的程式複製到另一個檔案。\n",
    "然後你可以一次一點地把片段複製回來。\n",
    "\n",
    "找到一個困難的 bug 需要閱讀、執行、思考、退回，有時還需要休息。\n",
    "如果你卡在其中一項活動，試試其他的。"
   ]
  },
  {
   "cell_type": "markdown",
   "id": "daee7c45",
   "metadata": {},
   "source": [
    "## 詞彙表 (Glossary)\n",
    "\n",
    "**預設值 (default value):**\n",
    " 如果沒有提供引數，指派給參數的值。\n",
    "\n",
    "**覆寫 (override):**\n",
    " 用引數取代預設值。\n",
    "\n",
    "**決定性的 (deterministic):**\n",
    " 一個決定性的程式在每次執行時，給定相同的輸入，都會做相同的事情。\n",
    "\n",
    "**偽隨機 (pseudorandom):**\n",
    " 一個偽隨機數序列看起來是隨機的，但它是由一個決定性的程式產生的。\n",
    "\n",
    "**二元組 (bigram):**\n",
    " 兩個元素的序列，通常是單字。\n",
    "\n",
    "**三元組 (trigram):**\n",
    " 三個元素的序列。\n",
    "\n",
    "**n-元組 (n-gram):**\n",
    " 一個未指定元素數量的序列。\n",
    "\n",
    "**小黃鴨除錯法 (rubber duck debugging):**\n",
    " 一種透過向一個無生命的物體大聲解釋問題來進行除錯的方法。"
   ]
  },
  {
   "cell_type": "markdown",
   "id": "ec0e4ef3",
   "metadata": {},
   "source": [
    "## 練習 (Exercises)"
   ]
  },
  {
   "cell_type": "markdown",
   "id": "057e4f69",
   "metadata": {},
   "source": [
    "這個儲存格告訴 Jupyter 在發生執行期錯誤時提供詳細的除錯資訊。\n",
    "在開始做練習之前先執行它。"
   ]
  },
  {
   "cell_type": "code",
   "execution_count": null,
   "id": "18516327",
   "metadata": {},
   "outputs": [],
   "source": [
    "%xmode Verbose"
   ]
  },
  {
   "cell_type": "markdown",
   "id": "0fa678c8",
   "metadata": {},
   "source": [
    "### 問問虛擬助理 (Ask a virtual assistant)\n",
    "\n",
    "在 `add_bigram_to_successor_map` (原書為 `add_bigram`) 中，`if` 陳述式會根據鍵是否已在字典中，\n",
    "來建立一個新的列表或將元素附加到現有的列表中。"
   ]
  },
  {
   "cell_type": "code",
   "execution_count": null,
   "id": "0651533f",
   "metadata": {
    "lines_to_next_cell": 1
   },
   "outputs": [],
   "source": [
    "# 為了演示 setdefault，我們需要一個空的 successor_map\n",
    "successor_map_setdefault_example = {}\n",
    "def add_bigram_original_for_setdefault(bigram_input): # 這是書中原始的 add_bigram 邏輯\n",
    "    first, second = bigram_input\n",
    "    global successor_map_setdefault_example # 確保修改的是外面的字典\n",
    "\n",
    "    if first not in successor_map_setdefault_example:\n",
    "        successor_map_setdefault_example[first] = [second]\n",
    "    else:\n",
    "        successor_map_setdefault_example[first].append(second)"
   ]
  },
  {
   "cell_type": "code",
   "execution_count": null,
   "id": "877fe80c",
   "metadata": {
    "lines_to_next_cell": 2
   },
   "outputs": [],
   "source": [
    "add_bigram_original_for_setdefault(('half', 'a'))\n",
    "add_bigram_original_for_setdefault(('half', 'not'))\n",
    "print(f\"使用原始 if/else 的 successor_map: {successor_map_setdefault_example}\")"
   ]
  },
  {
   "cell_type": "code",
   "execution_count": null,
   "id": "b4dd5de9",
   "metadata": {
    "lines_to_next_cell": 1
   },
   "outputs": [],
   "source": [
    "# 字典提供了一個叫做 `setdefault` 的方法，我們可以用它來更簡潔地做同樣的事情。\n",
    "# 問問虛擬助理它是如何運作的，或者把 `add_bigram_original_for_setdefault` (原書為 `add_word`，但這裡的上下文是 bigram)\n",
    "# 複製到虛擬助理中並問：「你能用 `setdefault` 重寫這個嗎？」\n",
    "#\n",
    "# 這裡是用 setdefault 的版本：\n",
    "successor_map_setdefault_example_v2 = {}\n",
    "def add_bigram_with_setdefault(bigram_input):\n",
    "    first, second = bigram_input\n",
    "    global successor_map_setdefault_example_v2\n",
    "    # setdefault(key, default_value)\n",
    "    # 如果 key 不在字典中，它會插入 key 並將其值設為 default_value，然後回傳 default_value。\n",
    "    # 如果 key 已經在字典中，它只會回傳 key 對應的目前值，不做任何改變。\n",
    "    # 所以，successor_map_setdefault_example_v2.setdefault(first, [])\n",
    "    # 會確保 first 存在於字典中，並且其值是一個列表 (如果不存在就設為空列表)。\n",
    "    # 然後 .append(second) 就可以安全地使用了。\n",
    "    successor_map_setdefault_example_v2.setdefault(first, []).append(second)"
   ]
  },
  {
   "cell_type": "code",
   "execution_count": null,
   "id": "398346f5",
   "metadata": {
    "lines_to_next_cell": 2
   },
   "outputs": [],
   "source": [
    "add_bigram_with_setdefault(('half', 'a'))\n",
    "add_bigram_with_setdefault(('half', 'not'))\n",
    "print(f\"使用 setdefault 的 successor_map: {successor_map_setdefault_example_v2}\")"
   ]
  },
  {
   "cell_type": "markdown",
   "id": "f23689be",
   "metadata": {},
   "source": [
    "在本章中，我們實作了馬可夫鏈文本分析和生成。\n",
    "如果你好奇，可以向虛擬助理詢問更多關於這個主題的資訊。\n",
    "你可能會學到的一件事是，虛擬助理使用的演算法在很多方面與此相似 —— 但在重要方面也有所不同。\n",
    "問問虛擬助理：「像 GPT 這樣的大型語言模型和馬可夫鏈文本分析之間有什麼區別？」"
   ]
  },
  {
   "cell_type": "markdown",
   "id": "d90ee80e",
   "metadata": {},
   "source": [
    "### 練習\n",
    "\n",
    "寫一個函數，計算每個三元組 (三個單字的序列) 出現的次數。\n",
    "如果你用《化身博士》的文本測試你的函數，你應該會發現最常見的三元組是 \"said the lawyer\" (律師說)。\n",
    "\n",
    "提示：寫一個叫做 `count_trigram` 的函數，它類似於 `count_bigram`。\n",
    "然後寫一個叫做 `process_word_trigram` 的函數，它類似於 `process_word_for_bigram` (原書為 `process_word_bigram`)。"
   ]
  },
  {
   "cell_type": "code",
   "execution_count": null,
   "id": "bda53f79",
   "metadata": {
    "lines_to_next_cell": 1
   },
   "outputs": [],
   "source": [
    "# 解答\n",
    "trigram_counter = {} # 全域變數來儲存三元組計數"
   ]
  },
  {
   "cell_type": "code",
   "execution_count": null,
   "id": "e7c6ba94",
   "metadata": {
    "lines_to_next_cell": 1
   },
   "outputs": [],
   "source": [
    "def count_trigram(trigram_list_input): # 參數改名\n",
    "    key_tuple_trigram = tuple(trigram_list_input) # 用元組當鍵\n",
    "\n",
    "    if key_tuple_trigram not in trigram_counter:\n",
    "        trigram_counter[key_tuple_trigram] = 1\n",
    "    else:\n",
    "        trigram_counter[key_tuple_trigram] += 1"
   ]
  },
  {
   "cell_type": "markdown",
   "id": "9874cd99",
   "metadata": {},
   "source": [
    "解答\n",
    "window 應該是全域的，或者作為參數傳遞\n",
    "這裡假設 window 是全域的，並在執行前重設"
   ]
  },
  {
   "cell_type": "code",
   "execution_count": null,
   "id": "a140027d",
   "metadata": {
    "lines_to_next_cell": 1
   },
   "outputs": [],
   "source": [
    "def process_word_for_trigram_count(word_input_tc): # 參數改名\n",
    "    # 假設 window 是在此函數外部定義和管理的\n",
    "    window.append(word_input_tc)\n",
    "\n",
    "    if len(window) == 3: # 形成三元組\n",
    "        count_trigram(window) # 計算這個三元組\n",
    "        window.pop(0) # 滑動窗格"
   ]
  },
  {
   "cell_type": "markdown",
   "id": "fecf7c98",
   "metadata": {},
   "source": [
    "你可以用下面的迴圈來讀取書本並處理單字。"
   ]
  },
  {
   "cell_type": "code",
   "execution_count": null,
   "id": "e4fea12c",
   "metadata": {},
   "outputs": [],
   "source": [
    "trigram_counter = {} # 重設計數器\n",
    "window = []        # 重設窗格"
   ]
  },
  {
   "cell_type": "code",
   "execution_count": null,
   "id": "46fdc6d3",
   "metadata": {
    "lines_to_next_cell": 2
   },
   "outputs": [],
   "source": [
    "print(\"\\n--- 計算三元組頻率 ---\")\n",
    "if exists(filename):\n",
    "    for line in open(filename, encoding='utf-8'):\n",
    "        for word_in_line_tg in split_line(line):\n",
    "            cleaned_word_tg = clean_word(word_in_line_tg)\n",
    "            if cleaned_word_tg:\n",
    "                process_word_for_trigram_count(cleaned_word_tg)\n",
    "else:\n",
    "    print(f\"錯誤: {filename} 未找到，無法計算三元組。\")"
   ]
  },
  {
   "cell_type": "markdown",
   "id": "0f420d16",
   "metadata": {},
   "source": [
    "然後使用 `print_most_common` 來找出書中最常見的三元組。"
   ]
  },
  {
   "cell_type": "code",
   "execution_count": null,
   "id": "fa0e600d",
   "metadata": {},
   "outputs": [],
   "source": [
    "if trigram_counter:\n",
    "    print_most_common(trigram_counter)\n",
    "else:\n",
    "    print(\"trigram_counter 是空的。\")"
   ]
  },
  {
   "cell_type": "markdown",
   "id": "d081d813",
   "metadata": {},
   "source": [
    "### 練習\n",
    "\n",
    "現在讓我們實作馬可夫鏈文本分析，其中每個二元組對應到一個可能的後繼詞列表。\n",
    "\n",
    "從 `add_bigram_to_successor_map` (原書為 `add_bigram`) 開始，寫一個叫做 `add_trigram_to_successor_map` (原書為 `add_trigram`) 的函數，\n",
    "它接收一個包含三個單字的列表，並在 `successor_map` (這裡的 `successor_map` 鍵將是二元組) 中\n",
    "新增或更新一個項目，使用前兩個單字作為鍵，第三個單字作為可能的後繼詞。"
   ]
  },
  {
   "cell_type": "markdown",
   "id": "b6906b9f",
   "metadata": {},
   "source": [
    "解答\n",
    "successor_map 將是全域的，鍵是二元組 (word1, word2)，值是 [word3_successor1, word3_successor2, ...]\n",
    "successor_map_trigram_key = {} # 用新名字以區分"
   ]
  },
  {
   "cell_type": "code",
   "execution_count": null,
   "id": "da498d12",
   "metadata": {
    "lines_to_next_cell": 1
   },
   "outputs": [],
   "source": [
    "def add_trigram_key_to_successor_map(trigram_list_input_sm): # 參數改名\n",
    "    # 假設 successor_map_trigram_key 是全域的\n",
    "    # global successor_map_trigram_key # 如果在函數內部賦值給全域名稱本身，才需要 global\n",
    "                                    # 但這裡只是修改其內容，所以不需要\n",
    "\n",
    "    if len(trigram_list_input_sm) != 3:\n",
    "        print(\"錯誤: add_trigram_key_to_successor_map 需要一個包含三個單字的列表。\")\n",
    "        return\n",
    "\n",
    "    first_tgk, second_tgk, third_successor_tgk = trigram_list_input_sm\n",
    "    key_bigram_tgk = (first_tgk, second_tgk) # 用前兩個字當鍵\n",
    "\n",
    "    if key_bigram_tgk not in successor_map_trigram_key: # successor_map_trigram_key 是練習的目標字典\n",
    "        successor_map_trigram_key[key_bigram_tgk] = [third_successor_tgk]\n",
    "    else:\n",
    "        successor_map_trigram_key[key_bigram_tgk].append(third_successor_tgk)"
   ]
  },
  {
   "cell_type": "markdown",
   "id": "e79398ec",
   "metadata": {},
   "source": [
    "這是 `process_word_for_trigram_count` (原書 `process_word_trigram`) 的一個版本，它呼叫 `add_trigram_key_to_successor_map`。\n",
    "(注意：書中的 `process_word_trigram` 在 In[159] 是用來計數的，這裡則是用來建立後繼詞對照表)\n",
    "我們需要一個新的 process_word 函數"
   ]
  },
  {
   "cell_type": "code",
   "execution_count": null,
   "id": "7128671b",
   "metadata": {
    "lines_to_next_cell": 1
   },
   "outputs": [],
   "source": [
    "def process_word_for_trigram_key_successor_map(word_input_tgksm): # 參數改名\n",
    "    # 假設 window 和 successor_map_trigram_key 是全域的\n",
    "    window.append(word_input_tgksm)\n",
    "\n",
    "    if len(window) == 3: # 形成三元組\n",
    "        add_trigram_key_to_successor_map(window) # 加入到 (二元組 -> 後繼詞) 的對照表\n",
    "        window.pop(0) # 滑動窗格"
   ]
  },
  {
   "cell_type": "markdown",
   "id": "594561d6",
   "metadata": {},
   "source": [
    "你可以用下面的迴圈來測試你的函數與 \"Eric, the Half a Bee\" 的歌詞。"
   ]
  },
  {
   "cell_type": "code",
   "execution_count": null,
   "id": "9e42891c",
   "metadata": {},
   "outputs": [],
   "source": [
    "successor_map_trigram_key = {} # 重設\n",
    "window = []                    # 重設"
   ]
  },
  {
   "cell_type": "code",
   "execution_count": null,
   "id": "59427c63",
   "metadata": {
    "lines_to_next_cell": 2
   },
   "outputs": [],
   "source": [
    "print(\"\\n--- 使用三元組 (前兩字為鍵) 建立歌曲的 successor_map ---\")\n",
    "# song_words 之前已處理好\n",
    "if song_words:\n",
    "    for word_from_song_tgksm in song_words:\n",
    "        if word_from_song_tgksm:\n",
    "            process_word_for_trigram_key_successor_map(word_from_song_tgksm)\n",
    "else:\n",
    "    print(\"song_words 是空的。\")"
   ]
  },
  {
   "cell_type": "markdown",
   "id": "c2be024e",
   "metadata": {},
   "source": [
    "如果你的函數運作正常，前導詞 `('half', 'a')` 應該對應到一個只包含元素 `'bee'` 的列表。\n",
    "事實上，碰巧的是，這首歌中的每個二元組 (作為鍵) 都只出現一次，\n",
    "所以 `successor_map_trigram_key` 中的所有值都只有一個元素。"
   ]
  },
  {
   "cell_type": "code",
   "execution_count": null,
   "id": "ef3fe2bb",
   "metadata": {
    "lines_to_next_cell": 2
   },
   "outputs": [],
   "source": [
    "if successor_map_trigram_key:\n",
    "    for key_tgk_song, val_tgk_song_list in successor_map_trigram_key.items():\n",
    "        print(f\"{key_tgk_song}: {val_tgk_song_list}\")\n",
    "else:\n",
    "    print(\"successor_map_trigram_key (歌曲) 是空的。\")"
   ]
  },
  {
   "cell_type": "markdown",
   "id": "606c2022",
   "metadata": {},
   "source": [
    "你可以用下面的迴圈來測試你的函數與書中的單字。"
   ]
  },
  {
   "cell_type": "code",
   "execution_count": null,
   "id": "c3ca84fb",
   "metadata": {},
   "outputs": [],
   "source": [
    "successor_map_trigram_key = {} # 重設\n",
    "window = []                    # 重設"
   ]
  },
  {
   "cell_type": "code",
   "execution_count": null,
   "id": "703fab15",
   "metadata": {
    "lines_to_next_cell": 2
   },
   "outputs": [],
   "source": [
    "print(\"\\n--- 使用三元組 (前兩字為鍵) 建立書籍的 successor_map ---\")\n",
    "if exists(filename):\n",
    "    for line in open(filename, encoding='utf-8'):\n",
    "        for word_in_line_tgksm_book in split_line(line):\n",
    "            cleaned_word_tgksm_book = clean_word(word_in_line_tgksm_book)\n",
    "            if cleaned_word_tgksm_book:\n",
    "                process_word_for_trigram_key_successor_map(cleaned_word_tgksm_book)\n",
    "    print(f\"建立完成，successor_map_trigram_key 中有 {len(successor_map_trigram_key)} 個項目。\")\n",
    "    # 隨便印幾個看看\n",
    "    count_printed_tgksm_book = 0\n",
    "    for k_tgksm, v_tgksm_list in successor_map_trigram_key.items():\n",
    "        print(f\"{k_tgksm}: {v_tgksm_list}\")\n",
    "        count_printed_tgksm_book +=1\n",
    "        if count_printed_tgksm_book >= 5: break # 只印 5 個\n",
    "else:\n",
    "    print(f\"錯誤: {filename} 未找到。\")"
   ]
  },
  {
   "cell_type": "markdown",
   "id": "f5697046",
   "metadata": {},
   "source": [
    "在下一個練習中，你將使用這些結果來產生新的隨機文本。"
   ]
  },
  {
   "cell_type": "markdown",
   "id": "9979b1ca",
   "metadata": {},
   "source": [
    "### 練習\n",
    "\n",
    "在這個練習中，我們假設 `successor_map_trigram_key` 是一個字典，\n",
    "它把每個二元組對應到其後繼單字的列表。"
   ]
  },
  {
   "cell_type": "code",
   "execution_count": null,
   "id": "a2a8f8bc",
   "metadata": {},
   "outputs": [],
   "source": [
    "# 這個儲存格會初始化隨機數產生器，\n",
    "# 這樣每次執行這個 notebook 時，它都會從序列的同一個點開始。\n",
    "random.seed(3)"
   ]
  },
  {
   "cell_type": "markdown",
   "id": "05fe900a",
   "metadata": {},
   "source": [
    "要產生隨機文本，我們先從 `successor_map_trigram_key` 中隨機選擇一個鍵 (二元組)。"
   ]
  },
  {
   "cell_type": "code",
   "execution_count": null,
   "id": "d8848cd5",
   "metadata": {
    "lines_to_next_cell": 2
   },
   "outputs": [],
   "source": [
    "start_bigram_for_gen_tgk = None\n",
    "if successor_map_trigram_key:\n",
    "    # 確保只選擇有後繼詞的鍵\n",
    "    valid_start_bigrams_tgk = [k_tgk for k_tgk, v_list_tgk in successor_map_trigram_key.items() if v_list_tgk]\n",
    "    if valid_start_bigrams_tgk:\n",
    "        start_bigram_for_gen_tgk = random.choice(valid_start_bigrams_tgk)\n",
    "print(f\"隨機選擇的起始二元組 (用於三元組生成): {start_bigram_for_gen_tgk}\")"
   ]
  },
  {
   "cell_type": "markdown",
   "id": "d9a7d4ce",
   "metadata": {},
   "source": [
    "現在寫一個迴圈，依照以下步驟產生 50 個以上的單字：\n",
    "\n",
    "1. 在 `successor_map_trigram_key` 中，查詢可以跟在 `start_bigram_for_gen_tgk` (目前的二元組) 後面的單字列表。\n",
    "\n",
    "2. 從中隨機選擇一個並印出來 (或加入到生成文本列表中)。\n",
    "\n",
    "3. 為了下一次迭代，建立一個新的二元組，它包含 `start_bigram_for_gen_tgk` 的第二個單字和剛才選擇的後繼詞。\n",
    "\n",
    "例如，如果我們從二元組 `('doubted', 'if')` 開始，並選擇 `'from'` 作為其後繼詞，\n",
    "那麼下一個二元組就是 `('if', 'from')`。"
   ]
  },
  {
   "cell_type": "code",
   "execution_count": null,
   "id": "6df0b5a8",
   "metadata": {},
   "outputs": [],
   "source": [
    "# 解答\n",
    "print(\"\\n--- 馬可夫鏈文本生成 (以 trigram/二元組鍵 為基礎) ---\")\n",
    "generated_text_tgk_list = []\n",
    "current_bigram_for_gen = start_bigram_for_gen_tgk"
   ]
  },
  {
   "cell_type": "code",
   "execution_count": null,
   "id": "fbbff09a",
   "metadata": {
    "lines_to_next_cell": 2
   },
   "outputs": [],
   "source": [
    "if current_bigram_for_gen and successor_map_trigram_key:\n",
    "    # 先把起始二元組的兩個字加進去\n",
    "    generated_text_tgk_list.extend(list(current_bigram_for_gen))\n",
    "\n",
    "    for i in range(50): # 生成 50 個「新」的字\n",
    "        if current_bigram_for_gen in successor_map_trigram_key and successor_map_trigram_key[current_bigram_for_gen]:\n",
    "            possible_successors_tgk = successor_map_trigram_key[current_bigram_for_gen]\n",
    "            chosen_next_word_tgk = random.choice(possible_successors_tgk)\n",
    "            generated_text_tgk_list.append(chosen_next_word_tgk)\n",
    "\n",
    "            # 更新目前的二元組\n",
    "            # 新的二元組是 (舊二元組的第二個字, 剛選出的字)\n",
    "            current_bigram_for_gen = (current_bigram_for_gen[1], chosen_next_word_tgk)\n",
    "        else:\n",
    "            print(f\"\\n(二元組 '{current_bigram_for_gen}' 沒有後繼詞或不在 map 中，停止生成。)\")\n",
    "            break\n",
    "    print(\" \".join(generated_text_tgk_list))\n",
    "else:\n",
    "    print(\"無法開始生成文本 (起始二元組無效或 map 為空)。\")"
   ]
  },
  {
   "cell_type": "markdown",
   "id": "10e674e4",
   "metadata": {},
   "source": [
    "如果一切運作正常，你應該會發現生成的文本在風格上與原始文本可辨識地相似，\n",
    "並且某些片語是有意義的，但文本可能會從一個主題跳到另一個主題。\n",
    "\n",
    "作為一個額外練習，修改你最後兩個練習的解答，\n",
    "使用三元組作為 `successor_map` 中的鍵 (即 (w1, w2, w3) -> [w4, ...])，\n",
    "看看它對結果有什麼影響。\n",
    "(這會需要一個長度為 4 的窗格)"
   ]
  },
  {
   "cell_type": "markdown",
   "id": "fd80334a",
   "metadata": {},
   "source": [
    "(這個儲存格是空的，保留給可能的額外練習)"
   ]
  },
  {
   "cell_type": "markdown",
   "id": "b4eb05d8",
   "metadata": {},
   "source": [
    "(這個儲存格是空的)"
   ]
  },
  {
   "cell_type": "markdown",
   "id": "d02cbc41",
   "metadata": {},
   "source": [
    "[Think Python: 3rd Edition](https://allendowney.github.io/ThinkPython/index.html)\n",
    "\n",
    "Copyright 2024 [Allen B. Downey](https://allendowney.com)\n",
    "\n",
    "程式碼授權: [MIT License](https://mit-license.org/)\n",
    "\n",
    "文字內容授權: [Creative Commons Attribution-NonCommercial-ShareAlike 4.0 International](https://creativecommons.org/licenses/by-nc-sa/4.0/)"
   ]
  }
 ],
 "metadata": {
  "jupytext": {
   "cell_metadata_filter": "-all",
   "main_language": "python",
   "notebook_metadata_filter": "-all"
  }
 },
 "nbformat": 4,
 "nbformat_minor": 5
}
