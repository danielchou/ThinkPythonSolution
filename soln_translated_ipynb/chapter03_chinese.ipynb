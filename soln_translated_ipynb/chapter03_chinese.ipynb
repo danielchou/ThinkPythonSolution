{
 "cells": [
  {
   "cell_type": "markdown",
   "id": "bc94c995",
   "metadata": {},
   "source": [
    "\u4f60\u53ef\u4ee5\u5f9e\n",
    "[Bookshop.org](https://bookshop.org/a/98697/9781098155438) \u548c\n",
    "[Amazon](https://www.amazon.com/_/dp/1098155432?smid=ATVPDKIKX0DER&_encoding=UTF8&tag=oreilly20-20&_encoding=UTF8&tag=greenteapre01-20&linkCode=ur2&linkId=e2a529f94920295d27ec8a06e757dc7c&camp=1789&creative=9325)\n",
    "\u8a02\u8cfc\u300aThink Python 3e\u300b\u7684\u5be6\u9ad4\u66f8\u548c\u96fb\u5b50\u66f8\u7248\u672c\u3002"
   ]
  },
  {
   "cell_type": "code",
   "execution_count": null,
   "id": "8917ff26",
   "metadata": {
    "lines_to_next_cell": 1
   },
   "outputs": [],
   "source": [
    "from os.path import basename, exists"
   ]
  },
  {
   "cell_type": "code",
   "execution_count": null,
   "id": "1734aa85",
   "metadata": {
    "lines_to_next_cell": 1
   },
   "outputs": [],
   "source": [
    "def download(url):\n",
    "    filename = basename(url)\n",
    "    if not exists(filename):\n",
    "        from urllib.request import urlretrieve\n",
    "\n",
    "        local, _ = urlretrieve(url, filename)\n",
    "        print(\"\u5df2\u4e0b\u8f09 \" + str(local)) # \u8b6f\u8a3b\uff1a\u9019\u88e1\u986f\u793a\u4e0b\u8f09\u5b8c\u6210\u7684\u6a94\u6848\u8def\u5f91\n",
    "    return filename"
   ]
  },
  {
   "cell_type": "code",
   "execution_count": null,
   "id": "0d92a236",
   "metadata": {},
   "outputs": [],
   "source": [
    "download('https://github.com/AllenDowney/ThinkPython/raw/v3/thinkpython.py');\n",
    "download('https://github.com/AllenDowney/ThinkPython/raw/v3/diagram.py');"
   ]
  },
  {
   "cell_type": "code",
   "execution_count": null,
   "id": "380dc8e4",
   "metadata": {
    "lines_to_next_cell": 2
   },
   "outputs": [],
   "source": [
    "import thinkpython"
   ]
  },
  {
   "cell_type": "markdown",
   "id": "77cd712f",
   "metadata": {},
   "source": [
    "# \u51fd\u5f0f (Functions)\n",
    "\n",
    "\u5728\u4e0a\u4e00\u7ae0\uff0c\u6211\u5011\u7528\u4e86\u4e00\u4e9b Python \u63d0\u4f9b\u7684\u51fd\u5f0f\uff0c\u50cf\u662f `int` \u548c `float`\uff0c\u9084\u6709\u4e00\u4e9b `math` \u6a21\u7d44\u63d0\u4f9b\u7684\u51fd\u5f0f\uff0c\u50cf\u662f `sqrt` \u548c `pow`\u3002\n",
    "\u5728\u9019\u4e00\u7ae0\uff0c\u4f60\u6703\u5b78\u5230\u5982\u4f55\u5efa\u7acb\u81ea\u5df1\u7684\u51fd\u5f0f\u4e26\u57f7\u884c\u5b83\u5011\u3002\n",
    "\u6211\u5011\u4e5f\u6703\u770b\u5230\u4e00\u500b\u51fd\u5f0f\u5982\u4f55\u547c\u53eb\u53e6\u4e00\u500b\u51fd\u5f0f\u3002\n",
    "\u4f5c\u70ba\u7bc4\u4f8b\uff0c\u6211\u5011\u6703\u986f\u793a\u8499\u63d0\u00b7\u6d3e\u68ee (Monty Python) \u6b4c\u66f2\u7684\u6b4c\u8a5e\u3002\n",
    "\u9019\u4e9b\u770b\u8d77\u4f86\u50bb\u50bb\u7684\u4f8b\u5b50\u5176\u5be6\u5c55\u793a\u4e86\u4e00\u500b\u5f88\u91cd\u8981\u7684\u7279\u6027\u2014\u2014\u80fd\u5920\u5beb\u81ea\u5df1\u7684\u51fd\u5f0f\u662f\u7a0b\u5f0f\u8a2d\u8a08\u7684\u57fa\u790e\u3002\n",
    "\n",
    "\u9019\u4e00\u7ae0\u4e5f\u6703\u4ecb\u7d39\u4e00\u500b\u65b0\u7684\u9673\u8ff0\u53e5\uff0c`for` \u8ff4\u5708\uff0c\u5b83\u7528\u4f86\u91cd\u8907\u57f7\u884c\u67d0\u500b\u904b\u7b97\u3002"
   ]
  },
  {
   "cell_type": "markdown",
   "id": "3afde7b6",
   "metadata": {},
   "source": [
    "## \u5b9a\u7fa9\u65b0\u7684\u51fd\u5f0f\n",
    "\n",
    "**\u51fd\u5f0f\u5b9a\u7fa9** (function definition) \u6307\u5b9a\u4e86\u4e00\u500b\u65b0\u51fd\u5f0f\u7684\u540d\u7a31\u4ee5\u53ca\u7576\u51fd\u5f0f\u88ab\u547c\u53eb\u6642\u8981\u57f7\u884c\u7684\u9673\u8ff0\u53e5\u5e8f\u5217\u3002\u9019\u88e1\u6709\u500b\u4f8b\u5b50\uff1a"
   ]
  },
  {
   "cell_type": "code",
   "execution_count": null,
   "id": "601ebf86",
   "metadata": {
    "lines_to_next_cell": 2
   },
   "outputs": [],
   "source": [
    "def print_lyrics(): # \u8b6f\u8a3b\uff1a\u5b9a\u7fa9\u4e00\u500b\u53eb\u505a print_lyrics \u7684\u51fd\u5f0f\n",
    "    print(\"\u6211\u662f\u4e00\u500b\u4f10\u6728\u5de5\uff0c\u6211\u904e\u5f97\u5f88\u597d\u3002\") # \u8b6f\u8a3b\uff1a\u6b4c\u8a5e\u6539\u70ba\u4e2d\u6587\n",
    "    print(\"\u6211\u6574\u591c\u7761\u89ba\uff0c\u6574\u5929\u5de5\u4f5c\u3002\")"
   ]
  },
  {
   "cell_type": "markdown",
   "id": "d42e2bae",
   "metadata": {},
   "source": [
    "`def` \u662f\u4e00\u500b\u95dc\u9375\u5b57\uff0c\u8868\u793a\u9019\u662f\u4e00\u500b\u51fd\u5f0f\u5b9a\u7fa9\u3002\n",
    "\u51fd\u5f0f\u7684\u540d\u7a31\u662f `print_lyrics`\u3002\n",
    "\u4efb\u4f55\u5408\u6cd5\u7684\u8b8a\u6578\u540d\u7a31\u4e5f\u90fd\u662f\u5408\u6cd5\u7684\u51fd\u5f0f\u540d\u7a31\u3002\n",
    "\n",
    "\u540d\u7a31\u5f8c\u9762\u7684\u7a7a\u62ec\u865f\u8868\u793a\u9019\u500b\u51fd\u5f0f\u4e0d\u63a5\u53d7\u4efb\u4f55\u5f15\u6578\u3002\n",
    "\n",
    "\u51fd\u5f0f\u5b9a\u7fa9\u7684\u7b2c\u4e00\u884c\u53eb\u505a **\u6a19\u982d** (header)\u2014\u2014\u5176\u9918\u7684\u90e8\u5206\u53eb\u505a **\u4e3b\u9ad4** (body)\u3002\n",
    "\u6a19\u982d\u5fc5\u9808\u4ee5\u5192\u865f\u7d50\u5c3e\uff0c\u800c\u4e3b\u9ad4\u5fc5\u9808\u7e2e\u6392\u3002\u4f9d\u7167\u6163\u4f8b\uff0c\u7e2e\u6392\u901a\u5e38\u662f\u56db\u500b\u7a7a\u683c\u3002\n",
    "\u9019\u500b\u51fd\u5f0f\u7684\u4e3b\u9ad4\u662f\u5169\u500b print \u9673\u8ff0\u53e5\uff1b\u4e00\u822c\u4f86\u8aaa\uff0c\u51fd\u5f0f\u7684\u4e3b\u9ad4\u53ef\u4ee5\u5305\u542b\u4efb\u610f\u6578\u91cf\u3001\u4efb\u610f\u7a2e\u985e\u7684\u9673\u8ff0\u53e5\u3002\n",
    "\n",
    "\u5b9a\u7fa9\u4e00\u500b\u51fd\u5f0f\u6703\u5efa\u7acb\u4e00\u500b **\u51fd\u5f0f\u7269\u4ef6** (function object)\uff0c\u6211\u5011\u53ef\u4ee5\u50cf\u9019\u6a23\u986f\u793a\u5b83\u3002"
   ]
  },
  {
   "cell_type": "code",
   "execution_count": null,
   "id": "eee65044",
   "metadata": {
    "lines_to_next_cell": 2
   },
   "outputs": [],
   "source": [
    "print_lyrics"
   ]
  },
  {
   "cell_type": "markdown",
   "id": "ebabaee3",
   "metadata": {},
   "source": [
    "\u8f38\u51fa\u7d50\u679c\u986f\u793a `print_lyrics` \u662f\u4e00\u500b\u4e0d\u63a5\u53d7\u4efb\u4f55\u5f15\u6578\u7684\u51fd\u5f0f\u3002\n",
    "`__main__` \u662f\u5305\u542b `print_lyrics` \u7684\u6a21\u7d44\u7684\u540d\u7a31\u3002(\u8b6f\u8a3b\uff1a\u5728\u76f4\u63a5\u57f7\u884c .py \u6a94\u6848\u6216 Jupyter Notebook \u4e2d\uff0c\u6700\u5916\u5c64\u7684\u7a0b\u5f0f\u78bc\u901a\u5e38\u5c6c\u65bc `__main__` \u6a21\u7d44)\n",
    "\n",
    "\u73fe\u5728\u6211\u5011\u5df2\u7d93\u5b9a\u7fa9\u4e86\u4e00\u500b\u51fd\u5f0f\uff0c\u6211\u5011\u53ef\u4ee5\u7528\u548c\u547c\u53eb\u5167\u5efa\u51fd\u5f0f\u76f8\u540c\u7684\u65b9\u5f0f\u4f86\u547c\u53eb\u5b83\u3002"
   ]
  },
  {
   "cell_type": "code",
   "execution_count": null,
   "id": "361b93d3",
   "metadata": {
    "lines_to_next_cell": 2
   },
   "outputs": [],
   "source": [
    "print_lyrics()"
   ]
  },
  {
   "cell_type": "markdown",
   "id": "4e06bc9d",
   "metadata": {},
   "source": [
    "\u7576\u51fd\u5f0f\u57f7\u884c\u6642\uff0c\u5b83\u6703\u57f7\u884c\u4e3b\u9ad4\u4e2d\u7684\u9673\u8ff0\u53e5\uff0c\u4e5f\u5c31\u662f\u986f\u793a\u300c\u4f10\u6728\u5de5\u4e4b\u6b4c\u300d\u7684\u524d\u5169\u884c\u6b4c\u8a5e\u3002"
   ]
  },
  {
   "cell_type": "markdown",
   "id": "2d323a05",
   "metadata": {},
   "source": [
    "## \u53c3\u6578 (Parameters)\n",
    "\n",
    "\u6211\u5011\u770b\u904e\u7684\u4e00\u4e9b\u51fd\u5f0f\u9700\u8981\u5f15\u6578\uff1b\u4f8b\u5982\uff0c\u7576\u4f60\u547c\u53eb `abs` \u6642\uff0c\u4f60\u6703\u50b3\u5165\u4e00\u500b\u6578\u5b57\u4f5c\u70ba\u5f15\u6578\u3002\n",
    "\u6709\u4e9b\u51fd\u5f0f\u9700\u8981\u591a\u65bc\u4e00\u500b\u5f15\u6578\uff1b\u4f8b\u5982\uff0c`math.pow` \u9700\u8981\u5169\u500b\uff0c\u5e95\u6578\u548c\u6307\u6578\u3002\n",
    "\n",
    "\u9019\u88e1\u662f\u4e00\u500b\u63a5\u53d7\u5f15\u6578\u7684\u51fd\u5f0f\u5b9a\u7fa9\u3002"
   ]
  },
  {
   "cell_type": "code",
   "execution_count": null,
   "id": "a0b3dd92",
   "metadata": {
    "lines_to_next_cell": 2
   },
   "outputs": [],
   "source": [
    "def print_twice(string): # \u8b6f\u8a3b\uff1astring \u662f\u4e00\u500b\u53c3\u6578\n",
    "    print(string)\n",
    "    print(string)"
   ]
  },
  {
   "cell_type": "markdown",
   "id": "6ed1f8d6",
   "metadata": {},
   "source": [
    "\u62ec\u865f\u4e2d\u7684\u8b8a\u6578\u540d\u7a31\u662f\u4e00\u500b **\u53c3\u6578** (parameter)\u3002\n",
    "\u7576\u51fd\u5f0f\u88ab\u547c\u53eb\u6642\uff0c\u5f15\u6578\u7684\u503c\u6703\u88ab\u8ce6\u4e88\u7d66\u53c3\u6578\u3002\n",
    "\u4f8b\u5982\uff0c\u6211\u5011\u53ef\u4ee5\u50cf\u9019\u6a23\u547c\u53eb `print_twice`\u3002"
   ]
  },
  {
   "cell_type": "code",
   "execution_count": null,
   "id": "466f6991",
   "metadata": {
    "lines_to_next_cell": 2
   },
   "outputs": [],
   "source": [
    "print_twice('\u4e39\u5c3c\u65af\u00b7\u6469\u723e\uff0c') # \u8b6f\u8a3b\uff1a\u6b4c\u8a5e\u6539\u70ba\u4e2d\u6587"
   ]
  },
  {
   "cell_type": "markdown",
   "id": "997b8784",
   "metadata": {},
   "source": [
    "\u57f7\u884c\u9019\u500b\u51fd\u5f0f\uff0c\u6548\u679c\u7b49\u540c\u65bc\u5c07\u5f15\u6578\u8ce6\u503c\u7d66\u53c3\u6578\uff0c\u7136\u5f8c\u57f7\u884c\u51fd\u5f0f\u7684\u4e3b\u9ad4\uff0c\u5c31\u50cf\u9019\u6a23\uff1a"
   ]
  },
  {
   "cell_type": "code",
   "execution_count": null,
   "id": "514730d6",
   "metadata": {
    "lines_to_next_cell": 2
   },
   "outputs": [],
   "source": [
    "string = '\u4e39\u5c3c\u65af\u00b7\u6469\u723e\uff0c'\n",
    "print(string)\n",
    "print(string)"
   ]
  },
  {
   "cell_type": "markdown",
   "id": "ece9584e",
   "metadata": {},
   "source": [
    "\u4f60\u4e5f\u53ef\u4ee5\u4f7f\u7528\u4e00\u500b\u8b8a\u6578\u4f5c\u70ba\u5f15\u6578\u3002"
   ]
  },
  {
   "cell_type": "code",
   "execution_count": null,
   "id": "f4dd617e",
   "metadata": {
    "lines_to_next_cell": 2
   },
   "outputs": [],
   "source": [
    "line = '\u4e39\u5c3c\u65af\u00b7\u6469\u723e\uff0c'\n",
    "print_twice(line)"
   ]
  },
  {
   "cell_type": "markdown",
   "id": "d36fc5cd",
   "metadata": {},
   "source": [
    "\u5728\u9019\u500b\u4f8b\u5b50\u4e2d\uff0c`line` \u7684\u503c\u88ab\u8ce6\u4e88\u7d66\u53c3\u6578 `string`\u3002"
   ]
  },
  {
   "cell_type": "markdown",
   "id": "32397799",
   "metadata": {},
   "source": [
    "## \u547c\u53eb\u51fd\u5f0f\n",
    "\n",
    "\u4e00\u65e6\u4f60\u5b9a\u7fa9\u4e86\u4e00\u500b\u51fd\u5f0f\uff0c\u4f60\u5c31\u53ef\u4ee5\u5728\u53e6\u4e00\u500b\u51fd\u5f0f\u5167\u90e8\u4f7f\u7528\u5b83\u3002\n",
    "\u70ba\u4e86\u793a\u7bc4\uff0c\u6211\u5011\u6703\u5beb\u4e00\u4e9b\u51fd\u5f0f\u4f86\u5370\u51fa\u300c\u5348\u9910\u8089\u4e4b\u6b4c\u300d(The Spam Song) \u7684\u6b4c\u8a5e (<https://www.songfacts.com/lyrics/monty-python/the-spam-song>)\u3002\n",
    "\n",
    "> Spam, Spam, Spam, Spam,  (\u5348\u9910\u8089, \u5348\u9910\u8089, \u5348\u9910\u8089, \u5348\u9910\u8089,)\n",
    "> Spam, Spam, Spam, Spam,  (\u5348\u9910\u8089, \u5348\u9910\u8089, \u5348\u9910\u8089, \u5348\u9910\u8089,)\n",
    "> Spam, Spam,              (\u5348\u9910\u8089, \u5348\u9910\u8089,)\n",
    "> (Lovely Spam, Wonderful Spam!) (\u53ef\u611b\u7684\u5348\u9910\u8089\uff0c\u7f8e\u5999\u7684\u5348\u9910\u8089!)\n",
    "> Spam, Spam,              (\u5348\u9910\u8089, \u5348\u9910\u8089,)\n",
    "\n",
    "\u6211\u5011\u6703\u5f9e\u4e0b\u9762\u9019\u500b\u51fd\u5f0f\u958b\u59cb\uff0c\u5b83\u63a5\u53d7\u5169\u500b\u53c3\u6578\u3002\n"
   ]
  },
  {
   "cell_type": "code",
   "execution_count": null,
   "id": "9baacebe",
   "metadata": {
    "lines_to_next_cell": 2
   },
   "outputs": [],
   "source": [
    "def repeat(word, n): # \u8b6f\u8a3b\uff1aword \u662f\u8981\u91cd\u8907\u7684\u5b57\uff0cn \u662f\u91cd\u8907\u6b21\u6578\n",
    "    print(word * n) # \u8b6f\u8a3b\uff1a\u5b57\u4e32\u4e58\u4ee5\u6574\u6578 n\uff0c\u6703\u5c07\u5b57\u4e32\u91cd\u8907 n \u6b21"
   ]
  },
  {
   "cell_type": "markdown",
   "id": "19df4d8a",
   "metadata": {},
   "source": [
    "\u6211\u5011\u53ef\u4ee5\u7528\u9019\u500b\u51fd\u5f0f\u4f86\u5370\u51fa\u6b4c\u66f2\u7684\u7b2c\u4e00\u884c\uff0c\u50cf\u9019\u6a23\u3002"
   ]
  },
  {
   "cell_type": "code",
   "execution_count": null,
   "id": "077ddd11",
   "metadata": {
    "lines_to_next_cell": 2
   },
   "outputs": [],
   "source": [
    "spam = '\u5348\u9910\u8089\uff0c' # \u8b6f\u8a3b\uff1a\u6539\u70ba\u4e2d\u6587\n",
    "repeat(spam, 4)"
   ]
  },
  {
   "cell_type": "markdown",
   "id": "daea652e",
   "metadata": {},
   "source": [
    "\u8981\u986f\u793a\u524d\u5169\u884c\uff0c\u6211\u5011\u53ef\u4ee5\u5b9a\u7fa9\u4e00\u500b\u65b0\u7684\u51fd\u5f0f\uff0c\u5b83\u6703\u4f7f\u7528 `repeat`\u3002"
   ]
  },
  {
   "cell_type": "code",
   "execution_count": null,
   "id": "5d1b4c73",
   "metadata": {
    "lines_to_next_cell": 2
   },
   "outputs": [],
   "source": [
    "def first_two_lines():\n",
    "    repeat(spam, 4)\n",
    "    repeat(spam, 4)"
   ]
  },
  {
   "cell_type": "markdown",
   "id": "8b2fb8f0",
   "metadata": {},
   "source": [
    "\u7136\u5f8c\u50cf\u9019\u6a23\u547c\u53eb\u5b83\u3002"
   ]
  },
  {
   "cell_type": "code",
   "execution_count": null,
   "id": "520ef907",
   "metadata": {
    "lines_to_next_cell": 2
   },
   "outputs": [],
   "source": [
    "first_two_lines()"
   ]
  },
  {
   "cell_type": "markdown",
   "id": "1db90ef8",
   "metadata": {},
   "source": [
    "\u8981\u986f\u793a\u6700\u5f8c\u4e09\u884c\uff0c\u6211\u5011\u53ef\u4ee5\u5b9a\u7fa9\u53e6\u4e00\u500b\u51fd\u5f0f\uff0c\u5b83\u4e5f\u6703\u4f7f\u7528 `repeat`\u3002"
   ]
  },
  {
   "cell_type": "code",
   "execution_count": null,
   "id": "1ec12d6d",
   "metadata": {
    "lines_to_next_cell": 2
   },
   "outputs": [],
   "source": [
    "def last_three_lines():\n",
    "    repeat(spam, 2)\n",
    "    print('(\u53ef\u611b\u7684\u5348\u9910\u8089\uff0c\u7f8e\u5999\u7684\u5348\u9910\u8089\uff01)') # \u8b6f\u8a3b\uff1a\u6539\u70ba\u4e2d\u6587\n",
    "    repeat(spam, 2)"
   ]
  },
  {
   "cell_type": "code",
   "execution_count": null,
   "id": "168e6302",
   "metadata": {
    "lines_to_next_cell": 2
   },
   "outputs": [],
   "source": [
    "last_three_lines()"
   ]
  },
  {
   "cell_type": "markdown",
   "id": "a359a0e0",
   "metadata": {},
   "source": [
    "\u6700\u5f8c\uff0c\u6211\u5011\u53ef\u4ee5\u628a\u5b83\u5011\u5168\u90e8\u7d44\u5408\u8d77\u4f86\uff0c\u7528\u4e00\u500b\u51fd\u5f0f\u5370\u51fa\u6574\u6bb5\u6b4c\u8a5e\u3002"
   ]
  },
  {
   "cell_type": "code",
   "execution_count": null,
   "id": "4474fdb5",
   "metadata": {
    "lines_to_next_cell": 2
   },
   "outputs": [],
   "source": [
    "def print_verse():\n",
    "    first_two_lines()\n",
    "    last_three_lines()"
   ]
  },
  {
   "cell_type": "code",
   "execution_count": null,
   "id": "fefbf592",
   "metadata": {
    "lines_to_next_cell": 2
   },
   "outputs": [],
   "source": [
    "print_verse()"
   ]
  },
  {
   "cell_type": "markdown",
   "id": "4eddd2b7",
   "metadata": {},
   "source": [
    "\u7576\u6211\u5011\u57f7\u884c `print_verse` \u6642\uff0c\u5b83\u6703\u547c\u53eb `first_two_lines`\uff0c\u800c `first_two_lines` \u6703\u547c\u53eb `repeat`\uff0c`repeat` \u53c8\u6703\u547c\u53eb `print`\u3002\n",
    "\u9019\u662f\u4e00\u9023\u4e32\u7684\u51fd\u5f0f\u547c\u53eb\u3002\n",
    "\n",
    "\u7576\u7136\uff0c\u6211\u5011\u53ef\u4ee5\u7528\u66f4\u5c11\u7684\u51fd\u5f0f\u4f86\u505a\u540c\u6a23\u7684\u4e8b\u60c5\uff0c\u4f46\u9019\u500b\u4f8b\u5b50\u7684\u91cd\u9ede\u662f\u5c55\u793a\u51fd\u5f0f\u4e4b\u9593\u5982\u4f55\u5354\u540c\u5de5\u4f5c\u3002"
   ]
  },
  {
   "cell_type": "markdown",
   "id": "3e2ae906",
   "metadata": {},
   "source": [
    "## \u91cd\u8907 (Repetition)\n",
    "\n",
    "\u5982\u679c\u6211\u5011\u60f3\u986f\u793a\u4e0d\u53ea\u4e00\u6bb5\u6b4c\u8a5e\uff0c\u6211\u5011\u53ef\u4ee5\u4f7f\u7528 `for` \u9673\u8ff0\u53e5\u3002\n",
    "\u9019\u88e1\u6709\u4e00\u500b\u7c21\u55ae\u7684\u4f8b\u5b50\u3002"
   ]
  },
  {
   "cell_type": "code",
   "execution_count": null,
   "id": "3e5e6698",
   "metadata": {
    "lines_to_next_cell": 2
   },
   "outputs": [],
   "source": [
    "for i in range(2): # \u8b6f\u8a3b\uff1arange(2) \u6703\u7522\u751f 0 \u548c 1\n",
    "    print(i)"
   ]
  },
  {
   "cell_type": "markdown",
   "id": "404350cf",
   "metadata": {},
   "source": [
    "\u7b2c\u4e00\u884c\u662f\u6a19\u982d\uff0c\u4ee5\u5192\u865f\u7d50\u5c3e\u3002\n",
    "\u7b2c\u4e8c\u884c\u662f\u4e3b\u9ad4\uff0c\u5fc5\u9808\u7e2e\u6392\u3002\n",
    "\n",
    "\u6a19\u982d\u4ee5\u95dc\u9375\u5b57 `for` \u958b\u59cb\uff0c\u63a5\u8457\u662f\u4e00\u500b\u65b0\u7684\u8b8a\u6578\u540d\u7a31 `i`\uff0c\u7136\u5f8c\u662f\u53e6\u4e00\u500b\u95dc\u9375\u5b57 `in`\u3002\n",
    "\u5b83\u4f7f\u7528 `range` \u51fd\u5f0f\u4f86\u5efa\u7acb\u4e00\u500b\u5305\u542b\u5169\u500b\u503c\u7684\u5e8f\u5217\uff0c\u4e5f\u5c31\u662f `0` \u548c `1`\u3002\n",
    "\u5728 Python \u4e2d\uff0c\u7576\u6211\u5011\u958b\u59cb\u8a08\u6578\u6642\uff0c\u901a\u5e38\u5f9e `0` \u958b\u59cb\u3002\n",
    "\n",
    "\u7576 `for` \u9673\u8ff0\u53e5\u57f7\u884c\u6642\uff0c\u5b83\u6703\u5c07 `range` \u7522\u751f\u7684\u7b2c\u4e00\u500b\u503c\u8ce6\u4e88\u7d66 `i`\uff0c\u7136\u5f8c\u57f7\u884c\u4e3b\u9ad4\u4e2d\u7684 `print` \u51fd\u5f0f\uff0c\u986f\u793a `0`\u3002\n",
    "\n",
    "\u7576\u5b83\u57f7\u884c\u5230\u4e3b\u9ad4\u7684\u7d50\u5c3e\u6642\uff0c\u5b83\u6703\u56de\u5230\u6a19\u982d\uff0c\u9019\u5c31\u662f\u70ba\u4ec0\u9ebc\u9019\u500b\u9673\u8ff0\u53e5\u53eb\u505a **\u8ff4\u5708** (loop)\u3002\n",
    "\u7b2c\u4e8c\u6b21\u9032\u5165\u8ff4\u5708\u6642\uff0c\u5b83\u6703\u5c07 `range` \u7522\u751f\u7684\u4e0b\u4e00\u500b\u503c\u8ce6\u4e88\u7d66 `i`\uff0c\u4e26\u986f\u793a\u5b83\u3002\n",
    "\u7136\u5f8c\uff0c\u56e0\u70ba\u90a3\u662f `range` \u7522\u751f\u7684\u6700\u5f8c\u4e00\u500b\u503c\uff0c\u8ff4\u5708\u7d50\u675f\u3002\n",
    "\n",
    "\u9019\u88e1\u662f\u5982\u4f55\u4f7f\u7528 `for` \u8ff4\u5708\u4f86\u5370\u51fa\u6b4c\u66f2\u7684\u5169\u6bb5\u6b4c\u8a5e\u3002"
   ]
  },
  {
   "cell_type": "code",
   "execution_count": null,
   "id": "015d52f7",
   "metadata": {
    "lines_to_next_cell": 2
   },
   "outputs": [],
   "source": [
    "for i in range(2):\n",
    "    print(\"\u7b2c\", i+1, \"\u6bb5\") # \u8b6f\u8a3b\uff1a\u8b93\u6bb5\u843d\u5f9e 1 \u958b\u59cb\u8a08\u6578\uff0c\u4e26\u6539\u70ba\u4e2d\u6587\n",
    "    print_verse()\n",
    "    print() # \u8b6f\u8a3b\uff1a\u5370\u4e00\u500b\u7a7a\u884c\uff0c\u8b93\u6bb5\u843d\u4e4b\u9593\u6709\u9593\u9694"
   ]
  },
  {
   "cell_type": "markdown",
   "id": "6a3966e6",
   "metadata": {},
   "source": [
    "\u4f60\u53ef\u4ee5\u628a `for` \u8ff4\u5708\u653e\u5728\u51fd\u5f0f\u88e1\u9762\u3002\n",
    "\u4f8b\u5982\uff0c`print_n_verses` \u63a5\u53d7\u4e00\u500b\u540d\u70ba `n` \u7684\u53c3\u6578\uff0c\u5b83\u5fc5\u9808\u662f\u4e00\u500b\u6574\u6578\uff0c\u7136\u5f8c\u986f\u793a\u6307\u5b9a\u6578\u91cf\u7684\u6b4c\u8a5e\u6bb5\u843d\u3002"
   ]
  },
  {
   "cell_type": "code",
   "execution_count": null,
   "id": "e4668da0",
   "metadata": {
    "lines_to_next_cell": 2
   },
   "outputs": [],
   "source": [
    "def print_n_verses(n):\n",
    "    for i in range(n):\n",
    "        print_verse()\n",
    "        print()"
   ]
  },
  {
   "cell_type": "markdown",
   "id": "efa232ff",
   "metadata": {},
   "source": [
    "\u5728\u9019\u500b\u4f8b\u5b50\u4e2d\uff0c\u6211\u5011\u6c92\u6709\u5728\u8ff4\u5708\u4e3b\u9ad4\u4e2d\u4f7f\u7528 `i`\uff0c\u4f46\u6a19\u982d\u4e2d\u4ecd\u7136\u9700\u8981\u4e00\u500b\u8b8a\u6578\u540d\u7a31\u3002"
   ]
  },
  {
   "cell_type": "markdown",
   "id": "15fa92a6",
   "metadata": {},
   "source": [
    "## \u8b8a\u6578\u548c\u53c3\u6578\u662f\u5340\u57df\u6027\u7684 (Local)\n",
    "\n",
    "\u7576\u4f60\u5728\u51fd\u5f0f\u5167\u90e8\u5efa\u7acb\u4e00\u500b\u8b8a\u6578\u6642\uff0c\u5b83\u662f **\u5340\u57df\u6027\u7684** (local)\uff0c\u9019\n",
    "\u610f\u5473\u8457\u5b83\u53ea\u5b58\u5728\u65bc\u8a72\u51fd\u5f0f\u5167\u90e8\u3002\n",
    "\u4f8b\u5982\uff0c\u4e0b\u9762\u7684\u51fd\u5f0f\u63a5\u53d7\u5169\u500b\u5f15\u6578\uff0c\u5c07\u5b83\u5011\u4e32\u63a5\u8d77\u4f86\uff0c\u7136\u5f8c\u5370\u51fa\u7d50\u679c\u5169\u6b21\u3002"
   ]
  },
  {
   "cell_type": "code",
   "execution_count": null,
   "id": "eb748720",
   "metadata": {
    "lines_to_next_cell": 2
   },
   "outputs": [],
   "source": [
    "def cat_twice(part1, part2):\n",
    "    cat = part1 + part2 # \u8b6f\u8a3b\uff1acat \u662f\u5728 cat_twice \u51fd\u5f0f\u5167\u5b9a\u7fa9\u7684\u5340\u57df\u8b8a\u6578\n",
    "    print_twice(cat)"
   ]
  },
  {
   "cell_type": "markdown",
   "id": "e9c42419",
   "metadata": {},
   "source": [
    "\u9019\u88e1\u6709\u4e00\u500b\u4f7f\u7528\u5b83\u7684\u4f8b\u5b50\uff1a"
   ]
  },
  {
   "cell_type": "code",
   "execution_count": null,
   "id": "c481d1fd",
   "metadata": {
    "lines_to_next_cell": 2
   },
   "outputs": [],
   "source": [
    "line1 = '\u6c38\u9060\u8981\u770b\u4e8b\u60c5\u7684 ' # \u8b6f\u8a3b\uff1a\u6b4c\u8a5e\u6539\u70ba\u4e2d\u6587\n",
    "line2 = '\u5149\u660e\u9762\u3002'\n",
    "cat_twice(line1, line2)"
   ]
  },
  {
   "cell_type": "markdown",
   "id": "bb577e69",
   "metadata": {},
   "source": [
    "\u7576 `cat_twice` \u57f7\u884c\u6642\uff0c\u5b83\u6703\u5efa\u7acb\u4e00\u500b\u540d\u70ba `cat` \u7684\u5340\u57df\u8b8a\u6578\uff0c\u9019\u500b\u8b8a\u6578\u5728\u51fd\u5f0f\u7d50\u675f\u6642\u6703\u88ab\u92b7\u6bc0\u3002\n",
    "\u5982\u679c\u6211\u5011\u8a66\u5716\u986f\u793a\u5b83\uff0c\u6703\u5f97\u5230\u4e00\u500b `NameError` (\u540d\u7a31\u932f\u8aa4)\uff1a"
   ]
  },
  {
   "cell_type": "code",
   "execution_count": null,
   "id": "c59c284a",
   "metadata": {
    "lines_to_next_cell": 2
   },
   "outputs": [],
   "source": [
    "get_ipython().run_cell_magic('expect', 'NameError', '\\nprint(cat)\\n') # \u8b6f\u8a3b\uff1a\u9810\u671f NameError\uff0c\u56e0\u70ba cat \u5728\u51fd\u5f0f\u5916\u90e8\u672a\u5b9a\u7fa9"
   ]
  },
  {
   "cell_type": "markdown",
   "id": "95c9c2cb",
   "metadata": {},
   "source": [
    "\u5728\u51fd\u5f0f\u5916\u90e8\uff0c`cat` \u662f\u672a\u5b9a\u7fa9\u7684\u3002\n",
    "\n",
    "\u53c3\u6578\u4e5f\u662f\u5340\u57df\u6027\u7684\u3002\n",
    "\u4f8b\u5982\uff0c\u5728 `cat_twice` \u51fd\u5f0f\u5916\u90e8\uff0c\u4e0d\u5b58\u5728 `part1` \u6216 `part2` \u9019\u6a23\u7684\u6771\u897f\u3002"
   ]
  },
  {
   "cell_type": "markdown",
   "id": "805e8548",
   "metadata": {},
   "source": [
    "## \u5806\u758a\u5716 (Stack diagrams)\n",
    "\n",
    "\u70ba\u4e86\u8ffd\u8e64\u54ea\u4e9b\u8b8a\u6578\u53ef\u4ee5\u5728\u54ea\u88e1\u4f7f\u7528\uff0c\u6709\u6642\u5019\u756b\u4e00\u500b **\u5806\u758a\u5716** (stack diagram) \u6703\u5f88\u6709\u7528\u3002\n",
    "\u5c31\u50cf\u72c0\u614b\u5716\u4e00\u6a23\uff0c\u5806\u758a\u5716\u986f\u793a\u6bcf\u500b\u8b8a\u6578\u7684\u503c\uff0c\u4f46\u5b83\u5011\u4e5f\u986f\u793a\u6bcf\u500b\u8b8a\u6578\u5c6c\u65bc\u54ea\u500b\u51fd\u5f0f\u3002\n",
    "\n",
    "\u6bcf\u500b\u51fd\u5f0f\u90fd\u7531\u4e00\u500b **\u6846\u67b6** (frame) \u8868\u793a\u3002\n",
    "\u6846\u67b6\u662f\u4e00\u500b\u76d2\u5b50\uff0c\u5916\u9762\u6709\u51fd\u5f0f\u7684\u540d\u7a31\uff0c\u88e1\u9762\u6709\u51fd\u5f0f\u7684\u53c3\u6578\u548c\u5340\u57df\u8b8a\u6578\u3002\n",
    "\n",
    "\u9019\u662f\u4e0a\u4e00\u500b\u4f8b\u5b50\u7684\u5806\u758a\u5716\u3002"
   ]
  },
  {
   "cell_type": "code",
   "execution_count": null,
   "id": "b8f4ac78",
   "metadata": {},
   "outputs": [],
   "source": [
    "from diagram import make_frame, Stack # \u8b6f\u8a3b\uff1a\u9019\u662f\u66f8\u4e2d\u7528\u4f86\u756b\u5716\u7684\u5de5\u5177"
   ]
  },
  {
   "cell_type": "code",
   "execution_count": null,
   "id": "c1ad0b67",
   "metadata": {},
   "outputs": [],
   "source": [
    "# \u8b6f\u8a3b\uff1a\u4ee5\u4e0b\u7a0b\u5f0f\u78bc\u662f\u70ba\u4e86\u7522\u751f\u4e00\u500b\u51fd\u5f0f\u547c\u53eb\u5806\u758a\u7684\u793a\u610f\u5716\n",
    "d1 = dict(line1=line1, line2=line2)\n",
    "frame1 = make_frame(d1, name='__main__', dy=-0.3, loc='left') # \u6700\u5916\u5c64\u7684\u6846\u67b6"
   ]
  },
  {
   "cell_type": "code",
   "execution_count": null,
   "id": "89726675",
   "metadata": {},
   "outputs": [],
   "source": [
    "d2 = dict(part1=line1, part2=line2, cat=line1+line2)\n",
    "frame2 = make_frame(d2, name='cat_twice', dy=-0.3,\n",
    "                    offsetx=0.03, loc='left') # cat_twice \u51fd\u5f0f\u7684\u6846\u67b6"
   ]
  },
  {
   "cell_type": "code",
   "execution_count": null,
   "id": "39255787",
   "metadata": {},
   "outputs": [],
   "source": [
    "d3 = dict(string=line1+line2)\n",
    "frame3 = make_frame(d3, name='print_twice',\n",
    "                    offsetx=0.04, offsety=-0.3, loc='left') # print_twice \u51fd\u5f0f\u7684\u6846\u67b6"
   ]
  },
  {
   "cell_type": "code",
   "execution_count": null,
   "id": "b24a0aa7",
   "metadata": {},
   "outputs": [],
   "source": [
    "d4 = {\"?\": line1+line2} # \u8b6f\u8a3b\uff1aprint \u51fd\u5f0f\u7684\u53c3\u6578\u540d\u7a31\u672a\u77e5\uff0c\u7528 ? \u8868\u793a\n",
    "frame4 = make_frame(d4, name='print',\n",
    "                    offsetx=-0.22, offsety=0, loc='left') # print \u51fd\u5f0f\u7684\u6846\u67b6"
   ]
  },
  {
   "cell_type": "code",
   "execution_count": null,
   "id": "bbd0ecb3",
   "metadata": {
    "lines_to_next_cell": 2
   },
   "outputs": [],
   "source": [
    "stack = Stack([frame1, frame2, frame3, frame4], dy=-0.8)"
   ]
  },
  {
   "cell_type": "code",
   "execution_count": null,
   "id": "931ce10a",
   "metadata": {
    "lines_to_next_cell": 2
   },
   "outputs": [],
   "source": [
    "from diagram import diagram, adjust # \u8b6f\u8a3b\uff1a\u9019\u662f\u66f8\u4e2d\u7528\u4f86\u756b\u5716\u7684\u5de5\u5177"
   ]
  },
  {
   "cell_type": "code",
   "execution_count": null,
   "id": "2f8d3b56",
   "metadata": {},
   "outputs": [],
   "source": [
    "width, height, x, y = [3.77, 2.9, 1.1, 2.65] # \u8b6f\u8a3b\uff1a\u5716\u8868\u7684\u7e6a\u88fd\u53c3\u6578\n",
    "ax = diagram(width, height)\n",
    "bbox = stack.draw(ax, x, y)\n",
    "# adjust(x, y, bbox) # \u8b6f\u8a3b\uff1a\u8abf\u6574\u5716\u8868\u4f4d\u7f6e\u7684\u51fd\u5f0f\uff0c\u9019\u88e1\u88ab\u8a3b\u89e3\u6389\u4e86"
   ]
  },
  {
   "cell_type": "code",
   "execution_count": null,
   "id": "1c2dba92",
   "metadata": {
    "lines_to_next_cell": 2
   },
   "outputs": [],
   "source": [
    "import matplotlib.pyplot as plt\n",
    "plt.savefig('chap03_stack_diagram.png', dpi=300) # \u8b6f\u8a3b\uff1a\u5c07\u5716\u8868\u5132\u5b58\u70ba\u5716\u7247"
   ]
  },
  {
   "cell_type": "markdown",
   "id": "6bc8e215",
   "metadata": {},
   "source": [
    "\u6846\u67b6\u4ee5\u5806\u758a\u65b9\u5f0f\u6392\u5217\uff0c\u986f\u793a\u54ea\u500b\u51fd\u5f0f\u547c\u53eb\u4e86\u54ea\u500b\u51fd\u5f0f\uff0c\u4f9d\u6b64\u985e\u63a8\u3002\u5f9e\u5e95\u90e8\u5f80\u4e0a\u770b\uff0c`print` \u88ab `print_twice` \u547c\u53eb\uff0c`print_twice` \u88ab `cat_twice` \u547c\u53eb\uff0c\u800c `cat_twice` \u88ab `__main__` \u547c\u53eb\u2014\u2014`__main__` \u662f\u6700\u9802\u5c64\u6846\u67b6\u7684\u7279\u6b8a\u540d\u7a31\u3002\n",
    "\u7576\u4f60\u5728\u4efb\u4f55\u51fd\u5f0f\u4e4b\u5916\u5efa\u7acb\u8b8a\u6578\u6642\uff0c\u5b83\u5c6c\u65bc `__main__`\u3002\n",
    "\n",
    "\u5728 `print` \u7684\u6846\u67b6\u4e2d\uff0c\u554f\u865f\u8868\u793a\u6211\u5011\u4e0d\u77e5\u9053\u53c3\u6578\u7684\u540d\u7a31\u3002\n",
    "\u5982\u679c\u4f60\u597d\u5947\uff0c\u53ef\u4ee5\u554f\u865b\u64ec\u52a9\u7406\uff1a\u300cPython print \u51fd\u5f0f\u7684\u53c3\u6578\u662f\u4ec0\u9ebc\uff1f\u300d"
   ]
  },
  {
   "cell_type": "markdown",
   "id": "0cb103b4",
   "metadata": {},
   "source": [
    "## \u56de\u6eaf\u8ffd\u8e64 (Tracebacks)\n",
    "\n",
    "\u7576\u51fd\u5f0f\u4e2d\u767c\u751f\u57f7\u884c\u671f\u932f\u8aa4\u6642\uff0cPython \u6703\u986f\u793a\u6b63\u5728\u57f7\u884c\u7684\u51fd\u5f0f\u540d\u7a31\u3001\u547c\u53eb\u5b83\u7684\u51fd\u5f0f\u540d\u7a31\uff0c\u4f9d\u6b64\u985e\u63a8\uff0c\u4e00\u76f4\u5f80\u4e0a\u8ffd\u6eaf\u5806\u758a\u3002\n",
    "\u70ba\u4e86\u770b\u4e00\u500b\u4f8b\u5b50\uff0c\u6211\u6703\u5b9a\u7fa9\u4e00\u500b\u5305\u542b\u932f\u8aa4\u7684 `print_twice` \u7248\u672c\u2014\u2014\u5b83\u8a66\u5716\u5370\u51fa `cat`\uff0c\u800c `cat` \u662f\u53e6\u4e00\u500b\u51fd\u5f0f\u4e2d\u7684\u5340\u57df\u8b8a\u6578\u3002"
   ]
  },
  {
   "cell_type": "code",
   "execution_count": null,
   "id": "93b89dcf",
   "metadata": {
    "lines_to_next_cell": 2
   },
   "outputs": [],
   "source": [
    "def print_twice(string): # \u8b6f\u8a3b\uff1a\u9019\u662f\u6545\u610f\u5beb\u932f\u7684\u7248\u672c\n",
    "    print(cat)            # NameError: cat \u5728\u9019\u500b\u51fd\u5f0f\u4e2d\u672a\u5b9a\u7fa9\n",
    "    print(cat)"
   ]
  },
  {
   "cell_type": "markdown",
   "id": "5199ca2c",
   "metadata": {},
   "source": [
    "\u73fe\u5728\u770b\u770b\u7576\u6211\u5011\u57f7\u884c `cat_twice` \u6642\u6703\u767c\u751f\u4ec0\u9ebc\u3002"
   ]
  },
  {
   "cell_type": "markdown",
   "id": "8b7129ce",
   "metadata": {},
   "source": [
    "\u9019\u500b\u5132\u5b58\u683c\u544a\u8a34 Jupyter \u5728\u767c\u751f\u57f7\u884c\u671f\u932f\u8aa4\u6642\u63d0\u4f9b\u8a73\u7d30\u7684\u9664\u932f\u8cc7\u8a0a\uff0c\n",
    "\u5305\u62ec\u56de\u6eaf\u8ffd\u8e64\u3002"
   ]
  },
  {
   "cell_type": "code",
   "execution_count": null,
   "id": "7b8276ec",
   "metadata": {
    "lines_to_next_cell": 2
   },
   "outputs": [],
   "source": [
    "get_ipython().run_line_magic('xmode', 'Verbose') # \u8b6f\u8a3b\uff1a\u958b\u555f\u8a73\u7d30\u932f\u8aa4\u56de\u5831\u6a21\u5f0f"
   ]
  },
  {
   "cell_type": "code",
   "execution_count": null,
   "id": "2b3cc751",
   "metadata": {
    "lines_to_next_cell": 2
   },
   "outputs": [],
   "source": [
    "get_ipython().run_cell_magic('expect', 'NameError', '\\ncat_twice(line1, line2)\\n') # \u8b6f\u8a3b\uff1a\u9810\u671f NameError"
   ]
  },
  {
   "cell_type": "markdown",
   "id": "4a611778",
   "metadata": {},
   "source": [
    "\u932f\u8aa4\u8a0a\u606f\u5305\u542b\u4e00\u500b **\u56de\u6eaf\u8ffd\u8e64** (traceback)\uff0c\u5b83\u986f\u793a\u932f\u8aa4\u767c\u751f\u6642\u6b63\u5728\u57f7\u884c\u7684\u51fd\u5f0f\u3001\u547c\u53eb\u5b83\u7684\u51fd\u5f0f\uff0c\u4f9d\u6b64\u985e\u63a8\u3002\n",
    "\u5728\u9019\u500b\u4f8b\u5b50\u4e2d\uff0c\u5b83\u986f\u793a `cat_twice` \u547c\u53eb\u4e86 `print_twice`\uff0c\u800c\u932f\u8aa4\u767c\u751f\u5728 `print_twice` \u4e2d\u3002\n",
    "\n",
    "\u56de\u6eaf\u8ffd\u8e64\u4e2d\u51fd\u5f0f\u7684\u9806\u5e8f\u8207\u5806\u758a\u5716\u4e2d\u6846\u67b6\u7684\u9806\u5e8f\u76f8\u540c\u3002\n",
    "\u6b63\u5728\u57f7\u884c\u7684\u51fd\u5f0f\u5728\u6700\u5e95\u90e8\u3002"
   ]
  },
  {
   "cell_type": "markdown",
   "id": "22a60d9f",
   "metadata": {},
   "source": [
    "## \u70ba\u4ec0\u9ebc\u8981\u7528\u51fd\u5f0f\uff1f\n",
    "\n",
    "\u73fe\u5728\u53ef\u80fd\u9084\u4e0d\u592a\u6e05\u695a\u70ba\u4ec0\u9ebc\u8981\u628a\u7a0b\u5f0f\u5206\u6210\u51fd\u5f0f\u9019\u9ebc\u9ebb\u7169\u3002\n",
    "\u6709\u5e7e\u500b\u539f\u56e0\uff1a\n",
    "\n",
    "-   \u5efa\u7acb\u4e00\u500b\u65b0\u51fd\u5f0f\u8b93\u4f60\u6709\u6a5f\u6703\u70ba\u4e00\u7d44\u9673\u8ff0\u53e5\u547d\u540d\uff0c\u9019\u8b93\u4f60\u7684\u7a0b\u5f0f\u66f4\u5bb9\u6613\u95b1\u8b80\u548c\u9664\u932f\u3002\n",
    "\n",
    "-   \u51fd\u5f0f\u53ef\u4ee5\u900f\u904e\u6d88\u9664\u91cd\u8907\u7684\u7a0b\u5f0f\u78bc\u4f86\u8b93\u7a0b\u5f0f\u66f4\u5c0f\u3002\n",
    "    \u4e4b\u5f8c\uff0c\u5982\u679c\u4f60\u8981\u505a\u4fee\u6539\uff0c\u4f60\u53ea\u9700\u8981\u5728\u4e00\u500b\u5730\u65b9\u4fee\u6539\u3002\n",
    "\n",
    "-   \u5c07\u4e00\u500b\u9577\u7a0b\u5f0f\u5206\u6210\u591a\u500b\u51fd\u5f0f\uff0c\u53ef\u4ee5\u8b93\u4f60\u4e00\u6b21\u53ea\u9664\u932f\u4e00\u90e8\u5206\uff0c\u7136\u5f8c\u518d\u628a\u5b83\u5011\u7d44\u5408\u6210\u4e00\u500b\u53ef\u904b\u4f5c\u7684\u6574\u9ad4\u3002\n",
    "\n",
    "-   \u8a2d\u8a08\u826f\u597d\u7684\u51fd\u5f0f\u901a\u5e38\u53ef\u4ee5\u7528\u65bc\u8a31\u591a\u7a0b\u5f0f\u3002\u4e00\u65e6\u4f60\u7de8\u5beb\u4e26\u9664\u932f\u4e86\u4e00\u500b\u51fd\u5f0f\uff0c\u4f60\u5c31\u53ef\u4ee5\u91cd\u8907\u4f7f\u7528\u5b83\u3002"
   ]
  },
  {
   "cell_type": "markdown",
   "id": "f952981b",
   "metadata": {},
   "source": [
    "## \u9664\u932f (Debugging)\n",
    "\n",
    "\u9664\u932f\u53ef\u80fd\u4ee4\u4eba\u6cae\u55aa\uff0c\u4f46\u5b83\u4e5f\u5bcc\u6709\u6311\u6230\u6027\u3001\u6709\u8da3\uff0c\u6709\u6642\u751a\u81f3\u597d\u73a9\u3002\n",
    "\u800c\u4e14\u5b83\u662f\u4f60\u80fd\u5b78\u5230\u7684\u6700\u91cd\u8981\u7684\u6280\u80fd\u4e4b\u4e00\u3002\n",
    "\n",
    "\u5728\u67d0\u4e9b\u65b9\u9762\uff0c\u9664\u932f\u5c31\u50cf\u5075\u63a2\u5de5\u4f5c\u3002\n",
    "\u4f60\u6703\u5f97\u5230\u4e00\u4e9b\u7dda\u7d22\uff0c\u7136\u5f8c\u4f60\u5fc5\u9808\u63a8\u65b7\u51fa\u5c0e\u81f4\u4f60\u770b\u5230\u7684\u7d50\u679c\u7684\u4e8b\u4ef6\u3002\n",
    "\n",
    "\u9664\u932f\u4e5f\u50cf\u5be6\u9a57\u79d1\u5b78\u3002\n",
    "\u4e00\u65e6\u4f60\u5c0d\u554f\u984c\u51fa\u5728\u54ea\u88e1\u6709\u4e86\u60f3\u6cd5\uff0c\u4f60\u5c31\u4fee\u6539\u4f60\u7684\u7a0b\u5f0f\u7136\u5f8c\u518d\u8a66\u4e00\u6b21\u3002\n",
    "\u5982\u679c\u4f60\u7684\u5047\u8a2d\u662f\u6b63\u78ba\u7684\uff0c\u4f60\u5c31\u80fd\u9810\u6e2c\u4fee\u6539\u7684\u7d50\u679c\uff0c\u4f60\u5c31\u96e2\u4e00\u500b\u53ef\u904b\u4f5c\u7684\u7a0b\u5f0f\u66f4\u8fd1\u4e86\u4e00\u6b65\u3002\n",
    "\u5982\u679c\u4f60\u7684\u5047\u8a2d\u662f\u932f\u8aa4\u7684\uff0c\u4f60\u5c31\u5fc5\u9808\u60f3\u51fa\u4e00\u500b\u65b0\u7684\u5047\u8a2d\u3002\n",
    "\n",
    "\u5c0d\u67d0\u4e9b\u4eba\u4f86\u8aaa\uff0c\u7a0b\u5f0f\u8a2d\u8a08\u548c\u9664\u932f\u662f\u540c\u4e00\u4ef6\u4e8b\uff1b\u4e5f\u5c31\u662f\u8aaa\uff0c\u7a0b\u5f0f\u8a2d\u8a08\u5c31\u662f\u9010\u6b65\u9664\u932f\u4e00\u500b\u7a0b\u5f0f\uff0c\u76f4\u5230\u5b83\u80fd\u505a\u4f60\u60f3\u505a\u7684\u4e8b\u3002\n",
    "\u60f3\u6cd5\u662f\uff0c\u4f60\u61c9\u8a72\u5f9e\u4e00\u500b\u53ef\u904b\u4f5c\u7684\u7a0b\u5f0f\u958b\u59cb\uff0c\u7136\u5f8c\u505a\u4e00\u4e9b\u5c0f\u7684\u4fee\u6539\uff0c\u908a\u505a\u908a\u9664\u932f\u3002\n",
    "\n",
    "\u5982\u679c\u4f60\u767c\u73fe\u81ea\u5df1\u82b1\u4e86\u5f88\u591a\u6642\u9593\u5728\u9664\u932f\uff0c\u90a3\u901a\u5e38\u8868\u793a\u4f60\u5728\u958b\u59cb\u6e2c\u8a66\u4e4b\u524d\u5beb\u4e86\u592a\u591a\u7a0b\u5f0f\u78bc\u3002\n",
    "\u5982\u679c\u4f60\u63a1\u53d6\u66f4\u5c0f\u7684\u6b65\u9a5f\uff0c\u4f60\u53ef\u80fd\u6703\u767c\u73fe\u9032\u5ea6\u53cd\u800c\u66f4\u5feb\u3002"
   ]
  },
  {
   "cell_type": "markdown",
   "id": "87667d8b",
   "metadata": {},
   "source": [
    "## \u8a5e\u5f59\u8868\n",
    "\n",
    "**\u51fd\u5f0f\u5b9a\u7fa9 (function definition):**\n",
    "\u4e00\u500b\u5efa\u7acb\u51fd\u5f0f\u7684\u9673\u8ff0\u53e5\u3002\n",
    "\n",
    "**\u6a19\u982d (header):**\n",
    " \u51fd\u5f0f\u5b9a\u7fa9\u7684\u7b2c\u4e00\u884c\u3002\n",
    "\n",
    "**\u4e3b\u9ad4 (body):**\n",
    " \u51fd\u5f0f\u5b9a\u7fa9\u5167\u90e8\u7684\u9673\u8ff0\u53e5\u5e8f\u5217\u3002\n",
    "\n",
    "**\u51fd\u5f0f\u7269\u4ef6 (function object):**\n",
    "\u7531\u51fd\u5f0f\u5b9a\u7fa9\u5efa\u7acb\u7684\u503c\u3002\n",
    "\u51fd\u5f0f\u7684\u540d\u7a31\u662f\u4e00\u500b\u6307\u5411\u51fd\u5f0f\u7269\u4ef6\u7684\u8b8a\u6578\u3002\n",
    "\n",
    "**\u53c3\u6578 (parameter):**\n",
    " \u5728\u51fd\u5f0f\u5167\u90e8\u7528\u4f86\u6307\u5411\u50b3\u5165\u5f15\u6578\u503c\u7684\u540d\u7a31\u3002\n",
    "\n",
    "**\u8ff4\u5708 (loop):**\n",
    " \u4e00\u500b\u57f7\u884c\u4e00\u500b\u6216\u591a\u500b\u9673\u8ff0\u53e5\u7684\u9673\u8ff0\u53e5\uff0c\u901a\u5e38\u6703\u91cd\u8907\u57f7\u884c\u3002\n",
    "\n",
    "**\u5340\u57df\u8b8a\u6578 (local variable):**\n",
    "\u5728\u51fd\u5f0f\u5167\u90e8\u5b9a\u7fa9\u7684\u8b8a\u6578\uff0c\u53ea\u80fd\u5728\u8a72\u51fd\u5f0f\u5167\u90e8\u5b58\u53d6\u3002\n",
    "\n",
    "**\u5806\u758a\u5716 (stack diagram):**\n",
    "\u4e00\u7a2e\u5716\u5f62\u8868\u793a\u6cd5\uff0c\u7528\u4f86\u5448\u73fe\u51fd\u5f0f\u547c\u53eb\u7684\u5806\u758a\u3001\u5b83\u5011\u7684\u8b8a\u6578\u4ee5\u53ca\u9019\u4e9b\u8b8a\u6578\u6240\u6307\u5411\u7684\u503c\u3002\n",
    "\n",
    "**\u6846\u67b6 (frame):**\n",
    " \u5806\u758a\u5716\u4e2d\u7684\u4e00\u500b\u76d2\u5b50\uff0c\u4ee3\u8868\u4e00\u6b21\u51fd\u5f0f\u547c\u53eb\u3002\n",
    " \u5b83\u5305\u542b\u51fd\u5f0f\u7684\u5340\u57df\u8b8a\u6578\u548c\u53c3\u6578\u3002\n",
    "\n",
    "**\u56de\u6eaf\u8ffd\u8e64 (traceback):**\n",
    " \u7576\u4f8b\u5916\u767c\u751f\u6642\uff0c\u5370\u51fa\u6b63\u5728\u57f7\u884c\u7684\u51fd\u5f0f\u5217\u8868\u3002"
   ]
  },
  {
   "cell_type": "markdown",
   "id": "1ca74b2e",
   "metadata": {},
   "source": [
    "## \u7df4\u7fd2"
   ]
  },
  {
   "cell_type": "markdown",
   "id": "a0fa8951",
   "metadata": {},
   "source": [
    "\u9019\u500b\u5132\u5b58\u683c\u544a\u8a34 Jupyter \u5728\u767c\u751f\u57f7\u884c\u671f\u932f\u8aa4\u6642\u63d0\u4f9b\u8a73\u7d30\u7684\u9664\u932f\u8cc7\u8a0a\u3002\n",
    "\u5728\u505a\u7df4\u7fd2\u4e4b\u524d\u5148\u57f7\u884c\u5b83\u3002"
   ]
  },
  {
   "cell_type": "code",
   "execution_count": null,
   "id": "90e2ebd8",
   "metadata": {
    "lines_to_next_cell": 2
   },
   "outputs": [],
   "source": [
    "get_ipython().run_line_magic('xmode', 'Verbose')"
   ]
  },
  {
   "cell_type": "markdown",
   "id": "0af60216",
   "metadata": {},
   "source": [
    "### \u554f\u554f\u865b\u64ec\u52a9\u7406\n",
    "\n",
    "\u51fd\u5f0f\u6216 `for` \u8ff4\u5708\u4e2d\u7684\u9673\u8ff0\u53e5\uff0c\u4f9d\u7167\u6163\u4f8b\uff0c\u6703\u7e2e\u6392\u56db\u500b\u7a7a\u683c\u3002\n",
    "\u4f46\u4e26\u975e\u6240\u6709\u4eba\u90fd\u540c\u610f\u9019\u500b\u6163\u4f8b\u3002\n",
    "\u5982\u679c\u4f60\u5c0d\u9019\u5834\u5927\u8faf\u8ad6\u7684\u6b77\u53f2\u611f\u5230\u597d\u5947\uff0c\u53ef\u4ee5\u554f\u865b\u64ec\u52a9\u7406\u300c\u544a\u8a34\u6211\u95dc\u65bc Python \u4e2d\u7684\u7a7a\u683c\u548c\u5b9a\u4f4d\u5b57\u5143\uff08tabs\uff09\u300d\u3002\n",
    "\n",
    "\u865b\u64ec\u52a9\u7406\u5728\u7de8\u5beb\u5c0f\u578b\u51fd\u5f0f\u65b9\u9762\u76f8\u7576\u4e0d\u932f\u3002\n",
    "\n",
    "1. \u8acb\u4f60\u6700\u559c\u6b61\u7684\u865b\u64ec\u52a9\u7406\u300c\u5beb\u4e00\u500b\u53eb\u505a repeat \u7684\u51fd\u5f0f\uff0c\u5b83\u63a5\u53d7\u4e00\u500b\u5b57\u4e32\u548c\u4e00\u500b\u6574\u6578\uff0c\u7136\u5f8c\u5c07\u8a72\u5b57\u4e32\u5370\u51fa\u6307\u5b9a\u7684\u6b21\u6578\u3002\u300d\n",
    "\n",
    "2. \u5982\u679c\u7d50\u679c\u4f7f\u7528\u4e86 `for` \u8ff4\u5708\uff0c\u4f60\u53ef\u4ee5\u554f\uff1a\u300c\u4f60\u80fd\u5728\u4e0d\u7528 `for` \u8ff4\u5708\u7684\u60c5\u6cc1\u4e0b\u505a\u5230\u55ce\uff1f\u300d\n",
    "\n",
    "3. \u5f9e\u672c\u7ae0\u4e2d\u6311\u9078\u4efb\u4f55\u5176\u4ed6\u51fd\u5f0f\uff0c\u8acb\u865b\u64ec\u52a9\u7406\u7de8\u5beb\u5b83\u3002\u6311\u6230\u5728\u65bc\u8981\u8db3\u5920\u7cbe\u78ba\u5730\u63cf\u8ff0\u51fd\u5f0f\u624d\u80fd\u5f97\u5230\u4f60\u60f3\u8981\u7684\u7d50\u679c\u3002\u4f7f\u7528\u4f60\u5728\u672c\u66f8\u5230\u76ee\u524d\u70ba\u6b62\u5b78\u5230\u7684\u8a5e\u5f59\u3002\n",
    "\n",
    "\u865b\u64ec\u52a9\u7406\u5728\u9664\u932f\u51fd\u5f0f\u65b9\u9762\u4e5f\u76f8\u7576\u4e0d\u932f\u3002\n",
    "\n",
    "1. \u554f\u865b\u64ec\u52a9\u7406\u9019\u500b\u7248\u672c\u7684 `print_twice` \u6709\u4ec0\u9ebc\u554f\u984c\u3002\n",
    "\n",
    "    ```python\n",
    "    def print_twice(string):\n",
    "        print(cat)\n",
    "        print(cat)\n",
    "    ```\n",
    "\n",
    "\u5982\u679c\u4f60\u5728\u4e0b\u9762\u7684\u4efb\u4f55\u7df4\u7fd2\u4e2d\u9047\u5230\u56f0\u96e3\uff0c\u53ef\u4ee5\u8003\u616e\u5411\u865b\u64ec\u52a9\u7406\u5c0b\u6c42\u5354\u52a9\u3002"
   ]
  },
  {
   "cell_type": "markdown",
   "id": "01d280ff",
   "metadata": {},
   "source": [
    "### \u7df4\u7fd2\n",
    "\n",
    "\u5beb\u4e00\u500b\u540d\u70ba `print_right` \u7684\u51fd\u5f0f\uff0c\u5b83\u63a5\u53d7\u4e00\u500b\u540d\u70ba `text` \u7684\u5b57\u4e32\u4f5c\u70ba\u53c3\u6578\uff0c\u4e26\u5370\u51fa\u8a72\u5b57\u4e32\uff0c\u4f7f\u5176\u524d\u9762\u6709\u8db3\u5920\u7684\u7a7a\u683c\uff0c\u8b93\u5b57\u4e32\u7684\u6700\u5f8c\u4e00\u500b\u5b57\u6bcd\u4f4d\u65bc\u986f\u793a\u7684\u7b2c 40 \u6b04\u3002"
   ]
  },
  {
   "cell_type": "markdown",
   "id": "123db4b4",
   "metadata": {},
   "source": [
    "\u89e3\u7b54"
   ]
  },
  {
   "cell_type": "code",
   "execution_count": null,
   "id": "89ab64c8",
   "metadata": {
    "lines_to_next_cell": 2
   },
   "outputs": [],
   "source": [
    "def print_right(text):\n",
    "    \"\"\"\u5c07\u6587\u5b57\u5370\u51fa\uff0c\u4f7f\u5176\u6700\u5f8c\u4e00\u500b\u5b57\u6bcd\u4f4d\u65bc\u7b2c 40 \u6b04\u3002\n",
    "    \n",
    "    text: \u5b57\u4e32\n",
    "    \"\"\"\n",
    "    columns = 40 # \u8b6f\u8a3b\uff1a\u76ee\u6a19\u6b04\u4f4d\u5bec\u5ea6\n",
    "    space = ' '\n",
    "    num_spaces = columns - len(text) # \u8b6f\u8a3b\uff1a\u8a08\u7b97\u9700\u8981\u591a\u5c11\u500b\u524d\u5c0e\u7a7a\u683c\n",
    "    print(space * num_spaces + text) # \u8b6f\u8a3b\uff1a\u5370\u51fa\u7a7a\u683c\u52a0\u4e0a\u6587\u5b57"
   ]
  },
  {
   "cell_type": "markdown",
   "id": "3c9710df",
   "metadata": {},
   "source": [
    "\u63d0\u793a\uff1a\u4f7f\u7528 `len` \u51fd\u5f0f\u3001\u5b57\u4e32\u4e32\u63a5\u904b\u7b97\u5b50 (`+`) \u548c\u5b57\u4e32\u91cd\u8907\u904b\u7b97\u5b50 (`*`)\u3002\n",
    "\n",
    "\u9019\u88e1\u6709\u4e00\u500b\u4f8b\u5b50\uff0c\u5c55\u793a\u5b83\u61c9\u8a72\u5982\u4f55\u904b\u4f5c\u3002"
   ]
  },
  {
   "cell_type": "code",
   "execution_count": null,
   "id": "34e7577e",
   "metadata": {
    "lines_to_next_cell": 2
   },
   "outputs": [],
   "source": [
    "print_right(\"\u8499\u63d0\") # \u8b6f\u8a3b\uff1a\u6539\u70ba\u4e2d\u6587\n",
    "print_right(\"\u6d3e\u68ee\u7684\")\n",
    "print_right(\"\u98db\u884c\u99ac\u6232\u5718\")"
   ]
  },
  {
   "cell_type": "markdown",
   "id": "a03ed6fe",
   "metadata": {},
   "source": [
    "### \u7df4\u7fd2\n",
    "\n",
    "\u5beb\u4e00\u4e2a\u53eb\u505a `triangle` \u7684\u51fd\u5f0f\uff0c\u5b83\u63a5\u53d7\u4e00\u4e2a\u5b57\u4e32\u548c\u4e00\u4e2a\u6574\u6570\uff0c\u5e76\u753b\u51fa\u4e00\u4e2a\u7ed9\u5b9a\u9ad8\u5ea6\u7684\u91d1\u5b57\u5854\uff0c\u8be5\u91d1\u5b57\u5854\u7531\u5b57\u4e32\u7684\u526f\u672c\u7ec4\u6210\u3002\u8fd9\u662f\u4e00\u4e2a\u9ad8\u5ea6\u4e3a `5` \u5c42\u7684\u91d1\u5b57\u5854\u793a\u4f8b\uff0c\u4f7f\u7528\u5b57\u4e32 `'L'`\u3002"
   ]
  },
  {
   "cell_type": "markdown",
   "id": "036934a9",
   "metadata": {},
   "source": [
    "\u89e3\u7b54"
   ]
  },
  {
   "cell_type": "code",
   "execution_count": null,
   "id": "701a6313",
   "metadata": {
    "lines_to_next_cell": 2
   },
   "outputs": [],
   "source": [
    "def triangle(string, height):\n",
    "    \"\"\"\u900f\u904e\u91cd\u8907\u5370\u51fa\u5b57\u4e32\u4f86\u88fd\u4f5c\u4e09\u89d2\u5f62\u72c0\u3002\n",
    "    \n",
    "    string: \u8981\u91cd\u8907\u7684\u5b57\u5143\n",
    "    height: \u4e09\u89d2\u5f62\u7684\u884c\u6578\n",
    "    \"\"\"\n",
    "    for i in range(height + 1): # \u8b6f\u8a3b\uff1arange(height+1) \u6703\u7522\u751f 0 \u5230 height \u7684\u6578\u5b57\n",
    "        print(string * i)     # \u8b6f\u8a3b\uff1a\u7b2c i \u884c\u5370\u51fa i \u500b string (i \u5f9e 0 \u958b\u59cb)"
   ]
  },
  {
   "cell_type": "code",
   "execution_count": null,
   "id": "cfeee41c",
   "metadata": {
    "lines_to_next_cell": 2
   },
   "outputs": [],
   "source": [
    "triangle('L', 5)"
   ]
  },
  {
   "cell_type": "markdown",
   "id": "5582e803",
   "metadata": {},
   "source": [
    "### \u7df4\u7fd2\n",
    "\n",
    "\u5beb\u4e00\u500b\u53eb\u505a `rectangle` \u7684\u51fd\u5f0f\uff0c\u5b83\u63a5\u53d7\u4e00\u500b\u5b57\u4e32\u548c\u5169\u500b\u6574\u6578\uff0c\u4e26\u756b\u51fa\u4e00\u500b\u7d66\u5b9a\u5bec\u5ea6\u548c\u9ad8\u5ea6\u7684\u77e9\u5f62\uff0c\u8a72\u77e9\u5f62\u7531\u5b57\u4e32\u7684\u526f\u672c\u7d44\u6210\u3002\u9019\u662f\u4e00\u500b\u5bec\u5ea6\u70ba `5`\u3001\u9ad8\u5ea6\u70ba `4` \u7684\u77e9\u5f62\u793a\u4f8b\uff0c\u7531\u5b57\u4e32 `'H'` \u7d44\u6210\u3002"
   ]
  },
  {
   "cell_type": "markdown",
   "id": "689c8b66",
   "metadata": {},
   "source": [
    "\u89e3\u7b54"
   ]
  },
  {
   "cell_type": "code",
   "execution_count": null,
   "id": "702c2f16",
   "metadata": {
    "lines_to_next_cell": 2
   },
   "outputs": [],
   "source": [
    "def rectangle(string, width, height):\n",
    "    \"\"\"\u900f\u904e\u91cd\u8907\u5370\u51fa\u5b57\u4e32\u4f86\u88fd\u4f5c\u77e9\u5f62\u3002\n",
    "    \n",
    "    string: \u8981\u91cd\u8907\u7684\u5b57\u5143\n",
    "    width: \u6bcf\u884c\u91cd\u8907\u7684\u6b21\u6578\n",
    "    height: \u884c\u6578\n",
    "    \"\"\"\n",
    "    for i in range(height): # \u8b6f\u8a3b\uff1a\u91cd\u8907 height \u6b21\n",
    "        print(string * width) # \u8b6f\u8a3b\uff1a\u6bcf\u884c\u5370\u51fa width \u500b string"
   ]
  },
  {
   "cell_type": "code",
   "execution_count": null,
   "id": "277c8de0",
   "metadata": {
    "lines_to_next_cell": 2
   },
   "outputs": [],
   "source": [
    "rectangle('H', 5, 4)"
   ]
  },
  {
   "cell_type": "markdown",
   "id": "3c798f90",
   "metadata": {},
   "source": [
    "### \u7df4\u7fd2\n",
    "\n",
    "\u6b4c\u66f2\u300c99 \u74f6\u5564\u9152\u300d\u4ee5\u4e0b\u5217\u9019\u6bb5\u6b4c\u8a5e\u958b\u59cb\uff1a\n",
    "\n",
    "> \u7246\u4e0a\u6709 99 \u74f6\u5564\u9152 (99 bottles of beer on the wall)\n",
    "> 99 \u74f6\u5564\u9152 (99 bottles of beer)\n",
    "> \u62ff\u4e0b\u4e00\u74f6\uff0c\u50b3\u4e0b\u53bb (Take one down, pass it around)\n",
    "> \u7246\u4e0a\u9084\u6709 98 \u74f6\u5564\u9152 (98 bottles of beer on the wall)\n",
    "\n",
    "\u7136\u5f8c\u7b2c\u4e8c\u6bb5\u6b4c\u8a5e\u76f8\u540c\uff0c\u53ea\u662f\u5b83\u5f9e 98 \u74f6\u958b\u59cb\uff0c\u5230 97 \u74f6\u7d50\u675f\u3002\u9019\u9996\u6b4c\u6703\u4e00\u76f4\u6301\u7e8c\u2014\u2014\u6301\u7e8c\u975e\u5e38\u4e45\u2014\u2014\u76f4\u5230\u7246\u4e0a\u6c92\u6709\u5564\u9152\u70ba\u6b62\u3002\n",
    "\n",
    "\u5beb\u4e00\u500b\u53eb\u505a `bottle_verse` \u7684\u51fd\u5f0f\uff0c\u5b83\u63a5\u53d7\u4e00\u500b\u6578\u5b57\u4f5c\u70ba\u53c3\u6578\uff0c\u4e26\u986f\u793a\u4ee5\u8a72\u6578\u5b57\u74f6\u6578\u958b\u59cb\u7684\u90a3\u6bb5\u6b4c\u8a5e\u3002\n",
    "\n",
    "\u63d0\u793a\uff1a\u8003\u616e\u5f9e\u4e00\u500b\u53ef\u4ee5\u5370\u51fa\u6b4c\u8a5e\u7b2c\u4e00\u884c\u3001\u7b2c\u4e8c\u884c\u6216\u6700\u5f8c\u4e00\u884c\u7684\u51fd\u5f0f\u958b\u59cb\uff0c\u7136\u5f8c\u7528\u5b83\u4f86\u5beb `bottle_verse`\u3002"
   ]
  },
  {
   "cell_type": "markdown",
   "id": "7d5c9dc2",
   "metadata": {},
   "source": [
    "\u89e3\u7b54"
   ]
  },
  {
   "cell_type": "code",
   "execution_count": null,
   "id": "a83ee5bd",
   "metadata": {
    "lines_to_next_cell": 2
   },
   "outputs": [],
   "source": [
    "def bottle_line(n, suffix):\n",
    "    \"\"\"\u986f\u793a\u300c99 \u74f6\u5564\u9152\u300d\u4e2d\u7684\u4e00\u884c\u6b4c\u8a5e\u3002\n",
    "    \n",
    "    n: \u6574\u6578\uff0c\u74f6\u5b50\u6578\u91cf\n",
    "    suffix: \u5b57\u4e32\uff0c\u884c\u5c3e\u7684\u88dc\u5145\u6587\u5b57 (\u4f8b\u5982 \"on the wall\" \u6216\u7a7a\u5b57\u4e32)\n",
    "    \"\"\"\n",
    "    print(n, '\u74f6\u5564\u9152', suffix) # \u8b6f\u8a3b\uff1a\u6539\u70ba\u4e2d\u6587"
   ]
  },
  {
   "cell_type": "markdown",
   "id": "28e4961b",
   "metadata": {},
   "source": [
    "\u89e3\u7b54"
   ]
  },
  {
   "cell_type": "code",
   "execution_count": null,
   "id": "41a0abc8",
   "metadata": {
    "lines_to_next_cell": 2
   },
   "outputs": [],
   "source": [
    "def bottle_verse(n):\n",
    "    \"\"\"\u986f\u793a\u300c99 \u74f6\u5564\u9152\u300d\u4e2d\u7684\u4e00\u6bb5\u6b4c\u8a5e\u3002\n",
    "    \n",
    "    n: \u6574\u6578\uff0c\u9019\u6bb5\u6b4c\u8a5e\u958b\u59cb\u6642\u7684\u74f6\u5b50\u6578\u91cf\n",
    "    \"\"\"\n",
    "    bottle_line(n, '\u5728\u7246\u4e0a') # \u8b6f\u8a3b\uff1a\u6539\u70ba\u4e2d\u6587\n",
    "    bottle_line(n, '')\n",
    "    print('\u62ff\u4e0b\u4e00\u74f6\uff0c\u50b3\u4e0b\u53bb') # \u8b6f\u8a3b\uff1a\u6539\u70ba\u4e2d\u6587\n",
    "    bottle_line(n-1, '\u5728\u7246\u4e0a')"
   ]
  },
  {
   "cell_type": "markdown",
   "id": "ae882c81",
   "metadata": {},
   "source": [
    "\u4f7f\u7528\u9019\u500b\u51fd\u5f0f\u547c\u53eb\u4f86\u986f\u793a\u7b2c\u4e00\u6bb5\u6b4c\u8a5e\u3002"
   ]
  },
  {
   "cell_type": "code",
   "execution_count": null,
   "id": "a233c860",
   "metadata": {
    "lines_to_next_cell": 2
   },
   "outputs": [],
   "source": [
    "bottle_verse(99)"
   ]
  },
  {
   "cell_type": "markdown",
   "id": "e998eefb",
   "metadata": {},
   "source": [
    "\u5982\u679c\u4f60\u60f3\u5370\u51fa\u6574\u9996\u6b4c\uff0c\u4f60\u53ef\u4ee5\u4f7f\u7528\u9019\u500b `for` \u8ff4\u5708\uff0c\u5b83\u6703\u5f9e `99` \u5012\u6578\u5230 `1`\u3002\n",
    "\u4f60\u4e0d\u9700\u8981\u5b8c\u5168\u7406\u89e3\u9019\u500b\u4f8b\u5b50\u2014\u2014\u6211\u5011\u7a0d\u5f8c\u6703\u5b78\u5230\u66f4\u591a\u95dc\u65bc `for` \u8ff4\u5708\u548c `range` \u51fd\u5f0f\u7684\u77e5\u8b58\u3002"
   ]
  },
  {
   "cell_type": "code",
   "execution_count": null,
   "id": "c95c9191",
   "metadata": {
    "lines_to_next_cell": 2
   },
   "outputs": [],
   "source": [
    "for n in range(99, 0, -1): # \u8b6f\u8a3b\uff1arange(99, 0, -1) \u6703\u5f9e 99 \u5012\u6578\u5230 1 (\u4e0d\u5305\u542b 0)\uff0c\u6bcf\u6b21\u6e1b 1\n",
    "    bottle_verse(n)\n",
    "    print() # \u8b6f\u8a3b\uff1a\u6bcf\u6bb5\u6b4c\u8a5e\u5f8c\u5370\u4e00\u500b\u7a7a\u884c"
   ]
  },
  {
   "cell_type": "markdown",
   "id": "e95c12c5",
   "metadata": {},
   "source": [
    "In[ ]:"
   ]
  },
  {
   "cell_type": "markdown",
   "id": "728fbdd9",
   "metadata": {},
   "source": [
    "[Think Python: 3rd Edition](https://allendowney.github.io/ThinkPython/index.html)\n",
    "\n",
    "Copyright 2024 [Allen B. Downey](https://allendowney.com)\n",
    "\n",
    "\u7a0b\u5f0f\u78bc\u6388\u6b0a: [MIT License](https://mit-license.org/)\n",
    "\n",
    "\u6587\u5b57\u6388\u6b0a: [Creative Commons Attribution-NonCommercial-ShareAlike 4.0 International](https://creativecommons.org/licenses/by-nc-sa/4.0/)"
   ]
  }
 ],
 "metadata": {
  "jupytext": {
   "cell_metadata_filter": "-all",
   "encoding": "# coding: utf-8",
   "executable": "/usr/bin/env python",
   "main_language": "python",
   "notebook_metadata_filter": "-all"
  }
 },
 "nbformat": 4,
 "nbformat_minor": 5
}