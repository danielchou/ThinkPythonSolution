{
 "cells": [
  {
   "cell_type": "markdown",
   "id": "96c87e7b",
   "metadata": {},
   "source": [
    "從 chap17.ipynb 轉換而來\n",
    "使用 ipynb_to_py.py 腳本自動轉換"
   ]
  },
  {
   "cell_type": "markdown",
   "id": "ad791fe3",
   "metadata": {},
   "source": [
    "你可以從以下網站訂購《Think Python 3e》的紙本版和電子書：\n",
    "[Bookshop.org](https://bookshop.org/a/98697/9781098155438) 和\n",
    "[Amazon](https://www.amazon.com/_/dp/1098155432?smid=ATVPDKIKX0DER&_encoding=UTF8&tag=oreilly20-20&_encoding=UTF8&tag=greenteapre01-20&linkCode=ur2&linkId=e2a529f94920295d27ec8a06e757dc7c&camp=1789&creative=9325)."
   ]
  },
  {
   "cell_type": "code",
   "execution_count": null,
   "id": "3b16241a",
   "metadata": {
    "lines_to_next_cell": 1
   },
   "outputs": [],
   "source": [
    "from os.path import basename, exists"
   ]
  },
  {
   "cell_type": "code",
   "execution_count": null,
   "id": "f87f33bc",
   "metadata": {
    "lines_to_next_cell": 1
   },
   "outputs": [],
   "source": [
    "def download(url):\n",
    "    filename = basename(url)\n",
    "    if not exists(filename):\n",
    "        from urllib.request import urlretrieve\n",
    "\n",
    "        local, _ = urlretrieve(url, filename)\n",
    "        print(\"已下載 \" + str(local)) # 把下載訊息也中文化\n",
    "    return filename"
   ]
  },
  {
   "cell_type": "code",
   "execution_count": null,
   "id": "ad034ef6",
   "metadata": {},
   "outputs": [],
   "source": [
    "download('https://github.com/AllenDowney/ThinkPython/raw/v3/thinkpython.py');\n",
    "download('https://github.com/AllenDowney/ThinkPython/raw/v3/diagram.py');"
   ]
  },
  {
   "cell_type": "code",
   "execution_count": null,
   "id": "bace72f6",
   "metadata": {
    "lines_to_next_cell": 1
   },
   "outputs": [],
   "source": [
    "import thinkpython"
   ]
  },
  {
   "cell_type": "markdown",
   "id": "2516d230",
   "metadata": {},
   "source": [
    "# 繼承 (Inheritance)\n",
    "\n",
    "物件導向程式設計中最常被聯想到的語言特性是 **繼承 (inheritance)**。\n",
    "繼承是一種能力，讓你可以定義一個新類別，作為現有類別的修改版本。\n",
    "在本章中，我將使用代表撲克牌、牌堆和撲克牌型的類別來示範繼承。\n",
    "如果你不玩撲克牌，別擔心 —— 我會告訴你你需要知道的。"
   ]
  },
  {
   "cell_type": "markdown",
   "id": "60e4ffed",
   "metadata": {},
   "source": [
    "## 表示紙牌 (Representing cards)\n",
    "\n",
    "一副標準的撲克牌有 52 張 —— 每張牌都屬於四種花色 (suit) 之一和十三種點數 (rank) 之一。\n",
    "花色是黑桃 (Spades)、紅心 (Hearts)、方塊 (Diamonds) 和梅花 (Clubs)。\n",
    "(譯註：台灣常見說法是 黑桃、紅心(愛心)、方塊(紅磚)、梅花(花))\n",
    "點數是 A (Ace)、2、3、4、5、6、7、8、9、10、J (Jack)、Q (Queen) 和 K (King)。\n",
    "根據你玩的遊戲不同，A 可以比 K 大，也可以比 2 小。\n",
    "\n",
    "如果我們想定義一個新的物件來表示一張撲克牌，很明顯屬性應該是 `rank` (點數) 和 `suit` (花色)。\n",
    "但這些屬性的型別應該是什麼，就比較不明顯了。\n",
    "一種可能是使用像 `'Spade'` (黑桃) 這樣的字串來表示花色，用 `'Queen'` (皇后) 這樣的字串來表示點數。\n",
    "這種實作方式的一個問題是，要比較牌的點數或花色大小會比較困難。\n",
    "\n",
    "另一種方法是用整數來 **編碼 (encode)** 點數和花色。\n",
    "在這裡，「編碼」的意思是我們要定義數字和花色之間，或者數字和點數之間的對應關係。\n",
    "這種編碼並不是為了保密 (那叫做「加密 (encryption)」)。"
   ]
  },
  {
   "cell_type": "markdown",
   "id": "9292de7d",
   "metadata": {},
   "source": [
    "例如，下表顯示了花色和對應的整數代碼：\n",
    "\n",
    "\n",
    "| 花色 (Suit) | 代碼 (Code) |\n",
    "| --- | --- |\n",
    "|  黑桃 (Spades)     |   3  |\n",
    "|  紅心 (Hearts)     |   2  |\n",
    "|  方塊 (Diamonds)   |   1  |\n",
    "|  梅花 (Clubs)      |   0  |\n",
    "\n",
    "有了這種編碼，我們就可以透過比較它們的代碼來比較花色的大小。\n",
    "(例如，黑桃(3) > 紅心(2) > 方塊(1) > 梅花(0) 是一個常見的撲克牌花色大小順序)"
   ]
  },
  {
   "cell_type": "markdown",
   "id": "5846c2e5",
   "metadata": {},
   "source": [
    "為了編碼點數，我們會用整數 `2` 代表點數 `2`，`3` 代表 `3`，依此類推，直到 `10`。\n",
    "下表顯示了人頭牌 (face cards) 的代碼。\n",
    "\n",
    "\n",
    "| 點數 (Rank) | 代碼 (Code) |\n",
    "| --- | --- |\n",
    "|  J (Jack)   |   11  |\n",
    "|  Q (Queen)  |   12  |\n",
    "|  K (King)   |   13  |\n",
    "\n",
    "而我們可以用 `1` 或 `14` 來代表 A (Ace)，取決於我們想讓它被視為比其他點數小還是大。\n",
    "\n",
    "為了表示這些編碼，我們會使用兩個字串列表，一個包含花色的名稱，另一個包含點數的名稱。\n",
    "\n",
    "這裡是一個表示撲克牌的類別定義，它把這些字串列表當作 **類別變數 (class variables)**，\n",
    "類別變數是定義在類別定義內部，但不在任何方法內部的變數。"
   ]
  },
  {
   "cell_type": "code",
   "execution_count": 1,
   "id": "77d9750c",
   "metadata": {
    "lines_to_next_cell": 1
   },
   "outputs": [],
   "source": [
    "class Card:\n",
    "    \"\"\"表示一張標準的撲克牌。\"\"\"\n",
    "\n",
    "    # suit_names 和 rank_names 是類別變數，所有 Card 實體共享它們\n",
    "    suit_names = ['梅花', '方塊', '紅心', '黑桃'] # Clubs, Diamonds, Hearts, Spades (按代碼0-3順序)\n",
    "    rank_names = [\n",
    "        None, 'A', '2', '3', '4', '5', '6', '7',\n",
    "        '8', '9', '10', 'J', 'Q', 'K', 'A' # 索引1對應A(小), 索引14對應A(大)\n",
    "    ]"
   ]
  },
  {
   "cell_type": "markdown",
   "id": "8c639701",
   "metadata": {},
   "source": [
    "`rank_names` 的第一個元素是 `None`，因為沒有點數為零的牌。\n",
    "透過加入 `None` 作為佔位符，我們得到一個列表，它具有一個很好的特性：\n",
    "索引 `2` 對應到字串 `'2'`，依此類推。\n",
    "(索引 `1` 對應 `'A'`，索引 `11` 對應 `'J'` 等)\n",
    "\n",
    "類別變數是與類別本身相關聯的，而不是與類別的實體相關聯，所以我們可以這樣存取它們。"
   ]
  },
  {
   "cell_type": "code",
   "execution_count": 2,
   "id": "77952bd7",
   "metadata": {},
   "outputs": [
    {
     "name": "stdout",
     "output_type": "stream",
     "text": [
      "Card.suit_names: ['梅花', '方塊', '紅心', '黑桃']\n"
     ]
    }
   ],
   "source": [
    "print(f\"Card.suit_names: {Card.suit_names}\")"
   ]
  },
  {
   "cell_type": "markdown",
   "id": "34f273f6",
   "metadata": {},
   "source": [
    "我們可以用 `suit_names` 來查詢一個花色代碼並得到對應的字串。"
   ]
  },
  {
   "cell_type": "code",
   "execution_count": 3,
   "id": "7972b799",
   "metadata": {},
   "outputs": [
    {
     "name": "stdout",
     "output_type": "stream",
     "text": [
      "Card.suit_names[0]: 梅花\n"
     ]
    }
   ],
   "source": [
    "print(f\"Card.suit_names[0]: {Card.suit_names[0]}\") # 梅花"
   ]
  },
  {
   "cell_type": "markdown",
   "id": "562cb5da",
   "metadata": {},
   "source": [
    "並用 `rank_names` 來查詢一個點數代碼。"
   ]
  },
  {
   "cell_type": "code",
   "execution_count": null,
   "id": "66b41480",
   "metadata": {
    "lines_to_next_cell": 1
   },
   "outputs": [],
   "source": [
    "print(f\"Card.rank_names[11]: {Card.rank_names[11]}\") # J"
   ]
  },
  {
   "cell_type": "markdown",
   "id": "2e864703",
   "metadata": {},
   "source": [
    "## 紙牌屬性 (Card attributes)\n",
    "\n",
    "這是 `Card` 類別的 `__init__` 方法 —— 它接收 `suit` (花色代碼) 和 `rank` (點數代碼)\n",
    "作為參數，並將它們指派給同名的屬性。"
   ]
  },
  {
   "cell_type": "code",
   "execution_count": null,
   "id": "9b20c230",
   "metadata": {
    "lines_to_next_cell": 1
   },
   "outputs": [],
   "source": [
    "%%add_method_to Card\n",
    "# 重新定義 Card 類別以加入 __init__ 方法\n",
    "class Card:\n",
    "    \"\"\"表示一張標準的撲克牌。\"\"\"\n",
    "    suit_names = ['梅花', '方塊', '紅心', '黑桃']\n",
    "    rank_names = [\n",
    "        None, 'A', '2', '3', '4', '5', '6', '7',\n",
    "        '8', '9', '10', 'J', 'Q', 'K', 'A'\n",
    "    ]\n",
    "\n",
    "    def __init__(self, suit_code, rank_code): # 參數改名以區分屬性\n",
    "        self.suit = suit_code # 花色代碼 (0-3)\n",
    "        self.rank = rank_code # 點數代碼 (例如 2-10, J=11, Q=12, K=13, A=1或14)"
   ]
  },
  {
   "cell_type": "markdown",
   "id": "55142974",
   "metadata": {},
   "source": [
    "現在我們可以像這樣建立一個 `Card` 物件。"
   ]
  },
  {
   "cell_type": "code",
   "execution_count": null,
   "id": "9822cc20",
   "metadata": {},
   "outputs": [],
   "source": [
    "queen_of_diamonds = Card(1, 12) # 方塊Q (花色代碼1是方塊，點數代碼12是Q)"
   ]
  },
  {
   "cell_type": "markdown",
   "id": "dd3c8626",
   "metadata": {},
   "source": [
    "我們可以用新的實體來存取屬性。"
   ]
  },
  {
   "cell_type": "code",
   "execution_count": null,
   "id": "ef40ec91",
   "metadata": {},
   "outputs": [],
   "source": [
    "print(f\"queen_of_diamonds 的花色代碼: {queen_of_diamonds.suit}, 點數代碼: {queen_of_diamonds.rank}\")"
   ]
  },
  {
   "cell_type": "markdown",
   "id": "b3551a61",
   "metadata": {},
   "source": [
    "用實體來存取類別變數也是合法的。"
   ]
  },
  {
   "cell_type": "code",
   "execution_count": null,
   "id": "5953d203",
   "metadata": {
    "lines_to_next_cell": 1
   },
   "outputs": [],
   "source": [
    "print(f\"透過實體存取 suit_names: {queen_of_diamonds.suit_names}\")"
   ]
  },
  {
   "cell_type": "markdown",
   "id": "798d0939",
   "metadata": {},
   "source": [
    "但是如果你使用類別名稱來存取，會更清楚地表明它們是類別變數，而不是實體屬性。"
   ]
  },
  {
   "cell_type": "markdown",
   "id": "d4861dbd",
   "metadata": {},
   "source": [
    "## 印出紙牌 (Printing cards)\n",
    "\n",
    "這是 `Card` 物件的 `__str__` 方法。"
   ]
  },
  {
   "cell_type": "code",
   "execution_count": null,
   "id": "e4aa349d",
   "metadata": {},
   "outputs": [],
   "source": [
    "%%add_method_to Card\n",
    "# 再次重新定義 Card 類別以加入 __str__ 方法\n",
    "class Card:\n",
    "    \"\"\"表示一張標準的撲克牌。\"\"\"\n",
    "    suit_names = ['梅花', '方塊', '紅心', '黑桃']\n",
    "    rank_names = [\n",
    "        None, 'A', '2', '3', '4', '5', '6', '7',\n",
    "        '8', '9', '10', 'J', 'Q', 'K', 'A'\n",
    "    ]\n",
    "\n",
    "    def __init__(self, suit_code, rank_code):\n",
    "        self.suit = suit_code\n",
    "        self.rank = rank_code\n",
    "\n",
    "    def __str__(self):\n",
    "        # 從類別變數中根據代碼查出名稱\n",
    "        rank_name_str = Card.rank_names[self.rank]\n",
    "        suit_name_str = Card.suit_names[self.suit]\n",
    "        return f'{suit_name_str}{rank_name_str}' # 例如：方塊Q (Hearts Queen / 紅心Q)\n",
    "                                                # 或是中文習慣：梅花A, 方塊K 等"
   ]
  },
  {
   "cell_type": "markdown",
   "id": "79f9e12f",
   "metadata": {},
   "source": [
    "當我們印出一個 `Card` 時，Python 會呼叫 `__str__` 方法來得到一個人類可讀的牌的表示法。"
   ]
  },
  {
   "cell_type": "code",
   "execution_count": null,
   "id": "cbb4e5a7",
   "metadata": {},
   "outputs": [],
   "source": [
    "print(f\"印出 queen_of_diamonds: {queen_of_diamonds}\") # queen_of_diamonds 仍是舊版 Card 實體\n",
    "# 為了測試新的 __str__，需要用新版 Card 建立實體\n",
    "queen_of_diamonds_new = Card(1, 12)\n",
    "print(f\"印出新版 queen_of_diamonds_new: {queen_of_diamonds_new}\") # 應該是 方塊Q"
   ]
  },
  {
   "cell_type": "markdown",
   "id": "d01e8db8",
   "metadata": {},
   "source": [
    "下面是 `Card` 類別物件和 Card 實體的圖表。\n",
    "`Card` 是一個類別物件，所以它的型別是 `type`。\n",
    "`queen_of_diamonds_new` 是 `Card` 的一個實體，所以它的型別是 `Card`。\n",
    "為了節省空間，我沒有畫出 `suit_names` 和 `rank_names` 的內容。\n",
    "(圖表會顯示 Card (type) 包含 suit_names, rank_names；\n",
    " queen_of_diamonds_new (Card) 包含 suit=1, rank=12)"
   ]
  },
  {
   "cell_type": "code",
   "execution_count": null,
   "id": "55a8f1f5",
   "metadata": {},
   "outputs": [],
   "source": [
    "from diagram import Binding, Value, Frame, Stack # diagram 模組元件"
   ]
  },
  {
   "cell_type": "code",
   "execution_count": null,
   "id": "7c1d2596",
   "metadata": {},
   "outputs": [],
   "source": [
    "bindings_class_vars = [\n",
    "    Binding(Value('suit_names'), draw_value=False), # draw_value=False 表示不畫出列表內容\n",
    "    Binding(Value('rank_names'), draw_value=False)\n",
    "]\n",
    "frame1_card_class = Frame(bindings_class_vars, name='type', dy=-0.5, offsetx=0.77) # Card 類別本身是 type 型別\n",
    "binding1_card_class_obj = Binding(Value('Card'), frame1_card_class) # Card 類別物件"
   ]
  },
  {
   "cell_type": "code",
   "execution_count": null,
   "id": "c4e01510",
   "metadata": {},
   "outputs": [],
   "source": [
    "bindings_instance_attrs = [\n",
    "    Binding(Value('suit'), Value(queen_of_diamonds_new.suit)),\n",
    "    Binding(Value('rank'), Value(queen_of_diamonds_new.rank))\n",
    "]\n",
    "frame2_card_instance = Frame(bindings_instance_attrs, name='Card', dy=-0.3, offsetx=0.33) # 實體的型別是 Card\n",
    "binding2_card_instance_obj = Binding(Value('queen_new'), frame2_card_instance) # 書中用 'queen'"
   ]
  },
  {
   "cell_type": "code",
   "execution_count": null,
   "id": "214c02c4",
   "metadata": {
    "lines_to_next_cell": 2
   },
   "outputs": [],
   "source": [
    "stack_card_diag = Stack([binding1_card_class_obj, binding2_card_instance_obj], dy=-1.2)"
   ]
  },
  {
   "cell_type": "code",
   "execution_count": null,
   "id": "0266176c",
   "metadata": {},
   "outputs": [],
   "source": [
    "from diagram import diagram, Bbox, make_list, adjust # diagram 模組元件"
   ]
  },
  {
   "cell_type": "code",
   "execution_count": null,
   "id": "a01ee68d",
   "metadata": {},
   "outputs": [],
   "source": [
    "width_card_diag, height_card_diag, x_card_diag, y_card_diag = [2.11, 2.14, 0.35, 1.76]\n",
    "ax_card_diag = diagram(width_card_diag, height_card_diag)\n",
    "bbox_stack_card = stack_card_diag.draw(ax_card_diag, x_card_diag, y_card_diag)"
   ]
  },
  {
   "cell_type": "markdown",
   "id": "1ee8441b",
   "metadata": {
    "lines_to_next_cell": 2
   },
   "source": [
    "模擬列表物件的繪製 (不顯示內容)\n",
    "value_list_placeholder1 = make_list([])\n",
    "bbox_list1 = value_list_placeholder1.draw(ax_card_diag, x_card_diag + 1.66, y_card_diag)\n",
    "value_list_placeholder2 = make_list([])\n",
    "bbox_list2 = value_list_placeholder2.draw(ax_card_diag, x_card_diag + 1.66, y_card_diag - 0.5)\n",
    "bbox_card_union = Bbox.union([bbox_stack_card, bbox_list1, bbox_list2])\n",
    "adjust(x_card_diag, y_card_diag, bbox_card_union)"
   ]
  },
  {
   "cell_type": "markdown",
   "id": "817a759c",
   "metadata": {},
   "source": [
    "每個 `Card` 實體都有自己的 `suit` 和 `rank` 屬性，\n",
    "但只有一個 `Card` 類別物件，也只有一份類別變數 `suit_names` 和 `rank_names` 的副本。"
   ]
  },
  {
   "cell_type": "markdown",
   "id": "4f340d4d",
   "metadata": {},
   "source": [
    "## 比較紙牌 (Comparing cards)\n",
    "\n",
    "假設我們建立第二個 `Card` 物件，它有相同的花色和點數。"
   ]
  },
  {
   "cell_type": "code",
   "execution_count": null,
   "id": "4e886ab0",
   "metadata": {},
   "outputs": [],
   "source": [
    "queen_of_diamonds2 = Card(1, 12) # 另一個方塊Q\n",
    "print(f\"queen_of_diamonds2: {queen_of_diamonds2}\")"
   ]
  },
  {
   "cell_type": "markdown",
   "id": "89259d78",
   "metadata": {},
   "source": [
    "如果我們用 `==` 運算子比較它們，它會檢查 `queen_of_diamonds_new` 和 `queen_of_diamonds2`\n",
    "是否參照同一個物件。"
   ]
  },
  {
   "cell_type": "code",
   "execution_count": null,
   "id": "1b905222",
   "metadata": {
    "lines_to_next_cell": 1
   },
   "outputs": [],
   "source": [
    "print(f\"queen_of_diamonds_new == queen_of_diamonds2 (預設): {queen_of_diamonds_new == queen_of_diamonds2}\") # False"
   ]
  },
  {
   "cell_type": "markdown",
   "id": "bd623af1",
   "metadata": {},
   "source": [
    "它們不是，所以回傳 `False`。\n",
    "我們可以透過定義特殊方法 `__eq__` 來改變這種行為。"
   ]
  },
  {
   "cell_type": "code",
   "execution_count": null,
   "id": "7dd09b9c",
   "metadata": {
    "lines_to_next_cell": 1
   },
   "outputs": [],
   "source": [
    "%%add_method_to Card\n",
    "# 再次重新定義 Card 類別以加入 __eq__ 方法\n",
    "class Card:\n",
    "    \"\"\"表示一張標準的撲克牌。\"\"\"\n",
    "    suit_names = ['梅花', '方塊', '紅心', '黑桃']\n",
    "    rank_names = [\n",
    "        None, 'A', '2', '3', '4', '5', '6', '7',\n",
    "        '8', '9', '10', 'J', 'Q', 'K', 'A'\n",
    "    ]\n",
    "\n",
    "    def __init__(self, suit_code, rank_code):\n",
    "        self.suit = suit_code\n",
    "        self.rank = rank_code\n",
    "\n",
    "    def __str__(self):\n",
    "        rank_name_str = Card.rank_names[self.rank]\n",
    "        suit_name_str = Card.suit_names[self.suit]\n",
    "        return f'{suit_name_str}{rank_name_str}'\n",
    "\n",
    "    def __eq__(self, other_card_eq): # 參數改名\n",
    "        # 首先檢查 other_card_eq 是否也是 Card 物件\n",
    "        if not isinstance(other_card_eq, Card):\n",
    "            return NotImplemented # 表示無法與此類型比較\n",
    "        # 如果花色和點數都相同，則兩張牌等值\n",
    "        return self.suit == other_card_eq.suit and self.rank == other_card_eq.rank"
   ]
  },
  {
   "cell_type": "markdown",
   "id": "5b8d57eb",
   "metadata": {},
   "source": [
    "`__eq__` 接收兩個 `Card` 物件作為參數，如果它們有相同的花色和點數，\n",
    "即使它們不是同一個物件，也回傳 `True`。\n",
    "換句話說，它檢查它們是否等值 (equivalent)，即使它們並非同一 (identical)。\n",
    "\n",
    "當我們對 `Card` 物件使用 `==` 運算子時，Python 會呼叫 `__eq__` 方法。"
   ]
  },
  {
   "cell_type": "code",
   "execution_count": null,
   "id": "e6f743aa",
   "metadata": {},
   "outputs": [],
   "source": [
    "# 重新建立實體，使用包含 __eq__ 的 Card 類別\n",
    "queen_eq_test1 = Card(1, 12)\n",
    "queen_eq_test2 = Card(1, 12)\n",
    "print(f\"queen_eq_test1 == queen_eq_test2 (使用 __eq__): {queen_eq_test1 == queen_eq_test2}\") # True"
   ]
  },
  {
   "cell_type": "markdown",
   "id": "a7c9a7bf",
   "metadata": {},
   "source": [
    "作為第二個測試，我們建立一張花色相同但點數不同的牌。"
   ]
  },
  {
   "cell_type": "code",
   "execution_count": null,
   "id": "53a7f7db",
   "metadata": {},
   "outputs": [],
   "source": [
    "six_of_diamonds = Card(1, 6) # 方塊6\n",
    "print(f\"six_of_diamonds: {six_of_diamonds}\")"
   ]
  },
  {
   "cell_type": "markdown",
   "id": "57f15cda",
   "metadata": {},
   "source": [
    "我們可以確認 `queen_eq_test1` 和 `six_of_diamonds` 不等值。"
   ]
  },
  {
   "cell_type": "code",
   "execution_count": null,
   "id": "30dc0ac0",
   "metadata": {},
   "outputs": [],
   "source": [
    "print(f\"queen_eq_test1 == six_of_diamonds: {queen_eq_test1 == six_of_diamonds}\") # False"
   ]
  },
  {
   "cell_type": "markdown",
   "id": "1ad2020c",
   "metadata": {},
   "source": [
    "如果我們使用 `!=` 運算子，Python 會調用一個叫做 `__ne__` 的特殊方法 (如果不等於)，如果它存在的話。\n",
    "否則，它會調用 `__eq__` 並將結果反轉 —— 所以如果 `__eq__` 回傳 `True`，\n",
    "`!=` 運算子的結果就是 `False`。"
   ]
  },
  {
   "cell_type": "code",
   "execution_count": null,
   "id": "532623fd",
   "metadata": {},
   "outputs": [],
   "source": [
    "print(f\"queen_eq_test1 != queen_eq_test2: {queen_eq_test1 != queen_eq_test2}\") # False"
   ]
  },
  {
   "cell_type": "code",
   "execution_count": null,
   "id": "3528067a",
   "metadata": {},
   "outputs": [],
   "source": [
    "print(f\"queen_eq_test1 != six_of_diamonds: {queen_eq_test1 != six_of_diamonds}\") # True"
   ]
  },
  {
   "cell_type": "markdown",
   "id": "aef73cee",
   "metadata": {},
   "source": [
    "現在假設我們想比較兩張牌的大小。\n",
    "如果我們使用其中一個關係運算子 (如 <, >)，我們會得到一個 `TypeError`。\n",
    "(因為預設情況下，Python 不知道如何比較自訂物件的大小)"
   ]
  },
  {
   "cell_type": "code",
   "execution_count": null,
   "id": "34d69467",
   "metadata": {},
   "outputs": [],
   "source": [
    "%%expect TypeError\n",
    "# queen_eq_test1 < queen_eq_test2 # TypeError: '<' not supported between instances of 'Card' and 'Card'"
   ]
  },
  {
   "cell_type": "markdown",
   "id": "1dca575d",
   "metadata": {},
   "source": [
    "要改變 `<` 運算子的行為，我們可以定義一個叫做 `__lt__` 的特殊方法，\n",
    "它是 \"less than\" (小於) 的縮寫。\n",
    "為了這個例子，我們假設花色比點數重要 —— 所以所有黑桃都大於所有紅心，\n",
    "紅心大於所有方塊，依此類推。\n",
    "如果兩張牌花色相同，則點數較高的那張較大。\n",
    "\n",
    "為了實作這個邏輯，我們會使用下面的方法，它回傳一個包含牌的花色和點數的元組 (按此順序)。"
   ]
  },
  {
   "cell_type": "code",
   "execution_count": null,
   "id": "68c2dea9",
   "metadata": {
    "lines_to_next_cell": 1
   },
   "outputs": [],
   "source": [
    "%%add_method_to Card\n",
    "# 再次重新定義 Card 類別以加入 to_tuple 和 __lt__\n",
    "class Card:\n",
    "    \"\"\"表示一張標準的撲克牌。\"\"\"\n",
    "    suit_names = ['梅花', '方塊', '紅心', '黑桃']\n",
    "    rank_names = [\n",
    "        None, 'A', '2', '3', '4', '5', '6', '7',\n",
    "        '8', '9', '10', 'J', 'Q', 'K', 'A'\n",
    "    ]\n",
    "\n",
    "    def __init__(self, suit_code, rank_code):\n",
    "        self.suit = suit_code\n",
    "        self.rank = rank_code\n",
    "\n",
    "    def __str__(self):\n",
    "        return f'{Card.suit_names[self.suit]}{Card.rank_names[self.rank]}'\n",
    "\n",
    "    def __eq__(self, other_card_eq):\n",
    "        if not isinstance(other_card_eq, Card): return NotImplemented\n",
    "        return self.suit == other_card_eq.suit and self.rank == other_card_eq.rank\n",
    "\n",
    "    def to_tuple(self): # 新增的方法\n",
    "        \"\"\"回傳一個 (花色代碼, 點數代碼) 的元組，用於比較。\"\"\"\n",
    "        return (self.suit, self.rank)"
   ]
  },
  {
   "cell_type": "markdown",
   "id": "1f29d0db",
   "metadata": {},
   "source": [
    "我們可以用這個方法來寫 `__lt__`。"
   ]
  },
  {
   "cell_type": "code",
   "execution_count": null,
   "id": "b0960d48",
   "metadata": {},
   "outputs": [],
   "source": [
    "%%add_method_to Card\n",
    "# 接續上面的 Card 定義，加入 __lt__\n",
    "    def __lt__(self, other_card_lt): # 參數改名\n",
    "        if not isinstance(other_card_lt, Card):\n",
    "            return NotImplemented\n",
    "        # Python 可以直接比較元組，它會逐個元素比較\n",
    "        return self.to_tuple() < other_card_lt.to_tuple()"
   ]
  },
  {
   "cell_type": "markdown",
   "id": "29853a8e",
   "metadata": {},
   "source": [
    "元組比較會先比較每個元組的第一個元素 (代表花色)。\n",
    "如果它們相同，它會比較第二個元素 (代表點數)。\n",
    "\n",
    "現在如果我們使用 `<` 運算子，它會調用 `__lt__` 方法。"
   ]
  },
  {
   "cell_type": "code",
   "execution_count": null,
   "id": "e86c1f9f",
   "metadata": {},
   "outputs": [],
   "source": [
    "# 重新建立實體，使用包含 __lt__ 的 Card 類別\n",
    "card_six_diamonds = Card(1, 6)  # 方塊6 (suit=1, rank=6)\n",
    "card_queen_diamonds = Card(1, 12) # 方塊Q (suit=1, rank=12)\n",
    "card_ace_hearts = Card(2, 1)     # 紅心A (suit=2, rank=1,假設A最小)"
   ]
  },
  {
   "cell_type": "code",
   "execution_count": null,
   "id": "6d5958d7",
   "metadata": {
    "lines_to_next_cell": 2
   },
   "outputs": [],
   "source": [
    "print(f\"\\n--- 測試紙牌比較 (<) ---\")\n",
    "print(f\"{card_six_diamonds} < {card_queen_diamonds}: {card_six_diamonds < card_queen_diamonds}\") # True (1,6) < (1,12)\n",
    "print(f\"{card_queen_diamonds} < {card_ace_hearts}: {card_queen_diamonds < card_ace_hearts}\") # True (1,12) < (2,1) (因為紅心 > 方塊)"
   ]
  },
  {
   "cell_type": "markdown",
   "id": "cf98a05d",
   "metadata": {},
   "source": [
    "如果我們使用 `>` 運算子，它會調用一個叫做 `__gt__` (大於) 的特殊方法，如果它存在的話。\n",
    "否則，它會調用 `__lt__` 並交換參數的順序 (或者說，如果 a > b 等同於 b < a)。\n",
    "(實際上，如果 `__gt__` 未定義，Python 會嘗試 `not (a < b or a == b)` 或者 `other < self` 等反射操作)\n",
    "為了明確，最好也定義 `__gt__` 或所有相關的比較方法。"
   ]
  },
  {
   "cell_type": "code",
   "execution_count": null,
   "id": "4966b84a",
   "metadata": {},
   "outputs": [],
   "source": [
    "# 測試相等情況下的 <\n",
    "print(f\"{card_queen_diamonds} < {Card(1,12)} (同張牌): {card_queen_diamonds < Card(1,12)}\") # False"
   ]
  },
  {
   "cell_type": "code",
   "execution_count": null,
   "id": "60bf5e7f",
   "metadata": {
    "lines_to_next_cell": 1
   },
   "outputs": [],
   "source": [
    "# 測試 >\n",
    "print(f\"{card_queen_diamonds} > {card_six_diamonds}: {card_queen_diamonds > card_six_diamonds}\") # True (會隱式使用 __lt__)"
   ]
  },
  {
   "cell_type": "markdown",
   "id": "38163b44",
   "metadata": {},
   "source": [
    "最後，如果我們使用 `<=` 運算子，它會調用一個叫做 `__le__` (小於等於) 的特殊方法。\n",
    "如果沒有 __le__，Python 會嘗試 __lt__ 和 __eq__。"
   ]
  },
  {
   "cell_type": "code",
   "execution_count": null,
   "id": "314681f0",
   "metadata": {},
   "outputs": [],
   "source": [
    "%%add_method_to Card\n",
    "# 再次重新定義 Card 類別以加入 __le__\n",
    "# (為了簡潔，我們把所有比較方法都加到一個完整的 Card 定義中)\n",
    "class Card: # 最終的 Card 類別 (目前為止)\n",
    "    \"\"\"表示一張標準的撲克牌。\"\"\"\n",
    "    suit_names = ['梅花', '方塊', '紅心', '黑桃']\n",
    "    rank_names = [\n",
    "        None, 'A', '2', '3', '4', '5', '6', '7',\n",
    "        '8', '9', '10', 'J', 'Q', 'K', 'A'\n",
    "    ]\n",
    "\n",
    "    def __init__(self, suit_code, rank_code):\n",
    "        self.suit = suit_code\n",
    "        self.rank = rank_code\n",
    "\n",
    "    def __str__(self):\n",
    "        return f'{Card.suit_names[self.suit]}{Card.rank_names[self.rank]}'\n",
    "\n",
    "    def __eq__(self, other):\n",
    "        if not isinstance(other, Card): return NotImplemented\n",
    "        return self.suit == other.suit and self.rank == other.rank\n",
    "\n",
    "    def to_tuple(self):\n",
    "        return (self.suit, self.rank)\n",
    "\n",
    "    def __lt__(self, other):\n",
    "        if not isinstance(other, Card): return NotImplemented\n",
    "        return self.to_tuple() < other.to_tuple()\n",
    "\n",
    "    def __le__(self, other): # 小於等於\n",
    "        if not isinstance(other, Card): return NotImplemented\n",
    "        return self.to_tuple() <= other.to_tuple()\n",
    "\n",
    "    # 為了完整性，通常也會定義 __gt__ 和 __ge__\n",
    "    # 或者使用 functools.total_ordering 裝飾器 (如果已定義 __eq__ 和一個如 __lt__ 的方法)\n",
    "    def __gt__(self, other):\n",
    "        if not isinstance(other, Card): return NotImplemented\n",
    "        return self.to_tuple() > other.to_tuple()\n",
    "\n",
    "    def __ge__(self, other):\n",
    "        if not isinstance(other, Card): return NotImplemented\n",
    "        return self.to_tuple() >= other.to_tuple()"
   ]
  },
  {
   "cell_type": "code",
   "execution_count": null,
   "id": "ac9c38dd",
   "metadata": {},
   "outputs": [],
   "source": [
    "# 所以我們可以檢查一張牌是否小於或等於另一張。\n",
    "# 重新建立實體\n",
    "card_q_le_test1 = Card(1, 12) # 方塊Q\n",
    "card_q_le_test2 = Card(1, 12) # 另一個方塊Q\n",
    "card_s_le_test = Card(1, 6)   # 方塊6"
   ]
  },
  {
   "cell_type": "code",
   "execution_count": null,
   "id": "2ec7ac20",
   "metadata": {},
   "outputs": [],
   "source": [
    "print(f\"{card_q_le_test1} <= {card_q_le_test2}: {card_q_le_test1 <= card_q_le_test2}\") # True"
   ]
  },
  {
   "cell_type": "code",
   "execution_count": null,
   "id": "eb48ffc9",
   "metadata": {},
   "outputs": [],
   "source": [
    "print(f\"{card_q_le_test1} <= {card_s_le_test}: {card_q_le_test1 <= card_s_le_test}\") # False (Q > 6)"
   ]
  },
  {
   "cell_type": "markdown",
   "id": "9a204505",
   "metadata": {},
   "source": [
    "如果我們使用 `>=` 運算子，它會使用 `__ge__` (大於等於)，如果它存在的話。\n",
    "否則，它會調用 `__le__` 並交換參數順序 (或者說 a >= b 等同於 b <= a)。\n",
    "(同樣，Python 有其回退機制，但明確定義更好)"
   ]
  },
  {
   "cell_type": "code",
   "execution_count": null,
   "id": "f33161d3",
   "metadata": {
    "lines_to_next_cell": 1
   },
   "outputs": [],
   "source": [
    "print(f\"{card_q_le_test1} >= {card_s_le_test}: {card_q_le_test1 >= card_s_le_test}\") # True"
   ]
  },
  {
   "cell_type": "markdown",
   "id": "52d1d7c2",
   "metadata": {},
   "source": [
    "如同我們定義的，這些方法是完整的，因為我們可以比較任何兩個 `Card` 物件；\n",
    "也是一致的，因為不同運算子的結果不會互相矛盾。\n",
    "有了這兩個特性，我們可以說 `Card` 物件是 **完全有序的 (totally ordered)**。\n",
    "這意味著，我們很快就會看到，它們可以被排序。"
   ]
  },
  {
   "cell_type": "markdown",
   "id": "52d738f2",
   "metadata": {},
   "source": [
    "## 牌堆 (Decks)\n",
    "\n",
    "現在我們有了代表紙牌的物件，讓我們來定義代表牌堆的物件。\n",
    "下面是 `Deck` 的類別定義，其 `__init__` 方法接收一個 `Card` 物件列表作為參數，\n",
    "並將其指派給一個叫做 `cards` 的屬性。"
   ]
  },
  {
   "cell_type": "code",
   "execution_count": null,
   "id": "727346af",
   "metadata": {
    "lines_to_next_cell": 1
   },
   "outputs": [],
   "source": [
    "class Deck:\n",
    "    \"\"\"表示一副牌堆。\"\"\"\n",
    "    def __init__(self, cards_list): # 參數改名\n",
    "        self.cards = cards_list # cards 是一個 Card 物件的列表"
   ]
  },
  {
   "cell_type": "markdown",
   "id": "b95c0bcf",
   "metadata": {},
   "source": [
    "要建立一個包含標準牌堆中 52 張牌的列表，我們會使用下面的靜態方法。\n",
    "(靜態方法屬於類別本身，而不是實體)"
   ]
  },
  {
   "cell_type": "code",
   "execution_count": null,
   "id": "9c52d04b",
   "metadata": {
    "lines_to_next_cell": 1
   },
   "outputs": [],
   "source": [
    "%%add_method_to Deck\n",
    "# 重新定義 Deck 以加入 make_cards 靜態方法\n",
    "class Deck:\n",
    "    \"\"\"表示一副牌堆。\"\"\"\n",
    "    def __init__(self, cards_list):\n",
    "        self.cards = cards_list\n",
    "\n",
    "    @staticmethod # 標準的靜態方法標記法\n",
    "    def make_cards():\n",
    "        \"\"\"建立並回傳一副標準的 52 張撲克牌的列表。\"\"\"\n",
    "        cards_deck = []\n",
    "        # 遍歷四種花色 (0-3)\n",
    "        for suit_code_deck in range(4):\n",
    "            # 遍歷點數 (2 到 14，其中 A 用 14 表示較大)\n",
    "            # Card.rank_names 的有效索引是 1(A_small) 到 13(K), 14(A_big)\n",
    "            # 標準牌組通常 A,2,3,4,5,6,7,8,9,10,J,Q,K\n",
    "            # 如果 A 當作 14，則從 2 到 14 (13 張牌)\n",
    "            # Card 的 __init__ 接收的是 rank_code\n",
    "            # 假設我們要的是 2,3,...,10,J,Q,K,A(大)\n",
    "            # rank_codes 可以是 2,3,...,10,11,12,13,14\n",
    "            for rank_code_deck in range(2, 15): # 2 到 14\n",
    "                card_obj = Card(suit_code_deck, rank_code_deck) # 使用最新定義的 Card\n",
    "                cards_deck.append(card_obj)\n",
    "        return cards_deck"
   ]
  },
  {
   "cell_type": "markdown",
   "id": "6f4949ad",
   "metadata": {},
   "source": [
    "在 `make_cards` 中，外層迴圈遍歷花色從 `0` 到 `3`。\n",
    "內層迴圈遍歷點數從 `2` 到 `14` —— 其中 `14` 代表比 K 大的 A。\n",
    "每次迭代都會用目前的花色和點數建立一個新的 `Card`，並將其附加到 `cards_deck`。\n",
    "\n",
    "這是我們如何建立一個紙牌列表和一個包含它的 `Deck` 物件。"
   ]
  },
  {
   "cell_type": "code",
   "execution_count": null,
   "id": "6d06fcf7",
   "metadata": {
    "lines_to_next_cell": 1
   },
   "outputs": [],
   "source": [
    "standard_cards_list = Deck.make_cards() # 呼叫靜態方法\n",
    "standard_deck = Deck(standard_cards_list)\n",
    "print(f\"標準牌堆中的牌數: {len(standard_deck.cards)}\")"
   ]
  },
  {
   "cell_type": "markdown",
   "id": "6d1abee3",
   "metadata": {},
   "source": [
    "它如預期般包含 52 張牌。"
   ]
  },
  {
   "cell_type": "markdown",
   "id": "f1681207",
   "metadata": {},
   "source": [
    "## 印出牌堆 (Printing the deck)\n",
    "\n",
    "這是 `Deck` 的 `__str__` 方法。"
   ]
  },
  {
   "cell_type": "code",
   "execution_count": null,
   "id": "3ada9c37",
   "metadata": {},
   "outputs": [],
   "source": [
    "%%add_method_to Deck\n",
    "# 重新定義 Deck 以加入 __str__ 方法\n",
    "class Deck:\n",
    "    \"\"\"表示一副牌堆。\"\"\"\n",
    "    def __init__(self, cards_list):\n",
    "        self.cards = cards_list\n",
    "\n",
    "    @staticmethod\n",
    "    def make_cards():\n",
    "        cards_deck = []\n",
    "        for suit_code_deck in range(4):\n",
    "            for rank_code_deck in range(2, 15):\n",
    "                card_obj = Card(suit_code_deck, rank_code_deck)\n",
    "                cards_deck.append(card_obj)\n",
    "        return cards_deck\n",
    "\n",
    "    def __str__(self):\n",
    "        \"\"\"回傳牌堆中所有牌的字串表示法，每張牌一行。\"\"\"\n",
    "        # Card 物件本身有 __str__ 方法，所以可以直接轉換\n",
    "        card_strings_list = [str(card_item) for card_item in self.cards]\n",
    "        return '\\n'.join(card_strings_list) # 用換行符串接所有牌的字串"
   ]
  },
  {
   "cell_type": "markdown",
   "id": "bcb5a3c8",
   "metadata": {},
   "source": [
    "這個方法展示了一種有效累加大字串的方式 ——\n",
    "先建立一個字串列表，然後使用字串的 `join` 方法。\n",
    "\n",
    "我們用一個只包含兩張牌的牌堆來測試這個方法。"
   ]
  },
  {
   "cell_type": "code",
   "execution_count": null,
   "id": "040a3187",
   "metadata": {},
   "outputs": [],
   "source": [
    "# 需要用最新定義的 Card 類別建立 queen_eq_test1 和 six_of_diamonds\n",
    "card_q_for_small_deck = Card(1, 12) # 方塊Q\n",
    "card_s_for_small_deck = Card(1, 6)  # 方塊6\n",
    "small_deck_example = Deck([card_q_for_small_deck, card_s_for_small_deck])"
   ]
  },
  {
   "cell_type": "markdown",
   "id": "83bd8acd",
   "metadata": {},
   "source": [
    "如果我們呼叫 `str()`，它會調用 `__str__`。"
   ]
  },
  {
   "cell_type": "code",
   "execution_count": null,
   "id": "b88e4caa",
   "metadata": {},
   "outputs": [],
   "source": [
    "str_of_small_deck = str(small_deck_example)\n",
    "print(f\"str(small_deck_example) 的結果 (包含換行符):\")\n",
    "print(repr(str_of_small_deck)) # 用 repr 印出才能看到 \\n"
   ]
  },
  {
   "cell_type": "markdown",
   "id": "4e0aaba1",
   "metadata": {},
   "source": [
    "當 Jupyter 顯示一個字串時，它會顯示字串的「表示形式 (representational form)」，\n",
    "其中換行符用序列 `\\n` 表示。\n",
    "\n",
    "然而，如果我們印出結果，Jupyter 會顯示字串的「可列印形式 (printable form)」，\n",
    "其中換行符會被印成實際的換行空白。"
   ]
  },
  {
   "cell_type": "code",
   "execution_count": null,
   "id": "092be90a",
   "metadata": {
    "lines_to_next_cell": 1
   },
   "outputs": [],
   "source": [
    "print(\"\\nprint(small_deck_example) 的結果 (實際換行):\")\n",
    "print(small_deck_example)"
   ]
  },
  {
   "cell_type": "markdown",
   "id": "4d1fcbf6",
   "metadata": {},
   "source": [
    "所以紙牌會分行顯示。"
   ]
  },
  {
   "cell_type": "markdown",
   "id": "aeecef08",
   "metadata": {},
   "source": [
    "## 新增、移除、洗牌和排序 (Add, remove, shuffle and sort)\n",
    "\n",
    "為了發牌，我們希望有一個方法可以從牌堆中移除一張牌並回傳它。\n",
    "列表的 `pop` 方法提供了一個方便的方式來做到這點。\n",
    "(pop 預設移除並回傳列表最後一個元素)"
   ]
  },
  {
   "cell_type": "code",
   "execution_count": null,
   "id": "0fd2a6fc",
   "metadata": {
    "lines_to_next_cell": 1
   },
   "outputs": [],
   "source": [
    "%%add_method_to Deck\n",
    "# 重新定義 Deck 以加入 take_card, put_card, shuffle, sort\n",
    "class Deck:\n",
    "    \"\"\"表示一副牌堆。\"\"\"\n",
    "    def __init__(self, cards_list):\n",
    "        self.cards = cards_list # cards 是一個 Card 物件的列表\n",
    "\n",
    "    @staticmethod\n",
    "    def make_cards():\n",
    "        cards_deck = []\n",
    "        for suit_code_deck in range(4):\n",
    "            for rank_code_deck in range(2, 15):\n",
    "                card_obj = Card(suit_code_deck, rank_code_deck)\n",
    "                cards_deck.append(card_obj)\n",
    "        return cards_deck\n",
    "\n",
    "    def __str__(self):\n",
    "        card_strings_list = [str(card_item) for card_item in self.cards]\n",
    "        return '\\n'.join(card_strings_list)\n",
    "\n",
    "    def take_card(self):\n",
    "        \"\"\"從牌堆頂部 (列表末端) 移除並回傳一張牌。\"\"\"\n",
    "        if self.cards: # 確保牌堆不是空的\n",
    "            return self.cards.pop()\n",
    "        else:\n",
    "            print(\"警告: 牌堆已空，無法抽牌。\")\n",
    "            return None"
   ]
  },
  {
   "cell_type": "code",
   "execution_count": null,
   "id": "374bd12b",
   "metadata": {},
   "outputs": [],
   "source": [
    "# 我們這樣使用它。\n",
    "# 重新建立 standard_deck 以使用包含新方法的 Deck\n",
    "deck_for_ops = Deck(Deck.make_cards())\n",
    "print(f\"\\n--- 牌堆操作測試 ---\")\n",
    "print(f\"抽牌前牌堆數量: {len(deck_for_ops.cards)}\")\n",
    "taken_card = deck_for_ops.take_card()\n",
    "print(f\"抽出的牌: {taken_card}\")"
   ]
  },
  {
   "cell_type": "markdown",
   "id": "d9e59dac",
   "metadata": {},
   "source": [
    "我們可以確認牌堆裡剩下 `51` 張牌。"
   ]
  },
  {
   "cell_type": "code",
   "execution_count": null,
   "id": "bfafddf3",
   "metadata": {},
   "outputs": [],
   "source": [
    "print(f\"抽牌後牌堆數量: {len(deck_for_ops.cards)}\")"
   ]
  },
  {
   "cell_type": "markdown",
   "id": "9ad88ebb",
   "metadata": {},
   "source": [
    "要加回一張牌，我們可以用列表的 `append` 方法。\n",
    "(append 會加到列表末端，效果類似把牌放到牌堆底部)"
   ]
  },
  {
   "cell_type": "code",
   "execution_count": null,
   "id": "d778ba5e",
   "metadata": {
    "lines_to_next_cell": 2
   },
   "outputs": [],
   "source": [
    "%%add_method_to Deck\n",
    "# 接續上面的 Deck 定義，加入 put_card\n",
    "    def put_card(self, card_to_put): # 參數改名\n",
    "        \"\"\"將一張牌加入到牌堆底部 (列表末端)。\"\"\"\n",
    "        if isinstance(card_to_put, Card):\n",
    "            self.cards.append(card_to_put)\n",
    "        else:\n",
    "            print(f\"警告: {card_to_put} 不是有效的 Card 物件，無法加入牌堆。\")"
   ]
  },
  {
   "cell_type": "markdown",
   "id": "80e31508",
   "metadata": {},
   "source": [
    "作為例子，我們可以把剛才抽出的牌放回去。"
   ]
  },
  {
   "cell_type": "code",
   "execution_count": null,
   "id": "f5c8bedb",
   "metadata": {
    "lines_to_next_cell": 2
   },
   "outputs": [],
   "source": [
    "if taken_card: # 確保之前有成功抽出牌\n",
    "    deck_for_ops.put_card(taken_card)\n",
    "print(f\"放回牌後牌堆數量: {len(deck_for_ops.cards)}\")"
   ]
  },
  {
   "cell_type": "markdown",
   "id": "2a3cfe70",
   "metadata": {},
   "source": [
    "要洗牌，我們可以用 `random` 模組中的 `shuffle` 函數："
   ]
  },
  {
   "cell_type": "code",
   "execution_count": null,
   "id": "6fc396c3",
   "metadata": {},
   "outputs": [],
   "source": [
    "import random"
   ]
  },
  {
   "cell_type": "code",
   "execution_count": null,
   "id": "5ffd402b",
   "metadata": {},
   "outputs": [],
   "source": [
    "# 這個儲存格初始化隨機數產生器，這樣我們每次都能得到相同的結果。\n",
    "random.seed(3)"
   ]
  },
  {
   "cell_type": "code",
   "execution_count": null,
   "id": "0ddff955",
   "metadata": {
    "lines_to_next_cell": 2
   },
   "outputs": [],
   "source": [
    "%%add_method_to Deck\n",
    "# 接續上面的 Deck 定義，加入 shuffle\n",
    "    def shuffle(self):\n",
    "        \"\"\"隨機打亂牌堆中的牌。\"\"\"\n",
    "        random.shuffle(self.cards) # random.shuffle 會就地修改列表"
   ]
  },
  {
   "cell_type": "markdown",
   "id": "1bacf302",
   "metadata": {},
   "source": [
    "如果我們洗牌並印出前幾張牌，可以看到它們沒有明顯的順序。"
   ]
  },
  {
   "cell_type": "code",
   "execution_count": null,
   "id": "6d86072f",
   "metadata": {},
   "outputs": [],
   "source": [
    "print(\"\\n--- 洗牌測試 ---\")\n",
    "deck_for_ops.shuffle()\n",
    "print(\"洗牌後牌堆的前 4 張牌:\")\n",
    "for card_item_shuffled in deck_for_ops.cards[:4]:\n",
    "    print(card_item_shuffled)"
   ]
  },
  {
   "cell_type": "markdown",
   "id": "cd3f18ab",
   "metadata": {},
   "source": [
    "要排序紙牌，我們可以用列表的 `sort` 方法，它會「就地 (in place)」排序元素\n",
    "—— 也就是說，它會修改列表本身，而不是建立一個新的列表。"
   ]
  },
  {
   "cell_type": "code",
   "execution_count": null,
   "id": "dce8a4db",
   "metadata": {
    "lines_to_next_cell": 2
   },
   "outputs": [],
   "source": [
    "%%add_method_to Deck\n",
    "# 接續上面的 Deck 定義，加入 sort\n",
    "    def sort(self):\n",
    "        \"\"\"根據 Card 定義的比較方法排序牌堆中的牌。\"\"\"\n",
    "        # list.sort() 會使用元素 (Card 物件) 的 __lt__ 方法來比較\n",
    "        self.cards.sort()"
   ]
  },
  {
   "cell_type": "markdown",
   "id": "00c0f5ed",
   "metadata": {},
   "source": [
    "當我們調用 `sort` 時，它會使用 `__lt__` 方法來比較紙牌。\n",
    "(Card 類別已定義了 __lt__, __le__, __gt__, __ge__, __eq__)"
   ]
  },
  {
   "cell_type": "code",
   "execution_count": null,
   "id": "cd226c5f",
   "metadata": {},
   "outputs": [],
   "source": [
    "print(\"\\n--- 排序測試 ---\")\n",
    "deck_for_ops.sort()"
   ]
  },
  {
   "cell_type": "markdown",
   "id": "71cefd02",
   "metadata": {},
   "source": [
    "如果我們印出前幾張牌，可以確認它們是按遞增順序排列的。\n",
    "(根據 Card 的 __lt__ 定義：先比花色，梅花最小，黑桃最大；同花色再比點數，A(1或14)看如何定義)\n",
    "目前 Card 的 rank_names 把 A(1) 放前面，A(14) 放後面，但 __init__ 通常用 2-14。\n",
    "to_tuple 用 (self.suit, self.rank)，所以會先比花色，再比點數。"
   ]
  },
  {
   "cell_type": "code",
   "execution_count": null,
   "id": "955cde70",
   "metadata": {},
   "outputs": [],
   "source": [
    "print(\"排序後牌堆的前 4 張牌:\")\n",
    "for card_item_sorted in deck_for_ops.cards[:4]:\n",
    "    print(card_item_sorted)"
   ]
  },
  {
   "cell_type": "markdown",
   "id": "81343b4e",
   "metadata": {},
   "source": [
    "在這個例子中，`Deck.sort` 除了調用 `list.sort` 之外什麼也沒做。\n",
    "像這樣把責任傳遞下去的做法稱為 **委派 (delegation)**。"
   ]
  },
  {
   "cell_type": "markdown",
   "id": "eeb1baa0",
   "metadata": {},
   "source": [
    "## 父類別與子類別 (Parents and children)\n",
    "\n",
    "繼承是定義一個新類別作為現有類別修改版本的能力。\n",
    "作為例子，假設我們想要一個類別來代表「一手牌 (hand)」，也就是一個玩家持有的牌。\n",
    "\n",
    "* 一手牌類似於一個牌堆 —— 它們都是由一組牌組成，並且都需要像是新增和移除牌這樣的操作。\n",
    "\n",
    "* 一手牌也不同於一個牌堆 —— 有些我們想對手牌進行的操作，對牌堆來說沒有意義。\n",
    "  例如，在撲克牌中，我們可能會比較兩手牌來看哪一手贏。在橋牌中，我們可能會計算一手牌的分數來叫牌。\n",
    "\n",
    "類別之間的這種關係 —— 其中一個是另一個的特化版本 —— 非常適合使用繼承。\n",
    "\n",
    "要定義一個基於現有類別的新類別，我們把現有類別的名稱放在括號裡。"
   ]
  },
  {
   "cell_type": "code",
   "execution_count": null,
   "id": "fbe02b23",
   "metadata": {},
   "outputs": [],
   "source": [
    "# 為了讓 Hand 能繼承 Deck，我們需要 Deck 的完整定義\n",
    "class Deck: # Deck 的完整定義 (包含所有方法)\n",
    "    \"\"\"表示一副牌堆。\"\"\"\n",
    "    def __init__(self, cards_list): self.cards = cards_list\n",
    "    @staticmethod\n",
    "    def make_cards():\n",
    "        cards_deck = []\n",
    "        for s in range(4):\n",
    "            for r in range(2, 15): cards_deck.append(Card(s, r))\n",
    "        return cards_deck\n",
    "    def __str__(self): return '\\n'.join([str(c) for c in self.cards])\n",
    "    def take_card(self): return self.cards.pop() if self.cards else None\n",
    "    def put_card(self, card):\n",
    "        if isinstance(card, Card): self.cards.append(card)\n",
    "    def shuffle(self): random.shuffle(self.cards)\n",
    "    def sort(self): self.cards.sort()\n",
    "    # move_cards 方法將在後面加入"
   ]
  },
  {
   "cell_type": "code",
   "execution_count": null,
   "id": "c8a515f4",
   "metadata": {
    "lines_to_next_cell": 1
   },
   "outputs": [],
   "source": [
    "class Hand(Deck): # Hand 繼承自 Deck\n",
    "    \"\"\"表示一手牌。\"\"\"\n",
    "    # Hand 會自動繼承 Deck 的 __init__, __str__, take_card, put_card, shuffle, sort"
   ]
  },
  {
   "cell_type": "markdown",
   "id": "bd37d411",
   "metadata": {},
   "source": [
    "這個定義表示 `Hand` 繼承自 `Deck`，這意味著 `Hand` 物件可以存取 `Deck` 中定義的方法，\n",
    "像是 `take_card` 和 `put_card`。\n",
    "\n",
    "`Hand` 也會從 `Deck` 繼承 `__init__`，但是如果我們在 `Hand` 類別中定義 `__init__`，\n",
    "它就會覆寫 (override) `Deck` 類別中的那個。"
   ]
  },
  {
   "cell_type": "code",
   "execution_count": null,
   "id": "2b48f3d7",
   "metadata": {
    "lines_to_next_cell": 1
   },
   "outputs": [],
   "source": [
    "%%add_method_to Hand\n",
    "# 重新定義 Hand 以加入自己的 __init__\n",
    "class Hand(Deck):\n",
    "    \"\"\"表示一手牌。\"\"\"\n",
    "\n",
    "    def __init__(self, label=''): # label 是這手牌的標籤，例如玩家名稱\n",
    "        self.label = label\n",
    "        self.cards = [] # 一手牌一開始是空的，而不是像牌堆那樣有牌"
   ]
  },
  {
   "cell_type": "markdown",
   "id": "74d0201f",
   "metadata": {},
   "source": [
    "這個版本的 `__init__` 接收一個選擇性的字串作為參數，並且總是從一個空的牌列表開始。\n",
    "當我們建立一個 `Hand` 時，Python 會調用這個方法，而不是 `Deck` 中的那個\n",
    "—— 我們可以透過檢查結果是否有 `label` 屬性來確認。"
   ]
  },
  {
   "cell_type": "code",
   "execution_count": null,
   "id": "ff79a692",
   "metadata": {},
   "outputs": [],
   "source": [
    "hand_player1 = Hand('玩家1')\n",
    "print(f\"手牌標籤: {hand_player1.label}\")\n",
    "print(f\"手牌中的牌 (初始): {hand_player1.cards}\") # 應該是空列表 []"
   ]
  },
  {
   "cell_type": "markdown",
   "id": "551effde",
   "metadata": {},
   "source": [
    "要發一張牌，我們可以用 `take_card` 從 `Deck` 中移除一張牌，\n",
    "並用 `put_card` 把牌加到 `Hand` 中。\n",
    "(這些方法是從 Deck 繼承來的)"
   ]
  },
  {
   "cell_type": "code",
   "execution_count": null,
   "id": "3807662f",
   "metadata": {},
   "outputs": [],
   "source": [
    "# 建立一個新的標準牌堆\n",
    "deck_for_dealing = Deck(Deck.make_cards())\n",
    "print(f\"\\n--- 發牌測試 ---\")\n",
    "print(f\"發牌前牌堆數量: {len(deck_for_dealing.cards)}\")\n",
    "print(f\"發牌前玩家手牌: {hand_player1}\") # 應該是空的"
   ]
  },
  {
   "cell_type": "code",
   "execution_count": null,
   "id": "544d5bed",
   "metadata": {},
   "outputs": [],
   "source": [
    "card_dealt = deck_for_dealing.take_card() # 從牌堆抽一張\n",
    "if card_dealt:\n",
    "    hand_player1.put_card(card_dealt) # 把抽到的牌加入手牌\n",
    "print(f\"發一張牌後，玩家手牌 ({hand_player1.label}):\")\n",
    "print(hand_player1)\n",
    "print(f\"發牌後牌堆數量: {len(deck_for_dealing.cards)}\")"
   ]
  },
  {
   "cell_type": "markdown",
   "id": "240b35e4",
   "metadata": {},
   "source": [
    "讓我們把這段程式碼封裝到 `Deck` 的一個叫做 `move_cards` 的方法中。\n",
    "(這個方法會從 self (一個 Deck 或 Hand) 移動牌到 other (另一個 Deck 或 Hand))"
   ]
  },
  {
   "cell_type": "code",
   "execution_count": null,
   "id": "e3a33a82",
   "metadata": {
    "lines_to_next_cell": 1
   },
   "outputs": [],
   "source": [
    "%%add_method_to Deck\n",
    "# 再次重新定義 Deck 以加入 move_cards\n",
    "class Deck:\n",
    "    \"\"\"表示一副牌堆。\"\"\"\n",
    "    def __init__(self, cards_list): self.cards = cards_list\n",
    "    @staticmethod\n",
    "    def make_cards():\n",
    "        cards_deck = [];\n",
    "        for s in range(4):\n",
    "            for r in range(2, 15): cards_deck.append(Card(s, r))\n",
    "        return cards_deck\n",
    "    def __str__(self): return '\\n'.join([str(c) for c in self.cards])\n",
    "    def take_card(self): return self.cards.pop() if self.cards else None\n",
    "    def put_card(self, card):\n",
    "        if isinstance(card, Card): self.cards.append(card)\n",
    "    def shuffle(self): random.shuffle(self.cards)\n",
    "    def sort(self): self.cards.sort()\n",
    "\n",
    "    def move_cards(self, other_hand_or_deck, num_cards): # 參數改名\n",
    "        \"\"\"從目前的牌堆/手牌移動 num_cards 張牌到 other_hand_or_deck。\"\"\"\n",
    "        for _ in range(num_cards):\n",
    "            if not self.cards: break # 如果沒牌了就停止\n",
    "            card_to_move = self.take_card() # 從自己這裡抽牌\n",
    "            if card_to_move: # 確保成功抽到牌\n",
    "                other_hand_or_deck.put_card(card_to_move) # 把牌加入對方"
   ]
  },
  {
   "cell_type": "code",
   "execution_count": null,
   "id": "09973a28",
   "metadata": {},
   "outputs": [],
   "source": [
    "# 由於 Deck 被重新定義，Hand 也需要重新定義以繼承新的 Deck\n",
    "class Hand(Deck):\n",
    "    \"\"\"表示一手牌。\"\"\"\n",
    "    def __init__(self, label=''):\n",
    "        self.label = label\n",
    "        self.cards = []"
   ]
  },
  {
   "cell_type": "markdown",
   "id": "5e8212a6",
   "metadata": {},
   "source": [
    "這個方法是多型的 —— 也就是說，它適用於多種類型：\n",
    "`self` 和 `other_hand_or_deck` 可以是 `Hand` 或 `Deck`。\n",
    "所以我們可以用這個方法從 `Deck` 發牌到 `Hand`，從一手牌到另一手牌，\n",
    "或者從 `Hand` 把牌放回 `Deck`。"
   ]
  },
  {
   "cell_type": "markdown",
   "id": "9c9d8612",
   "metadata": {},
   "source": [
    "當一個新類別繼承自一個現有類別時，現有類別稱為 **父類別 (parent class)**，\n",
    "新類別稱為 **子類別 (child class)**。一般來說：\n",
    "\n",
    "* 子類別的實體應該擁有父類別的所有屬性，但它們可以有額外的屬性。\n",
    "\n",
    "* 子類別應該擁有父類別的所有方法，但它可以有額外的方法。\n",
    "\n",
    "* 如果子類別覆寫了父類別的方法，新方法應該接收相同的參數並回傳相容的結果。\n",
    "\n",
    "這套規則稱為「里氏替換原則 (Liskov substitution principle)」，\n",
    "以計算機科學家芭芭拉·利斯科夫 (Barbara Liskov) 的名字命名。\n",
    "\n",
    "如果你遵守這些規則，任何設計來處理父類別實體 (像是 `Deck`) 的函數或方法，\n",
    "也將適用於子類別的實體 (像是 `Hand`)。\n",
    "如果你違反這些規則，你的程式碼可能會像紙牌屋一樣崩塌 (抱歉，用了雙關語)。\n",
    "(譯註：house of cards 指紙牌屋，也指不穩固的計畫或結構。)"
   ]
  },
  {
   "cell_type": "markdown",
   "id": "f16bdaa6",
   "metadata": {},
   "source": [
    "## 特化 (Specialization)\n",
    "\n",
    "讓我們建立一個叫做 `BridgeHand` 的類別，用來表示橋牌中的一手牌 ——\n",
    "橋牌是一種廣泛流行的紙牌遊戲。\n",
    "我們會從 `Hand` 繼承，並新增一個叫做 `high_card_point_count` 的新方法，\n",
    "它會使用「大牌點計算法 (high card point)」來評估一手牌，\n",
    "也就是把手中大牌的點數加總起來。\n",
    "\n",
    "這裡有一個類別定義，它包含一個類別變數，是一個把牌名對應到其點數值的字典。\n",
    "(橋牌計點：A=4, K=3, Q=2, J=1)"
   ]
  },
  {
   "cell_type": "code",
   "execution_count": null,
   "id": "ea4f250d",
   "metadata": {
    "lines_to_next_cell": 1
   },
   "outputs": [],
   "source": [
    "class BridgeHand(Hand): # BridgeHand 繼承自 Hand (而 Hand 繼承自 Deck)\n",
    "    \"\"\"表示橋牌中的一手牌。\"\"\"\n",
    "\n",
    "    hcp_dict = { # High Card Points (大牌點) 字典\n",
    "        'A': 4, # Ace\n",
    "        'K': 3, # King\n",
    "        'Q': 2, # Queen\n",
    "        'J': 1, # Jack\n",
    "        # 其他牌 (2-10) 不計大牌點\n",
    "    }"
   ]
  },
  {
   "cell_type": "markdown",
   "id": "c73827cc",
   "metadata": {},
   "source": [
    "給定一張牌的點數代碼，像是 `12` (Q)，我們可以用 `Card.rank_names` 來取得點數的字串表示法，\n",
    "然後用 `hcp_dict` 來取得它的分數。"
   ]
  },
  {
   "cell_type": "code",
   "execution_count": null,
   "id": "73980457",
   "metadata": {
    "lines_to_next_cell": 1
   },
   "outputs": [],
   "source": [
    "example_rank_code_hcp = 12 # Q 的代碼\n",
    "example_rank_name_hcp = Card.rank_names[example_rank_code_hcp] # 'Q'\n",
    "example_score_hcp = BridgeHand.hcp_dict.get(example_rank_name_hcp, 0) # 從字典中取得分數，若無則為0\n",
    "print(f\"點數名稱: {example_rank_name_hcp}, 大牌點分數: {example_score_hcp}\")"
   ]
  },
  {
   "cell_type": "markdown",
   "id": "84197a7a",
   "metadata": {},
   "source": [
    "下面的方法會遍歷 `BridgeHand` 中的牌並加總它們的分數。"
   ]
  },
  {
   "cell_type": "code",
   "execution_count": null,
   "id": "e00210c5",
   "metadata": {
    "lines_to_next_cell": 1
   },
   "outputs": [],
   "source": [
    "%%add_method_to BridgeHand\n",
    "# 重新定義 BridgeHand 以加入 high_card_point_count\n",
    "class BridgeHand(Hand):\n",
    "    \"\"\"表示橋牌中的一手牌。\"\"\"\n",
    "    hcp_dict = {'A': 4, 'K': 3, 'Q': 2, 'J': 1}\n",
    "\n",
    "    # __init__ 是從 Hand 繼承來的 (如果 Hand 有自己的 __init__)\n",
    "    # 如果 Hand 沒有自己的 __init__，就會用 Deck 的 __init__，\n",
    "    # 但我們之前為 Hand 定義了 __init__(self, label='')，所以 BridgeHand 會用那個。\n",
    "    # 如果 BridgeHand 需要自己的 __init__，可以這樣定義：\n",
    "    # def __init__(self, label=''):\n",
    "    #     super().__init__(label) # 呼叫父類別 Hand 的 __init__\n",
    "    #     # 這裡可以加 BridgeHand 特有的初始化\n",
    "\n",
    "    def high_card_point_count(self):\n",
    "        \"\"\"計算並回傳這手橋牌的大牌點總數。\"\"\"\n",
    "        count_hcp = 0\n",
    "        for card_in_bridge_hand in self.cards:\n",
    "            rank_name_bh = Card.rank_names[card_in_bridge_hand.rank]\n",
    "            count_hcp += BridgeHand.hcp_dict.get(rank_name_bh, 0) # 取得點數，若不在字典中則為0\n",
    "        return count_hcp"
   ]
  },
  {
   "cell_type": "code",
   "execution_count": null,
   "id": "a7459a5e",
   "metadata": {},
   "outputs": [],
   "source": [
    "# 這個儲存格建立一個新的牌堆並初始化隨機數產生器\n",
    "standard_cards_list_bh_test = Deck.make_cards()\n",
    "deck_bh_test = Deck(standard_cards_list_bh_test)\n",
    "random.seed(3) # 確保每次洗牌結果一樣，方便測試"
   ]
  },
  {
   "cell_type": "markdown",
   "id": "1a39b075",
   "metadata": {},
   "source": [
    "為了測試它，我們會發一手包含五張牌的牌\n",
    "—— 橋牌一手通常有十三張，但用小例子測試程式碼比較容易。"
   ]
  },
  {
   "cell_type": "code",
   "execution_count": null,
   "id": "8a70f806",
   "metadata": {},
   "outputs": [],
   "source": [
    "hand_bridge_test = BridgeHand('玩家2 (橋牌)') # 建立 BridgeHand 實體\n",
    "print(f\"\\n--- 橋牌大牌點計算測試 ---\")\n",
    "deck_bh_test.shuffle() # 洗牌\n",
    "# 從 deck_bh_test 發 5 張牌到 hand_bridge_test\n",
    "# 需要 Deck 類別有 move_cards 方法\n",
    "# (我們在 In[112] 定義的 Deck 版本有 move_cards)\n",
    "deck_bh_test.move_cards(hand_bridge_test, 5)\n",
    "print(f\"玩家2的橋牌手牌 ({len(hand_bridge_test.cards)} 張):\")\n",
    "print(hand_bridge_test) # 會用 Deck 的 __str__，因為 Hand/BridgeHand 沒有覆寫它"
   ]
  },
  {
   "cell_type": "markdown",
   "id": "c2ccda6d",
   "metadata": {},
   "source": [
    "這是 K 和 Q 的總分。\n",
    "(根據 seed(3) 和抽5張，實際手牌內容會固定，我們可以手動驗證)\n",
    "洗牌後的牌堆 (seed=3)，抽前5張 (pop 從尾巴抽):\n",
    "假設 Deck.make_cards 產生的順序是 梅花2...梅花A, 方塊2...方塊A, ..., 黑桃2...黑桃A\n",
    "洗牌後尾巴的5張牌可能是 (需要實際執行 deck_bh_test.cards[-5:] 在洗牌後看看)\n",
    "為了範例，我們假設手牌是：黑桃K, 紅心Q, 梅花A, 方塊J, 黑桃10\n",
    "HCP: K=3, Q=2, A=4, J=1, 10=0 => 3+2+4+1+0 = 10\n",
    "實際執行的結果 (seed=3, pop 5): 黑桃K, 梅花2, 方塊A, 方塊6, 紅心Q\n",
    "HCP: K=3, 2=0, A=4, 6=0, Q=2 => 3+0+4+0+2 = 9"
   ]
  },
  {
   "cell_type": "code",
   "execution_count": null,
   "id": "6f94880e",
   "metadata": {
    "lines_to_next_cell": 1
   },
   "outputs": [],
   "source": [
    "hcp_score = hand_bridge_test.high_card_point_count()\n",
    "print(f\"這手牌的大牌點總數: {hcp_score}\") # 應該是 9"
   ]
  },
  {
   "cell_type": "markdown",
   "id": "0ee6dceb",
   "metadata": {},
   "source": [
    "`BridgeHand` 繼承了 `Hand` 的變數和方法，並新增了一個類別變數和一個特定於橋牌的方法。\n",
    "這種使用繼承的方式稱為 **特化 (specialization)**，因為它定義了一個新類別，\n",
    "該類別是為特定用途 (例如玩橋牌) 而特化的。"
   ]
  },
  {
   "cell_type": "markdown",
   "id": "032479ad",
   "metadata": {},
   "source": [
    "## 除錯 (Debugging)\n",
    "\n",
    "繼承是一個有用的特性。\n",
    "有些沒有繼承就會很重複的程式，用了繼承可以寫得更簡潔。\n",
    "此外，繼承可以促進程式碼重用，因為你可以自訂父類別的行為而無需修改它。\n",
    "在某些情況下，繼承結構反映了問題的自然結構，這使得設計更容易理解。\n",
    "\n",
    "另一方面，繼承可能會使程式難以閱讀。\n",
    "當一個方法被調用時，有時不清楚它的定義在哪裡 —— 相關的程式碼可能分散在好幾個模組中。\n",
    "\n",
    "每當你不確定程式的執行流程時，最簡單的解決方法是在相關方法的開頭加入印出陳述式。\n",
    "如果 `Deck.shuffle` 印出一條類似 `執行 Deck.shuffle 中` 的訊息，\n",
    "那麼當程式執行時，它就會追蹤執行流程。\n",
    "\n",
    "作為替代方案，你可以使用下面的函數，它接收一個物件和一個方法名稱 (字串形式)，\n",
    "並回傳提供該方法定義的類別。"
   ]
  },
  {
   "cell_type": "code",
   "execution_count": null,
   "id": "0cfadeb3",
   "metadata": {},
   "outputs": [],
   "source": [
    "def find_defining_class(obj_to_check, method_name_str): # 參數改名\n",
    "    \"\"\"找出給定方法是在哪個類別中定義的。\"\"\"\n",
    "    # type(obj_to_check).mro() 回傳一個類別列表，代表方法解析順序 (Method Resolution Order)\n",
    "    for class_in_mro in type(obj_to_check).mro():\n",
    "        # vars(class_in_mro) 回傳類別的 __dict__，其中包含直接在該類別中定義的方法和屬性\n",
    "        if method_name_str in vars(class_in_mro):\n",
    "            return class_in_mro # 找到了定義該方法的類別\n",
    "    return f\"方法 '{method_name_str}' 未在物件的類別層級結構中找到。\""
   ]
  },
  {
   "cell_type": "markdown",
   "id": "349fc391",
   "metadata": {},
   "source": [
    "`find_defining_class` 使用 `mro()` 方法來取得將被搜尋方法的類別物件 (型別) 列表。\n",
    "\"MRO\" 代表「方法解析順序 (method resolution order)」，\n",
    "它是 Python 搜尋以「解析」方法名稱 (也就是找到該名稱所參照的函數物件) 的類別序列。\n",
    "\n",
    "作為例子，讓我們實體化一個 `BridgeHand`，然後找出 `shuffle` 方法的定義類別。"
   ]
  },
  {
   "cell_type": "code",
   "execution_count": null,
   "id": "8eea839e",
   "metadata": {},
   "outputs": [],
   "source": [
    "hand_find_def_class = BridgeHand('玩家3') # 使用最新定義的 BridgeHand\n",
    "defining_class_shuffle = find_defining_class(hand_find_def_class, 'shuffle')\n",
    "print(f\"\\n--- 尋找方法定義類別 ---\")\n",
    "print(f\"'shuffle' 方法是在 {defining_class_shuffle.__name__} 類別中定義的。\") # Deck"
   ]
  },
  {
   "cell_type": "markdown",
   "id": "221d0e76",
   "metadata": {},
   "source": [
    "`BridgeHand` 物件的 `shuffle` 方法是 `Deck` 中的那個。\n",
    "(因為 BridgeHand -> Hand -> Deck，而 shuffle 在 Deck 中定義，Hand 和 BridgeHand 沒有覆寫它)"
   ]
  },
  {
   "cell_type": "markdown",
   "id": "d2ac7aab",
   "metadata": {},
   "source": [
    "## 詞彙表 (Glossary)\n",
    "\n",
    "**繼承 (inheritance):**\n",
    " 定義一個新類別作為先前定義類別的修改版本的能力。\n",
    "\n",
    "**編碼 (encode):**\n",
    " 透過在兩組值之間建立對應關係，用一組值來表示另一組值。\n",
    "\n",
    "**類別變數 (class variable):**\n",
    " 定義在類別定義內部，但不在任何方法內部的變數。\n",
    "\n",
    "**完全有序的 (totally ordered):**\n",
    " 如果我們可以比較任何兩個元素並且結果是一致的，那麼一組物件就是完全有序的。\n",
    "\n",
    "**委派 (delegation):**\n",
    " 當一個方法把大部分或全部工作責任傳遞給另一個方法時。\n",
    "\n",
    "**父類別 (parent class):**\n",
    " 被繼承的類別。也稱為超類 (superclass) 或基類 (base class)。\n",
    "\n",
    "**子類別 (child class):**\n",
    " 繼承自另一個類別的類別。也稱為衍生類 (derived class) 或子類 (subclass)。\n",
    "\n",
    "**特化 (specialization):**\n",
    " 一種使用繼承來建立新類別的方式，該新類別是現有類別的特化版本。"
   ]
  },
  {
   "cell_type": "markdown",
   "id": "b0986962",
   "metadata": {},
   "source": [
    "## 練習 (Exercises)"
   ]
  },
  {
   "cell_type": "markdown",
   "id": "5b8b5660",
   "metadata": {},
   "source": [
    "這個儲存格告訴 Jupyter 在發生執行期錯誤時提供詳細的除錯資訊。\n",
    "在開始做練習之前先執行它。"
   ]
  },
  {
   "cell_type": "code",
   "execution_count": null,
   "id": "e94bd2e7",
   "metadata": {
    "lines_to_next_cell": 1
   },
   "outputs": [],
   "source": [
    "%xmode Verbose"
   ]
  },
  {
   "cell_type": "markdown",
   "id": "d87f6716",
   "metadata": {},
   "source": [
    "### 問問虛擬助理 (Ask a Virtual Assistant)\n",
    "\n",
    "如果進展順利，物件導向程式設計可以使程式更具可讀性、可測試性和可重用性。\n",
    "但它也可能使程式變得複雜且難以維護。\n",
    "因此，OOP 是一個有爭議的話題 —— 有些人喜歡它，有些人不喜歡。\n",
    "\n",
    "要了解更多關於這個主題的資訊，可以問問虛擬助理：\n",
    "\n",
    "* 物件導向程式設計有哪些優點和缺點？\n",
    "\n",
    "* 當人們說「優先使用組合而非繼承 (favor composition over inheritance)」時是什麼意思？\n",
    "\n",
    "* 什麼是里氏替換原則 (Liskov substitution principle)？\n",
    "\n",
    "* Python 是一種物件導向語言嗎？\n",
    "\n",
    "* 一個集合要成為完全有序的，需要滿足哪些條件？\n",
    "\n",
    "一如往常，可以考慮請虛擬助理協助完成以下練習。"
   ]
  },
  {
   "cell_type": "markdown",
   "id": "f00e9300",
   "metadata": {},
   "source": [
    "### 練習\n",
    "\n",
    "在合約橋牌 (contract bridge) 中，「一墩 (trick)」是指一輪出牌，其中四位玩家各出一張牌。\n",
    "為了表示這些牌，我們將定義一個繼承自 `Deck` 的類別。\n",
    "(注意：Trick 通常只包含4張牌，且可能有特定的出牌順序和規則，\n",
    " 繼承自 Deck 可能只是為了重用 Deck 的某些功能，例如儲存 cards 列表)"
   ]
  },
  {
   "cell_type": "code",
   "execution_count": null,
   "id": "a6967843",
   "metadata": {
    "lines_to_next_cell": 1
   },
   "outputs": [],
   "source": [
    "class Trick(Deck): # Trick 繼承自 Deck\n",
    "    \"\"\"表示合約橋牌中的一墩牌。\"\"\"\n",
    "    # Trick 會繼承 Deck 的 __init__(self, cards_list)\n",
    "    # 和其他 Deck 的方法，例如 __str__ (如果 Trick 不覆寫它)"
   ]
  },
  {
   "cell_type": "markdown",
   "id": "27a7f07c",
   "metadata": {},
   "source": [
    "作為例子，考慮這一墩牌，第一位玩家出了方塊3，這表示方塊是「引牌花色 (led suit)」。\n",
    "第二和第三位玩家「跟花 (follow suit)」，意思是他們出了引牌花色的牌。\n",
    "第四位玩家出了一張不同花色的牌，這表示他們無法贏得這一墩。\n",
    "所以這一墩的贏家是第三位玩家，因為他們出了引牌花色中最大的牌。"
   ]
  },
  {
   "cell_type": "code",
   "execution_count": null,
   "id": "4dbecd02",
   "metadata": {
    "lines_to_next_cell": 1
   },
   "outputs": [],
   "source": [
    "# 使用最新定義的 Card 類別\n",
    "cards_for_trick_example = [\n",
    "    Card(1, 3),  # 方塊3 (引牌)\n",
    "    Card(1, 10), # 方塊10\n",
    "    Card(1, 12), # 方塊Q (應為贏家)\n",
    "    Card(2, 13)  # 紅心K (非引牌花色)\n",
    "]\n",
    "trick_example = Trick(cards_for_trick_example) # 建立 Trick 物件\n",
    "print(f\"\\n--- 橋牌一墩 (Trick) 練習 ---\")\n",
    "print(\"這一墩牌:\")\n",
    "print(trick_example) # 會使用 Deck 的 __str__"
   ]
  },
  {
   "cell_type": "markdown",
   "id": "588b133d",
   "metadata": {},
   "source": [
    "為 `Trick` 類別編寫一個叫做 `find_winner` 的方法，\n",
    "它遍歷 `Trick` 中的牌，並回傳贏得這一墩的牌在列表中的索引。\n",
    "在上一個例子中，贏牌的索引是 `2` (方塊Q)。"
   ]
  },
  {
   "cell_type": "markdown",
   "id": "b9a7678b",
   "metadata": {},
   "source": [
    "你可以用下面的大綱開始。"
   ]
  },
  {
   "cell_type": "code",
   "execution_count": null,
   "id": "e6d34d47",
   "metadata": {},
   "outputs": [],
   "source": [
    "%%add_method_to Trick\n",
    "#     def find_winner(self):\n",
    "#         return 0 # 預留位置"
   ]
  },
  {
   "cell_type": "code",
   "execution_count": null,
   "id": "b561329a",
   "metadata": {
    "lines_to_next_cell": 1
   },
   "outputs": [],
   "source": [
    "# 直接在 Trick 中定義 find_winner\n",
    "class Trick(Deck):\n",
    "    \"\"\"表示合約橋牌中的一墩牌。\"\"\"\n",
    "    # __init__ 從 Deck 繼承\n",
    "\n",
    "    def find_winner(self):\n",
    "        \"\"\"找出並回傳這一墩牌中贏牌的索引。\n",
    "        規則：\n",
    "        1. 第一張出的牌決定引牌花色。\n",
    "        2. 贏家是出了引牌花色中最大的牌的玩家。\n",
    "        3. 如果玩家沒有引牌花色，他們出的任何其他花色的牌都不能贏 (除非是王牌，但這裡先不考慮王牌)。\n",
    "        \"\"\"\n",
    "        if not self.cards: # 如果沒有牌\n",
    "            return -1 # 或引發錯誤，表示無效的墩\n",
    "\n",
    "        lead_card = self.cards[0] # 第一張牌是引牌\n",
    "        lead_suit = lead_card.suit\n",
    "\n",
    "        winner_index = 0 # 假設第一張牌暫時是贏家\n",
    "        # winner_card = lead_card # 用來比較點數，但其實只需要 winner_index 和 winner_rank_in_lead_suit\n",
    "\n",
    "        # 我們需要追蹤引牌花色中目前最大的點數\n",
    "        # Card 的 rank 14 代表 A (大)，所以直接比較 rank 即可\n",
    "        # Card 的 suit 0-3 代表 梅花-黑桃，可以直接比較 suit\n",
    "        \n",
    "        # Card 的 __lt__ 已經定義了比較邏輯 (先花色後點數)\n",
    "        # 但橋牌比墩的規則是：\n",
    "        # 1. 王牌 (trump suit) > 其他花色 (本練習先不考慮王牌)\n",
    "        # 2. 在引牌花色 (led suit) 中，點數大者勝\n",
    "        # 3. 非引牌花色者不能贏 (除非是王牌)\n",
    "        \n",
    "        # 簡化版：只考慮引牌花色，不考慮王牌\n",
    "        current_winning_card_in_led_suit = lead_card # 目前引牌花色中最大的牌\n",
    "\n",
    "        for i in range(1, len(self.cards)): #從第二張牌開始比較\n",
    "            current_card = self.cards[i]\n",
    "            # 只有與引牌花色相同的牌才能參與比較大小 (以贏得此墩)\n",
    "            if current_card.suit == lead_suit:\n",
    "                # 如果目前的牌比目前引牌花色中最大的牌還要大\n",
    "                # (Card 的比較已定義，會先比花色再比點數，但這裡 suit 相同，所以只比 rank)\n",
    "                # 或者更直接：current_card.rank > current_winning_card_in_led_suit.rank\n",
    "                if current_card > current_winning_card_in_led_suit : # 使用 Card 的 __gt__\n",
    "                    current_winning_card_in_led_suit = current_card\n",
    "                    winner_index = i\n",
    "            # 如果花色不同，則不能贏 (在此簡化規則下)\n",
    "\n",
    "        return winner_index"
   ]
  },
  {
   "cell_type": "markdown",
   "id": "c5a1a7cd",
   "metadata": {},
   "source": [
    "如果你用上一個例子測試你的方法，贏牌的索引應該是 `2`。"
   ]
  },
  {
   "cell_type": "code",
   "execution_count": null,
   "id": "3d9dd296",
   "metadata": {},
   "outputs": [],
   "source": [
    "# 重新建立 trick_example 以使用包含 find_winner 的 Trick 類別\n",
    "trick_example_fw = Trick(cards_for_trick_example)\n",
    "winner_idx = trick_example_fw.find_winner()\n",
    "print(f\"這一墩的贏牌索引: {winner_idx}\") # 應該是 2\n",
    "if winner_idx != -1:\n",
    "    print(f\"贏的牌是: {trick_example_fw.cards[winner_idx]}\")"
   ]
  },
  {
   "cell_type": "markdown",
   "id": "6fae2d30",
   "metadata": {},
   "source": [
    "### 練習\n",
    "\n",
    "接下來的幾個練習要求你編寫函數來分類撲克牌型。\n",
    "如果你不熟悉撲克牌，我會解釋你需要知道的。\n",
    "我們會用下面的類別來表示撲克牌型。"
   ]
  },
  {
   "cell_type": "code",
   "execution_count": null,
   "id": "470d22e8",
   "metadata": {
    "lines_to_next_cell": 1
   },
   "outputs": [],
   "source": [
    "class PokerHand(Hand): # PokerHand 繼承自 Hand\n",
    "    \"\"\"表示一手撲克牌。\"\"\"\n",
    "\n",
    "    def get_suit_counts(self):\n",
    "        \"\"\"計算每種花色出現的次數。回傳一個 (花色代碼 -> 次數) 的字典。\"\"\"\n",
    "        suit_counter = {}\n",
    "        for card_ph_sc in self.cards:\n",
    "            key_suit = card_ph_sc.suit # 花色代碼是鍵\n",
    "            suit_counter[key_suit] = suit_counter.get(key_suit, 0) + 1\n",
    "        return suit_counter\n",
    "\n",
    "    def get_rank_counts(self):\n",
    "        \"\"\"計算每種點數出現的次數。回傳一個 (點數代碼 -> 次數) 的字典。\"\"\"\n",
    "        rank_counter = {}\n",
    "        for card_ph_rc in self.cards:\n",
    "            key_rank = card_ph_rc.rank # 點數代碼是鍵\n",
    "            rank_counter[key_rank] = rank_counter.get(key_rank, 0) + 1\n",
    "        return rank_counter"
   ]
  },
  {
   "cell_type": "markdown",
   "id": "b08aec25",
   "metadata": {},
   "source": [
    "`PokerHand` 提供了兩個有助於練習的方法。\n",
    "\n",
    "* `get_suit_counts` 遍歷 `PokerHand` 中的牌，計算每種花色牌的數量，\n",
    "  並回傳一個把花色代碼對應到其出現次數的字典。\n",
    "\n",
    "* `get_rank_counts` 對牌的點數做同樣的事情，\n",
    "  回傳一個把點數代碼對應到其出現次數的字典。\n",
    "\n",
    "以下所有練習都只使用我們目前學過的 Python 功能就可以完成，\n",
    "但其中一些比之前大部分練習要困難一些。\n",
    "我鼓勵你向虛擬助理尋求幫助。\n",
    "\n",
    "對於這類問題，向虛擬助理詢問關於策略和演算法的一般建議通常效果很好。\n",
    "然後你可以自己編寫程式碼，或者請求程式碼。\n",
    "如果你請求程式碼，你可能需要在提示中提供相關的類別定義。"
   ]
  },
  {
   "cell_type": "markdown",
   "id": "a543f52b",
   "metadata": {},
   "source": [
    "作為第一個練習，我們要寫一個叫做 `has_flush` 的方法，\n",
    "它檢查一手牌是否有「同花 (flush)」—— 也就是說，是否包含至少五張相同花色的牌。\n",
    "\n",
    "在大多數種類的撲克牌遊戲中，一手牌包含五張或七張牌，\n",
    "但有些奇特的變體中，一手牌可能包含其他數量的牌。\n",
    "但無論一手牌中有多少張牌，只有組成最佳牌型的五張牌才算數。\n",
    "(這個練習的 has_flush 假設只要有5張同花就算，不一定剛好5張牌)"
   ]
  },
  {
   "cell_type": "markdown",
   "id": "e95c08a2",
   "metadata": {},
   "source": [
    "你可以用下面的大綱開始。"
   ]
  },
  {
   "cell_type": "code",
   "execution_count": null,
   "id": "3aba7bf1",
   "metadata": {},
   "outputs": [],
   "source": [
    "%%add_method_to PokerHand\n",
    "#     def has_flush(self):\n",
    "#         \"\"\"檢查這手牌是否有同花。\"\"\"\n",
    "#         return False # 預留位置"
   ]
  },
  {
   "cell_type": "code",
   "execution_count": null,
   "id": "cf8edde0",
   "metadata": {
    "lines_to_next_cell": 1
   },
   "outputs": [],
   "source": [
    "# 直接在 PokerHand 中定義 has_flush\n",
    "class PokerHand(Hand):\n",
    "    \"\"\"表示一手撲克牌。\"\"\"\n",
    "    def get_suit_counts(self):\n",
    "        suit_counter = {};\n",
    "        for card in self.cards: suit_counter[card.suit] = suit_counter.get(card.suit, 0) + 1\n",
    "        return suit_counter\n",
    "    def get_rank_counts(self):\n",
    "        rank_counter = {};\n",
    "        for card in self.cards: rank_counter[card.rank] = rank_counter.get(card.rank, 0) + 1\n",
    "        return rank_counter\n",
    "\n",
    "    def has_flush(self):\n",
    "        \"\"\"檢查這手牌是否有同花 (至少五張同花色)。\"\"\"\n",
    "        suit_counts_dict = self.get_suit_counts()\n",
    "        for count_val_flush in suit_counts_dict.values(): # 遍歷每種花色的數量\n",
    "            if count_val_flush >= 5:\n",
    "                return True # 只要有一種花色達到5張或以上，就是同花\n",
    "        return False # 如果沒有花色達到5張，就不是同花"
   ]
  },
  {
   "cell_type": "code",
   "execution_count": null,
   "id": "c602bc82",
   "metadata": {},
   "outputs": [],
   "source": [
    "# 為了測試這個方法，我們構造一手包含五張梅花牌的牌，所以它是一個同花。\n",
    "# (梅花代碼是 0)\n",
    "print(f\"\\n--- 撲克牌型練習：同花 (Flush) ---\")\n",
    "good_hand_flush_test = PokerHand('同花測試牌')"
   ]
  },
  {
   "cell_type": "code",
   "execution_count": null,
   "id": "98887f55",
   "metadata": {},
   "outputs": [],
   "source": [
    "suit_for_flush = 0 # 梅花\n",
    "# 點數 10, J, Q, K, A (大)\n",
    "for rank_for_flush in range(10, 15): # 10, 11, 12, 13, 14\n",
    "    card_flush = Card(suit_for_flush, rank_for_flush) # 用最新的 Card 定義\n",
    "    good_hand_flush_test.put_card(card_flush)"
   ]
  },
  {
   "cell_type": "code",
   "execution_count": null,
   "id": "419a2325",
   "metadata": {
    "lines_to_next_cell": 2
   },
   "outputs": [],
   "source": [
    "print(\"同花測試牌 (good_hand_flush_test):\")\n",
    "print(good_hand_flush_test)"
   ]
  },
  {
   "cell_type": "markdown",
   "id": "bdbd70ca",
   "metadata": {},
   "source": [
    "如果我們調用 `get_suit_counts`，可以確認花色代碼 `0` (梅花) 出現了 `5` 次。"
   ]
  },
  {
   "cell_type": "code",
   "execution_count": null,
   "id": "94da4bc6",
   "metadata": {},
   "outputs": [],
   "source": [
    "print(f\"good_hand_flush_test 的花色計數: {good_hand_flush_test.get_suit_counts()}\")"
   ]
  },
  {
   "cell_type": "markdown",
   "id": "3536f049",
   "metadata": {},
   "source": [
    "所以 `has_flush` 應該回傳 `True`。"
   ]
  },
  {
   "cell_type": "code",
   "execution_count": null,
   "id": "6fa457cb",
   "metadata": {},
   "outputs": [],
   "source": [
    "print(f\"good_hand_flush_test.has_flush(): {good_hand_flush_test.has_flush()}\")"
   ]
  },
  {
   "cell_type": "markdown",
   "id": "23836fd5",
   "metadata": {},
   "source": [
    "作為第二個測試，我們構造一手包含三張梅花和另外兩種不同花色的牌。"
   ]
  },
  {
   "cell_type": "code",
   "execution_count": null,
   "id": "fa63c9ef",
   "metadata": {},
   "outputs": [],
   "source": [
    "cards_for_bad_flush = [\n",
    "    Card(0, 2),  # 梅花2\n",
    "    Card(0, 3),  # 梅花3\n",
    "    Card(2, 4),  # 紅心4\n",
    "    Card(3, 5),  # 黑桃5\n",
    "    Card(0, 7),  # 梅花7\n",
    "]\n",
    "bad_hand_flush_test = PokerHand('非同花測試牌')\n",
    "for card_bf in cards_for_bad_flush:\n",
    "    bad_hand_flush_test.put_card(card_bf)"
   ]
  },
  {
   "cell_type": "code",
   "execution_count": null,
   "id": "2f12d329",
   "metadata": {
    "lines_to_next_cell": 2
   },
   "outputs": [],
   "source": [
    "print(\"\\n非同花測試牌 (bad_hand_flush_test):\")\n",
    "print(bad_hand_flush_test)\n",
    "print(f\"bad_hand_flush_test 的花色計數: {bad_hand_flush_test.get_suit_counts()}\")"
   ]
  },
  {
   "cell_type": "markdown",
   "id": "f1a295d9",
   "metadata": {},
   "source": [
    "所以 `has_flush` 應該回傳 `False`。"
   ]
  },
  {
   "cell_type": "code",
   "execution_count": null,
   "id": "ead2fc39",
   "metadata": {
    "lines_to_next_cell": 1
   },
   "outputs": [],
   "source": [
    "print(f\"bad_hand_flush_test.has_flush(): {bad_hand_flush_test.has_flush()}\")"
   ]
  },
  {
   "cell_type": "markdown",
   "id": "655a7048",
   "metadata": {},
   "source": [
    "### 練習\n",
    "\n",
    "編寫一個叫做 `has_straight` 的方法，它檢查一手牌是否包含順子 (straight)，\n",
    "也就是一組五張點數連續的牌。\n",
    "例如，如果一手牌包含點數 `5`、`6`、`7`、`8` 和 `9`，它就包含一個順子。\n",
    "\n",
    "A 可以放在 2 的前面，也可以放在 K 的後面，所以 `A、2、3、4、5` 是一個順子，\n",
    "`10、J、Q、K、A` 也是一個順子。\n",
    "但是順子不能「繞圈」，所以 `K、A、2、3、4` 不是一個順子。\n",
    "(Card.rank_names 中 A(1) 和 A(14) 可以幫助處理這個)"
   ]
  },
  {
   "cell_type": "markdown",
   "id": "98e39bd9",
   "metadata": {},
   "source": [
    "你可以用下面的大綱開始。\n",
    "它包含幾行程式碼，用來計算 A 的數量 (用代碼 `1` 或 `14` 表示)，\n",
    "並將總數儲存在計數器的兩個位置 (索引1和14)。\n",
    "這樣方便檢查以 A 開頭的順子 (A-2-3-4-5) 和以 A 結尾的順子 (10-J-Q-K-A)。"
   ]
  },
  {
   "cell_type": "code",
   "execution_count": null,
   "id": "62c561ea",
   "metadata": {},
   "outputs": [],
   "source": [
    "%%add_method_to PokerHand\n",
    "#     def has_straight(self, n=5): # n 是形成順子所需的最少連續牌數\n",
    "#         \"\"\"檢查這手牌是否有至少 n 張牌的順子。\"\"\"\n",
    "#         counter = self.get_rank_counts()\n",
    "#         # 處理 A 的兩種表示法 (1 和 14)\n",
    "#         aces_count = counter.get(1, 0) + counter.get(14, 0)\n",
    "#         # 如果手牌中有 A，則在計數器中把 rank 1 和 rank 14 的計數都設為 A 的總數\n",
    "#         # (或者至少設為 1，如果我們只關心是否存在而不是數量)\n",
    "#         # 這裡的邏輯是如果 original A(1) 或 original A(14) 存在，則兩者都視為存在。\n",
    "#         if aces_count > 0:\n",
    "#             counter[1] = max(counter.get(1,0), aces_count) # 更新，確保不會減少已有的計數\n",
    "#             counter[14] = max(counter.get(14,0), aces_count)"
   ]
  },
  {
   "cell_type": "markdown",
   "id": "10c1d8bd",
   "metadata": {},
   "source": [
    "        return False # 預留位置"
   ]
  },
  {
   "cell_type": "code",
   "execution_count": null,
   "id": "97710fb9",
   "metadata": {},
   "outputs": [],
   "source": [
    "# 直接在 PokerHand 中定義 has_straight\n",
    "class PokerHand(Hand): # 重新定義以加入新方法\n",
    "    \"\"\"表示一手撲克牌。\"\"\"\n",
    "    def get_suit_counts(self):\n",
    "        sc = {};\n",
    "        for c in self.cards: sc[c.suit] = sc.get(c.suit, 0) + 1\n",
    "        return sc\n",
    "    def get_rank_counts(self):\n",
    "        rc = {};\n",
    "        for c in self.cards: rc[c.rank] = rc.get(c.rank, 0) + 1\n",
    "        return rc\n",
    "    def has_flush(self):\n",
    "        sc = self.get_suit_counts();\n",
    "        for v in sc.values():\n",
    "            if v >= 5: return True\n",
    "        return False\n",
    "\n",
    "    def has_straight(self, n=5):\n",
    "        \"\"\"檢查這手牌是否有至少 n 張牌的順子。\"\"\"\n",
    "        rank_counts = self.get_rank_counts() # 取得點數的計數\n",
    "\n",
    "        # 處理 A：如果手牌中有 A (rank 1 或 14)，\n",
    "        # 為了方便檢查兩種順子 (A-2-3-4-5 和 10-J-Q-K-A)，\n",
    "        # 我們假設如果有點數 14 (大A)，也同時存在點數 1 (小A)。\n",
    "        # Card.rank_names[1] 是 'A', Card.rank_names[14] 也是 'A'\n",
    "        # 我們的 Card 物件的 rank 通常是 2-14。\n",
    "        # 所以 get_rank_counts() 的鍵會是 2-14。\n",
    "        # 如果手牌中有 A (rank=14)，我們也把它視為 rank=1 (用於 A2345 順子)\n",
    "        # Card 類別的 rank_names[1] = 'A'\n",
    "        if 14 in rank_counts and rank_counts[14] > 0: # 如果手牌有大 A\n",
    "            rank_counts[1] = rank_counts.get(1, 0) + rank_counts[14] # 把大A也算作小A\n",
    "            # 或者，如果只在乎是否存在，可以 rank_counts[1] = rank_counts.get(1,0) or rank_counts[14]\n",
    "            # 書中原文的邏輯是:\n",
    "            # aces = counter.get(1, 0) + counter.get(14, 0)\n",
    "            # counter[1] = aces\n",
    "            # counter[14] = aces\n",
    "            # 這意味著如果手牌中有一張A，它在計數器中同時被視為rank 1和rank 14。\n",
    "            # 我們這裡假設 Card 的 rank 統一用 2-14 (A 為 14)。\n",
    "            # 如果需要檢查 A2345，則需要把 rank 14 視為 rank 1。\n",
    "\n",
    "        # 檢查是否有連續 n 張牌\n",
    "        # 點數範圍：A(1), 2, ..., 10, J(11), Q(12), K(13), A(14)\n",
    "        # 檢查從 A(1) 到 10 的五張連續牌 (A2345, 23456, ..., TJQKA 中的 10JQKA)\n",
    "        # rank_names 的索引是 1 到 14。\n",
    "        # 我們需要檢查從 rank i 到 i+n-1 是否都存在於手牌中。\n",
    "        # 最高的順子是 10-J-Q-K-A(14)。 起始點是 10。 i+n-1 = 10+5-1 = 14。\n",
    "        # 最低的順子是 A(1)-2-3-4-5。 起始點是 1。 i+n-1 = 1+5-1 = 5。\n",
    "        # 所以 i 的範圍可以是 1 到 10。 (共10種可能的順子起點)\n",
    "        for i in range(1, 15 - n + 1 + 1): # 這樣寫法不對\n",
    "                                        # 應該是 range(1, 11) for 5-card straight (A to T starts)\n",
    "                                        # 如果是 A(14), 則 i 最大是 14-n+1\n",
    "            \n",
    "            # 書中原文的迴圈是 range(1, 15)，然後內部判斷連續性\n",
    "            # 這樣比較通用，即使 n 不是 5\n",
    "            consecutive_count = 0\n",
    "            for rank_to_check in range(i, i + n): # 檢查從 i 開始的 n 個連續點數\n",
    "                # 特殊處理：如果 rank_to_check 是 1 (A)，但手牌中只有 rank 14 (大A)\n",
    "                # 我們在前面已經把 rank 14 的計數加到 rank 1 了 (如果 rank_counts 這樣處理的話)\n",
    "                # 或者，更簡單的方式是，如果檢查到 rank_to_check = 1, 並且 rank_counts 中沒有 1 但有 14，\n",
    "                # 則視為有 rank 1。\n",
    "                # 我們的 Card rank 是 2-14。get_rank_counts() 的鍵也是 2-14。\n",
    "                # 所以我們需要一個映射，或者在檢查 A2345 時特殊處理。\n",
    "\n",
    "                # 簡化邏輯：建立一個包含所有手牌點數的集合 (去重)\n",
    "                # 並加入 A(1) 如果手牌中有 A(14)\n",
    "                unique_ranks_in_hand = set(rank_counts.keys())\n",
    "                if 14 in unique_ranks_in_hand: # 如果有大A\n",
    "                    unique_ranks_in_hand.add(1) # 也加入小A\n",
    "\n",
    "                # 現在檢查從 i 開始的 n 個連續點數是否存在於 unique_ranks_in_hand\n",
    "                is_current_straight = True\n",
    "                for j in range(n): # 檢查 rank i, i+1, ..., i+n-1\n",
    "                    if (i+j) not in unique_ranks_in_hand:\n",
    "                        is_current_straight = False\n",
    "                        break\n",
    "                if is_current_straight:\n",
    "                    return True # 找到了 n 張連續的順子\n",
    "\n",
    "            # 這裡的 i 是順子的最低點數。\n",
    "            # A2345 -> i=1\n",
    "            # ...\n",
    "            # TJQKA -> i=10\n",
    "            # 所以 i 的範圍是 1 到 10 (包含10)\n",
    "            # 結束條件是 i+n-1 <= 14 (A最大為14) => i <= 14-n+1\n",
    "            if i > (14 - n + 1): # 如果最低點數太高，不可能形成n張順子了\n",
    "                 break\n",
    "        return False # 遍歷完所有可能的起點都沒找到順子"
   ]
  },
  {
   "cell_type": "code",
   "execution_count": null,
   "id": "f0c9bac5",
   "metadata": {},
   "outputs": [],
   "source": [
    "# `good_hand_flush_test` (梅花10,J,Q,K,A) 之前建立的，它也包含一個順子。\n",
    "# 如果我們用 `get_rank_counts`，可以確認它在五個連續的點數上至少各有一張牌。\n",
    "print(f\"\\n--- 撲克牌型練習：順子 (Straight) ---\")\n",
    "print(f\"good_hand_flush_test 的點數計數: {good_hand_flush_test.get_rank_counts()}\")"
   ]
  },
  {
   "cell_type": "markdown",
   "id": "38bdd93d",
   "metadata": {},
   "source": [
    "所以 `has_straight` 應該回傳 `True`。"
   ]
  },
  {
   "cell_type": "code",
   "execution_count": null,
   "id": "62c807e0",
   "metadata": {},
   "outputs": [],
   "source": [
    "print(f\"good_hand_flush_test.has_straight(): {good_hand_flush_test.has_straight()}\")"
   ]
  },
  {
   "cell_type": "code",
   "execution_count": null,
   "id": "e4c11b81",
   "metadata": {
    "lines_to_next_cell": 1
   },
   "outputs": [],
   "source": [
    "# `bad_hand_flush_test` (梅花2,3,7, 紅心4, 黑桃5) 不包含順子，\n",
    "# 所以 `has_straight` 應該回傳 `False`。\n",
    "print(f\"bad_hand_flush_test 的點數計數: {bad_hand_flush_test.get_rank_counts()}\")\n",
    "print(f\"bad_hand_flush_test.has_straight(): {bad_hand_flush_test.has_straight()}\")"
   ]
  },
  {
   "cell_type": "markdown",
   "id": "211b6ddb",
   "metadata": {},
   "source": [
    "### 練習\n",
    "\n",
    "如果一手牌同時是順子也是同花 —— 也就是五張相同花色且點數連續的牌 ——\n",
    "那麼這手牌就有同花順 (straight flush)。\n",
    "編寫一個 `PokerHand` 的方法來檢查一手牌是否有同花順。"
   ]
  },
  {
   "cell_type": "markdown",
   "id": "1d902c47",
   "metadata": {},
   "source": [
    "你可以用下面的大綱開始。"
   ]
  },
  {
   "cell_type": "code",
   "execution_count": null,
   "id": "ef2f71e3",
   "metadata": {},
   "outputs": [],
   "source": [
    "%%add_method_to PokerHand\n",
    "#     def has_straightflush(self):\n",
    "#         \"\"\"檢查這手牌是否有同花順。\"\"\"\n",
    "#         return False # 預留位置"
   ]
  },
  {
   "cell_type": "code",
   "execution_count": null,
   "id": "083541c1",
   "metadata": {
    "lines_to_next_cell": 1
   },
   "outputs": [],
   "source": [
    "%%add_method_to PokerHand\n",
    "# 書中提供了一個 partition 方法來輔助\n",
    "# 我們先把它加到 PokerHand\n",
    "class PokerHand(Hand): # 重新定義以加入新方法\n",
    "    \"\"\"表示一手撲克牌。\"\"\"\n",
    "    def get_suit_counts(self):\n",
    "        sc = {};\n",
    "        for c in self.cards: sc[c.suit] = sc.get(c.suit, 0) + 1\n",
    "        return sc\n",
    "    def get_rank_counts(self):\n",
    "        rc = {};\n",
    "        for c in self.cards: rc[c.rank] = rc.get(c.rank, 0) + 1\n",
    "        return rc\n",
    "    def has_flush(self):\n",
    "        sc = self.get_suit_counts();\n",
    "        for v in sc.values():\n",
    "            if v >= 5: return True\n",
    "        return False\n",
    "    def has_straight(self, n=5):\n",
    "        rank_counts = self.get_rank_counts()\n",
    "        unique_ranks = set(rank_counts.keys())\n",
    "        if 14 in unique_ranks: unique_ranks.add(1)\n",
    "        for i in range(1, 14 - n + 2): # A to 10 start\n",
    "            is_straight = True\n",
    "            for j in range(n):\n",
    "                if (i+j) not in unique_ranks:\n",
    "                    is_straight = False; break\n",
    "            if is_straight: return True\n",
    "        return False\n",
    "\n",
    "    def partition(self):\n",
    "        \"\"\"將手牌按花色分成四手牌 (PokerHand 物件) 的列表。\"\"\"\n",
    "        hands_by_suit = []\n",
    "        for i_suit_part in range(4): # 0 到 3 代表四種花色\n",
    "            # 為每種花色建立一個空的 PokerHand\n",
    "            # 需要給 PokerHand 的 __init__ 一個 label (如果它需要的話)\n",
    "            # Hand 的 __init__ 有 label='' 預設值\n",
    "            hands_by_suit.append(PokerHand(label=f'Suit {Card.suit_names[i_suit_part]}'))\n",
    "\n",
    "        for card_part in self.cards:\n",
    "            hands_by_suit[card_part.suit].put_card(card_part) # 把牌加到對應花色的手牌中\n",
    "\n",
    "        return hands_by_suit"
   ]
  },
  {
   "cell_type": "code",
   "execution_count": null,
   "id": "3f0cf88e",
   "metadata": {
    "lines_to_next_cell": 2
   },
   "outputs": [],
   "source": [
    "%%add_method_to PokerHand\n",
    "# 現在加入 has_straightflush\n",
    "    def has_straightflush(self):\n",
    "        \"\"\"檢查這手牌是否有同花順。\"\"\"\n",
    "        # 策略：先把手牌按花色分開。\n",
    "        # 對於每種花色的子手牌，如果該子手牌張數 >= 5，\n",
    "        # 就檢查該子手牌是否構成順子。\n",
    "        hands_partitioned_by_suit = self.partition()\n",
    "        for single_suit_hand in hands_partitioned_by_suit:\n",
    "            # PokerHand 的 has_flush 檢查的是否 >= 5 張同花\n",
    "            # PokerHand 的 has_straight 檢查的是否有點數連續的5張牌\n",
    "            # 如果一個 single_suit_hand (它本身所有牌都同花)\n",
    "            # 同時張數 >= 5 並且它又構成一個順子，那麼它就是同花順。\n",
    "            if len(single_suit_hand.cards) >= 5 and single_suit_hand.has_straight(n=5):\n",
    "                return True\n",
    "        return False"
   ]
  },
  {
   "cell_type": "code",
   "execution_count": null,
   "id": "6ff30d18",
   "metadata": {},
   "outputs": [],
   "source": [
    "# 使用下面的例子來測試你的方法。\n",
    "print(f\"\\n--- 撲克牌型練習：同花順 (Straight Flush) ---\")\n",
    "# good_hand_flush_test (梅花10,J,Q,K,A) 是同花順\n",
    "print(f\"good_hand_flush_test (梅花10-A) is straight flush: {good_hand_flush_test.has_straightflush()}\") # True"
   ]
  },
  {
   "cell_type": "code",
   "execution_count": null,
   "id": "3dffa6c2",
   "metadata": {},
   "outputs": [],
   "source": [
    "# bad_hand_flush_test 不是同花順\n",
    "print(f\"bad_hand_flush_test is straight flush: {bad_hand_flush_test.has_straightflush()}\") # False"
   ]
  },
  {
   "cell_type": "code",
   "execution_count": null,
   "id": "594907db",
   "metadata": {},
   "outputs": [],
   "source": [
    "# 注意，僅僅檢查一手牌是否有順子 *且* 有同花是不夠的。\n",
    "# 要了解原因，考慮下面這手牌。\n",
    "from copy import deepcopy # 用於複製物件"
   ]
  },
  {
   "cell_type": "code",
   "execution_count": null,
   "id": "2e468e50",
   "metadata": {
    "lines_to_next_cell": 2
   },
   "outputs": [],
   "source": [
    "straight_and_flush_not_sf = deepcopy(bad_hand_flush_test) # 從非同花牌開始\n",
    "# bad_hand_flush_test: 梅花2,3,7, 紅心4, 黑桃5\n",
    "# 加入 梅花6, 梅花9\n",
    "straight_and_flush_not_sf.put_card(Card(0, 6)) # 梅花6\n",
    "straight_and_flush_not_sf.put_card(Card(0, 9)) # 梅花9\n",
    "# 現在手牌是: 梅花2,3,6,7,9, 紅心4, 黑桃5 (共7張)\n",
    "# 同花部分：梅花2,3,6,7,9 (5張梅花，是同花)\n",
    "# 順子部分：2,3,4,5,6 (梅花2, 梅花3, 紅心4, 黑桃5, 梅花6，是順子)\n",
    "# 但這兩組牌不完全相同，所以不是同花順\n",
    "print(\"\\n一手牌，有同花也有順子，但不是同花順:\")\n",
    "print(straight_and_flush_not_sf)"
   ]
  },
  {
   "cell_type": "code",
   "execution_count": null,
   "id": "e027205f",
   "metadata": {
    "lines_to_next_cell": 2
   },
   "outputs": [],
   "source": [
    "# 這手牌包含一個順子和一個同花，但它們不是同一組五張牌。\n",
    "print(f\"  它有順子嗎? {straight_and_flush_not_sf.has_straight()}\")   # True (2-3-4-5-6)\n",
    "print(f\"  它有同花嗎? {straight_and_flush_not_sf.has_flush()}\")     # True (5張梅花)"
   ]
  },
  {
   "cell_type": "code",
   "execution_count": null,
   "id": "9d06aa29",
   "metadata": {
    "lines_to_next_cell": 1
   },
   "outputs": [],
   "source": [
    "# 所以它不包含同花順。\n",
    "print(f\"  它有同花順嗎? {straight_and_flush_not_sf.has_straightflush()}\") # False"
   ]
  },
  {
   "cell_type": "markdown",
   "id": "167beca7",
   "metadata": {},
   "source": [
    "### 練習\n",
    "\n",
    "如果一手撲克牌包含兩張或更多相同點數的牌，則稱為有一對 (pair)。\n",
    "編寫一個 `PokerHand` 的方法來檢查一手牌是否包含一對。\n",
    "(書中接下來介紹的 check_sets 是更通用的方法，可以檢查對子、三條、四條、葫蘆等)"
   ]
  },
  {
   "cell_type": "markdown",
   "id": "b5b46877",
   "metadata": {},
   "source": [
    "你可以用下面的大綱開始。\n",
    "(check_sets 方法是書中為了這個和下個練習引入的輔助方法)"
   ]
  },
  {
   "cell_type": "code",
   "execution_count": null,
   "id": "1445a5f7",
   "metadata": {},
   "outputs": [],
   "source": [
    "%%add_method_to PokerHand\n",
    "#     def check_sets(self, *need_list_args): # *need_list_args 會收集參數成元組\n",
    "#         # need_list_args 是一個期望的點數出現次數列表，按降序排列\n",
    "#         # 例如，葫蘆 (3帶2) 是 (3, 2)\n",
    "#         # 四條是 (4, 1) 或 (4)\n",
    "#         # 對子是 (2, 1, 1, 1) 或 (2)\n",
    "#         return True # 預留位置"
   ]
  },
  {
   "cell_type": "code",
   "execution_count": null,
   "id": "09195cc1",
   "metadata": {
    "lines_to_next_cell": 1
   },
   "outputs": [],
   "source": [
    "%%add_method_to PokerHand\n",
    "# 再次重新定義 PokerHand 以加入 check_sets 和 has_pair\n",
    "class PokerHand(Hand):\n",
    "    \"\"\"表示一手撲克牌。\"\"\"\n",
    "    def get_suit_counts(self):\n",
    "        sc={}; For c in self.cards: sc[c.suit]=sc.get(c.suit,0)+1; return sc\n",
    "    def get_rank_counts(self):\n",
    "        rc={}; For c in self.cards: rc[c.rank]=rc.get(c.rank,0)+1; return rc\n",
    "    def has_flush(self):\n",
    "        sc=self.get_suit_counts(); For v in sc.values(): if v>=5: return True; return False\n",
    "    def has_straight(self, n=5):\n",
    "        rc=self.get_rank_counts(); ur=set(rc.keys()); If 14 in ur: ur.add(1)\n",
    "        For i in range(1,14-n+2):\n",
    "            iss=True; For j in range(n): if(i+j)not in ur: iss=False;break\n",
    "            If iss:return True\n",
    "        return False\n",
    "    def partition(self):\n",
    "        h=[PokerHand(f'S{Card.suit_names[i]}')for i in range(4)]; For c in self.cards:h[c.suit].put_card(c)\n",
    "        return h\n",
    "    def has_straightflush(self):\n",
    "        For h in self.partition(): if len(h.cards)>=5 and h.has_straight(5):return True\n",
    "        return False\n",
    "\n",
    "    def check_sets(self, *needed_counts_tuple): # e.g., (3,2) for full house, (2,) for a pair\n",
    "        \"\"\"檢查手牌中點數的組合是否符合 needed_counts_tuple 的要求。\n",
    "        needed_counts_tuple: 一個元組，包含期望的相同點數牌的數量，按降序。\n",
    "                             例如，葫蘆是 (3, 2)，一對是 (2,)。\n",
    "        \"\"\"\n",
    "        rank_counts_dict = self.get_rank_counts() # {'rank_code': count, ...}\n",
    "        # 取得所有點數的出現次數，並按降序排序\n",
    "        # 例如，如果手牌是 AA KK Q -> ranks_counts.values() = [2, 2, 1] (順序不定)\n",
    "        # sorted_actual_counts = [2, 2, 1]\n",
    "        sorted_actual_counts = sorted(rank_counts_dict.values(), reverse=True)\n",
    "\n",
    "        # 比較期望的組合和實際的組合\n",
    "        # 例如，檢查葫蘆 (3,2)：\n",
    "        #   如果 needed_counts_tuple 是 (3,2)\n",
    "        #   如果 sorted_actual_counts 是 [3,2,...] 或 [3,2] -> True\n",
    "        #   如果 sorted_actual_counts 是 [3,1,1] -> False (因為 2 > 1)\n",
    "        #   如果 sorted_actual_counts 是 [2,2,1] -> False (因為 3 > 2)\n",
    "\n",
    "        # zip 會在最短的序列結束時停止\n",
    "        # 如果 needed_counts_tuple 比 sorted_actual_counts 長，表示牌不夠形成期望組合\n",
    "        if len(needed_counts_tuple) > len(sorted_actual_counts):\n",
    "            # 例如，期望 (2,2) (兩對)，但手上只有 AA K Q J (counts [2,1,1,1])\n",
    "            # zip 只會比較第一對 (2,2)。但這其實不對。\n",
    "            # 我們應該確保 sorted_actual_counts 至少能滿足 needed_counts_tuple 的所有要求。\n",
    "            # 例如，要 (3,2)，那麼 sorted_actual_counts 的第一個元素必須 >=3，第二個必須 >=2。\n",
    "\n",
    "            # 更好的邏輯：\n",
    "            for i_check_sets in range(len(needed_counts_tuple)):\n",
    "                needed = needed_counts_tuple[i_check_sets]\n",
    "                # 檢查實際計數列表是否足夠長\n",
    "                if i_check_sets >= len(sorted_actual_counts):\n",
    "                    return False # 實際的組合不夠形成期望的組合 (例如期望兩對，但只有一對)\n",
    "                have = sorted_actual_counts[i_check_sets]\n",
    "                if needed > have: # 如果期望的數量大於實際擁有的最大數量\n",
    "                    return False # 就不滿足條件\n",
    "            return True # 所有期望的組合都滿足了\n",
    "\n",
    "        # 書中原文的 zip 邏輯，假設 needed_counts_tuple 的長度 <= sorted_actual_counts 的長度\n",
    "        # for needed, have_actual in zip(needed_counts_tuple, sorted_actual_counts):\n",
    "        #     if needed > have_actual: # 如果需要的比擁有的多\n",
    "        #         return False\n",
    "        # return True # 如果迴圈跑完都沒返回 False，表示滿足條件"
   ]
  },
  {
   "cell_type": "code",
   "execution_count": null,
   "id": "15935c04",
   "metadata": {},
   "outputs": [],
   "source": [
    "%%add_method_to PokerHand\n",
    "# 現在加入 has_pair\n",
    "    def has_pair(self):\n",
    "        \"\"\"檢查手牌是否至少有一對。\"\"\"\n",
    "        # 一對意味著點數計數中至少有一個值 >= 2。\n",
    "        # 用 check_sets: 期望至少有一個計數是 2。\n",
    "        return self.check_sets(2) # 傳遞 (2,) 表示我們需要至少一個2張同點的組合"
   ]
  },
  {
   "cell_type": "code",
   "execution_count": null,
   "id": "ad490c41",
   "metadata": {
    "lines_to_next_cell": 2
   },
   "outputs": [],
   "source": [
    "# 為了測試你的方法，這裡有一手有一對的牌。\n",
    "print(f\"\\n--- 撲克牌型練習：一對 (Pair) ---\")\n",
    "pair_test_hand = deepcopy(bad_hand_flush_test) # 從非同花牌開始 (梅花2,3,7, 紅心4, 黑桃5)\n",
    "pair_test_hand.put_card(Card(1, 2)) # 加入一張方塊2，現在有兩張2 (梅花2, 方塊2)\n",
    "print(\"有一對的牌 (pair_test_hand):\")\n",
    "print(pair_test_hand)\n",
    "print(f\"  點數計數: {pair_test_hand.get_rank_counts()}\")"
   ]
  },
  {
   "cell_type": "code",
   "execution_count": null,
   "id": "ecd3386c",
   "metadata": {},
   "outputs": [],
   "source": [
    "print(f\"pair_test_hand.has_pair(): {pair_test_hand.has_pair()}\")    # True"
   ]
  },
  {
   "cell_type": "code",
   "execution_count": null,
   "id": "9ae8dc2e",
   "metadata": {},
   "outputs": [],
   "source": [
    "print(f\"bad_hand_flush_test.has_pair(): {bad_hand_flush_test.has_pair()}\")    # False"
   ]
  },
  {
   "cell_type": "code",
   "execution_count": null,
   "id": "2da980b0",
   "metadata": {
    "lines_to_next_cell": 1
   },
   "outputs": [],
   "source": [
    "print(f\"good_hand_flush_test.has_pair(): {good_hand_flush_test.has_pair()}\")   # False (它是同花順，沒有對子)"
   ]
  },
  {
   "cell_type": "markdown",
   "id": "2504ddfa",
   "metadata": {},
   "source": [
    "### 練習\n",
    "\n",
    "如果一手牌包含三張同點數的牌和另外兩張同點數的牌，則稱為葫蘆 (full house)。\n",
    "(例如 AAA KK)\n",
    "編寫一個 `PokerHand` 的方法來檢查一手牌是否有葫蘆。"
   ]
  },
  {
   "cell_type": "markdown",
   "id": "75cb2101",
   "metadata": {},
   "source": [
    "你可以用下面的大綱開始。"
   ]
  },
  {
   "cell_type": "code",
   "execution_count": null,
   "id": "f1f614a4",
   "metadata": {},
   "outputs": [],
   "source": [
    "%%add_method_to PokerHand\n",
    "#     def has_full_house(self):\n",
    "#         return False # 預留位置"
   ]
  },
  {
   "cell_type": "code",
   "execution_count": null,
   "id": "6107c273",
   "metadata": {},
   "outputs": [],
   "source": [
    "# 直接在 PokerHand 中定義 has_full_house\n",
    "class PokerHand(Hand): # 包含所有前面定義的方法\n",
    "    \"\"\"表示一手撲克牌。\"\"\"\n",
    "    def get_suit_counts(self): sc={}; For c in self.cards: sc[c.suit]=sc.get(c.suit,0)+1; return sc\n",
    "    def get_rank_counts(self): rc={}; For c in self.cards: rc[c.rank]=rc.get(c.rank,0)+1; return rc\n",
    "    def has_flush(self): sc=self.get_suit_counts(); For v in sc.values(): if v>=5: return True; return False\n",
    "    def has_straight(self, n=5):\n",
    "        rc=self.get_rank_counts(); ur=set(rc.keys()); If 14 in ur: ur.add(1)\n",
    "        For i in range(1,15-n+1): # A to (14-n+1)\n",
    "            iss=True; For j in range(n): if(i+j)not in ur: iss=False;break\n",
    "            If iss:return True\n",
    "        return False\n",
    "    def partition(self):\n",
    "        h=[PokerHand(f'S{Card.suit_names[i]}')for i in range(4)]; For c in self.cards:h[c.suit].put_card(c)\n",
    "        return h\n",
    "    def has_straightflush(self):\n",
    "        For h_sf in self.partition(): if len(h_sf.cards)>=5 and h_sf.has_straight(5):return True\n",
    "        return False\n",
    "    def check_sets(self, *needed_counts_tuple):\n",
    "        rc_dict = self.get_rank_counts(); sorted_actual_counts = sorted(rc_dict.values(), reverse=True)\n",
    "        For i_cs in range(len(needed_counts_tuple)):\n",
    "            needed = needed_counts_tuple[i_cs]\n",
    "            If i_cs >= len(sorted_actual_counts): return False\n",
    "            have = sorted_actual_counts[i_cs]\n",
    "            If needed > have: return False\n",
    "        return True\n",
    "    def has_pair(self): return self.check_sets(2)\n",
    "\n",
    "    def has_full_house(self):\n",
    "        \"\"\"檢查手牌是否有葫蘆 (三條帶一對)。\"\"\"\n",
    "        # 葫蘆需要一個三條和一個對子。\n",
    "        # 所以點數計數的值中，最大的應該是3，第二大的應該是2。\n",
    "        return self.check_sets(3, 2) # 期望的計數組合是 (3, 2)"
   ]
  },
  {
   "cell_type": "code",
   "execution_count": null,
   "id": "68265d32",
   "metadata": {
    "lines_to_next_cell": 2
   },
   "outputs": [],
   "source": [
    "# 你可以用這手牌來測試你的方法。\n",
    "print(f\"\\n--- 撲克牌型練習：葫蘆 (Full House) ---\")\n",
    "# pair_test_hand 有一對2 (梅花2, 方塊2) 和單張 梅花3, 紅心4, 黑桃5, 梅花7\n",
    "boat_test_hand = deepcopy(pair_test_hand) # 從有一對2的牌開始\n",
    "# 加入 第三張2 (例如紅心2) -> 形成三條2\n",
    "boat_test_hand.put_card(Card(2, 2)) # 紅心2\n",
    "# 加入 第二張3 (例如方塊3) -> 形成一對3\n",
    "boat_test_hand.put_card(Card(1, 3)) # 方塊3\n",
    "# 現在手牌應該是：(梅花2, 方塊2, 紅心2), (梅花3, 方塊3), 紅心4, 黑桃5, 梅花7 (共8張)\n",
    "# 葫蘆是 22233\n",
    "print(\"葫蘆測試牌 (boat_test_hand):\")\n",
    "print(boat_test_hand)\n",
    "print(f\"  點數計數: {boat_test_hand.get_rank_counts()}\")"
   ]
  },
  {
   "cell_type": "code",
   "execution_count": null,
   "id": "123db594",
   "metadata": {},
   "outputs": [],
   "source": [
    "print(f\"boat_test_hand.has_full_house(): {boat_test_hand.has_full_house()}\")     # True"
   ]
  },
  {
   "cell_type": "code",
   "execution_count": null,
   "id": "e9a4c248",
   "metadata": {},
   "outputs": [],
   "source": [
    "print(f\"pair_test_hand.has_full_house(): {pair_test_hand.has_full_house()}\")     # False (只有一對)"
   ]
  },
  {
   "cell_type": "code",
   "execution_count": null,
   "id": "2f6e658e",
   "metadata": {
    "lines_to_next_cell": 1
   },
   "outputs": [],
   "source": [
    "print(f\"good_hand_flush_test.has_full_house(): {good_hand_flush_test.has_full_house()}\") # False (是同花順)"
   ]
  },
  {
   "cell_type": "markdown",
   "id": "1cc7b472",
   "metadata": {},
   "source": [
    "### 練習\n",
    "\n",
    "這個練習是一個關於一個常見且難以除錯的錯誤的警示故事。\n",
    "考慮下面的類別定義。"
   ]
  },
  {
   "cell_type": "code",
   "execution_count": null,
   "id": "91c150ce",
   "metadata": {
    "lines_to_next_cell": 1
   },
   "outputs": [],
   "source": [
    "class Kangaroo: # 袋鼠\n",
    "    \"\"\"袋鼠是一種有袋動物。\"\"\"\n",
    "\n",
    "    def __init__(self, name_k, contents_k=[]): # 參數改名，contents_k 的預設值是個列表\n",
    "        \"\"\"初始化育兒袋的內容。\n",
    "\n",
    "        name_k: 字串，袋鼠的名字\n",
    "        contents_k: 初始的育兒袋內容列表。\n",
    "        \"\"\"\n",
    "        # 警告：使用可變物件 (如列表) 作為預設參數值通常是個壞主意！\n",
    "        # 因為預設值只在函數定義時建立一次。\n",
    "        # 所有不提供 contents_k 參數的 Kangaroo 實體都會共享同一個預設列表。\n",
    "        self.name = name_k\n",
    "        self.contents = contents_k # contents 指向傳入的列表，或預設的那個共享列表\n",
    "\n",
    "    def __str__(self):\n",
    "        \"\"\"回傳此袋鼠的字串表示法。\"\"\"\n",
    "        lines_k_str = [ self.name + ' 的育兒袋內容有:' ]\n",
    "        for obj_in_pouch in self.contents:\n",
    "            # object.__str__(obj) 可以取得任何物件的預設字串表示法 (通常是 <類別名 object at 記憶體位址>)\n",
    "            # 如果 obj_in_pouch 本身有 __str__，那樣會更好。\n",
    "            # 為了與書中一致，我們先用 object.__str__\n",
    "            # s_item_str = '    ' + object.__str__(obj_in_pouch)\n",
    "            # 或者，如果我們想看到物件本身的字串 (如果它有__str__)：\n",
    "            s_item_str = '    ' + str(obj_in_pouch)\n",
    "            lines_k_str.append(s_item_str)\n",
    "        return '\\n'.join(lines_k_str)\n",
    "\n",
    "    def put_in_pouch(self, item_to_put):\n",
    "        \"\"\"將一個新物品加入到育兒袋內容中。\n",
    "\n",
    "        item_to_put: 要加入的物件\n",
    "        \"\"\"\n",
    "        self.contents.append(item_to_put) # 直接修改 self.contents 列表"
   ]
  },
  {
   "cell_type": "markdown",
   "id": "72940ed8",
   "metadata": {},
   "source": [
    "`__init__` 接收兩個參數：`name_k` 是必要的，但 `contents_k` 是選擇性的\n",
    "—— 如果沒有提供，預設值是一個空列表。\n",
    "\n",
    "`__str__` 回傳一個物件的字串表示法，包含名字和育兒袋的內容。\n",
    "\n",
    "`put_in_pouch` 接收任何物件並將其附加到 `contents_k`。\n",
    "\n",
    "現在讓我們看看這個類別如何運作。\n",
    "我們建立兩個 `Kangaroo` 物件，名字分別是 `'Kanga'` 和 `'Roo'`。\n",
    "(Kanga 和 Roo 是小熊維尼故事中的袋鼠母子)"
   ]
  },
  {
   "cell_type": "code",
   "execution_count": null,
   "id": "70c2144a",
   "metadata": {},
   "outputs": [],
   "source": [
    "print(f\"\\n--- 袋鼠育兒袋問題 ---\")\n",
    "kanga = Kangaroo('Kanga') # 沒有提供 contents，所以 kanga.contents 會是預設的那個列表\n",
    "roo = Kangaroo('Roo')   # roo.contents 也會是同一個預設列表！"
   ]
  },
  {
   "cell_type": "markdown",
   "id": "b211cfe4",
   "metadata": {},
   "source": [
    "我們在 Kanga 的育兒袋裡放兩個字串和 Roo。"
   ]
  },
  {
   "cell_type": "code",
   "execution_count": null,
   "id": "d79459eb",
   "metadata": {},
   "outputs": [],
   "source": [
    "kanga.put_in_pouch('錢包')\n",
    "kanga.put_in_pouch('車鑰匙')\n",
    "kanga.put_in_pouch(roo) # 把 roo 物件本身放進 kanga 的袋子"
   ]
  },
  {
   "cell_type": "markdown",
   "id": "2f63f383",
   "metadata": {},
   "source": [
    "如果我們印出 `kanga`，看起來一切都運作正常。"
   ]
  },
  {
   "cell_type": "code",
   "execution_count": null,
   "id": "ed9df63b",
   "metadata": {},
   "outputs": [],
   "source": [
    "print(\"Kanga 的狀態:\")\n",
    "print(kanga)"
   ]
  },
  {
   "cell_type": "markdown",
   "id": "d576eff1",
   "metadata": {},
   "source": [
    "但是如果我們印出 `roo` 會發生什麼事呢？"
   ]
  },
  {
   "cell_type": "code",
   "execution_count": null,
   "id": "0fe31ccc",
   "metadata": {},
   "outputs": [],
   "source": [
    "print(\"\\nRoo 的狀態 (問題所在！):\")\n",
    "print(roo)"
   ]
  },
  {
   "cell_type": "markdown",
   "id": "f1aa2564",
   "metadata": {},
   "source": [
    "Roo 的育兒袋包含了和 Kanga 相同的內容，包括一個對 `roo` 自身的參照！\n",
    "\n",
    "看看你是否能找出問題所在。\n",
    "(提示：問題出在 `__init__` 方法中 `contents_k=[]` 這個預設參數。)\n",
    "然後問問虛擬助理：「下面這個程式有什麼問題？」並貼上 `Kangaroo` 的定義。\n",
    "\n",
    "解釋：\n",
    "當 `__init__` 方法的 `contents_k` 參數使用預設值 `[]` 時，\n",
    "這個空列表 `[]` 只在函數 *定義* 時被建立一次。\n",
    "所有後續呼叫 `Kangaroo()` (不傳遞 `contents_k` 參數) 時，\n",
    "`self.contents` 都會指向 *同一個* 在函數定義時建立的列表物件。\n",
    "因此，當 `kanga.put_in_pouch(...)` 修改 `kanga.contents` 時，\n",
    "它實際上修改了那個共享的列表。\n",
    "因為 `roo` 在建立時也使用了這個共享的預設列表作為 `roo.contents`，\n",
    "所以 `roo.contents` 也會反映出這些改變。\n",
    "\n",
    "正確的做法是在 `__init__` 內部，如果 `contents_k` 是預設值 (或 None)，\n",
    "則將 `self.contents` 初始化為一個 *新的* 空列表。例如：\n",
    "\n",
    "class Kangaroo_Fixed:\n",
    "    def __init__(self, name_k, contents_k=None): # 預設值改為 None\n",
    "        self.name = name_k\n",
    "        if contents_k is None:\n",
    "            self.contents = [] # 如果是預設，建立一個新的空列表\n",
    "        else:\n",
    "            self.contents = list(contents_k) # 或者建立傳入列表的一個副本，以防外部修改\n",
    "    ... (其他方法不變) ..."
   ]
  },
  {
   "cell_type": "markdown",
   "id": "d6150881",
   "metadata": {},
   "source": [
    "[Think Python: 3rd Edition](https://allendowney.github.io/ThinkPython/index.html)\n",
    "\n",
    "Copyright 2024 [Allen B. Downey](https://allendowney.com)\n",
    "\n",
    "程式碼授權: [MIT License](https://mit-license.org/)\n",
    "\n",
    "文字內容授權: [Creative Commons Attribution-NonCommercial-ShareAlike 4.0 International](https://creativecommons.org/licenses/by-nc-sa/4.0/)"
   ]
  },
  {
   "cell_type": "code",
   "execution_count": null,
   "id": "f7f39335",
   "metadata": {},
   "outputs": [],
   "source": [
    "(這個 cell 在原始 .py 中是空的)\n",
    "(這個 cell 在原始 .py 中是參考連結)"
   ]
  }
 ],
 "metadata": {
  "jupytext": {
   "cell_metadata_filter": "-all",
   "encoding": "# -*- coding: utf-8 -*-",
   "main_language": "python",
   "notebook_metadata_filter": "-all"
  },
  "kernelspec": {
   "display_name": ".venv",
   "language": "python",
   "name": "python3"
  },
  "language_info": {
   "codemirror_mode": {
    "name": "ipython",
    "version": 3
   },
   "file_extension": ".py",
   "mimetype": "text/x-python",
   "name": "python",
   "nbconvert_exporter": "python",
   "pygments_lexer": "ipython3",
   "version": "3.12.2"
  }
 },
 "nbformat": 4,
 "nbformat_minor": 5
}
