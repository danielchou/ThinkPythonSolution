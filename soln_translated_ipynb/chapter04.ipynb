{
 "cells": [
  {
   "cell_type": "markdown",
   "id": "5ad59704",
   "metadata": {},
   "source": [
    "你可以從\n",
    "[Bookshop.org](https://bookshop.org/a/98697/9781098155438) 和\n",
    "[Amazon](https://www.amazon.com/_/dp/1098155432?smid=ATVPDKIKX0DER&_encoding=UTF8&tag=oreilly20-20&_encoding=UTF8&tag=greenteapre01-20&linkCode=ur2&linkId=e2a529f94920295d27ec8a06e757dc7c&camp=1789&creative=9325)\n",
    "訂購《Think Python 3e》的實體書和電子書版本。"
   ]
  },
  {
   "cell_type": "code",
   "execution_count": 1,
   "id": "8d792653",
   "metadata": {
    "lines_to_next_cell": 1
   },
   "outputs": [],
   "source": [
    "from os.path import basename, exists"
   ]
  },
  {
   "cell_type": "code",
   "execution_count": 2,
   "id": "92a77741",
   "metadata": {
    "lines_to_next_cell": 1
   },
   "outputs": [],
   "source": [
    "def download(url):\n",
    "    filename = basename(url)\n",
    "    if not exists(filename):\n",
    "        from urllib.request import urlretrieve\n",
    "\n",
    "        local, _ = urlretrieve(url, filename)\n",
    "        print(\"已下載 \" + str(local)) # 譯註：這裡顯示下載完成的檔案路徑\n",
    "    return filename"
   ]
  },
  {
   "cell_type": "code",
   "execution_count": 3,
   "id": "a11f762e",
   "metadata": {
    "lines_to_next_cell": 2
   },
   "outputs": [],
   "source": [
    "download('https://github.com/AllenDowney/ThinkPython/raw/v3/thinkpython.py');\n",
    "download('https://github.com/AllenDowney/ThinkPython/raw/v3/diagram.py');\n",
    "download('https://github.com/ramalho/jupyturtle/releases/download/2024-03/jupyturtle.py');"
   ]
  },
  {
   "cell_type": "code",
   "execution_count": 4,
   "id": "de18be8c",
   "metadata": {},
   "outputs": [],
   "source": [
    "import thinkpython"
   ]
  },
  {
   "cell_type": "code",
   "execution_count": 5,
   "id": "a627def1",
   "metadata": {
    "lines_to_next_cell": 2
   },
   "outputs": [],
   "source": [
    "get_ipython().run_line_magic('load_ext', 'autoreload')\n",
    "get_ipython().run_line_magic('autoreload', '2')"
   ]
  },
  {
   "cell_type": "markdown",
   "id": "0afe9333",
   "metadata": {},
   "source": [
    "# 函式與介面\n",
    "\n",
    "這一章會介紹一個叫做 `jupyturtle` 的模組，它讓你可以透過給一隻想像中的海龜下指令來畫出簡單的圖形。\n",
    "我們會用這個模組來寫一些函式，畫出正方形、多邊形和圓形——並且藉此展示 **介面設計**，這是一種設計讓函式們可以一起合作的方法。"
   ]
  },
  {
   "cell_type": "markdown",
   "id": "546d5fc6",
   "metadata": {},
   "source": [
    "## jupyturtle 模組\n",
    "\n",
    "要使用 `jupyturtle` 模組，我們可以像這樣匯入它。"
   ]
  },
  {
   "cell_type": "code",
   "execution_count": 6,
   "id": "050f4d08",
   "metadata": {
    "lines_to_next_cell": 2
   },
   "outputs": [],
   "source": [
    "import jupyturtle"
   ]
  },
  {
   "cell_type": "markdown",
   "id": "0c5ada4b",
   "metadata": {},
   "source": [
    "現在我們就可以使用模組中定義的函式了，像是 `make_turtle` 和 `forward`。"
   ]
  },
  {
   "cell_type": "code",
   "execution_count": 8,
   "id": "334a33cc",
   "metadata": {
    "lines_to_next_cell": 2
   },
   "outputs": [
    {
     "data": {
      "text/html": [
       "<svg width=\"300\" height=\"150\">\n",
       "    <rect width=\"100%\" height=\"100%\" fill=\"#F3F3F7\" />\n",
       "\n",
       "<line x1=\"150\" y1=\"75\" x2=\"250.0\" y2=\"75.0\"\n",
       "    stroke=\"#663399\" stroke-width=\"2\" />\n",
       "\n",
       "<g transform=\"rotate(-90.0,250.0,75.0) translate(250.0, 75.0)\">\n",
       "    <circle stroke=\"#63A375\" stroke-width=\"2\" fill=\"transparent\" r=\"5.5\" cx=\"0\" cy=\"0\"/>\n",
       "    <polygon points=\"0,12 2,9 -2,9\" style=\"fill:#63A375;stroke:#63A375;stroke-width:2\"/>\n",
       "</g>\n",
       "\n",
       "</svg>"
      ],
      "text/plain": [
       "<IPython.core.display.HTML object>"
      ]
     },
     "metadata": {},
     "output_type": "display_data"
    }
   ],
   "source": [
    "jupyturtle.make_turtle()\n",
    "jupyturtle.forward(100)"
   ]
  },
  {
   "cell_type": "markdown",
   "id": "1d4dcb5f",
   "metadata": {},
   "source": [
    "`make_turtle` 會建立一個 **畫布**（canvas），也就是螢幕上我們可以畫圖的空間，還有一隻海龜，它由一個圓形的龜殼和一個三角形的頭部表示。\n",
    "圓圈顯示海龜的位置，三角形則指出它面向的方向。\n",
    "\n",
    "`forward` 會讓海龜朝著它面向的方向移動指定的距離，並沿途畫出一條線段。\n",
    "這個距離是用任意單位計算的——實際大小取決於你電腦螢幕的設定。\n",
    "\n",
    "我們會多次使用 `jupyturtle` 模組中定義的函式，所以如果每次都不用寫模組的名稱會更好。\n",
    "如果我們像這樣匯入模組，就可以辦到。"
   ]
  },
  {
   "cell_type": "code",
   "execution_count": 9,
   "id": "19af3c3a",
   "metadata": {
    "lines_to_next_cell": 2
   },
   "outputs": [],
   "source": [
    "from jupyturtle import make_turtle, forward"
   ]
  },
  {
   "cell_type": "markdown",
   "id": "8687cfbb",
   "metadata": {},
   "source": [
    "這個版本的 import 陳述句會從 `jupyturtle` 模組匯入 `make_turtle` 和 `forward`，所以我們可以像這樣呼叫它們。"
   ]
  },
  {
   "cell_type": "code",
   "execution_count": 10,
   "id": "2861e3fc",
   "metadata": {
    "lines_to_next_cell": 2
   },
   "outputs": [
    {
     "data": {
      "text/html": [
       "<svg width=\"300\" height=\"150\">\n",
       "    <rect width=\"100%\" height=\"100%\" fill=\"#F3F3F7\" />\n",
       "\n",
       "<line x1=\"150\" y1=\"75\" x2=\"250.0\" y2=\"75.0\"\n",
       "    stroke=\"#663399\" stroke-width=\"2\" />\n",
       "\n",
       "<g transform=\"rotate(-90.0,250.0,75.0) translate(250.0, 75.0)\">\n",
       "    <circle stroke=\"#63A375\" stroke-width=\"2\" fill=\"transparent\" r=\"5.5\" cx=\"0\" cy=\"0\"/>\n",
       "    <polygon points=\"0,12 2,9 -2,9\" style=\"fill:#63A375;stroke:#63A375;stroke-width:2\"/>\n",
       "</g>\n",
       "\n",
       "</svg>"
      ],
      "text/plain": [
       "<IPython.core.display.HTML object>"
      ]
     },
     "metadata": {},
     "output_type": "display_data"
    }
   ],
   "source": [
    "make_turtle()\n",
    "forward(100)"
   ]
  },
  {
   "cell_type": "markdown",
   "id": "d163b7fc",
   "metadata": {},
   "source": [
    "`jupyturtle` 還提供了另外兩個我們會用到的函式，叫做 `left` 和 `right`。\n",
    "我們會像這樣匯入它們。"
   ]
  },
  {
   "cell_type": "code",
   "execution_count": 11,
   "id": "1497b532",
   "metadata": {
    "lines_to_next_cell": 2
   },
   "outputs": [],
   "source": [
    "from jupyturtle import left, right"
   ]
  },
  {
   "cell_type": "markdown",
   "id": "0a36ba22",
   "metadata": {},
   "source": [
    "`left` 會讓海龜向左轉。它接受一個引數，也就是轉彎的角度（以度為單位）。\n",
    "例如，我們可以像這樣讓海龜向左轉 90 度。"
   ]
  },
  {
   "cell_type": "code",
   "execution_count": 13,
   "id": "6f204173",
   "metadata": {
    "lines_to_next_cell": 2
   },
   "outputs": [
    {
     "data": {
      "text/html": [
       "<svg width=\"300\" height=\"150\">\n",
       "    <rect width=\"100%\" height=\"100%\" fill=\"#F3F3F7\" />\n",
       "\n",
       "<line x1=\"150\" y1=\"75\" x2=\"200.0\" y2=\"75.0\"\n",
       "    stroke=\"#663399\" stroke-width=\"2\" />\n",
       "<line x1=\"200.0\" y1=\"75.0\" x2=\"200.0\" y2=\"25.0\"\n",
       "    stroke=\"#663399\" stroke-width=\"2\" />\n",
       "\n",
       "<g transform=\"rotate(180.0,200.0,25.0) translate(200.0, 25.0)\">\n",
       "    <circle stroke=\"#63A375\" stroke-width=\"2\" fill=\"transparent\" r=\"5.5\" cx=\"0\" cy=\"0\"/>\n",
       "    <polygon points=\"0,12 2,9 -2,9\" style=\"fill:#63A375;stroke:#63A375;stroke-width:2\"/>\n",
       "</g>\n",
       "\n",
       "</svg>"
      ],
      "text/plain": [
       "<IPython.core.display.HTML object>"
      ]
     },
     "metadata": {},
     "output_type": "display_data"
    }
   ],
   "source": [
    "make_turtle()\n",
    "forward(50)\n",
    "left(90)\n",
    "forward(50)"
   ]
  },
  {
   "cell_type": "markdown",
   "id": "ee9e7231",
   "metadata": {},
   "source": [
    "這個程式會讓海龜先向東移動，然後向北移動，留下兩條線段。\n",
    "在繼續之前，試試看你能不能修改上一個程式來畫出一個正方形。"
   ]
  },
  {
   "cell_type": "markdown",
   "id": "ec2b120f",
   "metadata": {},
   "source": [
    "## 畫一個正方形\n",
    "\n",
    "這裡有一種畫正方形的方法。"
   ]
  },
  {
   "cell_type": "code",
   "execution_count": null,
   "id": "c8a7bf91",
   "metadata": {},
   "outputs": [
    {
     "data": {
      "text/html": [
       "<svg width=\"300\" height=\"150\">\n",
       "    <rect width=\"100%\" height=\"100%\" fill=\"#F3F3F7\" />\n",
       "\n",
       "<line x1=\"150\" y1=\"75\" x2=\"200.0\" y2=\"75.0\"\n",
       "    stroke=\"#663399\" stroke-width=\"2\" />\n",
       "<line x1=\"200.0\" y1=\"75.0\" x2=\"200.0\" y2=\"25.0\"\n",
       "    stroke=\"#663399\" stroke-width=\"2\" />\n",
       "<line x1=\"200.0\" y1=\"25.0\" x2=\"150.0\" y2=\"25.0\"\n",
       "    stroke=\"#663399\" stroke-width=\"2\" />\n",
       "<line x1=\"150.0\" y1=\"25.0\" x2=\"150.0\" y2=\"75.0\"\n",
       "    stroke=\"#663399\" stroke-width=\"2\" />\n",
       "\n",
       "<g transform=\"rotate(-90.0,150.0,75.0) translate(150.0, 75.0)\">\n",
       "    <circle stroke=\"#63A375\" stroke-width=\"2\" fill=\"transparent\" r=\"5.5\" cx=\"0\" cy=\"0\"/>\n",
       "    <polygon points=\"0,12 2,9 -2,9\" style=\"fill:#63A375;stroke:#63A375;stroke-width:2\"/>\n",
       "</g>\n",
       "\n",
       "</svg>"
      ],
      "text/plain": [
       "<IPython.core.display.HTML object>"
      ]
     },
     "metadata": {},
     "output_type": "display_data"
    }
   ],
   "source": [
    "make_turtle()\n",
    "forward(50)\n",
    "left(90)\n",
    "forward(50)\n",
    "left(90)\n",
    "forward(50)\n",
    "left(90)\n",
    "forward(50)\n",
    "left(90)"
   ]
  },
  {
   "cell_type": "markdown",
   "id": "61c5c9a6",
   "metadata": {},
   "source": [
    "因為這個程式重複了同樣的兩行指令四次，所以我們可以用 `for` 迴圈更簡潔地完成同樣的事情。"
   ]
  },
  {
   "cell_type": "code",
   "execution_count": 24,
   "id": "392ef8e8",
   "metadata": {
    "lines_to_next_cell": 2
   },
   "outputs": [
    {
     "data": {
      "text/html": [
       "<svg width=\"300\" height=\"150\">\n",
       "    <rect width=\"100%\" height=\"100%\" fill=\"#F3F3F7\" />\n",
       "\n",
       "<line x1=\"150\" y1=\"75\" x2=\"200.0\" y2=\"75.0\"\n",
       "    stroke=\"#663399\" stroke-width=\"2\" />\n",
       "<line x1=\"200.0\" y1=\"75.0\" x2=\"200.0\" y2=\"25.0\"\n",
       "    stroke=\"#663399\" stroke-width=\"2\" />\n",
       "<line x1=\"200.0\" y1=\"25.0\" x2=\"150.0\" y2=\"25.0\"\n",
       "    stroke=\"#663399\" stroke-width=\"2\" />\n",
       "<line x1=\"150.0\" y1=\"25.0\" x2=\"150.0\" y2=\"75.0\"\n",
       "    stroke=\"#663399\" stroke-width=\"2\" />\n",
       "\n",
       "<g transform=\"rotate(-90.0,150.0,75.0) translate(150.0, 75.0)\">\n",
       "    <circle stroke=\"#63A375\" stroke-width=\"2\" fill=\"transparent\" r=\"5.5\" cx=\"0\" cy=\"0\"/>\n",
       "    <polygon points=\"0,12 2,9 -2,9\" style=\"fill:#63A375;stroke:#63A375;stroke-width:2\"/>\n",
       "</g>\n",
       "\n",
       "</svg>"
      ],
      "text/plain": [
       "<IPython.core.display.HTML object>"
      ]
     },
     "metadata": {},
     "output_type": "display_data"
    }
   ],
   "source": [
    "make_turtle()\n",
    "for i in range(4): # 譯註：range(4) 會產生 0, 1, 2, 3，所以迴圈會執行四次\n",
    "    forward(50)\n",
    "    left(90)"
   ]
  },
  {
   "cell_type": "markdown",
   "id": "161e2189",
   "metadata": {},
   "source": [
    "## 封裝與泛化\n",
    "\n",
    "讓我們把上一節畫正方形的程式碼放到一個叫做 `square` 的函式裡。"
   ]
  },
  {
   "cell_type": "code",
   "execution_count": 27,
   "id": "93f0b5fe",
   "metadata": {
    "lines_to_next_cell": 2
   },
   "outputs": [],
   "source": [
    "def square():\n",
    "    for i in range(4):\n",
    "        forward(50)\n",
    "        left(90)"
   ]
  },
  {
   "cell_type": "markdown",
   "id": "86d26fb7",
   "metadata": {},
   "source": [
    "現在我們可以像這樣呼叫這個函式。"
   ]
  },
  {
   "cell_type": "code",
   "execution_count": 28,
   "id": "d1a872c2",
   "metadata": {
    "lines_to_next_cell": 2
   },
   "outputs": [
    {
     "data": {
      "text/html": [
       "<svg width=\"300\" height=\"150\">\n",
       "    <rect width=\"100%\" height=\"100%\" fill=\"#F3F3F7\" />\n",
       "\n",
       "<line x1=\"150\" y1=\"75\" x2=\"200.0\" y2=\"75.0\"\n",
       "    stroke=\"#663399\" stroke-width=\"2\" />\n",
       "<line x1=\"200.0\" y1=\"75.0\" x2=\"200.0\" y2=\"25.0\"\n",
       "    stroke=\"#663399\" stroke-width=\"2\" />\n",
       "<line x1=\"200.0\" y1=\"25.0\" x2=\"150.0\" y2=\"25.0\"\n",
       "    stroke=\"#663399\" stroke-width=\"2\" />\n",
       "<line x1=\"150.0\" y1=\"25.0\" x2=\"150.0\" y2=\"75.0\"\n",
       "    stroke=\"#663399\" stroke-width=\"2\" />\n",
       "\n",
       "<g transform=\"rotate(-90.0,150.0,75.0) translate(150.0, 75.0)\">\n",
       "    <circle stroke=\"#63A375\" stroke-width=\"2\" fill=\"transparent\" r=\"5.5\" cx=\"0\" cy=\"0\"/>\n",
       "    <polygon points=\"0,12 2,9 -2,9\" style=\"fill:#63A375;stroke:#63A375;stroke-width:2\"/>\n",
       "</g>\n",
       "\n",
       "</svg>"
      ],
      "text/plain": [
       "<IPython.core.display.HTML object>"
      ]
     },
     "metadata": {},
     "output_type": "display_data"
    }
   ],
   "source": [
    "make_turtle()\n",
    "square()"
   ]
  },
  {
   "cell_type": "markdown",
   "id": "338f69e7",
   "metadata": {},
   "source": [
    "把一段程式碼包裝到一個函式裡，這個過程叫做 **封裝**（encapsulation）。\n",
    "封裝的好處之一是它為程式碼賦予了一個名稱，這個名稱本身就像是一種文件說明。另一個好處是，如果你要重複使用這段程式碼，呼叫函式兩次比複製貼上函式主體更簡潔！\n",
    "\n",
    "在目前的版本中，正方形的大小永遠是 `50`。\n",
    "如果我們想要畫不同大小的正方形，我們可以把邊長當作一個參數傳入。"
   ]
  },
  {
   "cell_type": "code",
   "execution_count": 29,
   "id": "d6a643d7",
   "metadata": {
    "lines_to_next_cell": 2
   },
   "outputs": [],
   "source": [
    "def square(length): # 譯註：length 是一個參數，代表邊長\n",
    "    for i in range(4):\n",
    "        forward(length)\n",
    "        left(90)"
   ]
  },
  {
   "cell_type": "markdown",
   "id": "1aba8cf9",
   "metadata": {},
   "source": [
    "現在我們可以畫出不同大小的正方形了。"
   ]
  },
  {
   "cell_type": "code",
   "execution_count": 30,
   "id": "fc416c55",
   "metadata": {
    "lines_to_next_cell": 2
   },
   "outputs": [
    {
     "data": {
      "text/html": [
       "<svg width=\"300\" height=\"150\">\n",
       "    <rect width=\"100%\" height=\"100%\" fill=\"#F3F3F7\" />\n",
       "\n",
       "<line x1=\"150\" y1=\"75\" x2=\"180.0\" y2=\"75.0\"\n",
       "    stroke=\"#663399\" stroke-width=\"2\" />\n",
       "<line x1=\"180.0\" y1=\"75.0\" x2=\"180.0\" y2=\"45.0\"\n",
       "    stroke=\"#663399\" stroke-width=\"2\" />\n",
       "<line x1=\"180.0\" y1=\"45.0\" x2=\"150.0\" y2=\"45.0\"\n",
       "    stroke=\"#663399\" stroke-width=\"2\" />\n",
       "<line x1=\"150.0\" y1=\"45.0\" x2=\"150.0\" y2=\"75.0\"\n",
       "    stroke=\"#663399\" stroke-width=\"2\" />\n",
       "<line x1=\"150.0\" y1=\"75.0\" x2=\"210.0\" y2=\"75.0\"\n",
       "    stroke=\"#663399\" stroke-width=\"2\" />\n",
       "<line x1=\"210.0\" y1=\"75.0\" x2=\"210.0\" y2=\"15.0\"\n",
       "    stroke=\"#663399\" stroke-width=\"2\" />\n",
       "<line x1=\"210.0\" y1=\"15.0\" x2=\"150.0\" y2=\"15.0\"\n",
       "    stroke=\"#663399\" stroke-width=\"2\" />\n",
       "<line x1=\"150.0\" y1=\"15.0\" x2=\"150.0\" y2=\"75.0\"\n",
       "    stroke=\"#663399\" stroke-width=\"2\" />\n",
       "\n",
       "<g transform=\"rotate(-90.0,150.0,75.0) translate(150.0, 75.0)\">\n",
       "    <circle stroke=\"#63A375\" stroke-width=\"2\" fill=\"transparent\" r=\"5.5\" cx=\"0\" cy=\"0\"/>\n",
       "    <polygon points=\"0,12 2,9 -2,9\" style=\"fill:#63A375;stroke:#63A375;stroke-width:2\"/>\n",
       "</g>\n",
       "\n",
       "</svg>"
      ],
      "text/plain": [
       "<IPython.core.display.HTML object>"
      ]
     },
     "metadata": {},
     "output_type": "display_data"
    }
   ],
   "source": [
    "make_turtle()\n",
    "square(30)\n",
    "square(60)"
   ]
  },
  {
   "cell_type": "markdown",
   "id": "aa34bfd4",
   "metadata": {},
   "source": [
    "為函式增加參數的過程叫做 **泛化**（generalization），因為它讓函式變得更通用：之前的版本，正方形的大小永遠一樣；有了這個版本，它可以是任何大小。\n",
    "\n",
    "如果我們再增加一個參數，可以讓它變得更通用。\n",
    "下面的函式可以畫出指定邊數的正規多邊形。"
   ]
  },
  {
   "cell_type": "code",
   "execution_count": 31,
   "id": "f568288b",
   "metadata": {
    "lines_to_next_cell": 2
   },
   "outputs": [],
   "source": [
    "def polygon(n, length): # 譯註：n 是邊數，length 是邊長\n",
    "    angle = 360 / n # 譯註：計算每個內角需要轉的角度\n",
    "    for i in range(n):\n",
    "        forward(length)\n",
    "        left(angle)"
   ]
  },
  {
   "cell_type": "markdown",
   "id": "b7938529",
   "metadata": {},
   "source": [
    "一個有 `n` 個邊的正規多邊形，相鄰兩邊之間的夾角是 `360 / n` 度。\n",
    "\n",
    "下面的例子畫了一個 7 邊形，邊長是 `30`。"
   ]
  },
  {
   "cell_type": "code",
   "execution_count": 34,
   "id": "99ad0126",
   "metadata": {
    "lines_to_next_cell": 2
   },
   "outputs": [
    {
     "data": {
      "text/html": [
       "<svg width=\"300\" height=\"150\">\n",
       "    <rect width=\"100%\" height=\"100%\" fill=\"#F3F3F7\" />\n",
       "\n",
       "<line x1=\"150\" y1=\"75\" x2=\"180.0\" y2=\"75.0\"\n",
       "    stroke=\"#663399\" stroke-width=\"2\" />\n",
       "<line x1=\"180.0\" y1=\"75.0\" x2=\"198.7\" y2=\"51.5\"\n",
       "    stroke=\"#663399\" stroke-width=\"2\" />\n",
       "<line x1=\"198.7\" y1=\"51.5\" x2=\"192.0\" y2=\"22.3\"\n",
       "    stroke=\"#663399\" stroke-width=\"2\" />\n",
       "<line x1=\"192.0\" y1=\"22.3\" x2=\"165.0\" y2=\"9.3\"\n",
       "    stroke=\"#663399\" stroke-width=\"2\" />\n",
       "<line x1=\"165.0\" y1=\"9.3\" x2=\"138.0\" y2=\"22.3\"\n",
       "    stroke=\"#663399\" stroke-width=\"2\" />\n",
       "<line x1=\"138.0\" y1=\"22.3\" x2=\"131.3\" y2=\"51.5\"\n",
       "    stroke=\"#663399\" stroke-width=\"2\" />\n",
       "<line x1=\"131.3\" y1=\"51.5\" x2=\"150.0\" y2=\"75.0\"\n",
       "    stroke=\"#663399\" stroke-width=\"2\" />\n",
       "\n",
       "<g transform=\"rotate(270.0,150.0,75.0) translate(150.0, 75.0)\">\n",
       "    <circle stroke=\"#63A375\" stroke-width=\"2\" fill=\"transparent\" r=\"5.5\" cx=\"0\" cy=\"0\"/>\n",
       "    <polygon points=\"0,12 2,9 -2,9\" style=\"fill:#63A375;stroke:#63A375;stroke-width:2\"/>\n",
       "</g>\n",
       "\n",
       "</svg>"
      ],
      "text/plain": [
       "<IPython.core.display.HTML object>"
      ]
     },
     "metadata": {},
     "output_type": "display_data"
    }
   ],
   "source": [
    "make_turtle()\n",
    "polygon(7, 30)"
   ]
  },
  {
   "cell_type": "markdown",
   "id": "2e25a65e",
   "metadata": {},
   "source": [
    "當一個函式有多個數值引數時，很容易忘記它們是什麼，或者它們應該是什麼順序。\n",
    "把參數的名稱包含在引數列表裡，會是個好主意。"
   ]
  },
  {
   "cell_type": "code",
   "execution_count": 35,
   "id": "aa39b1fe",
   "metadata": {
    "lines_to_next_cell": 2
   },
   "outputs": [
    {
     "data": {
      "text/html": [
       "<svg width=\"300\" height=\"150\">\n",
       "    <rect width=\"100%\" height=\"100%\" fill=\"#F3F3F7\" />\n",
       "\n",
       "<line x1=\"150\" y1=\"75\" x2=\"180.0\" y2=\"75.0\"\n",
       "    stroke=\"#663399\" stroke-width=\"2\" />\n",
       "<line x1=\"180.0\" y1=\"75.0\" x2=\"198.7\" y2=\"51.5\"\n",
       "    stroke=\"#663399\" stroke-width=\"2\" />\n",
       "<line x1=\"198.7\" y1=\"51.5\" x2=\"192.0\" y2=\"22.3\"\n",
       "    stroke=\"#663399\" stroke-width=\"2\" />\n",
       "<line x1=\"192.0\" y1=\"22.3\" x2=\"165.0\" y2=\"9.3\"\n",
       "    stroke=\"#663399\" stroke-width=\"2\" />\n",
       "<line x1=\"165.0\" y1=\"9.3\" x2=\"138.0\" y2=\"22.3\"\n",
       "    stroke=\"#663399\" stroke-width=\"2\" />\n",
       "<line x1=\"138.0\" y1=\"22.3\" x2=\"131.3\" y2=\"51.5\"\n",
       "    stroke=\"#663399\" stroke-width=\"2\" />\n",
       "<line x1=\"131.3\" y1=\"51.5\" x2=\"150.0\" y2=\"75.0\"\n",
       "    stroke=\"#663399\" stroke-width=\"2\" />\n",
       "\n",
       "<g transform=\"rotate(270.0,150.0,75.0) translate(150.0, 75.0)\">\n",
       "    <circle stroke=\"#63A375\" stroke-width=\"2\" fill=\"transparent\" r=\"5.5\" cx=\"0\" cy=\"0\"/>\n",
       "    <polygon points=\"0,12 2,9 -2,9\" style=\"fill:#63A375;stroke:#63A375;stroke-width:2\"/>\n",
       "</g>\n",
       "\n",
       "</svg>"
      ],
      "text/plain": [
       "<IPython.core.display.HTML object>"
      ]
     },
     "metadata": {},
     "output_type": "display_data"
    }
   ],
   "source": [
    "make_turtle()\n",
    "polygon(n=7, length=30)"
   ]
  },
  {
   "cell_type": "markdown",
   "id": "d9f3b848",
   "metadata": {},
   "source": [
    "這些有時候被稱為「具名引數」（named arguments），因為它們包含了參數的名稱。\n",
    "但在 Python 中，它們更常被稱為 **關鍵字引數**（keyword arguments）（不要和 Python 的關鍵字如 `for` 和 `def` 搞混了）。\n",
    "\n",
    "這裡使用等號 `=` 的方式，提醒了我們引數和參數是如何運作的——當你呼叫一個函式時，引數會被賦值給參數。"
   ]
  },
  {
   "cell_type": "markdown",
   "id": "169d6aa1",
   "metadata": {},
   "source": [
    "## 近似畫出一個圓形\n",
    "\n",
    "現在假設我們想畫一個圓。\n",
    "我們可以用近似的方法來畫，也就是畫一個邊數很多的多邊形，讓每一條邊都小到幾乎看不出來。\n",
    "這裡有一個函式，它使用 `polygon` 來畫一個 30 邊的多邊形，用來近似一個圓形。"
   ]
  },
  {
   "cell_type": "code",
   "execution_count": 36,
   "id": "e672f2d1",
   "metadata": {
    "lines_to_next_cell": 1
   },
   "outputs": [],
   "source": [
    "import math # 譯註：匯入 math 模組才能使用圓周率 pi"
   ]
  },
  {
   "cell_type": "code",
   "execution_count": 43,
   "id": "6579950a",
   "metadata": {
    "lines_to_next_cell": 2
   },
   "outputs": [],
   "source": [
    "def circle(radius): # 譯註：radius 是圓的半徑\n",
    "    circumference = 2 * math.pi * radius # 譯註：計算圓周長\n",
    "    n = 30 # 譯註：用 30 邊形來近似\n",
    "    length = circumference / n # 譯註：計算每一邊的長度\n",
    "    polygon(n, length)"
   ]
  },
  {
   "cell_type": "markdown",
   "id": "b7ab76b7",
   "metadata": {},
   "source": [
    "`circle` 函式接受圓的半徑作為參數。\n",
    "它會計算 `circumference`，也就是給定半徑的圓的周長。\n",
    "`n` 是邊的數量，所以 `circumference / n` 就是每一條邊的長度。\n",
    "\n",
    "這個函式可能需要比較長的時間來執行。\n",
    "我們可以透過呼叫 `make_turtle` 並傳入一個名為 `delay` 的關鍵字引數來加速它，這個引數設定了海龜每走一步後等待的時間（秒為單位）。\n",
    "預設值是 `0.2` 秒——如果我們把它設為 `0.02`，它大概會快 10 倍。"
   ]
  },
  {
   "cell_type": "code",
   "execution_count": 42,
   "id": "aab448aa",
   "metadata": {
    "lines_to_next_cell": 2
   },
   "outputs": [
    {
     "data": {
      "text/html": [
       "<svg width=\"300\" height=\"150\">\n",
       "    <rect width=\"100%\" height=\"100%\" fill=\"#F3F3F7\" />\n",
       "\n",
       "<line x1=\"150\" y1=\"75\" x2=\"159.4\" y2=\"75.0\"\n",
       "    stroke=\"#663399\" stroke-width=\"2\" />\n",
       "<line x1=\"159.4\" y1=\"75.0\" x2=\"168.4\" y2=\"72.1\"\n",
       "    stroke=\"#663399\" stroke-width=\"2\" />\n",
       "<line x1=\"168.4\" y1=\"72.1\" x2=\"176.0\" y2=\"66.5\"\n",
       "    stroke=\"#663399\" stroke-width=\"2\" />\n",
       "<line x1=\"176.0\" y1=\"66.5\" x2=\"181.6\" y2=\"58.9\"\n",
       "    stroke=\"#663399\" stroke-width=\"2\" />\n",
       "<line x1=\"181.6\" y1=\"58.9\" x2=\"184.5\" y2=\"50.0\"\n",
       "    stroke=\"#663399\" stroke-width=\"2\" />\n",
       "<line x1=\"184.5\" y1=\"50.0\" x2=\"184.5\" y2=\"40.5\"\n",
       "    stroke=\"#663399\" stroke-width=\"2\" />\n",
       "<line x1=\"184.5\" y1=\"40.5\" x2=\"181.6\" y2=\"31.6\"\n",
       "    stroke=\"#663399\" stroke-width=\"2\" />\n",
       "<line x1=\"181.6\" y1=\"31.6\" x2=\"176.0\" y2=\"23.9\"\n",
       "    stroke=\"#663399\" stroke-width=\"2\" />\n",
       "<line x1=\"176.0\" y1=\"23.9\" x2=\"168.4\" y2=\"18.4\"\n",
       "    stroke=\"#663399\" stroke-width=\"2\" />\n",
       "<line x1=\"168.4\" y1=\"18.4\" x2=\"159.4\" y2=\"15.5\"\n",
       "    stroke=\"#663399\" stroke-width=\"2\" />\n",
       "<line x1=\"159.4\" y1=\"15.5\" x2=\"150.0\" y2=\"15.5\"\n",
       "    stroke=\"#663399\" stroke-width=\"2\" />\n",
       "<line x1=\"150.0\" y1=\"15.5\" x2=\"141.0\" y2=\"18.4\"\n",
       "    stroke=\"#663399\" stroke-width=\"2\" />\n",
       "<line x1=\"141.0\" y1=\"18.4\" x2=\"133.4\" y2=\"23.9\"\n",
       "    stroke=\"#663399\" stroke-width=\"2\" />\n",
       "<line x1=\"133.4\" y1=\"23.9\" x2=\"127.9\" y2=\"31.6\"\n",
       "    stroke=\"#663399\" stroke-width=\"2\" />\n",
       "<line x1=\"127.9\" y1=\"31.6\" x2=\"125.0\" y2=\"40.5\"\n",
       "    stroke=\"#663399\" stroke-width=\"2\" />\n",
       "<line x1=\"125.0\" y1=\"40.5\" x2=\"125.0\" y2=\"50.0\"\n",
       "    stroke=\"#663399\" stroke-width=\"2\" />\n",
       "<line x1=\"125.0\" y1=\"50.0\" x2=\"127.9\" y2=\"58.9\"\n",
       "    stroke=\"#663399\" stroke-width=\"2\" />\n",
       "<line x1=\"127.9\" y1=\"58.9\" x2=\"133.4\" y2=\"66.5\"\n",
       "    stroke=\"#663399\" stroke-width=\"2\" />\n",
       "<line x1=\"133.4\" y1=\"66.5\" x2=\"141.0\" y2=\"72.1\"\n",
       "    stroke=\"#663399\" stroke-width=\"2\" />\n",
       "<line x1=\"141.0\" y1=\"72.1\" x2=\"150.0\" y2=\"75.0\"\n",
       "    stroke=\"#663399\" stroke-width=\"2\" />\n",
       "\n",
       "<g transform=\"rotate(-90.0,150.0,75.0) translate(150.0, 75.0)\">\n",
       "    <circle stroke=\"#63A375\" stroke-width=\"2\" fill=\"transparent\" r=\"5.5\" cx=\"0\" cy=\"0\"/>\n",
       "    <polygon points=\"0,12 2,9 -2,9\" style=\"fill:#63A375;stroke:#63A375;stroke-width:2\"/>\n",
       "</g>\n",
       "\n",
       "</svg>"
      ],
      "text/plain": [
       "<IPython.core.display.HTML object>"
      ]
     },
     "metadata": {},
     "output_type": "display_data"
    }
   ],
   "source": [
    "make_turtle(delay=0.02)\n",
    "circle(30)"
   ]
  },
  {
   "cell_type": "markdown",
   "id": "898a342d",
   "metadata": {},
   "source": [
    "這個解決方案的一個限制是 `n` 是一個常數，這意味著\n",
    "對於非常大的圓，邊會太長，而對於小圓，\n",
    "我們會浪費時間畫非常短的邊。\n",
    "一個選項是將函式泛化，把 `n` 當作一個參數。\n",
    "但現在我們先讓它簡單一點。"
   ]
  },
  {
   "cell_type": "markdown",
   "id": "28053453",
   "metadata": {},
   "source": [
    "## 重構 (Refactoring)\n",
    "\n",
    "現在讓我們寫一個更通用的 `circle` 版本，叫做 `arc`，它接受第二個參數 `angle`，並且畫出一個跨越給定角度的圓弧。\n",
    "例如，如果 `angle` 是 `360` 度，它會畫出一個完整的圓。如果 `angle` 是 `180` 度，它會畫出一個半圓。\n",
    "\n",
    "為了寫 `circle`，我們能夠重複使用 `polygon`，因為一個多邊的圖形是圓形的一個良好近似。\n",
    "但是我們不能用 `polygon` 來寫 `arc`。\n",
    "\n",
    "相反地，我們會建立一個更通用的 `polygon` 版本，叫做 `polyline`。"
   ]
  },
  {
   "cell_type": "code",
   "execution_count": 48,
   "id": "64e5863e",
   "metadata": {
    "lines_to_next_cell": 2
   },
   "outputs": [],
   "source": [
    "def polyline(n, length, angle): # 譯註：n 是線段數，length 是長度，angle 是轉角\n",
    "    for i in range(n):\n",
    "        forward(length)\n",
    "        left(angle)"
   ]
  },
  {
   "cell_type": "markdown",
   "id": "004d368d",
   "metadata": {},
   "source": [
    "`polyline` 接受要畫的線段數量 `n`、線段的長度 `length`，以及它們之間的角度 `angle` 作為參數。\n",
    "\n",
    "現在我們可以重寫 `polygon` 來使用 `polyline`。"
   ]
  },
  {
   "cell_type": "code",
   "execution_count": 49,
   "id": "2fffe027",
   "metadata": {
    "lines_to_next_cell": 2
   },
   "outputs": [],
   "source": [
    "def polygon(n, length):\n",
    "    angle = 360.0 / n\n",
    "    polyline(n, length, angle)"
   ]
  },
  {
   "cell_type": "markdown",
   "id": "0173739d",
   "metadata": {},
   "source": [
    "我們也可以用 `polyline` 來寫 `arc`。"
   ]
  },
  {
   "cell_type": "code",
   "execution_count": 54,
   "id": "0d90f0f8",
   "metadata": {
    "lines_to_next_cell": 2
   },
   "outputs": [],
   "source": [
    "def arc(radius, angle): # 譯註：radius 是半徑，angle 是圓弧的角度\n",
    "    arc_length = 2 * math.pi * radius * angle / 360 # 譯註：計算弧長\n",
    "    n = 30 # 譯註：用 30 個小線段來近似圓弧\n",
    "    length = arc_length / n # 譯註：每個小線段的長度\n",
    "    step_angle = angle / n # 譯註：每個小線段之間轉動的角度\n",
    "    polyline(n, length, step_angle)"
   ]
  },
  {
   "cell_type": "markdown",
   "id": "e645cbf5",
   "metadata": {},
   "source": [
    "`arc` 和 `circle` 類似，只是它計算的是 `arc_length`，也就是圓周長的一部分。\n",
    "\n",
    "最後，我們可以重寫 `circle` 來使用 `arc`。"
   ]
  },
  {
   "cell_type": "code",
   "execution_count": 55,
   "id": "8e40800f",
   "metadata": {
    "lines_to_next_cell": 2
   },
   "outputs": [],
   "source": [
    "def circle(radius):\n",
    "    arc(radius,  360) # 譯註：完整的圓是 360 度的弧"
   ]
  },
  {
   "cell_type": "markdown",
   "id": "2b579a82",
   "metadata": {},
   "source": [
    "為了檢查這些函式是否如預期般運作，我們將用它們來畫一個像蝸牛的東西。\n",
    "設定 `delay=0`，海龜會以最快的速度執行。"
   ]
  },
  {
   "cell_type": "code",
   "execution_count": 57,
   "id": "47e5c0e4",
   "metadata": {
    "lines_to_next_cell": 2
   },
   "outputs": [
    {
     "data": {
      "text/html": [
       "<svg width=\"300\" height=\"150\">\n",
       "    <rect width=\"100%\" height=\"100%\" fill=\"#F3F3F7\" />\n",
       "\n",
       "<line x1=\"150\" y1=\"75\" x2=\"159.0\" y2=\"75.0\"\n",
       "    stroke=\"#663399\" stroke-width=\"2\" />\n",
       "<line x1=\"159.0\" y1=\"75.0\" x2=\"167.6\" y2=\"72.2\"\n",
       "    stroke=\"#663399\" stroke-width=\"2\" />\n",
       "<line x1=\"167.6\" y1=\"72.2\" x2=\"174.8\" y2=\"66.9\"\n",
       "    stroke=\"#663399\" stroke-width=\"2\" />\n",
       "<line x1=\"174.8\" y1=\"66.9\" x2=\"180.1\" y2=\"59.6\"\n",
       "    stroke=\"#663399\" stroke-width=\"2\" />\n",
       "<line x1=\"180.1\" y1=\"59.6\" x2=\"182.9\" y2=\"51.1\"\n",
       "    stroke=\"#663399\" stroke-width=\"2\" />\n",
       "<line x1=\"182.9\" y1=\"51.1\" x2=\"182.9\" y2=\"42.1\"\n",
       "    stroke=\"#663399\" stroke-width=\"2\" />\n",
       "<line x1=\"182.9\" y1=\"42.1\" x2=\"180.1\" y2=\"33.5\"\n",
       "    stroke=\"#663399\" stroke-width=\"2\" />\n",
       "<line x1=\"180.1\" y1=\"33.5\" x2=\"174.8\" y2=\"26.2\"\n",
       "    stroke=\"#663399\" stroke-width=\"2\" />\n",
       "<line x1=\"174.8\" y1=\"26.2\" x2=\"167.6\" y2=\"21.0\"\n",
       "    stroke=\"#663399\" stroke-width=\"2\" />\n",
       "<line x1=\"167.6\" y1=\"21.0\" x2=\"159.0\" y2=\"18.2\"\n",
       "    stroke=\"#663399\" stroke-width=\"2\" />\n",
       "<line x1=\"159.0\" y1=\"18.2\" x2=\"150.0\" y2=\"18.2\"\n",
       "    stroke=\"#663399\" stroke-width=\"2\" />\n",
       "<line x1=\"150.0\" y1=\"18.2\" x2=\"141.4\" y2=\"21.0\"\n",
       "    stroke=\"#663399\" stroke-width=\"2\" />\n",
       "<line x1=\"141.4\" y1=\"21.0\" x2=\"134.2\" y2=\"26.2\"\n",
       "    stroke=\"#663399\" stroke-width=\"2\" />\n",
       "<line x1=\"134.2\" y1=\"26.2\" x2=\"128.9\" y2=\"33.5\"\n",
       "    stroke=\"#663399\" stroke-width=\"2\" />\n",
       "<line x1=\"128.9\" y1=\"33.5\" x2=\"126.1\" y2=\"42.1\"\n",
       "    stroke=\"#663399\" stroke-width=\"2\" />\n",
       "<line x1=\"126.1\" y1=\"42.1\" x2=\"126.1\" y2=\"51.1\"\n",
       "    stroke=\"#663399\" stroke-width=\"2\" />\n",
       "<line x1=\"126.1\" y1=\"51.1\" x2=\"128.9\" y2=\"59.6\"\n",
       "    stroke=\"#663399\" stroke-width=\"2\" />\n",
       "<line x1=\"128.9\" y1=\"59.6\" x2=\"134.2\" y2=\"66.9\"\n",
       "    stroke=\"#663399\" stroke-width=\"2\" />\n",
       "<line x1=\"134.2\" y1=\"66.9\" x2=\"141.4\" y2=\"72.2\"\n",
       "    stroke=\"#663399\" stroke-width=\"2\" />\n",
       "<line x1=\"141.4\" y1=\"72.2\" x2=\"150.0\" y2=\"75.0\"\n",
       "    stroke=\"#663399\" stroke-width=\"2\" />\n",
       "<line x1=\"150.0\" y1=\"75.0\" x2=\"152.9\" y2=\"75.0\"\n",
       "    stroke=\"#663399\" stroke-width=\"2\" />\n",
       "<line x1=\"152.9\" y1=\"75.0\" x2=\"155.7\" y2=\"74.9\"\n",
       "    stroke=\"#663399\" stroke-width=\"2\" />\n",
       "<line x1=\"155.7\" y1=\"74.9\" x2=\"158.5\" y2=\"74.7\"\n",
       "    stroke=\"#663399\" stroke-width=\"2\" />\n",
       "<line x1=\"158.5\" y1=\"74.7\" x2=\"161.4\" y2=\"74.3\"\n",
       "    stroke=\"#663399\" stroke-width=\"2\" />\n",
       "<line x1=\"161.4\" y1=\"74.3\" x2=\"164.2\" y2=\"73.8\"\n",
       "    stroke=\"#663399\" stroke-width=\"2\" />\n",
       "<line x1=\"164.2\" y1=\"73.8\" x2=\"167.0\" y2=\"73.3\"\n",
       "    stroke=\"#663399\" stroke-width=\"2\" />\n",
       "<line x1=\"167.0\" y1=\"73.3\" x2=\"169.7\" y2=\"72.6\"\n",
       "    stroke=\"#663399\" stroke-width=\"2\" />\n",
       "<line x1=\"169.7\" y1=\"72.6\" x2=\"172.5\" y2=\"71.8\"\n",
       "    stroke=\"#663399\" stroke-width=\"2\" />\n",
       "<line x1=\"172.5\" y1=\"71.8\" x2=\"175.2\" y2=\"70.9\"\n",
       "    stroke=\"#663399\" stroke-width=\"2\" />\n",
       "<line x1=\"175.2\" y1=\"70.9\" x2=\"177.8\" y2=\"69.8\"\n",
       "    stroke=\"#663399\" stroke-width=\"2\" />\n",
       "<line x1=\"177.8\" y1=\"69.8\" x2=\"180.5\" y2=\"68.7\"\n",
       "    stroke=\"#663399\" stroke-width=\"2\" />\n",
       "<line x1=\"180.5\" y1=\"68.7\" x2=\"183.0\" y2=\"67.5\"\n",
       "    stroke=\"#663399\" stroke-width=\"2\" />\n",
       "<line x1=\"183.0\" y1=\"67.5\" x2=\"185.5\" y2=\"66.1\"\n",
       "    stroke=\"#663399\" stroke-width=\"2\" />\n",
       "<line x1=\"185.5\" y1=\"66.1\" x2=\"188.0\" y2=\"64.7\"\n",
       "    stroke=\"#663399\" stroke-width=\"2\" />\n",
       "<line x1=\"188.0\" y1=\"64.7\" x2=\"190.4\" y2=\"63.2\"\n",
       "    stroke=\"#663399\" stroke-width=\"2\" />\n",
       "<line x1=\"190.4\" y1=\"63.2\" x2=\"192.7\" y2=\"61.5\"\n",
       "    stroke=\"#663399\" stroke-width=\"2\" />\n",
       "<line x1=\"192.7\" y1=\"61.5\" x2=\"195.0\" y2=\"59.8\"\n",
       "    stroke=\"#663399\" stroke-width=\"2\" />\n",
       "<line x1=\"195.0\" y1=\"59.8\" x2=\"197.2\" y2=\"58.0\"\n",
       "    stroke=\"#663399\" stroke-width=\"2\" />\n",
       "<line x1=\"197.2\" y1=\"58.0\" x2=\"199.3\" y2=\"56.1\"\n",
       "    stroke=\"#663399\" stroke-width=\"2\" />\n",
       "<line x1=\"199.3\" y1=\"56.1\" x2=\"201.4\" y2=\"54.1\"\n",
       "    stroke=\"#663399\" stroke-width=\"2\" />\n",
       "<line x1=\"201.4\" y1=\"54.1\" x2=\"203.3\" y2=\"52.0\"\n",
       "    stroke=\"#663399\" stroke-width=\"2\" />\n",
       "<line x1=\"203.3\" y1=\"52.0\" x2=\"205.2\" y2=\"49.9\"\n",
       "    stroke=\"#663399\" stroke-width=\"2\" />\n",
       "<line x1=\"205.2\" y1=\"49.9\" x2=\"207.0\" y2=\"47.6\"\n",
       "    stroke=\"#663399\" stroke-width=\"2\" />\n",
       "<line x1=\"207.0\" y1=\"47.6\" x2=\"208.7\" y2=\"45.3\"\n",
       "    stroke=\"#663399\" stroke-width=\"2\" />\n",
       "<line x1=\"208.7\" y1=\"45.3\" x2=\"210.2\" y2=\"43.0\"\n",
       "    stroke=\"#663399\" stroke-width=\"2\" />\n",
       "<line x1=\"210.2\" y1=\"43.0\" x2=\"211.7\" y2=\"40.5\"\n",
       "    stroke=\"#663399\" stroke-width=\"2\" />\n",
       "<line x1=\"211.7\" y1=\"40.5\" x2=\"213.1\" y2=\"38.1\"\n",
       "    stroke=\"#663399\" stroke-width=\"2\" />\n",
       "<line x1=\"213.1\" y1=\"38.1\" x2=\"214.4\" y2=\"35.5\"\n",
       "    stroke=\"#663399\" stroke-width=\"2\" />\n",
       "<line x1=\"214.4\" y1=\"35.5\" x2=\"215.6\" y2=\"32.9\"\n",
       "    stroke=\"#663399\" stroke-width=\"2\" />\n",
       "<line x1=\"215.6\" y1=\"32.9\" x2=\"216.7\" y2=\"30.3\"\n",
       "    stroke=\"#663399\" stroke-width=\"2\" />\n",
       "<line x1=\"216.7\" y1=\"30.3\" x2=\"217.4\" y2=\"28.3\"\n",
       "    stroke=\"#663399\" stroke-width=\"2\" />\n",
       "<line x1=\"217.4\" y1=\"28.3\" x2=\"217.7\" y2=\"26.2\"\n",
       "    stroke=\"#663399\" stroke-width=\"2\" />\n",
       "<line x1=\"217.7\" y1=\"26.2\" x2=\"217.6\" y2=\"24.2\"\n",
       "    stroke=\"#663399\" stroke-width=\"2\" />\n",
       "<line x1=\"217.6\" y1=\"24.2\" x2=\"217.0\" y2=\"22.1\"\n",
       "    stroke=\"#663399\" stroke-width=\"2\" />\n",
       "<line x1=\"217.0\" y1=\"22.1\" x2=\"216.0\" y2=\"20.3\"\n",
       "    stroke=\"#663399\" stroke-width=\"2\" />\n",
       "<line x1=\"216.0\" y1=\"20.3\" x2=\"214.7\" y2=\"18.7\"\n",
       "    stroke=\"#663399\" stroke-width=\"2\" />\n",
       "<line x1=\"214.7\" y1=\"18.7\" x2=\"213.0\" y2=\"17.4\"\n",
       "    stroke=\"#663399\" stroke-width=\"2\" />\n",
       "<line x1=\"213.0\" y1=\"17.4\" x2=\"211.1\" y2=\"16.5\"\n",
       "    stroke=\"#663399\" stroke-width=\"2\" />\n",
       "<line x1=\"211.1\" y1=\"16.5\" x2=\"209.1\" y2=\"16.0\"\n",
       "    stroke=\"#663399\" stroke-width=\"2\" />\n",
       "<line x1=\"209.1\" y1=\"16.0\" x2=\"207.0\" y2=\"15.9\"\n",
       "    stroke=\"#663399\" stroke-width=\"2\" />\n",
       "<line x1=\"207.0\" y1=\"15.9\" x2=\"204.9\" y2=\"16.3\"\n",
       "    stroke=\"#663399\" stroke-width=\"2\" />\n",
       "<line x1=\"204.9\" y1=\"16.3\" x2=\"203.0\" y2=\"17.0\"\n",
       "    stroke=\"#663399\" stroke-width=\"2\" />\n",
       "<line x1=\"203.0\" y1=\"17.0\" x2=\"201.3\" y2=\"18.2\"\n",
       "    stroke=\"#663399\" stroke-width=\"2\" />\n",
       "<line x1=\"201.3\" y1=\"18.2\" x2=\"199.8\" y2=\"19.7\"\n",
       "    stroke=\"#663399\" stroke-width=\"2\" />\n",
       "<line x1=\"199.8\" y1=\"19.7\" x2=\"198.7\" y2=\"21.5\"\n",
       "    stroke=\"#663399\" stroke-width=\"2\" />\n",
       "<line x1=\"198.7\" y1=\"21.5\" x2=\"198.0\" y2=\"23.5\"\n",
       "    stroke=\"#663399\" stroke-width=\"2\" />\n",
       "<line x1=\"198.0\" y1=\"23.5\" x2=\"197.7\" y2=\"25.5\"\n",
       "    stroke=\"#663399\" stroke-width=\"2\" />\n",
       "<line x1=\"197.7\" y1=\"25.5\" x2=\"197.8\" y2=\"27.6\"\n",
       "    stroke=\"#663399\" stroke-width=\"2\" />\n",
       "<line x1=\"197.8\" y1=\"27.6\" x2=\"198.4\" y2=\"29.6\"\n",
       "    stroke=\"#663399\" stroke-width=\"2\" />\n",
       "<line x1=\"198.4\" y1=\"29.6\" x2=\"199.4\" y2=\"31.5\"\n",
       "    stroke=\"#663399\" stroke-width=\"2\" />\n",
       "<line x1=\"199.4\" y1=\"31.5\" x2=\"200.7\" y2=\"33.1\"\n",
       "    stroke=\"#663399\" stroke-width=\"2\" />\n",
       "<line x1=\"200.7\" y1=\"33.1\" x2=\"202.4\" y2=\"34.4\"\n",
       "    stroke=\"#663399\" stroke-width=\"2\" />\n",
       "<line x1=\"202.4\" y1=\"34.4\" x2=\"204.3\" y2=\"35.3\"\n",
       "    stroke=\"#663399\" stroke-width=\"2\" />\n",
       "<line x1=\"204.3\" y1=\"35.3\" x2=\"206.3\" y2=\"35.8\"\n",
       "    stroke=\"#663399\" stroke-width=\"2\" />\n",
       "<line x1=\"206.3\" y1=\"35.8\" x2=\"208.4\" y2=\"35.9\"\n",
       "    stroke=\"#663399\" stroke-width=\"2\" />\n",
       "<line x1=\"208.4\" y1=\"35.9\" x2=\"210.5\" y2=\"35.5\"\n",
       "    stroke=\"#663399\" stroke-width=\"2\" />\n",
       "<line x1=\"210.5\" y1=\"35.5\" x2=\"212.4\" y2=\"34.7\"\n",
       "    stroke=\"#663399\" stroke-width=\"2\" />\n",
       "<line x1=\"212.4\" y1=\"34.7\" x2=\"214.1\" y2=\"33.6\"\n",
       "    stroke=\"#663399\" stroke-width=\"2\" />\n",
       "<line x1=\"214.1\" y1=\"33.6\" x2=\"215.6\" y2=\"32.1\"\n",
       "    stroke=\"#663399\" stroke-width=\"2\" />\n",
       "<line x1=\"215.6\" y1=\"32.1\" x2=\"216.7\" y2=\"30.3\"\n",
       "    stroke=\"#663399\" stroke-width=\"2\" />\n",
       "\n",
       "<g transform=\"rotate(200.0,216.7,30.3) translate(216.7, 30.3)\">\n",
       "    <circle stroke=\"#63A375\" stroke-width=\"2\" fill=\"transparent\" r=\"5.5\" cx=\"0\" cy=\"0\"/>\n",
       "    <polygon points=\"0,12 2,9 -2,9\" style=\"fill:#63A375;stroke:#63A375;stroke-width:2\"/>\n",
       "</g>\n",
       "\n",
       "</svg>"
      ],
      "text/plain": [
       "<IPython.core.display.HTML object>"
      ]
     },
     "metadata": {},
     "output_type": "display_data"
    }
   ],
   "source": [
    "make_turtle(delay=0)\n",
    "polygon(n=20, length=9)\n",
    "arc(radius=70, angle=70)\n",
    "circle(radius=10)"
   ]
  },
  {
   "cell_type": "markdown",
   "id": "016076b7",
   "metadata": {},
   "source": [
    "在這個例子中，我們從可運作的程式碼開始，然後用不同的函式重新組織它。\n",
    "像這樣改善程式碼而不改變其行為的修改，稱為 **重構**（refactoring）。\n",
    "\n",
    "如果我們事先有計畫，我們可能一開始就寫 `polyline`，就能避免重構，但通常在專案開始時，你並不知道該如何將程式劃分成函式。\n",
    "一旦你開始寫程式，你會更了解問題。\n",
    "有時候重構代表你學到了一些東西。"
   ]
  },
  {
   "cell_type": "markdown",
   "id": "3274f3ff",
   "metadata": {},
   "source": [
    "## 堆疊圖 (Stack diagram)\n",
    "\n",
    "當我們呼叫 `circle` 時，它會呼叫 `arc`，而 `arc` 會呼叫 `polyline`。\n",
    "我們可以用堆疊圖來顯示這個函式呼叫的順序以及每個函式的參數。"
   ]
  },
  {
   "cell_type": "code",
   "execution_count": 58,
   "id": "8f91d77f",
   "metadata": {},
   "outputs": [],
   "source": [
    "from diagram import make_binding, make_frame, Frame, Stack"
   ]
  },
  {
   "cell_type": "code",
   "execution_count": 59,
   "id": "d2134aa7",
   "metadata": {},
   "outputs": [],
   "source": [
    "# 譯註：以下程式碼是用來產生堆疊圖的，說明函式呼叫的層次關係\n",
    "frame1 = make_frame(dict(radius=30), name='circle', loc='left') # circle(radius=30)"
   ]
  },
  {
   "cell_type": "code",
   "execution_count": 60,
   "id": "99f115cd",
   "metadata": {},
   "outputs": [],
   "source": [
    "frame2 = make_frame(dict(radius=30, angle=360), name='arc', loc='left', dx=1.1) # arc(radius=30, angle=360)"
   ]
  },
  {
   "cell_type": "code",
   "execution_count": 61,
   "id": "9f808da0",
   "metadata": {},
   "outputs": [],
   "source": [
    "frame3 = make_frame(dict(n=30, length= (2 * math.pi * 30 * 360 / 360) / 30, angle=360/30), # 譯註：原n=60, length=3.04, angle=5.8 似乎與 circle(30) -> arc(30,360) 推算不一致，此處依推算調整，但不影響圖示意義\n",
    "                    name='polyline', loc='left', dx=1.1, offsetx=-0.27) # polyline(n=30, length=pi*2, angle=12)"
   ]
  },
  {
   "cell_type": "code",
   "execution_count": 62,
   "id": "d1017240",
   "metadata": {
    "lines_to_next_cell": 2
   },
   "outputs": [],
   "source": [
    "stack = Stack([frame1, frame2, frame3], dy=-0.4)"
   ]
  },
  {
   "cell_type": "code",
   "execution_count": 63,
   "id": "a700318d",
   "metadata": {},
   "outputs": [],
   "source": [
    "from diagram import diagram, adjust"
   ]
  },
  {
   "cell_type": "code",
   "execution_count": 64,
   "id": "568dde33",
   "metadata": {
    "lines_to_next_cell": 2
   },
   "outputs": [
    {
     "data": {
      "image/png": "[encoded data removed]",
      "text/plain": [
       "<Figure size 358x131 with 1 Axes>"
      ]
     },
     "metadata": {},
     "output_type": "display_data"
    }
   ],
   "source": [
    "width, height, x, y = [3.58, 1.31, 0.98, 1.06] # 譯註：這些是圖表的繪製參數\n",
    "ax = diagram(width, height)\n",
    "bbox = stack.draw(ax, x, y)\n",
    "#adjust(x, y, bbox)"
   ]
  },
  {
   "cell_type": "markdown",
   "id": "e5bb9f3b",
   "metadata": {},
   "source": [
    "注意，`polyline` 中的 `angle` 值與 `arc` 中的 `angle` 值不同。\n",
    "參數是區域性的（local），這意味著你可以在不同的函式中使用相同的參數名稱；在每個函式中，它是一個不同的變數，並且可以指向不同的值。"
   ]
  },
  {
   "cell_type": "markdown",
   "id": "bd7bf96a",
   "metadata": {},
   "source": [
    "## 開發計畫\n",
    "\n",
    "**開發計畫**（development plan）是編寫程式的過程。\n",
    "我們在本章中使用的過程是「封裝與泛化」。\n",
    "這個過程的步驟如下：\n",
    "\n",
    "1.  開始時，寫一個沒有函式定義的小程式。\n",
    "\n",
    "2.  一旦程式可以運作，找出其中一個連貫的部分，\n",
    "    將這個部分封裝到一個函式中，並給它一個名稱。\n",
    "\n",
    "3.  透過加入適當的參數來泛化這個函式。\n",
    "\n",
    "4.  重複步驟 1 到 3，直到你有一組可運作的函式。\n",
    "\n",
    "5.  尋找透過重構來改善程式的機會。例如，\n",
    "    如果你在好幾個地方有相似的程式碼，考慮\n",
    "    把它們提取到一個適當通用的函式中。\n",
    "\n",
    "這個過程有一些缺點——我們稍後會看到其他方法——但如果你事先不知道如何將程式劃分成函式，它可能很有用。\n",
    "這種方法讓你邊做邊設計。"
   ]
  },
  {
   "cell_type": "markdown",
   "id": "07592ced",
   "metadata": {},
   "source": [
    "函式的設計包含兩個部分：\n",
    "\n",
    "* **介面**（interface）是函式如何被使用，包括它的名稱、它接受的參數，以及函式應該做什麼。\n",
    "\n",
    "* **實作**（implementation）是函式如何完成它應該做的事情。\n",
    "\n",
    "例如，這是我們寫的第一個 `circle` 版本，它使用了 `polygon`。"
   ]
  },
  {
   "cell_type": "code",
   "execution_count": 65,
   "id": "d290a820",
   "metadata": {
    "lines_to_next_cell": 2
   },
   "outputs": [],
   "source": [
    "def circle(radius):\n",
    "    circumference = 2 * math.pi * radius\n",
    "    n = 30\n",
    "    length = circumference / n\n",
    "    polygon(n, length)"
   ]
  },
  {
   "cell_type": "markdown",
   "id": "2c722a6c",
   "metadata": {},
   "source": [
    "這是重構後使用 `arc` 的版本。"
   ]
  },
  {
   "cell_type": "code",
   "execution_count": 66,
   "id": "8e784d02",
   "metadata": {
    "lines_to_next_cell": 2
   },
   "outputs": [],
   "source": [
    "def circle(radius):\n",
    "    arc(radius,  360)"
   ]
  },
  {
   "cell_type": "markdown",
   "id": "cf7ec8e3",
   "metadata": {},
   "source": [
    "這兩個函式有相同的介面——它們接受相同的參數並做相同的事情——但它們有不同的實作。"
   ]
  },
  {
   "cell_type": "markdown",
   "id": "3fcbb8cf",
   "metadata": {},
   "source": [
    "## 文件字串 (Docstrings)\n",
    "\n",
    "**文件字串**（docstring）是位於函式開頭的一個字串，用來解釋函式的介面（\"doc\" 是 \"documentation\" 的縮寫，意思是文件）。\n",
    "這裡有一個例子："
   ]
  },
  {
   "cell_type": "code",
   "execution_count": 67,
   "id": "669dbad0",
   "metadata": {
    "lines_to_next_cell": 2
   },
   "outputs": [],
   "source": [
    "def polyline(n, length, angle):\n",
    "    \"\"\"畫出具有給定長度和它們之間角度的線段。\n",
    "    \n",
    "    n: 整數，線段的數量\n",
    "    length: 線段的長度\n",
    "    angle: 線段之間的角度 (單位是度)\n",
    "    \"\"\"\n",
    "    for i in range(n):\n",
    "        forward(length)\n",
    "        left(angle)"
   ]
  },
  {
   "cell_type": "markdown",
   "id": "ad8eedc8",
   "metadata": {},
   "source": [
    "依照慣例，文件字串是三引號字串，也稱為 **多行字串**（multiline strings），因為三引號允許字串跨越多行。\n",
    "\n",
    "文件字串應該：\n",
    "\n",
    "* 簡潔地解釋函式做什麼，不要涉及它如何運作的細節，\n",
    "\n",
    "* 解釋每個參數如何影響函式的行為，以及\n",
    "\n",
    "* 指出每個參數應該是什麼型別，如果不明顯的話。\n",
    "\n",
    "撰寫這種文件是介面設計中重要的一環。\n",
    "一個設計良好的介面應該很容易解釋；如果你很難解釋你的某個函式，也許介面可以改進。"
   ]
  },
  {
   "cell_type": "markdown",
   "id": "1689bfb8",
   "metadata": {},
   "source": [
    "## 除錯 (Debugging)\n",
    "\n",
    "介面就像是函式和呼叫者之間的一份合約。呼叫者\n",
    "同意提供特定的引數，而函式同意\n",
    "完成特定的工作。\n",
    "\n",
    "例如，`polyline` 需要三個引數：`n` 必須是整數；`length` 應該是正數；而 `angle` 必須是數字，並且被理解為以度為單位。\n",
    "\n",
    "這些要求稱為 **前置條件**（preconditions），因為它們應該在函式開始執行之前就成立。相反地，函式結束時的條件稱為 **後置條件**（postconditions）。\n",
    "後置條件包括函式的預期效果（例如畫線段）和任何副作用（例如移動海龜或進行其他更改）。\n",
    "\n",
    "前置條件是呼叫者的責任。如果呼叫者違反了前置條件而函式沒有正確運作，那麼錯誤是在呼叫者身上，而不是函式。\n",
    "\n",
    "如果前置條件滿足而後置條件不滿足，那麼錯誤就在函式中。如果你的前置和後置條件都很清楚，它們可以幫助除錯。"
   ]
  },
  {
   "cell_type": "markdown",
   "id": "7d893bd8",
   "metadata": {},
   "source": [
    "## 詞彙表\n",
    "\n",
    "**介面設計 (interface design):**\n",
    "設計函式介面的過程，包括它應該接受的參數。\n",
    "\n",
    "**畫布 (canvas):**\n",
    "一個用來顯示圖形元素的視窗，包括線條、圓形、矩形和其他形狀。\n",
    "\n",
    "**封裝 (encapsulation):**\n",
    " 將一系列陳述轉換為函式定義的過程。\n",
    "\n",
    "**泛化 (generalization):**\n",
    " 用適當通用的東西（如變數或參數）取代不必要特定的東西（如數字）的過程。\n",
    "\n",
    "**關鍵字引數 (keyword argument):**\n",
    "包含參數名稱的引數。\n",
    "\n",
    "**重構 (refactoring):**\n",
    " 修改一個可運作的程式以改善函式介面和程式碼其他品質的過程。\n",
    "\n",
    "**開發計畫 (development plan):**\n",
    "編寫程式的過程。\n",
    "\n",
    "**文件字串 (docstring):**\n",
    " 出現在函式定義頂部，用來記錄函式介面的字串。\n",
    "\n",
    "**多行字串 (multiline string):**\n",
    "用三引號括起來，可以跨越多行的字串。\n",
    "\n",
    "**前置條件 (precondition):**\n",
    " 在函式開始之前，呼叫者應該滿足的要求。\n",
    "\n",
    "**後置條件 (postcondition):**\n",
    " 在函式結束之前，函式本身應該滿足的要求。"
   ]
  },
  {
   "cell_type": "markdown",
   "id": "693c2a30",
   "metadata": {},
   "source": [
    "## 練習"
   ]
  },
  {
   "cell_type": "markdown",
   "id": "34229dcf",
   "metadata": {},
   "source": [
    "這個儲存格告訴 Jupyter 在發生執行期錯誤時提供詳細的除錯資訊。\n",
    "在做練習之前先執行它。"
   ]
  },
  {
   "cell_type": "code",
   "execution_count": 69,
   "id": "6a098997",
   "metadata": {
    "lines_to_next_cell": 2
   },
   "outputs": [
    {
     "name": "stdout",
     "output_type": "stream",
     "text": [
      "Exception reporting mode: Verbose\n"
     ]
    }
   ],
   "source": [
    "get_ipython().run_line_magic('xmode', 'Verbose')"
   ]
  },
  {
   "cell_type": "markdown",
   "id": "9e46439b",
   "metadata": {},
   "source": [
    "下面的練習中，你可能會想用到一些其他的海龜函式。\n",
    "\n",
    "* `penup` 會抬起海龜想像中的筆，這樣它移動時就不會留下痕跡。\n",
    "\n",
    "* `pendown` 會把筆放回去。\n",
    "\n",
    "下面的函式使用 `penup` 和 `pendown` 來移動海龜而不留下痕跡。"
   ]
  },
  {
   "cell_type": "code",
   "execution_count": 70,
   "id": "c492af2e",
   "metadata": {
    "lines_to_next_cell": 1
   },
   "outputs": [],
   "source": [
    "from jupyturtle import penup, pendown"
   ]
  },
  {
   "cell_type": "code",
   "execution_count": 73,
   "id": "6f463456",
   "metadata": {
    "lines_to_next_cell": 2
   },
   "outputs": [],
   "source": [
    "def jump(length):\n",
    "    \"\"\"向前移動 length 個單位而不留下痕跡。\n",
    "    \n",
    "    後置條件: 離開時筆是放下的狀態。\n",
    "    \"\"\"\n",
    "    penup()\n",
    "    forward(length)\n",
    "    pendown()"
   ]
  },
  {
   "cell_type": "markdown",
   "id": "9f5ed9a8",
   "metadata": {},
   "source": [
    "### 練習\n",
    "\n",
    "寫一個叫做 `rectangle` 的函式，用來畫出給定邊長的矩形。\n",
    "例如，這是一個寬 `80` 單位、高 `40` 單位的矩形。"
   ]
  },
  {
   "cell_type": "markdown",
   "id": "b5e90311",
   "metadata": {},
   "source": [
    "解答"
   ]
  },
  {
   "cell_type": "code",
   "execution_count": 74,
   "id": "ac4cc515",
   "metadata": {
    "lines_to_next_cell": 2
   },
   "outputs": [],
   "source": [
    "def rectangle(length1, length2):\n",
    "    \"\"\"畫出給定長度的矩形。\n",
    "    \n",
    "    length1: 第一條邊的長度\n",
    "    length2: 第二條邊的長度\n",
    "    \"\"\"\n",
    "    for i in range(2):\n",
    "        forward(length1)\n",
    "        left(90)\n",
    "        forward(length2)\n",
    "        left(90)"
   ]
  },
  {
   "cell_type": "markdown",
   "id": "a6ea0755",
   "metadata": {},
   "source": [
    "你可以用下面的程式碼來測試你的函式。"
   ]
  },
  {
   "cell_type": "code",
   "execution_count": 76,
   "id": "8a9f033f",
   "metadata": {
    "lines_to_next_cell": 2
   },
   "outputs": [
    {
     "data": {
      "text/html": [
       "<svg width=\"300\" height=\"150\">\n",
       "    <rect width=\"100%\" height=\"100%\" fill=\"#F3F3F7\" />\n",
       "\n",
       "<line x1=\"150\" y1=\"75\" x2=\"230.0\" y2=\"75.0\"\n",
       "    stroke=\"#663399\" stroke-width=\"2\" />\n",
       "<line x1=\"230.0\" y1=\"75.0\" x2=\"230.0\" y2=\"35.0\"\n",
       "    stroke=\"#663399\" stroke-width=\"2\" />\n",
       "<line x1=\"230.0\" y1=\"35.0\" x2=\"150.0\" y2=\"35.0\"\n",
       "    stroke=\"#663399\" stroke-width=\"2\" />\n",
       "<line x1=\"150.0\" y1=\"35.0\" x2=\"150.0\" y2=\"75.0\"\n",
       "    stroke=\"#663399\" stroke-width=\"2\" />\n",
       "\n",
       "<g transform=\"rotate(-90.0,150.0,75.0) translate(150.0, 75.0)\">\n",
       "    <circle stroke=\"#63A375\" stroke-width=\"2\" fill=\"transparent\" r=\"5.5\" cx=\"0\" cy=\"0\"/>\n",
       "    <polygon points=\"0,12 2,9 -2,9\" style=\"fill:#63A375;stroke:#63A375;stroke-width:2\"/>\n",
       "</g>\n",
       "\n",
       "</svg>"
      ],
      "text/plain": [
       "<IPython.core.display.HTML object>"
      ]
     },
     "metadata": {},
     "output_type": "display_data"
    }
   ],
   "source": [
    "make_turtle()\n",
    "rectangle(80, 40)"
   ]
  },
  {
   "cell_type": "markdown",
   "id": "5d2ef809",
   "metadata": {},
   "source": [
    "### 練習\n",
    "\n",
    "寫一個叫做 `rhombus` 的函式，用來畫出給定邊長和給定內角的菱形。例如，這是一個邊長 `50`、內角 `60` 度的菱形。"
   ]
  },
  {
   "cell_type": "markdown",
   "id": "c20ff1b9",
   "metadata": {},
   "source": [
    "解答"
   ]
  },
  {
   "cell_type": "code",
   "execution_count": null,
   "id": "b295998a",
   "metadata": {
    "lines_to_next_cell": 2
   },
   "outputs": [],
   "source": [
    "def rhombus(length, angle):\n",
    "    \"\"\"畫出給定邊長和內角的菱形。\n",
    "    \n",
    "    length: 邊長\n",
    "    angle: 其中一個內角 (不是鄰邊的夾角，而是頂點的角)\n",
    "    \"\"\"\n",
    "    for i in range(2):\n",
    "        forward(length)\n",
    "        left(angle) # 譯註：第一個轉角是給定的內角\n",
    "        forward(length)\n",
    "        left(180-angle) # 譯註：菱形的下一個轉角是 180 度減去前一個內角"
   ]
  },
  {
   "cell_type": "markdown",
   "id": "19363c05",
   "metadata": {},
   "source": [
    "你可以用下面的程式碼來測試你的函式。"
   ]
  },
  {
   "cell_type": "code",
   "execution_count": null,
   "id": "e491b09b",
   "metadata": {
    "lines_to_next_cell": 2
   },
   "outputs": [],
   "source": [
    "make_turtle()\n",
    "rhombus(50, 60)"
   ]
  },
  {
   "cell_type": "markdown",
   "id": "0c3ea5e8",
   "metadata": {},
   "source": [
    "### 練習\n",
    "\n",
    "現在寫一個更通用的函式叫做 `parallelogram`，用來畫出具有平行邊的四邊形（平行四邊形）。然後重寫 `rectangle` 和 `rhombus` 來使用 `parallelogram`。"
   ]
  },
  {
   "cell_type": "markdown",
   "id": "8091ae62",
   "metadata": {},
   "source": [
    "解答"
   ]
  },
  {
   "cell_type": "code",
   "execution_count": null,
   "id": "ff8affb0",
   "metadata": {
    "lines_to_next_cell": 2
   },
   "outputs": [],
   "source": [
    "def parallelogram(length1, length2, angle):\n",
    "    \"\"\"畫出平行四邊形。\n",
    "    \n",
    "    length1: 第一組對邊的長度\n",
    "    length2: 第二組對邊的長度\n",
    "    angle: length1 和 length2 邊之間的夾角 (度)\n",
    "    \"\"\"\n",
    "    for i in range(2):\n",
    "        forward(length1)\n",
    "        left(angle)\n",
    "        forward(length2)\n",
    "        left(180-angle)"
   ]
  },
  {
   "cell_type": "markdown",
   "id": "28a3feb0",
   "metadata": {},
   "source": [
    "解答"
   ]
  },
  {
   "cell_type": "code",
   "execution_count": null,
   "id": "20b6da41",
   "metadata": {
    "lines_to_next_cell": 2
   },
   "outputs": [],
   "source": [
    "def rectangle(length1, length2):\n",
    "    \"\"\"畫出給定長度的矩形。\n",
    "    \n",
    "    length1: 第一條邊的長度\n",
    "    length2: 第二條邊的長度\n",
    "    \"\"\"\n",
    "    parallelogram(length1, length2, 90) # 譯註：矩形是夾角為90度的平行四邊形"
   ]
  },
  {
   "cell_type": "markdown",
   "id": "10c4beed",
   "metadata": {},
   "source": [
    "解答"
   ]
  },
  {
   "cell_type": "code",
   "execution_count": null,
   "id": "b8e2db39",
   "metadata": {
    "lines_to_next_cell": 2
   },
   "outputs": [],
   "source": [
    "def rhombus(length, angle):\n",
    "    \"\"\"畫出給定邊長和內角的菱形。\n",
    "    \n",
    "    length: 邊長\n",
    "    angle: 其中一個內角\n",
    "    \"\"\"\n",
    "    parallelogram(length, length, angle) # 譯註：菱形是四邊等長的平行四邊形"
   ]
  },
  {
   "cell_type": "markdown",
   "id": "71ebc0ea",
   "metadata": {},
   "source": [
    "你可以用下面的程式碼來測試你的函式。"
   ]
  },
  {
   "cell_type": "code",
   "execution_count": null,
   "id": "c746853d",
   "metadata": {},
   "outputs": [],
   "source": [
    "make_turtle(width=400) # 譯註：設定畫布寬度\n",
    "jump(-120) # 譯註：向左移動一段距離，讓圖形不會重疊"
   ]
  },
  {
   "cell_type": "code",
   "execution_count": null,
   "id": "90805651",
   "metadata": {
    "lines_to_next_cell": 2
   },
   "outputs": [],
   "source": [
    "rectangle(80, 40)\n",
    "jump(100) # 譯註：向右移動，為下一個圖形騰出空間\n",
    "rhombus(50, 60)\n",
    "jump(80)\n",
    "parallelogram(80, 50, 60)"
   ]
  },
  {
   "cell_type": "markdown",
   "id": "c3116c97",
   "metadata": {},
   "source": [
    "### 練習\n",
    "\n",
    "寫一組適當通用的函式，可以畫出像這樣的圖形。\n",
    "\n",
    "![](https://github.com/AllenDowney/ThinkPython/raw/v3/jupyturtle_pie.png)\n",
    "\n",
    "提示：寫一個叫做 `triangle` 的函式來畫一個三角形的扇形，然後再寫一個叫做 `draw_pie` 的函式來使用 `triangle`。"
   ]
  },
  {
   "cell_type": "markdown",
   "id": "4af22bbd",
   "metadata": {},
   "source": [
    "解答"
   ]
  },
  {
   "cell_type": "code",
   "execution_count": null,
   "id": "151a3f2b",
   "metadata": {
    "lines_to_next_cell": 2
   },
   "outputs": [],
   "source": [
    "def triangle(radius,  angle): # 譯註：此處的 triangle 其實是畫一個等腰三角形扇形\n",
    "    \"\"\"畫一個等腰三角形。\n",
    "\n",
    "    海龜開始和結束都在頂點，面向底邊的中間。\n",
    "\n",
    "    radius: 等長邊的長度 (可以想成是扇形的半徑)\n",
    "    angle: 頂角的一半 (以度為單位)\n",
    "    \"\"\"\n",
    "    # 譯註：y 是底邊長度的一半\n",
    "    y = radius * math.sin(angle * math.pi / 180) # 將角度轉為弧度給 sin 使用\n",
    "\n",
    "    right(angle)    # 轉向準備畫第一條等長邊\n",
    "    forward(radius) # 畫第一條等長邊\n",
    "    left(90+angle)  # 轉向準備畫底邊\n",
    "    forward(2*y)    # 畫底邊 (長度是 2y)\n",
    "    left(90+angle)  # 轉向準備畫第二條等長邊\n",
    "    forward(radius) # 畫第二條等長邊\n",
    "    left(180-angle) # 轉回起始方向 (讓頂角朝上)"
   ]
  },
  {
   "cell_type": "markdown",
   "id": "78474975",
   "metadata": {},
   "source": [
    "解答"
   ]
  },
  {
   "cell_type": "code",
   "execution_count": null,
   "id": "9d466394",
   "metadata": {
    "lines_to_next_cell": 2
   },
   "outputs": [],
   "source": [
    "def draw_pie(n, radius):\n",
    "    \"\"\"畫一個分成多個扇形的圓餅圖。\n",
    "\n",
    "    n: 扇形的數量\n",
    "    radius: 扇形邊的長度 (也就是圓餅的半徑)\n",
    "    \"\"\"\n",
    "    angle = 360.0 / n # 譯註：每個扇形的頂角\n",
    "    for i in range(n):\n",
    "        triangle(radius,  angle/2) # 譯註：傳給 triangle 的是頂角的一半\n",
    "        left(angle) # 譯註：畫完一個扇形後，轉向下一個扇形的位置"
   ]
  },
  {
   "cell_type": "markdown",
   "id": "2f159842",
   "metadata": {},
   "source": [
    "你可以用下面的程式碼來測試你的函式。"
   ]
  },
  {
   "cell_type": "markdown",
   "id": "3a3c4cf5",
   "metadata": {
    "lines_to_next_cell": 2
   },
   "source": [
    "In[ ]: # 譯註：原書此處為 In[43]，但執行時可能會是不同編號"
   ]
  },
  {
   "cell_type": "code",
   "execution_count": null,
   "id": "c69149c7",
   "metadata": {},
   "outputs": [],
   "source": [
    "turtle = make_turtle(delay=0)\n",
    "jump(-80) # 譯註：向左移動，讓圖形居中一些"
   ]
  },
  {
   "cell_type": "code",
   "execution_count": null,
   "id": "cf864df0",
   "metadata": {
    "lines_to_next_cell": 2
   },
   "outputs": [],
   "source": [
    "size = 40\n",
    "draw_pie(5, size) # 畫 5 個扇形的餅圖\n",
    "jump(2*size) # 向右移動，避免重疊\n",
    "draw_pie(6, size) # 畫 6 個扇形的餅圖\n",
    "jump(2*size)\n",
    "draw_pie(7, size) # 畫 7 個扇形的餅圖"
   ]
  },
  {
   "cell_type": "markdown",
   "id": "35171ed0",
   "metadata": {
    "lines_to_next_cell": 2
   },
   "source": [
    "In[51]: # 譯註：此儲存格用於將海龜繪圖結果儲存為 SVG 檔案"
   ]
  },
  {
   "cell_type": "code",
   "execution_count": null,
   "id": "745c29f2",
   "metadata": {
    "lines_to_next_cell": 2
   },
   "outputs": [],
   "source": [
    "with open(\"jupyturtle_pie.svg\", \"w\") as svg_file:\n",
    "    svg_content = turtle.get_SVG()\n",
    "    svg_file.write(svg_content)"
   ]
  },
  {
   "cell_type": "markdown",
   "id": "370049dd",
   "metadata": {},
   "source": [
    "### 練習\n",
    "\n",
    "寫一組適當通用的函式，可以畫出像這樣的花朵。\n",
    "\n",
    "![](https://github.com/AllenDowney/ThinkPython/raw/v3/jupyturtle_flower.png)\n",
    "\n",
    "提示：使用 `arc` 來寫一個叫做 `petal` 的函式，用來畫一片花瓣。"
   ]
  },
  {
   "cell_type": "markdown",
   "id": "a7f5195e",
   "metadata": {},
   "source": [
    "解答"
   ]
  },
  {
   "cell_type": "code",
   "execution_count": null,
   "id": "0fca369d",
   "metadata": {
    "lines_to_next_cell": 2
   },
   "outputs": [],
   "source": [
    "def petal(radius,  angle):\n",
    "    \"\"\"用兩個圓弧畫一片花瓣。\n",
    "\n",
    "    radius: 圓弧的半徑\n",
    "    angle: 構成圓弧的角度 (度)\n",
    "    \"\"\"\n",
    "    for i in range(2): # 譯註：一片花瓣由左右兩段弧組成\n",
    "        arc(radius,  angle) # 畫一段弧\n",
    "        left(180-angle)    # 轉向準備畫另一段對稱的弧"
   ]
  },
  {
   "cell_type": "markdown",
   "id": "ff3c1bf2",
   "metadata": {},
   "source": [
    "解答"
   ]
  },
  {
   "cell_type": "code",
   "execution_count": null,
   "id": "f071163a",
   "metadata": {
    "lines_to_next_cell": 2
   },
   "outputs": [],
   "source": [
    "def flower(n, radius, angle):\n",
    "    \"\"\"畫一朵有 n 片花瓣的花。\n",
    "\n",
    "    n: 花瓣的數量\n",
    "    radius: 構成花瓣的圓弧的半徑\n",
    "    angle: 構成花瓣的圓弧的角度 (度)\n",
    "    \"\"\"\n",
    "    for i in range(n):\n",
    "        petal(radius,  angle) # 畫一片花瓣\n",
    "        left(360.0/n)       # 轉向準備畫下一片花瓣"
   ]
  },
  {
   "cell_type": "markdown",
   "id": "af4d569a",
   "metadata": {},
   "source": [
    "你可以用下面的程式碼來測試你的函式。\n",
    "\n",
    "因為解答會畫很多小線段，所以執行時可能會越來越慢。\n",
    "為了避免這種情況，你可以加入關鍵字引數 `auto_render=False` 來避免每一步都重新繪製，然後在最後呼叫 `render` 函式來顯示結果。\n",
    "\n",
    "在你除錯的時候，你可能會想移除 `auto_render=False`。"
   ]
  },
  {
   "cell_type": "markdown",
   "id": "9614341f",
   "metadata": {
    "lines_to_next_cell": 2
   },
   "source": [
    "In[ ]: # 譯註：原書此處為 In[46]"
   ]
  },
  {
   "cell_type": "code",
   "execution_count": null,
   "id": "1ee3909b",
   "metadata": {},
   "outputs": [],
   "source": [
    "from jupyturtle import render # 譯註：匯入 render 函式"
   ]
  },
  {
   "cell_type": "code",
   "execution_count": null,
   "id": "bd048864",
   "metadata": {},
   "outputs": [],
   "source": [
    "turtle = make_turtle(auto_render=False) # 譯註：關閉自動渲染以提高速度"
   ]
  },
  {
   "cell_type": "code",
   "execution_count": null,
   "id": "de67d9ce",
   "metadata": {},
   "outputs": [],
   "source": [
    "jump(-60) # 向左移動\n",
    "n = 7\n",
    "radius = 60\n",
    "angle = 60\n",
    "flower(n, radius, angle)"
   ]
  },
  {
   "cell_type": "code",
   "execution_count": null,
   "id": "474c22c0",
   "metadata": {},
   "outputs": [],
   "source": [
    "jump(120) # 向右移動\n",
    "n = 9\n",
    "radius = 40\n",
    "angle = 85 # 譯註：嘗試不同的角度讓花瓣形狀改變\n",
    "flower(n, radius, angle)"
   ]
  },
  {
   "cell_type": "code",
   "execution_count": null,
   "id": "a4ee8a57",
   "metadata": {
    "lines_to_next_cell": 2
   },
   "outputs": [],
   "source": [
    "render() # 譯註：最後一次性渲染所有圖形"
   ]
  },
  {
   "cell_type": "markdown",
   "id": "04e2be0d",
   "metadata": {
    "lines_to_next_cell": 2
   },
   "source": [
    "In[53]: # 譯註：此儲存格用於將海龜繪圖結果儲存為 SVG 檔案"
   ]
  },
  {
   "cell_type": "code",
   "execution_count": null,
   "id": "e21ef544",
   "metadata": {
    "lines_to_next_cell": 2
   },
   "outputs": [],
   "source": [
    "with open(\"jupyturtle_flower.svg\", \"w\") as svg_file:\n",
    "    svg_content = turtle.get_SVG()\n",
    "    svg_file.write(svg_content)"
   ]
  },
  {
   "cell_type": "markdown",
   "id": "d333dcc8",
   "metadata": {},
   "source": [
    "### 問問虛擬助理\n",
    "\n",
    "Python 中有好幾個像 `jupyturtle` 這樣的模組，而我們在這章用的是為這本書客製化的版本。\n",
    "所以如果你問虛擬助理問題，它可能不知道該用哪個模組。\n",
    "但是如果你給它一些例子讓它參考，它或許能搞懂。\n",
    "例如，試試看下面這個提示，看看它能不能寫出一個畫螺旋線的函式：\n",
    "\n",
    "```\n",
    "下面的程式使用一個海龜繪圖模組來畫一個圓形：\n",
    "\n",
    "from jupyturtle import make_turtle, forward, left\n",
    "import math\n",
    "\n",
    "def polygon(n, length):\n",
    "    angle = 360 / n\n",
    "    for i in range(n):\n",
    "        forward(length)\n",
    "        left(angle)\n",
    "\n",
    "def circle(radius):\n",
    "    circumference = 2 * math.pi * radius\n",
    "    n = 30\n",
    "    length = circumference / n\n",
    "    polygon(n, length)\n",
    "\n",
    "make_turtle(delay=0)\n",
    "circle(30)\n",
    "\n",
    "請寫一個畫螺旋線的函式。\n",
    "```"
   ]
  },
  {
   "cell_type": "markdown",
   "id": "167af1f8",
   "metadata": {},
   "source": [
    "請記住，結果可能會用到我們還沒學過的功能，而且也可能有錯誤。\n",
    "從虛擬助理那裡複製程式碼，看看你能不能讓它運作起來。\n",
    "如果你沒有得到想要的結果，試著修改你的提示。\n"
   ]
  },
  {
   "cell_type": "markdown",
   "id": "761724a8",
   "metadata": {},
   "source": [
    "解答 (這是書中提供的，由虛擬助理可能產生的其中一種螺旋線)"
   ]
  },
  {
   "cell_type": "code",
   "execution_count": null,
   "id": "8710463e",
   "metadata": {
    "lines_to_next_cell": 1
   },
   "outputs": [],
   "source": [
    "def spiral(length, angle):\n",
    "    turtle = make_turtle(delay=0)\n",
    "    for _ in range(100): # 譯註：畫 100 段線\n",
    "        forward(length)\n",
    "        right(angle) # 譯註：每次向右轉\n",
    "        length += 1  # 每次增加線段長度，形成向外擴展的螺旋"
   ]
  },
  {
   "cell_type": "code",
   "execution_count": null,
   "id": "40fa3c75",
   "metadata": {
    "lines_to_next_cell": 2
   },
   "outputs": [],
   "source": [
    "spiral(5, 90) # 初始長度5，每次轉90度 (會畫出方形螺旋)"
   ]
  },
  {
   "cell_type": "markdown",
   "id": "74e10075",
   "metadata": {},
   "source": [
    "解答 (這是書中提供的，對虛擬助理的另一個提示可能產生的圓形螺旋線)"
   ]
  },
  {
   "cell_type": "markdown",
   "id": "f4fd88e5",
   "metadata": {},
   "source": [
    "加上額外的提示：\n",
    "把它變成圓形螺旋線，並且不要改變模組的名稱"
   ]
  },
  {
   "cell_type": "code",
   "execution_count": null,
   "id": "6c71158f",
   "metadata": {
    "lines_to_next_cell": 1
   },
   "outputs": [],
   "source": [
    "import math"
   ]
  },
  {
   "cell_type": "code",
   "execution_count": null,
   "id": "f6e63825",
   "metadata": {
    "lines_to_next_cell": 1
   },
   "outputs": [],
   "source": [
    "def circular_spiral(radius, angle_step): # 譯註：angle_step 是每一步轉的角度\n",
    "    turtle = make_turtle(delay=0, width=500, height=500)\n",
    "    rotations = 5 # 譯註：螺旋線繞幾圈\n",
    "    # 譯註：distance 是每轉一度所前進的距離，這樣可以讓線段長度隨著半徑變化\n",
    "    for current_angle_total in range(rotations * 360): # 總共轉 rotations * 360 度\n",
    "        distance = 2 * math.pi * radius / 360 # 根據當前半徑計算每度前進的弧長\n",
    "        forward(distance * angle_step) # 前進 angle_step 度對應的弧長\n",
    "        left(angle_step) # 轉動 angle_step 度\n",
    "        radius += 0.01 # 譯註：每次稍微增加半徑，讓螺旋向外擴展 (原為0.1，調小讓螺旋更密)\n",
    "        # 譯註：原來的 distance 計算放在迴圈外，會導致螺旋不是均勻擴散。\n",
    "        # 理想的圓形螺旋，每一步的弧長應該依賴於當前的半徑。\n",
    "        # 但為了簡化，這裡的 distance 每次都基於變化的 radius 和固定的 angle_step 來計算前進的長度。\n",
    "        # 更精確的阿基米德螺旋線是 r = a + bθ，這裡的實現是近似。"
   ]
  },
  {
   "cell_type": "code",
   "execution_count": null,
   "id": "5d78eef2",
   "metadata": {
    "lines_to_next_cell": 2
   },
   "outputs": [],
   "source": [
    "circular_spiral(10, 1) # 初始半徑10，每步轉1度"
   ]
  },
  {
   "cell_type": "markdown",
   "id": "4c9eeccf",
   "metadata": {},
   "source": [
    "[Think Python: 3rd Edition](https://allendowney.github.io/ThinkPython/index.html)\n",
    "\n",
    "Copyright 2024 [Allen B. Downey](https://allendowney.com)\n",
    "\n",
    "程式碼授權: [MIT License](https://mit-license.org/)\n",
    "\n",
    "文字授權: [Creative Commons Attribution-NonCommercial-ShareAlike 4.0 International](https://creativecommons.org/licenses/by-nc-sa/4.0/)"
   ]
  }
 ],
 "metadata": {
  "jupytext": {
   "cell_metadata_filter": "-all",
   "encoding": "# coding: utf-8",
   "executable": "/usr/bin/env python",
   "main_language": "python",
   "notebook_metadata_filter": "-all"
  },
  "kernelspec": {
   "display_name": ".venv",
   "language": "python",
   "name": "python3"
  },
  "language_info": {
   "codemirror_mode": {
    "name": "ipython",
    "version": 3
   },
   "file_extension": ".py",
   "mimetype": "text/x-python",
   "name": "python",
   "nbconvert_exporter": "python",
   "pygments_lexer": "ipython3",
   "version": "3.12.2"
  }
 },
 "nbformat": 4,
 "nbformat_minor": 5
}
