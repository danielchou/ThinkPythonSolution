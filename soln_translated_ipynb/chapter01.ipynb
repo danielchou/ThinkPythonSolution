{
 "cells": [
  {
   "cell_type": "markdown",
   "id": "84b9b38b",
   "metadata": {},
   "source": [
    "您可以從以下網站訂購《Think Python 3e》的印刷版和電子書版本：\n",
    "[Bookshop.org](https://bookshop.org/a/98697/9781098155438) 和\n",
    "[Amazon](https://www.amazon.com/_/dp/1098155432?smid=ATVPDKIKX0DER&_encoding=UTF8&tag=oreilly20-20&_encoding=UTF8&tag=greenteapre01-20&linkCode=ur2&linkId=e2a529f94920295d27ec8a06e757dc7c&camp=1789&creative=9325)。"
   ]
  },
  {
   "cell_type": "markdown",
   "id": "29024d65",
   "metadata": {},
   "source": [
    "# 歡迎\n",
    "\n",
    "這是《Think Python》第3版第1章的Jupyter筆記本，作者Allen B. Downey。\n",
    "\n",
    "如果您不熟悉Jupyter筆記本，\n",
    "[請點擊這裡查看簡短介紹](https://colab.research.google.com/github/AllenDowney/ThinkPython/blob/v3/chapters/jupyter_intro.ipynb)。\n",
    "\n",
    "然後，如果您還沒有在Colab上執行此筆記本，[請點擊這裡在Colab上執行此筆記本](https://colab.research.google.com/github/AllenDowney/ThinkPython/blob/v3/chapters/chap01.ipynb)。"
   ]
  },
  {
   "cell_type": "markdown",
   "id": "b4998800",
   "metadata": {},
   "source": [
    "以下程式碼會下載一個檔案並執行專門為本書設計的程式碼。\n",
    "您現在還不需要理解這個程式碼，但在執行筆記本中的其他內容之前，您應該先執行它。\n",
    "請記住，您可以透過選取儲存格並按下播放按鈕（圓圈中的三角形）或按住`Shift`並按`Enter`來執行程式碼。"
   ]
  },
  {
   "cell_type": "code",
   "execution_count": 16,
   "id": "56079c27",
   "metadata": {
    "lines_to_next_cell": 1
   },
   "outputs": [],
   "source": [
    "from os.path import basename, exists"
   ]
  },
  {
   "cell_type": "code",
   "execution_count": 17,
   "id": "833209e4",
   "metadata": {
    "lines_to_next_cell": 1
   },
   "outputs": [],
   "source": [
    "def download(url):\n",
    "    filename = basename(url)\n",
    "    if not exists(filename):\n",
    "        from urllib.request import urlretrieve\n",
    "\n",
    "        local, _ = urlretrieve(url, filename)\n",
    "        print(\"Downloaded \" + str(local))\n",
    "    return filename"
   ]
  },
  {
   "cell_type": "code",
   "execution_count": 18,
   "id": "800b7ae0",
   "metadata": {},
   "outputs": [],
   "source": [
    "download('https://github.com/AllenDowney/ThinkPython/raw/v3/thinkpython.py');"
   ]
  },
  {
   "cell_type": "code",
   "execution_count": 19,
   "id": "002d553f",
   "metadata": {
    "lines_to_next_cell": 2
   },
   "outputs": [],
   "source": [
    "import thinkpython"
   ]
  },
  {
   "cell_type": "markdown",
   "id": "adac0261",
   "metadata": {},
   "source": [
    "# 程式設計作為一種思考方式\n",
    "\n",
    "本書的第一個目標是教您如何使用Python進行程式設計。\n",
    "但學習程式設計意味著學習一種新的思考方式，所以本書的第二個目標是幫助您像電腦科學家一樣思考。\n",
    "這種思考方式結合了數學、工程學和自然科學的一些最佳特點。\n",
    "就像數學家一樣，電腦科學家使用形式語言來表示想法——特別是計算。\n",
    "就像工程師一樣，他們設計東西，將組件組裝成系統，並評估替代方案之間的權衡。\n",
    "就像科學家一樣，他們觀察複雜系統的行為，形成假設，並測試預測。\n",
    "\n",
    "我們將從程式設計的最基本元素開始，逐步深入。\n",
    "在本章中，我們將看到Python如何表示數字、字母和單詞。\n",
    "您還將學習執行算術運算。\n",
    "\n",
    "您也將開始學習程式設計的詞彙，包括運算子、表達式、值和類型等術語。\n",
    "這個詞彙很重要——您需要它來理解本書的其餘部分，與其他程式設計師交流，以及使用和理解虛擬助理。"
   ]
  },
  {
   "cell_type": "markdown",
   "id": "0e873f93",
   "metadata": {},
   "source": [
    "## 算術運算子\n",
    "\n",
    "**算術運算子**是代表算術計算的符號。例如，加號`+`執行加法。"
   ]
  },
  {
   "cell_type": "code",
   "execution_count": 1,
   "id": "2fa495aa",
   "metadata": {
    "lines_to_next_cell": 2
   },
   "outputs": [
    {
     "data": {
      "text/plain": [
       "42"
      ]
     },
     "execution_count": 1,
     "metadata": {},
     "output_type": "execute_result"
    }
   ],
   "source": [
    "30 + 12"
   ]
  },
  {
   "cell_type": "markdown",
   "id": "1734ceeb",
   "metadata": {},
   "source": [
    "減號`-`是執行減法的運算子。"
   ]
  },
  {
   "cell_type": "code",
   "execution_count": 2,
   "id": "29a530f4",
   "metadata": {
    "lines_to_next_cell": 2
   },
   "outputs": [
    {
     "data": {
      "text/plain": [
       "42"
      ]
     },
     "execution_count": 2,
     "metadata": {},
     "output_type": "execute_result"
    }
   ],
   "source": [
    "43 - 1"
   ]
  },
  {
   "cell_type": "markdown",
   "id": "c4629270",
   "metadata": {},
   "source": [
    "星號`*`執行乘法。"
   ]
  },
  {
   "cell_type": "code",
   "execution_count": 1,
   "id": "066ad7d9",
   "metadata": {
    "lines_to_next_cell": 2
   },
   "outputs": [
    {
     "data": {
      "text/plain": [
       "42"
      ]
     },
     "execution_count": 1,
     "metadata": {},
     "output_type": "execute_result"
    }
   ],
   "source": [
    "6 * 7"
   ]
  },
  {
   "cell_type": "markdown",
   "id": "1ae0be87",
   "metadata": {},
   "source": [
    "正斜線`/`執行除法："
   ]
  },
  {
   "cell_type": "code",
   "execution_count": 2,
   "id": "8348cc5a",
   "metadata": {
    "lines_to_next_cell": 2
   },
   "outputs": [
    {
     "data": {
      "text/plain": [
       "42.0"
      ]
     },
     "execution_count": 2,
     "metadata": {},
     "output_type": "execute_result"
    }
   ],
   "source": [
    "84 / 2"
   ]
  },
  {
   "cell_type": "markdown",
   "id": "70c7f913",
   "metadata": {},
   "source": [
    "注意除法的結果是`42.0`而不是`42`。這是因為Python中有兩種類型的數字：\n",
    "\n",
    "* **整數**，表示沒有小數或分數部分的數字，以及\n",
    "\n",
    "* **浮點數**，表示整數和帶有小數點的數字。\n",
    "\n",
    "如果您加、減或乘兩個整數，結果是整數。\n",
    "但如果您除兩個整數，結果是浮點數。\n",
    "Python提供另一個運算子`//`，它執行**整數除法**。\n",
    "整數除法的結果總是整數。"
   ]
  },
  {
   "cell_type": "code",
   "execution_count": 4,
   "id": "518affea",
   "metadata": {
    "lines_to_next_cell": 2
   },
   "outputs": [
    {
     "data": {
      "text/plain": [
       "42"
      ]
     },
     "execution_count": 4,
     "metadata": {},
     "output_type": "execute_result"
    }
   ],
   "source": [
    "85 // 2"
   ]
  },
  {
   "cell_type": "markdown",
   "id": "2f9fdbe3",
   "metadata": {},
   "source": [
    "整數除法也稱為「向下取整除法」，因為它總是向下取整（朝向「地板」）。"
   ]
  },
  {
   "cell_type": "code",
   "execution_count": 6,
   "id": "602444ad",
   "metadata": {
    "lines_to_next_cell": 2
   },
   "outputs": [
    {
     "data": {
      "text/plain": [
       "42"
      ]
     },
     "execution_count": 6,
     "metadata": {},
     "output_type": "execute_result"
    }
   ],
   "source": [
    "85 // 2"
   ]
  },
  {
   "cell_type": "markdown",
   "id": "82b6045d",
   "metadata": {},
   "source": [
    "最後，運算子`**`執行指數運算；也就是說，它將一個數字提升到某個次方："
   ]
  },
  {
   "cell_type": "code",
   "execution_count": 6,
   "id": "0524ba30",
   "metadata": {
    "lines_to_next_cell": 2
   },
   "outputs": [
    {
     "data": {
      "text/plain": [
       "16807"
      ]
     },
     "execution_count": 6,
     "metadata": {},
     "output_type": "execute_result"
    }
   ],
   "source": [
    "7 ** 5"
   ]
  },
  {
   "cell_type": "markdown",
   "id": "739125b0",
   "metadata": {},
   "source": [
    "在某些其他語言中，脫字符號`^`用於指數運算，但在Python中\n",
    "它是一個稱為XOR（互斥或）的位元運算子。\n",
    "如果您不熟悉位元運算子，結果可能會令人意外："
   ]
  },
  {
   "cell_type": "code",
   "execution_count": 8,
   "id": "c71f2435",
   "metadata": {
    "lines_to_next_cell": 2
   },
   "outputs": [
    {
     "data": {
      "text/plain": [
       "5"
      ]
     },
     "execution_count": 8,
     "metadata": {},
     "output_type": "execute_result"
    }
   ],
   "source": [
    "7 ^ 2"
   ]
  },
  {
   "cell_type": "markdown",
   "id": "3b66ca57",
   "metadata": {},
   "source": [
    "我不會在本書中介紹位元運算子，但您可以在以下網址了解它們：\n",
    "<http://wiki.python.org/moin/BitwiseOperators>。"
   ]
  },
  {
   "cell_type": "markdown",
   "id": "38453f2d",
   "metadata": {},
   "source": [
    "## 表達式\n",
    "\n",
    "運算子和數字的集合稱為**表達式**。\n",
    "表達式可以包含任意數量的運算子和數字。\n",
    "例如，這裡有一個包含兩個運算子的表達式。"
   ]
  },
  {
   "cell_type": "code",
   "execution_count": 7,
   "id": "417361cb",
   "metadata": {
    "lines_to_next_cell": 2
   },
   "outputs": [
    {
     "data": {
      "text/plain": [
       "42"
      ]
     },
     "execution_count": 7,
     "metadata": {},
     "output_type": "execute_result"
    }
   ],
   "source": [
    "6 + 6 ** 2"
   ]
  },
  {
   "cell_type": "markdown",
   "id": "a6f65bb2",
   "metadata": {},
   "source": [
    "注意指數運算在加法之前發生。\n",
    "Python遵循您可能在數學課上學過的運算順序：指數運算在乘法和除法之前發生，而乘法和除法在加法和減法之前發生。\n",
    "\n",
    "在以下例子中，乘法在加法之前發生。"
   ]
  },
  {
   "cell_type": "code",
   "execution_count": 8,
   "id": "5f2b46b3",
   "metadata": {
    "lines_to_next_cell": 2
   },
   "outputs": [
    {
     "data": {
      "text/plain": [
       "42"
      ]
     },
     "execution_count": 8,
     "metadata": {},
     "output_type": "execute_result"
    }
   ],
   "source": [
    "12 + 5 * 6"
   ]
  },
  {
   "cell_type": "markdown",
   "id": "6cde6981",
   "metadata": {},
   "source": [
    "如果您希望加法先發生，可以使用括號。"
   ]
  },
  {
   "cell_type": "code",
   "execution_count": 9,
   "id": "882f3f74",
   "metadata": {
    "lines_to_next_cell": 2
   },
   "outputs": [
    {
     "data": {
      "text/plain": [
       "102"
      ]
     },
     "execution_count": 9,
     "metadata": {},
     "output_type": "execute_result"
    }
   ],
   "source": [
    "(12 + 5) * 6"
   ]
  },
  {
   "cell_type": "markdown",
   "id": "744f8564",
   "metadata": {},
   "source": [
    "每個表達式都有一個**值**。\n",
    "例如，表達式`6 * 7`的值是`42`。"
   ]
  },
  {
   "cell_type": "markdown",
   "id": "bb89ca6d",
   "metadata": {},
   "source": [
    "## 算術函數\n",
    "\n",
    "除了算術運算子之外，Python還提供一些處理數字的**函數**。\n",
    "例如，`round`函數接受一個浮點數並將其四捨五入到最接近的整數。"
   ]
  },
  {
   "cell_type": "code",
   "execution_count": 10,
   "id": "1074e94c",
   "metadata": {
    "lines_to_next_cell": 2
   },
   "outputs": [
    {
     "data": {
      "text/plain": [
       "42"
      ]
     },
     "execution_count": 10,
     "metadata": {},
     "output_type": "execute_result"
    }
   ],
   "source": [
    "round(42.4)"
   ]
  },
  {
   "cell_type": "code",
   "execution_count": 11,
   "id": "3870e51c",
   "metadata": {
    "lines_to_next_cell": 2
   },
   "outputs": [
    {
     "data": {
      "text/plain": [
       "43"
      ]
     },
     "execution_count": 11,
     "metadata": {},
     "output_type": "execute_result"
    }
   ],
   "source": [
    "round(42.6)"
   ]
  },
  {
   "cell_type": "markdown",
   "id": "7b41723c",
   "metadata": {},
   "source": [
    "`abs`函數計算數字的絕對值。\n",
    "對於正數，絕對值就是數字本身。"
   ]
  },
  {
   "cell_type": "code",
   "execution_count": 12,
   "id": "a8e11e35",
   "metadata": {
    "lines_to_next_cell": 2
   },
   "outputs": [
    {
     "data": {
      "text/plain": [
       "42"
      ]
     },
     "execution_count": 12,
     "metadata": {},
     "output_type": "execute_result"
    }
   ],
   "source": [
    "abs(42)"
   ]
  },
  {
   "cell_type": "markdown",
   "id": "f0636f4e",
   "metadata": {},
   "source": [
    "對於負數，絕對值是正數。"
   ]
  },
  {
   "cell_type": "code",
   "execution_count": 13,
   "id": "ba48296d",
   "metadata": {
    "lines_to_next_cell": 2
   },
   "outputs": [
    {
     "data": {
      "text/plain": [
       "42"
      ]
     },
     "execution_count": 13,
     "metadata": {},
     "output_type": "execute_result"
    }
   ],
   "source": [
    "abs(-42)"
   ]
  },
  {
   "cell_type": "markdown",
   "id": "9cf2e12b",
   "metadata": {},
   "source": [
    "當我們像這樣使用函數時，我們說我們正在**呼叫**函數。\n",
    "呼叫函數的表達式是一個**函數呼叫**。\n",
    "\n",
    "當您呼叫函數時，括號是必需的。\n",
    "如果您漏掉它們，會得到錯誤訊息。"
   ]
  },
  {
   "cell_type": "markdown",
   "id": "5e5f8fa6",
   "metadata": {},
   "source": [
    "注意：以下儲存格使用`%%expect`，這是一個Jupyter「魔法指令」，意味著我們預期此儲存格中的程式碼會產生錯誤。\n",
    "關於此主題的更多信息，請參見[Jupyter筆記本介紹](https://colab.research.google.com/github/AllenDowney/ThinkPython/blob/v3/chapters/jupyter_intro.ipynb)。"
   ]
  },
  {
   "cell_type": "code",
   "execution_count": 14,
   "id": "66fb6c2e",
   "metadata": {
    "lines_to_next_cell": 2
   },
   "outputs": [
    {
     "name": "stderr",
     "output_type": "stream",
     "text": [
      "UsageError: Cell magic `%%expect` not found.\n"
     ]
    }
   ],
   "source": [
    "get_ipython().run_cell_magic('expect', 'SyntaxError', '\\nabs 42\\n')"
   ]
  },
  {
   "cell_type": "markdown",
   "id": "524d5ef3",
   "metadata": {},
   "source": [
    "您可以忽略此訊息的第一行；它不包含我們現在需要理解的任何信息。\n",
    "第二行是包含錯誤的程式碼，下面有一個脫字符號（`^`）來指示發現錯誤的位置。\n",
    "\n",
    "最後一行表明這是一個**語法錯誤**，這意味著表達式的結構有問題。\n",
    "在這個例子中，問題是函數呼叫需要括號。\n",
    "\n",
    "讓我們看看如果您既省略括號*又*省略值會發生什麼。"
   ]
  },
  {
   "cell_type": "code",
   "execution_count": 15,
   "id": "150437ae",
   "metadata": {
    "lines_to_next_cell": 2
   },
   "outputs": [
    {
     "data": {
      "text/plain": [
       "<function abs(x, /)>"
      ]
     },
     "execution_count": 15,
     "metadata": {},
     "output_type": "execute_result"
    }
   ],
   "source": [
    "abs"
   ]
  },
  {
   "cell_type": "markdown",
   "id": "efd234a9",
   "metadata": {},
   "source": [
    "單獨的函數名稱是一個有值的合法表達式。\n",
    "當它被顯示時，該值表明`abs`是一個函數，並包含一些我稍後會解釋的附加信息。"
   ]
  },
  {
   "cell_type": "markdown",
   "id": "cfca9340",
   "metadata": {},
   "source": [
    "## 字串\n",
    "\n",
    "除了數字之外，Python還可以表示字母序列，這些序列稱為**字串**，因為字母像項鍊上的珠子一樣串在一起。\n",
    "要寫字串，我們可以將字母序列放在直引號內。"
   ]
  },
  {
   "cell_type": "code",
   "execution_count": 20,
   "id": "ee41913b",
   "metadata": {
    "lines_to_next_cell": 2
   },
   "outputs": [
    {
     "data": {
      "text/plain": [
       "'Hello'"
      ]
     },
     "execution_count": 20,
     "metadata": {},
     "output_type": "execute_result"
    }
   ],
   "source": [
    "'Hello'"
   ]
  },
  {
   "cell_type": "markdown",
   "id": "58530dd7",
   "metadata": {},
   "source": [
    "使用雙引號也是合法的。"
   ]
  },
  {
   "cell_type": "code",
   "execution_count": 21,
   "id": "4fe9b36c",
   "metadata": {
    "lines_to_next_cell": 2
   },
   "outputs": [
    {
     "data": {
      "text/plain": [
       "'world'"
      ]
     },
     "execution_count": 21,
     "metadata": {},
     "output_type": "execute_result"
    }
   ],
   "source": [
    "\"world\""
   ]
  },
  {
   "cell_type": "markdown",
   "id": "735477d1",
   "metadata": {},
   "source": [
    "雙引號使得編寫包含撇號的字串變得容易，撇號與直引號是同一個符號。"
   ]
  },
  {
   "cell_type": "code",
   "execution_count": 22,
   "id": "92ec096f",
   "metadata": {
    "lines_to_next_cell": 2
   },
   "outputs": [
    {
     "data": {
      "text/plain": [
       "\"it's a small \""
      ]
     },
     "execution_count": 22,
     "metadata": {},
     "output_type": "execute_result"
    }
   ],
   "source": [
    "\"it's a small \""
   ]
  },
  {
   "cell_type": "markdown",
   "id": "28a198ac",
   "metadata": {},
   "source": [
    "字串也可以包含空格、標點符號和數字。"
   ]
  },
  {
   "cell_type": "code",
   "execution_count": 23,
   "id": "93448495",
   "metadata": {
    "lines_to_next_cell": 2
   },
   "outputs": [
    {
     "data": {
      "text/plain": [
       "'Well, '"
      ]
     },
     "execution_count": 23,
     "metadata": {},
     "output_type": "execute_result"
    }
   ],
   "source": [
    "'Well, '"
   ]
  },
  {
   "cell_type": "markdown",
   "id": "825cf368",
   "metadata": {},
   "source": [
    "`+`運算子適用於字串；它將兩個字串連接成一個字串，這稱為**連接**"
   ]
  },
  {
   "cell_type": "code",
   "execution_count": 24,
   "id": "e11b24e3",
   "metadata": {
    "lines_to_next_cell": 2
   },
   "outputs": [
    {
     "data": {
      "text/plain": [
       "\"Well, it's a small world.\""
      ]
     },
     "execution_count": 24,
     "metadata": {},
     "output_type": "execute_result"
    }
   ],
   "source": [
    "'Well, ' + \"it's a small \" + 'world.'"
   ]
  },
  {
   "cell_type": "markdown",
   "id": "28f268d9",
   "metadata": {},
   "source": [
    "`*`運算子也適用於字串；它製作字串的多個副本並連接它們。"
   ]
  },
  {
   "cell_type": "code",
   "execution_count": 26,
   "id": "212f0a52",
   "metadata": {
    "lines_to_next_cell": 2
   },
   "outputs": [
    {
     "data": {
      "text/plain": [
       "'Spam, Spam, Spam, Spam, Spam, Spam, Spam, Spam, Spam, '"
      ]
     },
     "execution_count": 26,
     "metadata": {},
     "output_type": "execute_result"
    }
   ],
   "source": [
    "'Spam, ' *9"
   ]
  },
  {
   "cell_type": "markdown",
   "id": "5ceae2ef",
   "metadata": {},
   "source": [
    "其他算術運算子不適用於字串。\n",
    "\n",
    "Python提供一個稱為`len`的函數，用於計算字串的長度。"
   ]
  },
  {
   "cell_type": "code",
   "execution_count": 27,
   "id": "871abf1b",
   "metadata": {
    "lines_to_next_cell": 2
   },
   "outputs": [
    {
     "data": {
      "text/plain": [
       "4"
      ]
     },
     "execution_count": 27,
     "metadata": {},
     "output_type": "execute_result"
    }
   ],
   "source": [
    "len('Spam')"
   ]
  },
  {
   "cell_type": "markdown",
   "id": "bdefc8d1",
   "metadata": {},
   "source": [
    "注意`len`計算引號之間的字母，但不包括引號。\n",
    "\n",
    "當您建立字串時，請確保使用直引號。\n",
    "反引號，也稱為反撇號，會導致語法錯誤。"
   ]
  },
  {
   "cell_type": "code",
   "execution_count": 28,
   "id": "5fc326da",
   "metadata": {
    "lines_to_next_cell": 2
   },
   "outputs": [
    {
     "ename": "SyntaxError",
     "evalue": "invalid syntax (1580190030.py, line 1)",
     "output_type": "error",
     "traceback": [
      "  \u001b[36mCell\u001b[39m\u001b[36m \u001b[39m\u001b[32mIn[28]\u001b[39m\u001b[32m, line 1\u001b[39m\n\u001b[31m    \u001b[39m\u001b[31m`Hello`\u001b[39m\n    ^\n\u001b[31mSyntaxError\u001b[39m\u001b[31m:\u001b[39m invalid syntax\n"
     ]
    }
   ],
   "source": [
    "get_ipython().run_cell_magic('expect', 'SyntaxError', '\\n`Hello`\\n')"
   ]
  },
  {
   "cell_type": "markdown",
   "id": "7fd9c407",
   "metadata": {},
   "source": [
    "彎引號，也稱為花式引號，也是非法的。"
   ]
  },
  {
   "cell_type": "code",
   "execution_count": 30,
   "id": "9eb87bf8",
   "metadata": {
    "lines_to_next_cell": 2
   },
   "outputs": [
    {
     "ename": "SyntaxError",
     "evalue": "invalid syntax. Perhaps you forgot a comma? (3084142713.py, line 1)",
     "output_type": "error",
     "traceback": [
      "  \u001b[36mCell\u001b[39m\u001b[36m \u001b[39m\u001b[32mIn[30]\u001b[39m\u001b[32m, line 1\u001b[39m\n\u001b[31m    \u001b[39m\u001b[31mget_ipython().run_cell_magic('expect', 'SyntaxError', '\\n'Hello'\\n')\u001b[39m\n                                                          ^\n\u001b[31mSyntaxError\u001b[39m\u001b[31m:\u001b[39m invalid syntax. Perhaps you forgot a comma?\n"
     ]
    }
   ],
   "source": [
    "get_ipython().run_cell_magic('expect', 'SyntaxError', '\\n'Hello'\\n')"
   ]
  },
  {
   "cell_type": "markdown",
   "id": "95656b67",
   "metadata": {},
   "source": [
    "## 值和類型\n",
    "\n",
    "到目前為止，我們已經看到三種值：\n",
    "\n",
    "* `2`是整數，\n",
    "\n",
    "* `42.0`是浮點數，以及\n",
    "\n",
    "* `'Hello'`是字串。\n",
    "\n",
    "一種值的類別稱為**類型**。\n",
    "每個值都有一個類型——或者我們有時說它「屬於」一個類型。\n",
    "\n",
    "Python提供一個稱為`type`的函數，告訴您任何值的類型。\n",
    "整數的類型是`int`。"
   ]
  },
  {
   "cell_type": "code",
   "execution_count": 31,
   "id": "43520268",
   "metadata": {
    "lines_to_next_cell": 2
   },
   "outputs": [
    {
     "data": {
      "text/plain": [
       "int"
      ]
     },
     "execution_count": 31,
     "metadata": {},
     "output_type": "execute_result"
    }
   ],
   "source": [
    "type(2)"
   ]
  },
  {
   "cell_type": "markdown",
   "id": "250dc6b8",
   "metadata": {},
   "source": [
    "浮點數的類型是`float`。"
   ]
  },
  {
   "cell_type": "code",
   "execution_count": 32,
   "id": "de6d137c",
   "metadata": {
    "lines_to_next_cell": 2
   },
   "outputs": [
    {
     "data": {
      "text/plain": [
       "float"
      ]
     },
     "execution_count": 32,
     "metadata": {},
     "output_type": "execute_result"
    }
   ],
   "source": [
    "type(42.0)"
   ]
  },
  {
   "cell_type": "markdown",
   "id": "b6c7ebf7",
   "metadata": {},
   "source": [
    "字串的類型是`str`。"
   ]
  },
  {
   "cell_type": "code",
   "execution_count": 33,
   "id": "02045e90",
   "metadata": {
    "lines_to_next_cell": 2
   },
   "outputs": [
    {
     "data": {
      "text/plain": [
       "str"
      ]
     },
     "execution_count": 33,
     "metadata": {},
     "output_type": "execute_result"
    }
   ],
   "source": [
    "type('Hello, World!')"
   ]
  },
  {
   "cell_type": "markdown",
   "id": "de53a331",
   "metadata": {},
   "source": [
    "類型`int`、`float`和`str`可以用作函數。\n",
    "例如，`int`可以接受浮點數並將其轉換為整數（總是向下取整）。"
   ]
  },
  {
   "cell_type": "code",
   "execution_count": 34,
   "id": "fa2dc08e",
   "metadata": {
    "lines_to_next_cell": 2
   },
   "outputs": [
    {
     "data": {
      "text/plain": [
       "42"
      ]
     },
     "execution_count": 34,
     "metadata": {},
     "output_type": "execute_result"
    }
   ],
   "source": [
    "int(42.9)"
   ]
  },
  {
   "cell_type": "markdown",
   "id": "9a29f6d8",
   "metadata": {},
   "source": [
    "`float`可以將整數轉換為浮點值。"
   ]
  },
  {
   "cell_type": "code",
   "execution_count": 35,
   "id": "acdec8a7",
   "metadata": {
    "lines_to_next_cell": 2
   },
   "outputs": [
    {
     "data": {
      "text/plain": [
       "42.0"
      ]
     },
     "execution_count": 35,
     "metadata": {},
     "output_type": "execute_result"
    }
   ],
   "source": [
    "float(42)"
   ]
  },
  {
   "cell_type": "markdown",
   "id": "4bf1b6b2",
   "metadata": {},
   "source": [
    "現在，這裡有一些可能令人困惑的東西。\n",
    "如果您將一串數字放在引號中會得到什麼？"
   ]
  },
  {
   "cell_type": "code",
   "execution_count": 36,
   "id": "5a04f4a3",
   "metadata": {
    "lines_to_next_cell": 2
   },
   "outputs": [
    {
     "data": {
      "text/plain": [
       "'126'"
      ]
     },
     "execution_count": 36,
     "metadata": {},
     "output_type": "execute_result"
    }
   ],
   "source": [
    "'126'"
   ]
  },
  {
   "cell_type": "markdown",
   "id": "0da82d29",
   "metadata": {},
   "source": [
    "它看起來像一個數字，但實際上是一個字串。"
   ]
  },
  {
   "cell_type": "code",
   "execution_count": 37,
   "id": "33a6d459",
   "metadata": {
    "lines_to_next_cell": 2
   },
   "outputs": [
    {
     "data": {
      "text/plain": [
       "str"
      ]
     },
     "execution_count": 37,
     "metadata": {},
     "output_type": "execute_result"
    }
   ],
   "source": [
    "type('126')"
   ]
  },
  {
   "cell_type": "markdown",
   "id": "24cf4726",
   "metadata": {},
   "source": [
    "如果您嘗試像數字一樣使用它，可能會得到錯誤。"
   ]
  },
  {
   "cell_type": "code",
   "execution_count": 38,
   "id": "f1382d21",
   "metadata": {
    "lines_to_next_cell": 2
   },
   "outputs": [
    {
     "ename": "TypeError",
     "evalue": "unsupported operand type(s) for /: 'str' and 'int'",
     "output_type": "error",
     "traceback": [
      "\u001b[31mTypeError\u001b[39m\u001b[31m:\u001b[39m unsupported operand type(s) for /: 'str' and 'int'\n"
     ]
    }
   ],
   "source": [
    "get_ipython().run_cell_magic('expect', 'TypeError', \"\\n'126' / 3\\n\")"
   ]
  },
  {
   "cell_type": "markdown",
   "id": "dcd78720",
   "metadata": {},
   "source": [
    "這個例子產生了一個`TypeError`，這意味著表達式中的值（稱為**運算元**）具有錯誤的類型。\n",
    "錯誤訊息表明`/`運算子不支援這些值的類型，它們是`str`和`int`。\n",
    "\n",
    "如果您有一個包含數字的字串，可以使用`int`將其轉換為整數。"
   ]
  },
  {
   "cell_type": "code",
   "execution_count": 50,
   "id": "4be1bb2a",
   "metadata": {
    "lines_to_next_cell": 2
   },
   "outputs": [
    {
     "name": "stdout",
     "output_type": "stream",
     "text": [
      "<class 'float'>\n"
     ]
    }
   ],
   "source": [
    "a = int('126') / 3\n",
    "print(type(a))"
   ]
  },
  {
   "cell_type": "markdown",
   "id": "a503914d",
   "metadata": {},
   "source": [
    "如果您有一個包含數字和小數點的字串，可以使用`float`將其轉換為浮點數。"
   ]
  },
  {
   "cell_type": "code",
   "execution_count": 1,
   "id": "8f119d3e",
   "metadata": {
    "lines_to_next_cell": 2
   },
   "outputs": [
    {
     "data": {
      "text/plain": [
       "12.6"
      ]
     },
     "execution_count": 1,
     "metadata": {},
     "output_type": "execute_result"
    }
   ],
   "source": [
    "float('12.6')"
   ]
  },
  {
   "cell_type": "markdown",
   "id": "cc16abbf",
   "metadata": {},
   "source": [
    "當您寫一個大整數時，您可能會想在數字組之間使用逗號，\n",
    "如`1,000,000`。\n",
    "這在Python中是合法的表達式，但結果不是整數。"
   ]
  },
  {
   "cell_type": "code",
   "execution_count": null,
   "id": "f8d489a8",
   "metadata": {
    "lines_to_next_cell": 2
   },
   "outputs": [
    {
     "name": "stdout",
     "output_type": "stream",
     "text": [
      "(1, 0, 0) <class 'tuple'>\n"
     ]
    }
   ],
   "source": [
    "a = 1,000,000\n",
    "b = type(a)\n",
    "print(a, b)\n",
    "\n"
   ]
  },
  {
   "cell_type": "markdown",
   "id": "301e5eeb",
   "metadata": {},
   "source": [
    "Python將`1,000,000`解釋為以逗號分隔的整數序列。\n",
    "我們稍後會了解更多關於這種序列的信息。\n",
    "\n",
    "您可以使用下劃線使大數字更易讀。"
   ]
  },
  {
   "cell_type": "code",
   "execution_count": null,
   "id": "593e9ac0",
   "metadata": {
    "lines_to_next_cell": 2
   },
   "outputs": [
    {
     "data": {
      "text/plain": [
       "1000000"
      ]
     },
     "execution_count": 6,
     "metadata": {},
     "output_type": "execute_result"
    }
   ],
   "source": [
    "a = 1_000_000\n",
    "type(a)\n"
   ]
  },
  {
   "cell_type": "markdown",
   "id": "4a9b21c6",
   "metadata": {},
   "source": [
    "## 形式語言和自然語言\n",
    "\n",
    "**自然語言**是人們說的語言，如中文、英語、西班牙語和法語。它們不是由人設計的；它們是自然演化的。\n",
    "\n",
    "**形式語言**是人們為特定應用而設計的語言。\n",
    "例如，數學家使用的符號是一種形式語言，特別適合表示數字和符號之間的關係。\n",
    "同樣，程式語言是被設計來表達計算的形式語言。"
   ]
  },
  {
   "cell_type": "markdown",
   "id": "ead94153",
   "metadata": {},
   "source": [
    "雖然形式語言和自然語言有一些共同特點，但有重要的差異：\n",
    "\n",
    "* 歧義性：自然語言充滿歧義，人們通過使用上下文線索和其他信息來處理。形式語言被設計成幾乎或完全無歧義的，這意味著任何程式都有確切的一個含義，無論上下文如何。\n",
    "\n",
    "* 冗餘性：為了彌補歧義性並減少誤解，自然語言使用冗餘。因此，它們通常很冗長。形式語言較少冗餘且更簡潔。\n",
    "\n",
    "* 字面性：自然語言充滿成語和隱喻。形式語言的意思完全就是字面意思。"
   ]
  },
  {
   "cell_type": "markdown",
   "id": "507a4e05",
   "metadata": {},
   "source": [
    "因為我們都是在說自然語言的環境中長大的，有時很難適應形式語言。\n",
    "形式語言比自然語言更密集，所以閱讀它們需要更長的時間。\n",
    "此外，結構很重要，所以從上到下、從左到右閱讀並不總是最好的。\n",
    "最後，細節很重要。在自然語言中您可以忽略的拼寫和標點符號上的小錯誤，在形式語言中可能會產生很大的差異。"
   ]
  },
  {
   "cell_type": "markdown",
   "id": "59f444db",
   "metadata": {},
   "source": [
    "## 除錯\n",
    "\n",
    "程式設計師會犯錯誤。出於奇特的原因，程式設計錯誤被稱為**錯誤（bug）**，追蹤它們的過程被稱為**除錯（debugging）**。\n",
    "\n",
    "程式設計，特別是除錯，有時會帶出強烈的情緒。如果您正在與一個困難的錯誤作鬥爭，您可能會感到憤怒、悲傷或尷尬。\n",
    "\n",
    "為這些反應做準備可能會幫助您處理它們。一種方法是將電腦視為具有某些優勢（如速度和精確度）和特定弱點（如缺乏同理心和無法掌握大局）的員工。\n",
    "\n",
    "您的工作是成為一個好的管理者：找到利用優勢和減輕弱點的方法。並找到利用您的情緒來參與問題的方法，而不讓您的反應干擾您有效工作的能力。\n",
    "\n",
    "學習除錯可能令人沮喪，但這是一項有價值的技能，對程式設計之外的許多活動都很有用。在每一章的結尾都有一個像這樣的部分，包含我對除錯的建議。我希望它們能幫助您！"
   ]
  },
  {
   "cell_type": "markdown",
   "id": "92fff561",
   "metadata": {},
   "source": [
    "## 詞彙表\n",
    "\n",
    "**算術運算子：**\n",
    "一個符號，如`+`和`*`，表示像加法或乘法這樣的算術運算。\n",
    "\n",
    "**整數：**\n",
    "表示沒有小數或分數部分的數字的類型。\n",
    "\n",
    "**浮點數：**\n",
    "表示整數和帶有小數部分的數字的類型。\n",
    "\n",
    "**整數除法：**\n",
    "一個運算子`//`，將兩個數字相除並向下取整為整數。\n",
    "\n",
    "**表達式：**\n",
    "變量、值和運算子的組合。\n",
    "\n",
    "**值：**\n",
    "整數、浮點數或字串——或我們稍後會看到的其他類型的值之一。\n",
    "\n",
    "**函數：**\n",
    "執行某些有用操作的命名語句序列。\n",
    "函數可能接受或不接受參數，可能產生或不產生結果。\n",
    "\n",
    "**函數呼叫：**\n",
    "運行函數的表達式——或表達式的一部分。\n",
    "它由函數名稱後跟括號中的參數列表組成。\n",
    "\n",
    "**語法錯誤：**\n",
    "程式中使其無法解析的錯誤——因此無法運行。\n",
    "\n",
    "**字串：**\n",
    "表示字符序列的類型。\n",
    "\n",
    "**連接：**\n",
    "將兩個字串首尾相接。\n",
    "\n",
    "**類型：**\n",
    "值的類別。\n",
    "我們到目前為止看到的類型是整數（類型`int`）、浮點數（類型`float`）和字串（類型`str`）。\n",
    "\n",
    "**運算元：**\n",
    "運算子操作的值之一。\n",
    "\n",
    "**自然語言：**\n",
    "人們說的任何自然演化的語言。\n",
    "\n",
    "**形式語言：**\n",
    "人們為特定目的而設計的任何語言，如表示數學思想或電腦程式。\n",
    "所有程式語言都是形式語言。\n",
    "\n",
    "**錯誤（bug）：**\n",
    "程式中的錯誤。\n",
    "\n",
    "**除錯（debugging）：**\n",
    "查找和修正錯誤的過程。"
   ]
  },
  {
   "cell_type": "markdown",
   "id": "f1091ff6",
   "metadata": {},
   "source": [
    "## 練習"
   ]
  },
  {
   "cell_type": "markdown",
   "id": "f77ac235",
   "metadata": {},
   "source": [
    "這個儲存格告訴Jupyter在發生運行時錯誤時提供詳細的除錯信息\n",
    "在進行練習之前請先運行它。"
   ]
  },
  {
   "cell_type": "code",
   "execution_count": null,
   "id": "a324626e",
   "metadata": {
    "lines_to_next_cell": 2
   },
   "outputs": [],
   "source": [
    "get_ipython().run_line_magic('xmode', 'Verbose')"
   ]
  },
  {
   "cell_type": "markdown",
   "id": "af29796d",
   "metadata": {},
   "source": [
    "### 詢問虛擬助理\n",
    "\n",
    "當您閱讀本書時，有幾種方式可以使用虛擬助理或聊天機器人來幫助您學習。\n",
    "\n",
    "* 如果您想了解更多關於章節中某個主題的信息，或者有任何不清楚的地方，您可以要求解釋。\n",
    "\n",
    "* 如果您在任何練習上遇到困難，您可以尋求幫助。\n",
    "\n",
    "在每一章中，我會建議您可以與虛擬助理一起做的練習，但我鼓勵您自己嘗試，看看什麼對您有效。"
   ]
  },
  {
   "cell_type": "markdown",
   "id": "000c2c53",
   "metadata": {},
   "source": [
    "以下是您可以向虛擬助理詢問的一些主題：\n",
    "\n",
    "* 我之前提到位元運算子，但沒有解釋為什麼`7 ^ 2`的值是5。試著問「Python中的位元運算子是什麼？」或「`7 XOR 2`的值是多少？」\n",
    "\n",
    "* 我也提到了運算順序。要了解更多詳情，請問「Python中的運算順序是什麼？」\n",
    "\n",
    "* 我們用來將浮點數四捨五入到最接近整數的`round`函數可以接受第二個參數。試著問「round函數的參數是什麼？」或「如何將pi四捨五入到三位小數？」\n",
    "\n",
    "* 有一個我沒有提到的算術運算子；試著問「Python中的模數運算子是什麼？」"
   ]
  },
  {
   "cell_type": "markdown",
   "id": "a5ac3508",
   "metadata": {},
   "source": [
    "大多數虛擬助理都了解Python，所以它們回答這樣的問題相當可靠。\n",
    "但請記住，這些工具會犯錯誤。\n",
    "如果您從聊天機器人獲得程式碼，請測試它！"
   ]
  },
  {
   "cell_type": "markdown",
   "id": "6c74ecaa",
   "metadata": {},
   "source": [
    "### 練習\n",
    "\n",
    "您可能想知道如果一個數字以`0.5`結尾，`round`會怎麼做。\n",
    "答案是它有時向上取整，有時向下取整。\n",
    "試試這些例子，看看您能否找出它遵循什麼規則。"
   ]
  },
  {
   "cell_type": "code",
   "execution_count": null,
   "id": "427f2f18",
   "metadata": {
    "lines_to_next_cell": 2
   },
   "outputs": [],
   "source": [
    "round(42.5)"
   ]
  },
  {
   "cell_type": "code",
   "execution_count": null,
   "id": "d1266ccb",
   "metadata": {
    "lines_to_next_cell": 2
   },
   "outputs": [],
   "source": [
    "round(43.5)"
   ]
  },
  {
   "cell_type": "markdown",
   "id": "90d6f2fd",
   "metadata": {},
   "source": [
    "如果您感到好奇，問一個虛擬助理：「如果一個數字以0.5結尾，Python是向上取整還是向下取整？」"
   ]
  },
  {
   "cell_type": "markdown",
   "id": "85037335",
   "metadata": {},
   "source": [
    "### 練習\n",
    "\n",
    "當您學習新功能時，您應該嘗試它並故意犯錯誤。\n",
    "這樣，您就會學到錯誤訊息，當您再次看到它們時，您就會知道它們的意思。\n",
    "現在故意犯錯誤比以後意外犯錯誤要好。\n",
    "\n",
    "1. 您可以使用減號來製作負數，如`-2`。如果您在數字前面放一個加號會發生什麼？`2++2`呢？\n",
    "\n",
    "2. 如果您有兩個值之間沒有運算子，如`4 2`，會發生什麼？\n",
    "\n",
    "3. 如果您呼叫像`round(42.5)`這樣的函數，如果您漏掉一個或兩個括號會發生什麼？"
   ]
  },
  {
   "cell_type": "markdown",
   "id": "99308943",
   "metadata": {},
   "source": [
    "### 練習\n",
    "\n",
    "記住每個表達式都有一個值，每個值都有一個類型，我們可以使用`type`函數來找出任何值的類型。\n",
    "\n",
    "以下表達式的值的類型是什麼？對每一個做出您的最佳猜測，然後使用`type`來找出答案。\n",
    "\n",
    "* `765`\n",
    "\n",
    "* `2.718`\n",
    "\n",
    "* `'2 pi'`\n",
    "\n",
    "* `abs(-7)`\n",
    "\n",
    "* `abs(-7.0)`\n",
    "\n",
    "* `abs`\n",
    "\n",
    "* `int`\n",
    "\n",
    "* `type`"
   ]
  },
  {
   "cell_type": "markdown",
   "id": "dca5236a",
   "metadata": {},
   "source": [
    "### 練習\n",
    "\n",
    "以下問題讓您有機會練習編寫算術表達式。\n",
    "\n",
    "1. 42分42秒有多少秒？\n",
    "\n",
    "2. 10公里有多少英里？提示：1英里有1.61公里。\n",
    "\n",
    "3. 如果您以42分42秒跑完10公里賽跑，您的平均配速是每英里多少秒？\n",
    "    \n",
    "4. 您的平均配速是每英里多少分多少秒？\n",
    "\n",
    "5. 您的平均速度是每小時多少英里？\n",
    "\n",
    "如果您已經了解變量，您可以在這個練習中使用它們。\n",
    "如果您不了解，您可以不使用變量來完成練習——然後我們會在下一章中看到它們。"
   ]
  },
  {
   "cell_type": "code",
   "execution_count": null,
   "id": "ab8cb731",
   "metadata": {
    "lines_to_next_cell": 2
   },
   "outputs": [],
   "source": [
    "# 解答\n",
    "# 總秒數\n",
    "42 * 60 + 42"
   ]
  },
  {
   "cell_type": "code",
   "execution_count": null,
   "id": "b9eb19a1",
   "metadata": {
    "lines_to_next_cell": 2
   },
   "outputs": [],
   "source": [
    "# 解答\n",
    "# 英里數\n",
    "10 / 1.61"
   ]
  },
  {
   "cell_type": "code",
   "execution_count": null,
   "id": "c49306c8",
   "metadata": {
    "lines_to_next_cell": 2
   },
   "outputs": [],
   "source": [
    "# 解答\n",
    "# 每英里秒數\n",
    "2562 / 6.21118"
   ]
  },
  {
   "cell_type": "code",
   "execution_count": null,
   "id": "c4ca0d22",
   "metadata": {
    "lines_to_next_cell": 2
   },
   "outputs": [],
   "source": [
    "# 解答\n",
    "# 配速的分鐘部分\n",
    "412.48 // 60"
   ]
  },
  {
   "cell_type": "code",
   "execution_count": null,
   "id": "c9e3e96a",
   "metadata": {
    "lines_to_next_cell": 2
   },
   "outputs": [],
   "source": [
    "# 解答\n",
    "# 配速的秒數部分\n",
    "412.48 % 60"
   ]
  },
  {
   "cell_type": "code",
   "execution_count": null,
   "id": "4060d08f",
   "metadata": {
    "lines_to_next_cell": 2
   },
   "outputs": [],
   "source": [
    "# 解答\n",
    "# 小時數\n",
    "2562 / 60 / 60"
   ]
  },
  {
   "cell_type": "code",
   "execution_count": null,
   "id": "b5b09579",
   "metadata": {
    "lines_to_next_cell": 2
   },
   "outputs": [],
   "source": [
    "# 解答\n",
    "# 每小時英里數\n",
    "6.21118 / 0.711666"
   ]
  },
  {
   "cell_type": "markdown",
   "id": "e3037842",
   "metadata": {},
   "source": [
    "In[ ]:"
   ]
  },
  {
   "cell_type": "markdown",
   "id": "de43ef61",
   "metadata": {},
   "source": [
    "[Think Python: 3rd Edition](https://allendowney.github.io/ThinkPython/index.html)\n",
    "\n",
    "版權所有 2024 [Allen B. Downey](https://allendowney.com)\n",
    "\n",
    "程式碼許可證：[MIT License](https://mit-license.org/)\n",
    "\n",
    "文本許可證：[Creative Commons Attribution-NonCommercial-ShareAlike 4.0 International](https://creativecommons.org/licenses/by-nc-sa/4.0/)"
   ]
  }
 ],
 "metadata": {
  "jupytext": {
   "cell_metadata_filter": "-all",
   "encoding": "# coding: utf-8",
   "executable": "/usr/bin/env python",
   "main_language": "python",
   "notebook_metadata_filter": "-all"
  },
  "kernelspec": {
   "display_name": ".venv",
   "language": "python",
   "name": "python3"
  },
  "language_info": {
   "codemirror_mode": {
    "name": "ipython",
    "version": 3
   },
   "file_extension": ".py",
   "mimetype": "text/x-python",
   "name": "python",
   "nbconvert_exporter": "python",
   "pygments_lexer": "ipython3",
   "version": "3.12.2"
  }
 },
 "nbformat": 4,
 "nbformat_minor": 5
}
