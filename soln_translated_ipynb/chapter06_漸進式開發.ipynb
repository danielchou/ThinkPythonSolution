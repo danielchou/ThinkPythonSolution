{
 "cells": [
  {
   "cell_type": "markdown",
   "id": "0dd7f841",
   "metadata": {},
   "source": [
    "你可以從\n",
    "[Bookshop.org](https://bookshop.org/a/98697/9781098155438) 和\n",
    "[Amazon](https://www.amazon.com/_/dp/1098155432?smid=ATVPDKIKX0DER&_encoding=UTF8&tag=oreilly20-20&_encoding=UTF8&tag=greenteapre01-20&linkCode=ur2&linkId=e2a529f94920295d27ec8a06e757dc7c&camp=1789&creative=9325)\n",
    "訂購《Think Python 3e》的實體書和電子書版本。"
   ]
  },
  {
   "cell_type": "markdown",
   "id": "a51ce8bb",
   "metadata": {
    "lines_to_next_cell": 2
   },
   "source": [
    "In[5]: # 譯註：Jupyter Notebook 的 In[X] 編號可能與原文不同，不影響程式碼"
   ]
  },
  {
   "cell_type": "code",
   "execution_count": 1,
   "id": "cebbaaba",
   "metadata": {
    "lines_to_next_cell": 1
   },
   "outputs": [],
   "source": [
    "from os.path import basename, exists"
   ]
  },
  {
   "cell_type": "code",
   "execution_count": 2,
   "id": "4eee12a6",
   "metadata": {
    "lines_to_next_cell": 1
   },
   "outputs": [],
   "source": [
    "def download(url):\n",
    "    filename = basename(url)\n",
    "    if not exists(filename):\n",
    "        from urllib.request import urlretrieve\n",
    "\n",
    "        local, _ = urlretrieve(url, filename)\n",
    "        print(\"已下載 \" + str(local)) # 譯註：這裡顯示下載完成的檔案路徑\n",
    "    return filename"
   ]
  },
  {
   "cell_type": "code",
   "execution_count": 3,
   "id": "5946825e",
   "metadata": {},
   "outputs": [],
   "source": [
    "download('https://github.com/AllenDowney/ThinkPython/raw/v3/thinkpython.py');\n",
    "download('https://github.com/AllenDowney/ThinkPython/raw/v3/diagram.py');"
   ]
  },
  {
   "cell_type": "code",
   "execution_count": 4,
   "id": "2afc8b76",
   "metadata": {
    "lines_to_next_cell": 2
   },
   "outputs": [],
   "source": [
    "import thinkpython"
   ]
  },
  {
   "cell_type": "markdown",
   "id": "9c7db57f",
   "metadata": {},
   "source": [
    "# 回傳值 (Return Values)\n",
    "\n",
    "在之前的章節中，我們用過內建函式——像是 `abs` 和 `round`——以及 math 模組中的函式——像是 `sqrt` 和 `pow`。\n",
    "\n",
    "當你呼叫這些函式時，它會回傳一個值，你可以將這個值賦予給一個變數，或者用作運算式的一部分。\n",
    "\n",
    "到目前為止，我們寫的函式則不同。\n",
    "有些使用 `print` 函式來顯示值，有些使用海龜函式來畫圖。\n",
    "但它們不會回傳我們可以賦予給變數或在運算式中使用的值。\n",
    "\n",
    "在這一章，我們將學習如何編寫會回傳值的函式。"
   ]
  },
  {
   "cell_type": "markdown",
   "id": "7c52b616",
   "metadata": {},
   "source": [
    "## 有些函式有回傳值\n",
    "\n",
    "當你呼叫像 `math.sqrt` 這樣的函式時，結果稱為 **回傳值** (return value)。\n",
    "如果函式呼叫出現在儲存格的末尾，Jupyter 會立即顯示回傳值。"
   ]
  },
  {
   "cell_type": "code",
   "execution_count": 5,
   "id": "884bcf3d",
   "metadata": {},
   "outputs": [],
   "source": [
    "import math"
   ]
  },
  {
   "cell_type": "code",
   "execution_count": 6,
   "id": "4d3b8086",
   "metadata": {
    "lines_to_next_cell": 2
   },
   "outputs": [
    {
     "data": {
      "text/plain": [
       "3.656366395715726"
      ]
     },
     "execution_count": 6,
     "metadata": {},
     "output_type": "execute_result"
    }
   ],
   "source": [
    "math.sqrt(42 / math.pi)"
   ]
  },
  {
   "cell_type": "markdown",
   "id": "ca2a1a17",
   "metadata": {},
   "source": [
    "如果你將回傳值賦予給一個變數，它就不會被顯示出來。"
   ]
  },
  {
   "cell_type": "code",
   "execution_count": 8,
   "id": "49ee6a18",
   "metadata": {
    "lines_to_next_cell": 2
   },
   "outputs": [],
   "source": [
    "radius = math.sqrt(42 / math.pi)"
   ]
  },
  {
   "cell_type": "markdown",
   "id": "a5d85c58",
   "metadata": {},
   "source": [
    "但你之後可以顯示它。"
   ]
  },
  {
   "cell_type": "code",
   "execution_count": 9,
   "id": "0b037a45",
   "metadata": {
    "lines_to_next_cell": 2
   },
   "outputs": [
    {
     "data": {
      "text/plain": [
       "3.656366395715726"
      ]
     },
     "execution_count": 9,
     "metadata": {},
     "output_type": "execute_result"
    }
   ],
   "source": [
    "radius"
   ]
  },
  {
   "cell_type": "markdown",
   "id": "1e5fda5a",
   "metadata": {},
   "source": [
    "或者你可以將回傳值用作運算式的一部分。"
   ]
  },
  {
   "cell_type": "code",
   "execution_count": 10,
   "id": "2451eae1",
   "metadata": {
    "lines_to_next_cell": 2
   },
   "outputs": [
    {
     "data": {
      "text/plain": [
       "7.312732791431452"
      ]
     },
     "execution_count": 10,
     "metadata": {},
     "output_type": "execute_result"
    }
   ],
   "source": [
    "radius + math.sqrt(42 / math.pi)"
   ]
  },
  {
   "cell_type": "markdown",
   "id": "8f3de5a7",
   "metadata": {},
   "source": [
    "這裡有一個回傳值的函式範例。"
   ]
  },
  {
   "cell_type": "code",
   "execution_count": 12,
   "id": "e5094ebe",
   "metadata": {
    "lines_to_next_cell": 2
   },
   "outputs": [],
   "source": [
    "def circle_area(radius_param): # 譯註：參數名改為 radius_param 以區別外面的 radius\n",
    "    area_val = math.pi * radius_param**2 # 譯註：變數名改為 area_val\n",
    "    return area_val"
   ]
  },
  {
   "cell_type": "markdown",
   "id": "dd8dc256",
   "metadata": {},
   "source": [
    "`circle_area` 接受 `radius_param` 作為參數，並計算該半徑圓形的面積。\n",
    "\n",
    "最後一行是一個 `return` 陳述句，它回傳 `area_val` 的值。\n",
    "\n",
    "如果我們像這樣呼叫函式，Jupyter 會顯示回傳值。\n"
   ]
  },
  {
   "cell_type": "code",
   "execution_count": 13,
   "id": "ab4cc513",
   "metadata": {
    "lines_to_next_cell": 2
   },
   "outputs": [
    {
     "data": {
      "text/plain": [
       "42.00000000000001"
      ]
     },
     "execution_count": 13,
     "metadata": {},
     "output_type": "execute_result"
    }
   ],
   "source": [
    "circle_area(radius) # 譯註：這裡的 radius 是之前 In[7] 定義的"
   ]
  },
  {
   "cell_type": "markdown",
   "id": "6f11ab6d",
   "metadata": {},
   "source": [
    "我們可以將回傳值賦予給一個變數。"
   ]
  },
  {
   "cell_type": "code",
   "execution_count": 14,
   "id": "74a387f6",
   "metadata": {
    "lines_to_next_cell": 2
   },
   "outputs": [],
   "source": [
    "a = circle_area(radius)"
   ]
  },
  {
   "cell_type": "markdown",
   "id": "428112a8",
   "metadata": {},
   "source": [
    "或者將它用作運算式的一部分。"
   ]
  },
  {
   "cell_type": "code",
   "execution_count": 15,
   "id": "b9db4f55",
   "metadata": {
    "lines_to_next_cell": 2
   },
   "outputs": [
    {
     "data": {
      "text/plain": [
       "63.000000000000014"
      ]
     },
     "execution_count": 15,
     "metadata": {},
     "output_type": "execute_result"
    }
   ],
   "source": [
    "circle_area(radius) + 2 * circle_area(radius / 2)"
   ]
  },
  {
   "cell_type": "markdown",
   "id": "4c62029d",
   "metadata": {},
   "source": [
    "稍後我們可以顯示我們賦予結果的變數的值。"
   ]
  },
  {
   "cell_type": "code",
   "execution_count": 16,
   "id": "53640cb6",
   "metadata": {
    "lines_to_next_cell": 2
   },
   "outputs": [
    {
     "data": {
      "text/plain": [
       "42.00000000000001"
      ]
     },
     "execution_count": 16,
     "metadata": {},
     "output_type": "execute_result"
    }
   ],
   "source": [
    "a"
   ]
  },
  {
   "cell_type": "code",
   "execution_count": 17,
   "id": "ae6cc2d8",
   "metadata": {},
   "outputs": [
    {
     "ename": "NameError",
     "evalue": "name 'area_val' is not defined",
     "output_type": "error",
     "traceback": [
      "\u001b[31mNameError\u001b[39m\u001b[31m:\u001b[39m name 'area_val' is not defined\n"
     ]
    }
   ],
   "source": [
    "area_val"
   ]
  },
  {
   "cell_type": "markdown",
   "id": "38e8ea9b",
   "metadata": {},
   "source": [
    "但是我們無法存取 `area_val`。"
   ]
  },
  {
   "cell_type": "markdown",
   "id": "3e758118",
   "metadata": {
    "lines_to_next_cell": 2
   },
   "source": [
    "get_ipython().run_cell_magic('expect', 'NameError', '\\narea_val\\n')\n",
    "譯註：預期 NameError，因為 area_val 是 circle_area 函式內的區域變數"
   ]
  },
  {
   "cell_type": "markdown",
   "id": "669be365",
   "metadata": {},
   "source": [
    "`area_val` 是函式中的區域變數，所以我們無法從函式外部存取它。"
   ]
  },
  {
   "cell_type": "markdown",
   "id": "26f2a3a7",
   "metadata": {},
   "source": [
    "## 有些則回傳 None\n",
    "\n",
    "如果函式沒有 `return` 陳述句，它會回傳 `None`，這是一個像 `True` 和 `False` 一樣的特殊值。\n",
    "例如，這是第 3 章中的 `repeat` 函式。"
   ]
  },
  {
   "cell_type": "code",
   "execution_count": 18,
   "id": "04c409cf",
   "metadata": {
    "lines_to_next_cell": 2
   },
   "outputs": [],
   "source": [
    "def repeat(word, n):\n",
    "    print(word * n)"
   ]
  },
  {
   "cell_type": "markdown",
   "id": "4c1e9e41",
   "metadata": {},
   "source": [
    "如果我們像這樣呼叫它，它會顯示蒙提·派森歌曲「芬蘭」的第一行。"
   ]
  },
  {
   "cell_type": "code",
   "execution_count": 19,
   "id": "ee05112c",
   "metadata": {
    "lines_to_next_cell": 2
   },
   "outputs": [
    {
     "name": "stdout",
     "output_type": "stream",
     "text": [
      "芬蘭，芬蘭，芬蘭，\n"
     ]
    }
   ],
   "source": [
    "repeat('芬蘭，', 3) # 譯註：將英文改為中文"
   ]
  },
  {
   "cell_type": "markdown",
   "id": "a61bab1f",
   "metadata": {},
   "source": [
    "這個函式使用 `print` 函式來顯示字串，但它沒有使用 `return` 陳述句來回傳值。\n",
    "如果我們將結果賦予給一個變數，它仍然會顯示字串。"
   ]
  },
  {
   "cell_type": "code",
   "execution_count": 20,
   "id": "1b6c1119",
   "metadata": {
    "lines_to_next_cell": 2
   },
   "outputs": [
    {
     "name": "stdout",
     "output_type": "stream",
     "text": [
      "芬蘭，芬蘭，芬蘭，\n"
     ]
    }
   ],
   "source": [
    "result = repeat('芬蘭，', 3)"
   ]
  },
  {
   "cell_type": "markdown",
   "id": "2f11fbe0",
   "metadata": {},
   "source": [
    "如果我們顯示變數的值，什麼也看不到。"
   ]
  },
  {
   "cell_type": "code",
   "execution_count": 21,
   "id": "88e0dd78",
   "metadata": {
    "lines_to_next_cell": 2
   },
   "outputs": [],
   "source": [
    "result"
   ]
  },
  {
   "cell_type": "markdown",
   "id": "2b73728e",
   "metadata": {},
   "source": [
    "`result` 實際上是有值的，但 Jupyter 不會顯示它。\n",
    "不過，我們可以像這樣顯示它。"
   ]
  },
  {
   "cell_type": "code",
   "execution_count": 22,
   "id": "8daa9c3a",
   "metadata": {
    "lines_to_next_cell": 2
   },
   "outputs": [
    {
     "name": "stdout",
     "output_type": "stream",
     "text": [
      "None\n"
     ]
    }
   ],
   "source": [
    "print(result)"
   ]
  },
  {
   "cell_type": "markdown",
   "id": "ab2d2e42",
   "metadata": {},
   "source": [
    "`repeat` 的回傳值是 `None`。\n",
    "\n",
    "現在這裡有一個類似 `repeat` 的函式，但它有回傳值。"
   ]
  },
  {
   "cell_type": "code",
   "execution_count": 23,
   "id": "966e38a2",
   "metadata": {
    "lines_to_next_cell": 2
   },
   "outputs": [],
   "source": [
    "def repeat_string(word, n):\n",
    "    return word * n"
   ]
  },
  {
   "cell_type": "markdown",
   "id": "decf6b3b",
   "metadata": {},
   "source": [
    "注意，我們可以在 `return` 陳述句中使用運算式，而不僅僅是變數。\n",
    "\n",
    "有了這個版本，我們可以將結果賦予給一個變數。\n",
    "當函式執行時，它不會顯示任何東西。"
   ]
  },
  {
   "cell_type": "code",
   "execution_count": 26,
   "id": "66600f09",
   "metadata": {
    "lines_to_next_cell": 2
   },
   "outputs": [],
   "source": [
    "line = repeat_string('午餐肉，', 8) # 譯註：將英文改為中文"
   ]
  },
  {
   "cell_type": "markdown",
   "id": "5cc2b518",
   "metadata": {},
   "source": [
    "但稍後我們可以顯示賦予給 `line` 的值。"
   ]
  },
  {
   "cell_type": "code",
   "execution_count": 27,
   "id": "6aef0cf3",
   "metadata": {
    "lines_to_next_cell": 2
   },
   "outputs": [
    {
     "data": {
      "text/plain": [
       "'午餐肉，午餐肉，午餐肉，午餐肉，午餐肉，午餐肉，午餐肉，午餐肉，'"
      ]
     },
     "execution_count": 27,
     "metadata": {},
     "output_type": "execute_result"
    }
   ],
   "source": [
    "line"
   ]
  },
  {
   "cell_type": "markdown",
   "id": "27fe6d94",
   "metadata": {},
   "source": [
    "像這樣的函式稱為 **純函式** (pure function)，因為它不會顯示任何東西或有任何其他效果——除了回傳一個值。"
   ]
  },
  {
   "cell_type": "markdown",
   "id": "f872066a",
   "metadata": {},
   "source": [
    "## 回傳值與條件判斷\n",
    "\n",
    "如果 Python 沒有提供 `abs` (絕對值函式)，我們可以像這樣寫。"
   ]
  },
  {
   "cell_type": "code",
   "execution_count": 28,
   "id": "032c46fe",
   "metadata": {
    "lines_to_next_cell": 2
   },
   "outputs": [],
   "source": [
    "def absolute_value(x_val): # 譯註：參數名改為 x_val\n",
    "    if x_val < 0:\n",
    "        return -x_val\n",
    "    else:\n",
    "        return x_val"
   ]
  },
  {
   "cell_type": "markdown",
   "id": "d0f8dff6",
   "metadata": {},
   "source": [
    "如果 `x_val` 是負數，第一個 `return` 陳述句會回傳 `-x_val`，函式立即結束。\n",
    "否則，第二個 `return` 陳述句會回傳 `x_val`，函式結束。\n",
    "所以這個函式是正確的。\n",
    "\n",
    "然而，如果你將 `return` 陳述句放在條件判斷中，你必須確保程式中所有可能的路徑都會碰到一個 `return` 陳述句。\n",
    "例如，這是一個不正確的 `absolute_value` 版本。"
   ]
  },
  {
   "cell_type": "code",
   "execution_count": 29,
   "id": "6d913203",
   "metadata": {
    "lines_to_next_cell": 2
   },
   "outputs": [],
   "source": [
    "def absolute_value_wrong(x_val): # 譯註：參數名改為 x_val\n",
    "    if x_val < 0:\n",
    "        return -x_val\n",
    "    if x_val > 0: # 譯註：如果 x_val 是 0，兩個 if 都不會執行\n",
    "        return x_val"
   ]
  },
  {
   "cell_type": "markdown",
   "id": "c519b8b5",
   "metadata": {},
   "source": [
    "如果我們用 `0` 作為引數呼叫這個函式，會發生以下情況。"
   ]
  },
  {
   "cell_type": "code",
   "execution_count": 30,
   "id": "e35789e2",
   "metadata": {
    "lines_to_next_cell": 2
   },
   "outputs": [],
   "source": [
    "absolute_value_wrong(0)"
   ]
  },
  {
   "cell_type": "markdown",
   "id": "a823694b",
   "metadata": {},
   "source": [
    "我們什麼也得不到！問題在這裡：當 `x_val` 是 `0` 時，兩個條件都不成立，函式在沒有碰到 `return` 陳述句的情況下結束，這意味著回傳值是 `None`，所以 Jupyter 什麼也不顯示。\n",
    "\n",
    "作為另一個例子，這裡有一個在結尾帶有額外 `return` 陳述句的 `absolute_value` 版本。"
   ]
  },
  {
   "cell_type": "code",
   "execution_count": 31,
   "id": "0ab3c92a",
   "metadata": {
    "lines_to_next_cell": 2
   },
   "outputs": [],
   "source": [
    "def absolute_value_extra_return(x_val): # 譯註：參數名改為 x_val\n",
    "    if x_val < 0:\n",
    "        return -x_val\n",
    "    else:\n",
    "        return x_val\n",
    "\n",
    "    return '這是永遠執行不到的程式碼' # 譯註：將英文改為中文"
   ]
  },
  {
   "cell_type": "markdown",
   "id": "5a1fa7b8",
   "metadata": {},
   "source": [
    "如果 `x_val` 是負數，第一個 `return` 陳述句會執行，函式結束。\n",
    "否則第二個 `return` 陳述句會執行，函式結束。\n",
    "無論哪種方式，我們永遠不會到達第三個 `return` 陳述句——所以它永遠不會執行。\n",
    "\n",
    "永遠無法執行的程式碼稱為 **無效程式碼** (dead code) 或 **死碼**。\n",
    "一般來說，無效程式碼不會造成任何傷害，但它通常表示存在誤解，並且可能會讓試圖理解程式的人感到困惑。"
   ]
  },
  {
   "cell_type": "markdown",
   "id": "4a866c8c",
   "metadata": {},
   "source": [
    "## 漸進式開發 (Incremental development)\n",
    "\n",
    "當你編寫更大的函式時，你可能會發現自己花費更多時間在除錯上。\n",
    "為了處理日益複雜的程式，你可能想嘗試 **漸進式開發** (incremental development)，這是一種一次只增加和測試少量程式碼的方法。\n",
    "\n",
    "舉個例子，假設你想找出由座標 $(x_1, y_1)$ 和 $(x_2, y_2)$ 表示的兩點之間的距離。\n",
    "根據畢氏定理，距離是：\n",
    "\n",
    "$$\\mathrm{distance} = \\sqrt{(x_2 - x_1)^2 + (y_2 - y_1)^2}$$\n",
    "\n",
    "第一步是思考 `distance` 函式在 Python 中應該是什麼樣子——也就是說，輸入（參數）是什麼，輸出（回傳值）是什麼？\n",
    "\n",
    "對於這個函式，輸入是點的座標。\n",
    "回傳值是距離。\n",
    "你可以立即寫出函式的輪廓："
   ]
  },
  {
   "cell_type": "code",
   "execution_count": 32,
   "id": "2f010897",
   "metadata": {
    "lines_to_next_cell": 2
   },
   "outputs": [],
   "source": [
    "def distance(x1, y1, x2, y2):\n",
    "    return 0.0"
   ]
  },
  {
   "cell_type": "markdown",
   "id": "5ded99df",
   "metadata": {},
   "source": [
    "這個版本還沒有計算距離——它總是回傳零。\n",
    "但它是一個帶有回傳值的完整函式，這意味著你可以在使其更複雜之前對其進行測試。\n",
    "\n",
    "為了測試新的函式，我們將用範例引數呼叫它："
   ]
  },
  {
   "cell_type": "code",
   "execution_count": 33,
   "id": "4c8ac848",
   "metadata": {
    "lines_to_next_cell": 2
   },
   "outputs": [
    {
     "data": {
      "text/plain": [
       "0.0"
      ]
     },
     "execution_count": 33,
     "metadata": {},
     "output_type": "execute_result"
    }
   ],
   "source": [
    "distance(1, 2, 4, 6)"
   ]
  },
  {
   "cell_type": "markdown",
   "id": "30595189",
   "metadata": {},
   "source": [
    "我選擇這些值是為了讓水平距離是 `3`，垂直距離是 `4`。\n",
    "這樣，結果就是 `5`，一個 `3-4-5` 直角三角形的斜邊。在測試函式時，知道正確答案很有用。\n",
    "\n",
    "到目前為止，我們已經確認函式可以執行並回傳一個值，我們可以開始向主體中添加程式碼了。\n",
    "一個好的下一步是找出差值 `x2 - x1` 和 `y2 - y1`。\n",
    "這裡有一個版本，將這些值儲存在臨時變數中並顯示它們。"
   ]
  },
  {
   "cell_type": "code",
   "execution_count": 34,
   "id": "e4254b59",
   "metadata": {
    "lines_to_next_cell": 2
   },
   "outputs": [],
   "source": [
    "def distance(x1, y1, x2, y2):\n",
    "    dx = x2 - x1\n",
    "    dy = y2 - y1\n",
    "    print('dx 是', dx) # 譯註：將英文改為中文\n",
    "    print('dy 是', dy)\n",
    "    return 0.0"
   ]
  },
  {
   "cell_type": "markdown",
   "id": "63fb54ae",
   "metadata": {},
   "source": [
    "如果函式運作正常，它應該顯示 `dx 是 3` 和 `dy 是 4`。\n",
    "如果是這樣，我們就知道函式得到了正確的引數並且正確地執行了第一個計算。如果不是，只需要檢查幾行程式碼。"
   ]
  },
  {
   "cell_type": "code",
   "execution_count": 35,
   "id": "84eb78df",
   "metadata": {
    "lines_to_next_cell": 2
   },
   "outputs": [
    {
     "name": "stdout",
     "output_type": "stream",
     "text": [
      "dx 是 3\n",
      "dy 是 4\n"
     ]
    },
    {
     "data": {
      "text/plain": [
       "0.0"
      ]
     },
     "execution_count": 35,
     "metadata": {},
     "output_type": "execute_result"
    }
   ],
   "source": [
    "distance(1, 2, 4, 6)"
   ]
  },
  {
   "cell_type": "markdown",
   "id": "1454cee0",
   "metadata": {},
   "source": [
    "目前為止還不錯。接下來我們計算 `dx` 和 `dy` 的平方和："
   ]
  },
  {
   "cell_type": "code",
   "execution_count": 37,
   "id": "0c533e4d",
   "metadata": {
    "lines_to_next_cell": 2
   },
   "outputs": [],
   "source": [
    "def distance(x1, y1, x2, y2):\n",
    "    dx = x2 - x1\n",
    "    dy = y2 - y1\n",
    "    cc = dx**2 + dy**2\n",
    "    print('dsquared 是：', cc) # 譯註：將英文改為中文\n",
    "    return 0.0"
   ]
  },
  {
   "cell_type": "markdown",
   "id": "1a5c18bd",
   "metadata": {},
   "source": [
    "同樣，我們可以執行函式並檢查輸出，輸出應該是 `25`。"
   ]
  },
  {
   "cell_type": "code",
   "execution_count": 38,
   "id": "714da78f",
   "metadata": {
    "lines_to_next_cell": 2
   },
   "outputs": [
    {
     "name": "stdout",
     "output_type": "stream",
     "text": [
      "dsquared 是： 25\n"
     ]
    },
    {
     "data": {
      "text/plain": [
       "0.0"
      ]
     },
     "execution_count": 38,
     "metadata": {},
     "output_type": "execute_result"
    }
   ],
   "source": [
    "distance(1, 2, 4, 6)"
   ]
  },
  {
   "cell_type": "markdown",
   "id": "897a8d10",
   "metadata": {},
   "source": [
    "最後，我們可以使用 `math.sqrt` 來計算距離："
   ]
  },
  {
   "cell_type": "code",
   "execution_count": 39,
   "id": "8c02b02a",
   "metadata": {
    "lines_to_next_cell": 2
   },
   "outputs": [],
   "source": [
    "def distance(x1, y1, x2, y2):\n",
    "    dx = x2 - x1\n",
    "    dy = y2 - y1\n",
    "    dsquared = dx**2 + dy**2\n",
    "    result_val = math.sqrt(dsquared) # 譯註：變數名改為 result_val\n",
    "    print(\"result_val 是\", result_val) # 譯註：將英文改為中文"
   ]
  },
  {
   "cell_type": "markdown",
   "id": "b989ab4a",
   "metadata": {},
   "source": [
    "並測試它。"
   ]
  },
  {
   "cell_type": "code",
   "execution_count": 40,
   "id": "b63af71f",
   "metadata": {
    "lines_to_next_cell": 2
   },
   "outputs": [
    {
     "name": "stdout",
     "output_type": "stream",
     "text": [
      "result_val 是 5.0\n"
     ]
    }
   ],
   "source": [
    "distance(1, 2, 4, 6)"
   ]
  },
  {
   "cell_type": "markdown",
   "id": "6d5e2c1b",
   "metadata": {},
   "source": [
    "結果是正確的，但是這個版本的函式是顯示結果而不是回傳它，所以回傳值是 `None`。\n",
    "\n",
    "我們可以透過將 `print` 函式替換為 `return` 陳述句來修正這個問題。"
   ]
  },
  {
   "cell_type": "code",
   "execution_count": 41,
   "id": "12a4a58a",
   "metadata": {
    "lines_to_next_cell": 2
   },
   "outputs": [],
   "source": [
    "def distance(x1, y1, x2, y2):\n",
    "    dx = x2 - x1\n",
    "    dy = y2 - y1\n",
    "    dsquared = dx**2 + dy**2\n",
    "    result_val = math.sqrt(dsquared) # 譯註：變數名改為 result_val\n",
    "    return result_val"
   ]
  },
  {
   "cell_type": "markdown",
   "id": "a5128b25",
   "metadata": {},
   "source": [
    "這個版本的 `distance` 是一個純函式。\n",
    "如果我們像這樣呼叫它，只會顯示結果。"
   ]
  },
  {
   "cell_type": "code",
   "execution_count": 42,
   "id": "c9c1768f",
   "metadata": {
    "lines_to_next_cell": 2
   },
   "outputs": [
    {
     "data": {
      "text/plain": [
       "5.0"
      ]
     },
     "execution_count": 42,
     "metadata": {},
     "output_type": "execute_result"
    }
   ],
   "source": [
    "distance(1, 2, 4, 6)"
   ]
  },
  {
   "cell_type": "markdown",
   "id": "6e715f3e",
   "metadata": {},
   "source": [
    "如果我們將結果賦予給一個變數，則什麼也不會顯示。"
   ]
  },
  {
   "cell_type": "code",
   "execution_count": 231,
   "id": "e4110060",
   "metadata": {
    "lines_to_next_cell": 2
   },
   "outputs": [],
   "source": [
    "d = distance(1, 2, 4, 6)"
   ]
  },
  {
   "cell_type": "markdown",
   "id": "5dbe2fdf",
   "metadata": {},
   "source": [
    "我們編寫的 `print` 陳述句對於除錯很有用，但是一旦函式運作正常，我們就可以移除它們。\n",
    "像這樣的程式碼稱為 **鷹架** (scaffolding)，因為它有助於建構程式，但不是最終產品的一部分。\n",
    "\n",
    "這個例子展示了漸進式開發。\n",
    "這個過程的關鍵方面是：\n",
    "\n",
    "1.  從一個可運作的程式開始，進行小的更改，並在每次更改後進行測試。\n",
    "\n",
    "2.  使用變數來儲存中間值，以便你可以顯示和檢查它們。\n",
    "\n",
    "3.  一旦程式運作正常，移除鷹架。\n",
    "\n",
    "在任何時候，如果出現錯誤，你都應該很清楚問題出在哪裡。\n",
    "漸進式開發可以為你節省大量的除錯時間。"
   ]
  },
  {
   "cell_type": "markdown",
   "id": "6c6a1bff",
   "metadata": {},
   "source": [
    "## 布林函式 (Boolean functions)\n",
    "\n",
    "函式可以回傳布林值 `True` 和 `False`，這通常很方便地將複雜的測試封裝在函式中。\n",
    "例如，`is_divisible` 檢查 `x` 是否能被 `y` 整除而沒有餘數。"
   ]
  },
  {
   "cell_type": "code",
   "execution_count": 43,
   "id": "69abe663",
   "metadata": {
    "lines_to_next_cell": 2
   },
   "outputs": [],
   "source": [
    "def is_divisible(x_val, y_val): # 譯註：參數名修改\n",
    "    if x_val % y_val == 0:\n",
    "        return True\n",
    "    else:\n",
    "        return False"
   ]
  },
  {
   "cell_type": "code",
   "execution_count": null,
   "id": "bf87d57a",
   "metadata": {},
   "outputs": [],
   "source": [
    "def is_divisible(x_val, y_val): # 譯註：參數名修改\n",
    "    return True if x_val % y_val == 0 else False # 譯註：將 if-else 簡化為一行"
   ]
  },
  {
   "cell_type": "markdown",
   "id": "ca79ea1e",
   "metadata": {},
   "source": [
    "我們可以這樣使用它。"
   ]
  },
  {
   "cell_type": "code",
   "execution_count": 44,
   "id": "87db15c3",
   "metadata": {
    "lines_to_next_cell": 2
   },
   "outputs": [
    {
     "data": {
      "text/plain": [
       "False"
      ]
     },
     "execution_count": 44,
     "metadata": {},
     "output_type": "execute_result"
    }
   ],
   "source": [
    "is_divisible(6, 4)"
   ]
  },
  {
   "cell_type": "code",
   "execution_count": 45,
   "id": "61a855b7",
   "metadata": {
    "lines_to_next_cell": 2
   },
   "outputs": [
    {
     "data": {
      "text/plain": [
       "True"
      ]
     },
     "execution_count": 45,
     "metadata": {},
     "output_type": "execute_result"
    }
   ],
   "source": [
    "is_divisible(6, 3)"
   ]
  },
  {
   "cell_type": "markdown",
   "id": "e35ca442",
   "metadata": {},
   "source": [
    "在函式內部，`==` 運算子的結果是一個布林值，所以我們可以透過直接回傳它來更簡潔地編寫\n",
    "函式。"
   ]
  },
  {
   "cell_type": "code",
   "execution_count": 46,
   "id": "1cc03cc4",
   "metadata": {
    "lines_to_next_cell": 2
   },
   "outputs": [],
   "source": [
    "def is_divisible(x_val, y_val): # 譯註：參數名修改\n",
    "    return x_val % y_val == 0"
   ]
  },
  {
   "cell_type": "markdown",
   "id": "1ae416c0",
   "metadata": {},
   "source": [
    "布林函式經常用於條件陳述句中。"
   ]
  },
  {
   "cell_type": "code",
   "execution_count": 48,
   "id": "21d866df",
   "metadata": {
    "lines_to_next_cell": 2
   },
   "outputs": [],
   "source": [
    "if is_divisible(6, 5):\n",
    "    print('可以整除') # 譯註：將英文改為中文"
   ]
  },
  {
   "cell_type": "markdown",
   "id": "a82b6d63",
   "metadata": {},
   "source": [
    "有人可能會想這樣寫："
   ]
  },
  {
   "cell_type": "code",
   "execution_count": 49,
   "id": "85f92b45",
   "metadata": {
    "lines_to_next_cell": 2
   },
   "outputs": [
    {
     "name": "stdout",
     "output_type": "stream",
     "text": [
      "可以整除\n"
     ]
    }
   ],
   "source": [
    "if is_divisible(6, 2) == True: # 譯註：多此一舉的比較\n",
    "    print('可以整除')"
   ]
  },
  {
   "cell_type": "markdown",
   "id": "3578e393",
   "metadata": {},
   "source": [
    "但是這個比較是不必要的。"
   ]
  },
  {
   "cell_type": "markdown",
   "id": "91c7832e",
   "metadata": {},
   "source": [
    "## 帶有回傳值的遞迴\n",
    "\n",
    "現在我們可以編寫帶有回傳值的函式了，我們也可以編寫帶有回傳值的遞迴函式，\n",
    "\n",
    "有了這個能力，我們就跨過了一個重要的門檻——我們所擁有的 Python 子集現在是 **圖靈完備** (Turing complete) 的，這意味著我們可以執行任何可以用演算法描述的計算。\n",
    "\n",
    "為了展示帶有回傳值的遞迴，我們將評估一些遞迴定義的數學函式。\n",
    "遞迴定義類似於循環定義，因為定義中會引用被定義的事物。一個真正的循環定義並不是很有用：\n",
    "\n",
    "> 沃泊爾 (vorpal)：一個用來描述某事物是沃泊爾的形容詞。\n",
    "\n",
    "如果你在字典裡看到這個定義，你可能會感到惱火。\n",
    "另一方面，如果你查閱階乘函式的定義，用符號 $!$ 表示，你可能會得到這樣的東西：\n",
    "\n",
    "$$\\begin{aligned}\n",
    "0! &= 1 \\\\\n",
    "n! &= n \\cdot (n-1)!\n",
    "\\end{aligned}$$\n",
    "\n",
    "這個定義說 $0$ 的階乘是 $1$，而任何其他值 $n$ 的階乘是 $n$ 乘以 $n-1$ 的階乘。\n",
    "\n",
    "如果你能寫出某事物的遞迴定義，你就能寫一個 Python 程式來評估它。\n",
    "遵循漸進式開發的過程，我們將從一個接受 `n` 作為參數並總是回傳 `0` 的函式開始。"
   ]
  },
  {
   "cell_type": "code",
   "execution_count": 50,
   "id": "04aa86aa",
   "metadata": {
    "lines_to_next_cell": 2
   },
   "outputs": [],
   "source": [
    "def factorial(n_param): # 譯註：參數名修改\n",
    "    return 0"
   ]
  },
  {
   "cell_type": "markdown",
   "id": "d165b839",
   "metadata": {},
   "source": [
    "現在讓我們加入定義的第一部分——如果引數恰好是 `0`，我們只需要回傳 `1`："
   ]
  },
  {
   "cell_type": "code",
   "execution_count": 51,
   "id": "8a7604f2",
   "metadata": {
    "lines_to_next_cell": 2
   },
   "outputs": [],
   "source": [
    "def factorial(n_param): # 譯註：參數名修改\n",
    "    if n_param == 0:\n",
    "        return 1\n",
    "    else:\n",
    "        return 0"
   ]
  },
  {
   "cell_type": "markdown",
   "id": "8730493e",
   "metadata": {},
   "source": [
    "現在讓我們填寫第二部分——如果 `n_param` 不是 `0`，我們必須進行遞迴\n",
    "呼叫來找出 `n_param-1` 的階乘，然後將結果乘以 `n_param`："
   ]
  },
  {
   "cell_type": "code",
   "execution_count": 52,
   "id": "c03eebba",
   "metadata": {
    "lines_to_next_cell": 2
   },
   "outputs": [],
   "source": [
    "def factorial(n_param): # 譯註：參數名修改\n",
    "    if n_param == 0:\n",
    "        return 1\n",
    "    else:\n",
    "        recurse_result = factorial(n_param-1) # 譯註：變數名修改\n",
    "        return n_param * recurse_result"
   ]
  },
  {
   "cell_type": "markdown",
   "id": "28fe2ea0",
   "metadata": {},
   "source": [
    "這個程式的執行流程類似於第 5 章中 `countdown` 的流程。\n",
    "如果我們用值 `3` 呼叫 `factorial`：\n",
    "\n",
    "由於 `3` 不是 `0`，我們走第二個分支並計算\n",
    "`n_param-1` 的階乘…\n",
    "\n",
    "> 由於 `2` 不是 `0`，我們走第二個分支並計算\n",
    "> `n_param-1` 的階乘…\n",
    ">\n",
    "> > 由於 `1` 不是 `0`，我們走第二個分支並計算\n",
    "> > `n_param-1` 的階乘…\n",
    "> >\n",
    "> > > 由於 `0` 等於 `0`，我們走第一個分支並回傳 `1` 而不\n",
    "> > > 進行任何更多的遞迴呼叫。\n",
    "> >\n",
    "> > 回傳值 `1` 乘以 `n_param`（即 `1`），結果被回傳。\n",
    ">\n",
    "> 回傳值 `1` 乘以 `n_param`（即 `2`），結果被回傳。\n",
    "\n",
    "回傳值 `2` 乘以 `n_param`（即 `3`），結果 `6` 成為啟動整個\n",
    "過程的函式呼叫的回傳值。\n",
    "\n",
    "下圖顯示了此函式呼叫序列的堆疊圖。"
   ]
  },
  {
   "cell_type": "code",
   "execution_count": 241,
   "id": "249c63f2",
   "metadata": {},
   "outputs": [],
   "source": [
    "from diagram import Frame, Stack, make_binding # 譯註：這是書中用來畫圖的工具"
   ]
  },
  {
   "cell_type": "code",
   "execution_count": 242,
   "id": "23351799",
   "metadata": {},
   "outputs": [],
   "source": [
    "main_frame = Frame([], name='__main__', loc='left') # 譯註：變數名修改\n",
    "frames = [main_frame]"
   ]
  },
  {
   "cell_type": "code",
   "execution_count": 243,
   "id": "00c3aa7b",
   "metadata": {},
   "outputs": [],
   "source": [
    "ns_vals = [3, 2, 1] # 譯註：變數名修改\n",
    "recurses_vals = [2, 1, 1] # 譯註：變數名修改\n",
    "results_vals = [6, 2, 1] # 譯註：變數名修改"
   ]
  },
  {
   "cell_type": "code",
   "execution_count": 244,
   "id": "d05961a0",
   "metadata": {},
   "outputs": [],
   "source": [
    "for n_val, recurse_val, result_val in zip(ns_vals, recurses_vals, results_vals):\n",
    "    binding1 = make_binding('n_param', n_val) # 譯註：使用修改後的參數名\n",
    "    binding2 = make_binding('recurse_result', recurse_val) # 譯註：使用修改後的變數名\n",
    "    frame = Frame([binding1, binding2],\n",
    "                  name='factorial', value=result_val,\n",
    "                  loc='left', dx=1.2)\n",
    "    frames.append(frame)"
   ]
  },
  {
   "cell_type": "code",
   "execution_count": 245,
   "id": "4423d967",
   "metadata": {},
   "outputs": [],
   "source": [
    "binding1 = make_binding('n_param', 0) # 譯註：使用修改後的參數名\n",
    "frame = Frame([binding1], name='factorial', value=1,\n",
    "              shim=1.2, loc='left', dx=1.4)\n",
    "frames.append(frame)"
   ]
  },
  {
   "cell_type": "code",
   "execution_count": 246,
   "id": "19fde9b4",
   "metadata": {
    "lines_to_next_cell": 2
   },
   "outputs": [],
   "source": [
    "stack = Stack(frames, dy=-0.45)"
   ]
  },
  {
   "cell_type": "code",
   "execution_count": 247,
   "id": "44d3f7ba",
   "metadata": {},
   "outputs": [],
   "source": [
    "from diagram import diagram, adjust # 譯註：這是書中用來畫圖的工具"
   ]
  },
  {
   "cell_type": "code",
   "execution_count": 248,
   "id": "94032ce5",
   "metadata": {
    "lines_to_next_cell": 2
   },
   "outputs": [
    {
     "data": {
      "image/png": "[encoded data removed]",
      "text/plain": [
       "<Figure size 274x226 with 1 Axes>"
      ]
     },
     "metadata": {},
     "output_type": "display_data"
    }
   ],
   "source": [
    "width, height, x_pos, y_pos = [2.74, 2.26, 0.73, 2.05] # 譯註：變數名修改\n",
    "ax = diagram(width, height)\n",
    "bbox = stack.draw(ax, x_pos, y_pos)\n",
    "# adjust(x_pos, y_pos, bbox)"
   ]
  },
  {
   "cell_type": "markdown",
   "id": "708d321b",
   "metadata": {},
   "source": [
    "回傳值顯示為沿著堆疊向上传遞。\n",
    "在每個框架中，回傳值是 `n_param` 和 `recurse_result` 的乘積。\n",
    "\n",
    "在最後一個框架中，區域變數 `recurse_result` 不存在，因為創建它的分支沒有執行。"
   ]
  },
  {
   "cell_type": "markdown",
   "id": "c5bebcb3",
   "metadata": {},
   "source": [
    "## 信念之躍 (Leap of faith)\n",
    "\n",
    "追蹤執行流程是閱讀程式的一種方式，但它很快就會讓人不知所措。另一種方法是我稱之為「信念之躍」。當你遇到函式呼叫時，不要追蹤執行流程，而是*假設*函式運作正常並回傳正確的結果。\n",
    "\n",
    "事實上，當你使用內建函式時，你已經在實踐這種信念之躍了。\n",
    "當你呼叫 `abs` 或 `math.sqrt` 時，你不會檢查那些函式的主體——你只是假設它們可以運作。\n",
    "\n",
    "當你呼叫自己的函式時也是如此。例如，前面我們寫了一個名為 `is_divisible` 的函式，它判斷一個數字是否能被另一個數字整除。一旦我們確信這個函式是正確的，我們就可以再次使用它而無需查看其主體。\n",
    "\n",
    "遞迴程式也是如此。\n",
    "當你到達遞迴呼叫時，不要追蹤執行流程，你應該假設遞迴呼叫可以運作，然後問自己：「假設我可以計算 $n-1$ 的階乘，我能計算 $n$ 的階乘嗎？」\n",
    "階乘的遞迴定義意味著你可以，透過乘以 $n$。\n",
    "\n",
    "當然，在你還沒寫完函式的時候就假設它能正確運作有點奇怪，但這就是為什麼它被稱為信念之躍！"
   ]
  },
  {
   "cell_type": "markdown",
   "id": "0126e441",
   "metadata": {},
   "source": [
    "## 費氏數列 (Fibonacci)\n",
    "\n",
    "在 `factorial` 之後，最常見的遞迴函式範例是 `fibonacci`，它有以下定義：\n",
    "\n",
    "$$\\begin{aligned}\n",
    "\\mathrm{fibonacci}(0) &= 0 \\\\\n",
    "\\mathrm{fibonacci}(1) &= 1 \\\\\n",
    "\\mathrm{fibonacci}(n) &= \\mathrm{fibonacci}(n-1) + \\mathrm{fibonacci}(n-2)\n",
    "\\end{aligned}$$\n",
    "\n",
    "轉換成 Python，它看起來像這樣："
   ]
  },
  {
   "cell_type": "code",
   "execution_count": 9,
   "id": "00f07da7",
   "metadata": {
    "lines_to_next_cell": 2
   },
   "outputs": [],
   "source": [
    "def fibonacci(n_param): # 譯註：參數名修改\n",
    "    if n_param == 0:\n",
    "        return 0\n",
    "    elif  n_param == 1:\n",
    "        return 1\n",
    "    else:\n",
    "        return fibonacci(n_param-1) + fibonacci(n_param-2)"
   ]
  },
  {
   "cell_type": "markdown",
   "id": "bdc2e737",
   "metadata": {},
   "source": [
    "如果你試圖在這裡追蹤執行流程，即使是很小的 $n_param$ 值，你的腦袋也會爆炸。\n",
    "但是根據信念之躍，如果你假設兩個遞迴呼叫都能正確運作，你就可以確信最後的 `return` 陳述句是正確的。\n",
    "\n",
    "順帶一提，這種計算費氏數列的方法非常沒有效率。\n",
    "在[第 10 章](section_memos)中，我將解釋原因並提出改進方法。 (譯註：此處的 section_memos 是書中連結)"
   ]
  },
  {
   "cell_type": "markdown",
   "id": "b3d24cb1",
   "metadata": {},
   "source": [
    "## 檢查型別\n",
    "\n",
    "如果我們呼叫 `factorial` 並給它 `1.5` 作為引數會發生什麼事？"
   ]
  },
  {
   "cell_type": "markdown",
   "id": "e0f672e4",
   "metadata": {
    "lines_to_next_cell": 2
   },
   "source": [
    "get_ipython().run_cell_magic('expect', 'RecursionError', '\\nfactorial(1.5)\\n')\n",
    "譯註：預期 RecursionError"
   ]
  },
  {
   "cell_type": "code",
   "execution_count": 14,
   "id": "d4826e2f",
   "metadata": {},
   "outputs": [
    {
     "name": "stderr",
     "output_type": "stream",
     "text": [
      "UsageError: Cell magic `%%expect` not found.\n"
     ]
    }
   ],
   "source": [
    "get_ipython().run_cell_magic('expect', 'RecursionError', '\\nfactorial(1.5)\\n')"
   ]
  },
  {
   "cell_type": "markdown",
   "id": "9daedc65",
   "metadata": {},
   "source": [
    "看起來像是無窮遞迴。怎麼會這樣呢？函式在 `n_param == 1` 或 `n_param == 0` 時有基礎案例。\n",
    "但是如果 `n_param` 不是整數，我們可能會*錯過*基礎案例並永遠遞迴下去。\n",
    "\n",
    "在這個例子中，`n_param` 的初始值是 `1.5`。\n",
    "在第一次遞迴呼叫中，`n_param` 的值是 `0.5`。\n",
    "在下一次，它是 `-0.5`。\n",
    "從那裡開始，它變得越來越小（越來越負），但它永遠不會是 `0`。\n",
    "\n",
    "為了避免無窮遞迴，我們可以使用內建函式 `isinstance` 來檢查引數的型別。\n",
    "這是我們檢查一個值是否為整數的方法。"
   ]
  },
  {
   "cell_type": "code",
   "execution_count": 55,
   "id": "da92aa7d",
   "metadata": {
    "lines_to_next_cell": 2
   },
   "outputs": [
    {
     "data": {
      "text/plain": [
       "True"
      ]
     },
     "execution_count": 55,
     "metadata": {},
     "output_type": "execute_result"
    }
   ],
   "source": [
    "isinstance(3.3, float)"
   ]
  },
  {
   "cell_type": "code",
   "execution_count": 56,
   "id": "df1d4777",
   "metadata": {
    "lines_to_next_cell": 2
   },
   "outputs": [
    {
     "data": {
      "text/plain": [
       "False"
      ]
     },
     "execution_count": 56,
     "metadata": {},
     "output_type": "execute_result"
    }
   ],
   "source": [
    "isinstance(1.5, int)"
   ]
  },
  {
   "cell_type": "markdown",
   "id": "08353c4e",
   "metadata": {},
   "source": [
    "現在這裡是一個帶有錯誤檢查的 `factorial` 版本。"
   ]
  },
  {
   "cell_type": "code",
   "execution_count": 15,
   "id": "2e8dd177",
   "metadata": {
    "lines_to_next_cell": 2
   },
   "outputs": [],
   "source": [
    "def factorial(n_param): # 譯註：參數名修改\n",
    "    if not isinstance(n_param, int):\n",
    "        print('階乘只對整數有定義。') # 譯註：將英文改為中文\n",
    "        return None\n",
    "    elif n_param < 0:\n",
    "        print('階乘對負數沒有定義。')\n",
    "        return None\n",
    "    elif n_param == 0:\n",
    "        return 1\n",
    "    else:\n",
    "        return n_param * factorial(n_param-1)"
   ]
  },
  {
   "cell_type": "markdown",
   "id": "d26d54c4",
   "metadata": {},
   "source": [
    "首先它檢查 `n_param` 是否為整數。\n",
    "如果不是，它會顯示錯誤訊息並回傳 `None`。\n",
    "\n"
   ]
  },
  {
   "cell_type": "code",
   "execution_count": 57,
   "id": "34ef4719",
   "metadata": {
    "lines_to_next_cell": 2
   },
   "outputs": [
    {
     "ename": "TypeError",
     "evalue": "unsupported operand type(s) for -: 'str' and 'int'",
     "output_type": "error",
     "traceback": [
      "\u001b[31mTypeError\u001b[39m\u001b[31m:\u001b[39m unsupported operand type(s) for -: 'str' and 'int'\n"
     ]
    }
   ],
   "source": [
    "factorial('松脆蛙') # 譯註：將英文改為中文"
   ]
  },
  {
   "cell_type": "markdown",
   "id": "51345db6",
   "metadata": {},
   "source": [
    "然後它檢查 `n_param` 是否為負數。\n",
    "如果是，它會顯示錯誤訊息並回傳 `None`。"
   ]
  },
  {
   "cell_type": "code",
   "execution_count": 58,
   "id": "59d0cf50",
   "metadata": {
    "lines_to_next_cell": 2
   },
   "outputs": [
    {
     "ename": "RecursionError",
     "evalue": "maximum recursion depth exceeded",
     "output_type": "error",
     "traceback": [
      "\u001b[31mRecursionError\u001b[39m\u001b[31m:\u001b[39m maximum recursion depth exceeded\n"
     ]
    }
   ],
   "source": [
    "factorial(-2)"
   ]
  },
  {
   "cell_type": "code",
   "execution_count": 61,
   "id": "1bdb891a",
   "metadata": {},
   "outputs": [
    {
     "data": {
      "text/plain": [
       "5042"
      ]
     },
     "execution_count": 61,
     "metadata": {},
     "output_type": "execute_result"
    }
   ],
   "source": [
    "factorial(7) +2"
   ]
  },
  {
   "cell_type": "markdown",
   "id": "332d9956",
   "metadata": {},
   "source": [
    "如果我們通過了這兩個檢查，我們就知道 `n_param` 是一個非負整數，所以我們可以確信遞迴會終止。\n",
    "檢查函式的參數以確保它們具有正確的型別和值，稱為 **輸入驗證** (input validation)。"
   ]
  },
  {
   "cell_type": "markdown",
   "id": "41cdb5b8",
   "metadata": {},
   "source": [
    "## 除錯 (Debugging)\n",
    "\n",
    "將一個大程式分解成較小的函式，為除錯創造了自然的檢查點。\n",
    "如果一個函式無法運作，有三種可能性需要考慮：\n",
    "\n",
    "-   函式收到的引數有問題——也就是說，違反了前置條件。\n",
    "\n",
    "-   函式本身有問題——也就是說，違反了後置條件。\n",
    "\n",
    "-   呼叫者對回傳值的處理有問題。\n",
    "\n",
    "要排除第一種可能性，你可以在函式的開頭加入一個 `print` 陳述句，顯示參數的值（也許還有它們的型別）。\n",
    "或者你可以編寫明確檢查前置條件的程式碼。\n",
    "\n",
    "如果參數看起來沒問題，你可以在每個 `return` 陳述句之前加入一個 `print` 陳述句，並顯示回傳值。\n",
    "如果可能，用容易檢查結果的引數來呼叫函式。\n",
    "\n",
    "如果函式看起來運作正常，檢查函式呼叫以確保回傳值被正確使用——或者根本沒有被使用！\n",
    "\n",
    "在函式的開頭和結尾加入 `print` 陳述句可以幫助使執行流程更清晰可見。\n",
    "例如，這裡是一個帶有 print 陳述句的 `factorial` 版本："
   ]
  },
  {
   "cell_type": "code",
   "execution_count": 62,
   "id": "a313f62b",
   "metadata": {
    "lines_to_next_cell": 2
   },
   "outputs": [],
   "source": [
    "def factorial(n_param): # 譯註：參數名修改\n",
    "    space = ' ' * (4 * n_param) # 譯註：計算縮排空格數\n",
    "    print(space, 'factorial', n_param)\n",
    "    if n_param == 0:\n",
    "        print(space, '回傳 1') # 譯註：將英文改為中文\n",
    "        return 1\n",
    "    else:\n",
    "        recurse_result = factorial(n_param-1) # 譯註：變數名修改\n",
    "        result_val = n_param * recurse_result # 譯註：變數名修改\n",
    "        print(space, '回傳', result_val)\n",
    "        return result_val"
   ]
  },
  {
   "cell_type": "markdown",
   "id": "238bf204",
   "metadata": {},
   "source": [
    "`space` 是一個由空格字元組成的字串，用來控制輸出的縮排。\n",
    "這是 `factorial(3)` 的結果："
   ]
  },
  {
   "cell_type": "code",
   "execution_count": 64,
   "id": "3edd9378",
   "metadata": {
    "lines_to_next_cell": 2
   },
   "outputs": [
    {
     "name": "stdout",
     "output_type": "stream",
     "text": [
      "                 factorial 4\n",
      "             factorial 3\n",
      "         factorial 2\n",
      "     factorial 1\n",
      " factorial 0\n",
      " 回傳 1\n",
      "     回傳 1\n",
      "         回傳 2\n",
      "             回傳 6\n",
      "                 回傳 24\n"
     ]
    },
    {
     "data": {
      "text/plain": [
       "24"
      ]
     },
     "execution_count": 64,
     "metadata": {},
     "output_type": "execute_result"
    }
   ],
   "source": [
    "factorial(4)"
   ]
  },
  {
   "cell_type": "markdown",
   "id": "b821e18f",
   "metadata": {},
   "source": [
    "如果你對執行流程感到困惑，這種輸出可能會有所幫助。\n",
    "開發有效的鷹架需要一些時間，但是一點點鷹架可以節省大量的除錯時間。"
   ]
  },
  {
   "cell_type": "markdown",
   "id": "25178452",
   "metadata": {},
   "source": [
    "## 詞彙表\n",
    "\n",
    "**回傳值 (return value):**\n",
    "函式的結果。如果函式呼叫被用作運算式，則回傳值是該運算式的值。\n",
    "\n",
    "**純函式 (pure function):**\n",
    "一個不顯示任何內容或具有任何其他效果（除了回傳回傳值）的函式。\n",
    "\n",
    "**無效程式碼 (dead code) / 死碼:**\n",
    "程式中永遠無法執行的部分，通常是因為它出現在 `return` 陳述句之後。\n",
    "\n",
    "**漸進式開發 (incremental development):**\n",
    "一種程式開發計畫，旨在透過一次只增加和測試少量程式碼來避免除錯。\n",
    "\n",
    "**鷹架 (scaffolding):**\n",
    " 在程式開發過程中使用的程式碼，但不是最終版本的一部分。\n",
    "\n",
    "**圖靈完備 (Turing complete):**\n",
    "如果一種語言或語言的子集可以執行任何可以用演算法描述的計算，則稱其為圖靈完備。\n",
    "\n",
    "**輸入驗證 (input validation):**\n",
    "檢查函式的參數以確保它們具有正確的型別和值。"
   ]
  },
  {
   "cell_type": "markdown",
   "id": "08076e86",
   "metadata": {},
   "source": [
    "## 練習"
   ]
  },
  {
   "cell_type": "markdown",
   "id": "8ab46119",
   "metadata": {},
   "source": [
    "這個儲存格告訴 Jupyter 在發生執行期錯誤時提供詳細的除錯資訊。\n",
    "在做練習之前先執行它。"
   ]
  },
  {
   "cell_type": "code",
   "execution_count": 257,
   "id": "f0b02ca5",
   "metadata": {
    "lines_to_next_cell": 2
   },
   "outputs": [
    {
     "name": "stdout",
     "output_type": "stream",
     "text": [
      "Exception reporting mode: Verbose\n"
     ]
    }
   ],
   "source": [
    "get_ipython().run_line_magic('xmode', 'Verbose')"
   ]
  },
  {
   "cell_type": "markdown",
   "id": "c2974e79",
   "metadata": {},
   "source": [
    "### 問問虛擬助理\n",
    "\n",
    "在本章中，我們看到了一個不正確的函式，它可能在沒有回傳值的情況下結束。"
   ]
  },
  {
   "cell_type": "code",
   "execution_count": 258,
   "id": "b85af703",
   "metadata": {
    "lines_to_next_cell": 2
   },
   "outputs": [],
   "source": [
    "def absolute_value_wrong(x_val): # 譯註：參數名修改\n",
    "    if x_val < 0:\n",
    "        return -x_val\n",
    "    if x_val > 0:\n",
    "        return x_val"
   ]
  },
  {
   "cell_type": "markdown",
   "id": "d5e72e91",
   "metadata": {},
   "source": [
    "以及同一個函式的另一個版本，其末尾有死碼。"
   ]
  },
  {
   "cell_type": "code",
   "execution_count": 259,
   "id": "98fda015",
   "metadata": {
    "lines_to_next_cell": 2
   },
   "outputs": [],
   "source": [
    "def absolute_value_extra_return(x_val): # 譯註：參數名修改\n",
    "    if x_val < 0:\n",
    "        return -x_val\n",
    "    else:\n",
    "        return x_val\n",
    "\n",
    "    return '這是永遠執行不到的程式碼。' # 譯註：將英文改為中文"
   ]
  },
  {
   "cell_type": "markdown",
   "id": "0b61ab6c",
   "metadata": {},
   "source": [
    "我們還看到了以下範例，它是正確的，但不符合慣用寫法。"
   ]
  },
  {
   "cell_type": "code",
   "execution_count": 260,
   "id": "e910b817",
   "metadata": {
    "lines_to_next_cell": 2
   },
   "outputs": [],
   "source": [
    "def is_divisible(x_val, y_val): # 譯註：參數名修改\n",
    "    if x_val % y_val == 0:\n",
    "        return True\n",
    "    else:\n",
    "        return False"
   ]
  },
  {
   "cell_type": "markdown",
   "id": "01f356ca",
   "metadata": {},
   "source": [
    "問虛擬助理這些函式各有什麼問題，看看它是否能找出錯誤或改進風格。\n",
    "\n",
    "然後問：「寫一個函式，它接受兩點的座標並計算它們之間的距離。」看看結果是否與我們在本章中編寫的 `distance` 版本相似。"
   ]
  },
  {
   "cell_type": "markdown",
   "id": "84cc3274",
   "metadata": {},
   "source": [
    "### 練習\n",
    "\n",
    "使用漸進式開發來編寫一個名為 `hypot` 的函式，給定直角三角形另外兩條邊的a,b長度，求回傳斜邊的長度。\n",
    "\n",
    "注意：math 模組中有一個名為 `hypot` 的函式可以做同樣的事情，但你現在不要使用！\n",
    "\n",
    "即使你第一次就能正確編寫函式，也要從一個總是回傳 `0` 的函式開始，並練習進行小的更改，邊做邊測試。\n",
    "完成後，函式應該只回傳一個值——它不應該顯示任何東西。"
   ]
  },
  {
   "cell_type": "markdown",
   "id": "28112651",
   "metadata": {},
   "source": [
    "解答 (第一步：基本框架)"
   ]
  },
  {
   "cell_type": "code",
   "execution_count": 65,
   "id": "742cc823",
   "metadata": {
    "lines_to_next_cell": 2
   },
   "outputs": [],
   "source": [
    "def hypot(a, b):\n",
    "    return 0.0 # 譯註：回傳浮點數 0.0 比較符合距離的概念"
   ]
  },
  {
   "cell_type": "markdown",
   "id": "e9246e9c",
   "metadata": {},
   "source": [
    "解答 (測試第一步)"
   ]
  },
  {
   "cell_type": "code",
   "execution_count": 66,
   "id": "8a1d2e1b",
   "metadata": {
    "lines_to_next_cell": 2
   },
   "outputs": [
    {
     "data": {
      "text/plain": [
       "0.0"
      ]
     },
     "execution_count": 66,
     "metadata": {},
     "output_type": "execute_result"
    }
   ],
   "source": [
    "hypot(3, 4)"
   ]
  },
  {
   "cell_type": "markdown",
   "id": "432e955f",
   "metadata": {},
   "source": [
    "解答 (第二步：計算平方和並印出)"
   ]
  },
  {
   "cell_type": "code",
   "execution_count": 67,
   "id": "54bed639",
   "metadata": {
    "lines_to_next_cell": 2
   },
   "outputs": [],
   "source": [
    "def hypot(a, b):\n",
    "    d_squared = a**2 + b**2 # 譯註：變數名 d2 改為 d_squared\n",
    "    print(\"平方和是:\", d_squared) # 譯註：加入 print 方便除錯，並改為中文\n",
    "    return 0.0"
   ]
  },
  {
   "cell_type": "markdown",
   "id": "2e587b2c",
   "metadata": {},
   "source": [
    "解答 (測試第二步)"
   ]
  },
  {
   "cell_type": "code",
   "execution_count": 68,
   "id": "fcd4cf3a",
   "metadata": {
    "lines_to_next_cell": 2
   },
   "outputs": [
    {
     "name": "stdout",
     "output_type": "stream",
     "text": [
      "平方和是: 25\n"
     ]
    },
    {
     "data": {
      "text/plain": [
       "0.0"
      ]
     },
     "execution_count": 68,
     "metadata": {},
     "output_type": "execute_result"
    }
   ],
   "source": [
    "hypot(3, 4)"
   ]
  },
  {
   "cell_type": "markdown",
   "id": "57898e17",
   "metadata": {},
   "source": [
    "解答 (第三步：計算平方根並印出)"
   ]
  },
  {
   "cell_type": "code",
   "execution_count": 69,
   "id": "93ed99c8",
   "metadata": {
    "lines_to_next_cell": 2
   },
   "outputs": [],
   "source": [
    "def hypot(a, b):\n",
    "    d_squared = a**2 + b**2\n",
    "    result_val = math.sqrt(d_squared) # 譯註：變數名改為 result_val\n",
    "    print(\"斜邊長是:\", result_val) # 譯註：加入 print 方便除錯，並改為中文\n",
    "    return 0.0"
   ]
  },
  {
   "cell_type": "markdown",
   "id": "4d419151",
   "metadata": {},
   "source": [
    "解答 (測試第三步)"
   ]
  },
  {
   "cell_type": "code",
   "execution_count": 70,
   "id": "c4e79517",
   "metadata": {
    "lines_to_next_cell": 2
   },
   "outputs": [
    {
     "name": "stdout",
     "output_type": "stream",
     "text": [
      "斜邊長是: 5.0\n"
     ]
    },
    {
     "data": {
      "text/plain": [
       "0.0"
      ]
     },
     "execution_count": 70,
     "metadata": {},
     "output_type": "execute_result"
    }
   ],
   "source": [
    "hypot(3, 4)"
   ]
  },
  {
   "cell_type": "markdown",
   "id": "e25e7c53",
   "metadata": {},
   "source": [
    "解答 (第四步：回傳結果，移除 print)"
   ]
  },
  {
   "cell_type": "code",
   "execution_count": 71,
   "id": "dcb6dbc5",
   "metadata": {
    "lines_to_next_cell": 2
   },
   "outputs": [],
   "source": [
    "def hypot(a, b):\n",
    "    d_squared = a**2 + b**2\n",
    "    result_val = math.sqrt(d_squared)\n",
    "    return result_val"
   ]
  },
  {
   "cell_type": "markdown",
   "id": "7da2723c",
   "metadata": {},
   "source": [
    "解答 (測試第四步)"
   ]
  },
  {
   "cell_type": "code",
   "execution_count": 72,
   "id": "9d8fe652",
   "metadata": {
    "lines_to_next_cell": 2
   },
   "outputs": [
    {
     "data": {
      "text/plain": [
       "13.0"
      ]
     },
     "execution_count": 72,
     "metadata": {},
     "output_type": "execute_result"
    }
   ],
   "source": [
    "hypot(5, 12)"
   ]
  },
  {
   "cell_type": "markdown",
   "id": "9f437958",
   "metadata": {},
   "source": [
    "解答 (書中提供的另一種簡潔寫法，但練習要求漸進式開發)"
   ]
  },
  {
   "cell_type": "code",
   "execution_count": 269,
   "id": "e716fa50",
   "metadata": {
    "lines_to_next_cell": 2
   },
   "outputs": [],
   "source": [
    "def hypotenuse(a, b): # 譯註：函式名不同，作為對比\n",
    "    return math.sqrt(a**2 + b**2)"
   ]
  },
  {
   "cell_type": "markdown",
   "id": "bb08e64d",
   "metadata": {},
   "source": [
    "解答 (再次測試我們的 hypot 函式)"
   ]
  },
  {
   "cell_type": "code",
   "execution_count": 73,
   "id": "7fc0b06f",
   "metadata": {
    "lines_to_next_cell": 2
   },
   "outputs": [
    {
     "data": {
      "text/plain": [
       "5.0"
      ]
     },
     "execution_count": 73,
     "metadata": {},
     "output_type": "execute_result"
    }
   ],
   "source": [
    "hypot(3, 4)"
   ]
  },
  {
   "cell_type": "markdown",
   "id": "513fed58",
   "metadata": {},
   "source": [
    "### 練習\n",
    "\n",
    "編寫一個布林函式 `is_between(x, y, z)`，如果 $x < y < z$ 或者 $z < y < x$，則回傳 `True`，否則回傳 `False`。\n",
    "(譯註：意思是 y 是否在 x 和 z 之間，不包含等於的情況)"
   ]
  },
  {
   "cell_type": "markdown",
   "id": "3843f5c8",
   "metadata": {},
   "source": [
    "解答"
   ]
  },
  {
   "cell_type": "code",
   "execution_count": 76,
   "id": "dba00939",
   "metadata": {
    "lines_to_next_cell": 2
   },
   "outputs": [],
   "source": [
    "def is_between(x_val, y_val, z_val): # 譯註：參數名修改\n",
    "    if x_val < y_val < z_val:\n",
    "        return True\n",
    "    # elif z_val < y_val < x_val: # 譯註：原文 else 條件不完整，應為 elif\n",
    "    #     return True\n",
    "    # else:\n",
    "    #     return False\n",
    "    # 譯註：更簡潔的寫法可以是直接回傳比較結果\n",
    "    return (x_val < y_val < z_val) or (z_val < y_val < x_val)"
   ]
  },
  {
   "cell_type": "markdown",
   "id": "e492fa94",
   "metadata": {},
   "source": [
    "你可以使用這些範例來測試你的函式。"
   ]
  },
  {
   "cell_type": "code",
   "execution_count": 78,
   "id": "c36fbee7",
   "metadata": {
    "lines_to_next_cell": 2
   },
   "outputs": [
    {
     "data": {
      "text/plain": [
       "True"
      ]
     },
     "execution_count": 78,
     "metadata": {},
     "output_type": "execute_result"
    }
   ],
   "source": [
    "is_between(1, 2, 3)  # 應該是 True"
   ]
  },
  {
   "cell_type": "code",
   "execution_count": 77,
   "id": "75f3a644",
   "metadata": {
    "lines_to_next_cell": 2
   },
   "outputs": [
    {
     "data": {
      "text/plain": [
       "True"
      ]
     },
     "execution_count": 77,
     "metadata": {},
     "output_type": "execute_result"
    }
   ],
   "source": [
    "is_between(3, 2, 1)  # 應該是 True"
   ]
  },
  {
   "cell_type": "code",
   "execution_count": 79,
   "id": "f822e257",
   "metadata": {
    "lines_to_next_cell": 2
   },
   "outputs": [
    {
     "data": {
      "text/plain": [
       "False"
      ]
     },
     "execution_count": 79,
     "metadata": {},
     "output_type": "execute_result"
    }
   ],
   "source": [
    "is_between(1, 3, 2)  # 應該是 False"
   ]
  },
  {
   "cell_type": "code",
   "execution_count": 275,
   "id": "f76cec1e",
   "metadata": {
    "lines_to_next_cell": 2
   },
   "outputs": [
    {
     "data": {
      "text/plain": [
       "False"
      ]
     },
     "execution_count": 275,
     "metadata": {},
     "output_type": "execute_result"
    }
   ],
   "source": [
    "is_between(2, 3, 1)  # 應該是 False"
   ]
  },
  {
   "cell_type": "markdown",
   "id": "e2b04f1f",
   "metadata": {},
   "source": [
    "### 練習\n",
    "\n",
    "阿克曼函式 (Ackermann function) $A(m, n)$ 的定義如下：\n",
    "\n",
    "$$\\begin{aligned}\n",
    "A(m, n) = \\begin{cases}\n",
    "              n+1 & \\mbox{如果 } m = 0 \\\\\n",
    "        A(m-1, 1) & \\mbox{如果 } m > 0 \\mbox{ 且 } n = 0 \\\\\n",
    "A(m-1, A(m, n-1)) & \\mbox{如果 } m > 0 \\mbox{ 且 } n > 0.\n",
    "\\end{cases}\n",
    "\\end{aligned}$$\n",
    "\n",
    "編寫一個名為 `ackermann` 的函式來評估阿克曼函式。\n",
    "如果你呼叫 `ackermann(5, 5)` 會發生什麼事？\n",
    "(譯註：阿克曼函式增長非常快，即使是很小的輸入值，也可能導致遞迴深度過大或計算時間過長。)"
   ]
  },
  {
   "cell_type": "markdown",
   "id": "0088b8fd",
   "metadata": {},
   "source": [
    "解答"
   ]
  },
  {
   "cell_type": "code",
   "execution_count": 25,
   "id": "363329c4",
   "metadata": {
    "lines_to_next_cell": 2
   },
   "outputs": [],
   "source": [
    "def ackermann(m_param, n_param): # 譯註：參數名修改\n",
    "    \"\"\"計算阿克曼函式 A(m, n)\n",
    "\n",
    "    參考 http://en.wikipedia.org/wiki/Ackermann_function\n",
    "\n",
    "    n_param, m_param: 非負整數\n",
    "    \"\"\"\n",
    "    if not isinstance(m_param, int) or not isinstance(n_param, int):\n",
    "        print(\"阿克曼函式只對整數有定義。\")\n",
    "        return None\n",
    "    if m_param < 0 or n_param < 0:\n",
    "        print(\"阿克曼函式只對非負整數有定義。\")\n",
    "        return None\n",
    "\n",
    "    if m_param == 0:\n",
    "        return n_param + 1\n",
    "    if n_param == 0: # 譯註：原文此處條件為 m > 0 and n == 0，但因 m==0 已處理，故簡化\n",
    "        return ackermann(m_param - 1, 1)\n",
    "    # 譯註：原文此處條件為 m > 0 and n > 0，同理可簡化\n",
    "    return ackermann(m_param - 1, ackermann(m_param, n_param - 1))"
   ]
  },
  {
   "cell_type": "markdown",
   "id": "5eafbba8",
   "metadata": {},
   "source": [
    "你可以使用這些範例來測試你的函式。"
   ]
  },
  {
   "cell_type": "code",
   "execution_count": 26,
   "id": "53948d53",
   "metadata": {
    "lines_to_next_cell": 2
   },
   "outputs": [
    {
     "data": {
      "text/plain": [
       "29"
      ]
     },
     "execution_count": 26,
     "metadata": {},
     "output_type": "execute_result"
    }
   ],
   "source": [
    "ackermann(3, 2)  # 應該是 29"
   ]
  },
  {
   "cell_type": "code",
   "execution_count": 27,
   "id": "a26e8454",
   "metadata": {
    "lines_to_next_cell": 2
   },
   "outputs": [
    {
     "data": {
      "text/plain": [
       "61"
      ]
     },
     "execution_count": 27,
     "metadata": {},
     "output_type": "execute_result"
    }
   ],
   "source": [
    "ackermann(3, 3)  # 應該是 61"
   ]
  },
  {
   "cell_type": "code",
   "execution_count": 28,
   "id": "e16fc846",
   "metadata": {
    "lines_to_next_cell": 2
   },
   "outputs": [
    {
     "data": {
      "text/plain": [
       "125"
      ]
     },
     "execution_count": 28,
     "metadata": {},
     "output_type": "execute_result"
    }
   ],
   "source": [
    "ackermann(3, 4)  # 應該是 125"
   ]
  },
  {
   "cell_type": "markdown",
   "id": "6cd93c85",
   "metadata": {},
   "source": [
    "如果你用大於 4 的值呼叫此函式，你會得到一個 `RecursionError`。\n",
    "(譯註：對於 (3,4) 已經非常接近極限，(4,1) 就可能超出了，(5,5) 肯定會。)"
   ]
  },
  {
   "cell_type": "markdown",
   "id": "507de940",
   "metadata": {
    "lines_to_next_cell": 2
   },
   "source": [
    "get_ipython().run_cell_magic('expect', 'RecursionError', '\\nackermann(5, 5)\\n')\n",
    "譯註：預期 RecursionError"
   ]
  },
  {
   "cell_type": "markdown",
   "id": "887576f8",
   "metadata": {},
   "source": [
    "要了解原因，請在函式開頭加入一個 print 陳述句來顯示參數的值，然後再次執行範例。"
   ]
  },
  {
   "cell_type": "markdown",
   "id": "e8042293",
   "metadata": {},
   "source": [
    "### 練習\n",
    "\n",
    "如果一個數字 $a$ 可以被 $b$ 整除，並且 $a/b$\n",
    "也是 $b$ 的次方，那麼 $a$ 就是 $b$ 的次方。編寫一個名為 `is_power` 的函式，它接受參數\n",
    "`a` 和 `b`，如果 `a` 是 `b` 的次方，則回傳 `True`。注意：你\n",
    "需要考慮基礎案例。\n",
    "(譯註：例如 8 是 2 的次方，因為 8/2=4，4/2=2，2/2=1。基礎案例是 a=1。)"
   ]
  },
  {
   "cell_type": "markdown",
   "id": "75a995f0",
   "metadata": {},
   "source": [
    "解答"
   ]
  },
  {
   "cell_type": "code",
   "execution_count": 80,
   "id": "82f13fea",
   "metadata": {
    "lines_to_next_cell": 2
   },
   "outputs": [],
   "source": [
    "def is_power(a_val, b_val): # 譯註：參數名修改\n",
    "    \"\"\"檢查 a_val 是否為 b_val 的次方\n",
    "    \"\"\"\n",
    "    # 輸入驗證\n",
    "    if not (isinstance(a_val, (int, float)) and isinstance(b_val, (int, float))):\n",
    "        print(\"輸入必須是數字。\")\n",
    "        return False\n",
    "    if b_val == 0:\n",
    "        return a_val == 0 # 0 的 0 次方未定義，但 0 的正數次方是 0\n",
    "    if b_val == 1:\n",
    "        return a_val == 1 # 1 的任何次方都是 1 (除了 0 次方)\n",
    "\n",
    "    # 基礎案例\n",
    "    if a_val == 1: # 任何數的 0 次方是 1 (除了 0 的 0 次方)\n",
    "        return True\n",
    "    if a_val < 1 or a_val < b_val : # 如果 a 小於 b (且 a 不是 1)，或者 a 不是正數，則不可能是 b 的次方\n",
    "        return False\n",
    "\n",
    "    # 遞迴步驟\n",
    "    if is_divisible(a_val, b_val): # is_divisible 是之前定義的函式\n",
    "        return is_power(a_val / b_val, b_val)\n",
    "    else:\n",
    "        return False"
   ]
  },
  {
   "cell_type": "markdown",
   "id": "d81fa587",
   "metadata": {},
   "source": [
    "你可以使用這些範例來測試你的函式。"
   ]
  },
  {
   "cell_type": "code",
   "execution_count": 82,
   "id": "2e67d9b8",
   "metadata": {
    "lines_to_next_cell": 2
   },
   "outputs": [
    {
     "data": {
      "text/plain": [
       "True"
      ]
     },
     "execution_count": 82,
     "metadata": {},
     "output_type": "execute_result"
    }
   ],
   "source": [
    "is_power(65536, 2)   # 應該是 True (2^16)"
   ]
  },
  {
   "cell_type": "code",
   "execution_count": 83,
   "id": "3c8920d7",
   "metadata": {
    "lines_to_next_cell": 2
   },
   "outputs": [
    {
     "data": {
      "text/plain": [
       "True"
      ]
     },
     "execution_count": 83,
     "metadata": {},
     "output_type": "execute_result"
    }
   ],
   "source": [
    "is_power(27, 3)  # 應該是 True (3^3)"
   ]
  },
  {
   "cell_type": "code",
   "execution_count": 4,
   "id": "8c0ad79f",
   "metadata": {},
   "outputs": [
    {
     "name": "stdout",
     "output_type": "stream",
     "text": [
      "a = 3 b = 4\n"
     ]
    },
    {
     "data": {
      "text/plain": [
       "7"
      ]
     },
     "execution_count": 4,
     "metadata": {},
     "output_type": "execute_result"
    }
   ],
   "source": [
    "def my_test(a, b):\n",
    "    print(\"a =\", a,\"b =\", b)  # 譯註：將英文改為中文\n",
    "    # math.log(a, b)  # 譯註：這裡的 math.log 是計算對數f\n",
    "    return a+b\n",
    "\n",
    "my_test(3, 4)  # 應該是 7\n"
   ]
  },
  {
   "cell_type": "code",
   "execution_count": null,
   "id": "62e5e785",
   "metadata": {},
   "outputs": [],
   "source": []
  },
  {
   "cell_type": "code",
   "execution_count": 84,
   "id": "15e8ccb9",
   "metadata": {
    "lines_to_next_cell": 2
   },
   "outputs": [
    {
     "data": {
      "text/plain": [
       "False"
      ]
     },
     "execution_count": 84,
     "metadata": {},
     "output_type": "execute_result"
    }
   ],
   "source": [
    "is_power(24, 2)  # 應該是 False"
   ]
  },
  {
   "cell_type": "code",
   "execution_count": 85,
   "id": "0f2e334c",
   "metadata": {
    "lines_to_next_cell": 2
   },
   "outputs": [
    {
     "data": {
      "text/plain": [
       "True"
      ]
     },
     "execution_count": 85,
     "metadata": {},
     "output_type": "execute_result"
    }
   ],
   "source": [
    "is_power(1, 17)   # 應該是 True (17^0)"
   ]
  },
  {
   "cell_type": "markdown",
   "id": "c83f1bcc",
   "metadata": {},
   "source": [
    "### 練習\n",
    "\n",
    "$a$ 和 $b$ 的最大公因數 (GCD) 是指能夠同時整除它們且沒有餘數的最大數字。\n",
    "\n",
    "找到兩個數字的 GCD 的一種方法是基於以下觀察：\n",
    "如果 $r$ 是 $a$ 除以 $b$ 的餘數，那麼 $gcd(a,\n",
    "b) = gcd(b, r)$。作為基礎案例，我們可以使用 $gcd(a, 0) = a$。\n",
    "\n",
    "編寫一個名為 `gcd` 的函式，它接受參數 `a` 和 `b` 並\n",
    "回傳它們的最大公因數。"
   ]
  },
  {
   "cell_type": "markdown",
   "id": "a0ed5866",
   "metadata": {},
   "source": [
    "解答"
   ]
  },
  {
   "cell_type": "code",
   "execution_count": 2,
   "id": "63fb23b2",
   "metadata": {
    "lines_to_next_cell": 2
   },
   "outputs": [],
   "source": [
    "def gcd(a_val, b_val): # 譯註：參數名修改\n",
    "    # 輸入驗證 (可選，但良好實踐)\n",
    "    if not (isinstance(a_val, int) and isinstance(b_val, int)):\n",
    "        print(\"輸入必須是整數。\")\n",
    "        return None\n",
    "    if a_val < 0 or b_val < 0:\n",
    "        print(\"輸入必須是非負整數。\") # 歐幾里得算法通常用於非負整數\n",
    "        # 可以透過取絕對值來處理負數\n",
    "        # a_val = abs(a_val)\n",
    "        # b_val = abs(b_val)\n",
    "        return None # 或者拋出錯誤\n",
    "\n",
    "    if b_val == 0:\n",
    "        return a_val\n",
    "    else:\n",
    "        return gcd(b_val, a_val % b_val)"
   ]
  },
  {
   "cell_type": "markdown",
   "id": "b1358832",
   "metadata": {},
   "source": [
    "你可以使用這些範例來測試你的函式。"
   ]
  },
  {
   "cell_type": "code",
   "execution_count": 8,
   "id": "354ec892",
   "metadata": {
    "lines_to_next_cell": 2
   },
   "outputs": [
    {
     "data": {
      "text/plain": [
       "111"
      ]
     },
     "execution_count": 8,
     "metadata": {},
     "output_type": "execute_result"
    }
   ],
   "source": [
    "gcd(333, 111)    # 應該是 4"
   ]
  },
  {
   "cell_type": "code",
   "execution_count": 287,
   "id": "048fc34c",
   "metadata": {
    "lines_to_next_cell": 2
   },
   "outputs": [
    {
     "data": {
      "text/plain": [
       "1"
      ]
     },
     "execution_count": 287,
     "metadata": {},
     "output_type": "execute_result"
    }
   ],
   "source": [
    "gcd(13, 17)   # 應該是 1"
   ]
  },
  {
   "cell_type": "markdown",
   "id": "4fb0bb3c",
   "metadata": {},
   "source": [
    "In[ ]:"
   ]
  },
  {
   "cell_type": "markdown",
   "id": "23666330",
   "metadata": {},
   "source": [
    "[Think Python: 3rd Edition](https://allendowney.github.io/ThinkPython/index.html)\n",
    "\n",
    "Copyright 2024 [Allen B. Downey](https://allendowney.com)\n",
    "\n",
    "程式碼授權: [MIT License](https://mit-license.org/)\n",
    "\n",
    "文字授權: [Creative Commons Attribution-NonCommercial-ShareAlike 4.0 International](https://creativecommons.org/licenses/by-nc-sa/4.0/)"
   ]
  }
 ],
 "metadata": {
  "jupytext": {
   "cell_metadata_filter": "-all",
   "comment_magics": false,
   "encoding": "# coding: utf-8",
   "executable": "/usr/bin/env python",
   "main_language": "python"
  },
  "kernelspec": {
   "display_name": ".venv",
   "language": "python",
   "name": "python3"
  },
  "language_info": {
   "codemirror_mode": {
    "name": "ipython",
    "version": 3
   },
   "file_extension": ".py",
   "mimetype": "text/x-python",
   "name": "python",
   "nbconvert_exporter": "python",
   "pygments_lexer": "ipython3",
   "version": "3.12.2"
  }
 },
 "nbformat": 4,
 "nbformat_minor": 5
}
