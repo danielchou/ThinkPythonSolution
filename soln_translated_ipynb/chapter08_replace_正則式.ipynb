{
 "cells": [
  {
   "cell_type": "markdown",
   "id": "5edb65af",
   "metadata": {},
   "source": [
    "從 chap08.ipynb 轉換而來\n",
    "使用 ipynb_to_py.py 腳本自動轉換"
   ]
  },
  {
   "cell_type": "markdown",
   "id": "92ff879e",
   "metadata": {},
   "source": [
    "你可以從以下網站訂購《Think Python 3e》的紙本版和電子書：\n",
    "[Bookshop.org](https://bookshop.org/a/98697/9781098155438) 和\n",
    "[Amazon](https://www.amazon.com/_/dp/1098155432?smid=ATVPDKIKX0DER&_encoding=UTF8&tag=oreilly20-20&_encoding=UTF8&tag=greenteapre01-20&linkCode=ur2&linkId=e2a529f94920295d27ec8a06e757dc7c&camp=1789&creative=9325)."
   ]
  },
  {
   "cell_type": "code",
   "execution_count": null,
   "id": "7384810f",
   "metadata": {
    "lines_to_next_cell": 1
   },
   "outputs": [],
   "source": [
    "from os.path import basename, exists"
   ]
  },
  {
   "cell_type": "code",
   "execution_count": null,
   "id": "cf2ac081",
   "metadata": {
    "lines_to_next_cell": 1
   },
   "outputs": [],
   "source": [
    "def download(url):\n",
    "    filename = basename(url)\n",
    "    if not exists(filename):\n",
    "        from urllib.request import urlretrieve\n",
    "\n",
    "        local, _ = urlretrieve(url, filename)\n",
    "        print(\"已下載 \" + str(local)) # 把下載訊息也中文化\n",
    "    return filename"
   ]
  },
  {
   "cell_type": "code",
   "execution_count": null,
   "id": "3b8e0abe",
   "metadata": {},
   "outputs": [],
   "source": [
    "download('https://github.com/AllenDowney/ThinkPython/raw/v3/thinkpython.py');\n",
    "download('https://github.com/AllenDowney/ThinkPython/raw/v3/diagram.py');"
   ]
  },
  {
   "cell_type": "code",
   "execution_count": null,
   "id": "1ad03be1",
   "metadata": {},
   "outputs": [],
   "source": [
    "import thinkpython"
   ]
  },
  {
   "cell_type": "markdown",
   "id": "9a9d1ea4",
   "metadata": {},
   "source": [
    "# 字串與正規表示式 (Strings and Regular Expressions)\n",
    "\n",
    "字串 (String) 跟整數 (integer)、浮點數 (float) 和布林值 (boolean) 不太一樣。字串是一種 **序列 (sequence)**，\n",
    "意思就是它按照特定順序包含多個值。\n",
    "在這一章，我們會學習如何存取組成字串的這些值，並且使用一些處理字串的函數。\n",
    "\n",
    "我們也會用到正規表示式 (regular expression)，這是一個強大的工具，可以用來在字串中尋找模式 (pattern)\n",
    "以及執行像是搜尋和取代這類的操作。\n",
    "\n",
    "作為練習，你將有機會把這些工具應用到一個叫做 Wordle 的文字遊戲上。"
   ]
  },
  {
   "cell_type": "markdown",
   "id": "bd045659",
   "metadata": {},
   "source": [
    "## 字串是一個序列 (A string is a sequence)\n",
    "\n",
    "字串是由一連串字元 (character) 組成的。一個 **字元** 可以是一個字母（幾乎任何字母系統的字母都可以）、\n",
    "一個數字、一個標點符號，或是空白字元 (white space)。\n",
    "\n",
    "你可以用中括號運算子 `[]` 從字串中選取一個字元。\n",
    "下面這個範例陳述式會從 `fruit` 中選取編號為 1 的字元，\n",
    "然後把它指派給變數 `letter`："
   ]
  },
  {
   "cell_type": "code",
   "execution_count": null,
   "id": "05886b0b",
   "metadata": {},
   "outputs": [],
   "source": [
    "fruit = 'banana'\n",
    "letter = fruit[1]"
   ]
  },
  {
   "cell_type": "markdown",
   "id": "e5f8fae7",
   "metadata": {},
   "source": [
    "中括號裡面的表達式叫做 **索引 (index)**，因為它 *指出* (indicates) 要選取序列中的哪一個字元。\n",
    "但是，結果可能跟你想的不太一樣喔。"
   ]
  },
  {
   "cell_type": "code",
   "execution_count": null,
   "id": "5d9fffa2",
   "metadata": {},
   "outputs": [],
   "source": [
    "letter"
   ]
  },
  {
   "cell_type": "markdown",
   "id": "1f733e47",
   "metadata": {},
   "source": [
    "索引為 `1` 的字母，實際上是字串的第二個字母。\n",
    "索引是從字串開頭算起的位移量 (offset)，所以第一個字母的位移量是 `0`。"
   ]
  },
  {
   "cell_type": "code",
   "execution_count": null,
   "id": "da141976",
   "metadata": {},
   "outputs": [],
   "source": [
    "fruit[0]"
   ]
  },
  {
   "cell_type": "markdown",
   "id": "4c8f5a55",
   "metadata": {},
   "source": [
    "你可以把 `'b'` 想成是 `'banana'` 的第 0 個 (zero-eth) 字母。\n",
    "\n",
    "中括號裡的索引可以是一個變數。"
   ]
  },
  {
   "cell_type": "code",
   "execution_count": null,
   "id": "9c2525d7",
   "metadata": {},
   "outputs": [],
   "source": [
    "i = 1\n",
    "fruit[i]"
   ]
  },
  {
   "cell_type": "markdown",
   "id": "c48a4f6a",
   "metadata": {},
   "source": [
    "或者是一個包含變數和運算子的表達式。"
   ]
  },
  {
   "cell_type": "code",
   "execution_count": null,
   "id": "3984ae9c",
   "metadata": {},
   "outputs": [],
   "source": [
    "fruit[i+1]"
   ]
  },
  {
   "cell_type": "markdown",
   "id": "a9f81965",
   "metadata": {},
   "source": [
    "但是索引的值必須是一個整數——不然你會得到一個 `TypeError`（型別錯誤）。"
   ]
  },
  {
   "cell_type": "code",
   "execution_count": null,
   "id": "65e69f65",
   "metadata": {},
   "outputs": [],
   "source": [
    "%%expect TypeError"
   ]
  },
  {
   "cell_type": "code",
   "execution_count": null,
   "id": "6a961583",
   "metadata": {},
   "outputs": [],
   "source": [
    "fruit[1.5]"
   ]
  },
  {
   "cell_type": "markdown",
   "id": "afb3f02c",
   "metadata": {},
   "source": [
    "如同我們在第一章看到的，我們可以用內建函數 `len` 來取得字串的長度。"
   ]
  },
  {
   "cell_type": "code",
   "execution_count": null,
   "id": "ba155c79",
   "metadata": {},
   "outputs": [],
   "source": [
    "n = len(fruit)\n",
    "n"
   ]
  },
  {
   "cell_type": "markdown",
   "id": "ea645588",
   "metadata": {},
   "source": [
    "要取得字串的最後一個字母，你可能會想這樣寫："
   ]
  },
  {
   "cell_type": "code",
   "execution_count": null,
   "id": "7dc4de92",
   "metadata": {},
   "outputs": [],
   "source": [
    "%%expect IndexError"
   ]
  },
  {
   "cell_type": "code",
   "execution_count": null,
   "id": "99b0118d",
   "metadata": {},
   "outputs": [],
   "source": [
    "fruit[n]"
   ]
  },
  {
   "cell_type": "markdown",
   "id": "d2d0d257",
   "metadata": {},
   "source": [
    "但是這樣會造成 `IndexError`（索引錯誤），因為在 `'banana'` 這個字串裡，沒有索引為 6 的字母。\n",
    "因為我們是從 `0` 開始數，所以六個字母的編號是 `0` 到 `5`。\n",
    "要取得最後一個字元，你必須從 `n` 減掉 `1`："
   ]
  },
  {
   "cell_type": "code",
   "execution_count": null,
   "id": "f57fc0e8",
   "metadata": {},
   "outputs": [],
   "source": [
    "fruit[n-1]"
   ]
  },
  {
   "cell_type": "markdown",
   "id": "03cc940b",
   "metadata": {},
   "source": [
    "不過，有個更簡單的方法。\n",
    "要取得字串的最後一個字母，你可以用負數索引 (negative index)，它是從字串尾巴倒著數回來。"
   ]
  },
  {
   "cell_type": "code",
   "execution_count": null,
   "id": "d1b371db",
   "metadata": {},
   "outputs": [],
   "source": [
    "fruit[-1]"
   ]
  },
  {
   "cell_type": "markdown",
   "id": "0643e19a",
   "metadata": {},
   "source": [
    "索引 `-1` 選取的是最後一個字母，`-2` 選取的是倒數第二個，依此类推。"
   ]
  },
  {
   "cell_type": "markdown",
   "id": "e4e8bd6d",
   "metadata": {},
   "source": [
    "## 字串切片 (String slices)\n",
    "\n",
    "字串的一個片段叫做 **切片 (slice)**。\n",
    "選取一個切片跟選取一個字元很像。"
   ]
  },
  {
   "cell_type": "code",
   "execution_count": null,
   "id": "8089730c",
   "metadata": {},
   "outputs": [],
   "source": [
    "fruit = 'banana'\n",
    "fruit[0:3]"
   ]
  },
  {
   "cell_type": "markdown",
   "id": "b68adb5b",
   "metadata": {},
   "source": [
    "運算子 `[n:m]` 會回傳字串中從第 `n` 個字元到第 `m` 個字元的片段，\n",
    "其中包含第一個 (第 `n` 個)，但不包含第二個 (第 `m` 個)。\n",
    "這種行為有點違反直覺，但你可以想像索引是指向字元*之間*的位置，像下面這張圖一樣："
   ]
  },
  {
   "cell_type": "code",
   "execution_count": null,
   "id": "a00f3307",
   "metadata": {},
   "outputs": [],
   "source": [
    "from diagram import make_binding, Element, Value"
   ]
  },
  {
   "cell_type": "code",
   "execution_count": null,
   "id": "8425c8dd",
   "metadata": {},
   "outputs": [],
   "source": [
    "binding = make_binding(\"fruit\", ' b a n a n a ')\n",
    "elements = [Element(Value(i), None) for i in range(7)]"
   ]
  },
  {
   "cell_type": "code",
   "execution_count": null,
   "id": "a11a7099",
   "metadata": {},
   "outputs": [],
   "source": [
    "import matplotlib.pyplot as plt\n",
    "from diagram import diagram, adjust\n",
    "from matplotlib.transforms import Bbox"
   ]
  },
  {
   "cell_type": "code",
   "execution_count": null,
   "id": "ab331f05",
   "metadata": {},
   "outputs": [],
   "source": [
    "width, height, x, y = [1.35, 0.54, 0.23, 0.39]"
   ]
  },
  {
   "cell_type": "code",
   "execution_count": null,
   "id": "0e10e463",
   "metadata": {
    "lines_to_next_cell": 1
   },
   "outputs": [],
   "source": [
    "ax = diagram(width, height)\n",
    "bbox = binding.draw(ax, x, y)\n",
    "bboxes = [bbox]"
   ]
  },
  {
   "cell_type": "code",
   "execution_count": null,
   "id": "041da3d7",
   "metadata": {
    "lines_to_next_cell": 1
   },
   "outputs": [],
   "source": [
    "def draw_elts(x, y, elements):\n",
    "    for elt in elements:\n",
    "        bbox = elt.draw(ax, x, y, draw_value=False)\n",
    "        bboxes.append(bbox)\n",
    "\n",
    "        x1 = (bbox.xmin + bbox.xmax) / 2\n",
    "        y1 = bbox.ymax + 0.02\n",
    "        y2 = y1 + 0.14\n",
    "        handle = plt.plot([x1, x1], [y1, y2], ':', lw=0.5, color='gray')\n",
    "        x += 0.105"
   ]
  },
  {
   "cell_type": "code",
   "execution_count": null,
   "id": "39dff70a",
   "metadata": {},
   "outputs": [],
   "source": [
    "draw_elts(x + 0.48, y - 0.25, elements)\n",
    "bbox = Bbox.union(bboxes)\n",
    "# adjust(x, y, bbox)"
   ]
  },
  {
   "cell_type": "markdown",
   "id": "e6a8f5b3",
   "metadata": {},
   "source": [
    "舉例來說，切片 `[3:6]` 選取的是字母 `ana`，這表示 `6` 作為切片的一部分是合法的，\n",
    "但作為單獨的索引是不合法的。\n",
    "\n",
    "\n",
    "如果你省略第一個索引，切片會從字串的開頭開始。"
   ]
  },
  {
   "cell_type": "code",
   "execution_count": null,
   "id": "4fcf8428",
   "metadata": {},
   "outputs": [],
   "source": [
    "fruit[:3]"
   ]
  },
  {
   "cell_type": "markdown",
   "id": "1491e403",
   "metadata": {},
   "source": [
    "如果你省略第二個索引，切片會一直到字串的結尾："
   ]
  },
  {
   "cell_type": "code",
   "execution_count": null,
   "id": "86e7b671",
   "metadata": {},
   "outputs": [],
   "source": [
    "fruit[3:]"
   ]
  },
  {
   "cell_type": "markdown",
   "id": "a52f3f9e",
   "metadata": {},
   "source": [
    "如果第一個索引大於或等於第二個索引，結果會是一個 **空字串 (empty string)**，\n",
    "用兩個引號 `\"\"` 表示："
   ]
  },
  {
   "cell_type": "code",
   "execution_count": null,
   "id": "1e2de22d",
   "metadata": {},
   "outputs": [],
   "source": [
    "fruit[3:3]"
   ]
  },
  {
   "cell_type": "markdown",
   "id": "d469d8a0",
   "metadata": {},
   "source": [
    "空字串不包含任何字元，長度是 0。\n",
    "\n",
    "延續這個例子，你覺得 `fruit[:]` 是什麼意思呢？試試看就知道了。"
   ]
  },
  {
   "cell_type": "code",
   "execution_count": null,
   "id": "9006872e",
   "metadata": {},
   "outputs": [],
   "source": [
    "fruit[:]"
   ]
  },
  {
   "cell_type": "markdown",
   "id": "8563ac69",
   "metadata": {},
   "source": [
    "## 字串是不可變的 (Strings are immutable)\n",
    "\n",
    "你可能會很想在等號的左邊使用 `[]` 運算子，\n",
    "想要改變字串中的某個字元，像這樣："
   ]
  },
  {
   "cell_type": "code",
   "execution_count": null,
   "id": "c591ef26",
   "metadata": {},
   "outputs": [],
   "source": [
    "%%expect TypeError"
   ]
  },
  {
   "cell_type": "code",
   "execution_count": null,
   "id": "1818b5a0",
   "metadata": {},
   "outputs": [],
   "source": [
    "greeting = 'Hello, world!'\n",
    "greeting[0] = 'J'"
   ]
  },
  {
   "cell_type": "markdown",
   "id": "c959574c",
   "metadata": {},
   "source": [
    "結果是 `TypeError`（型別錯誤）。\n",
    "在錯誤訊息中，\"object\" (物件) 指的是字串，而 \"item\" (項目) 指的是我們試圖指派的字元。\n",
    "目前來說，**物件 (object)** 跟值 (value) 是一樣的東西，但我們之後會再 уточнить (refine) 這個定義。\n",
    "\n",
    "發生這個錯誤的原因是字串是 **不可變的 (immutable)**，意思是你不能改變一個已經存在的字串。\n",
    "你能做的最好的方法，就是創造一個新的字串，它是原始字串的變形。"
   ]
  },
  {
   "cell_type": "code",
   "execution_count": null,
   "id": "54cf1283",
   "metadata": {},
   "outputs": [],
   "source": [
    "new_greeting = 'J' + greeting[1:]\n",
    "new_greeting"
   ]
  },
  {
   "cell_type": "markdown",
   "id": "27d21833",
   "metadata": {},
   "source": [
    "這個例子把一個新的第一個字母串接到 `greeting` 的一個切片上。\n",
    "它對原始的字串沒有任何影響。"
   ]
  },
  {
   "cell_type": "code",
   "execution_count": null,
   "id": "c03623ae",
   "metadata": {},
   "outputs": [],
   "source": [
    "greeting"
   ]
  },
  {
   "cell_type": "markdown",
   "id": "d6b345dd",
   "metadata": {},
   "source": [
    "## 字串比較 (String comparison)\n",
    "\n",
    "關係運算子 (relational operators) 也可以用在字串上。要看看兩個字串是否相等，\n",
    "我們可以用 `==` 運算子。"
   ]
  },
  {
   "cell_type": "code",
   "execution_count": null,
   "id": "cf5869ef",
   "metadata": {},
   "outputs": [],
   "source": [
    "word = 'banana'"
   ]
  },
  {
   "cell_type": "code",
   "execution_count": null,
   "id": "3ac2c5d4",
   "metadata": {
    "lines_to_next_cell": 1
   },
   "outputs": [],
   "source": [
    "if word == 'banana':\n",
    "    print('沒錯，是香蕉。') # 口語化一點"
   ]
  },
  {
   "cell_type": "markdown",
   "id": "be0cb6dd",
   "metadata": {},
   "source": [
    "其他的關係運算在按照字母順序排列單字時很有用："
   ]
  },
  {
   "cell_type": "code",
   "execution_count": null,
   "id": "78568f4b",
   "metadata": {
    "lines_to_next_cell": 1
   },
   "outputs": [],
   "source": [
    "def compare_word(word):\n",
    "    if word < 'banana':\n",
    "        print(word, '排在 banana 前面。')\n",
    "    elif word > 'banana':\n",
    "        print(word, '排在 banana 後面。')\n",
    "    else:\n",
    "        print('沒錯，是 banana。') # 口語化一點"
   ]
  },
  {
   "cell_type": "code",
   "execution_count": null,
   "id": "f4326c10",
   "metadata": {},
   "outputs": [],
   "source": [
    "compare_word('apple')"
   ]
  },
  {
   "cell_type": "markdown",
   "id": "3e78556c",
   "metadata": {},
   "source": [
    "Python 處理大寫和小寫字母的方式跟人類不太一樣。\n",
    "所有的大寫字母都排在所有的小寫字母前面，所以："
   ]
  },
  {
   "cell_type": "code",
   "execution_count": null,
   "id": "b14dd5ca",
   "metadata": {},
   "outputs": [],
   "source": [
    "compare_word('Pineapple')"
   ]
  },
  {
   "cell_type": "markdown",
   "id": "d8bd00c6",
   "metadata": {},
   "source": [
    "為了處理這個問題，我們可以在比較之前，把字串轉換成一個標準格式，例如全部轉成小寫。\n",
    "如果你哪天需要用鳳梨 (Pineapple) 跟人搏鬥，記得這點。 (這句是原文的幽默，保留一下趣味性)"
   ]
  },
  {
   "cell_type": "markdown",
   "id": "3724dfe2",
   "metadata": {},
   "source": [
    "## 字串方法 (String methods)\n",
    "\n",
    "字串提供了一些方法 (method)，可以執行各種有用的操作。\n",
    "方法跟函數很像——它會接收參數並回傳一個值——但是語法不太一樣。\n",
    "例如，`upper` 方法會接收一個字串，然後回傳一個新的、全部是大寫字母的字串。\n",
    "\n",
    "它不是用函數的語法 `upper(word)`，而是用方法的語法 `word.upper()`。"
   ]
  },
  {
   "cell_type": "code",
   "execution_count": null,
   "id": "cd01ffd6",
   "metadata": {},
   "outputs": [],
   "source": [
    "word = 'banana'\n",
    "new_word = word.upper()\n",
    "new_word"
   ]
  },
  {
   "cell_type": "markdown",
   "id": "66f5da51",
   "metadata": {},
   "source": [
    "這裡的點運算子 (`.`) 指定了方法的名稱 `upper`，以及要套用這個方法的字串名稱 `word`。\n",
    "空的括號 `()` 表示這個方法不需要任何參數。\n",
    "\n",
    "一個方法呼叫 (method call) 被稱為 **調用 (invocation)**；在這個例子中，我們會說我們在 `word` 上調用了 `upper` 方法。"
   ]
  },
  {
   "cell_type": "markdown",
   "id": "f5cc647a",
   "metadata": {},
   "source": [
    "## 寫入檔案 (Writing files)\n",
    "\n",
    "字串運算子和方法在讀取和寫入文字檔案時很有用。\n",
    "作為例子，我們會處理《德古拉》(Dracula) 這本小說的文本，這是布蘭·斯托克 (Bram Stoker) 的作品，\n",
    "可以從古騰堡計畫 (Project Gutenberg) 取得 (<https://www.gutenberg.org/ebooks/345>)。"
   ]
  },
  {
   "cell_type": "code",
   "execution_count": null,
   "id": "87dec2de",
   "metadata": {},
   "outputs": [],
   "source": [
    "import os"
   ]
  },
  {
   "cell_type": "code",
   "execution_count": null,
   "id": "29013410",
   "metadata": {},
   "outputs": [],
   "source": [
    "if not os.path.exists('pg345.txt'):\n",
    "    !wget https://www.gutenberg.org/cache/epub/345/pg345.txt"
   ]
  },
  {
   "cell_type": "markdown",
   "id": "7d57f5b7",
   "metadata": {},
   "source": [
    "我已經把這本書下載成一個叫做 `pg345.txt` 的純文字檔，我們可以像這樣開啟它來讀取："
   ]
  },
  {
   "cell_type": "code",
   "execution_count": null,
   "id": "01660148",
   "metadata": {
    "lines_to_next_cell": 1
   },
   "outputs": [],
   "source": [
    "reader = open('pg345.txt')"
   ]
  },
  {
   "cell_type": "markdown",
   "id": "0218454f",
   "metadata": {},
   "source": [
    "除了書的本文之外，這個檔案在開頭包含了一些關於書的資訊，在結尾則包含了一些關於授權的資訊。\n",
    "在我們處理文本之前，我們可以藉由找到開頭和結尾那些以 `'***'` 開始的特殊行來移除這些額外的內容。\n",
    "\n",
    "下面的函數會接收一行文字，然後檢查它是不是其中一個特殊行。\n",
    "它使用了 `startswith` 方法，這個方法會檢查一個字串是不是以給定的字元序列開頭。"
   ]
  },
  {
   "cell_type": "code",
   "execution_count": null,
   "id": "c811800d",
   "metadata": {
    "lines_to_next_cell": 1
   },
   "outputs": [],
   "source": [
    "def is_special_line(line):\n",
    "    return line.startswith('*** ')"
   ]
  },
  {
   "cell_type": "markdown",
   "id": "80d53d92",
   "metadata": {},
   "source": [
    "我們可以用這個函數來遍歷檔案中的每一行，並且只印出那些特殊行。"
   ]
  },
  {
   "cell_type": "code",
   "execution_count": null,
   "id": "97eee2e8",
   "metadata": {},
   "outputs": [],
   "source": [
    "for line in reader:\n",
    "    if is_special_line(line):\n",
    "        print(line.strip()) # strip() 會移除頭尾空白，讓輸出更整潔"
   ]
  },
  {
   "cell_type": "markdown",
   "id": "956f1410",
   "metadata": {},
   "source": [
    "現在讓我們建立一個新的檔案，叫做 `pg345_cleaned.txt`，裡面只包含書的本文。\n",
    "為了再次遍歷這本書，我們必須重新開啟它來讀取。\n",
    "而且，要寫入一個新的檔案，我們可以開啟它來寫入。"
   ]
  },
  {
   "cell_type": "code",
   "execution_count": null,
   "id": "0372ca4b",
   "metadata": {},
   "outputs": [],
   "source": [
    "reader = open('pg345.txt')\n",
    "writer = open('pg345_cleaned.txt', 'w')"
   ]
  },
  {
   "cell_type": "markdown",
   "id": "ee01700b",
   "metadata": {},
   "source": [
    "`open` 函數可以接受一個選擇性的參數來指定 \"模式 (mode)\" —— 在這個例子中，`'w'` 表示我們是以寫入模式開啟檔案。\n",
    "如果檔案不存在，它會被建立；如果檔案已經存在，它的內容會被取代。\n",
    "\n",
    "作為第一步，我們會遍歷檔案，直到找到第一個特殊行為止。"
   ]
  },
  {
   "cell_type": "code",
   "execution_count": null,
   "id": "01c42809",
   "metadata": {},
   "outputs": [],
   "source": [
    "for line in reader:\n",
    "    if is_special_line(line):\n",
    "        break"
   ]
  },
  {
   "cell_type": "markdown",
   "id": "920bd165",
   "metadata": {},
   "source": [
    "`break` 陳述式會 \"跳出 (breaks)\" 迴圈 —— 也就是說，它會讓迴圈立刻結束，\n",
    "在我們讀到檔案結尾之前就結束。\n",
    "\n",
    "當迴圈結束時，`line` 變數會包含那個讓條件判斷為 `True` (成立) 的特殊行。"
   ]
  },
  {
   "cell_type": "code",
   "execution_count": null,
   "id": "d1c0246e",
   "metadata": {},
   "outputs": [],
   "source": [
    "line"
   ]
  },
  {
   "cell_type": "markdown",
   "id": "8624cd08",
   "metadata": {},
   "source": [
    "因為 `reader` 會記錄它在檔案中讀到哪裡了，所以我們可以用第二個迴圈從上次離開的地方繼續。\n",
    "\n",
    "下面的迴圈會一行一行地讀取檔案剩下的內容。\n",
    "當它找到表示文本結束的特殊行時，它會跳出迴圈。\n",
    "否則，它會把該行寫入到輸出檔案。"
   ]
  },
  {
   "cell_type": "code",
   "execution_count": null,
   "id": "e5bc3feb",
   "metadata": {},
   "outputs": [],
   "source": [
    "for line in reader:\n",
    "    if is_special_line(line):\n",
    "        break\n",
    "    writer.write(line)"
   ]
  },
  {
   "cell_type": "markdown",
   "id": "d32494e5",
   "metadata": {},
   "source": [
    "當這個迴圈結束時，`line` 變數會包含第二個特殊行。"
   ]
  },
  {
   "cell_type": "code",
   "execution_count": null,
   "id": "aeeca871",
   "metadata": {},
   "outputs": [],
   "source": [
    "line"
   ]
  },
  {
   "cell_type": "markdown",
   "id": "90886124",
   "metadata": {},
   "source": [
    "此時 `reader` 和 `writer` 仍然是開啟的，這表示我們可以繼續從 `reader` 讀取行，\n",
    "或向 `writer` 寫入行。\n",
    "為了表示我們已經完成了，我們可以藉由調用 `close` 方法來關閉這兩個檔案。"
   ]
  },
  {
   "cell_type": "code",
   "execution_count": null,
   "id": "7a947c5e",
   "metadata": {},
   "outputs": [],
   "source": [
    "reader.close()\n",
    "writer.close()"
   ]
  },
  {
   "cell_type": "markdown",
   "id": "30f46581",
   "metadata": {},
   "source": [
    "為了檢查這個過程是否成功，我們可以從我們剛剛建立的新檔案中讀取前幾行。"
   ]
  },
  {
   "cell_type": "code",
   "execution_count": null,
   "id": "b7f8835c",
   "metadata": {},
   "outputs": [],
   "source": [
    "for line in open('pg345_cleaned.txt'):\n",
    "    line = line.strip() # 移除頭尾空白\n",
    "    if len(line) > 0:   # 只印出非空白行\n",
    "        print(line)\n",
    "    if line.endswith('Stoker'): # 檢查是否以 'Stoker' 結尾\n",
    "        break"
   ]
  },
  {
   "cell_type": "markdown",
   "id": "4cbb6e4c",
   "metadata": {},
   "source": [
    "`endswith` 方法會檢查一個字串是否以給定的字元序列結尾。"
   ]
  },
  {
   "cell_type": "markdown",
   "id": "ed62af2f",
   "metadata": {},
   "source": [
    "## 尋找與取代 (Find and replace)\n",
    "\n",
    "在 1901 年的《德古拉》冰島文譯本中，其中一個角色的名字從 \"Jonathan\" 改成了 \"Thomas\"。\n",
    "要在英文版中做這個修改，我們可以遍歷這本書，用 `replace` 方法把一個名字換成另一個，\n",
    "然後把結果寫到一個新檔案。\n",
    "\n",
    "我們先來計算一下清理過的檔案版本中有多少行。"
   ]
  },
  {
   "cell_type": "code",
   "execution_count": null,
   "id": "690d37dd",
   "metadata": {},
   "outputs": [],
   "source": [
    "total = 0\n",
    "for line in open('pg345_cleaned.txt'):\n",
    "    total += 1"
   ]
  },
  {
   "cell_type": "code",
   "execution_count": null,
   "id": "098c117c",
   "metadata": {},
   "outputs": [],
   "source": [
    "total"
   ]
  },
  {
   "cell_type": "markdown",
   "id": "10f951ac",
   "metadata": {},
   "source": [
    "要看看一行文字是否包含 \"Jonathan\"，我們可以用 `in` 運算子，\n",
    "它會檢查這個字元序列是否出現在該行中的任何地方。"
   ]
  },
  {
   "cell_type": "code",
   "execution_count": null,
   "id": "b25d5046",
   "metadata": {},
   "outputs": [],
   "source": [
    "total = 0\n",
    "for line in open('pg345_cleaned.txt'):\n",
    "    if 'Jonathan' in line:\n",
    "        total += 1"
   ]
  },
  {
   "cell_type": "code",
   "execution_count": null,
   "id": "fd4cc6b4",
   "metadata": {},
   "outputs": [],
   "source": [
    "total"
   ]
  },
  {
   "cell_type": "markdown",
   "id": "ea18cd8b",
   "metadata": {},
   "source": [
    "有 199 行包含這個名字，但這還不是它出現的總次數，\n",
    "因為它可能在一行中出現不只一次。\n",
    "要得到總次數，我們可以用 `count` 方法，它會回傳一個序列在字串中出現的次數。"
   ]
  },
  {
   "cell_type": "code",
   "execution_count": null,
   "id": "f554015a",
   "metadata": {},
   "outputs": [],
   "source": [
    "total = 0\n",
    "for line in open('pg345_cleaned.txt'):\n",
    "    total += line.count('Jonathan')"
   ]
  },
  {
   "cell_type": "code",
   "execution_count": null,
   "id": "5d0e73c9",
   "metadata": {},
   "outputs": [],
   "source": [
    "total"
   ]
  },
  {
   "cell_type": "markdown",
   "id": "f13e621b",
   "metadata": {},
   "source": [
    "現在我們可以像這樣把 `'Jonathan'` 取代成 `'Thomas'`："
   ]
  },
  {
   "cell_type": "code",
   "execution_count": null,
   "id": "baa71e64",
   "metadata": {},
   "outputs": [],
   "source": [
    "writer = open('pg345_replaced.txt', 'w')"
   ]
  },
  {
   "cell_type": "code",
   "execution_count": null,
   "id": "5f5b4fbd",
   "metadata": {},
   "outputs": [],
   "source": [
    "for line in open('pg345_cleaned.txt'):\n",
    "    line = line.replace('Jonathan', 'Thomas')\n",
    "    writer.write(line)"
   ]
  },
  {
   "cell_type": "markdown",
   "id": "4ab47757",
   "metadata": {},
   "source": [
    "結果是一個叫做 `pg345_replaced.txt` 的新檔案，裡面是《德古拉》的一個版本，\n",
    "其中 Jonathan Harker 被改名為 Thomas。"
   ]
  },
  {
   "cell_type": "code",
   "execution_count": null,
   "id": "e6eb3f84",
   "metadata": {},
   "outputs": [],
   "source": [
    "total = 0\n",
    "for line in open('pg345_replaced.txt'):\n",
    "    total += line.count('Thomas')"
   ]
  },
  {
   "cell_type": "code",
   "execution_count": null,
   "id": "5b23cdf1",
   "metadata": {},
   "outputs": [],
   "source": [
    "total"
   ]
  },
  {
   "cell_type": "markdown",
   "id": "3f11ee51",
   "metadata": {},
   "source": [
    "## 正規表示式 (Regular expressions)\n",
    "\n",
    "如果我們確切知道要找的是哪個字元序列，我們可以用 `in` 運算子來找它，\n",
    "用 `replace` 方法來取代它。\n",
    "但還有另一個工具，叫做 **正規表示式 (regular expression)**，它也能執行這些操作——而且功能更多。\n",
    "\n",
    "為了示範，我會從一個簡單的例子開始，然後慢慢進階。\n",
    "假設，我們又想找出所有包含特定單字的行。\n",
    "換個口味，這次我們來找書中提到主角德古拉伯爵 (Count Dracula) 的地方。\n",
    "這裡有一行提到他："
   ]
  },
  {
   "cell_type": "code",
   "execution_count": null,
   "id": "6ac2d2ff",
   "metadata": {},
   "outputs": [],
   "source": [
    "text = \"I am Dracula; and I bid you welcome, Mr. Harker, to my house.\""
   ]
  },
  {
   "cell_type": "markdown",
   "id": "01babb87",
   "metadata": {},
   "source": [
    "這是我們要用來搜尋的 **模式 (pattern)**。"
   ]
  },
  {
   "cell_type": "code",
   "execution_count": null,
   "id": "07c74c1f",
   "metadata": {},
   "outputs": [],
   "source": [
    "pattern = 'Dracula'"
   ]
  },
  {
   "cell_type": "markdown",
   "id": "d0320784",
   "metadata": {},
   "source": [
    "一個叫做 `re` 的模組提供了跟正規表示式相關的函數。\n",
    "我們可以像這樣匯入它，然後用 `search` 函數來檢查模式是否出現在文本中。"
   ]
  },
  {
   "cell_type": "code",
   "execution_count": null,
   "id": "88462682",
   "metadata": {},
   "outputs": [],
   "source": [
    "import re"
   ]
  },
  {
   "cell_type": "code",
   "execution_count": null,
   "id": "ee22418c",
   "metadata": {},
   "outputs": [],
   "source": [
    "result = re.search(pattern, text)\n",
    "result"
   ]
  },
  {
   "cell_type": "markdown",
   "id": "dae6ad9b",
   "metadata": {},
   "source": [
    "如果模式出現在文本中，`search` 會回傳一個 `Match` 物件，裡面包含了搜尋的結果。\n",
    "在其他資訊中，它有一個叫做 `string` 的變數，存著被搜尋的文本。"
   ]
  },
  {
   "cell_type": "code",
   "execution_count": null,
   "id": "f022957a",
   "metadata": {},
   "outputs": [],
   "source": [
    "result.string"
   ]
  },
  {
   "cell_type": "markdown",
   "id": "ff586093",
   "metadata": {},
   "source": [
    "它也提供了一個叫做 `group` 的方法，會回傳文本中符合模式的部分。"
   ]
  },
  {
   "cell_type": "code",
   "execution_count": null,
   "id": "e95ce446",
   "metadata": {},
   "outputs": [],
   "source": [
    "result.group()"
   ]
  },
  {
   "cell_type": "markdown",
   "id": "bd05f9ae",
   "metadata": {},
   "source": [
    "並且它提供了一個叫做 `span` 的方法，會回傳模式在文本中開始和結束的索引位置。"
   ]
  },
  {
   "cell_type": "code",
   "execution_count": null,
   "id": "472761ea",
   "metadata": {},
   "outputs": [],
   "source": [
    "result.span()"
   ]
  },
  {
   "cell_type": "markdown",
   "id": "21b450c4",
   "metadata": {},
   "source": [
    "如果模式沒有出現在文本中，`search` 的回傳值會是 `None`。"
   ]
  },
  {
   "cell_type": "code",
   "execution_count": null,
   "id": "891c89fc",
   "metadata": {},
   "outputs": [],
   "source": [
    "result = re.search('Count', text)\n",
    "print(result)"
   ]
  },
  {
   "cell_type": "markdown",
   "id": "5bf28ff7",
   "metadata": {},
   "source": [
    "所以我們可以藉由檢查結果是不是 `None` 來判斷搜尋是否成功。"
   ]
  },
  {
   "cell_type": "code",
   "execution_count": null,
   "id": "c99a2cc4",
   "metadata": {
    "lines_to_next_cell": 1
   },
   "outputs": [],
   "source": [
    "result == None"
   ]
  },
  {
   "cell_type": "markdown",
   "id": "523654e7",
   "metadata": {},
   "source": [
    "綜合以上，這裡有一個函數，它會遍歷書中的每一行，直到找到符合給定模式的那一行，\n",
    "然後回傳 `Match` 物件。"
   ]
  },
  {
   "cell_type": "code",
   "execution_count": null,
   "id": "33b2fa6e",
   "metadata": {
    "lines_to_next_cell": 1
   },
   "outputs": [],
   "source": [
    "def find_first(pattern):\n",
    "    for line in open('pg345_cleaned.txt'):\n",
    "        result = re.search(pattern, line)\n",
    "        if result != None: # 或者可以寫 if result:\n",
    "            return result"
   ]
  },
  {
   "cell_type": "markdown",
   "id": "ce896854",
   "metadata": {},
   "source": [
    "我們可以用它來找到某個角色第一次被提到的地方。"
   ]
  },
  {
   "cell_type": "code",
   "execution_count": null,
   "id": "7f431c14",
   "metadata": {},
   "outputs": [],
   "source": [
    "result = find_first('Harker')\n",
    "result.string"
   ]
  },
  {
   "cell_type": "markdown",
   "id": "c9c51352",
   "metadata": {},
   "source": [
    "在這個例子中，我們其實不需要用正規表示式——用 `in` 運算子可以更簡單地做到一樣的事。\n",
    "但是正規表示式可以做到 `in` 運算子做不到的事情。\n",
    "\n",
    "例如，如果模式包含垂直線字元 `'|'`，它可以符合左邊的序列或右邊的序列。\n",
    "假設我們想找到書中第一次提到 Mina Murray 的地方，但我們不確定她是用名字還是姓氏被提及。\n",
    "我們可以用下面的模式，它可以符合任一個名字。"
   ]
  },
  {
   "cell_type": "code",
   "execution_count": null,
   "id": "93cf7994",
   "metadata": {
    "lines_to_next_cell": 1
   },
   "outputs": [],
   "source": [
    "pattern = 'Mina|Murray'\n",
    "result = find_first(pattern)\n",
    "result.string"
   ]
  },
  {
   "cell_type": "markdown",
   "id": "b5b6da4e",
   "metadata": {},
   "source": [
    "我們可以用像這樣的模式來計算一個角色被任一名字提及了多少次。\n",
    "這裡有一個函數，它會遍歷整本書，並計算符合給定模式的行數。"
   ]
  },
  {
   "cell_type": "code",
   "execution_count": null,
   "id": "6d435ace",
   "metadata": {
    "lines_to_next_cell": 1
   },
   "outputs": [],
   "source": [
    "def count_matches(pattern):\n",
    "    count = 0\n",
    "    for line in open('pg345_cleaned.txt'):\n",
    "        result = re.search(pattern, line)\n",
    "        if result != None: # 或者 if result:\n",
    "            count += 1\n",
    "    return count"
   ]
  },
  {
   "cell_type": "markdown",
   "id": "3003dc80",
   "metadata": {},
   "source": [
    "現在來看看 Mina 被提到了多少次。"
   ]
  },
  {
   "cell_type": "code",
   "execution_count": null,
   "id": "60f9f10d",
   "metadata": {},
   "outputs": [],
   "source": [
    "count_matches('Mina|Murray')"
   ]
  },
  {
   "cell_type": "markdown",
   "id": "cb80c442",
   "metadata": {},
   "source": [
    "特殊字元 `'^'` 符合字串的開頭，所以我們可以找到以給定模式開頭的行。"
   ]
  },
  {
   "cell_type": "code",
   "execution_count": null,
   "id": "ced4dbb5",
   "metadata": {},
   "outputs": [],
   "source": [
    "result = find_first('^Dracula')\n",
    "result.string"
   ]
  },
  {
   "cell_type": "markdown",
   "id": "e4ff3e9b",
   "metadata": {},
   "source": [
    "而特殊字元 `'$'` 符合字串的結尾，所以我們可以找到以給定模式結尾的行\n",
    "(忽略結尾的換行符號)。"
   ]
  },
  {
   "cell_type": "code",
   "execution_count": null,
   "id": "926f2b94",
   "metadata": {},
   "outputs": [],
   "source": [
    "result = find_first('Harker$')\n",
    "result.string"
   ]
  },
  {
   "cell_type": "markdown",
   "id": "c46d8d2d",
   "metadata": {},
   "source": [
    "## 字串替換 (String substitution)\n",
    "\n",
    "布蘭·斯托克出生於愛爾蘭，當《德古拉》於 1897 年出版時，他住在英國。\n",
    "所以我們預期他會使用像是 \"centre\" 和 \"colour\" 這樣的英式拼法。\n",
    "要檢查的話，我們可以用下面的模式，它可以符合 \"centre\" 或美式拼法的 \"center\"。"
   ]
  },
  {
   "cell_type": "code",
   "execution_count": null,
   "id": "176c0848",
   "metadata": {},
   "outputs": [],
   "source": [
    "pattern = 'cent(er|re)'"
   ]
  },
  {
   "cell_type": "markdown",
   "id": "7411be58",
   "metadata": {},
   "source": [
    "在這個模式中，括號包住了垂直線所作用的部分。\n",
    "所以這個模式符合以 `'cent'` 開頭，並以 `'er'` 或 `'re'` 結尾的序列。"
   ]
  },
  {
   "cell_type": "code",
   "execution_count": null,
   "id": "57ed87cf",
   "metadata": {},
   "outputs": [],
   "source": [
    "result = find_first(pattern)\n",
    "result.string"
   ]
  },
  {
   "cell_type": "markdown",
   "id": "f391f2d6",
   "metadata": {},
   "source": [
    "如同預期的，他用了英式拼法。\n",
    "\n",
    "我們也可以檢查他是否用了 \"colour\" 的英式拼法。\n",
    "下面的模式用了特殊字元 `'?'`，表示前一個字元是可選的。"
   ]
  },
  {
   "cell_type": "code",
   "execution_count": null,
   "id": "51ee718d",
   "metadata": {},
   "outputs": [],
   "source": [
    "pattern = 'colou?r'"
   ]
  },
  {
   "cell_type": "markdown",
   "id": "042bb988",
   "metadata": {},
   "source": [
    "這個模式符合有 `'u'` 的 \"colour\" 或沒有 `'u'` 的 \"color\"。"
   ]
  },
  {
   "cell_type": "code",
   "execution_count": null,
   "id": "9d5c6742",
   "metadata": {},
   "outputs": [],
   "source": [
    "result = find_first(pattern)\n",
    "line = result.string\n",
    "line"
   ]
  },
  {
   "cell_type": "markdown",
   "id": "ad4999f0",
   "metadata": {},
   "source": [
    "再次，如同預期的，他用了英式拼法。\n",
    "\n",
    "現在假設我們想製作一個使用美式拼法的書本版本。\n",
    "我們可以用 `re` 模組中的 `sub` 函數，它會執行 **字串替換 (string substitution)**。"
   ]
  },
  {
   "cell_type": "code",
   "execution_count": null,
   "id": "b77eab6b",
   "metadata": {
    "lines_to_next_cell": 1
   },
   "outputs": [],
   "source": [
    "re.sub(pattern, 'color', line)"
   ]
  },
  {
   "cell_type": "markdown",
   "id": "d3980bbb",
   "metadata": {},
   "source": [
    "第一個參數是我們要尋找和取代的模式，第二個是我們要取代成的內容，\n",
    "第三個是我們要搜尋的字串。\n",
    "在結果中，你可以看到 \"colour\" 已經被取代成 \"color\" 了。"
   ]
  },
  {
   "cell_type": "markdown",
   "id": "9cf6b622",
   "metadata": {},
   "source": [
    "我用這個函數來搜尋作為範例的句子"
   ]
  },
  {
   "cell_type": "code",
   "execution_count": null,
   "id": "1a6a4623",
   "metadata": {
    "lines_to_next_cell": 1
   },
   "outputs": [],
   "source": [
    "def all_matches(pattern):\n",
    "    for line in open('pg345_cleaned.txt'):\n",
    "        result = re.search(pattern, line)\n",
    "        if result:\n",
    "            print(line.strip())"
   ]
  },
  {
   "cell_type": "markdown",
   "id": "02d86504",
   "metadata": {},
   "source": [
    "這是我用的模式 (它用了一些我們還沒看過的功能)"
   ]
  },
  {
   "cell_type": "code",
   "execution_count": null,
   "id": "5dc98d60",
   "metadata": {},
   "outputs": [],
   "source": [
    "names = r'(?<!\\.\\s)[A-Z][a-zA-Z]+' # r'' 表示 raw string, 處理反斜線時很有用"
   ]
  },
  {
   "cell_type": "code",
   "execution_count": null,
   "id": "b60444e7",
   "metadata": {},
   "outputs": [],
   "source": [
    "all_matches(names)"
   ]
  },
  {
   "cell_type": "markdown",
   "id": "855467a8",
   "metadata": {},
   "source": [
    "## 除錯 (Debugging)\n",
    "\n",
    "當你在讀寫檔案時，除錯可能會有點棘手。\n",
    "如果你在 Jupyter Notebook 中工作，你可以用 **shell 指令** 來幫忙。\n",
    "例如，要顯示檔案的前幾行，你可以用 `!head` 指令，像這樣："
   ]
  },
  {
   "cell_type": "code",
   "execution_count": null,
   "id": "595a561f",
   "metadata": {},
   "outputs": [],
   "source": [
    "!head pg345_cleaned.txt"
   ]
  },
  {
   "cell_type": "markdown",
   "id": "3145bd22",
   "metadata": {},
   "source": [
    "開頭的驚嘆號 `!` 表示這是一個 shell 指令，它不是 Python 的一部分。\n",
    "要顯示最後幾行，你可以用 `!tail`。"
   ]
  },
  {
   "cell_type": "code",
   "execution_count": null,
   "id": "8cd38b45",
   "metadata": {},
   "outputs": [],
   "source": [
    "!tail pg345_cleaned.txt"
   ]
  },
  {
   "cell_type": "markdown",
   "id": "a670d780",
   "metadata": {},
   "source": [
    "當你處理大型檔案時，除錯可能會很困難，因為輸出的內容可能太多，沒辦法用手動檢查。\n",
    "一個好的除錯策略是先從檔案的一部分開始，讓程式可以運作，然後再用整個檔案來執行它。\n",
    "\n",
    "要製作一個包含較大檔案一部分的小檔案，我們可以再次使用 `!head` 搭配重新導向運算子 `>`，\n",
    "它表示結果應該被寫入檔案，而不是顯示出來。"
   ]
  },
  {
   "cell_type": "code",
   "execution_count": null,
   "id": "66666ad8",
   "metadata": {},
   "outputs": [],
   "source": [
    "!head pg345_cleaned.txt > pg345_cleaned_10_lines.txt"
   ]
  },
  {
   "cell_type": "markdown",
   "id": "4902b0c8",
   "metadata": {},
   "source": [
    "預設情況下，`!head` 會讀取前 10 行，但它可以接受一個選擇性的參數來指定要讀取的行數。"
   ]
  },
  {
   "cell_type": "code",
   "execution_count": null,
   "id": "c8f8eaac",
   "metadata": {},
   "outputs": [],
   "source": [
    "!head -100 pg345_cleaned.txt > pg345_cleaned_100_lines.txt"
   ]
  },
  {
   "cell_type": "markdown",
   "id": "8f35f387",
   "metadata": {},
   "source": [
    "這個 shell 指令會從 `pg345_cleaned.txt` 讀取前 100 行，然後把它們寫到一個叫做 `pg345_cleaned_100_lines.txt` 的檔案裡。\n",
    "\n",
    "注意：shell 指令 `!head` 和 `!tail` 並不是在所有作業系統上都可用。\n",
    "如果它們在你的系統上不能用，我們可以用 Python 寫出類似的函數。\n",
    "請看本章末尾的第一個練習題的建議。"
   ]
  },
  {
   "cell_type": "markdown",
   "id": "a01ce663",
   "metadata": {},
   "source": [
    "## 詞彙表 (Glossary)\n",
    "\n",
    "**序列 (sequence):**\n",
    " 一個有序的值的集合，其中每個值都由一個整數索引來識別。\n",
    "\n",
    "**字元 (character):**\n",
    " 字串的一個元素，包含字母、數字和符號。\n",
    "\n",
    "**索引 (index):**\n",
    " 一個整數值，用來選取序列中的一個項目，例如字串中的一個字元。在 Python 中，索引從 `0` 開始。\n",
    "\n",
    "**切片 (slice):**\n",
    " 字串的一部分，由一個索引範圍指定。\n",
    "\n",
    "**空字串 (empty string):**\n",
    " 一個不包含任何字元且長度為 `0` 的字串。\n",
    "\n",
    "**物件 (object):**\n",
    " 變數可以參照的東西。一個物件有它的型別和值。\n",
    "\n",
    "**不可變的 (immutable):**\n",
    " 如果一個物件的元素不能被改變，那麼這個物件就是不可變的。\n",
    "\n",
    "**調用 (invocation):**\n",
    " 一個呼叫方法的表達式——或表達式的一部分。\n",
    "\n",
    "**正規表示式 (regular expression):**\n",
    " 一個定義搜尋模式的字元序列。\n",
    "\n",
    "**模式 (pattern):**\n",
    " 一個規則，指定一個字串必須符合哪些要求才能構成匹配。\n",
    "\n",
    "**字串替換 (string substitution):**\n",
    " 將一個字串或字串的一部分取代成另一個字串。\n",
    "\n",
    "**shell 指令 (shell command):**\n",
    " shell 語言中的一個陳述式，shell 語言是一種用來與作業系統互動的語言。"
   ]
  },
  {
   "cell_type": "markdown",
   "id": "fc1af17b",
   "metadata": {},
   "source": [
    "## 練習 (Exercises)"
   ]
  },
  {
   "cell_type": "markdown",
   "id": "f9b3758a",
   "metadata": {},
   "source": [
    "這個儲存格告訴 Jupyter 在發生執行期錯誤時提供詳細的除錯資訊。\n",
    "在開始做練習之前先執行它。"
   ]
  },
  {
   "cell_type": "code",
   "execution_count": null,
   "id": "7ae5115c",
   "metadata": {},
   "outputs": [],
   "source": [
    "%xmode Verbose"
   ]
  },
  {
   "cell_type": "code",
   "execution_count": null,
   "id": "a76bb852",
   "metadata": {},
   "outputs": [],
   "source": [
    "download('https://raw.githubusercontent.com/AllenDowney/ThinkPython/v3/words.txt');"
   ]
  },
  {
   "cell_type": "markdown",
   "id": "32574173",
   "metadata": {},
   "source": [
    "### 問問虛擬助理 (Ask a virtual assistant)\n",
    "\n",
    "在這一章，我們只稍微碰觸了正規表示式能做到的事情的表面。\n",
    "為了了解它有哪些可能性，可以問問虛擬助理：「Python 正規表示式中最常用的特殊字元有哪些？」\n",
    "\n",
    "你也可以要求它提供符合特定種類字串的模式。\n",
    "例如，試著問問：\n",
    "\n",
    "* 寫一個 Python 正規表示式，可以符合帶有連字號的 10 位數電話號碼。\n",
    "\n",
    "* 寫一個 Python 正規表示式，可以符合包含門牌號碼和街道名稱，後面接著 `ST` 或 `AVE` 的街道地址。\n",
    "\n",
    "* 寫一個 Python 正規表示式，可以符合包含任何常見稱謂 (如 `Mr` 或 `Mrs`)，後面跟著任意數量以大寫字母開頭的名字 (名字之間可能有用連字號連接) 的全名。\n",
    "\n",
    "如果你想看更複雜的東西，試著要求一個可以符合任何合法 URL 的正規表示式。\n",
    "\n",
    "正規表示式常常在引號前面加上字母 `r`，表示它是一個 \"raw string\" (原始字串)。\n",
    "想知道更多資訊，可以問問虛擬助理：「Python 中的 raw string 是什麼意思？」"
   ]
  },
  {
   "cell_type": "code",
   "execution_count": null,
   "id": "0d8b0bbf",
   "metadata": {
    "lines_to_next_cell": 1
   },
   "outputs": [],
   "source": [
    "from doctest import run_docstring_examples"
   ]
  },
  {
   "cell_type": "code",
   "execution_count": null,
   "id": "1ad2b55e",
   "metadata": {
    "lines_to_next_cell": 1
   },
   "outputs": [],
   "source": [
    "def run_doctests(func):\n",
    "    run_docstring_examples(func, globals(), name=func.__name__)"
   ]
  },
  {
   "cell_type": "markdown",
   "id": "d5b8ca2e",
   "metadata": {},
   "source": [
    "### 練習\n",
    "\n",
    "試著寫一個函數，做跟 shell 指令 `!head` 一樣的事情。\n",
    "它應該接收三個參數：要讀取的檔案名稱、要讀取的行數，以及要把這些行寫入的檔案名稱。\n",
    "如果第三個參數是 `None`，它應該顯示這些行，而不是把它們寫到檔案裡。\n",
    "\n",
    "可以考慮請虛擬助理幫忙，但如果你這麼做，告訴它不要使用 `with` 陳述式或 `try` 陳述式。"
   ]
  },
  {
   "cell_type": "markdown",
   "id": "b1cfdec7",
   "metadata": {},
   "source": [
    "解答"
   ]
  },
  {
   "cell_type": "code",
   "execution_count": null,
   "id": "54ebbd04",
   "metadata": {
    "lines_to_next_cell": 1
   },
   "outputs": [],
   "source": [
    "def head(input_file, num_lines=10, output_file=None):\n",
    "    reader = open(input_file, 'r') # 'r' 表示讀取模式\n",
    "\n",
    "    if output_file is not None:\n",
    "        writer = open(output_file, 'w') # 'w' 表示寫入模式\n",
    "\n",
    "    for i in range(num_lines):\n",
    "        line = reader.readline() # 一次讀一行\n",
    "\n",
    "        if not line: # 如果讀到檔案結尾，readline() 會回傳空字串\n",
    "            break\n",
    "\n",
    "        if output_file is not None:\n",
    "            writer.write(line)\n",
    "        else:\n",
    "            print(line, end='') # end='' 避免 print 自動加上多餘的換行\n",
    "\n",
    "    reader.close()\n",
    "    if output_file is not None:\n",
    "        writer.close()"
   ]
  },
  {
   "cell_type": "markdown",
   "id": "6a91885d",
   "metadata": {},
   "source": [
    "你可以用下面的例子來測試你的函數。"
   ]
  },
  {
   "cell_type": "code",
   "execution_count": null,
   "id": "943ca877",
   "metadata": {},
   "outputs": [],
   "source": [
    "head('pg345_cleaned.txt', 10)"
   ]
  },
  {
   "cell_type": "code",
   "execution_count": null,
   "id": "007bcf4d",
   "metadata": {},
   "outputs": [],
   "source": [
    "head('pg345_cleaned.txt', 100, 'pg345_cleaned_100_lines.txt')"
   ]
  },
  {
   "cell_type": "code",
   "execution_count": null,
   "id": "54e1db35",
   "metadata": {
    "lines_to_next_cell": 1
   },
   "outputs": [],
   "source": [
    "!tail pg345_cleaned_100_lines.txt"
   ]
  },
  {
   "cell_type": "markdown",
   "id": "f014a341",
   "metadata": {},
   "source": [
    "### 練習\n",
    "\n",
    "\"Wordle\" 是一個線上文字遊戲，目標是在六次或更少次的嘗試內猜出一個五個字母的單字。\n",
    "每次嘗試都必須是一個被認可的單字，不包含專有名詞。\n",
    "每次嘗試後，你會得到關於你猜的字母中有哪些出現在目標單字中，以及哪些位置正確的資訊。\n",
    "\n",
    "例如，假設目標單字是 `MOWER`，而你猜了 `TRIED`。\n",
    "你會知道 `E` 在單字中且位置正確，`R` 在單字中但位置不正確，\n",
    "而 `T`、`I` 和 `D` 則不在單字中。\n",
    "\n",
    "換個例子，假設你已經猜了 `SPADE` 和 `CLERK` 這兩個字，\n",
    "並且你得知 `E` 在目標單字中，但不在這兩個字裡 `E` 出現的位置，\n",
    "而且其他字母 (S, P, A, D, C, L, R, K) 都不在目標單字中。\n",
    "在單字列表裡，有多少個字可能是目標單字呢？\n",
    "寫一個叫做 `check_word` 的函數，它接收一個五個字母的單字，\n",
    "並根據這些猜測來檢查它是否可能是目標單字。"
   ]
  },
  {
   "cell_type": "markdown",
   "id": "7d666b69",
   "metadata": {},
   "source": [
    "解答"
   ]
  },
  {
   "cell_type": "code",
   "execution_count": null,
   "id": "165a045a",
   "metadata": {
    "lines_to_next_cell": 1
   },
   "outputs": [],
   "source": [
    "def check_word(word):\n",
    "    # 條件1: 目標字必須包含 'e'\n",
    "    if 'e' not in word:\n",
    "        return False\n",
    "\n",
    "    # 條件2: 'e' 不在 SPADE 的第3個位置 (索引2) 也不在 CLERK 的第5個位置 (索引4)\n",
    "    # 也就是說，目標字的 'e' 不能在索引 2 或索引 4 的位置\n",
    "    if word[2] == 'e' or word[4] == 'e':\n",
    "        return False\n",
    "\n",
    "    # 條件3: 目標字不能包含 SPADCLRK 這些字母中的任何一個\n",
    "    if uses_any(word, 'spadclrk'): # uses_any 會檢查 word 是否用了 letters 中的任一字母\n",
    "        return False\n",
    "\n",
    "    # 如果以上檢查都通過了，這個字就可能是目標字\n",
    "    return True"
   ]
  },
  {
   "cell_type": "markdown",
   "id": "b4484c26",
   "metadata": {},
   "source": [
    "你可以用上一章的任何函數，像是 `uses_any`。"
   ]
  },
  {
   "cell_type": "code",
   "execution_count": null,
   "id": "6483ffab",
   "metadata": {
    "lines_to_next_cell": 1
   },
   "outputs": [],
   "source": [
    "def uses_any(word, letters):\n",
    "    for letter in word.lower(): # 轉成小寫來比較，避免大小寫問題\n",
    "        if letter in letters.lower():\n",
    "            return True\n",
    "    return False"
   ]
  },
  {
   "cell_type": "markdown",
   "id": "6cdc280e",
   "metadata": {},
   "source": [
    "你可以用下面的迴圈來測試你的函數。"
   ]
  },
  {
   "cell_type": "code",
   "execution_count": null,
   "id": "d296c1c5",
   "metadata": {},
   "outputs": [],
   "source": [
    "print(\"--- Wordle 第一次篩選 ---\")\n",
    "count = 0\n",
    "for line in open('words.txt'):\n",
    "    word = line.strip()\n",
    "    if len(word) == 5 and check_word(word):\n",
    "        print(word)\n",
    "        count += 1\n",
    "print(f\"符合條件的字總共有: {count} 個\")"
   ]
  },
  {
   "cell_type": "markdown",
   "id": "032e2485",
   "metadata": {},
   "source": [
    "### 練習\n",
    "\n",
    "延續上一個練習，假設你猜了 `TOTEM` 這個字，\n",
    "然後得知 `E` *仍然* 不在正確的位置，但是 `M` 的位置是正確的。\n",
    "那還剩下多少個可能的字呢？"
   ]
  },
  {
   "cell_type": "markdown",
   "id": "f0a3b666",
   "metadata": {},
   "source": [
    "解答"
   ]
  },
  {
   "cell_type": "code",
   "execution_count": null,
   "id": "92cde128",
   "metadata": {
    "lines_to_next_cell": 1
   },
   "outputs": [],
   "source": [
    "def check_word2(word):\n",
    "    # 首先，它必須通過第一次的檢查\n",
    "    if not check_word(word):\n",
    "        return False\n",
    "\n",
    "    # 條件4: 'E' 不在 TOTEM 的第4個位置 (索引3)\n",
    "    if word[3] == 'e':\n",
    "        return False\n",
    "\n",
    "    # 條件5: 'M' 在 TOTEM 的第5個位置 (索引4) 是正確的\n",
    "    #         而且，TOTEM 的 T 和 O 都不在目標字中 (這點已由 check_word 裡面的 spadclrk 處理了一部分，\n",
    "    #         但 't' 和 'o' 需要額外加入排除列表，如果它們在第一次猜測後被確認為不存在。\n",
    "    #         不過題目只說 M 位置正確，E 位置不對。我們先假設 T 和 O 的資訊還未知或已被之前的排除涵蓋)\n",
    "    #         這裡，最重要的是 M 必須在最後一個位置\n",
    "    if word[4] != 'm':\n",
    "        return False\n",
    "    \n",
    "    # 條件6: TOTEM 的 T 和 O 不在目標字中\n",
    "    # 根據第一次猜測 SPADE 和 CLERK，我們知道 S,P,A,D,C,L,R,K 不在。\n",
    "    # 猜了 TOTEM 後，如果 T 和 O 也不在，那就要排除它們。\n",
    "    # 題目暗示 \"E 仍然不在正確位置，但 M 是\"，通常 Wordle 會標示出不在的字母。\n",
    "    # 所以我們假設 T 和 O 也不在。\n",
    "    if uses_any(word, 'to'): # 排除 't' 和 'o'\n",
    "        return False\n",
    "\n",
    "    return True"
   ]
  },
  {
   "cell_type": "code",
   "execution_count": null,
   "id": "4f643a0a",
   "metadata": {
    "lines_to_next_cell": 2
   },
   "outputs": [],
   "source": [
    "# 解答 (執行迴圈)\n",
    "print(\"--- Wordle 第二次篩選 ---\")\n",
    "count2 = 0\n",
    "for line in open('words.txt'):\n",
    "    word = line.strip()\n",
    "    if len(word) == 5 and check_word2(word):\n",
    "        print(word)\n",
    "        count2 +=1\n",
    "print(f\"符合條件的字總共有: {count2} 個\")"
   ]
  },
  {
   "cell_type": "markdown",
   "id": "734557f9",
   "metadata": {},
   "source": [
    "### 練習\n",
    "\n",
    "《基督山恩仇記》(The Count of Monte Cristo) 是大仲馬 (Alexandre Dumas) 的一部經典小說。\n",
    "然而，在這本書的英文譯本序言中，作家安伯托·艾可 (Umberto Eco) 坦承他覺得這本書是\n",
    "\"有史以來寫得最差的小說之一\"。\n",
    "\n",
    "他特別提到，書中 \"恬不知恥地重複使用相同的形容詞\"，\n",
    "並特別指出書中角色 \"要嘛渾身發抖 (shudder)，要嘛臉色蒼白 (turn pale)\" 的次數。\n",
    "\n",
    "為了看看他的抱怨是否有道理，讓我們來計算一下包含任何形式 `pale` (蒼白) 這個字的行數，\n",
    "包括 `pale`、`pales`、`paled` 和 `paleness`，以及相關的字 `pallor` (蒼白；灰土色)。\n",
    "請使用一個單一的正規表示式來符合這些字中的任何一個。\n",
    "作為額外的挑戰，確保它不會符合其他字，像是 `impale` (刺穿) —— 你可能需要請虛擬助理幫忙。"
   ]
  },
  {
   "cell_type": "markdown",
   "id": "25ec4565",
   "metadata": {},
   "source": [
    "下面的儲存格會從古騰堡計畫下載這本書 (<https://www.gutenberg.org/ebooks/1184>)。"
   ]
  },
  {
   "cell_type": "code",
   "execution_count": null,
   "id": "44925b9d",
   "metadata": {},
   "outputs": [],
   "source": [
    "import os"
   ]
  },
  {
   "cell_type": "code",
   "execution_count": null,
   "id": "5e121bf4",
   "metadata": {
    "lines_to_next_cell": 1
   },
   "outputs": [],
   "source": [
    "if not os.path.exists('pg1184.txt'):\n",
    "    !wget https://www.gutenberg.org/cache/epub/1184/pg1184.txt"
   ]
  },
  {
   "cell_type": "markdown",
   "id": "6be853dc",
   "metadata": {},
   "source": [
    "下面的儲存格執行一個函數，它會讀取古騰堡計畫的檔案，\n",
    "並寫入一個只包含書本本文、不含額外書籍資訊的檔案。"
   ]
  },
  {
   "cell_type": "code",
   "execution_count": null,
   "id": "0ec0500e",
   "metadata": {
    "lines_to_next_cell": 1
   },
   "outputs": [],
   "source": [
    "def clean_file(input_file, output_file):\n",
    "    reader = open(input_file, encoding='utf-8') # 加上 encoding='utf-8' 以免讀取問題\n",
    "    writer = open(output_file, 'w', encoding='utf-8') # 寫入也用 utf-8\n",
    "\n",
    "    # 跳過開頭的版權宣告等等\n",
    "    for line in reader:\n",
    "        if is_special_line(line): # is_special_line 之前定義過了\n",
    "            break\n",
    "\n",
    "    # 寫入書本內容，直到遇到結尾的版權宣告\n",
    "    for line in reader:\n",
    "        if is_special_line(line):\n",
    "            break\n",
    "        writer.write(line)\n",
    "\n",
    "    reader.close()\n",
    "    writer.close()"
   ]
  },
  {
   "cell_type": "code",
   "execution_count": null,
   "id": "c7065284",
   "metadata": {
    "lines_to_next_cell": 1
   },
   "outputs": [],
   "source": [
    "if not os.path.exists('pg1184_cleaned.txt'): # 避免重複清理\n",
    "    clean_file('pg1184.txt', 'pg1184_cleaned.txt')"
   ]
  },
  {
   "cell_type": "markdown",
   "id": "e84a805f",
   "metadata": {},
   "source": [
    "解答 (count_matches 函數已在前面定義過，這裡直接使用)"
   ]
  },
  {
   "cell_type": "markdown",
   "id": "f13153d8",
   "metadata": {},
   "source": [
    "解答"
   ]
  },
  {
   "cell_type": "code",
   "execution_count": null,
   "id": "80d99807",
   "metadata": {
    "lines_to_next_cell": 1
   },
   "outputs": [],
   "source": [
    "# 這個解法只用了本章看過的正規表示式功能，\n",
    "# 但它也會符合包含這些字串的字，例如 \"impale\"。\n",
    "# 我們把它定義為 count_matches_original 以便比較\n",
    "def count_matches_original(pattern, filename='pg1184_cleaned.txt'):\n",
    "    count = 0\n",
    "    # 確保檔案存在\n",
    "    if not os.path.exists(filename):\n",
    "        print(f\"錯誤: 檔案 {filename} 不存在。\")\n",
    "        return 0\n",
    "        \n",
    "    for line in open(filename, encoding='utf-8'):\n",
    "        result = re.search(pattern, line, re.IGNORECASE) # 加上 re.IGNORECASE 忽略大小寫\n",
    "        if result != None:\n",
    "            count += 1\n",
    "    return count"
   ]
  },
  {
   "cell_type": "code",
   "execution_count": null,
   "id": "01c21230",
   "metadata": {},
   "outputs": [],
   "source": [
    "pattern_original = '(pale|pales|paled|paleness|pallor)'\n",
    "matches_original = count_matches_original(pattern_original)\n",
    "print(f\"使用 '{pattern_original}' (會匹配到 impale 等字) 找到 {matches_original} 行。\")"
   ]
  },
  {
   "cell_type": "markdown",
   "id": "5ae410eb",
   "metadata": {},
   "source": [
    "解答"
   ]
  },
  {
   "cell_type": "code",
   "execution_count": null,
   "id": "84fbed08",
   "metadata": {
    "lines_to_next_cell": 1
   },
   "outputs": [],
   "source": [
    "# 這個解法使用了特殊序列 `\\b` 來符合單字邊界 (word boundary)，\n",
    "# 它可以是任何種類的空白字元或標點符號。\n",
    "# 引號前的 `r` 表示這個模式是一個原始字串 (raw string)，\n",
    "# 因為模式中包含了特殊序列，所以需要用原始字串。\n",
    "# 我們把它定義為 count_matches_boundary 以便比較\n",
    "def count_matches_boundary(pattern, filename='pg1184_cleaned.txt'):\n",
    "    count = 0\n",
    "    # 確保檔案存在\n",
    "    if not os.path.exists(filename):\n",
    "        print(f\"錯誤: 檔案 {filename} 不存在。\")\n",
    "        return 0\n",
    "\n",
    "    for line in open(filename, encoding='utf-8'):\n",
    "        result = re.search(pattern, line, re.IGNORECASE) # 加上 re.IGNORECASE 忽略大小寫\n",
    "        if result != None:\n",
    "            count += 1\n",
    "    return count"
   ]
  },
  {
   "cell_type": "code",
   "execution_count": null,
   "id": "8d36371a",
   "metadata": {},
   "outputs": [],
   "source": [
    "pattern_boundary = r'\\b(pale|pales|paled|paleness|pallor)\\b'\n",
    "matches_boundary = count_matches_boundary(pattern_boundary)\n",
    "print(f\"使用 '{pattern_boundary}' (使用單字邊界) 找到 {matches_boundary} 行。\")"
   ]
  },
  {
   "cell_type": "markdown",
   "id": "6e9cd9b8",
   "metadata": {},
   "source": [
    "根據這個精確的計數，這些字出現在書中的 `223` 行 (使用 `\\b` 的結果，如果你的 words.txt 和 pg1184.txt 與作者相同)，\n",
    "所以艾可先生的抱怨可能有點道理。\n",
    "(注意：實際數字可能會因檔案版本、清理方式或正規表示式細微差異而略有不同)"
   ]
  },
  {
   "cell_type": "markdown",
   "id": "267c859b",
   "metadata": {},
   "source": [
    "[Think Python: 3rd Edition](https://allendowney.github.io/ThinkPython/index.html)\n",
    "\n",
    "Copyright 2024 [Allen B. Downey](https://allendowney.com)\n",
    "\n",
    "程式碼授權: [MIT License](https://mit-license.org/)\n",
    "\n",
    "文字內容授權: [Creative Commons Attribution-NonCommercial-ShareAlike 4.0 International](https://creativecommons.org/licenses/by-nc-sa/4.0/)"
   ]
  }
 ],
 "metadata": {
  "jupytext": {
   "cell_metadata_filter": "-all",
   "main_language": "python",
   "notebook_metadata_filter": "-all"
  }
 },
 "nbformat": 4,
 "nbformat_minor": 5
}
