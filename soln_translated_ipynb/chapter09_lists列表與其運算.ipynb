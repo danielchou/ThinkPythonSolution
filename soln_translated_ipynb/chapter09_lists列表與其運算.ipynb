{
 "cells": [
  {
   "cell_type": "markdown",
   "id": "0a3e9576",
   "metadata": {},
   "source": [
    "從 chap09.ipynb 轉換而來\n",
    "使用 ipynb_to_py.py 腳本自動轉換"
   ]
  },
  {
   "cell_type": "markdown",
   "id": "65e7ee63",
   "metadata": {},
   "source": [
    "你可以從以下網站訂購《Think Python 3e》的紙本版和電子書：\n",
    "[Bookshop.org](https://bookshop.org/a/98697/9781098155438) 和\n",
    "[Amazon](https://www.amazon.com/_/dp/1098155432?smid=ATVPDKIKX0DER&_encoding=UTF8&tag=oreilly20-20&_encoding=UTF8&tag=greenteapre01-20&linkCode=ur2&linkId=e2a529f94920295d27ec8a06e757dc7c&camp=1789&creative=9325)."
   ]
  },
  {
   "cell_type": "code",
   "execution_count": 1,
   "id": "228b0a53",
   "metadata": {
    "lines_to_next_cell": 1
   },
   "outputs": [],
   "source": [
    "from os.path import basename, exists"
   ]
  },
  {
   "cell_type": "code",
   "execution_count": 2,
   "id": "e6f8fb83",
   "metadata": {
    "lines_to_next_cell": 1
   },
   "outputs": [],
   "source": [
    "def download(url):\n",
    "    filename = basename(url)\n",
    "    if not exists(filename):\n",
    "        from urllib.request import urlretrieve\n",
    "\n",
    "        local, _ = urlretrieve(url, filename)\n",
    "        print(\"已下載 \" + str(local)) # 把下載訊息也中文化\n",
    "    return filename"
   ]
  },
  {
   "cell_type": "code",
   "execution_count": 3,
   "id": "8bb91583",
   "metadata": {},
   "outputs": [],
   "source": [
    "download('https://github.com/AllenDowney/ThinkPython/raw/v3/thinkpython.py');\n",
    "download('https://github.com/AllenDowney/ThinkPython/raw/v3/diagram.py');"
   ]
  },
  {
   "cell_type": "code",
   "execution_count": 4,
   "id": "a21ec12e",
   "metadata": {},
   "outputs": [],
   "source": [
    "import thinkpython"
   ]
  },
  {
   "cell_type": "markdown",
   "id": "8e37a10c",
   "metadata": {},
   "source": [
    "# 列表 (Lists)\n",
    "\n",
    "這一章要介紹 Python 最有用的內建型別之一：列表 (list)。\n",
    "你也會學到更多關於物件 (object) 的知識，以及當多個變數指向同一個物件時會發生什麼事。\n",
    "\n",
    "在本章末尾的練習中，我們會建立一個單字列表，並用它來搜尋像回文 (palindrome) 和相同字母異序詞 (anagram) 這類的特殊單字。"
   ]
  },
  {
   "cell_type": "markdown",
   "id": "6605f20e",
   "metadata": {},
   "source": [
    "## 列表是一個序列 (A list is a sequence)\n",
    "\n",
    "跟字串一樣，**列表 (list)** 也是一個值的序列。在字串裡，值是字元；在列表裡，值可以是任何型別。\n",
    "列表中的值被稱為 **元素 (elements)**。\n",
    "\n",
    "建立新列表有好幾種方法；最簡單的就是把元素用方括號 (`[` 和 `]`) 包起來。\n",
    "例如，這裡是一個包含兩個整數的列表。"
   ]
  },
  {
   "cell_type": "code",
   "execution_count": 5,
   "id": "9b460524",
   "metadata": {},
   "outputs": [],
   "source": [
    "numbers = [42, 123]"
   ]
  },
  {
   "cell_type": "markdown",
   "id": "a85d86a4",
   "metadata": {},
   "source": [
    "這裡則是一個包含三個字串的列表。"
   ]
  },
  {
   "cell_type": "code",
   "execution_count": 6,
   "id": "f102afe3",
   "metadata": {},
   "outputs": [],
   "source": [
    "cheeses = ['Cheddar', 'Edam', 'Gouda'] # 起司種類，例如：切達起司、艾登起司、高達起司"
   ]
  },
  {
   "cell_type": "markdown",
   "id": "985d9507",
   "metadata": {},
   "source": [
    "列表的元素不必是相同的型別。\n",
    "下面這個列表包含了一個字串、一個浮點數、一個整數，甚至還有另一個列表。"
   ]
  },
  {
   "cell_type": "code",
   "execution_count": 7,
   "id": "b7c5e137",
   "metadata": {},
   "outputs": [],
   "source": [
    "t = ['spam', 2.0, 5, [10, 20]] # 'spam' 是一個常用的範例字串"
   ]
  },
  {
   "cell_type": "markdown",
   "id": "3ecec138",
   "metadata": {},
   "source": [
    "一個列表裡面又包含另一個列表，這種情況叫做 **巢狀的 (nested)**。\n",
    "\n",
    "一個不包含任何元素的列表叫做空列表；你可以用空的方括號 `[]` 來建立它。"
   ]
  },
  {
   "cell_type": "code",
   "execution_count": 8,
   "id": "6edb5d0e",
   "metadata": {},
   "outputs": [],
   "source": [
    "empty = []"
   ]
  },
  {
   "cell_type": "markdown",
   "id": "142d8dbd",
   "metadata": {},
   "source": [
    "`len` 函數會回傳列表的長度。"
   ]
  },
  {
   "cell_type": "code",
   "execution_count": 9,
   "id": "4782704a",
   "metadata": {},
   "outputs": [
    {
     "data": {
      "text/plain": [
       "3"
      ]
     },
     "execution_count": 9,
     "metadata": {},
     "output_type": "execute_result"
    }
   ],
   "source": [
    "len(cheeses)"
   ]
  },
  {
   "cell_type": "markdown",
   "id": "c64e2712",
   "metadata": {},
   "source": [
    "空列表的長度是 `0`。"
   ]
  },
  {
   "cell_type": "code",
   "execution_count": 10,
   "id": "8cc15ee7",
   "metadata": {},
   "outputs": [
    {
     "data": {
      "text/plain": [
       "0"
      ]
     },
     "execution_count": 10,
     "metadata": {},
     "output_type": "execute_result"
    }
   ],
   "source": [
    "len(empty)"
   ]
  },
  {
   "cell_type": "markdown",
   "id": "5f12d432",
   "metadata": {},
   "source": [
    "下圖顯示了 `cheeses`、`numbers` 和 `empty` 的狀態圖。\n",
    "(狀態圖是一種視覺化表示變數如何指向記憶體中物件的方式)"
   ]
  },
  {
   "cell_type": "code",
   "execution_count": 11,
   "id": "ad61dd61",
   "metadata": {},
   "outputs": [],
   "source": [
    "from diagram import make_list, Binding, Value"
   ]
  },
  {
   "cell_type": "code",
   "execution_count": 12,
   "id": "caf1d281",
   "metadata": {},
   "outputs": [],
   "source": [
    "list1 = make_list(cheeses, dy=-0.3, offsetx=0.17)\n",
    "binding1 = Binding(Value('cheeses'), list1)"
   ]
  },
  {
   "cell_type": "code",
   "execution_count": 13,
   "id": "139e7eec",
   "metadata": {},
   "outputs": [],
   "source": [
    "list2 = make_list(numbers, dy=-0.3, offsetx=0.17)\n",
    "binding2 = Binding(Value('numbers'), list2)"
   ]
  },
  {
   "cell_type": "code",
   "execution_count": 14,
   "id": "02ea433c",
   "metadata": {},
   "outputs": [],
   "source": [
    "list3 = make_list(empty, dy=-0.3, offsetx=0.1)\n",
    "binding3 = Binding(Value('empty'), list3)"
   ]
  },
  {
   "cell_type": "code",
   "execution_count": 15,
   "id": "c6e77526",
   "metadata": {},
   "outputs": [],
   "source": [
    "from diagram import diagram, adjust, Bbox"
   ]
  },
  {
   "cell_type": "code",
   "execution_count": 16,
   "id": "17704b63",
   "metadata": {},
   "outputs": [
    {
     "data": {
      "image/png": "[encoded data removed]",
      "text/plain": [
       "<Figure size 366x158 with 1 Axes>"
      ]
     },
     "metadata": {},
     "output_type": "display_data"
    }
   ],
   "source": [
    "width, height, x, y = [3.66, 1.58, 0.45, 1.2]\n",
    "ax = diagram(width, height)\n",
    "bbox1 = binding1.draw(ax, x, y)\n",
    "bbox2 = binding2.draw(ax, x+2.25, y)\n",
    "bbox3 = binding3.draw(ax, x+2.25, y-1.0)"
   ]
  },
  {
   "cell_type": "code",
   "execution_count": 17,
   "id": "79375aeb",
   "metadata": {},
   "outputs": [],
   "source": [
    "bbox = Bbox.union([bbox1, bbox2, bbox3])\n",
    "#adjust(x, y, bbox)"
   ]
  },
  {
   "cell_type": "markdown",
   "id": "d4e5f537",
   "metadata": {},
   "source": [
    "列表用方框表示，方框外面寫著 \"list\"，裡面則是列表編號的元素。"
   ]
  },
  {
   "cell_type": "markdown",
   "id": "2207c37c",
   "metadata": {},
   "source": [
    "## 列表是可變的 (Lists are mutable)\n",
    "\n",
    "要讀取列表中的一個元素，我們可以用方括號運算子 `[]`。\n",
    "第一個元素的索引是 `0`。"
   ]
  },
  {
   "cell_type": "code",
   "execution_count": 18,
   "id": "a687f677",
   "metadata": {},
   "outputs": [
    {
     "data": {
      "text/plain": [
       "'Cheddar'"
      ]
     },
     "execution_count": 18,
     "metadata": {},
     "output_type": "execute_result"
    }
   ],
   "source": [
    "cheeses[0]"
   ]
  },
  {
   "cell_type": "markdown",
   "id": "26d22f02",
   "metadata": {},
   "source": [
    "跟字串不一樣，列表是可變的 (mutable)。當方括號運算子出現在賦值運算子 `=` 的左邊時，\n",
    "它會指出要被賦值的列表元素是哪一個。"
   ]
  },
  {
   "cell_type": "code",
   "execution_count": 19,
   "id": "97225f0f",
   "metadata": {},
   "outputs": [
    {
     "data": {
      "text/plain": [
       "[42, 17]"
      ]
     },
     "execution_count": 19,
     "metadata": {},
     "output_type": "execute_result"
    }
   ],
   "source": [
    "numbers[1] = 17\n",
    "numbers"
   ]
  },
  {
   "cell_type": "markdown",
   "id": "df535803",
   "metadata": {},
   "source": [
    "`numbers` 列表的第二個元素，原本是 `123`，現在變成 `17` 了。\n",
    "\n",
    "列表索引的運作方式跟字串索引一樣：\n",
    "\n",
    "-   任何整數表達式都可以當作索引。\n",
    "\n",
    "-   如果你嘗試讀取或寫入一個不存在的元素，你會得到一個 `IndexError` (索引錯誤)。\n",
    "\n",
    "-   如果索引是負數，它會從列表的尾巴倒著數回來。\n",
    "\n",
    "`in` 運算子可以用在列表上 —— 它會檢查給定的元素是否出現在列表中的任何地方。"
   ]
  },
  {
   "cell_type": "code",
   "execution_count": 20,
   "id": "3d20bde7",
   "metadata": {},
   "outputs": [
    {
     "data": {
      "text/plain": [
       "True"
      ]
     },
     "execution_count": 20,
     "metadata": {},
     "output_type": "execute_result"
    }
   ],
   "source": [
    "'Edam' in cheeses"
   ]
  },
  {
   "cell_type": "code",
   "execution_count": 21,
   "id": "c7183330",
   "metadata": {},
   "outputs": [
    {
     "data": {
      "text/plain": [
       "False"
      ]
     },
     "execution_count": 21,
     "metadata": {},
     "output_type": "execute_result"
    }
   ],
   "source": [
    "'Wensleydale' in cheeses # 文斯利代爾起司，另一種起司"
   ]
  },
  {
   "cell_type": "markdown",
   "id": "6652da84",
   "metadata": {},
   "source": [
    "雖然一個列表可以包含另一個列表，但那個巢狀的列表仍然只算是一個元素\n",
    "—— 所以在下面的列表裡，只有四個元素。"
   ]
  },
  {
   "cell_type": "code",
   "execution_count": 22,
   "id": "1e22a148",
   "metadata": {},
   "outputs": [
    {
     "data": {
      "text/plain": [
       "4"
      ]
     },
     "execution_count": 22,
     "metadata": {},
     "output_type": "execute_result"
    }
   ],
   "source": [
    "t = ['spam', 2.0, 5, [10, 20]]\n",
    "len(t)"
   ]
  },
  {
   "cell_type": "markdown",
   "id": "1d9d8305",
   "metadata": {},
   "source": [
    "而且 `10` 不被認為是 `t` 的元素，因為它是巢狀列表的元素，而不是 `t` 本身的元素。"
   ]
  },
  {
   "cell_type": "code",
   "execution_count": 23,
   "id": "d56f6d2a",
   "metadata": {},
   "outputs": [
    {
     "data": {
      "text/plain": [
       "False"
      ]
     },
     "execution_count": 23,
     "metadata": {},
     "output_type": "execute_result"
    }
   ],
   "source": [
    "10 in t"
   ]
  },
  {
   "cell_type": "markdown",
   "id": "17af1fbb",
   "metadata": {},
   "source": [
    "## 列表切片 (List slices)\n",
    "\n",
    "切片運算子 `[:]` 用在列表上的方式跟用在字串上一樣。\n",
    "下面的例子從一個包含四個字母的列表中選取了第二個和第三個元素。"
   ]
  },
  {
   "cell_type": "code",
   "execution_count": 24,
   "id": "5c243aba",
   "metadata": {},
   "outputs": [
    {
     "data": {
      "text/plain": [
       "['b', 'c']"
      ]
     },
     "execution_count": 24,
     "metadata": {},
     "output_type": "execute_result"
    }
   ],
   "source": [
    "letters = ['a', 'b', 'c', 'd']\n",
    "letters[1:3] # 選取索引 1 到索引 3 (不包含 3) 的元素"
   ]
  },
  {
   "cell_type": "markdown",
   "id": "03100343",
   "metadata": {},
   "source": [
    "如果你省略第一個索引，切片會從列表的開頭開始。"
   ]
  },
  {
   "cell_type": "code",
   "execution_count": 25,
   "id": "1b10a5af",
   "metadata": {},
   "outputs": [
    {
     "data": {
      "text/plain": [
       "['a', 'b']"
      ]
     },
     "execution_count": 25,
     "metadata": {},
     "output_type": "execute_result"
    }
   ],
   "source": [
    "letters[:2] # 選取從開頭到索引 2 (不包含 2) 的元素"
   ]
  },
  {
   "cell_type": "markdown",
   "id": "6c4050c6",
   "metadata": {},
   "source": [
    "如果你省略第二個索引，切片會一直到列表的結尾。"
   ]
  },
  {
   "cell_type": "code",
   "execution_count": 26,
   "id": "9929e531",
   "metadata": {},
   "outputs": [
    {
     "data": {
      "text/plain": [
       "['c', 'd']"
      ]
     },
     "execution_count": 26,
     "metadata": {},
     "output_type": "execute_result"
    }
   ],
   "source": [
    "letters[2:] # 選取從索引 2 開始到結尾的所有元素"
   ]
  },
  {
   "cell_type": "markdown",
   "id": "8031993e",
   "metadata": {},
   "source": [
    "所以如果你兩個索引都省略，切片就會是整個列表的一個副本 (copy)。"
   ]
  },
  {
   "cell_type": "code",
   "execution_count": 27,
   "id": "a28f21ca",
   "metadata": {},
   "outputs": [
    {
     "data": {
      "text/plain": [
       "['a', 'b', 'c', 'd']"
      ]
     },
     "execution_count": 27,
     "metadata": {},
     "output_type": "execute_result"
    }
   ],
   "source": [
    "letters[:]"
   ]
  },
  {
   "cell_type": "markdown",
   "id": "f407deaa",
   "metadata": {},
   "source": [
    "複製列表的另一種方法是使用 `list()` 函數。"
   ]
  },
  {
   "cell_type": "code",
   "execution_count": 28,
   "id": "fe0abde0",
   "metadata": {},
   "outputs": [
    {
     "data": {
      "text/plain": [
       "['a', 'b', 'c', 'd']"
      ]
     },
     "execution_count": 28,
     "metadata": {},
     "output_type": "execute_result"
    }
   ],
   "source": [
    "list(letters)"
   ]
  },
  {
   "cell_type": "markdown",
   "id": "e6f8e7b2",
   "metadata": {},
   "source": [
    "因為 `list` 是一個內建函數的名稱，所以你應該避免用它來當作變數名稱。\n",
    "(不然你會把內建函數蓋掉，導致之後不能用！)"
   ]
  },
  {
   "cell_type": "markdown",
   "id": "e5aac876",
   "metadata": {},
   "source": [
    "## 列表運算 (List operations)\n",
    "\n",
    "`+` 運算子可以串接 (concatenate) 列表。"
   ]
  },
  {
   "cell_type": "code",
   "execution_count": 29,
   "id": "acb9bc3d",
   "metadata": {},
   "outputs": [
    {
     "data": {
      "text/plain": [
       "[1, 2, 3, 4]"
      ]
     },
     "execution_count": 29,
     "metadata": {},
     "output_type": "execute_result"
    }
   ],
   "source": [
    "t1 = [1, 2]\n",
    "t2 = [3, 4]\n",
    "t1 + t2"
   ]
  },
  {
   "cell_type": "markdown",
   "id": "27a072cf",
   "metadata": {},
   "source": [
    "`*` 運算子可以將一個列表重複指定的次數。"
   ]
  },
  {
   "cell_type": "code",
   "execution_count": 30,
   "id": "3a2be04c",
   "metadata": {},
   "outputs": [
    {
     "data": {
      "text/plain": [
       "['spam', 'spam', 'spam', 'spam']"
      ]
     },
     "execution_count": 30,
     "metadata": {},
     "output_type": "execute_result"
    }
   ],
   "source": [
    "['spam'] * 4"
   ]
  },
  {
   "cell_type": "markdown",
   "id": "6b423ee1",
   "metadata": {},
   "source": [
    "其他數學運算子不能用在列表上，但是內建函數 `sum` 可以把列表中的元素加總起來。\n",
    "(前提是列表中的元素都是數字才能相加)"
   ]
  },
  {
   "cell_type": "code",
   "execution_count": 31,
   "id": "3f685195",
   "metadata": {},
   "outputs": [
    {
     "data": {
      "text/plain": [
       "3"
      ]
     },
     "execution_count": 31,
     "metadata": {},
     "output_type": "execute_result"
    }
   ],
   "source": [
    "sum(t1)"
   ]
  },
  {
   "cell_type": "markdown",
   "id": "3eeff40b",
   "metadata": {},
   "source": [
    "而 `min` 和 `max` 函數可以找出最小和最大的元素。\n",
    "(前提是列表中的元素可以互相比較大小)"
   ]
  },
  {
   "cell_type": "code",
   "execution_count": 32,
   "id": "c9aaf881",
   "metadata": {},
   "outputs": [
    {
     "data": {
      "text/plain": [
       "1"
      ]
     },
     "execution_count": 32,
     "metadata": {},
     "output_type": "execute_result"
    }
   ],
   "source": [
    "min(t1)"
   ]
  },
  {
   "cell_type": "code",
   "execution_count": 33,
   "id": "71f53589",
   "metadata": {},
   "outputs": [
    {
     "data": {
      "text/plain": [
       "4"
      ]
     },
     "execution_count": 33,
     "metadata": {},
     "output_type": "execute_result"
    }
   ],
   "source": [
    "max(t2)"
   ]
  },
  {
   "cell_type": "markdown",
   "id": "15732b48",
   "metadata": {},
   "source": [
    "## 列表方法 (List methods)\n",
    "\n",
    "Python 提供了許多操作列表的方法 (method)。例如，`append` 方法\n",
    "會在列表的尾巴加入一個新的元素："
   ]
  },
  {
   "cell_type": "code",
   "execution_count": 34,
   "id": "24f6d2a3",
   "metadata": {},
   "outputs": [
    {
     "data": {
      "text/plain": [
       "['a', 'b', 'c', 'd', 'e']"
      ]
     },
     "execution_count": 34,
     "metadata": {},
     "output_type": "execute_result"
    }
   ],
   "source": [
    "letters.append('e')\n",
    "letters"
   ]
  },
  {
   "cell_type": "markdown",
   "id": "c6e2fd10",
   "metadata": {},
   "source": [
    "`extend` 方法會接收一個列表作為參數，並將該列表中的所有元素都附加到目前列表的尾巴："
   ]
  },
  {
   "cell_type": "code",
   "execution_count": 42,
   "id": "6fe0400c",
   "metadata": {},
   "outputs": [
    {
     "data": {
      "text/plain": [
       "['a', 'b', 'c', 'd', 'e', 'f', 'g', 'f', 'g', 'f', 'g']"
      ]
     },
     "execution_count": 42,
     "metadata": {},
     "output_type": "execute_result"
    }
   ],
   "source": [
    "letters.extend(['f', 'g'])\n",
    "letters"
   ]
  },
  {
   "cell_type": "markdown",
   "id": "4b0d18c5",
   "metadata": {},
   "source": [
    "有兩個方法可以從列表中移除元素。\n",
    "如果你知道你想移除的元素的索引，你可以用 `pop` 方法。"
   ]
  },
  {
   "cell_type": "code",
   "execution_count": 43,
   "id": "997ca691",
   "metadata": {},
   "outputs": [
    {
     "data": {
      "text/plain": [
       "'b'"
      ]
     },
     "execution_count": 43,
     "metadata": {},
     "output_type": "execute_result"
    }
   ],
   "source": [
    "t = ['a', 'b', 'c']\n",
    "t.pop(1) # 移除索引為 1 的元素 (也就是 'b')"
   ]
  },
  {
   "cell_type": "markdown",
   "id": "38d5cab2",
   "metadata": {},
   "source": [
    "`pop` 方法的回傳值是被移除的那個元素。\n",
    "我們可以確認列表已經被修改了。"
   ]
  },
  {
   "cell_type": "code",
   "execution_count": 44,
   "id": "e0ddd1e8",
   "metadata": {},
   "outputs": [
    {
     "data": {
      "text/plain": [
       "['a', 'c']"
      ]
     },
     "execution_count": 44,
     "metadata": {},
     "output_type": "execute_result"
    }
   ],
   "source": [
    "t"
   ]
  },
  {
   "cell_type": "markdown",
   "id": "5375b82a",
   "metadata": {},
   "source": [
    "如果你知道你想移除的元素的值 (但不知道它的索引)，你可以用 `remove` 方法："
   ]
  },
  {
   "cell_type": "code",
   "execution_count": 45,
   "id": "bd83ac7d",
   "metadata": {},
   "outputs": [],
   "source": [
    "t = ['a', 'b', 'c']\n",
    "t.remove('b') # 移除第一個值為 'b' 的元素"
   ]
  },
  {
   "cell_type": "markdown",
   "id": "edcd0e19",
   "metadata": {},
   "source": [
    "`remove` 方法的回傳值是 `None` (表示沒有回傳任何有意義的值)。\n",
    "但我們可以確認列表已經被修改了。"
   ]
  },
  {
   "cell_type": "code",
   "execution_count": 46,
   "id": "d82c5e3f",
   "metadata": {},
   "outputs": [
    {
     "data": {
      "text/plain": [
       "['a', 'c']"
      ]
     },
     "execution_count": 46,
     "metadata": {},
     "output_type": "execute_result"
    }
   ],
   "source": [
    "t"
   ]
  },
  {
   "cell_type": "markdown",
   "id": "2b6a722d",
   "metadata": {},
   "source": [
    "如果你要求移除的元素不在列表中，那就會發生 `ValueError` (值錯誤)。"
   ]
  },
  {
   "cell_type": "code",
   "execution_count": 48,
   "id": "82867400",
   "metadata": {},
   "outputs": [
    {
     "name": "stderr",
     "output_type": "stream",
     "text": [
      "UsageError: %%expect is a cell magic, but the cell body is empty.\n"
     ]
    }
   ],
   "source": [
    "%%expect ValueError"
   ]
  },
  {
   "cell_type": "code",
   "execution_count": 49,
   "id": "cf55c521",
   "metadata": {},
   "outputs": [
    {
     "ename": "ValueError",
     "evalue": "list.remove(x): x not in list",
     "output_type": "error",
     "traceback": [
      "\u001b[31mValueError\u001b[39m\u001b[31m:\u001b[39m list.remove(x): x not in list\n"
     ]
    }
   ],
   "source": [
    "t.remove('d')"
   ]
  },
  {
   "cell_type": "markdown",
   "id": "cf65c683",
   "metadata": {},
   "source": [
    "## 列表和字串 (Lists and strings)\n",
    "\n",
    "字串是一個字元的序列，而列表是一個值的序列，\n",
    "但是一個由字元組成的列表跟一個字串是不一樣的。\n",
    "要把一個字串轉換成一個字元列表，你可以用 `list()` 函數。"
   ]
  },
  {
   "cell_type": "code",
   "execution_count": 50,
   "id": "a6082aac",
   "metadata": {},
   "outputs": [
    {
     "data": {
      "text/plain": [
       "['s', 'p', 'a', 'm']"
      ]
     },
     "execution_count": 50,
     "metadata": {},
     "output_type": "execute_result"
    }
   ],
   "source": [
    "s = 'spam'\n",
    "t = list(s)\n",
    "t"
   ]
  },
  {
   "cell_type": "markdown",
   "id": "0da59315",
   "metadata": {},
   "source": [
    "`list()` 函數會把字串拆解成個別的字母。\n",
    "如果你想把字串拆解成單字，你可以用 `split` 方法："
   ]
  },
  {
   "cell_type": "code",
   "execution_count": 51,
   "id": "4115070c",
   "metadata": {},
   "outputs": [
    {
     "data": {
      "text/plain": [
       "['pining', 'for', 'the', 'fjords']"
      ]
     },
     "execution_count": 51,
     "metadata": {},
     "output_type": "execute_result"
    }
   ],
   "source": [
    "s = 'pining for the fjords' # \"渴望峽灣\"，這是 Monty Python 的一個梗\n",
    "t = s.split() # 預設用空白字元來切割\n",
    "t"
   ]
  },
  {
   "cell_type": "markdown",
   "id": "e234d3c8",
   "metadata": {},
   "source": [
    "`split` 方法可以接受一個選擇性的參數，叫做 **分隔符 (delimiter)**，用來指定要用哪些字元當作單字的邊界。\n",
    "下面的例子用連字號 `-` 當作分隔符。"
   ]
  },
  {
   "cell_type": "code",
   "execution_count": 52,
   "id": "7b61a198",
   "metadata": {},
   "outputs": [
    {
     "data": {
      "text/plain": [
       "['ex', 'parrot']"
      ]
     },
     "execution_count": 52,
     "metadata": {},
     "output_type": "execute_result"
    }
   ],
   "source": [
    "s = 'ex-parrot' # \"死掉的鸚鵡\"，也是 Monty Python 的梗\n",
    "t = s.split('-')\n",
    "t"
   ]
  },
  {
   "cell_type": "markdown",
   "id": "c067bd05",
   "metadata": {},
   "source": [
    "如果你有一個字串列表，你可以用 `join` 方法把它們串接成一個單一的字串。\n",
    "`join` 是一個字串的方法，所以你必須在分隔符 (字串) 上呼叫它，並把列表當作參數傳進去。"
   ]
  },
  {
   "cell_type": "code",
   "execution_count": 53,
   "id": "c725989f",
   "metadata": {},
   "outputs": [
    {
     "data": {
      "text/plain": [
       "'pining for the fjords'"
      ]
     },
     "execution_count": 53,
     "metadata": {},
     "output_type": "execute_result"
    }
   ],
   "source": [
    "delimiter = ' ' # 用空白當作分隔符\n",
    "t = ['pining', 'for', 'the', 'fjords']\n",
    "s = delimiter.join(t)\n",
    "s"
   ]
  },
  {
   "cell_type": "markdown",
   "id": "7f4a70ab",
   "metadata": {},
   "source": [
    "在這個例子中，分隔符是一個空白字元，所以 `join` 會在單字之間加上空白。\n",
    "如果你想在串接字串時不要有任何空白，你可以用空字串 `''` 當作分隔符。"
   ]
  },
  {
   "cell_type": "markdown",
   "id": "1ba24902",
   "metadata": {},
   "source": [
    "## 遍歷列表 (Looping through a list)\n",
    "\n",
    "你可以用 `for` 陳述式來遍歷 (loop through) 列表中的元素。"
   ]
  },
  {
   "cell_type": "code",
   "execution_count": 54,
   "id": "2dbb1bcd",
   "metadata": {},
   "outputs": [
    {
     "name": "stdout",
     "output_type": "stream",
     "text": [
      "Cheddar\n",
      "Edam\n",
      "Gouda\n"
     ]
    }
   ],
   "source": [
    "for cheese in cheeses:\n",
    "    print(cheese)"
   ]
  },
  {
   "cell_type": "markdown",
   "id": "1921337c",
   "metadata": {},
   "source": [
    "例如，在用 `split` 建立了一個單字列表之後，我們可以用 `for` 來遍歷它們。"
   ]
  },
  {
   "cell_type": "code",
   "execution_count": 55,
   "id": "49418317",
   "metadata": {},
   "outputs": [],
   "source": [
    "s = 'pining for the fjords'"
   ]
  },
  {
   "cell_type": "code",
   "execution_count": 56,
   "id": "a555ed85",
   "metadata": {},
   "outputs": [
    {
     "name": "stdout",
     "output_type": "stream",
     "text": [
      "pining\n",
      "for\n",
      "the\n",
      "fjords\n"
     ]
    }
   ],
   "source": [
    "for word in s.split():\n",
    "    print(word)"
   ]
  },
  {
   "cell_type": "markdown",
   "id": "2216293d",
   "metadata": {},
   "source": [
    "對一個空列表使用 `for` 迴圈，迴圈裡面的縮排陳述式永遠不會執行。"
   ]
  },
  {
   "cell_type": "code",
   "execution_count": 57,
   "id": "49e7069e",
   "metadata": {},
   "outputs": [],
   "source": [
    "for x in []:\n",
    "    print('這行永遠不會被印出來。') # 口語化"
   ]
  },
  {
   "cell_type": "markdown",
   "id": "bb3f1682",
   "metadata": {},
   "source": [
    "## 排序列表 (Sorting lists)\n",
    "\n",
    "Python 提供了一個叫做 `sorted` 的內建函數，它可以排序列表中的元素。"
   ]
  },
  {
   "cell_type": "code",
   "execution_count": 58,
   "id": "0df2e17c",
   "metadata": {},
   "outputs": [
    {
     "data": {
      "text/plain": [
       "['a', 'b', 'c']"
      ]
     },
     "execution_count": 58,
     "metadata": {},
     "output_type": "execute_result"
    }
   ],
   "source": [
    "scramble = ['c', 'a', 'b'] # 混亂的列表\n",
    "sorted_list = sorted(scramble) # sorted() 會回傳一個新的已排序列表\n",
    "sorted_list # 把結果印出來看看"
   ]
  },
  {
   "cell_type": "markdown",
   "id": "02aed375",
   "metadata": {},
   "source": [
    "原本的列表 `scramble` 保持不變。"
   ]
  },
  {
   "cell_type": "code",
   "execution_count": 59,
   "id": "b55fa4fb",
   "metadata": {},
   "outputs": [
    {
     "data": {
      "text/plain": [
       "['c', 'a', 'b']"
      ]
     },
     "execution_count": 59,
     "metadata": {},
     "output_type": "execute_result"
    }
   ],
   "source": [
    "scramble"
   ]
  },
  {
   "cell_type": "markdown",
   "id": "588b5aae",
   "metadata": {},
   "source": [
    "`sorted` 函數可以用在任何種類的序列上，不只是列表。所以我們可以像這樣排序一個字串中的字母。"
   ]
  },
  {
   "cell_type": "code",
   "execution_count": null,
   "id": "c45de77d",
   "metadata": {},
   "outputs": [],
   "source": [
    "sorted('letters')"
   ]
  },
  {
   "cell_type": "markdown",
   "id": "f3849ca4",
   "metadata": {},
   "source": [
    "結果會是一個字母列表。\n",
    "要把這個列表轉換回字串，我們可以用 `join` 方法。"
   ]
  },
  {
   "cell_type": "code",
   "execution_count": 60,
   "id": "a6074649",
   "metadata": {},
   "outputs": [
    {
     "data": {
      "text/plain": [
       "'eelrstt'"
      ]
     },
     "execution_count": 60,
     "metadata": {},
     "output_type": "execute_result"
    }
   ],
   "source": [
    "''.join(sorted('letters'))"
   ]
  },
  {
   "cell_type": "markdown",
   "id": "884d754e",
   "metadata": {},
   "source": [
    "用空字串當作分隔符，列表中的元素就會被串接起來，中間沒有任何東西。"
   ]
  },
  {
   "cell_type": "markdown",
   "id": "26465a3e",
   "metadata": {},
   "source": [
    "## 物件和值 (Objects and values)\n",
    "\n",
    "如果我們執行這些賦值陳述式："
   ]
  },
  {
   "cell_type": "code",
   "execution_count": null,
   "id": "95cccac6",
   "metadata": {},
   "outputs": [],
   "source": [
    "a = 'banana'\n",
    "b = 'banana'"
   ]
  },
  {
   "cell_type": "markdown",
   "id": "b6e4e122",
   "metadata": {},
   "source": [
    "我們知道 `a` 和 `b` 都指向一個字串，但我們不知道它們是不是指向 *同一個* 字串物件。\n",
    "有兩種可能的狀態，如下圖所示。\n",
    "(左邊：a 和 b 指向不同的物件，但物件內容相同。右邊：a 和 b 指向同一個物件。)"
   ]
  },
  {
   "cell_type": "code",
   "execution_count": null,
   "id": "1f23b90d",
   "metadata": {},
   "outputs": [],
   "source": [
    "from diagram import Frame, Stack"
   ]
  },
  {
   "cell_type": "code",
   "execution_count": null,
   "id": "54ca8948",
   "metadata": {},
   "outputs": [],
   "source": [
    "s_val = 'banana' # 用 s_val 代表字串值，避免與 s 變數混淆\n",
    "bindings_diff_obj = [Binding(Value(name), Value(repr(s_val))) for name in 'ab']\n",
    "frame1_diff_obj = Frame(bindings_diff_obj, dy=-0.25)"
   ]
  },
  {
   "cell_type": "code",
   "execution_count": null,
   "id": "95566954",
   "metadata": {},
   "outputs": [],
   "source": [
    "binding1_same_obj = Binding(Value('a'), Value(repr(s_val)), dy=-0.11)\n",
    "binding2_same_obj = Binding(Value('b'), draw_value=False, dy=0.11) # b 指向 a 的值\n",
    "frame2_same_obj = Frame([binding1_same_obj, binding2_same_obj], dy=-0.25)"
   ]
  },
  {
   "cell_type": "code",
   "execution_count": null,
   "id": "288dd835",
   "metadata": {},
   "outputs": [],
   "source": [
    "stack = Stack([frame1_diff_obj, frame2_same_obj], dx=1.7, dy=0)"
   ]
  },
  {
   "cell_type": "code",
   "execution_count": null,
   "id": "27ca10e8",
   "metadata": {},
   "outputs": [],
   "source": [
    "width, height, x, y = [2.85, 0.76, 0.17, 0.51]\n",
    "ax = diagram(width, height)\n",
    "bbox = stack.draw(ax, x, y)\n",
    "# adjust(x, y, bbox)"
   ]
  },
  {
   "cell_type": "markdown",
   "id": "effc170a",
   "metadata": {},
   "source": [
    "在左邊的圖中，`a` 和 `b` 指向兩個不同的物件，但這兩個物件有相同的值。\n",
    "在右邊的圖中，它們指向同一個物件。\n",
    "要檢查兩個變數是否指向同一個物件，你可以用 `is` 運算子。"
   ]
  },
  {
   "cell_type": "code",
   "execution_count": null,
   "id": "d19d217d",
   "metadata": {},
   "outputs": [],
   "source": [
    "a = 'banana'\n",
    "b = 'banana'\n",
    "a is b"
   ]
  },
  {
   "cell_type": "markdown",
   "id": "975dcf95",
   "metadata": {},
   "source": [
    "在這個例子中，Python (通常為了效率) 只建立了一個字串物件，`a` 和 `b` 都指向它。\n",
    "(對於小的整數和短的字串，Python 常常會這樣做，稱為 \"interning\")\n",
    "但是當你建立兩個列表時，你會得到兩個不同的物件。"
   ]
  },
  {
   "cell_type": "code",
   "execution_count": null,
   "id": "6738559a",
   "metadata": {},
   "outputs": [],
   "source": [
    "a = [1, 2, 3]\n",
    "b = [1, 2, 3]\n",
    "a is b # a 和 b 是不同的列表物件，即使內容一樣"
   ]
  },
  {
   "cell_type": "markdown",
   "id": "07911a6b",
   "metadata": {},
   "source": [
    "所以狀態圖看起來像這樣：(a 和 b 分別指向兩個外觀一樣但實際上是不同的列表物件)"
   ]
  },
  {
   "cell_type": "code",
   "execution_count": null,
   "id": "bbb2251f",
   "metadata": {},
   "outputs": [],
   "source": [
    "t_list = [1, 2, 3] # 用 t_list 代表列表內容\n",
    "binding1_list = Binding(Value('a'), Value(repr(t_list)))\n",
    "binding2_list = Binding(Value('b'), Value(repr(t_list)))\n",
    "frame_lists = Frame([binding1_list, binding2_list], dy=-0.25)"
   ]
  },
  {
   "cell_type": "code",
   "execution_count": null,
   "id": "0304cb22",
   "metadata": {},
   "outputs": [],
   "source": [
    "width, height, x, y = [1.16, 0.76, 0.21, 0.51]\n",
    "ax = diagram(width, height)\n",
    "bbox = frame_lists.draw(ax, x, y)\n",
    "# adjust(x, y, bbox)"
   ]
  },
  {
   "cell_type": "markdown",
   "id": "0ba85846",
   "metadata": {},
   "source": [
    "在這種情況下，我們會說這兩個列表是 **等值的 (equivalent)**，因為它們有相同的元素，\n",
    "但不是 **同一的 (identical)**，因為它們不是同一個物件。\n",
    "如果兩個物件是同一的，它們也一定是等值的；但如果它們是等值的，它們不一定是同一的。\n",
    "(想像一下，兩張長得一模一樣的鈔票是等值的，但它們是兩張不同的鈔票，不是同一張。)"
   ]
  },
  {
   "cell_type": "markdown",
   "id": "39962c45",
   "metadata": {},
   "source": [
    "## 別名 (Aliasing)\n",
    "\n",
    "如果 `a` 指向一個物件，然後你執行 `b = a`，那麼 `a` 和 `b` 兩個變數都會指向同一個物件。"
   ]
  },
  {
   "cell_type": "code",
   "execution_count": null,
   "id": "90cddf16",
   "metadata": {},
   "outputs": [],
   "source": [
    "a = [1, 2, 3]\n",
    "b = a # 現在 b 和 a 指向同一個列表物件\n",
    "b is a"
   ]
  },
  {
   "cell_type": "markdown",
   "id": "40b39285",
   "metadata": {},
   "source": [
    "所以狀態圖看起來像這樣：(a 和 b 都指向記憶體中同一個列表物件)"
   ]
  },
  {
   "cell_type": "code",
   "execution_count": null,
   "id": "2943495a",
   "metadata": {},
   "outputs": [],
   "source": [
    "t_list_alias = [1, 2, 3]\n",
    "binding1_alias = Binding(Value('a'), Value(repr(t_list_alias)), dy=-0.11)\n",
    "binding2_alias = Binding(Value('b'), draw_value=False, dy=0.11) # b 指向 a 的物件\n",
    "frame_alias = Frame([binding1_alias, binding2_alias], dy=-0.25)"
   ]
  },
  {
   "cell_type": "code",
   "execution_count": null,
   "id": "5552ce60",
   "metadata": {},
   "outputs": [],
   "source": [
    "width, height, x, y = [1.11, 0.81, 0.17, 0.56]\n",
    "ax = diagram(width, height)\n",
    "bbox = frame_alias.draw(ax, x, y)\n",
    "# adjust(x, y, bbox)"
   ]
  },
  {
   "cell_type": "markdown",
   "id": "0dd4c9f2",
   "metadata": {},
   "source": [
    "一個變數和一個物件之間的關聯叫做 **參照 (reference)**。\n",
    "在這個例子中，有兩個參照指向同一個物件。\n",
    "\n",
    "一個擁有多個參照的物件，就擁有多個名稱，所以我們說這個物件被 **別名化 (aliased)** 了。\n",
    "如果被別名化的物件是可變的 (mutable)，那麼用其中一個名稱所做的改變，會影響到另一個名稱。\n",
    "在這個例子中，如果我們改變 `b` 所參照的物件，我們同時也改變了 `a` 所參照的物件。"
   ]
  },
  {
   "cell_type": "code",
   "execution_count": null,
   "id": "fc9cc809",
   "metadata": {},
   "outputs": [],
   "source": [
    "b[0] = 5 # 修改 b 指向的列表的第一個元素\n",
    "a        # 看看 a 指向的列表是否也變了"
   ]
  },
  {
   "cell_type": "markdown",
   "id": "0306b540",
   "metadata": {},
   "source": [
    "所以我們會說 `a` 也 \"看到\" 了這個改變。\n",
    "雖然這種行為有時候很有用，但也容易出錯。\n",
    "一般來說，當你處理可變物件時，避免別名化會比較安全。\n",
    "\n",
    "對於像字串這種不可變的 (immutable) 物件，別名化就比較不成問題。\n",
    "在這個例子中："
   ]
  },
  {
   "cell_type": "code",
   "execution_count": null,
   "id": "928310a1",
   "metadata": {
    "lines_to_next_cell": 1
   },
   "outputs": [],
   "source": [
    "a = 'banana'\n",
    "b = 'banana'"
   ]
  },
  {
   "cell_type": "markdown",
   "id": "39a5f5c8",
   "metadata": {},
   "source": [
    "`a` 和 `b` 是否指向同一個字串物件，幾乎從來不會造成什麼差別。\n",
    "(因為你無法改變字串物件本身，所以不會有 \"一個變數改了，另一個也跟著變\" 的問題。)"
   ]
  },
  {
   "cell_type": "markdown",
   "id": "1a15ef44",
   "metadata": {},
   "source": [
    "## 列表參數 (List arguments)\n",
    "\n",
    "當你把一個列表傳遞給一個函數時，函數得到的是對該列表的一個參照。\n",
    "如果函數修改了這個列表，呼叫者 (caller) 會看到這個改變。\n",
    "例如，`pop_first` 函數使用列表的 `pop` 方法來移除列表的第一個元素。"
   ]
  },
  {
   "cell_type": "code",
   "execution_count": null,
   "id": "9d17149e",
   "metadata": {
    "lines_to_next_cell": 1
   },
   "outputs": [],
   "source": [
    "def pop_first(lst): # lst 在函數內部是傳進來的列表的一個參照\n",
    "    return lst.pop(0) # pop(0) 會移除並回傳第一個元素，同時修改 lst 本身"
   ]
  },
  {
   "cell_type": "markdown",
   "id": "a1b6d223",
   "metadata": {},
   "source": [
    "我們可以這樣使用它："
   ]
  },
  {
   "cell_type": "code",
   "execution_count": null,
   "id": "7a9a879d",
   "metadata": {},
   "outputs": [],
   "source": [
    "letters = ['a', 'b', 'c']\n",
    "removed_letter = pop_first(letters) # letters 被傳進函數\n",
    "print(f\"被移除的字母是: {removed_letter}\")"
   ]
  },
  {
   "cell_type": "markdown",
   "id": "240c4b48",
   "metadata": {},
   "source": [
    "回傳值是第一個元素，它已經從列表中被移除了 —— 我們可以藉由顯示修改後的列表來確認。"
   ]
  },
  {
   "cell_type": "code",
   "execution_count": null,
   "id": "dab31a7a",
   "metadata": {},
   "outputs": [],
   "source": [
    "letters"
   ]
  },
  {
   "cell_type": "markdown",
   "id": "2e140330",
   "metadata": {},
   "source": [
    "在這個例子中，參數 `lst` (在 `pop_first` 函數裡面) 和變數 `letters` (在函數外面)\n",
    "是同一個物件的別名，所以狀態圖看起來像這樣：\n",
    "( `__main__` 框架中的 `letters` 和 `pop_first` 框架中的 `lst` 都指向同一個列表物件 `['b', 'c']` )"
   ]
  },
  {
   "cell_type": "code",
   "execution_count": null,
   "id": "01c62acd",
   "metadata": {},
   "outputs": [],
   "source": [
    "# 為了繪圖，假設 pop_first 執行後的狀態\n",
    "letters_after_pop = ['b', 'c'] # 假設 'a' 已經被 pop 掉了\n",
    "list_obj_diagram = make_list(letters_after_pop, dy=-0.3, offsetx=0.1) # 用 'bc' 比較簡潔\n",
    "binding1_main = Binding(Value('letters'), draw_value=False) # 在主程式中\n",
    "frame1_main = Frame([binding1_main], name='__main__', loc='left')"
   ]
  },
  {
   "cell_type": "code",
   "execution_count": null,
   "id": "a6c0acce",
   "metadata": {},
   "outputs": [],
   "source": [
    "binding2_func = Binding(Value('lst'), draw_value=False, dx=0.61, dy=0.35) # 在函數中\n",
    "frame2_func = Frame([binding2_func], name='pop_first', loc='left', offsetx=0.08)"
   ]
  },
  {
   "cell_type": "code",
   "execution_count": null,
   "id": "3a6c2bf3",
   "metadata": {},
   "outputs": [],
   "source": [
    "stack_diagram = Stack([frame1_main, frame2_func], dx=-0.3, dy=-0.5)"
   ]
  },
  {
   "cell_type": "code",
   "execution_count": null,
   "id": "7de91473",
   "metadata": {},
   "outputs": [],
   "source": [
    "width, height, x, y = [2.04, 1.24, 1.06, 0.85]\n",
    "ax = diagram(width, height)\n",
    "bbox1_diagram = stack_diagram.draw(ax, x, y)\n",
    "bbox2_diagram = list_obj_diagram.draw(ax, x+0.5, y) # 列表物件本身\n",
    "bbox_diagram = Bbox.union([bbox1_diagram, bbox2_diagram])\n",
    "adjust(x, y, bbox_diagram)"
   ]
  },
  {
   "cell_type": "markdown",
   "id": "4f65bf6b",
   "metadata": {},
   "source": [
    "把一個物件的參照當作參數傳遞給函數，會創造出一種形式的別名。\n",
    "如果函數修改了這個物件，這些改變在函數結束後仍然存在。"
   ]
  },
  {
   "cell_type": "markdown",
   "id": "52ca52b7",
   "metadata": {},
   "source": [
    "## 建立一個單字列表 (Making a word list)\n",
    "\n",
    "在上一章，我們讀取了 `words.txt` 檔案，並搜尋了具有某些特性的單字，例如包含字母 `e`。\n",
    "但是我們重複讀取了整個檔案很多次，這樣效率不高。\n",
    "比較好的做法是只讀取檔案一次，然後把所有單字都放到一個列表裡。\n",
    "下面的迴圈展示了如何做到這點。"
   ]
  },
  {
   "cell_type": "code",
   "execution_count": null,
   "id": "7da5d3d4",
   "metadata": {},
   "outputs": [],
   "source": [
    "download('https://raw.githubusercontent.com/AllenDowney/ThinkPython/v3/words.txt');"
   ]
  },
  {
   "cell_type": "code",
   "execution_count": null,
   "id": "2cac0056",
   "metadata": {},
   "outputs": [],
   "source": [
    "word_list = [] # 初始化一個空列表"
   ]
  },
  {
   "cell_type": "code",
   "execution_count": null,
   "id": "1107bc49",
   "metadata": {},
   "outputs": [],
   "source": [
    "# 確保檔案存在才開啟\n",
    "if exists('words.txt'):\n",
    "    for line in open('words.txt', encoding='utf-8'): # 建議加上 encoding\n",
    "        word = line.strip() # strip() 移除頭尾的空白字元，包括換行符號\n",
    "        word_list.append(word) # 把處理好的單字加到列表中\n",
    "else:\n",
    "    print(\"錯誤: words.txt 檔案未找到。請先下載。\")"
   ]
  },
  {
   "cell_type": "code",
   "execution_count": null,
   "id": "fda52080",
   "metadata": {},
   "outputs": [],
   "source": [
    "print(f\"單字列表中的單字數量: {len(word_list)}\")"
   ]
  },
  {
   "cell_type": "markdown",
   "id": "4f9afda1",
   "metadata": {},
   "source": [
    "在迴圈開始之前，`word_list` 被初始化成一個空列表。\n",
    "迴圈每跑一次，`append` 方法就會在列表的尾巴加上一個單字。\n",
    "當迴圈結束時，列表裡會有超過 113,000 個單字。 (實際數字可能因 words.txt 版本而異)\n",
    "\n",
    "另一種做到同樣事情的方法是使用 `read()` 方法來把整個檔案讀進一個字串裡。"
   ]
  },
  {
   "cell_type": "code",
   "execution_count": null,
   "id": "0dfaac24",
   "metadata": {
    "lines_to_next_cell": 2
   },
   "outputs": [],
   "source": [
    "if exists('words.txt'):\n",
    "    string_all_words = open('words.txt', encoding='utf-8').read()\n",
    "    print(f\"整個檔案讀取的字串長度: {len(string_all_words)}\")\n",
    "else:\n",
    "    string_all_words = \"\" # 如果檔案不存在，給個空字串避免錯誤\n",
    "    print(\"錯誤: words.txt 檔案未找到。\")"
   ]
  },
  {
   "cell_type": "markdown",
   "id": "578f1f75",
   "metadata": {},
   "source": [
    "結果是一個包含超過一百萬個字元的單一字串。\n",
    "我們可以用 `split()` 方法把它分割成一個單字列表。\n",
    "(預設的 split() 會用任何空白字元，包括換行符，來分割，所以剛好適用於 words.txt)"
   ]
  },
  {
   "cell_type": "code",
   "execution_count": null,
   "id": "ea76db51",
   "metadata": {
    "lines_to_next_cell": 2
   },
   "outputs": [],
   "source": [
    "if string_all_words: # 確保 string_all_words 不是空的\n",
    "    word_list_from_string = string_all_words.split()\n",
    "    print(f\"從字串分割出來的單字數量: {len(word_list_from_string)}\")\n",
    "else:\n",
    "    word_list_from_string = []"
   ]
  },
  {
   "cell_type": "code",
   "execution_count": null,
   "id": "1c9a6b13",
   "metadata": {},
   "outputs": [],
   "source": [
    "# 現在，要檢查一個字串是否出現在列表中，我們可以用 `in` 運算子。\n",
    "# 例如，`'demotic'` (通俗的；大眾的) 在列表中。\n",
    "# (這裡假設 word_list 是用 append 建立的那個，或者 word_list_from_string 也可以)\n",
    "current_word_list_to_check = word_list # 決定用哪個 word_list\n",
    "if not current_word_list_to_check and word_list_from_string: # 如果 word_list 是空的，但 string 版本有\n",
    "    current_word_list_to_check = word_list_from_string"
   ]
  },
  {
   "cell_type": "code",
   "execution_count": null,
   "id": "3e5da3f8",
   "metadata": {},
   "outputs": [],
   "source": [
    "if current_word_list_to_check: # 確保列表不是空的\n",
    "    print(f\"'demotic' in word_list: {'demotic' in current_word_list_to_check}\")\n",
    "else:\n",
    "    print(\"單字列表是空的，無法檢查。\")"
   ]
  },
  {
   "cell_type": "markdown",
   "id": "6fca0f34",
   "metadata": {},
   "source": [
    "但是 `'contrafibularities'` (一個虛構的詞) 就不在裡面。"
   ]
  },
  {
   "cell_type": "code",
   "execution_count": null,
   "id": "72ca648d",
   "metadata": {
    "lines_to_next_cell": 2
   },
   "outputs": [],
   "source": [
    "if current_word_list_to_check:\n",
    "    print(f\"'contrafibularities' in word_list: {'contrafibularities' in current_word_list_to_check}\")\n",
    "else:\n",
    "    print(\"單字列表是空的，無法檢查。\")"
   ]
  },
  {
   "cell_type": "markdown",
   "id": "8e1f35dc",
   "metadata": {},
   "source": [
    "而且我必須說，我對此感到 anaspeptic (消化不良的；也是虛構的詞)。\n",
    "(這句話是作者的幽默，這兩個詞來自英國電視劇 Black Adder)"
   ]
  },
  {
   "cell_type": "markdown",
   "id": "21b45747",
   "metadata": {},
   "source": [
    "## 除錯 (Debugging)\n",
    "\n",
    "注意，大多數列表方法會直接修改傳入的列表參數，並且回傳 `None`。\n",
    "這跟字串方法相反，字串方法會回傳一個新的字串，而原始字串保持不變。\n",
    "\n",
    "如果你習慣像這樣寫字串的程式碼："
   ]
  },
  {
   "cell_type": "code",
   "execution_count": null,
   "id": "b9484c13",
   "metadata": {},
   "outputs": [],
   "source": [
    "word = 'plumage!' # 羽毛!\n",
    "word = word.strip('!') # strip('!') 移除頭尾的 '!'，並回傳新字串\n",
    "word"
   ]
  },
  {
   "cell_type": "markdown",
   "id": "3e76f4a6",
   "metadata": {},
   "source": [
    "你可能會很想這樣寫列表的程式碼："
   ]
  },
  {
   "cell_type": "code",
   "execution_count": null,
   "id": "c93048b4",
   "metadata": {},
   "outputs": [],
   "source": [
    "t = [1, 2, 3]\n",
    "t = t.remove(3)           # 錯誤的寫法！"
   ]
  },
  {
   "cell_type": "code",
   "execution_count": null,
   "id": "2aa9d0dd",
   "metadata": {},
   "outputs": [],
   "source": [
    "# `remove` 方法會修改列表 `t` 本身，並且回傳 `None`。所以 `t` 現在的值是 `None`。\n",
    "# 因此，你接下來對 `t` 執行的操作很可能會失敗。\n",
    "print(f\"執行 t = t.remove(3) 之後，t 的值是: {t}\") # 這裡 t 會是 None"
   ]
  },
  {
   "cell_type": "code",
   "execution_count": null,
   "id": "79b88368",
   "metadata": {},
   "outputs": [],
   "source": [
    "%%expect AttributeError"
   ]
  },
  {
   "cell_type": "markdown",
   "id": "f7cdb118",
   "metadata": {},
   "source": [
    "因為 t 現在是 None，None 沒有 remove 方法\n",
    "t.remove(2) # 如果執行這行，會出現 AttributeError"
   ]
  },
  {
   "cell_type": "code",
   "execution_count": null,
   "id": "e5f3daa2",
   "metadata": {
    "lines_to_next_cell": 2
   },
   "outputs": [],
   "source": [
    "# 我們可以手動模擬一下如果 t 不是 None 的情況\n",
    "t_correct = [1, 2, 3]\n",
    "t_correct.remove(3) # 正確用法：直接呼叫方法，不要再賦值給 t_correct\n",
    "print(f\"正確移除後的列表 t_correct: {t_correct}\")\n",
    "# 如果試圖在 None 上呼叫 remove:\n",
    "t_is_none = None\n",
    "try:\n",
    "    t_is_none.remove(2)\n",
    "except AttributeError as e:\n",
    "    print(f\"試圖在 None 上呼叫 remove 時發生錯誤: {e}\")"
   ]
  },
  {
   "cell_type": "markdown",
   "id": "a0e63341",
   "metadata": {},
   "source": [
    "這個錯誤訊息需要解釋一下。\n",
    "一個物件的 **屬性 (attribute)** 是與它相關聯的變數或方法。\n",
    "在這個例子中，`t` 的值是 `None`，它是一個 `NoneType` 物件，\n",
    "而 `NoneType` 物件沒有叫做 `remove` 的屬性 (方法)，所以結果是 `AttributeError` (屬性錯誤)。\n",
    "\n",
    "如果你看到像這樣的錯誤訊息，你應該回頭檢查程式碼，看看是不是不小心錯誤地呼叫了列表方法。"
   ]
  },
  {
   "cell_type": "markdown",
   "id": "7d77f256",
   "metadata": {},
   "source": [
    "## 詞彙表 (Glossary)\n",
    "\n",
    "**列表 (list):**\n",
    " 一個包含一序列值的物件。\n",
    "\n",
    "**元素 (element):**\n",
    " 列表或其他序列中的一個值。\n",
    "\n",
    "**巢狀列表 (nested list):**\n",
    " 一個作為另一個列表元素的列表。\n",
    "\n",
    "**分隔符 (delimiter):**\n",
    " 一個字元或字串，用來指示一個字串應該在哪裡被分割。\n",
    "\n",
    "**等值的 (equivalent):**\n",
    " 具有相同的值。\n",
    "\n",
    "**同一的 (identical):**\n",
    " 是同一個物件 (這也意味著它們是等值的)。\n",
    "\n",
    "**參照 (reference):**\n",
    " 變數與其值之間的關聯。\n",
    "\n",
    "**別名化的 (aliased):**\n",
    " 如果有多個變數參照同一個物件，則該物件是別名化的。\n",
    "\n",
    "**屬性 (attribute):**\n",
    " 與物件相關聯的具名值之一 (可以是變數或方法)。"
   ]
  },
  {
   "cell_type": "markdown",
   "id": "93465f0b",
   "metadata": {},
   "source": [
    "## 練習 (Exercises)\n"
   ]
  },
  {
   "cell_type": "markdown",
   "id": "12cfdaad",
   "metadata": {},
   "source": [
    "這個儲存格告訴 Jupyter 在發生執行期錯誤時提供詳細的除錯資訊。\n",
    "在開始做練習之前先執行它。"
   ]
  },
  {
   "cell_type": "code",
   "execution_count": null,
   "id": "4b5aa494",
   "metadata": {
    "lines_to_next_cell": 1
   },
   "outputs": [],
   "source": [
    "%xmode Verbose"
   ]
  },
  {
   "cell_type": "markdown",
   "id": "846c7d4c",
   "metadata": {},
   "source": [
    "### 問問虛擬助理 (Ask a virtual assistant)\n",
    "\n",
    "在這一章，我用了 \"contrafibularities\" 和 \"anaspeptic\" 這兩個字，但它們其實不是真正的英文單字。\n",
    "它們出自英國電視劇《黑爵士》(Black Adder) 第三季第二集 \"Ink and Incapability\"。\n",
    "\n",
    "然而，當我問 ChatGPT 3.5 (2023 年 8 月 3 日版本) 這些字從哪裡來的時候，它一開始聲稱它們來自《蒙提·派森》(Monty Python)，\n",
    "後來又聲稱它們來自湯姆·斯托帕德 (Tom Stoppard) 的戲劇《羅森格蘭茲和吉爾登斯吞已死》(Rosencrantz and Guildenstern Are Dead)。\n",
    "\n",
    "如果你現在問，你可能會得到不同的結果。\n",
    "但這個例子提醒我們，虛擬助理並不總是準確的，所以你應該檢查結果是否正確。\n",
    "隨著經驗的累積，你會對哪些問題虛擬助理能夠可靠地回答有所感覺。\n",
    "在這個例子中，傳統的網路搜尋可以很快地找出這些字的來源。\n",
    "\n",
    "如果你在本章的任何練習中卡住了，可以考慮請虛擬助理幫忙。\n",
    "如果你得到的結果使用了我們還沒學過的功能，你可以給虛擬助理指定一個「角色」。\n",
    "\n",
    "例如，在你提問之前，試著輸入「角色：Python 基礎程式設計講師」。\n",
    "之後，你得到的回答應該只會使用基礎功能。\n",
    "如果你仍然看到我們還沒學過的功能，你可以接著問：「你能只用 Python 的基礎功能來寫嗎？」"
   ]
  },
  {
   "cell_type": "markdown",
   "id": "87dba2ef",
   "metadata": {},
   "source": [
    "### 練習\n",
    "\n",
    "如果你可以把一個字的字母重新排列來拼出另一個字，那麼這兩個字就是相同字母異序詞 (anagrams)。\n",
    "例如，`tops` 是 `stop` 的相同字母異序詞。\n",
    "\n",
    "檢查兩個字是否為相同字母異序詞的一種方法是，把兩個字中的字母都排序。\n",
    "如果排序後的字母列表相同，那麼這兩個字就是相同字母異序詞。\n",
    "\n",
    "寫一個叫做 `is_anagram` 的函數，它接收兩個字串，如果它們是相同字母異序詞，就回傳 `True`。"
   ]
  },
  {
   "cell_type": "markdown",
   "id": "91b84869",
   "metadata": {},
   "source": [
    "為了讓你開始，這裡有一個包含 doctests (文件測試) 的函數大綱。\n",
    "(doctest 是一種把測試案例寫在函數文件字串裡的方式)"
   ]
  },
  {
   "cell_type": "code",
   "execution_count": null,
   "id": "1584df26",
   "metadata": {
    "lines_to_next_cell": 1
   },
   "outputs": [],
   "source": [
    "def is_anagram_starter(word1, word2): # 改名避免與解答衝突\n",
    "    \"\"\"檢查兩個字是否為相同字母異序詞。\n",
    "\n",
    "    >>> is_anagram_starter('tops', 'stop')\n",
    "    True\n",
    "    >>> is_anagram_starter('skate', 'takes')\n",
    "    True\n",
    "    >>> is_anagram_starter('tops', 'takes')\n",
    "    False\n",
    "    >>> is_anagram_starter('skate', 'stop')\n",
    "    False\n",
    "    \"\"\"\n",
    "    return None # 你的程式碼會取代這裡"
   ]
  },
  {
   "cell_type": "markdown",
   "id": "d088a03e",
   "metadata": {},
   "source": [
    "解答"
   ]
  },
  {
   "cell_type": "code",
   "execution_count": null,
   "id": "4d58d438",
   "metadata": {
    "lines_to_next_cell": 1
   },
   "outputs": [],
   "source": [
    "def is_anagram(word1, word2):\n",
    "    \"\"\"檢查兩個字是否為相同字母異序詞。\n",
    "\n",
    "    >>> is_anagram('tops', 'stop')\n",
    "    True\n",
    "    >>> is_anagram('skate', 'takes')\n",
    "    True\n",
    "    >>> is_anagram('tops', 'takes')\n",
    "    False\n",
    "    >>> is_anagram('skate', 'stop')\n",
    "    False\n",
    "    \"\"\"\n",
    "    # 把字串轉成列表並排序，然後比較兩個排序後的列表是否相等\n",
    "    return sorted(list(word1)) == sorted(list(word2))\n",
    "    # 其實 sorted()可以直接用在字串上，它會回傳一個字元列表\n",
    "    # return sorted(word1) == sorted(word2) # 這樣更簡潔"
   ]
  },
  {
   "cell_type": "markdown",
   "id": "4546e06f",
   "metadata": {},
   "source": [
    "你可以用 `doctest` 來測試你的函數。"
   ]
  },
  {
   "cell_type": "code",
   "execution_count": null,
   "id": "84eccbd7",
   "metadata": {
    "lines_to_next_cell": 1
   },
   "outputs": [],
   "source": [
    "from doctest import run_docstring_examples"
   ]
  },
  {
   "cell_type": "code",
   "execution_count": null,
   "id": "64f27ddb",
   "metadata": {
    "lines_to_next_cell": 1
   },
   "outputs": [],
   "source": [
    "def run_doctests(func):\n",
    "    print(f\"--- 執行 {func.__name__} 的 doctests ---\")\n",
    "    run_docstring_examples(func, globals(), name=func.__name__)\n",
    "    # run_docstring_examples 預設不會印出成功訊息，除非有 verbose=True\n",
    "    # 這裡我們假設如果沒錯誤就是通過了"
   ]
  },
  {
   "cell_type": "code",
   "execution_count": null,
   "id": "8ae52326",
   "metadata": {},
   "outputs": [],
   "source": [
    "run_doctests(is_anagram)"
   ]
  },
  {
   "cell_type": "markdown",
   "id": "c8ddbd84",
   "metadata": {},
   "source": [
    "使用你的函數和 `word_list` (之前建立的單字列表)，找出 `takes` 的所有相同字母異序詞。"
   ]
  },
  {
   "cell_type": "code",
   "execution_count": null,
   "id": "ff9f3239",
   "metadata": {
    "lines_to_next_cell": 2
   },
   "outputs": [],
   "source": [
    "# 解答\n",
    "print(\"\\n--- 找出 'takes' 的相同字母異序詞 ---\")\n",
    "if current_word_list_to_check: # 確保 word_list 已載入\n",
    "    count_anagrams = 0\n",
    "    for word_in_list in current_word_list_to_check:\n",
    "        if is_anagram(word_in_list, 'takes'):\n",
    "            print(word_in_list)\n",
    "            count_anagrams +=1\n",
    "    if count_anagrams == 0:\n",
    "        print(\"沒有找到 'takes' 的相同字母異序詞。\")\n",
    "else:\n",
    "    print(\"單字列表是空的，無法搜尋。\")"
   ]
  },
  {
   "cell_type": "markdown",
   "id": "2342c403",
   "metadata": {},
   "source": [
    "### 練習\n",
    "\n",
    "Python 提供了一個內建函數叫做 `reversed`，它接收一個序列的元素 (像是列表或字串) 作為參數，\n",
    "並回傳一個 `reversed` 物件，其中包含反向排序的元素。"
   ]
  },
  {
   "cell_type": "code",
   "execution_count": null,
   "id": "b7ef6505",
   "metadata": {},
   "outputs": [],
   "source": [
    "reversed_obj = reversed('parrot') # parrot (鸚鵡)\n",
    "print(reversed_obj) # 這會印出一個 reversed 物件的描述"
   ]
  },
  {
   "cell_type": "markdown",
   "id": "1ddccaa1",
   "metadata": {},
   "source": [
    "如果你想要一個包含反向元素的列表，你可以用 `list()` 函數。"
   ]
  },
  {
   "cell_type": "code",
   "execution_count": null,
   "id": "b7fb88ae",
   "metadata": {},
   "outputs": [],
   "source": [
    "list_reversed_parrot = list(reversed('parrot'))\n",
    "print(list_reversed_parrot)"
   ]
  },
  {
   "cell_type": "markdown",
   "id": "4b9e74a0",
   "metadata": {},
   "source": [
    "或者如果你想要它們在一個字串裡，你可以用 `join` 方法。"
   ]
  },
  {
   "cell_type": "code",
   "execution_count": null,
   "id": "2521fa76",
   "metadata": {
    "lines_to_next_cell": 1
   },
   "outputs": [],
   "source": [
    "string_reversed_parrot = ''.join(reversed('parrot'))\n",
    "print(string_reversed_parrot) # 會印出 'torrap'"
   ]
  },
  {
   "cell_type": "markdown",
   "id": "a444cff6",
   "metadata": {},
   "source": [
    "所以我們可以像這樣寫一個反轉單字的函數。"
   ]
  },
  {
   "cell_type": "code",
   "execution_count": null,
   "id": "9b2f7866",
   "metadata": {
    "lines_to_next_cell": 1
   },
   "outputs": [],
   "source": [
    "def reverse_word(word):\n",
    "    return ''.join(reversed(word))"
   ]
  },
  {
   "cell_type": "markdown",
   "id": "38d83ccf",
   "metadata": {},
   "source": [
    "回文 (palindrome) 是一個正讀和反讀都一樣的字，像是 \"noon\" (中午) 和 \"rotator\" (旋轉器)。\n",
    "寫一個叫做 `is_palindrome` 的函數，它接收一個字串參數，\n",
    "如果它是回文就回傳 `True`，否則回傳 `False`。"
   ]
  },
  {
   "cell_type": "markdown",
   "id": "09ba92ea",
   "metadata": {},
   "source": [
    "這裡有一個包含 doctests 的函數大綱，你可以用來檢查你的函數。"
   ]
  },
  {
   "cell_type": "code",
   "execution_count": null,
   "id": "7e007898",
   "metadata": {
    "lines_to_next_cell": 1
   },
   "outputs": [],
   "source": [
    "def is_palindrome_starter(word): # 改名避免與解答衝突\n",
    "    \"\"\"檢查一個字是否為回文。\n",
    "\n",
    "    >>> is_palindrome_starter('bob')\n",
    "    True\n",
    "    >>> is_palindrome_starter('alice')\n",
    "    False\n",
    "    >>> is_palindrome_starter('a')\n",
    "    True\n",
    "    >>> is_palindrome_starter('') # 空字串通常也視為回文\n",
    "    True\n",
    "    \"\"\"\n",
    "    return False # 你的程式碼會取代這裡"
   ]
  },
  {
   "cell_type": "markdown",
   "id": "7e9561c6",
   "metadata": {},
   "source": [
    "解答"
   ]
  },
  {
   "cell_type": "code",
   "execution_count": null,
   "id": "1443727c",
   "metadata": {
    "lines_to_next_cell": 1
   },
   "outputs": [],
   "source": [
    "def is_palindrome(word):\n",
    "    \"\"\"檢查一個字是否為回文。\n",
    "\n",
    "    >>> is_palindrome('bob')\n",
    "    True\n",
    "    >>> is_palindrome('alice')\n",
    "    False\n",
    "    >>> is_palindrome('a')\n",
    "    True\n",
    "    >>> is_palindrome('')\n",
    "    True\n",
    "    \"\"\"\n",
    "    return reverse_word(word) == word\n",
    "    # 也可以直接寫成 return word == word[::-1] (用切片來反轉字串)"
   ]
  },
  {
   "cell_type": "code",
   "execution_count": null,
   "id": "ddb03cc0",
   "metadata": {},
   "outputs": [],
   "source": [
    "run_doctests(is_palindrome)"
   ]
  },
  {
   "cell_type": "markdown",
   "id": "21f4de35",
   "metadata": {},
   "source": [
    "你可以用下面的迴圈來找出 `word_list` 中所有至少有 7 個字母的回文。"
   ]
  },
  {
   "cell_type": "code",
   "execution_count": null,
   "id": "3249638e",
   "metadata": {
    "lines_to_next_cell": 1
   },
   "outputs": [],
   "source": [
    "print(\"\\n--- 找出長度至少為 7 的回文 ---\")\n",
    "if current_word_list_to_check:\n",
    "    count_palindromes = 0\n",
    "    for word_in_list in current_word_list_to_check:\n",
    "        if len(word_in_list) >= 7 and is_palindrome(word_in_list):\n",
    "            print(word_in_list)\n",
    "            count_palindromes += 1\n",
    "    if count_palindromes == 0:\n",
    "        print(\"沒有找到符合條件的回文。\")\n",
    "else:\n",
    "    print(\"單字列表是空的，無法搜尋。\")"
   ]
  },
  {
   "cell_type": "markdown",
   "id": "34fc8894",
   "metadata": {},
   "source": [
    "### 練習\n",
    "\n",
    "寫一個叫做 `reverse_sentence` 的函數，它接收一個包含任意數量由空白隔開的單字的字串作為參數。\n",
    "它應該回傳一個新的字串，其中包含順序相反的相同單字。\n",
    "例如，如果參數是 \"Reverse this sentence\"，結果應該是 \"Sentence this reverse\"。\n",
    "(注意：題目範例的結果 \"Sentence\" 是大寫的，暗示第一個字要大寫，其餘小寫)\n",
    "\n",
    "提示：你可以使用字串的 `capitalize()` 方法讓第一個字大寫，\n",
    "並將其他字轉換為小寫 (雖然 `capitalize()` 只會處理整個字串的第一個字元，\n",
    "所以可能需要先 `lower()` 整個反轉後的句子再 `capitalize()`)。\n",
    "或者，更精確地說，將反轉後的單字列表的第一個單字 `capitalize()`，其餘單字 `lower()`。"
   ]
  },
  {
   "cell_type": "markdown",
   "id": "e6913fcd",
   "metadata": {},
   "source": [
    "為了讓你開始，這裡有一個包含 doctests 的函數大綱。"
   ]
  },
  {
   "cell_type": "code",
   "execution_count": null,
   "id": "e3f8e044",
   "metadata": {
    "lines_to_next_cell": 1
   },
   "outputs": [],
   "source": [
    "def reverse_sentence_starter(input_string): # 改名避免與解答衝突\n",
    "    '''反轉字串中的單字，並將第一個字大寫。\n",
    "\n",
    "    >>> reverse_sentence_starter('Reverse this sentence')\n",
    "    'Sentence this reverse'\n",
    "\n",
    "    >>> reverse_sentence_starter('Python')\n",
    "    'Python'\n",
    "\n",
    "    >>> reverse_sentence_starter('')\n",
    "    ''\n",
    "\n",
    "    >>> reverse_sentence_starter('One for all and all for one') # 這個例子結果跟原句一樣，因為它是對稱的\n",
    "    'One for all and all for one'\n",
    "    '''\n",
    "    return None # 你的程式碼會取代這裡"
   ]
  },
  {
   "cell_type": "markdown",
   "id": "00900306",
   "metadata": {},
   "source": [
    "解答"
   ]
  },
  {
   "cell_type": "code",
   "execution_count": null,
   "id": "616a7ed8",
   "metadata": {},
   "outputs": [],
   "source": [
    "def reverse_sentence(input_string):\n",
    "    '''反轉字串中的單字，並將第一個字大寫，其餘小寫。\n",
    "\n",
    "    >>> reverse_sentence('Reverse this sentence')\n",
    "    'Sentence this reverse'\n",
    "\n",
    "    >>> reverse_sentence('Python')\n",
    "    'Python'\n",
    "\n",
    "    >>> reverse_sentence('')\n",
    "    ''\n",
    "\n",
    "    >>> reverse_sentence('One for all and all for one')\n",
    "    'One for all and all for one'\n",
    "\n",
    "    >>> reverse_sentence('HELLO WORLD') # 測試大小寫處理\n",
    "    'World hello'\n",
    "    '''\n",
    "    if not input_string.strip(): # 如果是空字串或只含空白\n",
    "        return ''\n",
    "\n",
    "    words = input_string.split()\n",
    "    reversed_word_list = list(reversed(words)) # 得到反轉後的單字列表\n",
    "\n",
    "    # 處理大小寫：第一個字大寫，其餘小寫\n",
    "    # (如果只有一個字，它會被 capitalize)\n",
    "    if reversed_word_list: # 確保列表不是空的\n",
    "        # 先全部轉小寫\n",
    "        processed_words = [word.lower() for word in reversed_word_list]\n",
    "        # 第一個字首字母大寫\n",
    "        processed_words[0] = processed_words[0].capitalize()\n",
    "        return ' '.join(processed_words)\n",
    "    else: # 理論上 split 後除非原字串為空，否則不會是空列表\n",
    "        return ''"
   ]
  },
  {
   "cell_type": "code",
   "execution_count": null,
   "id": "d8942f72",
   "metadata": {
    "lines_to_next_cell": 1
   },
   "outputs": [],
   "source": [
    "run_doctests(reverse_sentence)"
   ]
  },
  {
   "cell_type": "markdown",
   "id": "d5221987",
   "metadata": {},
   "source": [
    "### 練習\n",
    "\n",
    "寫一個叫做 `total_length` 的函數，它接收一個字串列表，並回傳這些字串的總長度。\n",
    "`word_list` 中所有單字的總長度應該是 $902,728$。 (這個數字是根據書中特定版本的 words.txt 得來的，你的結果可能不同)"
   ]
  },
  {
   "cell_type": "markdown",
   "id": "b377a315",
   "metadata": {},
   "source": [
    "解答"
   ]
  },
  {
   "cell_type": "code",
   "execution_count": null,
   "id": "7f9a1650",
   "metadata": {
    "lines_to_next_cell": 1
   },
   "outputs": [],
   "source": [
    "def total_length(string_list):\n",
    "    total = 0\n",
    "    for s in string_list: # s 代表列表中的每個字串\n",
    "        total += len(s)\n",
    "    return total"
   ]
  },
  {
   "cell_type": "code",
   "execution_count": null,
   "id": "e11b7697",
   "metadata": {},
   "outputs": [],
   "source": [
    "# 解答 (執行)\n",
    "print(\"\\n--- 計算 word_list 中所有單字的總長度 ---\")\n",
    "if current_word_list_to_check:\n",
    "    calculated_total_length = total_length(current_word_list_to_check)\n",
    "    print(f\"word_list 中所有單字的總長度是: {calculated_total_length:,}\") # 使用 :, 來加上千分位分隔符\n",
    "else:\n",
    "    print(\"單字列表是空的，無法計算總長度。\")"
   ]
  },
  {
   "cell_type": "markdown",
   "id": "919c322e",
   "metadata": {},
   "source": [
    "(這個儲存格是空的，保留)"
   ]
  },
  {
   "cell_type": "markdown",
   "id": "750c3f67",
   "metadata": {},
   "source": [
    "[Think Python: 3rd Edition](https://allendowney.github.io/ThinkPython/index.html)\n",
    "\n",
    "Copyright 2024 [Allen B. Downey](https://allendowney.com)\n",
    "\n",
    "程式碼授權: [MIT License](https://mit-license.org/)\n",
    "\n",
    "文字內容授權: [Creative Commons Attribution-NonCommercial-ShareAlike 4.0 International](https://creativecommons.org/licenses/by-nc-sa/4.0/)"
   ]
  }
 ],
 "metadata": {
  "jupytext": {
   "cell_metadata_filter": "-all",
   "main_language": "python",
   "notebook_metadata_filter": "-all"
  },
  "kernelspec": {
   "display_name": ".venv",
   "language": "python",
   "name": "python3"
  },
  "language_info": {
   "codemirror_mode": {
    "name": "ipython",
    "version": 3
   },
   "file_extension": ".py",
   "mimetype": "text/x-python",
   "name": "python",
   "nbconvert_exporter": "python",
   "pygments_lexer": "ipython3",
   "version": "3.12.2"
  }
 },
 "nbformat": 4,
 "nbformat_minor": 5
}
