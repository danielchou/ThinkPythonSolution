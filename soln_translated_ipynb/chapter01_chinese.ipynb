{
 "cells": [
  {
   "cell_type": "markdown",
   "id": "84b9b38b",
   "metadata": {},
   "source": [
    "\u60a8\u53ef\u4ee5\u5f9e\u4ee5\u4e0b\u7db2\u7ad9\u8a02\u8cfc\u300aThink Python 3e\u300b\u7684\u5370\u5237\u7248\u548c\u96fb\u5b50\u66f8\u7248\u672c\uff1a\n",
    "[Bookshop.org](https://bookshop.org/a/98697/9781098155438) \u548c\n",
    "[Amazon](https://www.amazon.com/_/dp/1098155432?smid=ATVPDKIKX0DER&_encoding=UTF8&tag=oreilly20-20&_encoding=UTF8&tag=greenteapre01-20&linkCode=ur2&linkId=e2a529f94920295d27ec8a06e757dc7c&camp=1789&creative=9325)\u3002"
   ]
  },
  {
   "cell_type": "markdown",
   "id": "29024d65",
   "metadata": {},
   "source": [
    "# \u6b61\u8fce\n",
    "\n",
    "\u9019\u662f\u300aThink Python\u300b\u7b2c3\u7248\u7b2c1\u7ae0\u7684Jupyter\u7b46\u8a18\u672c\uff0c\u4f5c\u8005Allen B. Downey\u3002\n",
    "\n",
    "\u5982\u679c\u60a8\u4e0d\u719f\u6089Jupyter\u7b46\u8a18\u672c\uff0c\n",
    "[\u8acb\u9ede\u64ca\u9019\u88e1\u67e5\u770b\u7c21\u77ed\u4ecb\u7d39](https://colab.research.google.com/github/AllenDowney/ThinkPython/blob/v3/chapters/jupyter_intro.ipynb)\u3002\n",
    "\n",
    "\u7136\u5f8c\uff0c\u5982\u679c\u60a8\u9084\u6c92\u6709\u5728Colab\u4e0a\u57f7\u884c\u6b64\u7b46\u8a18\u672c\uff0c[\u8acb\u9ede\u64ca\u9019\u88e1\u5728Colab\u4e0a\u57f7\u884c\u6b64\u7b46\u8a18\u672c](https://colab.research.google.com/github/AllenDowney/ThinkPython/blob/v3/chapters/chap01.ipynb)\u3002"
   ]
  },
  {
   "cell_type": "markdown",
   "id": "b4998800",
   "metadata": {},
   "source": [
    "\u4ee5\u4e0b\u7a0b\u5f0f\u78bc\u6703\u4e0b\u8f09\u4e00\u500b\u6a94\u6848\u4e26\u57f7\u884c\u5c08\u9580\u70ba\u672c\u66f8\u8a2d\u8a08\u7684\u7a0b\u5f0f\u78bc\u3002\n",
    "\u60a8\u73fe\u5728\u9084\u4e0d\u9700\u8981\u7406\u89e3\u9019\u500b\u7a0b\u5f0f\u78bc\uff0c\u4f46\u5728\u57f7\u884c\u7b46\u8a18\u672c\u4e2d\u7684\u5176\u4ed6\u5167\u5bb9\u4e4b\u524d\uff0c\u60a8\u61c9\u8a72\u5148\u57f7\u884c\u5b83\u3002\n",
    "\u8acb\u8a18\u4f4f\uff0c\u60a8\u53ef\u4ee5\u900f\u904e\u9078\u53d6\u5132\u5b58\u683c\u4e26\u6309\u4e0b\u64ad\u653e\u6309\u9215\uff08\u5713\u5708\u4e2d\u7684\u4e09\u89d2\u5f62\uff09\u6216\u6309\u4f4f`Shift`\u4e26\u6309`Enter`\u4f86\u57f7\u884c\u7a0b\u5f0f\u78bc\u3002"
   ]
  },
  {
   "cell_type": "code",
   "execution_count": null,
   "id": "56079c27",
   "metadata": {
    "lines_to_next_cell": 1
   },
   "outputs": [],
   "source": [
    "from os.path import basename, exists"
   ]
  },
  {
   "cell_type": "code",
   "execution_count": null,
   "id": "833209e4",
   "metadata": {
    "lines_to_next_cell": 1
   },
   "outputs": [],
   "source": [
    "def download(url):\n",
    "    filename = basename(url)\n",
    "    if not exists(filename):\n",
    "        from urllib.request import urlretrieve\n",
    "\n",
    "        local, _ = urlretrieve(url, filename)\n",
    "        print(\"Downloaded \" + str(local))\n",
    "    return filename"
   ]
  },
  {
   "cell_type": "code",
   "execution_count": null,
   "id": "800b7ae0",
   "metadata": {},
   "outputs": [],
   "source": [
    "download('https://github.com/AllenDowney/ThinkPython/raw/v3/thinkpython.py');"
   ]
  },
  {
   "cell_type": "code",
   "execution_count": null,
   "id": "002d553f",
   "metadata": {
    "lines_to_next_cell": 2
   },
   "outputs": [],
   "source": [
    "import thinkpython"
   ]
  },
  {
   "cell_type": "markdown",
   "id": "adac0261",
   "metadata": {},
   "source": [
    "# \u7a0b\u5f0f\u8a2d\u8a08\u4f5c\u70ba\u4e00\u7a2e\u601d\u8003\u65b9\u5f0f\n",
    "\n",
    "\u672c\u66f8\u7684\u7b2c\u4e00\u500b\u76ee\u6a19\u662f\u6559\u60a8\u5982\u4f55\u4f7f\u7528Python\u9032\u884c\u7a0b\u5f0f\u8a2d\u8a08\u3002\n",
    "\u4f46\u5b78\u7fd2\u7a0b\u5f0f\u8a2d\u8a08\u610f\u5473\u8457\u5b78\u7fd2\u4e00\u7a2e\u65b0\u7684\u601d\u8003\u65b9\u5f0f\uff0c\u6240\u4ee5\u672c\u66f8\u7684\u7b2c\u4e8c\u500b\u76ee\u6a19\u662f\u5e6b\u52a9\u60a8\u50cf\u96fb\u8166\u79d1\u5b78\u5bb6\u4e00\u6a23\u601d\u8003\u3002\n",
    "\u9019\u7a2e\u601d\u8003\u65b9\u5f0f\u7d50\u5408\u4e86\u6578\u5b78\u3001\u5de5\u7a0b\u5b78\u548c\u81ea\u7136\u79d1\u5b78\u7684\u4e00\u4e9b\u6700\u4f73\u7279\u9ede\u3002\n",
    "\u5c31\u50cf\u6578\u5b78\u5bb6\u4e00\u6a23\uff0c\u96fb\u8166\u79d1\u5b78\u5bb6\u4f7f\u7528\u5f62\u5f0f\u8a9e\u8a00\u4f86\u8868\u793a\u60f3\u6cd5\u2014\u2014\u7279\u5225\u662f\u8a08\u7b97\u3002\n",
    "\u5c31\u50cf\u5de5\u7a0b\u5e2b\u4e00\u6a23\uff0c\u4ed6\u5011\u8a2d\u8a08\u6771\u897f\uff0c\u5c07\u7d44\u4ef6\u7d44\u88dd\u6210\u7cfb\u7d71\uff0c\u4e26\u8a55\u4f30\u66ff\u4ee3\u65b9\u6848\u4e4b\u9593\u7684\u6b0a\u8861\u3002\n",
    "\u5c31\u50cf\u79d1\u5b78\u5bb6\u4e00\u6a23\uff0c\u4ed6\u5011\u89c0\u5bdf\u8907\u96dc\u7cfb\u7d71\u7684\u884c\u70ba\uff0c\u5f62\u6210\u5047\u8a2d\uff0c\u4e26\u6e2c\u8a66\u9810\u6e2c\u3002\n",
    "\n",
    "\u6211\u5011\u5c07\u5f9e\u7a0b\u5f0f\u8a2d\u8a08\u7684\u6700\u57fa\u672c\u5143\u7d20\u958b\u59cb\uff0c\u9010\u6b65\u6df1\u5165\u3002\n",
    "\u5728\u672c\u7ae0\u4e2d\uff0c\u6211\u5011\u5c07\u770b\u5230Python\u5982\u4f55\u8868\u793a\u6578\u5b57\u3001\u5b57\u6bcd\u548c\u55ae\u8a5e\u3002\n",
    "\u60a8\u9084\u5c07\u5b78\u7fd2\u57f7\u884c\u7b97\u8853\u904b\u7b97\u3002\n",
    "\n",
    "\u60a8\u4e5f\u5c07\u958b\u59cb\u5b78\u7fd2\u7a0b\u5f0f\u8a2d\u8a08\u7684\u8a5e\u5f59\uff0c\u5305\u62ec\u904b\u7b97\u5b50\u3001\u8868\u9054\u5f0f\u3001\u503c\u548c\u985e\u578b\u7b49\u8853\u8a9e\u3002\n",
    "\u9019\u500b\u8a5e\u5f59\u5f88\u91cd\u8981\u2014\u2014\u60a8\u9700\u8981\u5b83\u4f86\u7406\u89e3\u672c\u66f8\u7684\u5176\u9918\u90e8\u5206\uff0c\u8207\u5176\u4ed6\u7a0b\u5f0f\u8a2d\u8a08\u5e2b\u4ea4\u6d41\uff0c\u4ee5\u53ca\u4f7f\u7528\u548c\u7406\u89e3\u865b\u64ec\u52a9\u7406\u3002"
   ]
  },
  {
   "cell_type": "markdown",
   "id": "0e873f93",
   "metadata": {},
   "source": [
    "## \u7b97\u8853\u904b\u7b97\u5b50\n",
    "\n",
    "**\u7b97\u8853\u904b\u7b97\u5b50**\u662f\u4ee3\u8868\u7b97\u8853\u8a08\u7b97\u7684\u7b26\u865f\u3002\u4f8b\u5982\uff0c\u52a0\u865f`+`\u57f7\u884c\u52a0\u6cd5\u3002"
   ]
  },
  {
   "cell_type": "code",
   "execution_count": null,
   "id": "2fa495aa",
   "metadata": {
    "lines_to_next_cell": 2
   },
   "outputs": [],
   "source": [
    "30 + 12"
   ]
  },
  {
   "cell_type": "markdown",
   "id": "1734ceeb",
   "metadata": {},
   "source": [
    "\u6e1b\u865f`-`\u662f\u57f7\u884c\u6e1b\u6cd5\u7684\u904b\u7b97\u5b50\u3002"
   ]
  },
  {
   "cell_type": "code",
   "execution_count": null,
   "id": "29a530f4",
   "metadata": {
    "lines_to_next_cell": 2
   },
   "outputs": [],
   "source": [
    "43 - 1"
   ]
  },
  {
   "cell_type": "markdown",
   "id": "c4629270",
   "metadata": {},
   "source": [
    "\u661f\u865f`*`\u57f7\u884c\u4e58\u6cd5\u3002"
   ]
  },
  {
   "cell_type": "code",
   "execution_count": null,
   "id": "066ad7d9",
   "metadata": {
    "lines_to_next_cell": 2
   },
   "outputs": [],
   "source": [
    "6 * 7"
   ]
  },
  {
   "cell_type": "markdown",
   "id": "1ae0be87",
   "metadata": {},
   "source": [
    "\u6b63\u659c\u7dda`/`\u57f7\u884c\u9664\u6cd5\uff1a"
   ]
  },
  {
   "cell_type": "code",
   "execution_count": null,
   "id": "8348cc5a",
   "metadata": {
    "lines_to_next_cell": 2
   },
   "outputs": [],
   "source": [
    "84 / 2"
   ]
  },
  {
   "cell_type": "markdown",
   "id": "70c7f913",
   "metadata": {},
   "source": [
    "\u6ce8\u610f\u9664\u6cd5\u7684\u7d50\u679c\u662f`42.0`\u800c\u4e0d\u662f`42`\u3002\u9019\u662f\u56e0\u70baPython\u4e2d\u6709\u5169\u7a2e\u985e\u578b\u7684\u6578\u5b57\uff1a\n",
    "\n",
    "* **\u6574\u6578**\uff0c\u8868\u793a\u6c92\u6709\u5c0f\u6578\u6216\u5206\u6578\u90e8\u5206\u7684\u6578\u5b57\uff0c\u4ee5\u53ca\n",
    "\n",
    "* **\u6d6e\u9ede\u6578**\uff0c\u8868\u793a\u6574\u6578\u548c\u5e36\u6709\u5c0f\u6578\u9ede\u7684\u6578\u5b57\u3002\n",
    "\n",
    "\u5982\u679c\u60a8\u52a0\u3001\u6e1b\u6216\u4e58\u5169\u500b\u6574\u6578\uff0c\u7d50\u679c\u662f\u6574\u6578\u3002\n",
    "\u4f46\u5982\u679c\u60a8\u9664\u5169\u500b\u6574\u6578\uff0c\u7d50\u679c\u662f\u6d6e\u9ede\u6578\u3002\n",
    "Python\u63d0\u4f9b\u53e6\u4e00\u500b\u904b\u7b97\u5b50`//`\uff0c\u5b83\u57f7\u884c**\u6574\u6578\u9664\u6cd5**\u3002\n",
    "\u6574\u6578\u9664\u6cd5\u7684\u7d50\u679c\u7e3d\u662f\u6574\u6578\u3002"
   ]
  },
  {
   "cell_type": "code",
   "execution_count": null,
   "id": "518affea",
   "metadata": {
    "lines_to_next_cell": 2
   },
   "outputs": [],
   "source": [
    "84 // 2"
   ]
  },
  {
   "cell_type": "markdown",
   "id": "2f9fdbe3",
   "metadata": {},
   "source": [
    "\u6574\u6578\u9664\u6cd5\u4e5f\u7a31\u70ba\u300c\u5411\u4e0b\u53d6\u6574\u9664\u6cd5\u300d\uff0c\u56e0\u70ba\u5b83\u7e3d\u662f\u5411\u4e0b\u53d6\u6574\uff08\u671d\u5411\u300c\u5730\u677f\u300d\uff09\u3002"
   ]
  },
  {
   "cell_type": "code",
   "execution_count": null,
   "id": "602444ad",
   "metadata": {
    "lines_to_next_cell": 2
   },
   "outputs": [],
   "source": [
    "85 // 2"
   ]
  },
  {
   "cell_type": "markdown",
   "id": "82b6045d",
   "metadata": {},
   "source": [
    "\u6700\u5f8c\uff0c\u904b\u7b97\u5b50`**`\u57f7\u884c\u6307\u6578\u904b\u7b97\uff1b\u4e5f\u5c31\u662f\u8aaa\uff0c\u5b83\u5c07\u4e00\u500b\u6578\u5b57\u63d0\u5347\u5230\u67d0\u500b\u6b21\u65b9\uff1a"
   ]
  },
  {
   "cell_type": "code",
   "execution_count": null,
   "id": "0524ba30",
   "metadata": {
    "lines_to_next_cell": 2
   },
   "outputs": [],
   "source": [
    "7 ** 2"
   ]
  },
  {
   "cell_type": "markdown",
   "id": "739125b0",
   "metadata": {},
   "source": [
    "\u5728\u67d0\u4e9b\u5176\u4ed6\u8a9e\u8a00\u4e2d\uff0c\u812b\u5b57\u7b26\u865f`^`\u7528\u65bc\u6307\u6578\u904b\u7b97\uff0c\u4f46\u5728Python\u4e2d\n",
    "\u5b83\u662f\u4e00\u500b\u7a31\u70baXOR\uff08\u4e92\u65a5\u6216\uff09\u7684\u4f4d\u5143\u904b\u7b97\u5b50\u3002\n",
    "\u5982\u679c\u60a8\u4e0d\u719f\u6089\u4f4d\u5143\u904b\u7b97\u5b50\uff0c\u7d50\u679c\u53ef\u80fd\u6703\u4ee4\u4eba\u610f\u5916\uff1a"
   ]
  },
  {
   "cell_type": "code",
   "execution_count": null,
   "id": "c71f2435",
   "metadata": {
    "lines_to_next_cell": 2
   },
   "outputs": [],
   "source": [
    "7 ^ 2"
   ]
  },
  {
   "cell_type": "markdown",
   "id": "3b66ca57",
   "metadata": {},
   "source": [
    "\u6211\u4e0d\u6703\u5728\u672c\u66f8\u4e2d\u4ecb\u7d39\u4f4d\u5143\u904b\u7b97\u5b50\uff0c\u4f46\u60a8\u53ef\u4ee5\u5728\u4ee5\u4e0b\u7db2\u5740\u4e86\u89e3\u5b83\u5011\uff1a\n",
    "<http://wiki.python.org/moin/BitwiseOperators>\u3002"
   ]
  },
  {
   "cell_type": "markdown",
   "id": "38453f2d",
   "metadata": {},
   "source": [
    "## \u8868\u9054\u5f0f\n",
    "\n",
    "\u904b\u7b97\u5b50\u548c\u6578\u5b57\u7684\u96c6\u5408\u7a31\u70ba**\u8868\u9054\u5f0f**\u3002\n",
    "\u8868\u9054\u5f0f\u53ef\u4ee5\u5305\u542b\u4efb\u610f\u6578\u91cf\u7684\u904b\u7b97\u5b50\u548c\u6578\u5b57\u3002\n",
    "\u4f8b\u5982\uff0c\u9019\u88e1\u6709\u4e00\u500b\u5305\u542b\u5169\u500b\u904b\u7b97\u5b50\u7684\u8868\u9054\u5f0f\u3002"
   ]
  },
  {
   "cell_type": "code",
   "execution_count": null,
   "id": "417361cb",
   "metadata": {
    "lines_to_next_cell": 2
   },
   "outputs": [],
   "source": [
    "6 + 6 ** 2"
   ]
  },
  {
   "cell_type": "markdown",
   "id": "a6f65bb2",
   "metadata": {},
   "source": [
    "\u6ce8\u610f\u6307\u6578\u904b\u7b97\u5728\u52a0\u6cd5\u4e4b\u524d\u767c\u751f\u3002\n",
    "Python\u9075\u5faa\u60a8\u53ef\u80fd\u5728\u6578\u5b78\u8ab2\u4e0a\u5b78\u904e\u7684\u904b\u7b97\u9806\u5e8f\uff1a\u6307\u6578\u904b\u7b97\u5728\u4e58\u6cd5\u548c\u9664\u6cd5\u4e4b\u524d\u767c\u751f\uff0c\u800c\u4e58\u6cd5\u548c\u9664\u6cd5\u5728\u52a0\u6cd5\u548c\u6e1b\u6cd5\u4e4b\u524d\u767c\u751f\u3002\n",
    "\n",
    "\u5728\u4ee5\u4e0b\u4f8b\u5b50\u4e2d\uff0c\u4e58\u6cd5\u5728\u52a0\u6cd5\u4e4b\u524d\u767c\u751f\u3002"
   ]
  },
  {
   "cell_type": "code",
   "execution_count": null,
   "id": "5f2b46b3",
   "metadata": {
    "lines_to_next_cell": 2
   },
   "outputs": [],
   "source": [
    "12 + 5 * 6"
   ]
  },
  {
   "cell_type": "markdown",
   "id": "6cde6981",
   "metadata": {},
   "source": [
    "\u5982\u679c\u60a8\u5e0c\u671b\u52a0\u6cd5\u5148\u767c\u751f\uff0c\u53ef\u4ee5\u4f7f\u7528\u62ec\u865f\u3002"
   ]
  },
  {
   "cell_type": "code",
   "execution_count": null,
   "id": "882f3f74",
   "metadata": {
    "lines_to_next_cell": 2
   },
   "outputs": [],
   "source": [
    "(12 + 5) * 6"
   ]
  },
  {
   "cell_type": "markdown",
   "id": "744f8564",
   "metadata": {},
   "source": [
    "\u6bcf\u500b\u8868\u9054\u5f0f\u90fd\u6709\u4e00\u500b**\u503c**\u3002\n",
    "\u4f8b\u5982\uff0c\u8868\u9054\u5f0f`6 * 7`\u7684\u503c\u662f`42`\u3002"
   ]
  },
  {
   "cell_type": "markdown",
   "id": "bb89ca6d",
   "metadata": {},
   "source": [
    "## \u7b97\u8853\u51fd\u6578\n",
    "\n",
    "\u9664\u4e86\u7b97\u8853\u904b\u7b97\u5b50\u4e4b\u5916\uff0cPython\u9084\u63d0\u4f9b\u4e00\u4e9b\u8655\u7406\u6578\u5b57\u7684**\u51fd\u6578**\u3002\n",
    "\u4f8b\u5982\uff0c`round`\u51fd\u6578\u63a5\u53d7\u4e00\u500b\u6d6e\u9ede\u6578\u4e26\u5c07\u5176\u56db\u6368\u4e94\u5165\u5230\u6700\u63a5\u8fd1\u7684\u6574\u6578\u3002"
   ]
  },
  {
   "cell_type": "code",
   "execution_count": null,
   "id": "1074e94c",
   "metadata": {
    "lines_to_next_cell": 2
   },
   "outputs": [],
   "source": [
    "round(42.4)"
   ]
  },
  {
   "cell_type": "code",
   "execution_count": null,
   "id": "3870e51c",
   "metadata": {
    "lines_to_next_cell": 2
   },
   "outputs": [],
   "source": [
    "round(42.6)"
   ]
  },
  {
   "cell_type": "markdown",
   "id": "7b41723c",
   "metadata": {},
   "source": [
    "`abs`\u51fd\u6578\u8a08\u7b97\u6578\u5b57\u7684\u7d55\u5c0d\u503c\u3002\n",
    "\u5c0d\u65bc\u6b63\u6578\uff0c\u7d55\u5c0d\u503c\u5c31\u662f\u6578\u5b57\u672c\u8eab\u3002"
   ]
  },
  {
   "cell_type": "code",
   "execution_count": null,
   "id": "a8e11e35",
   "metadata": {
    "lines_to_next_cell": 2
   },
   "outputs": [],
   "source": [
    "abs(42)"
   ]
  },
  {
   "cell_type": "markdown",
   "id": "f0636f4e",
   "metadata": {},
   "source": [
    "\u5c0d\u65bc\u8ca0\u6578\uff0c\u7d55\u5c0d\u503c\u662f\u6b63\u6578\u3002"
   ]
  },
  {
   "cell_type": "code",
   "execution_count": null,
   "id": "ba48296d",
   "metadata": {
    "lines_to_next_cell": 2
   },
   "outputs": [],
   "source": [
    "abs(-42)"
   ]
  },
  {
   "cell_type": "markdown",
   "id": "9cf2e12b",
   "metadata": {},
   "source": [
    "\u7576\u6211\u5011\u50cf\u9019\u6a23\u4f7f\u7528\u51fd\u6578\u6642\uff0c\u6211\u5011\u8aaa\u6211\u5011\u6b63\u5728**\u547c\u53eb**\u51fd\u6578\u3002\n",
    "\u547c\u53eb\u51fd\u6578\u7684\u8868\u9054\u5f0f\u662f\u4e00\u500b**\u51fd\u6578\u547c\u53eb**\u3002\n",
    "\n",
    "\u7576\u60a8\u547c\u53eb\u51fd\u6578\u6642\uff0c\u62ec\u865f\u662f\u5fc5\u9700\u7684\u3002\n",
    "\u5982\u679c\u60a8\u6f0f\u6389\u5b83\u5011\uff0c\u6703\u5f97\u5230\u932f\u8aa4\u8a0a\u606f\u3002"
   ]
  },
  {
   "cell_type": "markdown",
   "id": "5e5f8fa6",
   "metadata": {},
   "source": [
    "\u6ce8\u610f\uff1a\u4ee5\u4e0b\u5132\u5b58\u683c\u4f7f\u7528`%%expect`\uff0c\u9019\u662f\u4e00\u500bJupyter\u300c\u9b54\u6cd5\u6307\u4ee4\u300d\uff0c\u610f\u5473\u8457\u6211\u5011\u9810\u671f\u6b64\u5132\u5b58\u683c\u4e2d\u7684\u7a0b\u5f0f\u78bc\u6703\u7522\u751f\u932f\u8aa4\u3002\n",
    "\u95dc\u65bc\u6b64\u4e3b\u984c\u7684\u66f4\u591a\u4fe1\u606f\uff0c\u8acb\u53c3\u898b[Jupyter\u7b46\u8a18\u672c\u4ecb\u7d39](https://colab.research.google.com/github/AllenDowney/ThinkPython/blob/v3/chapters/jupyter_intro.ipynb)\u3002"
   ]
  },
  {
   "cell_type": "code",
   "execution_count": null,
   "id": "66fb6c2e",
   "metadata": {
    "lines_to_next_cell": 2
   },
   "outputs": [],
   "source": [
    "get_ipython().run_cell_magic('expect', 'SyntaxError', '\\nabs 42\\n')"
   ]
  },
  {
   "cell_type": "markdown",
   "id": "524d5ef3",
   "metadata": {},
   "source": [
    "\u60a8\u53ef\u4ee5\u5ffd\u7565\u6b64\u8a0a\u606f\u7684\u7b2c\u4e00\u884c\uff1b\u5b83\u4e0d\u5305\u542b\u6211\u5011\u73fe\u5728\u9700\u8981\u7406\u89e3\u7684\u4efb\u4f55\u4fe1\u606f\u3002\n",
    "\u7b2c\u4e8c\u884c\u662f\u5305\u542b\u932f\u8aa4\u7684\u7a0b\u5f0f\u78bc\uff0c\u4e0b\u9762\u6709\u4e00\u500b\u812b\u5b57\u7b26\u865f\uff08`^`\uff09\u4f86\u6307\u793a\u767c\u73fe\u932f\u8aa4\u7684\u4f4d\u7f6e\u3002\n",
    "\n",
    "\u6700\u5f8c\u4e00\u884c\u8868\u660e\u9019\u662f\u4e00\u500b**\u8a9e\u6cd5\u932f\u8aa4**\uff0c\u9019\u610f\u5473\u8457\u8868\u9054\u5f0f\u7684\u7d50\u69cb\u6709\u554f\u984c\u3002\n",
    "\u5728\u9019\u500b\u4f8b\u5b50\u4e2d\uff0c\u554f\u984c\u662f\u51fd\u6578\u547c\u53eb\u9700\u8981\u62ec\u865f\u3002\n",
    "\n",
    "\u8b93\u6211\u5011\u770b\u770b\u5982\u679c\u60a8\u65e2\u7701\u7565\u62ec\u865f*\u53c8*\u7701\u7565\u503c\u6703\u767c\u751f\u4ec0\u9ebc\u3002"
   ]
  },
  {
   "cell_type": "code",
   "execution_count": null,
   "id": "150437ae",
   "metadata": {
    "lines_to_next_cell": 2
   },
   "outputs": [],
   "source": [
    "abs"
   ]
  },
  {
   "cell_type": "markdown",
   "id": "efd234a9",
   "metadata": {},
   "source": [
    "\u55ae\u7368\u7684\u51fd\u6578\u540d\u7a31\u662f\u4e00\u500b\u6709\u503c\u7684\u5408\u6cd5\u8868\u9054\u5f0f\u3002\n",
    "\u7576\u5b83\u88ab\u986f\u793a\u6642\uff0c\u8a72\u503c\u8868\u660e`abs`\u662f\u4e00\u500b\u51fd\u6578\uff0c\u4e26\u5305\u542b\u4e00\u4e9b\u6211\u7a0d\u5f8c\u6703\u89e3\u91cb\u7684\u9644\u52a0\u4fe1\u606f\u3002"
   ]
  },
  {
   "cell_type": "markdown",
   "id": "cfca9340",
   "metadata": {},
   "source": [
    "## \u5b57\u4e32\n",
    "\n",
    "\u9664\u4e86\u6578\u5b57\u4e4b\u5916\uff0cPython\u9084\u53ef\u4ee5\u8868\u793a\u5b57\u6bcd\u5e8f\u5217\uff0c\u9019\u4e9b\u5e8f\u5217\u7a31\u70ba**\u5b57\u4e32**\uff0c\u56e0\u70ba\u5b57\u6bcd\u50cf\u9805\u934a\u4e0a\u7684\u73e0\u5b50\u4e00\u6a23\u4e32\u5728\u4e00\u8d77\u3002\n",
    "\u8981\u5beb\u5b57\u4e32\uff0c\u6211\u5011\u53ef\u4ee5\u5c07\u5b57\u6bcd\u5e8f\u5217\u653e\u5728\u76f4\u5f15\u865f\u5167\u3002"
   ]
  },
  {
   "cell_type": "code",
   "execution_count": null,
   "id": "ee41913b",
   "metadata": {
    "lines_to_next_cell": 2
   },
   "outputs": [],
   "source": [
    "'Hello'"
   ]
  },
  {
   "cell_type": "markdown",
   "id": "58530dd7",
   "metadata": {},
   "source": [
    "\u4f7f\u7528\u96d9\u5f15\u865f\u4e5f\u662f\u5408\u6cd5\u7684\u3002"
   ]
  },
  {
   "cell_type": "code",
   "execution_count": null,
   "id": "4fe9b36c",
   "metadata": {
    "lines_to_next_cell": 2
   },
   "outputs": [],
   "source": [
    "\"world\""
   ]
  },
  {
   "cell_type": "markdown",
   "id": "735477d1",
   "metadata": {},
   "source": [
    "\u96d9\u5f15\u865f\u4f7f\u5f97\u7de8\u5beb\u5305\u542b\u6487\u865f\u7684\u5b57\u4e32\u8b8a\u5f97\u5bb9\u6613\uff0c\u6487\u865f\u8207\u76f4\u5f15\u865f\u662f\u540c\u4e00\u500b\u7b26\u865f\u3002"
   ]
  },
  {
   "cell_type": "code",
   "execution_count": null,
   "id": "92ec096f",
   "metadata": {
    "lines_to_next_cell": 2
   },
   "outputs": [],
   "source": [
    "\"it's a small \""
   ]
  },
  {
   "cell_type": "markdown",
   "id": "28a198ac",
   "metadata": {},
   "source": [
    "\u5b57\u4e32\u4e5f\u53ef\u4ee5\u5305\u542b\u7a7a\u683c\u3001\u6a19\u9ede\u7b26\u865f\u548c\u6578\u5b57\u3002"
   ]
  },
  {
   "cell_type": "code",
   "execution_count": null,
   "id": "93448495",
   "metadata": {
    "lines_to_next_cell": 2
   },
   "outputs": [],
   "source": [
    "'Well, '"
   ]
  },
  {
   "cell_type": "markdown",
   "id": "825cf368",
   "metadata": {},
   "source": [
    "`+`\u904b\u7b97\u5b50\u9069\u7528\u65bc\u5b57\u4e32\uff1b\u5b83\u5c07\u5169\u500b\u5b57\u4e32\u9023\u63a5\u6210\u4e00\u500b\u5b57\u4e32\uff0c\u9019\u7a31\u70ba**\u9023\u63a5**"
   ]
  },
  {
   "cell_type": "code",
   "execution_count": null,
   "id": "e11b24e3",
   "metadata": {
    "lines_to_next_cell": 2
   },
   "outputs": [],
   "source": [
    "'Well, ' + \"it's a small \" + 'world.'"
   ]
  },
  {
   "cell_type": "markdown",
   "id": "28f268d9",
   "metadata": {},
   "source": [
    "`*`\u904b\u7b97\u5b50\u4e5f\u9069\u7528\u65bc\u5b57\u4e32\uff1b\u5b83\u88fd\u4f5c\u5b57\u4e32\u7684\u591a\u500b\u526f\u672c\u4e26\u9023\u63a5\u5b83\u5011\u3002"
   ]
  },
  {
   "cell_type": "code",
   "execution_count": null,
   "id": "212f0a52",
   "metadata": {
    "lines_to_next_cell": 2
   },
   "outputs": [],
   "source": [
    "'Spam, ' * 4"
   ]
  },
  {
   "cell_type": "markdown",
   "id": "5ceae2ef",
   "metadata": {},
   "source": [
    "\u5176\u4ed6\u7b97\u8853\u904b\u7b97\u5b50\u4e0d\u9069\u7528\u65bc\u5b57\u4e32\u3002\n",
    "\n",
    "Python\u63d0\u4f9b\u4e00\u500b\u7a31\u70ba`len`\u7684\u51fd\u6578\uff0c\u7528\u65bc\u8a08\u7b97\u5b57\u4e32\u7684\u9577\u5ea6\u3002"
   ]
  },
  {
   "cell_type": "code",
   "execution_count": null,
   "id": "871abf1b",
   "metadata": {
    "lines_to_next_cell": 2
   },
   "outputs": [],
   "source": [
    "len('Spam')"
   ]
  },
  {
   "cell_type": "markdown",
   "id": "bdefc8d1",
   "metadata": {},
   "source": [
    "\u6ce8\u610f`len`\u8a08\u7b97\u5f15\u865f\u4e4b\u9593\u7684\u5b57\u6bcd\uff0c\u4f46\u4e0d\u5305\u62ec\u5f15\u865f\u3002\n",
    "\n",
    "\u7576\u60a8\u5efa\u7acb\u5b57\u4e32\u6642\uff0c\u8acb\u78ba\u4fdd\u4f7f\u7528\u76f4\u5f15\u865f\u3002\n",
    "\u53cd\u5f15\u865f\uff0c\u4e5f\u7a31\u70ba\u53cd\u6487\u865f\uff0c\u6703\u5c0e\u81f4\u8a9e\u6cd5\u932f\u8aa4\u3002"
   ]
  },
  {
   "cell_type": "code",
   "execution_count": null,
   "id": "5fc326da",
   "metadata": {
    "lines_to_next_cell": 2
   },
   "outputs": [],
   "source": [
    "get_ipython().run_cell_magic('expect', 'SyntaxError', '\\n`Hello`\\n')"
   ]
  },
  {
   "cell_type": "markdown",
   "id": "7fd9c407",
   "metadata": {},
   "source": [
    "\u5f4e\u5f15\u865f\uff0c\u4e5f\u7a31\u70ba\u82b1\u5f0f\u5f15\u865f\uff0c\u4e5f\u662f\u975e\u6cd5\u7684\u3002"
   ]
  },
  {
   "cell_type": "code",
   "execution_count": null,
   "id": "9eb87bf8",
   "metadata": {
    "lines_to_next_cell": 2
   },
   "outputs": [],
   "source": [
    "get_ipython().run_cell_magic('expect', 'SyntaxError', '\\n'Hello'\\n')"
   ]
  },
  {
   "cell_type": "markdown",
   "id": "95656b67",
   "metadata": {},
   "source": [
    "## \u503c\u548c\u985e\u578b\n",
    "\n",
    "\u5230\u76ee\u524d\u70ba\u6b62\uff0c\u6211\u5011\u5df2\u7d93\u770b\u5230\u4e09\u7a2e\u503c\uff1a\n",
    "\n",
    "* `2`\u662f\u6574\u6578\uff0c\n",
    "\n",
    "* `42.0`\u662f\u6d6e\u9ede\u6578\uff0c\u4ee5\u53ca\n",
    "\n",
    "* `'Hello'`\u662f\u5b57\u4e32\u3002\n",
    "\n",
    "\u4e00\u7a2e\u503c\u7684\u985e\u5225\u7a31\u70ba**\u985e\u578b**\u3002\n",
    "\u6bcf\u500b\u503c\u90fd\u6709\u4e00\u500b\u985e\u578b\u2014\u2014\u6216\u8005\u6211\u5011\u6709\u6642\u8aaa\u5b83\u300c\u5c6c\u65bc\u300d\u4e00\u500b\u985e\u578b\u3002\n",
    "\n",
    "Python\u63d0\u4f9b\u4e00\u500b\u7a31\u70ba`type`\u7684\u51fd\u6578\uff0c\u544a\u8a34\u60a8\u4efb\u4f55\u503c\u7684\u985e\u578b\u3002\n",
    "\u6574\u6578\u7684\u985e\u578b\u662f`int`\u3002"
   ]
  },
  {
   "cell_type": "code",
   "execution_count": null,
   "id": "43520268",
   "metadata": {
    "lines_to_next_cell": 2
   },
   "outputs": [],
   "source": [
    "type(2)"
   ]
  },
  {
   "cell_type": "markdown",
   "id": "250dc6b8",
   "metadata": {},
   "source": [
    "\u6d6e\u9ede\u6578\u7684\u985e\u578b\u662f`float`\u3002"
   ]
  },
  {
   "cell_type": "code",
   "execution_count": null,
   "id": "de6d137c",
   "metadata": {
    "lines_to_next_cell": 2
   },
   "outputs": [],
   "source": [
    "type(42.0)"
   ]
  },
  {
   "cell_type": "markdown",
   "id": "b6c7ebf7",
   "metadata": {},
   "source": [
    "\u5b57\u4e32\u7684\u985e\u578b\u662f`str`\u3002"
   ]
  },
  {
   "cell_type": "code",
   "execution_count": null,
   "id": "02045e90",
   "metadata": {
    "lines_to_next_cell": 2
   },
   "outputs": [],
   "source": [
    "type('Hello, World!')"
   ]
  },
  {
   "cell_type": "markdown",
   "id": "de53a331",
   "metadata": {},
   "source": [
    "\u985e\u578b`int`\u3001`float`\u548c`str`\u53ef\u4ee5\u7528\u4f5c\u51fd\u6578\u3002\n",
    "\u4f8b\u5982\uff0c`int`\u53ef\u4ee5\u63a5\u53d7\u6d6e\u9ede\u6578\u4e26\u5c07\u5176\u8f49\u63db\u70ba\u6574\u6578\uff08\u7e3d\u662f\u5411\u4e0b\u53d6\u6574\uff09\u3002"
   ]
  },
  {
   "cell_type": "code",
   "execution_count": null,
   "id": "fa2dc08e",
   "metadata": {
    "lines_to_next_cell": 2
   },
   "outputs": [],
   "source": [
    "int(42.9)"
   ]
  },
  {
   "cell_type": "markdown",
   "id": "9a29f6d8",
   "metadata": {},
   "source": [
    "`float`\u53ef\u4ee5\u5c07\u6574\u6578\u8f49\u63db\u70ba\u6d6e\u9ede\u503c\u3002"
   ]
  },
  {
   "cell_type": "code",
   "execution_count": null,
   "id": "acdec8a7",
   "metadata": {
    "lines_to_next_cell": 2
   },
   "outputs": [],
   "source": [
    "float(42)"
   ]
  },
  {
   "cell_type": "markdown",
   "id": "4bf1b6b2",
   "metadata": {},
   "source": [
    "\u73fe\u5728\uff0c\u9019\u88e1\u6709\u4e00\u4e9b\u53ef\u80fd\u4ee4\u4eba\u56f0\u60d1\u7684\u6771\u897f\u3002\n",
    "\u5982\u679c\u60a8\u5c07\u4e00\u4e32\u6578\u5b57\u653e\u5728\u5f15\u865f\u4e2d\u6703\u5f97\u5230\u4ec0\u9ebc\uff1f"
   ]
  },
  {
   "cell_type": "code",
   "execution_count": null,
   "id": "5a04f4a3",
   "metadata": {
    "lines_to_next_cell": 2
   },
   "outputs": [],
   "source": [
    "'126'"
   ]
  },
  {
   "cell_type": "markdown",
   "id": "0da82d29",
   "metadata": {},
   "source": [
    "\u5b83\u770b\u8d77\u4f86\u50cf\u4e00\u500b\u6578\u5b57\uff0c\u4f46\u5be6\u969b\u4e0a\u662f\u4e00\u500b\u5b57\u4e32\u3002"
   ]
  },
  {
   "cell_type": "code",
   "execution_count": null,
   "id": "33a6d459",
   "metadata": {
    "lines_to_next_cell": 2
   },
   "outputs": [],
   "source": [
    "type('126')"
   ]
  },
  {
   "cell_type": "markdown",
   "id": "24cf4726",
   "metadata": {},
   "source": [
    "\u5982\u679c\u60a8\u5617\u8a66\u50cf\u6578\u5b57\u4e00\u6a23\u4f7f\u7528\u5b83\uff0c\u53ef\u80fd\u6703\u5f97\u5230\u932f\u8aa4\u3002"
   ]
  },
  {
   "cell_type": "code",
   "execution_count": null,
   "id": "f1382d21",
   "metadata": {
    "lines_to_next_cell": 2
   },
   "outputs": [],
   "source": [
    "get_ipython().run_cell_magic('expect', 'TypeError', \"\\n'126' / 3\\n\")"
   ]
  },
  {
   "cell_type": "markdown",
   "id": "dcd78720",
   "metadata": {},
   "source": [
    "\u9019\u500b\u4f8b\u5b50\u7522\u751f\u4e86\u4e00\u500b`TypeError`\uff0c\u9019\u610f\u5473\u8457\u8868\u9054\u5f0f\u4e2d\u7684\u503c\uff08\u7a31\u70ba**\u904b\u7b97\u5143**\uff09\u5177\u6709\u932f\u8aa4\u7684\u985e\u578b\u3002\n",
    "\u932f\u8aa4\u8a0a\u606f\u8868\u660e`/`\u904b\u7b97\u5b50\u4e0d\u652f\u63f4\u9019\u4e9b\u503c\u7684\u985e\u578b\uff0c\u5b83\u5011\u662f`str`\u548c`int`\u3002\n",
    "\n",
    "\u5982\u679c\u60a8\u6709\u4e00\u500b\u5305\u542b\u6578\u5b57\u7684\u5b57\u4e32\uff0c\u53ef\u4ee5\u4f7f\u7528`int`\u5c07\u5176\u8f49\u63db\u70ba\u6574\u6578\u3002"
   ]
  },
  {
   "cell_type": "code",
   "execution_count": null,
   "id": "4be1bb2a",
   "metadata": {
    "lines_to_next_cell": 2
   },
   "outputs": [],
   "source": [
    "int('126') / 3"
   ]
  },
  {
   "cell_type": "markdown",
   "id": "a503914d",
   "metadata": {},
   "source": [
    "\u5982\u679c\u60a8\u6709\u4e00\u500b\u5305\u542b\u6578\u5b57\u548c\u5c0f\u6578\u9ede\u7684\u5b57\u4e32\uff0c\u53ef\u4ee5\u4f7f\u7528`float`\u5c07\u5176\u8f49\u63db\u70ba\u6d6e\u9ede\u6578\u3002"
   ]
  },
  {
   "cell_type": "code",
   "execution_count": null,
   "id": "8f119d3e",
   "metadata": {
    "lines_to_next_cell": 2
   },
   "outputs": [],
   "source": [
    "float('12.6')"
   ]
  },
  {
   "cell_type": "markdown",
   "id": "cc16abbf",
   "metadata": {},
   "source": [
    "\u7576\u60a8\u5beb\u4e00\u500b\u5927\u6574\u6578\u6642\uff0c\u60a8\u53ef\u80fd\u6703\u60f3\u5728\u6578\u5b57\u7d44\u4e4b\u9593\u4f7f\u7528\u9017\u865f\uff0c\n",
    "\u5982`1,000,000`\u3002\n",
    "\u9019\u5728Python\u4e2d\u662f\u5408\u6cd5\u7684\u8868\u9054\u5f0f\uff0c\u4f46\u7d50\u679c\u4e0d\u662f\u6574\u6578\u3002"
   ]
  },
  {
   "cell_type": "code",
   "execution_count": null,
   "id": "f8d489a8",
   "metadata": {
    "lines_to_next_cell": 2
   },
   "outputs": [],
   "source": [
    "1,000,000"
   ]
  },
  {
   "cell_type": "markdown",
   "id": "301e5eeb",
   "metadata": {},
   "source": [
    "Python\u5c07`1,000,000`\u89e3\u91cb\u70ba\u4ee5\u9017\u865f\u5206\u9694\u7684\u6574\u6578\u5e8f\u5217\u3002\n",
    "\u6211\u5011\u7a0d\u5f8c\u6703\u4e86\u89e3\u66f4\u591a\u95dc\u65bc\u9019\u7a2e\u5e8f\u5217\u7684\u4fe1\u606f\u3002\n",
    "\n",
    "\u60a8\u53ef\u4ee5\u4f7f\u7528\u4e0b\u5283\u7dda\u4f7f\u5927\u6578\u5b57\u66f4\u6613\u8b80\u3002"
   ]
  },
  {
   "cell_type": "code",
   "execution_count": null,
   "id": "593e9ac0",
   "metadata": {
    "lines_to_next_cell": 2
   },
   "outputs": [],
   "source": [
    "1_000_000"
   ]
  },
  {
   "cell_type": "markdown",
   "id": "4a9b21c6",
   "metadata": {},
   "source": [
    "## \u5f62\u5f0f\u8a9e\u8a00\u548c\u81ea\u7136\u8a9e\u8a00\n",
    "\n",
    "**\u81ea\u7136\u8a9e\u8a00**\u662f\u4eba\u5011\u8aaa\u7684\u8a9e\u8a00\uff0c\u5982\u4e2d\u6587\u3001\u82f1\u8a9e\u3001\u897f\u73ed\u7259\u8a9e\u548c\u6cd5\u8a9e\u3002\u5b83\u5011\u4e0d\u662f\u7531\u4eba\u8a2d\u8a08\u7684\uff1b\u5b83\u5011\u662f\u81ea\u7136\u6f14\u5316\u7684\u3002\n",
    "\n",
    "**\u5f62\u5f0f\u8a9e\u8a00**\u662f\u4eba\u5011\u70ba\u7279\u5b9a\u61c9\u7528\u800c\u8a2d\u8a08\u7684\u8a9e\u8a00\u3002\n",
    "\u4f8b\u5982\uff0c\u6578\u5b78\u5bb6\u4f7f\u7528\u7684\u7b26\u865f\u662f\u4e00\u7a2e\u5f62\u5f0f\u8a9e\u8a00\uff0c\u7279\u5225\u9069\u5408\u8868\u793a\u6578\u5b57\u548c\u7b26\u865f\u4e4b\u9593\u7684\u95dc\u4fc2\u3002\n",
    "\u540c\u6a23\uff0c\u7a0b\u5f0f\u8a9e\u8a00\u662f\u88ab\u8a2d\u8a08\u4f86\u8868\u9054\u8a08\u7b97\u7684\u5f62\u5f0f\u8a9e\u8a00\u3002"
   ]
  },
  {
   "cell_type": "markdown",
   "id": "ead94153",
   "metadata": {},
   "source": [
    "\u96d6\u7136\u5f62\u5f0f\u8a9e\u8a00\u548c\u81ea\u7136\u8a9e\u8a00\u6709\u4e00\u4e9b\u5171\u540c\u7279\u9ede\uff0c\u4f46\u6709\u91cd\u8981\u7684\u5dee\u7570\uff1a\n",
    "\n",
    "* \u6b67\u7fa9\u6027\uff1a\u81ea\u7136\u8a9e\u8a00\u5145\u6eff\u6b67\u7fa9\uff0c\u4eba\u5011\u901a\u904e\u4f7f\u7528\u4e0a\u4e0b\u6587\u7dda\u7d22\u548c\u5176\u4ed6\u4fe1\u606f\u4f86\u8655\u7406\u3002\u5f62\u5f0f\u8a9e\u8a00\u88ab\u8a2d\u8a08\u6210\u5e7e\u4e4e\u6216\u5b8c\u5168\u7121\u6b67\u7fa9\u7684\uff0c\u9019\u610f\u5473\u8457\u4efb\u4f55\u7a0b\u5f0f\u90fd\u6709\u78ba\u5207\u7684\u4e00\u500b\u542b\u7fa9\uff0c\u7121\u8ad6\u4e0a\u4e0b\u6587\u5982\u4f55\u3002\n",
    "\n",
    "* \u5197\u9918\u6027\uff1a\u70ba\u4e86\u5f4c\u88dc\u6b67\u7fa9\u6027\u4e26\u6e1b\u5c11\u8aa4\u89e3\uff0c\u81ea\u7136\u8a9e\u8a00\u4f7f\u7528\u5197\u9918\u3002\u56e0\u6b64\uff0c\u5b83\u5011\u901a\u5e38\u5f88\u5197\u9577\u3002\u5f62\u5f0f\u8a9e\u8a00\u8f03\u5c11\u5197\u9918\u4e14\u66f4\u7c21\u6f54\u3002\n",
    "\n",
    "* \u5b57\u9762\u6027\uff1a\u81ea\u7136\u8a9e\u8a00\u5145\u6eff\u6210\u8a9e\u548c\u96b1\u55bb\u3002\u5f62\u5f0f\u8a9e\u8a00\u7684\u610f\u601d\u5b8c\u5168\u5c31\u662f\u5b57\u9762\u610f\u601d\u3002"
   ]
  },
  {
   "cell_type": "markdown",
   "id": "507a4e05",
   "metadata": {},
   "source": [
    "\u56e0\u70ba\u6211\u5011\u90fd\u662f\u5728\u8aaa\u81ea\u7136\u8a9e\u8a00\u7684\u74b0\u5883\u4e2d\u9577\u5927\u7684\uff0c\u6709\u6642\u5f88\u96e3\u9069\u61c9\u5f62\u5f0f\u8a9e\u8a00\u3002\n",
    "\u5f62\u5f0f\u8a9e\u8a00\u6bd4\u81ea\u7136\u8a9e\u8a00\u66f4\u5bc6\u96c6\uff0c\u6240\u4ee5\u95b1\u8b80\u5b83\u5011\u9700\u8981\u66f4\u9577\u7684\u6642\u9593\u3002\n",
    "\u6b64\u5916\uff0c\u7d50\u69cb\u5f88\u91cd\u8981\uff0c\u6240\u4ee5\u5f9e\u4e0a\u5230\u4e0b\u3001\u5f9e\u5de6\u5230\u53f3\u95b1\u8b80\u4e26\u4e0d\u7e3d\u662f\u6700\u597d\u7684\u3002\n",
    "\u6700\u5f8c\uff0c\u7d30\u7bc0\u5f88\u91cd\u8981\u3002\u5728\u81ea\u7136\u8a9e\u8a00\u4e2d\u60a8\u53ef\u4ee5\u5ffd\u7565\u7684\u62fc\u5beb\u548c\u6a19\u9ede\u7b26\u865f\u4e0a\u7684\u5c0f\u932f\u8aa4\uff0c\u5728\u5f62\u5f0f\u8a9e\u8a00\u4e2d\u53ef\u80fd\u6703\u7522\u751f\u5f88\u5927\u7684\u5dee\u7570\u3002"
   ]
  },
  {
   "cell_type": "markdown",
   "id": "59f444db",
   "metadata": {},
   "source": [
    "## \u9664\u932f\n",
    "\n",
    "\u7a0b\u5f0f\u8a2d\u8a08\u5e2b\u6703\u72af\u932f\u8aa4\u3002\u51fa\u65bc\u5947\u7279\u7684\u539f\u56e0\uff0c\u7a0b\u5f0f\u8a2d\u8a08\u932f\u8aa4\u88ab\u7a31\u70ba**\u932f\u8aa4\uff08bug\uff09**\uff0c\u8ffd\u8e64\u5b83\u5011\u7684\u904e\u7a0b\u88ab\u7a31\u70ba**\u9664\u932f\uff08debugging\uff09**\u3002\n",
    "\n",
    "\u7a0b\u5f0f\u8a2d\u8a08\uff0c\u7279\u5225\u662f\u9664\u932f\uff0c\u6709\u6642\u6703\u5e36\u51fa\u5f37\u70c8\u7684\u60c5\u7dd2\u3002\u5982\u679c\u60a8\u6b63\u5728\u8207\u4e00\u500b\u56f0\u96e3\u7684\u932f\u8aa4\u4f5c\u9b25\u722d\uff0c\u60a8\u53ef\u80fd\u6703\u611f\u5230\u61a4\u6012\u3001\u60b2\u50b7\u6216\u5c37\u5c2c\u3002\n",
    "\n",
    "\u70ba\u9019\u4e9b\u53cd\u61c9\u505a\u6e96\u5099\u53ef\u80fd\u6703\u5e6b\u52a9\u60a8\u8655\u7406\u5b83\u5011\u3002\u4e00\u7a2e\u65b9\u6cd5\u662f\u5c07\u96fb\u8166\u8996\u70ba\u5177\u6709\u67d0\u4e9b\u512a\u52e2\uff08\u5982\u901f\u5ea6\u548c\u7cbe\u78ba\u5ea6\uff09\u548c\u7279\u5b9a\u5f31\u9ede\uff08\u5982\u7f3a\u4e4f\u540c\u7406\u5fc3\u548c\u7121\u6cd5\u638c\u63e1\u5927\u5c40\uff09\u7684\u54e1\u5de5\u3002\n",
    "\n",
    "\u60a8\u7684\u5de5\u4f5c\u662f\u6210\u70ba\u4e00\u500b\u597d\u7684\u7ba1\u7406\u8005\uff1a\u627e\u5230\u5229\u7528\u512a\u52e2\u548c\u6e1b\u8f15\u5f31\u9ede\u7684\u65b9\u6cd5\u3002\u4e26\u627e\u5230\u5229\u7528\u60a8\u7684\u60c5\u7dd2\u4f86\u53c3\u8207\u554f\u984c\u7684\u65b9\u6cd5\uff0c\u800c\u4e0d\u8b93\u60a8\u7684\u53cd\u61c9\u5e72\u64fe\u60a8\u6709\u6548\u5de5\u4f5c\u7684\u80fd\u529b\u3002\n",
    "\n",
    "\u5b78\u7fd2\u9664\u932f\u53ef\u80fd\u4ee4\u4eba\u6cae\u55aa\uff0c\u4f46\u9019\u662f\u4e00\u9805\u6709\u50f9\u503c\u7684\u6280\u80fd\uff0c\u5c0d\u7a0b\u5f0f\u8a2d\u8a08\u4e4b\u5916\u7684\u8a31\u591a\u6d3b\u52d5\u90fd\u5f88\u6709\u7528\u3002\u5728\u6bcf\u4e00\u7ae0\u7684\u7d50\u5c3e\u90fd\u6709\u4e00\u500b\u50cf\u9019\u6a23\u7684\u90e8\u5206\uff0c\u5305\u542b\u6211\u5c0d\u9664\u932f\u7684\u5efa\u8b70\u3002\u6211\u5e0c\u671b\u5b83\u5011\u80fd\u5e6b\u52a9\u60a8\uff01"
   ]
  },
  {
   "cell_type": "markdown",
   "id": "92fff561",
   "metadata": {},
   "source": [
    "## \u8a5e\u5f59\u8868\n",
    "\n",
    "**\u7b97\u8853\u904b\u7b97\u5b50\uff1a**\n",
    "\u4e00\u500b\u7b26\u865f\uff0c\u5982`+`\u548c`*`\uff0c\u8868\u793a\u50cf\u52a0\u6cd5\u6216\u4e58\u6cd5\u9019\u6a23\u7684\u7b97\u8853\u904b\u7b97\u3002\n",
    "\n",
    "**\u6574\u6578\uff1a**\n",
    "\u8868\u793a\u6c92\u6709\u5c0f\u6578\u6216\u5206\u6578\u90e8\u5206\u7684\u6578\u5b57\u7684\u985e\u578b\u3002\n",
    "\n",
    "**\u6d6e\u9ede\u6578\uff1a**\n",
    "\u8868\u793a\u6574\u6578\u548c\u5e36\u6709\u5c0f\u6578\u90e8\u5206\u7684\u6578\u5b57\u7684\u985e\u578b\u3002\n",
    "\n",
    "**\u6574\u6578\u9664\u6cd5\uff1a**\n",
    "\u4e00\u500b\u904b\u7b97\u5b50`//`\uff0c\u5c07\u5169\u500b\u6578\u5b57\u76f8\u9664\u4e26\u5411\u4e0b\u53d6\u6574\u70ba\u6574\u6578\u3002\n",
    "\n",
    "**\u8868\u9054\u5f0f\uff1a**\n",
    "\u8b8a\u91cf\u3001\u503c\u548c\u904b\u7b97\u5b50\u7684\u7d44\u5408\u3002\n",
    "\n",
    "**\u503c\uff1a**\n",
    "\u6574\u6578\u3001\u6d6e\u9ede\u6578\u6216\u5b57\u4e32\u2014\u2014\u6216\u6211\u5011\u7a0d\u5f8c\u6703\u770b\u5230\u7684\u5176\u4ed6\u985e\u578b\u7684\u503c\u4e4b\u4e00\u3002\n",
    "\n",
    "**\u51fd\u6578\uff1a**\n",
    "\u57f7\u884c\u67d0\u4e9b\u6709\u7528\u64cd\u4f5c\u7684\u547d\u540d\u8a9e\u53e5\u5e8f\u5217\u3002\n",
    "\u51fd\u6578\u53ef\u80fd\u63a5\u53d7\u6216\u4e0d\u63a5\u53d7\u53c3\u6578\uff0c\u53ef\u80fd\u7522\u751f\u6216\u4e0d\u7522\u751f\u7d50\u679c\u3002\n",
    "\n",
    "**\u51fd\u6578\u547c\u53eb\uff1a**\n",
    "\u904b\u884c\u51fd\u6578\u7684\u8868\u9054\u5f0f\u2014\u2014\u6216\u8868\u9054\u5f0f\u7684\u4e00\u90e8\u5206\u3002\n",
    "\u5b83\u7531\u51fd\u6578\u540d\u7a31\u5f8c\u8ddf\u62ec\u865f\u4e2d\u7684\u53c3\u6578\u5217\u8868\u7d44\u6210\u3002\n",
    "\n",
    "**\u8a9e\u6cd5\u932f\u8aa4\uff1a**\n",
    "\u7a0b\u5f0f\u4e2d\u4f7f\u5176\u7121\u6cd5\u89e3\u6790\u7684\u932f\u8aa4\u2014\u2014\u56e0\u6b64\u7121\u6cd5\u904b\u884c\u3002\n",
    "\n",
    "**\u5b57\u4e32\uff1a**\n",
    "\u8868\u793a\u5b57\u7b26\u5e8f\u5217\u7684\u985e\u578b\u3002\n",
    "\n",
    "**\u9023\u63a5\uff1a**\n",
    "\u5c07\u5169\u500b\u5b57\u4e32\u9996\u5c3e\u76f8\u63a5\u3002\n",
    "\n",
    "**\u985e\u578b\uff1a**\n",
    "\u503c\u7684\u985e\u5225\u3002\n",
    "\u6211\u5011\u5230\u76ee\u524d\u70ba\u6b62\u770b\u5230\u7684\u985e\u578b\u662f\u6574\u6578\uff08\u985e\u578b`int`\uff09\u3001\u6d6e\u9ede\u6578\uff08\u985e\u578b`float`\uff09\u548c\u5b57\u4e32\uff08\u985e\u578b`str`\uff09\u3002\n",
    "\n",
    "**\u904b\u7b97\u5143\uff1a**\n",
    "\u904b\u7b97\u5b50\u64cd\u4f5c\u7684\u503c\u4e4b\u4e00\u3002\n",
    "\n",
    "**\u81ea\u7136\u8a9e\u8a00\uff1a**\n",
    "\u4eba\u5011\u8aaa\u7684\u4efb\u4f55\u81ea\u7136\u6f14\u5316\u7684\u8a9e\u8a00\u3002\n",
    "\n",
    "**\u5f62\u5f0f\u8a9e\u8a00\uff1a**\n",
    "\u4eba\u5011\u70ba\u7279\u5b9a\u76ee\u7684\u800c\u8a2d\u8a08\u7684\u4efb\u4f55\u8a9e\u8a00\uff0c\u5982\u8868\u793a\u6578\u5b78\u601d\u60f3\u6216\u96fb\u8166\u7a0b\u5f0f\u3002\n",
    "\u6240\u6709\u7a0b\u5f0f\u8a9e\u8a00\u90fd\u662f\u5f62\u5f0f\u8a9e\u8a00\u3002\n",
    "\n",
    "**\u932f\u8aa4\uff08bug\uff09\uff1a**\n",
    "\u7a0b\u5f0f\u4e2d\u7684\u932f\u8aa4\u3002\n",
    "\n",
    "**\u9664\u932f\uff08debugging\uff09\uff1a**\n",
    "\u67e5\u627e\u548c\u4fee\u6b63\u932f\u8aa4\u7684\u904e\u7a0b\u3002"
   ]
  },
  {
   "cell_type": "markdown",
   "id": "f1091ff6",
   "metadata": {},
   "source": [
    "## \u7df4\u7fd2"
   ]
  },
  {
   "cell_type": "markdown",
   "id": "f77ac235",
   "metadata": {},
   "source": [
    "\u9019\u500b\u5132\u5b58\u683c\u544a\u8a34Jupyter\u5728\u767c\u751f\u904b\u884c\u6642\u932f\u8aa4\u6642\u63d0\u4f9b\u8a73\u7d30\u7684\u9664\u932f\u4fe1\u606f\n",
    "\u5728\u9032\u884c\u7df4\u7fd2\u4e4b\u524d\u8acb\u5148\u904b\u884c\u5b83\u3002"
   ]
  },
  {
   "cell_type": "code",
   "execution_count": null,
   "id": "a324626e",
   "metadata": {
    "lines_to_next_cell": 2
   },
   "outputs": [],
   "source": [
    "get_ipython().run_line_magic('xmode', 'Verbose')"
   ]
  },
  {
   "cell_type": "markdown",
   "id": "af29796d",
   "metadata": {},
   "source": [
    "### \u8a62\u554f\u865b\u64ec\u52a9\u7406\n",
    "\n",
    "\u7576\u60a8\u95b1\u8b80\u672c\u66f8\u6642\uff0c\u6709\u5e7e\u7a2e\u65b9\u5f0f\u53ef\u4ee5\u4f7f\u7528\u865b\u64ec\u52a9\u7406\u6216\u804a\u5929\u6a5f\u5668\u4eba\u4f86\u5e6b\u52a9\u60a8\u5b78\u7fd2\u3002\n",
    "\n",
    "* \u5982\u679c\u60a8\u60f3\u4e86\u89e3\u66f4\u591a\u95dc\u65bc\u7ae0\u7bc0\u4e2d\u67d0\u500b\u4e3b\u984c\u7684\u4fe1\u606f\uff0c\u6216\u8005\u6709\u4efb\u4f55\u4e0d\u6e05\u695a\u7684\u5730\u65b9\uff0c\u60a8\u53ef\u4ee5\u8981\u6c42\u89e3\u91cb\u3002\n",
    "\n",
    "* \u5982\u679c\u60a8\u5728\u4efb\u4f55\u7df4\u7fd2\u4e0a\u9047\u5230\u56f0\u96e3\uff0c\u60a8\u53ef\u4ee5\u5c0b\u6c42\u5e6b\u52a9\u3002\n",
    "\n",
    "\u5728\u6bcf\u4e00\u7ae0\u4e2d\uff0c\u6211\u6703\u5efa\u8b70\u60a8\u53ef\u4ee5\u8207\u865b\u64ec\u52a9\u7406\u4e00\u8d77\u505a\u7684\u7df4\u7fd2\uff0c\u4f46\u6211\u9f13\u52f5\u60a8\u81ea\u5df1\u5617\u8a66\uff0c\u770b\u770b\u4ec0\u9ebc\u5c0d\u60a8\u6709\u6548\u3002"
   ]
  },
  {
   "cell_type": "markdown",
   "id": "000c2c53",
   "metadata": {},
   "source": [
    "\u4ee5\u4e0b\u662f\u60a8\u53ef\u4ee5\u5411\u865b\u64ec\u52a9\u7406\u8a62\u554f\u7684\u4e00\u4e9b\u4e3b\u984c\uff1a\n",
    "\n",
    "* \u6211\u4e4b\u524d\u63d0\u5230\u4f4d\u5143\u904b\u7b97\u5b50\uff0c\u4f46\u6c92\u6709\u89e3\u91cb\u70ba\u4ec0\u9ebc`7 ^ 2`\u7684\u503c\u662f5\u3002\u8a66\u8457\u554f\u300cPython\u4e2d\u7684\u4f4d\u5143\u904b\u7b97\u5b50\u662f\u4ec0\u9ebc\uff1f\u300d\u6216\u300c`7 XOR 2`\u7684\u503c\u662f\u591a\u5c11\uff1f\u300d\n",
    "\n",
    "* \u6211\u4e5f\u63d0\u5230\u4e86\u904b\u7b97\u9806\u5e8f\u3002\u8981\u4e86\u89e3\u66f4\u591a\u8a73\u60c5\uff0c\u8acb\u554f\u300cPython\u4e2d\u7684\u904b\u7b97\u9806\u5e8f\u662f\u4ec0\u9ebc\uff1f\u300d\n",
    "\n",
    "* \u6211\u5011\u7528\u4f86\u5c07\u6d6e\u9ede\u6578\u56db\u6368\u4e94\u5165\u5230\u6700\u63a5\u8fd1\u6574\u6578\u7684`round`\u51fd\u6578\u53ef\u4ee5\u63a5\u53d7\u7b2c\u4e8c\u500b\u53c3\u6578\u3002\u8a66\u8457\u554f\u300cround\u51fd\u6578\u7684\u53c3\u6578\u662f\u4ec0\u9ebc\uff1f\u300d\u6216\u300c\u5982\u4f55\u5c07pi\u56db\u6368\u4e94\u5165\u5230\u4e09\u4f4d\u5c0f\u6578\uff1f\u300d\n",
    "\n",
    "* \u6709\u4e00\u500b\u6211\u6c92\u6709\u63d0\u5230\u7684\u7b97\u8853\u904b\u7b97\u5b50\uff1b\u8a66\u8457\u554f\u300cPython\u4e2d\u7684\u6a21\u6578\u904b\u7b97\u5b50\u662f\u4ec0\u9ebc\uff1f\u300d"
   ]
  },
  {
   "cell_type": "markdown",
   "id": "a5ac3508",
   "metadata": {},
   "source": [
    "\u5927\u591a\u6578\u865b\u64ec\u52a9\u7406\u90fd\u4e86\u89e3Python\uff0c\u6240\u4ee5\u5b83\u5011\u56de\u7b54\u9019\u6a23\u7684\u554f\u984c\u76f8\u7576\u53ef\u9760\u3002\n",
    "\u4f46\u8acb\u8a18\u4f4f\uff0c\u9019\u4e9b\u5de5\u5177\u6703\u72af\u932f\u8aa4\u3002\n",
    "\u5982\u679c\u60a8\u5f9e\u804a\u5929\u6a5f\u5668\u4eba\u7372\u5f97\u7a0b\u5f0f\u78bc\uff0c\u8acb\u6e2c\u8a66\u5b83\uff01"
   ]
  },
  {
   "cell_type": "markdown",
   "id": "6c74ecaa",
   "metadata": {},
   "source": [
    "### \u7df4\u7fd2\n",
    "\n",
    "\u60a8\u53ef\u80fd\u60f3\u77e5\u9053\u5982\u679c\u4e00\u500b\u6578\u5b57\u4ee5`0.5`\u7d50\u5c3e\uff0c`round`\u6703\u600e\u9ebc\u505a\u3002\n",
    "\u7b54\u6848\u662f\u5b83\u6709\u6642\u5411\u4e0a\u53d6\u6574\uff0c\u6709\u6642\u5411\u4e0b\u53d6\u6574\u3002\n",
    "\u8a66\u8a66\u9019\u4e9b\u4f8b\u5b50\uff0c\u770b\u770b\u60a8\u80fd\u5426\u627e\u51fa\u5b83\u9075\u5faa\u4ec0\u9ebc\u898f\u5247\u3002"
   ]
  },
  {
   "cell_type": "code",
   "execution_count": null,
   "id": "427f2f18",
   "metadata": {
    "lines_to_next_cell": 2
   },
   "outputs": [],
   "source": [
    "round(42.5)"
   ]
  },
  {
   "cell_type": "code",
   "execution_count": null,
   "id": "d1266ccb",
   "metadata": {
    "lines_to_next_cell": 2
   },
   "outputs": [],
   "source": [
    "round(43.5)"
   ]
  },
  {
   "cell_type": "markdown",
   "id": "90d6f2fd",
   "metadata": {},
   "source": [
    "\u5982\u679c\u60a8\u611f\u5230\u597d\u5947\uff0c\u554f\u4e00\u500b\u865b\u64ec\u52a9\u7406\uff1a\u300c\u5982\u679c\u4e00\u500b\u6578\u5b57\u4ee50.5\u7d50\u5c3e\uff0cPython\u662f\u5411\u4e0a\u53d6\u6574\u9084\u662f\u5411\u4e0b\u53d6\u6574\uff1f\u300d"
   ]
  },
  {
   "cell_type": "markdown",
   "id": "85037335",
   "metadata": {},
   "source": [
    "### \u7df4\u7fd2\n",
    "\n",
    "\u7576\u60a8\u5b78\u7fd2\u65b0\u529f\u80fd\u6642\uff0c\u60a8\u61c9\u8a72\u5617\u8a66\u5b83\u4e26\u6545\u610f\u72af\u932f\u8aa4\u3002\n",
    "\u9019\u6a23\uff0c\u60a8\u5c31\u6703\u5b78\u5230\u932f\u8aa4\u8a0a\u606f\uff0c\u7576\u60a8\u518d\u6b21\u770b\u5230\u5b83\u5011\u6642\uff0c\u60a8\u5c31\u6703\u77e5\u9053\u5b83\u5011\u7684\u610f\u601d\u3002\n",
    "\u73fe\u5728\u6545\u610f\u72af\u932f\u8aa4\u6bd4\u4ee5\u5f8c\u610f\u5916\u72af\u932f\u8aa4\u8981\u597d\u3002\n",
    "\n",
    "1. \u60a8\u53ef\u4ee5\u4f7f\u7528\u6e1b\u865f\u4f86\u88fd\u4f5c\u8ca0\u6578\uff0c\u5982`-2`\u3002\u5982\u679c\u60a8\u5728\u6578\u5b57\u524d\u9762\u653e\u4e00\u500b\u52a0\u865f\u6703\u767c\u751f\u4ec0\u9ebc\uff1f`2++2`\u5462\uff1f\n",
    "\n",
    "2. \u5982\u679c\u60a8\u6709\u5169\u500b\u503c\u4e4b\u9593\u6c92\u6709\u904b\u7b97\u5b50\uff0c\u5982`4 2`\uff0c\u6703\u767c\u751f\u4ec0\u9ebc\uff1f\n",
    "\n",
    "3. \u5982\u679c\u60a8\u547c\u53eb\u50cf`round(42.5)`\u9019\u6a23\u7684\u51fd\u6578\uff0c\u5982\u679c\u60a8\u6f0f\u6389\u4e00\u500b\u6216\u5169\u500b\u62ec\u865f\u6703\u767c\u751f\u4ec0\u9ebc\uff1f"
   ]
  },
  {
   "cell_type": "markdown",
   "id": "99308943",
   "metadata": {},
   "source": [
    "### \u7df4\u7fd2\n",
    "\n",
    "\u8a18\u4f4f\u6bcf\u500b\u8868\u9054\u5f0f\u90fd\u6709\u4e00\u500b\u503c\uff0c\u6bcf\u500b\u503c\u90fd\u6709\u4e00\u500b\u985e\u578b\uff0c\u6211\u5011\u53ef\u4ee5\u4f7f\u7528`type`\u51fd\u6578\u4f86\u627e\u51fa\u4efb\u4f55\u503c\u7684\u985e\u578b\u3002\n",
    "\n",
    "\u4ee5\u4e0b\u8868\u9054\u5f0f\u7684\u503c\u7684\u985e\u578b\u662f\u4ec0\u9ebc\uff1f\u5c0d\u6bcf\u4e00\u500b\u505a\u51fa\u60a8\u7684\u6700\u4f73\u731c\u6e2c\uff0c\u7136\u5f8c\u4f7f\u7528`type`\u4f86\u627e\u51fa\u7b54\u6848\u3002\n",
    "\n",
    "* `765`\n",
    "\n",
    "* `2.718`\n",
    "\n",
    "* `'2 pi'`\n",
    "\n",
    "* `abs(-7)`\n",
    "\n",
    "* `abs(-7.0)`\n",
    "\n",
    "* `abs`\n",
    "\n",
    "* `int`\n",
    "\n",
    "* `type`"
   ]
  },
  {
   "cell_type": "markdown",
   "id": "dca5236a",
   "metadata": {},
   "source": [
    "### \u7df4\u7fd2\n",
    "\n",
    "\u4ee5\u4e0b\u554f\u984c\u8b93\u60a8\u6709\u6a5f\u6703\u7df4\u7fd2\u7de8\u5beb\u7b97\u8853\u8868\u9054\u5f0f\u3002\n",
    "\n",
    "1. 42\u520642\u79d2\u6709\u591a\u5c11\u79d2\uff1f\n",
    "\n",
    "2. 10\u516c\u91cc\u6709\u591a\u5c11\u82f1\u91cc\uff1f\u63d0\u793a\uff1a1\u82f1\u91cc\u67091.61\u516c\u91cc\u3002\n",
    "\n",
    "3. \u5982\u679c\u60a8\u4ee542\u520642\u79d2\u8dd1\u5b8c10\u516c\u91cc\u8cfd\u8dd1\uff0c\u60a8\u7684\u5e73\u5747\u914d\u901f\u662f\u6bcf\u82f1\u91cc\u591a\u5c11\u79d2\uff1f\n",
    "    \n",
    "4. \u60a8\u7684\u5e73\u5747\u914d\u901f\u662f\u6bcf\u82f1\u91cc\u591a\u5c11\u5206\u591a\u5c11\u79d2\uff1f\n",
    "\n",
    "5. \u60a8\u7684\u5e73\u5747\u901f\u5ea6\u662f\u6bcf\u5c0f\u6642\u591a\u5c11\u82f1\u91cc\uff1f\n",
    "\n",
    "\u5982\u679c\u60a8\u5df2\u7d93\u4e86\u89e3\u8b8a\u91cf\uff0c\u60a8\u53ef\u4ee5\u5728\u9019\u500b\u7df4\u7fd2\u4e2d\u4f7f\u7528\u5b83\u5011\u3002\n",
    "\u5982\u679c\u60a8\u4e0d\u4e86\u89e3\uff0c\u60a8\u53ef\u4ee5\u4e0d\u4f7f\u7528\u8b8a\u91cf\u4f86\u5b8c\u6210\u7df4\u7fd2\u2014\u2014\u7136\u5f8c\u6211\u5011\u6703\u5728\u4e0b\u4e00\u7ae0\u4e2d\u770b\u5230\u5b83\u5011\u3002"
   ]
  },
  {
   "cell_type": "code",
   "execution_count": null,
   "id": "ab8cb731",
   "metadata": {
    "lines_to_next_cell": 2
   },
   "outputs": [],
   "source": [
    "# \u89e3\u7b54\n",
    "# \u7e3d\u79d2\u6578\n",
    "42 * 60 + 42"
   ]
  },
  {
   "cell_type": "code",
   "execution_count": null,
   "id": "b9eb19a1",
   "metadata": {
    "lines_to_next_cell": 2
   },
   "outputs": [],
   "source": [
    "# \u89e3\u7b54\n",
    "# \u82f1\u91cc\u6578\n",
    "10 / 1.61"
   ]
  },
  {
   "cell_type": "code",
   "execution_count": null,
   "id": "c49306c8",
   "metadata": {
    "lines_to_next_cell": 2
   },
   "outputs": [],
   "source": [
    "# \u89e3\u7b54\n",
    "# \u6bcf\u82f1\u91cc\u79d2\u6578\n",
    "2562 / 6.21118"
   ]
  },
  {
   "cell_type": "code",
   "execution_count": null,
   "id": "c4ca0d22",
   "metadata": {
    "lines_to_next_cell": 2
   },
   "outputs": [],
   "source": [
    "# \u89e3\u7b54\n",
    "# \u914d\u901f\u7684\u5206\u9418\u90e8\u5206\n",
    "412.48 // 60"
   ]
  },
  {
   "cell_type": "code",
   "execution_count": null,
   "id": "c9e3e96a",
   "metadata": {
    "lines_to_next_cell": 2
   },
   "outputs": [],
   "source": [
    "# \u89e3\u7b54\n",
    "# \u914d\u901f\u7684\u79d2\u6578\u90e8\u5206\n",
    "412.48 % 60"
   ]
  },
  {
   "cell_type": "code",
   "execution_count": null,
   "id": "4060d08f",
   "metadata": {
    "lines_to_next_cell": 2
   },
   "outputs": [],
   "source": [
    "# \u89e3\u7b54\n",
    "# \u5c0f\u6642\u6578\n",
    "2562 / 60 / 60"
   ]
  },
  {
   "cell_type": "code",
   "execution_count": null,
   "id": "b5b09579",
   "metadata": {
    "lines_to_next_cell": 2
   },
   "outputs": [],
   "source": [
    "# \u89e3\u7b54\n",
    "# \u6bcf\u5c0f\u6642\u82f1\u91cc\u6578\n",
    "6.21118 / 0.711666"
   ]
  },
  {
   "cell_type": "markdown",
   "id": "e3037842",
   "metadata": {},
   "source": [
    "In[ ]:"
   ]
  },
  {
   "cell_type": "markdown",
   "id": "de43ef61",
   "metadata": {},
   "source": [
    "[Think Python: 3rd Edition](https://allendowney.github.io/ThinkPython/index.html)\n",
    "\n",
    "\u7248\u6b0a\u6240\u6709 2024 [Allen B. Downey](https://allendowney.com)\n",
    "\n",
    "\u7a0b\u5f0f\u78bc\u8a31\u53ef\u8b49\uff1a[MIT License](https://mit-license.org/)\n",
    "\n",
    "\u6587\u672c\u8a31\u53ef\u8b49\uff1a[Creative Commons Attribution-NonCommercial-ShareAlike 4.0 International](https://creativecommons.org/licenses/by-nc-sa/4.0/)"
   ]
  }
 ],
 "metadata": {
  "jupytext": {
   "cell_metadata_filter": "-all",
   "encoding": "# coding: utf-8",
   "executable": "/usr/bin/env python",
   "main_language": "python",
   "notebook_metadata_filter": "-all"
  }
 },
 "nbformat": 4,
 "nbformat_minor": 5
}