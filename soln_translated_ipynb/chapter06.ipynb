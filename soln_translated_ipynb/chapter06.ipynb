{
 "cells": [
  {
   "cell_type": "markdown",
   "id": "0dd7f841",
   "metadata": {},
   "source": [
    "\u4f60\u53ef\u4ee5\u5f9e\n",
    "[Bookshop.org](https://bookshop.org/a/98697/9781098155438) \u548c\n",
    "[Amazon](https://www.amazon.com/_/dp/1098155432?smid=ATVPDKIKX0DER&_encoding=UTF8&tag=oreilly20-20&_encoding=UTF8&tag=greenteapre01-20&linkCode=ur2&linkId=e2a529f94920295d27ec8a06e757dc7c&camp=1789&creative=9325)\n",
    "\u8a02\u8cfc\u300aThink Python 3e\u300b\u7684\u5be6\u9ad4\u66f8\u548c\u96fb\u5b50\u66f8\u7248\u672c\u3002"
   ]
  },
  {
   "cell_type": "markdown",
   "id": "a51ce8bb",
   "metadata": {
    "lines_to_next_cell": 2
   },
   "source": [
    "In[5]: # \u8b6f\u8a3b\uff1aJupyter Notebook \u7684 In[X] \u7de8\u865f\u53ef\u80fd\u8207\u539f\u6587\u4e0d\u540c\uff0c\u4e0d\u5f71\u97ff\u7a0b\u5f0f\u78bc"
   ]
  },
  {
   "cell_type": "code",
   "execution_count": null,
   "id": "cebbaaba",
   "metadata": {
    "lines_to_next_cell": 1
   },
   "outputs": [],
   "source": [
    "from os.path import basename, exists"
   ]
  },
  {
   "cell_type": "code",
   "execution_count": null,
   "id": "4eee12a6",
   "metadata": {
    "lines_to_next_cell": 1
   },
   "outputs": [],
   "source": [
    "def download(url):\n",
    "    filename = basename(url)\n",
    "    if not exists(filename):\n",
    "        from urllib.request import urlretrieve\n",
    "\n",
    "        local, _ = urlretrieve(url, filename)\n",
    "        print(\"\u5df2\u4e0b\u8f09 \" + str(local)) # \u8b6f\u8a3b\uff1a\u9019\u88e1\u986f\u793a\u4e0b\u8f09\u5b8c\u6210\u7684\u6a94\u6848\u8def\u5f91\n",
    "    return filename"
   ]
  },
  {
   "cell_type": "code",
   "execution_count": null,
   "id": "5946825e",
   "metadata": {},
   "outputs": [],
   "source": [
    "download('https://github.com/AllenDowney/ThinkPython/raw/v3/thinkpython.py');\n",
    "download('https://github.com/AllenDowney/ThinkPython/raw/v3/diagram.py');"
   ]
  },
  {
   "cell_type": "code",
   "execution_count": null,
   "id": "2afc8b76",
   "metadata": {
    "lines_to_next_cell": 2
   },
   "outputs": [],
   "source": [
    "import thinkpython"
   ]
  },
  {
   "cell_type": "markdown",
   "id": "9c7db57f",
   "metadata": {},
   "source": [
    "# \u56de\u50b3\u503c (Return Values)\n",
    "\n",
    "\u5728\u4e4b\u524d\u7684\u7ae0\u7bc0\u4e2d\uff0c\u6211\u5011\u7528\u904e\u5167\u5efa\u51fd\u5f0f\u2014\u2014\u50cf\u662f `abs` \u548c `round`\u2014\u2014\u4ee5\u53ca math \u6a21\u7d44\u4e2d\u7684\u51fd\u5f0f\u2014\u2014\u50cf\u662f `sqrt` \u548c `pow`\u3002\n",
    "\u7576\u4f60\u547c\u53eb\u9019\u4e9b\u51fd\u5f0f\u6642\uff0c\u5b83\u6703\u56de\u50b3\u4e00\u500b\u503c\uff0c\u4f60\u53ef\u4ee5\u5c07\u9019\u500b\u503c\u8ce6\u4e88\u7d66\u4e00\u500b\u8b8a\u6578\uff0c\u6216\u8005\u7528\u4f5c\u904b\u7b97\u5f0f\u7684\u4e00\u90e8\u5206\u3002\n",
    "\n",
    "\u5230\u76ee\u524d\u70ba\u6b62\uff0c\u6211\u5011\u5beb\u7684\u51fd\u5f0f\u5247\u4e0d\u540c\u3002\n",
    "\u6709\u4e9b\u4f7f\u7528 `print` \u51fd\u5f0f\u4f86\u986f\u793a\u503c\uff0c\u6709\u4e9b\u4f7f\u7528\u6d77\u9f9c\u51fd\u5f0f\u4f86\u756b\u5716\u3002\n",
    "\u4f46\u5b83\u5011\u4e0d\u6703\u56de\u50b3\u6211\u5011\u53ef\u4ee5\u8ce6\u4e88\u7d66\u8b8a\u6578\u6216\u5728\u904b\u7b97\u5f0f\u4e2d\u4f7f\u7528\u7684\u503c\u3002\n",
    "\n",
    "\u5728\u9019\u4e00\u7ae0\uff0c\u6211\u5011\u5c07\u5b78\u7fd2\u5982\u4f55\u7de8\u5beb\u6703\u56de\u50b3\u503c\u7684\u51fd\u5f0f\u3002"
   ]
  },
  {
   "cell_type": "markdown",
   "id": "7c52b616",
   "metadata": {},
   "source": [
    "## \u6709\u4e9b\u51fd\u5f0f\u6709\u56de\u50b3\u503c\n",
    "\n",
    "\u7576\u4f60\u547c\u53eb\u50cf `math.sqrt` \u9019\u6a23\u7684\u51fd\u5f0f\u6642\uff0c\u7d50\u679c\u7a31\u70ba **\u56de\u50b3\u503c** (return value)\u3002\n",
    "\u5982\u679c\u51fd\u5f0f\u547c\u53eb\u51fa\u73fe\u5728\u5132\u5b58\u683c\u7684\u672b\u5c3e\uff0cJupyter \u6703\u7acb\u5373\u986f\u793a\u56de\u50b3\u503c\u3002"
   ]
  },
  {
   "cell_type": "code",
   "execution_count": null,
   "id": "884bcf3d",
   "metadata": {},
   "outputs": [],
   "source": [
    "import math"
   ]
  },
  {
   "cell_type": "code",
   "execution_count": null,
   "id": "4d3b8086",
   "metadata": {
    "lines_to_next_cell": 2
   },
   "outputs": [],
   "source": [
    "math.sqrt(42 / math.pi)"
   ]
  },
  {
   "cell_type": "markdown",
   "id": "ca2a1a17",
   "metadata": {},
   "source": [
    "\u5982\u679c\u4f60\u5c07\u56de\u50b3\u503c\u8ce6\u4e88\u7d66\u4e00\u500b\u8b8a\u6578\uff0c\u5b83\u5c31\u4e0d\u6703\u88ab\u986f\u793a\u51fa\u4f86\u3002"
   ]
  },
  {
   "cell_type": "code",
   "execution_count": null,
   "id": "49ee6a18",
   "metadata": {
    "lines_to_next_cell": 2
   },
   "outputs": [],
   "source": [
    "radius = math.sqrt(42 / math.pi)"
   ]
  },
  {
   "cell_type": "markdown",
   "id": "a5d85c58",
   "metadata": {},
   "source": [
    "\u4f46\u4f60\u4e4b\u5f8c\u53ef\u4ee5\u986f\u793a\u5b83\u3002"
   ]
  },
  {
   "cell_type": "code",
   "execution_count": null,
   "id": "0b037a45",
   "metadata": {
    "lines_to_next_cell": 2
   },
   "outputs": [],
   "source": [
    "radius"
   ]
  },
  {
   "cell_type": "markdown",
   "id": "1e5fda5a",
   "metadata": {},
   "source": [
    "\u6216\u8005\u4f60\u53ef\u4ee5\u5c07\u56de\u50b3\u503c\u7528\u4f5c\u904b\u7b97\u5f0f\u7684\u4e00\u90e8\u5206\u3002"
   ]
  },
  {
   "cell_type": "code",
   "execution_count": null,
   "id": "2451eae1",
   "metadata": {
    "lines_to_next_cell": 2
   },
   "outputs": [],
   "source": [
    "radius + math.sqrt(42 / math.pi)"
   ]
  },
  {
   "cell_type": "markdown",
   "id": "8f3de5a7",
   "metadata": {},
   "source": [
    "\u9019\u88e1\u6709\u4e00\u500b\u56de\u50b3\u503c\u7684\u51fd\u5f0f\u7bc4\u4f8b\u3002"
   ]
  },
  {
   "cell_type": "code",
   "execution_count": null,
   "id": "e5094ebe",
   "metadata": {
    "lines_to_next_cell": 2
   },
   "outputs": [],
   "source": [
    "def circle_area(radius_param): # \u8b6f\u8a3b\uff1a\u53c3\u6578\u540d\u6539\u70ba radius_param \u4ee5\u5340\u5225\u5916\u9762\u7684 radius\n",
    "    area_val = math.pi * radius_param**2 # \u8b6f\u8a3b\uff1a\u8b8a\u6578\u540d\u6539\u70ba area_val\n",
    "    return area_val"
   ]
  },
  {
   "cell_type": "markdown",
   "id": "dd8dc256",
   "metadata": {},
   "source": [
    "`circle_area` \u63a5\u53d7 `radius_param` \u4f5c\u70ba\u53c3\u6578\uff0c\u4e26\u8a08\u7b97\u8a72\u534a\u5f91\u5713\u5f62\u7684\u9762\u7a4d\u3002\n",
    "\n",
    "\u6700\u5f8c\u4e00\u884c\u662f\u4e00\u500b `return` \u9673\u8ff0\u53e5\uff0c\u5b83\u56de\u50b3 `area_val` \u7684\u503c\u3002\n",
    "\n",
    "\u5982\u679c\u6211\u5011\u50cf\u9019\u6a23\u547c\u53eb\u51fd\u5f0f\uff0cJupyter \u6703\u986f\u793a\u56de\u50b3\u503c\u3002\n"
   ]
  },
  {
   "cell_type": "code",
   "execution_count": null,
   "id": "ab4cc513",
   "metadata": {
    "lines_to_next_cell": 2
   },
   "outputs": [],
   "source": [
    "circle_area(radius) # \u8b6f\u8a3b\uff1a\u9019\u88e1\u7684 radius \u662f\u4e4b\u524d In[7] \u5b9a\u7fa9\u7684"
   ]
  },
  {
   "cell_type": "markdown",
   "id": "6f11ab6d",
   "metadata": {},
   "source": [
    "\u6211\u5011\u53ef\u4ee5\u5c07\u56de\u50b3\u503c\u8ce6\u4e88\u7d66\u4e00\u500b\u8b8a\u6578\u3002"
   ]
  },
  {
   "cell_type": "code",
   "execution_count": null,
   "id": "74a387f6",
   "metadata": {
    "lines_to_next_cell": 2
   },
   "outputs": [],
   "source": [
    "a = circle_area(radius)"
   ]
  },
  {
   "cell_type": "markdown",
   "id": "428112a8",
   "metadata": {},
   "source": [
    "\u6216\u8005\u5c07\u5b83\u7528\u4f5c\u904b\u7b97\u5f0f\u7684\u4e00\u90e8\u5206\u3002"
   ]
  },
  {
   "cell_type": "code",
   "execution_count": null,
   "id": "b9db4f55",
   "metadata": {
    "lines_to_next_cell": 2
   },
   "outputs": [],
   "source": [
    "circle_area(radius) + 2 * circle_area(radius / 2)"
   ]
  },
  {
   "cell_type": "markdown",
   "id": "4c62029d",
   "metadata": {},
   "source": [
    "\u7a0d\u5f8c\u6211\u5011\u53ef\u4ee5\u986f\u793a\u6211\u5011\u8ce6\u4e88\u7d50\u679c\u7684\u8b8a\u6578\u7684\u503c\u3002"
   ]
  },
  {
   "cell_type": "code",
   "execution_count": null,
   "id": "53640cb6",
   "metadata": {
    "lines_to_next_cell": 2
   },
   "outputs": [],
   "source": [
    "a"
   ]
  },
  {
   "cell_type": "markdown",
   "id": "38e8ea9b",
   "metadata": {},
   "source": [
    "\u4f46\u662f\u6211\u5011\u7121\u6cd5\u5b58\u53d6 `area_val`\u3002"
   ]
  },
  {
   "cell_type": "markdown",
   "id": "3e758118",
   "metadata": {
    "lines_to_next_cell": 2
   },
   "source": [
    "get_ipython().run_cell_magic('expect', 'NameError', '\\narea_val\\n')\n",
    "\u8b6f\u8a3b\uff1a\u9810\u671f NameError\uff0c\u56e0\u70ba area_val \u662f circle_area \u51fd\u5f0f\u5167\u7684\u5340\u57df\u8b8a\u6578"
   ]
  },
  {
   "cell_type": "markdown",
   "id": "669be365",
   "metadata": {},
   "source": [
    "`area_val` \u662f\u51fd\u5f0f\u4e2d\u7684\u5340\u57df\u8b8a\u6578\uff0c\u6240\u4ee5\u6211\u5011\u7121\u6cd5\u5f9e\u51fd\u5f0f\u5916\u90e8\u5b58\u53d6\u5b83\u3002"
   ]
  },
  {
   "cell_type": "markdown",
   "id": "26f2a3a7",
   "metadata": {},
   "source": [
    "## \u6709\u4e9b\u5247\u56de\u50b3 None\n",
    "\n",
    "\u5982\u679c\u51fd\u5f0f\u6c92\u6709 `return` \u9673\u8ff0\u53e5\uff0c\u5b83\u6703\u56de\u50b3 `None`\uff0c\u9019\u662f\u4e00\u500b\u50cf `True` \u548c `False` \u4e00\u6a23\u7684\u7279\u6b8a\u503c\u3002\n",
    "\u4f8b\u5982\uff0c\u9019\u662f\u7b2c 3 \u7ae0\u4e2d\u7684 `repeat` \u51fd\u5f0f\u3002"
   ]
  },
  {
   "cell_type": "code",
   "execution_count": null,
   "id": "04c409cf",
   "metadata": {
    "lines_to_next_cell": 2
   },
   "outputs": [],
   "source": [
    "def repeat(word, n):\n",
    "    print(word * n)"
   ]
  },
  {
   "cell_type": "markdown",
   "id": "4c1e9e41",
   "metadata": {},
   "source": [
    "\u5982\u679c\u6211\u5011\u50cf\u9019\u6a23\u547c\u53eb\u5b83\uff0c\u5b83\u6703\u986f\u793a\u8499\u63d0\u00b7\u6d3e\u68ee\u6b4c\u66f2\u300c\u82ac\u862d\u300d\u7684\u7b2c\u4e00\u884c\u3002"
   ]
  },
  {
   "cell_type": "code",
   "execution_count": null,
   "id": "ee05112c",
   "metadata": {
    "lines_to_next_cell": 2
   },
   "outputs": [],
   "source": [
    "repeat('\u82ac\u862d\uff0c', 3) # \u8b6f\u8a3b\uff1a\u5c07\u82f1\u6587\u6539\u70ba\u4e2d\u6587"
   ]
  },
  {
   "cell_type": "markdown",
   "id": "a61bab1f",
   "metadata": {},
   "source": [
    "\u9019\u500b\u51fd\u5f0f\u4f7f\u7528 `print` \u51fd\u5f0f\u4f86\u986f\u793a\u5b57\u4e32\uff0c\u4f46\u5b83\u6c92\u6709\u4f7f\u7528 `return` \u9673\u8ff0\u53e5\u4f86\u56de\u50b3\u503c\u3002\n",
    "\u5982\u679c\u6211\u5011\u5c07\u7d50\u679c\u8ce6\u4e88\u7d66\u4e00\u500b\u8b8a\u6578\uff0c\u5b83\u4ecd\u7136\u6703\u986f\u793a\u5b57\u4e32\u3002"
   ]
  },
  {
   "cell_type": "code",
   "execution_count": null,
   "id": "1b6c1119",
   "metadata": {
    "lines_to_next_cell": 2
   },
   "outputs": [],
   "source": [
    "result = repeat('\u82ac\u862d\uff0c', 3)"
   ]
  },
  {
   "cell_type": "markdown",
   "id": "2f11fbe0",
   "metadata": {},
   "source": [
    "\u5982\u679c\u6211\u5011\u986f\u793a\u8b8a\u6578\u7684\u503c\uff0c\u4ec0\u9ebc\u4e5f\u770b\u4e0d\u5230\u3002"
   ]
  },
  {
   "cell_type": "code",
   "execution_count": null,
   "id": "88e0dd78",
   "metadata": {
    "lines_to_next_cell": 2
   },
   "outputs": [],
   "source": [
    "result"
   ]
  },
  {
   "cell_type": "markdown",
   "id": "2b73728e",
   "metadata": {},
   "source": [
    "`result` \u5be6\u969b\u4e0a\u662f\u6709\u503c\u7684\uff0c\u4f46 Jupyter \u4e0d\u6703\u986f\u793a\u5b83\u3002\n",
    "\u4e0d\u904e\uff0c\u6211\u5011\u53ef\u4ee5\u50cf\u9019\u6a23\u986f\u793a\u5b83\u3002"
   ]
  },
  {
   "cell_type": "code",
   "execution_count": null,
   "id": "8daa9c3a",
   "metadata": {
    "lines_to_next_cell": 2
   },
   "outputs": [],
   "source": [
    "print(result)"
   ]
  },
  {
   "cell_type": "markdown",
   "id": "ab2d2e42",
   "metadata": {},
   "source": [
    "`repeat` \u7684\u56de\u50b3\u503c\u662f `None`\u3002\n",
    "\n",
    "\u73fe\u5728\u9019\u88e1\u6709\u4e00\u500b\u985e\u4f3c `repeat` \u7684\u51fd\u5f0f\uff0c\u4f46\u5b83\u6709\u56de\u50b3\u503c\u3002"
   ]
  },
  {
   "cell_type": "code",
   "execution_count": null,
   "id": "966e38a2",
   "metadata": {
    "lines_to_next_cell": 2
   },
   "outputs": [],
   "source": [
    "def repeat_string(word, n):\n",
    "    return word * n"
   ]
  },
  {
   "cell_type": "markdown",
   "id": "decf6b3b",
   "metadata": {},
   "source": [
    "\u6ce8\u610f\uff0c\u6211\u5011\u53ef\u4ee5\u5728 `return` \u9673\u8ff0\u53e5\u4e2d\u4f7f\u7528\u904b\u7b97\u5f0f\uff0c\u800c\u4e0d\u50c5\u50c5\u662f\u8b8a\u6578\u3002\n",
    "\n",
    "\u6709\u4e86\u9019\u500b\u7248\u672c\uff0c\u6211\u5011\u53ef\u4ee5\u5c07\u7d50\u679c\u8ce6\u4e88\u7d66\u4e00\u500b\u8b8a\u6578\u3002\n",
    "\u7576\u51fd\u5f0f\u57f7\u884c\u6642\uff0c\u5b83\u4e0d\u6703\u986f\u793a\u4efb\u4f55\u6771\u897f\u3002"
   ]
  },
  {
   "cell_type": "code",
   "execution_count": null,
   "id": "66600f09",
   "metadata": {
    "lines_to_next_cell": 2
   },
   "outputs": [],
   "source": [
    "line = repeat_string('\u5348\u9910\u8089\uff0c', 4) # \u8b6f\u8a3b\uff1a\u5c07\u82f1\u6587\u6539\u70ba\u4e2d\u6587"
   ]
  },
  {
   "cell_type": "markdown",
   "id": "5cc2b518",
   "metadata": {},
   "source": [
    "\u4f46\u7a0d\u5f8c\u6211\u5011\u53ef\u4ee5\u986f\u793a\u8ce6\u4e88\u7d66 `line` \u7684\u503c\u3002"
   ]
  },
  {
   "cell_type": "code",
   "execution_count": null,
   "id": "6aef0cf3",
   "metadata": {
    "lines_to_next_cell": 2
   },
   "outputs": [],
   "source": [
    "line"
   ]
  },
  {
   "cell_type": "markdown",
   "id": "27fe6d94",
   "metadata": {},
   "source": [
    "\u50cf\u9019\u6a23\u7684\u51fd\u5f0f\u7a31\u70ba **\u7d14\u51fd\u5f0f** (pure function)\uff0c\u56e0\u70ba\u5b83\u4e0d\u6703\u986f\u793a\u4efb\u4f55\u6771\u897f\u6216\u6709\u4efb\u4f55\u5176\u4ed6\u6548\u679c\u2014\u2014\u9664\u4e86\u56de\u50b3\u4e00\u500b\u503c\u3002"
   ]
  },
  {
   "cell_type": "markdown",
   "id": "f872066a",
   "metadata": {},
   "source": [
    "## \u56de\u50b3\u503c\u8207\u689d\u4ef6\u5224\u65b7\n",
    "\n",
    "\u5982\u679c Python \u6c92\u6709\u63d0\u4f9b `abs` (\u7d55\u5c0d\u503c\u51fd\u5f0f)\uff0c\u6211\u5011\u53ef\u4ee5\u50cf\u9019\u6a23\u5beb\u3002"
   ]
  },
  {
   "cell_type": "code",
   "execution_count": null,
   "id": "032c46fe",
   "metadata": {
    "lines_to_next_cell": 2
   },
   "outputs": [],
   "source": [
    "def absolute_value(x_val): # \u8b6f\u8a3b\uff1a\u53c3\u6578\u540d\u6539\u70ba x_val\n",
    "    if x_val < 0:\n",
    "        return -x_val\n",
    "    else:\n",
    "        return x_val"
   ]
  },
  {
   "cell_type": "markdown",
   "id": "d0f8dff6",
   "metadata": {},
   "source": [
    "\u5982\u679c `x_val` \u662f\u8ca0\u6578\uff0c\u7b2c\u4e00\u500b `return` \u9673\u8ff0\u53e5\u6703\u56de\u50b3 `-x_val`\uff0c\u51fd\u5f0f\u7acb\u5373\u7d50\u675f\u3002\n",
    "\u5426\u5247\uff0c\u7b2c\u4e8c\u500b `return` \u9673\u8ff0\u53e5\u6703\u56de\u50b3 `x_val`\uff0c\u51fd\u5f0f\u7d50\u675f\u3002\n",
    "\u6240\u4ee5\u9019\u500b\u51fd\u5f0f\u662f\u6b63\u78ba\u7684\u3002\n",
    "\n",
    "\u7136\u800c\uff0c\u5982\u679c\u4f60\u5c07 `return` \u9673\u8ff0\u53e5\u653e\u5728\u689d\u4ef6\u5224\u65b7\u4e2d\uff0c\u4f60\u5fc5\u9808\u78ba\u4fdd\u7a0b\u5f0f\u4e2d\u6240\u6709\u53ef\u80fd\u7684\u8def\u5f91\u90fd\u6703\u78b0\u5230\u4e00\u500b `return` \u9673\u8ff0\u53e5\u3002\n",
    "\u4f8b\u5982\uff0c\u9019\u662f\u4e00\u500b\u4e0d\u6b63\u78ba\u7684 `absolute_value` \u7248\u672c\u3002"
   ]
  },
  {
   "cell_type": "code",
   "execution_count": null,
   "id": "6d913203",
   "metadata": {
    "lines_to_next_cell": 2
   },
   "outputs": [],
   "source": [
    "def absolute_value_wrong(x_val): # \u8b6f\u8a3b\uff1a\u53c3\u6578\u540d\u6539\u70ba x_val\n",
    "    if x_val < 0:\n",
    "        return -x_val\n",
    "    if x_val > 0: # \u8b6f\u8a3b\uff1a\u5982\u679c x_val \u662f 0\uff0c\u5169\u500b if \u90fd\u4e0d\u6703\u57f7\u884c\n",
    "        return x_val"
   ]
  },
  {
   "cell_type": "markdown",
   "id": "c519b8b5",
   "metadata": {},
   "source": [
    "\u5982\u679c\u6211\u5011\u7528 `0` \u4f5c\u70ba\u5f15\u6578\u547c\u53eb\u9019\u500b\u51fd\u5f0f\uff0c\u6703\u767c\u751f\u4ee5\u4e0b\u60c5\u6cc1\u3002"
   ]
  },
  {
   "cell_type": "code",
   "execution_count": null,
   "id": "e35789e2",
   "metadata": {
    "lines_to_next_cell": 2
   },
   "outputs": [],
   "source": [
    "absolute_value_wrong(0)"
   ]
  },
  {
   "cell_type": "markdown",
   "id": "a823694b",
   "metadata": {},
   "source": [
    "\u6211\u5011\u4ec0\u9ebc\u4e5f\u5f97\u4e0d\u5230\uff01\u554f\u984c\u5728\u9019\u88e1\uff1a\u7576 `x_val` \u662f `0` \u6642\uff0c\u5169\u500b\u689d\u4ef6\u90fd\u4e0d\u6210\u7acb\uff0c\u51fd\u5f0f\u5728\u6c92\u6709\u78b0\u5230 `return` \u9673\u8ff0\u53e5\u7684\u60c5\u6cc1\u4e0b\u7d50\u675f\uff0c\u9019\u610f\u5473\u8457\u56de\u50b3\u503c\u662f `None`\uff0c\u6240\u4ee5 Jupyter \u4ec0\u9ebc\u4e5f\u4e0d\u986f\u793a\u3002\n",
    "\n",
    "\u4f5c\u70ba\u53e6\u4e00\u500b\u4f8b\u5b50\uff0c\u9019\u88e1\u6709\u4e00\u500b\u5728\u7d50\u5c3e\u5e36\u6709\u984d\u5916 `return` \u9673\u8ff0\u53e5\u7684 `absolute_value` \u7248\u672c\u3002"
   ]
  },
  {
   "cell_type": "code",
   "execution_count": null,
   "id": "0ab3c92a",
   "metadata": {
    "lines_to_next_cell": 2
   },
   "outputs": [],
   "source": [
    "def absolute_value_extra_return(x_val): # \u8b6f\u8a3b\uff1a\u53c3\u6578\u540d\u6539\u70ba x_val\n",
    "    if x_val < 0:\n",
    "        return -x_val\n",
    "    else:\n",
    "        return x_val\n",
    "\n",
    "    return '\u9019\u662f\u6c38\u9060\u57f7\u884c\u4e0d\u5230\u7684\u7a0b\u5f0f\u78bc' # \u8b6f\u8a3b\uff1a\u5c07\u82f1\u6587\u6539\u70ba\u4e2d\u6587"
   ]
  },
  {
   "cell_type": "markdown",
   "id": "5a1fa7b8",
   "metadata": {},
   "source": [
    "\u5982\u679c `x_val` \u662f\u8ca0\u6578\uff0c\u7b2c\u4e00\u500b `return` \u9673\u8ff0\u53e5\u6703\u57f7\u884c\uff0c\u51fd\u5f0f\u7d50\u675f\u3002\n",
    "\u5426\u5247\u7b2c\u4e8c\u500b `return` \u9673\u8ff0\u53e5\u6703\u57f7\u884c\uff0c\u51fd\u5f0f\u7d50\u675f\u3002\n",
    "\u7121\u8ad6\u54ea\u7a2e\u65b9\u5f0f\uff0c\u6211\u5011\u6c38\u9060\u4e0d\u6703\u5230\u9054\u7b2c\u4e09\u500b `return` \u9673\u8ff0\u53e5\u2014\u2014\u6240\u4ee5\u5b83\u6c38\u9060\u4e0d\u6703\u57f7\u884c\u3002\n",
    "\n",
    "\u6c38\u9060\u7121\u6cd5\u57f7\u884c\u7684\u7a0b\u5f0f\u78bc\u7a31\u70ba **\u7121\u6548\u7a0b\u5f0f\u78bc** (dead code) \u6216 **\u6b7b\u78bc**\u3002\n",
    "\u4e00\u822c\u4f86\u8aaa\uff0c\u7121\u6548\u7a0b\u5f0f\u78bc\u4e0d\u6703\u9020\u6210\u4efb\u4f55\u50b7\u5bb3\uff0c\u4f46\u5b83\u901a\u5e38\u8868\u793a\u5b58\u5728\u8aa4\u89e3\uff0c\u4e26\u4e14\u53ef\u80fd\u6703\u8b93\u8a66\u5716\u7406\u89e3\u7a0b\u5f0f\u7684\u4eba\u611f\u5230\u56f0\u60d1\u3002"
   ]
  },
  {
   "cell_type": "markdown",
   "id": "4a866c8c",
   "metadata": {},
   "source": [
    "## \u6f38\u9032\u5f0f\u958b\u767c (Incremental development)\n",
    "\n",
    "\u7576\u4f60\u7de8\u5beb\u66f4\u5927\u7684\u51fd\u5f0f\u6642\uff0c\u4f60\u53ef\u80fd\u6703\u767c\u73fe\u81ea\u5df1\u82b1\u8cbb\u66f4\u591a\u6642\u9593\u5728\u9664\u932f\u4e0a\u3002\n",
    "\u70ba\u4e86\u8655\u7406\u65e5\u76ca\u8907\u96dc\u7684\u7a0b\u5f0f\uff0c\u4f60\u53ef\u80fd\u60f3\u5617\u8a66 **\u6f38\u9032\u5f0f\u958b\u767c** (incremental development)\uff0c\u9019\u662f\u4e00\u7a2e\u4e00\u6b21\u53ea\u589e\u52a0\u548c\u6e2c\u8a66\u5c11\u91cf\u7a0b\u5f0f\u78bc\u7684\u65b9\u6cd5\u3002\n",
    "\n",
    "\u8209\u500b\u4f8b\u5b50\uff0c\u5047\u8a2d\u4f60\u60f3\u627e\u51fa\u7531\u5ea7\u6a19 $(x_1, y_1)$ \u548c $(x_2, y_2)$ \u8868\u793a\u7684\u5169\u9ede\u4e4b\u9593\u7684\u8ddd\u96e2\u3002\n",
    "\u6839\u64da\u7562\u6c0f\u5b9a\u7406\uff0c\u8ddd\u96e2\u662f\uff1a\n",
    "\n",
    "$$\\mathrm{distance} = \\sqrt{(x_2 - x_1)^2 + (y_2 - y_1)^2}$$\n",
    "\n",
    "\u7b2c\u4e00\u6b65\u662f\u601d\u8003 `distance` \u51fd\u5f0f\u5728 Python \u4e2d\u61c9\u8a72\u662f\u4ec0\u9ebc\u6a23\u5b50\u2014\u2014\u4e5f\u5c31\u662f\u8aaa\uff0c\u8f38\u5165\uff08\u53c3\u6578\uff09\u662f\u4ec0\u9ebc\uff0c\u8f38\u51fa\uff08\u56de\u50b3\u503c\uff09\u662f\u4ec0\u9ebc\uff1f\n",
    "\n",
    "\u5c0d\u65bc\u9019\u500b\u51fd\u5f0f\uff0c\u8f38\u5165\u662f\u9ede\u7684\u5ea7\u6a19\u3002\n",
    "\u56de\u50b3\u503c\u662f\u8ddd\u96e2\u3002\n",
    "\u4f60\u53ef\u4ee5\u7acb\u5373\u5beb\u51fa\u51fd\u5f0f\u7684\u8f2a\u5ed3\uff1a"
   ]
  },
  {
   "cell_type": "code",
   "execution_count": null,
   "id": "2f010897",
   "metadata": {
    "lines_to_next_cell": 2
   },
   "outputs": [],
   "source": [
    "def distance(x1, y1, x2, y2):\n",
    "    return 0.0"
   ]
  },
  {
   "cell_type": "markdown",
   "id": "5ded99df",
   "metadata": {},
   "source": [
    "\u9019\u500b\u7248\u672c\u9084\u6c92\u6709\u8a08\u7b97\u8ddd\u96e2\u2014\u2014\u5b83\u7e3d\u662f\u56de\u50b3\u96f6\u3002\n",
    "\u4f46\u5b83\u662f\u4e00\u500b\u5e36\u6709\u56de\u50b3\u503c\u7684\u5b8c\u6574\u51fd\u5f0f\uff0c\u9019\u610f\u5473\u8457\u4f60\u53ef\u4ee5\u5728\u4f7f\u5176\u66f4\u8907\u96dc\u4e4b\u524d\u5c0d\u5176\u9032\u884c\u6e2c\u8a66\u3002\n",
    "\n",
    "\u70ba\u4e86\u6e2c\u8a66\u65b0\u7684\u51fd\u5f0f\uff0c\u6211\u5011\u5c07\u7528\u7bc4\u4f8b\u5f15\u6578\u547c\u53eb\u5b83\uff1a"
   ]
  },
  {
   "cell_type": "code",
   "execution_count": null,
   "id": "4c8ac848",
   "metadata": {
    "lines_to_next_cell": 2
   },
   "outputs": [],
   "source": [
    "distance(1, 2, 4, 6)"
   ]
  },
  {
   "cell_type": "markdown",
   "id": "30595189",
   "metadata": {},
   "source": [
    "\u6211\u9078\u64c7\u9019\u4e9b\u503c\u662f\u70ba\u4e86\u8b93\u6c34\u5e73\u8ddd\u96e2\u662f `3`\uff0c\u5782\u76f4\u8ddd\u96e2\u662f `4`\u3002\n",
    "\u9019\u6a23\uff0c\u7d50\u679c\u5c31\u662f `5`\uff0c\u4e00\u500b `3-4-5` \u76f4\u89d2\u4e09\u89d2\u5f62\u7684\u659c\u908a\u3002\u5728\u6e2c\u8a66\u51fd\u5f0f\u6642\uff0c\u77e5\u9053\u6b63\u78ba\u7b54\u6848\u5f88\u6709\u7528\u3002\n",
    "\n",
    "\u5230\u76ee\u524d\u70ba\u6b62\uff0c\u6211\u5011\u5df2\u7d93\u78ba\u8a8d\u51fd\u5f0f\u53ef\u4ee5\u57f7\u884c\u4e26\u56de\u50b3\u4e00\u500b\u503c\uff0c\u6211\u5011\u53ef\u4ee5\u958b\u59cb\u5411\u4e3b\u9ad4\u4e2d\u6dfb\u52a0\u7a0b\u5f0f\u78bc\u4e86\u3002\n",
    "\u4e00\u500b\u597d\u7684\u4e0b\u4e00\u6b65\u662f\u627e\u51fa\u5dee\u503c `x2 - x1` \u548c `y2 - y1`\u3002\n",
    "\u9019\u88e1\u6709\u4e00\u500b\u7248\u672c\uff0c\u5c07\u9019\u4e9b\u503c\u5132\u5b58\u5728\u81e8\u6642\u8b8a\u6578\u4e2d\u4e26\u986f\u793a\u5b83\u5011\u3002"
   ]
  },
  {
   "cell_type": "code",
   "execution_count": null,
   "id": "e4254b59",
   "metadata": {
    "lines_to_next_cell": 2
   },
   "outputs": [],
   "source": [
    "def distance(x1, y1, x2, y2):\n",
    "    dx = x2 - x1\n",
    "    dy = y2 - y1\n",
    "    print('dx \u662f', dx) # \u8b6f\u8a3b\uff1a\u5c07\u82f1\u6587\u6539\u70ba\u4e2d\u6587\n",
    "    print('dy \u662f', dy)\n",
    "    return 0.0"
   ]
  },
  {
   "cell_type": "markdown",
   "id": "63fb54ae",
   "metadata": {},
   "source": [
    "\u5982\u679c\u51fd\u5f0f\u904b\u4f5c\u6b63\u5e38\uff0c\u5b83\u61c9\u8a72\u986f\u793a `dx \u662f 3` \u548c `dy \u662f 4`\u3002\n",
    "\u5982\u679c\u662f\u9019\u6a23\uff0c\u6211\u5011\u5c31\u77e5\u9053\u51fd\u5f0f\u5f97\u5230\u4e86\u6b63\u78ba\u7684\u5f15\u6578\u4e26\u4e14\u6b63\u78ba\u5730\u57f7\u884c\u4e86\u7b2c\u4e00\u500b\u8a08\u7b97\u3002\u5982\u679c\u4e0d\u662f\uff0c\u53ea\u9700\u8981\u6aa2\u67e5\u5e7e\u884c\u7a0b\u5f0f\u78bc\u3002"
   ]
  },
  {
   "cell_type": "code",
   "execution_count": null,
   "id": "84eb78df",
   "metadata": {
    "lines_to_next_cell": 2
   },
   "outputs": [],
   "source": [
    "distance(1, 2, 4, 6)"
   ]
  },
  {
   "cell_type": "markdown",
   "id": "1454cee0",
   "metadata": {},
   "source": [
    "\u76ee\u524d\u70ba\u6b62\u9084\u4e0d\u932f\u3002\u63a5\u4e0b\u4f86\u6211\u5011\u8a08\u7b97 `dx` \u548c `dy` \u7684\u5e73\u65b9\u548c\uff1a"
   ]
  },
  {
   "cell_type": "code",
   "execution_count": null,
   "id": "0c533e4d",
   "metadata": {
    "lines_to_next_cell": 2
   },
   "outputs": [],
   "source": [
    "def distance(x1, y1, x2, y2):\n",
    "    dx = x2 - x1\n",
    "    dy = y2 - y1\n",
    "    dsquared = dx**2 + dy**2\n",
    "    print('dsquared \u662f\uff1a', dsquared) # \u8b6f\u8a3b\uff1a\u5c07\u82f1\u6587\u6539\u70ba\u4e2d\u6587\n",
    "    return 0.0"
   ]
  },
  {
   "cell_type": "markdown",
   "id": "1a5c18bd",
   "metadata": {},
   "source": [
    "\u540c\u6a23\uff0c\u6211\u5011\u53ef\u4ee5\u57f7\u884c\u51fd\u5f0f\u4e26\u6aa2\u67e5\u8f38\u51fa\uff0c\u8f38\u51fa\u61c9\u8a72\u662f `25`\u3002"
   ]
  },
  {
   "cell_type": "code",
   "execution_count": null,
   "id": "714da78f",
   "metadata": {
    "lines_to_next_cell": 2
   },
   "outputs": [],
   "source": [
    "distance(1, 2, 4, 6)"
   ]
  },
  {
   "cell_type": "markdown",
   "id": "897a8d10",
   "metadata": {},
   "source": [
    "\u6700\u5f8c\uff0c\u6211\u5011\u53ef\u4ee5\u4f7f\u7528 `math.sqrt` \u4f86\u8a08\u7b97\u8ddd\u96e2\uff1a"
   ]
  },
  {
   "cell_type": "code",
   "execution_count": null,
   "id": "8c02b02a",
   "metadata": {
    "lines_to_next_cell": 2
   },
   "outputs": [],
   "source": [
    "def distance(x1, y1, x2, y2):\n",
    "    dx = x2 - x1\n",
    "    dy = y2 - y1\n",
    "    dsquared = dx**2 + dy**2\n",
    "    result_val = math.sqrt(dsquared) # \u8b6f\u8a3b\uff1a\u8b8a\u6578\u540d\u6539\u70ba result_val\n",
    "    print(\"result_val \u662f\", result_val) # \u8b6f\u8a3b\uff1a\u5c07\u82f1\u6587\u6539\u70ba\u4e2d\u6587"
   ]
  },
  {
   "cell_type": "markdown",
   "id": "b989ab4a",
   "metadata": {},
   "source": [
    "\u4e26\u6e2c\u8a66\u5b83\u3002"
   ]
  },
  {
   "cell_type": "code",
   "execution_count": null,
   "id": "b63af71f",
   "metadata": {
    "lines_to_next_cell": 2
   },
   "outputs": [],
   "source": [
    "distance(1, 2, 4, 6)"
   ]
  },
  {
   "cell_type": "markdown",
   "id": "6d5e2c1b",
   "metadata": {},
   "source": [
    "\u7d50\u679c\u662f\u6b63\u78ba\u7684\uff0c\u4f46\u662f\u9019\u500b\u7248\u672c\u7684\u51fd\u5f0f\u662f\u986f\u793a\u7d50\u679c\u800c\u4e0d\u662f\u56de\u50b3\u5b83\uff0c\u6240\u4ee5\u56de\u50b3\u503c\u662f `None`\u3002\n",
    "\n",
    "\u6211\u5011\u53ef\u4ee5\u900f\u904e\u5c07 `print` \u51fd\u5f0f\u66ff\u63db\u70ba `return` \u9673\u8ff0\u53e5\u4f86\u4fee\u6b63\u9019\u500b\u554f\u984c\u3002"
   ]
  },
  {
   "cell_type": "code",
   "execution_count": null,
   "id": "12a4a58a",
   "metadata": {
    "lines_to_next_cell": 2
   },
   "outputs": [],
   "source": [
    "def distance(x1, y1, x2, y2):\n",
    "    dx = x2 - x1\n",
    "    dy = y2 - y1\n",
    "    dsquared = dx**2 + dy**2\n",
    "    result_val = math.sqrt(dsquared) # \u8b6f\u8a3b\uff1a\u8b8a\u6578\u540d\u6539\u70ba result_val\n",
    "    return result_val"
   ]
  },
  {
   "cell_type": "markdown",
   "id": "a5128b25",
   "metadata": {},
   "source": [
    "\u9019\u500b\u7248\u672c\u7684 `distance` \u662f\u4e00\u500b\u7d14\u51fd\u5f0f\u3002\n",
    "\u5982\u679c\u6211\u5011\u50cf\u9019\u6a23\u547c\u53eb\u5b83\uff0c\u53ea\u6703\u986f\u793a\u7d50\u679c\u3002"
   ]
  },
  {
   "cell_type": "code",
   "execution_count": null,
   "id": "c9c1768f",
   "metadata": {
    "lines_to_next_cell": 2
   },
   "outputs": [],
   "source": [
    "distance(1, 2, 4, 6)"
   ]
  },
  {
   "cell_type": "markdown",
   "id": "6e715f3e",
   "metadata": {},
   "source": [
    "\u5982\u679c\u6211\u5011\u5c07\u7d50\u679c\u8ce6\u4e88\u7d66\u4e00\u500b\u8b8a\u6578\uff0c\u5247\u4ec0\u9ebc\u4e5f\u4e0d\u6703\u986f\u793a\u3002"
   ]
  },
  {
   "cell_type": "code",
   "execution_count": null,
   "id": "e4110060",
   "metadata": {
    "lines_to_next_cell": 2
   },
   "outputs": [],
   "source": [
    "d = distance(1, 2, 4, 6)"
   ]
  },
  {
   "cell_type": "markdown",
   "id": "5dbe2fdf",
   "metadata": {},
   "source": [
    "\u6211\u5011\u7de8\u5beb\u7684 `print` \u9673\u8ff0\u53e5\u5c0d\u65bc\u9664\u932f\u5f88\u6709\u7528\uff0c\u4f46\u662f\u4e00\u65e6\u51fd\u5f0f\u904b\u4f5c\u6b63\u5e38\uff0c\u6211\u5011\u5c31\u53ef\u4ee5\u79fb\u9664\u5b83\u5011\u3002\n",
    "\u50cf\u9019\u6a23\u7684\u7a0b\u5f0f\u78bc\u7a31\u70ba **\u9df9\u67b6** (scaffolding)\uff0c\u56e0\u70ba\u5b83\u6709\u52a9\u65bc\u5efa\u69cb\u7a0b\u5f0f\uff0c\u4f46\u4e0d\u662f\u6700\u7d42\u7522\u54c1\u7684\u4e00\u90e8\u5206\u3002\n",
    "\n",
    "\u9019\u500b\u4f8b\u5b50\u5c55\u793a\u4e86\u6f38\u9032\u5f0f\u958b\u767c\u3002\n",
    "\u9019\u500b\u904e\u7a0b\u7684\u95dc\u9375\u65b9\u9762\u662f\uff1a\n",
    "\n",
    "1.  \u5f9e\u4e00\u500b\u53ef\u904b\u4f5c\u7684\u7a0b\u5f0f\u958b\u59cb\uff0c\u9032\u884c\u5c0f\u7684\u66f4\u6539\uff0c\u4e26\u5728\u6bcf\u6b21\u66f4\u6539\u5f8c\u9032\u884c\u6e2c\u8a66\u3002\n",
    "\n",
    "2.  \u4f7f\u7528\u8b8a\u6578\u4f86\u5132\u5b58\u4e2d\u9593\u503c\uff0c\u4ee5\u4fbf\u4f60\u53ef\u4ee5\u986f\u793a\u548c\u6aa2\u67e5\u5b83\u5011\u3002\n",
    "\n",
    "3.  \u4e00\u65e6\u7a0b\u5f0f\u904b\u4f5c\u6b63\u5e38\uff0c\u79fb\u9664\u9df9\u67b6\u3002\n",
    "\n",
    "\u5728\u4efb\u4f55\u6642\u5019\uff0c\u5982\u679c\u51fa\u73fe\u932f\u8aa4\uff0c\u4f60\u90fd\u61c9\u8a72\u5f88\u6e05\u695a\u554f\u984c\u51fa\u5728\u54ea\u88e1\u3002\n",
    "\u6f38\u9032\u5f0f\u958b\u767c\u53ef\u4ee5\u70ba\u4f60\u7bc0\u7701\u5927\u91cf\u7684\u9664\u932f\u6642\u9593\u3002"
   ]
  },
  {
   "cell_type": "markdown",
   "id": "6c6a1bff",
   "metadata": {},
   "source": [
    "## \u5e03\u6797\u51fd\u5f0f (Boolean functions)\n",
    "\n",
    "\u51fd\u5f0f\u53ef\u4ee5\u56de\u50b3\u5e03\u6797\u503c `True` \u548c `False`\uff0c\u9019\u901a\u5e38\u5f88\u65b9\u4fbf\u5730\u5c07\u8907\u96dc\u7684\u6e2c\u8a66\u5c01\u88dd\u5728\u51fd\u5f0f\u4e2d\u3002\n",
    "\u4f8b\u5982\uff0c`is_divisible` \u6aa2\u67e5 `x` \u662f\u5426\u80fd\u88ab `y` \u6574\u9664\u800c\u6c92\u6709\u9918\u6578\u3002"
   ]
  },
  {
   "cell_type": "code",
   "execution_count": null,
   "id": "69abe663",
   "metadata": {
    "lines_to_next_cell": 2
   },
   "outputs": [],
   "source": [
    "def is_divisible(x_val, y_val): # \u8b6f\u8a3b\uff1a\u53c3\u6578\u540d\u4fee\u6539\n",
    "    if x_val % y_val == 0:\n",
    "        return True\n",
    "    else:\n",
    "        return False"
   ]
  },
  {
   "cell_type": "markdown",
   "id": "ca79ea1e",
   "metadata": {},
   "source": [
    "\u6211\u5011\u53ef\u4ee5\u9019\u6a23\u4f7f\u7528\u5b83\u3002"
   ]
  },
  {
   "cell_type": "code",
   "execution_count": null,
   "id": "87db15c3",
   "metadata": {
    "lines_to_next_cell": 2
   },
   "outputs": [],
   "source": [
    "is_divisible(6, 4)"
   ]
  },
  {
   "cell_type": "code",
   "execution_count": null,
   "id": "61a855b7",
   "metadata": {
    "lines_to_next_cell": 2
   },
   "outputs": [],
   "source": [
    "is_divisible(6, 3)"
   ]
  },
  {
   "cell_type": "markdown",
   "id": "e35ca442",
   "metadata": {},
   "source": [
    "\u5728\u51fd\u5f0f\u5167\u90e8\uff0c`==` \u904b\u7b97\u5b50\u7684\u7d50\u679c\u662f\u4e00\u500b\u5e03\u6797\u503c\uff0c\u6240\u4ee5\u6211\u5011\u53ef\u4ee5\u900f\u904e\u76f4\u63a5\u56de\u50b3\u5b83\u4f86\u66f4\u7c21\u6f54\u5730\u7de8\u5beb\n",
    "\u51fd\u5f0f\u3002"
   ]
  },
  {
   "cell_type": "code",
   "execution_count": null,
   "id": "1cc03cc4",
   "metadata": {
    "lines_to_next_cell": 2
   },
   "outputs": [],
   "source": [
    "def is_divisible(x_val, y_val): # \u8b6f\u8a3b\uff1a\u53c3\u6578\u540d\u4fee\u6539\n",
    "    return x_val % y_val == 0"
   ]
  },
  {
   "cell_type": "markdown",
   "id": "1ae416c0",
   "metadata": {},
   "source": [
    "\u5e03\u6797\u51fd\u5f0f\u7d93\u5e38\u7528\u65bc\u689d\u4ef6\u9673\u8ff0\u53e5\u4e2d\u3002"
   ]
  },
  {
   "cell_type": "code",
   "execution_count": null,
   "id": "21d866df",
   "metadata": {
    "lines_to_next_cell": 2
   },
   "outputs": [],
   "source": [
    "if is_divisible(6, 2):\n",
    "    print('\u53ef\u4ee5\u6574\u9664') # \u8b6f\u8a3b\uff1a\u5c07\u82f1\u6587\u6539\u70ba\u4e2d\u6587"
   ]
  },
  {
   "cell_type": "markdown",
   "id": "a82b6d63",
   "metadata": {},
   "source": [
    "\u6709\u4eba\u53ef\u80fd\u6703\u60f3\u9019\u6a23\u5beb\uff1a"
   ]
  },
  {
   "cell_type": "code",
   "execution_count": null,
   "id": "85f92b45",
   "metadata": {
    "lines_to_next_cell": 2
   },
   "outputs": [],
   "source": [
    "if is_divisible(6, 2) == True: # \u8b6f\u8a3b\uff1a\u591a\u6b64\u4e00\u8209\u7684\u6bd4\u8f03\n",
    "    print('\u53ef\u4ee5\u6574\u9664')"
   ]
  },
  {
   "cell_type": "markdown",
   "id": "3578e393",
   "metadata": {},
   "source": [
    "\u4f46\u662f\u9019\u500b\u6bd4\u8f03\u662f\u4e0d\u5fc5\u8981\u7684\u3002"
   ]
  },
  {
   "cell_type": "markdown",
   "id": "91c7832e",
   "metadata": {},
   "source": [
    "## \u5e36\u6709\u56de\u50b3\u503c\u7684\u905e\u8ff4\n",
    "\n",
    "\u73fe\u5728\u6211\u5011\u53ef\u4ee5\u7de8\u5beb\u5e36\u6709\u56de\u50b3\u503c\u7684\u51fd\u5f0f\u4e86\uff0c\u6211\u5011\u4e5f\u53ef\u4ee5\u7de8\u5beb\u5e36\u6709\u56de\u50b3\u503c\u7684\u905e\u8ff4\u51fd\u5f0f\uff0c\u6709\u4e86\u9019\u500b\u80fd\u529b\uff0c\u6211\u5011\u5c31\u8de8\u904e\u4e86\u4e00\u500b\u91cd\u8981\u7684\u9580\u6abb\u2014\u2014\u6211\u5011\u6240\u64c1\u6709\u7684 Python \u5b50\u96c6\u73fe\u5728\u662f **\u5716\u9748\u5b8c\u5099** (Turing complete) \u7684\uff0c\u9019\u610f\u5473\u8457\u6211\u5011\u53ef\u4ee5\u57f7\u884c\u4efb\u4f55\u53ef\u4ee5\u7528\u6f14\u7b97\u6cd5\u63cf\u8ff0\u7684\u8a08\u7b97\u3002\n",
    "\n",
    "\u70ba\u4e86\u5c55\u793a\u5e36\u6709\u56de\u50b3\u503c\u7684\u905e\u8ff4\uff0c\u6211\u5011\u5c07\u8a55\u4f30\u4e00\u4e9b\u905e\u8ff4\u5b9a\u7fa9\u7684\u6578\u5b78\u51fd\u5f0f\u3002\n",
    "\u905e\u8ff4\u5b9a\u7fa9\u985e\u4f3c\u65bc\u5faa\u74b0\u5b9a\u7fa9\uff0c\u56e0\u70ba\u5b9a\u7fa9\u4e2d\u6703\u5f15\u7528\u88ab\u5b9a\u7fa9\u7684\u4e8b\u7269\u3002\u4e00\u500b\u771f\u6b63\u7684\u5faa\u74b0\u5b9a\u7fa9\u4e26\u4e0d\u662f\u5f88\u6709\u7528\uff1a\n",
    "\n",
    "> \u6c83\u6cca\u723e (vorpal)\uff1a\u4e00\u500b\u7528\u4f86\u63cf\u8ff0\u67d0\u4e8b\u7269\u662f\u6c83\u6cca\u723e\u7684\u5f62\u5bb9\u8a5e\u3002\n",
    "\n",
    "\u5982\u679c\u4f60\u5728\u5b57\u5178\u88e1\u770b\u5230\u9019\u500b\u5b9a\u7fa9\uff0c\u4f60\u53ef\u80fd\u6703\u611f\u5230\u60f1\u706b\u3002\n",
    "\u53e6\u4e00\u65b9\u9762\uff0c\u5982\u679c\u4f60\u67e5\u95b1\u968e\u4e58\u51fd\u5f0f\u7684\u5b9a\u7fa9\uff0c\u7528\u7b26\u865f $!$ \u8868\u793a\uff0c\u4f60\u53ef\u80fd\u6703\u5f97\u5230\u9019\u6a23\u7684\u6771\u897f\uff1a\n",
    "\n",
    "$$\\begin{aligned}\n",
    "0! &= 1 \\\\\n",
    "n! &= n \\cdot (n-1)!\n",
    "\\end{aligned}$$\n",
    "\n",
    "\u9019\u500b\u5b9a\u7fa9\u8aaa $0$ \u7684\u968e\u4e58\u662f $1$\uff0c\u800c\u4efb\u4f55\u5176\u4ed6\u503c $n$ \u7684\u968e\u4e58\u662f $n$ \u4e58\u4ee5 $n-1$ \u7684\u968e\u4e58\u3002\n",
    "\n",
    "\u5982\u679c\u4f60\u80fd\u5beb\u51fa\u67d0\u4e8b\u7269\u7684\u905e\u8ff4\u5b9a\u7fa9\uff0c\u4f60\u5c31\u80fd\u5beb\u4e00\u500b Python \u7a0b\u5f0f\u4f86\u8a55\u4f30\u5b83\u3002\n",
    "\u9075\u5faa\u6f38\u9032\u5f0f\u958b\u767c\u7684\u904e\u7a0b\uff0c\u6211\u5011\u5c07\u5f9e\u4e00\u500b\u63a5\u53d7 `n` \u4f5c\u70ba\u53c3\u6578\u4e26\u7e3d\u662f\u56de\u50b3 `0` \u7684\u51fd\u5f0f\u958b\u59cb\u3002"
   ]
  },
  {
   "cell_type": "code",
   "execution_count": null,
   "id": "04aa86aa",
   "metadata": {
    "lines_to_next_cell": 2
   },
   "outputs": [],
   "source": [
    "def factorial(n_param): # \u8b6f\u8a3b\uff1a\u53c3\u6578\u540d\u4fee\u6539\n",
    "    return 0"
   ]
  },
  {
   "cell_type": "markdown",
   "id": "d165b839",
   "metadata": {},
   "source": [
    "\u73fe\u5728\u8b93\u6211\u5011\u52a0\u5165\u5b9a\u7fa9\u7684\u7b2c\u4e00\u90e8\u5206\u2014\u2014\u5982\u679c\u5f15\u6578\u6070\u597d\u662f `0`\uff0c\u6211\u5011\u53ea\u9700\u8981\u56de\u50b3 `1`\uff1a"
   ]
  },
  {
   "cell_type": "code",
   "execution_count": null,
   "id": "8a7604f2",
   "metadata": {
    "lines_to_next_cell": 2
   },
   "outputs": [],
   "source": [
    "def factorial(n_param): # \u8b6f\u8a3b\uff1a\u53c3\u6578\u540d\u4fee\u6539\n",
    "    if n_param == 0:\n",
    "        return 1\n",
    "    else:\n",
    "        return 0"
   ]
  },
  {
   "cell_type": "markdown",
   "id": "8730493e",
   "metadata": {},
   "source": [
    "\u73fe\u5728\u8b93\u6211\u5011\u586b\u5beb\u7b2c\u4e8c\u90e8\u5206\u2014\u2014\u5982\u679c `n_param` \u4e0d\u662f `0`\uff0c\u6211\u5011\u5fc5\u9808\u9032\u884c\u905e\u8ff4\n",
    "\u547c\u53eb\u4f86\u627e\u51fa `n_param-1` \u7684\u968e\u4e58\uff0c\u7136\u5f8c\u5c07\u7d50\u679c\u4e58\u4ee5 `n_param`\uff1a"
   ]
  },
  {
   "cell_type": "code",
   "execution_count": null,
   "id": "c03eebba",
   "metadata": {
    "lines_to_next_cell": 2
   },
   "outputs": [],
   "source": [
    "def factorial(n_param): # \u8b6f\u8a3b\uff1a\u53c3\u6578\u540d\u4fee\u6539\n",
    "    if n_param == 0:\n",
    "        return 1\n",
    "    else:\n",
    "        recurse_result = factorial(n_param-1) # \u8b6f\u8a3b\uff1a\u8b8a\u6578\u540d\u4fee\u6539\n",
    "        return n_param * recurse_result"
   ]
  },
  {
   "cell_type": "markdown",
   "id": "28fe2ea0",
   "metadata": {},
   "source": [
    "\u9019\u500b\u7a0b\u5f0f\u7684\u57f7\u884c\u6d41\u7a0b\u985e\u4f3c\u65bc\u7b2c 5 \u7ae0\u4e2d `countdown` \u7684\u6d41\u7a0b\u3002\n",
    "\u5982\u679c\u6211\u5011\u7528\u503c `3` \u547c\u53eb `factorial`\uff1a\n",
    "\n",
    "\u7531\u65bc `3` \u4e0d\u662f `0`\uff0c\u6211\u5011\u8d70\u7b2c\u4e8c\u500b\u5206\u652f\u4e26\u8a08\u7b97\n",
    "`n_param-1` \u7684\u968e\u4e58\u2026\n",
    "\n",
    "> \u7531\u65bc `2` \u4e0d\u662f `0`\uff0c\u6211\u5011\u8d70\u7b2c\u4e8c\u500b\u5206\u652f\u4e26\u8a08\u7b97\n",
    "> `n_param-1` \u7684\u968e\u4e58\u2026\n",
    ">\n",
    "> > \u7531\u65bc `1` \u4e0d\u662f `0`\uff0c\u6211\u5011\u8d70\u7b2c\u4e8c\u500b\u5206\u652f\u4e26\u8a08\u7b97\n",
    "> > `n_param-1` \u7684\u968e\u4e58\u2026\n",
    "> >\n",
    "> > > \u7531\u65bc `0` \u7b49\u65bc `0`\uff0c\u6211\u5011\u8d70\u7b2c\u4e00\u500b\u5206\u652f\u4e26\u56de\u50b3 `1` \u800c\u4e0d\n",
    "> > > \u9032\u884c\u4efb\u4f55\u66f4\u591a\u7684\u905e\u8ff4\u547c\u53eb\u3002\n",
    "> >\n",
    "> > \u56de\u50b3\u503c `1` \u4e58\u4ee5 `n_param`\uff08\u5373 `1`\uff09\uff0c\u7d50\u679c\u88ab\u56de\u50b3\u3002\n",
    ">\n",
    "> \u56de\u50b3\u503c `1` \u4e58\u4ee5 `n_param`\uff08\u5373 `2`\uff09\uff0c\u7d50\u679c\u88ab\u56de\u50b3\u3002\n",
    "\n",
    "\u56de\u50b3\u503c `2` \u4e58\u4ee5 `n_param`\uff08\u5373 `3`\uff09\uff0c\u7d50\u679c `6` \u6210\u70ba\u555f\u52d5\u6574\u500b\n",
    "\u904e\u7a0b\u7684\u51fd\u5f0f\u547c\u53eb\u7684\u56de\u50b3\u503c\u3002\n",
    "\n",
    "\u4e0b\u5716\u986f\u793a\u4e86\u6b64\u51fd\u5f0f\u547c\u53eb\u5e8f\u5217\u7684\u5806\u758a\u5716\u3002"
   ]
  },
  {
   "cell_type": "code",
   "execution_count": null,
   "id": "249c63f2",
   "metadata": {},
   "outputs": [],
   "source": [
    "from diagram import Frame, Stack, make_binding # \u8b6f\u8a3b\uff1a\u9019\u662f\u66f8\u4e2d\u7528\u4f86\u756b\u5716\u7684\u5de5\u5177"
   ]
  },
  {
   "cell_type": "code",
   "execution_count": null,
   "id": "23351799",
   "metadata": {},
   "outputs": [],
   "source": [
    "main_frame = Frame([], name='__main__', loc='left') # \u8b6f\u8a3b\uff1a\u8b8a\u6578\u540d\u4fee\u6539\n",
    "frames = [main_frame]"
   ]
  },
  {
   "cell_type": "code",
   "execution_count": null,
   "id": "00c3aa7b",
   "metadata": {},
   "outputs": [],
   "source": [
    "ns_vals = [3, 2, 1] # \u8b6f\u8a3b\uff1a\u8b8a\u6578\u540d\u4fee\u6539\n",
    "recurses_vals = [2, 1, 1] # \u8b6f\u8a3b\uff1a\u8b8a\u6578\u540d\u4fee\u6539\n",
    "results_vals = [6, 2, 1] # \u8b6f\u8a3b\uff1a\u8b8a\u6578\u540d\u4fee\u6539"
   ]
  },
  {
   "cell_type": "code",
   "execution_count": null,
   "id": "d05961a0",
   "metadata": {},
   "outputs": [],
   "source": [
    "for n_val, recurse_val, result_val in zip(ns_vals, recurses_vals, results_vals):\n",
    "    binding1 = make_binding('n_param', n_val) # \u8b6f\u8a3b\uff1a\u4f7f\u7528\u4fee\u6539\u5f8c\u7684\u53c3\u6578\u540d\n",
    "    binding2 = make_binding('recurse_result', recurse_val) # \u8b6f\u8a3b\uff1a\u4f7f\u7528\u4fee\u6539\u5f8c\u7684\u8b8a\u6578\u540d\n",
    "    frame = Frame([binding1, binding2],\n",
    "                  name='factorial', value=result_val,\n",
    "                  loc='left', dx=1.2)\n",
    "    frames.append(frame)"
   ]
  },
  {
   "cell_type": "code",
   "execution_count": null,
   "id": "4423d967",
   "metadata": {},
   "outputs": [],
   "source": [
    "binding1 = make_binding('n_param', 0) # \u8b6f\u8a3b\uff1a\u4f7f\u7528\u4fee\u6539\u5f8c\u7684\u53c3\u6578\u540d\n",
    "frame = Frame([binding1], name='factorial', value=1,\n",
    "              shim=1.2, loc='left', dx=1.4)\n",
    "frames.append(frame)"
   ]
  },
  {
   "cell_type": "code",
   "execution_count": null,
   "id": "19fde9b4",
   "metadata": {
    "lines_to_next_cell": 2
   },
   "outputs": [],
   "source": [
    "stack = Stack(frames, dy=-0.45)"
   ]
  },
  {
   "cell_type": "code",
   "execution_count": null,
   "id": "44d3f7ba",
   "metadata": {},
   "outputs": [],
   "source": [
    "from diagram import diagram, adjust # \u8b6f\u8a3b\uff1a\u9019\u662f\u66f8\u4e2d\u7528\u4f86\u756b\u5716\u7684\u5de5\u5177"
   ]
  },
  {
   "cell_type": "code",
   "execution_count": null,
   "id": "94032ce5",
   "metadata": {
    "lines_to_next_cell": 2
   },
   "outputs": [],
   "source": [
    "width, height, x_pos, y_pos = [2.74, 2.26, 0.73, 2.05] # \u8b6f\u8a3b\uff1a\u8b8a\u6578\u540d\u4fee\u6539\n",
    "ax = diagram(width, height)\n",
    "bbox = stack.draw(ax, x_pos, y_pos)\n",
    "# adjust(x_pos, y_pos, bbox)"
   ]
  },
  {
   "cell_type": "markdown",
   "id": "708d321b",
   "metadata": {},
   "source": [
    "\u56de\u50b3\u503c\u986f\u793a\u70ba\u6cbf\u8457\u5806\u758a\u5411\u4e0a\u4f20\u905e\u3002\n",
    "\u5728\u6bcf\u500b\u6846\u67b6\u4e2d\uff0c\u56de\u50b3\u503c\u662f `n_param` \u548c `recurse_result` \u7684\u4e58\u7a4d\u3002\n",
    "\n",
    "\u5728\u6700\u5f8c\u4e00\u500b\u6846\u67b6\u4e2d\uff0c\u5340\u57df\u8b8a\u6578 `recurse_result` \u4e0d\u5b58\u5728\uff0c\u56e0\u70ba\u5275\u5efa\u5b83\u7684\u5206\u652f\u6c92\u6709\u57f7\u884c\u3002"
   ]
  },
  {
   "cell_type": "markdown",
   "id": "c5bebcb3",
   "metadata": {},
   "source": [
    "## \u4fe1\u5ff5\u4e4b\u8e8d (Leap of faith)\n",
    "\n",
    "\u8ffd\u8e64\u57f7\u884c\u6d41\u7a0b\u662f\u95b1\u8b80\u7a0b\u5f0f\u7684\u4e00\u7a2e\u65b9\u5f0f\uff0c\u4f46\u5b83\u5f88\u5feb\u5c31\u6703\u8b93\u4eba\u4e0d\u77e5\u6240\u63aa\u3002\u53e6\u4e00\u7a2e\u65b9\u6cd5\u662f\u6211\u7a31\u4e4b\u70ba\u300c\u4fe1\u5ff5\u4e4b\u8e8d\u300d\u3002\u7576\u4f60\u9047\u5230\u51fd\u5f0f\u547c\u53eb\u6642\uff0c\u4e0d\u8981\u8ffd\u8e64\u57f7\u884c\u6d41\u7a0b\uff0c\u800c\u662f*\u5047\u8a2d*\u51fd\u5f0f\u904b\u4f5c\u6b63\u5e38\u4e26\u56de\u50b3\u6b63\u78ba\u7684\u7d50\u679c\u3002\n",
    "\n",
    "\u4e8b\u5be6\u4e0a\uff0c\u7576\u4f60\u4f7f\u7528\u5167\u5efa\u51fd\u5f0f\u6642\uff0c\u4f60\u5df2\u7d93\u5728\u5be6\u8e10\u9019\u7a2e\u4fe1\u5ff5\u4e4b\u8e8d\u4e86\u3002\n",
    "\u7576\u4f60\u547c\u53eb `abs` \u6216 `math.sqrt` \u6642\uff0c\u4f60\u4e0d\u6703\u6aa2\u67e5\u90a3\u4e9b\u51fd\u5f0f\u7684\u4e3b\u9ad4\u2014\u2014\u4f60\u53ea\u662f\u5047\u8a2d\u5b83\u5011\u53ef\u4ee5\u904b\u4f5c\u3002\n",
    "\n",
    "\u7576\u4f60\u547c\u53eb\u81ea\u5df1\u7684\u51fd\u5f0f\u6642\u4e5f\u662f\u5982\u6b64\u3002\u4f8b\u5982\uff0c\u524d\u9762\u6211\u5011\u5beb\u4e86\u4e00\u500b\u540d\u70ba `is_divisible` \u7684\u51fd\u5f0f\uff0c\u5b83\u5224\u65b7\u4e00\u500b\u6578\u5b57\u662f\u5426\u80fd\u88ab\u53e6\u4e00\u500b\u6578\u5b57\u6574\u9664\u3002\u4e00\u65e6\u6211\u5011\u78ba\u4fe1\u9019\u500b\u51fd\u5f0f\u662f\u6b63\u78ba\u7684\uff0c\u6211\u5011\u5c31\u53ef\u4ee5\u518d\u6b21\u4f7f\u7528\u5b83\u800c\u7121\u9700\u67e5\u770b\u5176\u4e3b\u9ad4\u3002\n",
    "\n",
    "\u905e\u8ff4\u7a0b\u5f0f\u4e5f\u662f\u5982\u6b64\u3002\n",
    "\u7576\u4f60\u5230\u9054\u905e\u8ff4\u547c\u53eb\u6642\uff0c\u4e0d\u8981\u8ffd\u8e64\u57f7\u884c\u6d41\u7a0b\uff0c\u4f60\u61c9\u8a72\u5047\u8a2d\u905e\u8ff4\u547c\u53eb\u53ef\u4ee5\u904b\u4f5c\uff0c\u7136\u5f8c\u554f\u81ea\u5df1\uff1a\u300c\u5047\u8a2d\u6211\u53ef\u4ee5\u8a08\u7b97 $n-1$ \u7684\u968e\u4e58\uff0c\u6211\u80fd\u8a08\u7b97 $n$ \u7684\u968e\u4e58\u55ce\uff1f\u300d\n",
    "\u968e\u4e58\u7684\u905e\u8ff4\u5b9a\u7fa9\u610f\u5473\u8457\u4f60\u53ef\u4ee5\uff0c\u900f\u904e\u4e58\u4ee5 $n$\u3002\n",
    "\n",
    "\u7576\u7136\uff0c\u5728\u4f60\u9084\u6c92\u5beb\u5b8c\u51fd\u5f0f\u7684\u6642\u5019\u5c31\u5047\u8a2d\u5b83\u80fd\u6b63\u78ba\u904b\u4f5c\u6709\u9ede\u5947\u602a\uff0c\u4f46\u9019\u5c31\u662f\u70ba\u4ec0\u9ebc\u5b83\u88ab\u7a31\u70ba\u4fe1\u5ff5\u4e4b\u8e8d\uff01"
   ]
  },
  {
   "cell_type": "markdown",
   "id": "0126e441",
   "metadata": {},
   "source": [
    "## \u8cbb\u6c0f\u6578\u5217 (Fibonacci)\n",
    "\n",
    "\u5728 `factorial` \u4e4b\u5f8c\uff0c\u6700\u5e38\u898b\u7684\u905e\u8ff4\u51fd\u5f0f\u7bc4\u4f8b\u662f `fibonacci`\uff0c\u5b83\u6709\u4ee5\u4e0b\u5b9a\u7fa9\uff1a\n",
    "\n",
    "$$\\begin{aligned}\n",
    "\\mathrm{fibonacci}(0) &= 0 \\\\\n",
    "\\mathrm{fibonacci}(1) &= 1 \\\\\n",
    "\\mathrm{fibonacci}(n) &= \\mathrm{fibonacci}(n-1) + \\mathrm{fibonacci}(n-2)\n",
    "\\end{aligned}$$\n",
    "\n",
    "\u8f49\u63db\u6210 Python\uff0c\u5b83\u770b\u8d77\u4f86\u50cf\u9019\u6a23\uff1a"
   ]
  },
  {
   "cell_type": "code",
   "execution_count": null,
   "id": "00f07da7",
   "metadata": {
    "lines_to_next_cell": 2
   },
   "outputs": [],
   "source": [
    "def fibonacci(n_param): # \u8b6f\u8a3b\uff1a\u53c3\u6578\u540d\u4fee\u6539\n",
    "    if n_param == 0:\n",
    "        return 0\n",
    "    elif  n_param == 1:\n",
    "        return 1\n",
    "    else:\n",
    "        return fibonacci(n_param-1) + fibonacci(n_param-2)"
   ]
  },
  {
   "cell_type": "markdown",
   "id": "bdc2e737",
   "metadata": {},
   "source": [
    "\u5982\u679c\u4f60\u8a66\u5716\u5728\u9019\u88e1\u8ffd\u8e64\u57f7\u884c\u6d41\u7a0b\uff0c\u5373\u4f7f\u662f\u5f88\u5c0f\u7684 $n_param$ \u503c\uff0c\u4f60\u7684\u8166\u888b\u4e5f\u6703\u7206\u70b8\u3002\n",
    "\u4f46\u662f\u6839\u64da\u4fe1\u5ff5\u4e4b\u8e8d\uff0c\u5982\u679c\u4f60\u5047\u8a2d\u5169\u500b\u905e\u8ff4\u547c\u53eb\u90fd\u80fd\u6b63\u78ba\u904b\u4f5c\uff0c\u4f60\u5c31\u53ef\u4ee5\u78ba\u4fe1\u6700\u5f8c\u7684 `return` \u9673\u8ff0\u53e5\u662f\u6b63\u78ba\u7684\u3002\n",
    "\n",
    "\u9806\u5e36\u4e00\u63d0\uff0c\u9019\u7a2e\u8a08\u7b97\u8cbb\u6c0f\u6578\u5217\u7684\u65b9\u6cd5\u975e\u5e38\u6c92\u6709\u6548\u7387\u3002\n",
    "\u5728[\u7b2c 10 \u7ae0](section_memos)\u4e2d\uff0c\u6211\u5c07\u89e3\u91cb\u539f\u56e0\u4e26\u63d0\u51fa\u6539\u9032\u65b9\u6cd5\u3002 (\u8b6f\u8a3b\uff1a\u6b64\u8655\u7684 section_memos \u662f\u66f8\u4e2d\u9023\u7d50)"
   ]
  },
  {
   "cell_type": "markdown",
   "id": "b3d24cb1",
   "metadata": {},
   "source": [
    "## \u6aa2\u67e5\u578b\u5225\n",
    "\n",
    "\u5982\u679c\u6211\u5011\u547c\u53eb `factorial` \u4e26\u7d66\u5b83 `1.5` \u4f5c\u70ba\u5f15\u6578\u6703\u767c\u751f\u4ec0\u9ebc\u4e8b\uff1f"
   ]
  },
  {
   "cell_type": "markdown",
   "id": "e0f672e4",
   "metadata": {
    "lines_to_next_cell": 2
   },
   "source": [
    "get_ipython().run_cell_magic('expect', 'RecursionError', '\\nfactorial(1.5)\\n')\n",
    "\u8b6f\u8a3b\uff1a\u9810\u671f RecursionError"
   ]
  },
  {
   "cell_type": "markdown",
   "id": "9daedc65",
   "metadata": {},
   "source": [
    "\u770b\u8d77\u4f86\u50cf\u662f\u7121\u7aae\u905e\u8ff4\u3002\u600e\u9ebc\u6703\u9019\u6a23\u5462\uff1f\u51fd\u5f0f\u5728 `n_param == 1` \u6216 `n_param == 0` \u6642\u6709\u57fa\u790e\u6848\u4f8b\u3002\n",
    "\u4f46\u662f\u5982\u679c `n_param` \u4e0d\u662f\u6574\u6578\uff0c\u6211\u5011\u53ef\u80fd\u6703*\u932f\u904e*\u57fa\u790e\u6848\u4f8b\u4e26\u6c38\u9060\u905e\u8ff4\u4e0b\u53bb\u3002\n",
    "\n",
    "\u5728\u9019\u500b\u4f8b\u5b50\u4e2d\uff0c`n_param` \u7684\u521d\u59cb\u503c\u662f `1.5`\u3002\n",
    "\u5728\u7b2c\u4e00\u6b21\u905e\u8ff4\u547c\u53eb\u4e2d\uff0c`n_param` \u7684\u503c\u662f `0.5`\u3002\n",
    "\u5728\u4e0b\u4e00\u6b21\uff0c\u5b83\u662f `-0.5`\u3002\n",
    "\u5f9e\u90a3\u88e1\u958b\u59cb\uff0c\u5b83\u8b8a\u5f97\u8d8a\u4f86\u8d8a\u5c0f\uff08\u8d8a\u4f86\u8d8a\u8ca0\uff09\uff0c\u4f46\u5b83\u6c38\u9060\u4e0d\u6703\u662f `0`\u3002\n",
    "\n",
    "\u70ba\u4e86\u907f\u514d\u7121\u7aae\u905e\u8ff4\uff0c\u6211\u5011\u53ef\u4ee5\u4f7f\u7528\u5167\u5efa\u51fd\u5f0f `isinstance` \u4f86\u6aa2\u67e5\u5f15\u6578\u7684\u578b\u5225\u3002\n",
    "\u9019\u662f\u6211\u5011\u6aa2\u67e5\u4e00\u500b\u503c\u662f\u5426\u70ba\u6574\u6578\u7684\u65b9\u6cd5\u3002"
   ]
  },
  {
   "cell_type": "code",
   "execution_count": null,
   "id": "da92aa7d",
   "metadata": {
    "lines_to_next_cell": 2
   },
   "outputs": [],
   "source": [
    "isinstance(3, int)"
   ]
  },
  {
   "cell_type": "code",
   "execution_count": null,
   "id": "df1d4777",
   "metadata": {
    "lines_to_next_cell": 2
   },
   "outputs": [],
   "source": [
    "isinstance(1.5, int)"
   ]
  },
  {
   "cell_type": "markdown",
   "id": "08353c4e",
   "metadata": {},
   "source": [
    "\u73fe\u5728\u9019\u88e1\u662f\u4e00\u500b\u5e36\u6709\u932f\u8aa4\u6aa2\u67e5\u7684 `factorial` \u7248\u672c\u3002"
   ]
  },
  {
   "cell_type": "code",
   "execution_count": null,
   "id": "2e8dd177",
   "metadata": {
    "lines_to_next_cell": 2
   },
   "outputs": [],
   "source": [
    "def factorial(n_param): # \u8b6f\u8a3b\uff1a\u53c3\u6578\u540d\u4fee\u6539\n",
    "    if not isinstance(n_param, int):\n",
    "        print('\u968e\u4e58\u53ea\u5c0d\u6574\u6578\u6709\u5b9a\u7fa9\u3002') # \u8b6f\u8a3b\uff1a\u5c07\u82f1\u6587\u6539\u70ba\u4e2d\u6587\n",
    "        return None\n",
    "    elif n_param < 0:\n",
    "        print('\u968e\u4e58\u5c0d\u8ca0\u6578\u6c92\u6709\u5b9a\u7fa9\u3002')\n",
    "        return None\n",
    "    elif n_param == 0:\n",
    "        return 1\n",
    "    else:\n",
    "        return n_param * factorial(n_param-1)"
   ]
  },
  {
   "cell_type": "markdown",
   "id": "d26d54c4",
   "metadata": {},
   "source": [
    "\u9996\u5148\u5b83\u6aa2\u67e5 `n_param` \u662f\u5426\u70ba\u6574\u6578\u3002\n",
    "\u5982\u679c\u4e0d\u662f\uff0c\u5b83\u6703\u986f\u793a\u932f\u8aa4\u8a0a\u606f\u4e26\u56de\u50b3 `None`\u3002\n",
    "\n"
   ]
  },
  {
   "cell_type": "code",
   "execution_count": null,
   "id": "34ef4719",
   "metadata": {
    "lines_to_next_cell": 2
   },
   "outputs": [],
   "source": [
    "factorial('\u677e\u8106\u86d9') # \u8b6f\u8a3b\uff1a\u5c07\u82f1\u6587\u6539\u70ba\u4e2d\u6587"
   ]
  },
  {
   "cell_type": "markdown",
   "id": "51345db6",
   "metadata": {},
   "source": [
    "\u7136\u5f8c\u5b83\u6aa2\u67e5 `n_param` \u662f\u5426\u70ba\u8ca0\u6578\u3002\n",
    "\u5982\u679c\u662f\uff0c\u5b83\u6703\u986f\u793a\u932f\u8aa4\u8a0a\u606f\u4e26\u56de\u50b3 `None`\u3002"
   ]
  },
  {
   "cell_type": "code",
   "execution_count": null,
   "id": "59d0cf50",
   "metadata": {
    "lines_to_next_cell": 2
   },
   "outputs": [],
   "source": [
    "factorial(-2)"
   ]
  },
  {
   "cell_type": "markdown",
   "id": "332d9956",
   "metadata": {},
   "source": [
    "\u5982\u679c\u6211\u5011\u901a\u904e\u4e86\u9019\u5169\u500b\u6aa2\u67e5\uff0c\u6211\u5011\u5c31\u77e5\u9053 `n_param` \u662f\u4e00\u500b\u975e\u8ca0\u6574\u6578\uff0c\u6240\u4ee5\u6211\u5011\u53ef\u4ee5\u78ba\u4fe1\u905e\u8ff4\u6703\u7d42\u6b62\u3002\n",
    "\u6aa2\u67e5\u51fd\u5f0f\u7684\u53c3\u6578\u4ee5\u78ba\u4fdd\u5b83\u5011\u5177\u6709\u6b63\u78ba\u7684\u578b\u5225\u548c\u503c\uff0c\u7a31\u70ba **\u8f38\u5165\u9a57\u8b49** (input validation)\u3002"
   ]
  },
  {
   "cell_type": "markdown",
   "id": "41cdb5b8",
   "metadata": {},
   "source": [
    "## \u9664\u932f (Debugging)\n",
    "\n",
    "\u5c07\u4e00\u500b\u5927\u7a0b\u5f0f\u5206\u89e3\u6210\u8f03\u5c0f\u7684\u51fd\u5f0f\uff0c\u70ba\u9664\u932f\u5275\u9020\u4e86\u81ea\u7136\u7684\u6aa2\u67e5\u9ede\u3002\n",
    "\u5982\u679c\u4e00\u500b\u51fd\u5f0f\u7121\u6cd5\u904b\u4f5c\uff0c\u6709\u4e09\u7a2e\u53ef\u80fd\u6027\u9700\u8981\u8003\u616e\uff1a\n",
    "\n",
    "-   \u51fd\u5f0f\u6536\u5230\u7684\u5f15\u6578\u6709\u554f\u984c\u2014\u2014\u4e5f\u5c31\u662f\u8aaa\uff0c\u9055\u53cd\u4e86\u524d\u7f6e\u689d\u4ef6\u3002\n",
    "\n",
    "-   \u51fd\u5f0f\u672c\u8eab\u6709\u554f\u984c\u2014\u2014\u4e5f\u5c31\u662f\u8aaa\uff0c\u9055\u53cd\u4e86\u5f8c\u7f6e\u689d\u4ef6\u3002\n",
    "\n",
    "-   \u547c\u53eb\u8005\u5c0d\u56de\u50b3\u503c\u7684\u8655\u7406\u6709\u554f\u984c\u3002\n",
    "\n",
    "\u8981\u6392\u9664\u7b2c\u4e00\u7a2e\u53ef\u80fd\u6027\uff0c\u4f60\u53ef\u4ee5\u5728\u51fd\u5f0f\u7684\u958b\u982d\u52a0\u5165\u4e00\u500b `print` \u9673\u8ff0\u53e5\uff0c\u986f\u793a\u53c3\u6578\u7684\u503c\uff08\u4e5f\u8a31\u9084\u6709\u5b83\u5011\u7684\u578b\u5225\uff09\u3002\n",
    "\u6216\u8005\u4f60\u53ef\u4ee5\u7de8\u5beb\u660e\u78ba\u6aa2\u67e5\u524d\u7f6e\u689d\u4ef6\u7684\u7a0b\u5f0f\u78bc\u3002\n",
    "\n",
    "\u5982\u679c\u53c3\u6578\u770b\u8d77\u4f86\u6c92\u554f\u984c\uff0c\u4f60\u53ef\u4ee5\u5728\u6bcf\u500b `return` \u9673\u8ff0\u53e5\u4e4b\u524d\u52a0\u5165\u4e00\u500b `print` \u9673\u8ff0\u53e5\uff0c\u4e26\u986f\u793a\u56de\u50b3\u503c\u3002\n",
    "\u5982\u679c\u53ef\u80fd\uff0c\u7528\u5bb9\u6613\u6aa2\u67e5\u7d50\u679c\u7684\u5f15\u6578\u4f86\u547c\u53eb\u51fd\u5f0f\u3002\n",
    "\n",
    "\u5982\u679c\u51fd\u5f0f\u770b\u8d77\u4f86\u904b\u4f5c\u6b63\u5e38\uff0c\u6aa2\u67e5\u51fd\u5f0f\u547c\u53eb\u4ee5\u78ba\u4fdd\u56de\u50b3\u503c\u88ab\u6b63\u78ba\u4f7f\u7528\u2014\u2014\u6216\u8005\u6839\u672c\u6c92\u6709\u88ab\u4f7f\u7528\uff01\n",
    "\n",
    "\u5728\u51fd\u5f0f\u7684\u958b\u982d\u548c\u7d50\u5c3e\u52a0\u5165 `print` \u9673\u8ff0\u53e5\u53ef\u4ee5\u5e6b\u52a9\u4f7f\u57f7\u884c\u6d41\u7a0b\u66f4\u6e05\u6670\u53ef\u898b\u3002\n",
    "\u4f8b\u5982\uff0c\u9019\u88e1\u662f\u4e00\u500b\u5e36\u6709 print \u9673\u8ff0\u53e5\u7684 `factorial` \u7248\u672c\uff1a"
   ]
  },
  {
   "cell_type": "code",
   "execution_count": null,
   "id": "a313f62b",
   "metadata": {
    "lines_to_next_cell": 2
   },
   "outputs": [],
   "source": [
    "def factorial(n_param): # \u8b6f\u8a3b\uff1a\u53c3\u6578\u540d\u4fee\u6539\n",
    "    space = ' ' * (4 * n_param) # \u8b6f\u8a3b\uff1a\u8a08\u7b97\u7e2e\u6392\u7a7a\u683c\u6578\n",
    "    print(space, 'factorial', n_param)\n",
    "    if n_param == 0:\n",
    "        print(space, '\u56de\u50b3 1') # \u8b6f\u8a3b\uff1a\u5c07\u82f1\u6587\u6539\u70ba\u4e2d\u6587\n",
    "        return 1\n",
    "    else:\n",
    "        recurse_result = factorial(n_param-1) # \u8b6f\u8a3b\uff1a\u8b8a\u6578\u540d\u4fee\u6539\n",
    "        result_val = n_param * recurse_result # \u8b6f\u8a3b\uff1a\u8b8a\u6578\u540d\u4fee\u6539\n",
    "        print(space, '\u56de\u50b3', result_val)\n",
    "        return result_val"
   ]
  },
  {
   "cell_type": "markdown",
   "id": "238bf204",
   "metadata": {},
   "source": [
    "`space` \u662f\u4e00\u500b\u7531\u7a7a\u683c\u5b57\u5143\u7d44\u6210\u7684\u5b57\u4e32\uff0c\u7528\u4f86\u63a7\u5236\u8f38\u51fa\u7684\u7e2e\u6392\u3002\n",
    "\u9019\u662f `factorial(3)` \u7684\u7d50\u679c\uff1a"
   ]
  },
  {
   "cell_type": "code",
   "execution_count": null,
   "id": "3edd9378",
   "metadata": {
    "lines_to_next_cell": 2
   },
   "outputs": [],
   "source": [
    "factorial(3)"
   ]
  },
  {
   "cell_type": "markdown",
   "id": "b821e18f",
   "metadata": {},
   "source": [
    "\u5982\u679c\u4f60\u5c0d\u57f7\u884c\u6d41\u7a0b\u611f\u5230\u56f0\u60d1\uff0c\u9019\u7a2e\u8f38\u51fa\u53ef\u80fd\u6703\u6709\u6240\u5e6b\u52a9\u3002\n",
    "\u958b\u767c\u6709\u6548\u7684\u9df9\u67b6\u9700\u8981\u4e00\u4e9b\u6642\u9593\uff0c\u4f46\u662f\u4e00\u9ede\u9ede\u9df9\u67b6\u53ef\u4ee5\u7bc0\u7701\u5927\u91cf\u7684\u9664\u932f\u6642\u9593\u3002"
   ]
  },
  {
   "cell_type": "markdown",
   "id": "25178452",
   "metadata": {},
   "source": [
    "## \u8a5e\u5f59\u8868\n",
    "\n",
    "**\u56de\u50b3\u503c (return value):**\n",
    "\u51fd\u5f0f\u7684\u7d50\u679c\u3002\u5982\u679c\u51fd\u5f0f\u547c\u53eb\u88ab\u7528\u4f5c\u904b\u7b97\u5f0f\uff0c\u5247\u56de\u50b3\u503c\u662f\u8a72\u904b\u7b97\u5f0f\u7684\u503c\u3002\n",
    "\n",
    "**\u7d14\u51fd\u5f0f (pure function):**\n",
    "\u4e00\u500b\u4e0d\u986f\u793a\u4efb\u4f55\u5167\u5bb9\u6216\u5177\u6709\u4efb\u4f55\u5176\u4ed6\u6548\u679c\uff08\u9664\u4e86\u56de\u50b3\u56de\u50b3\u503c\uff09\u7684\u51fd\u5f0f\u3002\n",
    "\n",
    "**\u7121\u6548\u7a0b\u5f0f\u78bc (dead code) / \u6b7b\u78bc:**\n",
    "\u7a0b\u5f0f\u4e2d\u6c38\u9060\u7121\u6cd5\u57f7\u884c\u7684\u90e8\u5206\uff0c\u901a\u5e38\u662f\u56e0\u70ba\u5b83\u51fa\u73fe\u5728 `return` \u9673\u8ff0\u53e5\u4e4b\u5f8c\u3002\n",
    "\n",
    "**\u6f38\u9032\u5f0f\u958b\u767c (incremental development):**\n",
    "\u4e00\u7a2e\u7a0b\u5f0f\u958b\u767c\u8a08\u756b\uff0c\u65e8\u5728\u900f\u904e\u4e00\u6b21\u53ea\u589e\u52a0\u548c\u6e2c\u8a66\u5c11\u91cf\u7a0b\u5f0f\u78bc\u4f86\u907f\u514d\u9664\u932f\u3002\n",
    "\n",
    "**\u9df9\u67b6 (scaffolding):**\n",
    " \u5728\u7a0b\u5f0f\u958b\u767c\u904e\u7a0b\u4e2d\u4f7f\u7528\u7684\u7a0b\u5f0f\u78bc\uff0c\u4f46\u4e0d\u662f\u6700\u7d42\u7248\u672c\u7684\u4e00\u90e8\u5206\u3002\n",
    "\n",
    "**\u5716\u9748\u5b8c\u5099 (Turing complete):**\n",
    "\u5982\u679c\u4e00\u7a2e\u8a9e\u8a00\u6216\u8a9e\u8a00\u7684\u5b50\u96c6\u53ef\u4ee5\u57f7\u884c\u4efb\u4f55\u53ef\u4ee5\u7528\u6f14\u7b97\u6cd5\u63cf\u8ff0\u7684\u8a08\u7b97\uff0c\u5247\u7a31\u5176\u70ba\u5716\u9748\u5b8c\u5099\u3002\n",
    "\n",
    "**\u8f38\u5165\u9a57\u8b49 (input validation):**\n",
    "\u6aa2\u67e5\u51fd\u5f0f\u7684\u53c3\u6578\u4ee5\u78ba\u4fdd\u5b83\u5011\u5177\u6709\u6b63\u78ba\u7684\u578b\u5225\u548c\u503c\u3002"
   ]
  },
  {
   "cell_type": "markdown",
   "id": "08076e86",
   "metadata": {},
   "source": [
    "## \u7df4\u7fd2"
   ]
  },
  {
   "cell_type": "markdown",
   "id": "8ab46119",
   "metadata": {},
   "source": [
    "\u9019\u500b\u5132\u5b58\u683c\u544a\u8a34 Jupyter \u5728\u767c\u751f\u57f7\u884c\u671f\u932f\u8aa4\u6642\u63d0\u4f9b\u8a73\u7d30\u7684\u9664\u932f\u8cc7\u8a0a\u3002\n",
    "\u5728\u505a\u7df4\u7fd2\u4e4b\u524d\u5148\u57f7\u884c\u5b83\u3002"
   ]
  },
  {
   "cell_type": "code",
   "execution_count": null,
   "id": "f0b02ca5",
   "metadata": {
    "lines_to_next_cell": 2
   },
   "outputs": [],
   "source": [
    "get_ipython().run_line_magic('xmode', 'Verbose')"
   ]
  },
  {
   "cell_type": "markdown",
   "id": "c2974e79",
   "metadata": {},
   "source": [
    "### \u554f\u554f\u865b\u64ec\u52a9\u7406\n",
    "\n",
    "\u5728\u672c\u7ae0\u4e2d\uff0c\u6211\u5011\u770b\u5230\u4e86\u4e00\u500b\u4e0d\u6b63\u78ba\u7684\u51fd\u5f0f\uff0c\u5b83\u53ef\u80fd\u5728\u6c92\u6709\u56de\u50b3\u503c\u7684\u60c5\u6cc1\u4e0b\u7d50\u675f\u3002"
   ]
  },
  {
   "cell_type": "code",
   "execution_count": null,
   "id": "b85af703",
   "metadata": {
    "lines_to_next_cell": 2
   },
   "outputs": [],
   "source": [
    "def absolute_value_wrong(x_val): # \u8b6f\u8a3b\uff1a\u53c3\u6578\u540d\u4fee\u6539\n",
    "    if x_val < 0:\n",
    "        return -x_val\n",
    "    if x_val > 0:\n",
    "        return x_val"
   ]
  },
  {
   "cell_type": "markdown",
   "id": "d5e72e91",
   "metadata": {},
   "source": [
    "\u4ee5\u53ca\u540c\u4e00\u500b\u51fd\u5f0f\u7684\u53e6\u4e00\u500b\u7248\u672c\uff0c\u5176\u672b\u5c3e\u6709\u6b7b\u78bc\u3002"
   ]
  },
  {
   "cell_type": "code",
   "execution_count": null,
   "id": "98fda015",
   "metadata": {
    "lines_to_next_cell": 2
   },
   "outputs": [],
   "source": [
    "def absolute_value_extra_return(x_val): # \u8b6f\u8a3b\uff1a\u53c3\u6578\u540d\u4fee\u6539\n",
    "    if x_val < 0:\n",
    "        return -x_val\n",
    "    else:\n",
    "        return x_val\n",
    "\n",
    "    return '\u9019\u662f\u6c38\u9060\u57f7\u884c\u4e0d\u5230\u7684\u7a0b\u5f0f\u78bc\u3002' # \u8b6f\u8a3b\uff1a\u5c07\u82f1\u6587\u6539\u70ba\u4e2d\u6587"
   ]
  },
  {
   "cell_type": "markdown",
   "id": "0b61ab6c",
   "metadata": {},
   "source": [
    "\u6211\u5011\u9084\u770b\u5230\u4e86\u4ee5\u4e0b\u7bc4\u4f8b\uff0c\u5b83\u662f\u6b63\u78ba\u7684\uff0c\u4f46\u4e0d\u7b26\u5408\u6163\u7528\u5beb\u6cd5\u3002"
   ]
  },
  {
   "cell_type": "code",
   "execution_count": null,
   "id": "e910b817",
   "metadata": {
    "lines_to_next_cell": 2
   },
   "outputs": [],
   "source": [
    "def is_divisible(x_val, y_val): # \u8b6f\u8a3b\uff1a\u53c3\u6578\u540d\u4fee\u6539\n",
    "    if x_val % y_val == 0:\n",
    "        return True\n",
    "    else:\n",
    "        return False"
   ]
  },
  {
   "cell_type": "markdown",
   "id": "01f356ca",
   "metadata": {},
   "source": [
    "\u554f\u865b\u64ec\u52a9\u7406\u9019\u4e9b\u51fd\u5f0f\u5404\u6709\u4ec0\u9ebc\u554f\u984c\uff0c\u770b\u770b\u5b83\u662f\u5426\u80fd\u627e\u51fa\u932f\u8aa4\u6216\u6539\u9032\u98a8\u683c\u3002\n",
    "\n",
    "\u7136\u5f8c\u554f\uff1a\u300c\u5beb\u4e00\u500b\u51fd\u5f0f\uff0c\u5b83\u63a5\u53d7\u5169\u9ede\u7684\u5ea7\u6a19\u4e26\u8a08\u7b97\u5b83\u5011\u4e4b\u9593\u7684\u8ddd\u96e2\u3002\u300d\u770b\u770b\u7d50\u679c\u662f\u5426\u8207\u6211\u5011\u5728\u672c\u7ae0\u4e2d\u7de8\u5beb\u7684 `distance` \u7248\u672c\u76f8\u4f3c\u3002"
   ]
  },
  {
   "cell_type": "markdown",
   "id": "84cc3274",
   "metadata": {},
   "source": [
    "### \u7df4\u7fd2\n",
    "\n",
    "\u4f7f\u7528\u6f38\u9032\u5f0f\u958b\u767c\u4f86\u7de8\u5beb\u4e00\u500b\u540d\u70ba `hypot` \u7684\u51fd\u5f0f\uff0c\u8a72\u51fd\u5f0f\u5728\u7d66\u5b9a\u76f4\u89d2\u4e09\u89d2\u5f62\u53e6\u5916\u5169\u689d\u908a\u7684\u9577\u5ea6\u4f5c\u70ba\u5f15\u6578\u7684\u60c5\u6cc1\u4e0b\uff0c\u56de\u50b3\u659c\u908a\u7684\u9577\u5ea6\u3002\n",
    "\n",
    "\u6ce8\u610f\uff1amath \u6a21\u7d44\u4e2d\u6709\u4e00\u500b\u540d\u70ba `hypot` \u7684\u51fd\u5f0f\u53ef\u4ee5\u505a\u540c\u6a23\u7684\u4e8b\u60c5\uff0c\u4f46\u4f60\u4e0d\u61c9\u8a72\u5728\u672c\u7df4\u7fd2\u4e2d\u4f7f\u7528\u5b83\uff01\n",
    "\n",
    "\u5373\u4f7f\u4f60\u7b2c\u4e00\u6b21\u5c31\u80fd\u6b63\u78ba\u7de8\u5beb\u51fd\u5f0f\uff0c\u4e5f\u8981\u5f9e\u4e00\u500b\u7e3d\u662f\u56de\u50b3 `0` \u7684\u51fd\u5f0f\u958b\u59cb\uff0c\u4e26\u7df4\u7fd2\u9032\u884c\u5c0f\u7684\u66f4\u6539\uff0c\u908a\u505a\u908a\u6e2c\u8a66\u3002\n",
    "\u5b8c\u6210\u5f8c\uff0c\u51fd\u5f0f\u61c9\u8a72\u53ea\u56de\u50b3\u4e00\u500b\u503c\u2014\u2014\u5b83\u4e0d\u61c9\u8a72\u986f\u793a\u4efb\u4f55\u6771\u897f\u3002"
   ]
  },
  {
   "cell_type": "markdown",
   "id": "28112651",
   "metadata": {},
   "source": [
    "\u89e3\u7b54 (\u7b2c\u4e00\u6b65\uff1a\u57fa\u672c\u6846\u67b6)"
   ]
  },
  {
   "cell_type": "code",
   "execution_count": null,
   "id": "742cc823",
   "metadata": {
    "lines_to_next_cell": 2
   },
   "outputs": [],
   "source": [
    "def hypot(a, b):\n",
    "    return 0.0 # \u8b6f\u8a3b\uff1a\u56de\u50b3\u6d6e\u9ede\u6578 0.0 \u6bd4\u8f03\u7b26\u5408\u8ddd\u96e2\u7684\u6982\u5ff5"
   ]
  },
  {
   "cell_type": "markdown",
   "id": "e9246e9c",
   "metadata": {},
   "source": [
    "\u89e3\u7b54 (\u6e2c\u8a66\u7b2c\u4e00\u6b65)"
   ]
  },
  {
   "cell_type": "code",
   "execution_count": null,
   "id": "8a1d2e1b",
   "metadata": {
    "lines_to_next_cell": 2
   },
   "outputs": [],
   "source": [
    "hypot(3, 4)"
   ]
  },
  {
   "cell_type": "markdown",
   "id": "432e955f",
   "metadata": {},
   "source": [
    "\u89e3\u7b54 (\u7b2c\u4e8c\u6b65\uff1a\u8a08\u7b97\u5e73\u65b9\u548c\u4e26\u5370\u51fa)"
   ]
  },
  {
   "cell_type": "code",
   "execution_count": null,
   "id": "54bed639",
   "metadata": {
    "lines_to_next_cell": 2
   },
   "outputs": [],
   "source": [
    "def hypot(a, b):\n",
    "    d_squared = a**2 + b**2 # \u8b6f\u8a3b\uff1a\u8b8a\u6578\u540d d2 \u6539\u70ba d_squared\n",
    "    print(\"\u5e73\u65b9\u548c\u662f:\", d_squared) # \u8b6f\u8a3b\uff1a\u52a0\u5165 print \u65b9\u4fbf\u9664\u932f\uff0c\u4e26\u6539\u70ba\u4e2d\u6587\n",
    "    return 0.0"
   ]
  },
  {
   "cell_type": "markdown",
   "id": "2e587b2c",
   "metadata": {},
   "source": [
    "\u89e3\u7b54 (\u6e2c\u8a66\u7b2c\u4e8c\u6b65)"
   ]
  },
  {
   "cell_type": "code",
   "execution_count": null,
   "id": "fcd4cf3a",
   "metadata": {
    "lines_to_next_cell": 2
   },
   "outputs": [],
   "source": [
    "hypot(3, 4)"
   ]
  },
  {
   "cell_type": "markdown",
   "id": "57898e17",
   "metadata": {},
   "source": [
    "\u89e3\u7b54 (\u7b2c\u4e09\u6b65\uff1a\u8a08\u7b97\u5e73\u65b9\u6839\u4e26\u5370\u51fa)"
   ]
  },
  {
   "cell_type": "code",
   "execution_count": null,
   "id": "93ed99c8",
   "metadata": {
    "lines_to_next_cell": 2
   },
   "outputs": [],
   "source": [
    "def hypot(a, b):\n",
    "    d_squared = a**2 + b**2\n",
    "    result_val = math.sqrt(d_squared) # \u8b6f\u8a3b\uff1a\u8b8a\u6578\u540d\u6539\u70ba result_val\n",
    "    print(\"\u659c\u908a\u9577\u662f:\", result_val) # \u8b6f\u8a3b\uff1a\u52a0\u5165 print \u65b9\u4fbf\u9664\u932f\uff0c\u4e26\u6539\u70ba\u4e2d\u6587\n",
    "    return 0.0"
   ]
  },
  {
   "cell_type": "markdown",
   "id": "4d419151",
   "metadata": {},
   "source": [
    "\u89e3\u7b54 (\u6e2c\u8a66\u7b2c\u4e09\u6b65)"
   ]
  },
  {
   "cell_type": "code",
   "execution_count": null,
   "id": "c4e79517",
   "metadata": {
    "lines_to_next_cell": 2
   },
   "outputs": [],
   "source": [
    "hypot(3, 4)"
   ]
  },
  {
   "cell_type": "markdown",
   "id": "e25e7c53",
   "metadata": {},
   "source": [
    "\u89e3\u7b54 (\u7b2c\u56db\u6b65\uff1a\u56de\u50b3\u7d50\u679c\uff0c\u79fb\u9664 print)"
   ]
  },
  {
   "cell_type": "code",
   "execution_count": null,
   "id": "dcb6dbc5",
   "metadata": {
    "lines_to_next_cell": 2
   },
   "outputs": [],
   "source": [
    "def hypot(a, b):\n",
    "    d_squared = a**2 + b**2\n",
    "    result_val = math.sqrt(d_squared)\n",
    "    return result_val"
   ]
  },
  {
   "cell_type": "markdown",
   "id": "7da2723c",
   "metadata": {},
   "source": [
    "\u89e3\u7b54 (\u6e2c\u8a66\u7b2c\u56db\u6b65)"
   ]
  },
  {
   "cell_type": "code",
   "execution_count": null,
   "id": "9d8fe652",
   "metadata": {
    "lines_to_next_cell": 2
   },
   "outputs": [],
   "source": [
    "hypot(3, 4)"
   ]
  },
  {
   "cell_type": "markdown",
   "id": "9f437958",
   "metadata": {},
   "source": [
    "\u89e3\u7b54 (\u66f8\u4e2d\u63d0\u4f9b\u7684\u53e6\u4e00\u7a2e\u7c21\u6f54\u5beb\u6cd5\uff0c\u4f46\u7df4\u7fd2\u8981\u6c42\u6f38\u9032\u5f0f\u958b\u767c)"
   ]
  },
  {
   "cell_type": "code",
   "execution_count": null,
   "id": "e716fa50",
   "metadata": {
    "lines_to_next_cell": 2
   },
   "outputs": [],
   "source": [
    "def hypotenuse(a, b): # \u8b6f\u8a3b\uff1a\u51fd\u5f0f\u540d\u4e0d\u540c\uff0c\u4f5c\u70ba\u5c0d\u6bd4\n",
    "    return math.sqrt(a**2 + b**2)"
   ]
  },
  {
   "cell_type": "markdown",
   "id": "bb08e64d",
   "metadata": {},
   "source": [
    "\u89e3\u7b54 (\u518d\u6b21\u6e2c\u8a66\u6211\u5011\u7684 hypot \u51fd\u5f0f)"
   ]
  },
  {
   "cell_type": "code",
   "execution_count": null,
   "id": "7fc0b06f",
   "metadata": {
    "lines_to_next_cell": 2
   },
   "outputs": [],
   "source": [
    "hypot(3, 4)"
   ]
  },
  {
   "cell_type": "markdown",
   "id": "513fed58",
   "metadata": {},
   "source": [
    "### \u7df4\u7fd2\n",
    "\n",
    "\u7de8\u5beb\u4e00\u500b\u5e03\u6797\u51fd\u5f0f `is_between(x, y, z)`\uff0c\u5982\u679c $x < y < z$ \u6216\u8005 $z < y < x$\uff0c\u5247\u56de\u50b3 `True`\uff0c\u5426\u5247\u56de\u50b3 `False`\u3002\n",
    "(\u8b6f\u8a3b\uff1a\u610f\u601d\u662f y \u662f\u5426\u5728 x \u548c z \u4e4b\u9593\uff0c\u4e0d\u5305\u542b\u7b49\u65bc\u7684\u60c5\u6cc1)"
   ]
  },
  {
   "cell_type": "markdown",
   "id": "3843f5c8",
   "metadata": {},
   "source": [
    "\u89e3\u7b54"
   ]
  },
  {
   "cell_type": "code",
   "execution_count": null,
   "id": "dba00939",
   "metadata": {
    "lines_to_next_cell": 2
   },
   "outputs": [],
   "source": [
    "def is_between(x_val, y_val, z_val): # \u8b6f\u8a3b\uff1a\u53c3\u6578\u540d\u4fee\u6539\n",
    "    if x_val < y_val < z_val:\n",
    "        return True\n",
    "    # elif z_val < y_val < x_val: # \u8b6f\u8a3b\uff1a\u539f\u6587 else \u689d\u4ef6\u4e0d\u5b8c\u6574\uff0c\u61c9\u70ba elif\n",
    "    #     return True\n",
    "    # else:\n",
    "    #     return False\n",
    "    # \u8b6f\u8a3b\uff1a\u66f4\u7c21\u6f54\u7684\u5beb\u6cd5\u53ef\u4ee5\u662f\u76f4\u63a5\u56de\u50b3\u6bd4\u8f03\u7d50\u679c\n",
    "    return (x_val < y_val < z_val) or (z_val < y_val < x_val)"
   ]
  },
  {
   "cell_type": "markdown",
   "id": "e492fa94",
   "metadata": {},
   "source": [
    "\u4f60\u53ef\u4ee5\u4f7f\u7528\u9019\u4e9b\u7bc4\u4f8b\u4f86\u6e2c\u8a66\u4f60\u7684\u51fd\u5f0f\u3002"
   ]
  },
  {
   "cell_type": "code",
   "execution_count": null,
   "id": "c36fbee7",
   "metadata": {
    "lines_to_next_cell": 2
   },
   "outputs": [],
   "source": [
    "is_between(1, 2, 3)  # \u61c9\u8a72\u662f True"
   ]
  },
  {
   "cell_type": "code",
   "execution_count": null,
   "id": "75f3a644",
   "metadata": {
    "lines_to_next_cell": 2
   },
   "outputs": [],
   "source": [
    "is_between(3, 2, 1)  # \u61c9\u8a72\u662f True"
   ]
  },
  {
   "cell_type": "code",
   "execution_count": null,
   "id": "f822e257",
   "metadata": {
    "lines_to_next_cell": 2
   },
   "outputs": [],
   "source": [
    "is_between(1, 3, 2)  # \u61c9\u8a72\u662f False"
   ]
  },
  {
   "cell_type": "code",
   "execution_count": null,
   "id": "f76cec1e",
   "metadata": {
    "lines_to_next_cell": 2
   },
   "outputs": [],
   "source": [
    "is_between(2, 3, 1)  # \u61c9\u8a72\u662f False"
   ]
  },
  {
   "cell_type": "markdown",
   "id": "e2b04f1f",
   "metadata": {},
   "source": [
    "### \u7df4\u7fd2\n",
    "\n",
    "\u963f\u514b\u66fc\u51fd\u5f0f (Ackermann function) $A(m, n)$ \u7684\u5b9a\u7fa9\u5982\u4e0b\uff1a\n",
    "\n",
    "$$\\begin{aligned}\n",
    "A(m, n) = \\begin{cases}\n",
    "              n+1 & \\mbox{\u5982\u679c } m = 0 \\\\\n",
    "        A(m-1, 1) & \\mbox{\u5982\u679c } m > 0 \\mbox{ \u4e14 } n = 0 \\\\\n",
    "A(m-1, A(m, n-1)) & \\mbox{\u5982\u679c } m > 0 \\mbox{ \u4e14 } n > 0.\n",
    "\\end{cases}\n",
    "\\end{aligned}$$\n",
    "\n",
    "\u7de8\u5beb\u4e00\u500b\u540d\u70ba `ackermann` \u7684\u51fd\u5f0f\u4f86\u8a55\u4f30\u963f\u514b\u66fc\u51fd\u5f0f\u3002\n",
    "\u5982\u679c\u4f60\u547c\u53eb `ackermann(5, 5)` \u6703\u767c\u751f\u4ec0\u9ebc\u4e8b\uff1f\n",
    "(\u8b6f\u8a3b\uff1a\u963f\u514b\u66fc\u51fd\u5f0f\u589e\u9577\u975e\u5e38\u5feb\uff0c\u5373\u4f7f\u662f\u5f88\u5c0f\u7684\u8f38\u5165\u503c\uff0c\u4e5f\u53ef\u80fd\u5c0e\u81f4\u905e\u8ff4\u6df1\u5ea6\u904e\u5927\u6216\u8a08\u7b97\u6642\u9593\u904e\u9577\u3002)"
   ]
  },
  {
   "cell_type": "markdown",
   "id": "0088b8fd",
   "metadata": {},
   "source": [
    "\u89e3\u7b54"
   ]
  },
  {
   "cell_type": "code",
   "execution_count": null,
   "id": "363329c4",
   "metadata": {
    "lines_to_next_cell": 2
   },
   "outputs": [],
   "source": [
    "def ackermann(m_param, n_param): # \u8b6f\u8a3b\uff1a\u53c3\u6578\u540d\u4fee\u6539\n",
    "    \"\"\"\u8a08\u7b97\u963f\u514b\u66fc\u51fd\u5f0f A(m, n)\n",
    "\n",
    "    \u53c3\u8003 http://en.wikipedia.org/wiki/Ackermann_function\n",
    "\n",
    "    n_param, m_param: \u975e\u8ca0\u6574\u6578\n",
    "    \"\"\"\n",
    "    if not isinstance(m_param, int) or not isinstance(n_param, int):\n",
    "        print(\"\u963f\u514b\u66fc\u51fd\u5f0f\u53ea\u5c0d\u6574\u6578\u6709\u5b9a\u7fa9\u3002\")\n",
    "        return None\n",
    "    if m_param < 0 or n_param < 0:\n",
    "        print(\"\u963f\u514b\u66fc\u51fd\u5f0f\u53ea\u5c0d\u975e\u8ca0\u6574\u6578\u6709\u5b9a\u7fa9\u3002\")\n",
    "        return None\n",
    "\n",
    "    if m_param == 0:\n",
    "        return n_param + 1\n",
    "    if n_param == 0: # \u8b6f\u8a3b\uff1a\u539f\u6587\u6b64\u8655\u689d\u4ef6\u70ba m > 0 and n == 0\uff0c\u4f46\u56e0 m==0 \u5df2\u8655\u7406\uff0c\u6545\u7c21\u5316\n",
    "        return ackermann(m_param - 1, 1)\n",
    "    # \u8b6f\u8a3b\uff1a\u539f\u6587\u6b64\u8655\u689d\u4ef6\u70ba m > 0 and n > 0\uff0c\u540c\u7406\u53ef\u7c21\u5316\n",
    "    return ackermann(m_param - 1, ackermann(m_param, n_param - 1))"
   ]
  },
  {
   "cell_type": "markdown",
   "id": "5eafbba8",
   "metadata": {},
   "source": [
    "\u4f60\u53ef\u4ee5\u4f7f\u7528\u9019\u4e9b\u7bc4\u4f8b\u4f86\u6e2c\u8a66\u4f60\u7684\u51fd\u5f0f\u3002"
   ]
  },
  {
   "cell_type": "code",
   "execution_count": null,
   "id": "53948d53",
   "metadata": {
    "lines_to_next_cell": 2
   },
   "outputs": [],
   "source": [
    "ackermann(3, 2)  # \u61c9\u8a72\u662f 29"
   ]
  },
  {
   "cell_type": "code",
   "execution_count": null,
   "id": "a26e8454",
   "metadata": {
    "lines_to_next_cell": 2
   },
   "outputs": [],
   "source": [
    "ackermann(3, 3)  # \u61c9\u8a72\u662f 61"
   ]
  },
  {
   "cell_type": "code",
   "execution_count": null,
   "id": "e16fc846",
   "metadata": {
    "lines_to_next_cell": 2
   },
   "outputs": [],
   "source": [
    "ackermann(3, 4)  # \u61c9\u8a72\u662f 125"
   ]
  },
  {
   "cell_type": "markdown",
   "id": "6cd93c85",
   "metadata": {},
   "source": [
    "\u5982\u679c\u4f60\u7528\u5927\u65bc 4 \u7684\u503c\u547c\u53eb\u6b64\u51fd\u5f0f\uff0c\u4f60\u6703\u5f97\u5230\u4e00\u500b `RecursionError`\u3002\n",
    "(\u8b6f\u8a3b\uff1a\u5c0d\u65bc (3,4) \u5df2\u7d93\u975e\u5e38\u63a5\u8fd1\u6975\u9650\uff0c(4,1) \u5c31\u53ef\u80fd\u8d85\u51fa\u4e86\uff0c(5,5) \u80af\u5b9a\u6703\u3002)"
   ]
  },
  {
   "cell_type": "markdown",
   "id": "507de940",
   "metadata": {
    "lines_to_next_cell": 2
   },
   "source": [
    "get_ipython().run_cell_magic('expect', 'RecursionError', '\\nackermann(5, 5)\\n')\n",
    "\u8b6f\u8a3b\uff1a\u9810\u671f RecursionError"
   ]
  },
  {
   "cell_type": "markdown",
   "id": "887576f8",
   "metadata": {},
   "source": [
    "\u8981\u4e86\u89e3\u539f\u56e0\uff0c\u8acb\u5728\u51fd\u5f0f\u958b\u982d\u52a0\u5165\u4e00\u500b print \u9673\u8ff0\u53e5\u4f86\u986f\u793a\u53c3\u6578\u7684\u503c\uff0c\u7136\u5f8c\u518d\u6b21\u57f7\u884c\u7bc4\u4f8b\u3002"
   ]
  },
  {
   "cell_type": "markdown",
   "id": "e8042293",
   "metadata": {},
   "source": [
    "### \u7df4\u7fd2\n",
    "\n",
    "\u5982\u679c\u4e00\u500b\u6578\u5b57 $a$ \u53ef\u4ee5\u88ab $b$ \u6574\u9664\uff0c\u4e26\u4e14 $a/b$\n",
    "\u4e5f\u662f $b$ \u7684\u6b21\u65b9\uff0c\u90a3\u9ebc $a$ \u5c31\u662f $b$ \u7684\u6b21\u65b9\u3002\u7de8\u5beb\u4e00\u500b\u540d\u70ba `is_power` \u7684\u51fd\u5f0f\uff0c\u5b83\u63a5\u53d7\u53c3\u6578\n",
    "`a` \u548c `b`\uff0c\u5982\u679c `a` \u662f `b` \u7684\u6b21\u65b9\uff0c\u5247\u56de\u50b3 `True`\u3002\u6ce8\u610f\uff1a\u4f60\n",
    "\u9700\u8981\u8003\u616e\u57fa\u790e\u6848\u4f8b\u3002\n",
    "(\u8b6f\u8a3b\uff1a\u4f8b\u5982 8 \u662f 2 \u7684\u6b21\u65b9\uff0c\u56e0\u70ba 8/2=4\uff0c4/2=2\uff0c2/2=1\u3002\u57fa\u790e\u6848\u4f8b\u662f a=1\u3002)"
   ]
  },
  {
   "cell_type": "markdown",
   "id": "75a995f0",
   "metadata": {},
   "source": [
    "\u89e3\u7b54"
   ]
  },
  {
   "cell_type": "code",
   "execution_count": null,
   "id": "82f13fea",
   "metadata": {
    "lines_to_next_cell": 2
   },
   "outputs": [],
   "source": [
    "def is_power(a_val, b_val): # \u8b6f\u8a3b\uff1a\u53c3\u6578\u540d\u4fee\u6539\n",
    "    \"\"\"\u6aa2\u67e5 a_val \u662f\u5426\u70ba b_val \u7684\u6b21\u65b9\n",
    "    \"\"\"\n",
    "    # \u8f38\u5165\u9a57\u8b49\n",
    "    if not (isinstance(a_val, (int, float)) and isinstance(b_val, (int, float))):\n",
    "        print(\"\u8f38\u5165\u5fc5\u9808\u662f\u6578\u5b57\u3002\")\n",
    "        return False\n",
    "    if b_val == 0:\n",
    "        return a_val == 0 # 0 \u7684 0 \u6b21\u65b9\u672a\u5b9a\u7fa9\uff0c\u4f46 0 \u7684\u6b63\u6578\u6b21\u65b9\u662f 0\n",
    "    if b_val == 1:\n",
    "        return a_val == 1 # 1 \u7684\u4efb\u4f55\u6b21\u65b9\u90fd\u662f 1 (\u9664\u4e86 0 \u6b21\u65b9)\n",
    "\n",
    "    # \u57fa\u790e\u6848\u4f8b\n",
    "    if a_val == 1: # \u4efb\u4f55\u6578\u7684 0 \u6b21\u65b9\u662f 1 (\u9664\u4e86 0 \u7684 0 \u6b21\u65b9)\n",
    "        return True\n",
    "    if a_val < 1 or a_val < b_val : # \u5982\u679c a \u5c0f\u65bc b (\u4e14 a \u4e0d\u662f 1)\uff0c\u6216\u8005 a \u4e0d\u662f\u6b63\u6578\uff0c\u5247\u4e0d\u53ef\u80fd\u662f b \u7684\u6b21\u65b9\n",
    "        return False\n",
    "\n",
    "    # \u905e\u8ff4\u6b65\u9a5f\n",
    "    if is_divisible(a_val, b_val): # is_divisible \u662f\u4e4b\u524d\u5b9a\u7fa9\u7684\u51fd\u5f0f\n",
    "        return is_power(a_val / b_val, b_val)\n",
    "    else:\n",
    "        return False"
   ]
  },
  {
   "cell_type": "markdown",
   "id": "d81fa587",
   "metadata": {},
   "source": [
    "\u4f60\u53ef\u4ee5\u4f7f\u7528\u9019\u4e9b\u7bc4\u4f8b\u4f86\u6e2c\u8a66\u4f60\u7684\u51fd\u5f0f\u3002"
   ]
  },
  {
   "cell_type": "code",
   "execution_count": null,
   "id": "2e67d9b8",
   "metadata": {
    "lines_to_next_cell": 2
   },
   "outputs": [],
   "source": [
    "is_power(65536, 2)   # \u61c9\u8a72\u662f True (2^16)"
   ]
  },
  {
   "cell_type": "code",
   "execution_count": null,
   "id": "3c8920d7",
   "metadata": {
    "lines_to_next_cell": 2
   },
   "outputs": [],
   "source": [
    "is_power(27, 3)  # \u61c9\u8a72\u662f True (3^3)"
   ]
  },
  {
   "cell_type": "code",
   "execution_count": null,
   "id": "15e8ccb9",
   "metadata": {
    "lines_to_next_cell": 2
   },
   "outputs": [],
   "source": [
    "is_power(24, 2)  # \u61c9\u8a72\u662f False"
   ]
  },
  {
   "cell_type": "code",
   "execution_count": null,
   "id": "0f2e334c",
   "metadata": {
    "lines_to_next_cell": 2
   },
   "outputs": [],
   "source": [
    "is_power(1, 17)   # \u61c9\u8a72\u662f True (17^0)"
   ]
  },
  {
   "cell_type": "markdown",
   "id": "c83f1bcc",
   "metadata": {},
   "source": [
    "### \u7df4\u7fd2\n",
    "\n",
    "$a$ \u548c $b$ \u7684\u6700\u5927\u516c\u56e0\u6578 (GCD) \u662f\u6307\u80fd\u5920\u540c\u6642\u6574\u9664\u5b83\u5011\u4e14\u6c92\u6709\u9918\u6578\u7684\u6700\u5927\u6578\u5b57\u3002\n",
    "\n",
    "\u627e\u5230\u5169\u500b\u6578\u5b57\u7684 GCD \u7684\u4e00\u7a2e\u65b9\u6cd5\u662f\u57fa\u65bc\u4ee5\u4e0b\u89c0\u5bdf\uff1a\n",
    "\u5982\u679c $r$ \u662f $a$ \u9664\u4ee5 $b$ \u7684\u9918\u6578\uff0c\u90a3\u9ebc $gcd(a,\n",
    "b) = gcd(b, r)$\u3002\u4f5c\u70ba\u57fa\u790e\u6848\u4f8b\uff0c\u6211\u5011\u53ef\u4ee5\u4f7f\u7528 $gcd(a, 0) = a$\u3002\n",
    "\n",
    "\u7de8\u5beb\u4e00\u500b\u540d\u70ba `gcd` \u7684\u51fd\u5f0f\uff0c\u5b83\u63a5\u53d7\u53c3\u6578 `a` \u548c `b` \u4e26\n",
    "\u56de\u50b3\u5b83\u5011\u7684\u6700\u5927\u516c\u56e0\u6578\u3002"
   ]
  },
  {
   "cell_type": "markdown",
   "id": "a0ed5866",
   "metadata": {},
   "source": [
    "\u89e3\u7b54"
   ]
  },
  {
   "cell_type": "code",
   "execution_count": null,
   "id": "63fb23b2",
   "metadata": {
    "lines_to_next_cell": 2
   },
   "outputs": [],
   "source": [
    "def gcd(a_val, b_val): # \u8b6f\u8a3b\uff1a\u53c3\u6578\u540d\u4fee\u6539\n",
    "    # \u8f38\u5165\u9a57\u8b49 (\u53ef\u9078\uff0c\u4f46\u826f\u597d\u5be6\u8e10)\n",
    "    if not (isinstance(a_val, int) and isinstance(b_val, int)):\n",
    "        print(\"\u8f38\u5165\u5fc5\u9808\u662f\u6574\u6578\u3002\")\n",
    "        return None\n",
    "    if a_val < 0 or b_val < 0:\n",
    "        print(\"\u8f38\u5165\u5fc5\u9808\u662f\u975e\u8ca0\u6574\u6578\u3002\") # \u6b50\u5e7e\u91cc\u5f97\u7b97\u6cd5\u901a\u5e38\u7528\u65bc\u975e\u8ca0\u6574\u6578\n",
    "        # \u53ef\u4ee5\u900f\u904e\u53d6\u7d55\u5c0d\u503c\u4f86\u8655\u7406\u8ca0\u6578\n",
    "        # a_val = abs(a_val)\n",
    "        # b_val = abs(b_val)\n",
    "        return None # \u6216\u8005\u62cb\u51fa\u932f\u8aa4\n",
    "\n",
    "    if b_val == 0:\n",
    "        return a_val\n",
    "    else:\n",
    "        return gcd(b_val, a_val % b_val)"
   ]
  },
  {
   "cell_type": "markdown",
   "id": "b1358832",
   "metadata": {},
   "source": [
    "\u4f60\u53ef\u4ee5\u4f7f\u7528\u9019\u4e9b\u7bc4\u4f8b\u4f86\u6e2c\u8a66\u4f60\u7684\u51fd\u5f0f\u3002"
   ]
  },
  {
   "cell_type": "code",
   "execution_count": null,
   "id": "354ec892",
   "metadata": {
    "lines_to_next_cell": 2
   },
   "outputs": [],
   "source": [
    "gcd(12, 8)    # \u61c9\u8a72\u662f 4"
   ]
  },
  {
   "cell_type": "code",
   "execution_count": null,
   "id": "048fc34c",
   "metadata": {
    "lines_to_next_cell": 2
   },
   "outputs": [],
   "source": [
    "gcd(13, 17)   # \u61c9\u8a72\u662f 1"
   ]
  },
  {
   "cell_type": "markdown",
   "id": "4fb0bb3c",
   "metadata": {},
   "source": [
    "In[ ]:"
   ]
  },
  {
   "cell_type": "markdown",
   "id": "23666330",
   "metadata": {},
   "source": [
    "[Think Python: 3rd Edition](https://allendowney.github.io/ThinkPython/index.html)\n",
    "\n",
    "Copyright 2024 [Allen B. Downey](https://allendowney.com)\n",
    "\n",
    "\u7a0b\u5f0f\u78bc\u6388\u6b0a: [MIT License](https://mit-license.org/)\n",
    "\n",
    "\u6587\u5b57\u6388\u6b0a: [Creative Commons Attribution-NonCommercial-ShareAlike 4.0 International](https://creativecommons.org/licenses/by-nc-sa/4.0/)"
   ]
  }
 ],
 "metadata": {
  "jupytext": {
   "cell_metadata_filter": "-all",
   "comment_magics": false,
   "encoding": "# coding: utf-8",
   "executable": "/usr/bin/env python",
   "main_language": "python"
  }
 },
 "nbformat": 4,
 "nbformat_minor": 5
}